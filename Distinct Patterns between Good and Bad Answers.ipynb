{
 "cells": [
  {
   "cell_type": "markdown",
   "metadata": {},
   "source": [
    "# Import packages"
   ]
  },
  {
   "cell_type": "code",
   "execution_count": 9,
   "metadata": {
    "collapsed": false
   },
   "outputs": [
    {
     "name": "stdout",
     "output_type": "stream",
     "text": [
      "\n"
     ]
    }
   ],
   "source": [
    "import pandas as pd\n",
    "from bs4 import BeautifulSoup\n",
    "import matplotlib.pyplot as plt\n",
    "%matplotlib inline\n",
    "from tqdm import tqdm, tqdm_notebook, tqdm_pandas\n",
    "tqdm_notebook().pandas()"
   ]
  },
  {
   "cell_type": "code",
   "execution_count": 3,
   "metadata": {
    "collapsed": false
   },
   "outputs": [
    {
     "name": "stderr",
     "output_type": "stream",
     "text": [
      "<string>:2: DtypeWarning: Columns (0,1) have mixed types. Specify dtype option on import or set low_memory=False.\n"
     ]
    },
    {
     "name": "stdout",
     "output_type": "stream",
     "text": [
      "CPU times: user 22.6 s, sys: 1.65 s, total: 24.3 s\n",
      "Wall time: 24.3 s\n"
     ]
    }
   ],
   "source": [
    "%time df = pd.read_csv(\"/Users/huangshanhongtao/Downloads/BT4222 Project/Answers_clean.csv\")"
   ]
  },
  {
   "cell_type": "code",
   "execution_count": 4,
   "metadata": {
    "collapsed": false
   },
   "outputs": [
    {
     "data": {
      "text/plain": [
       "(2014531, 8)"
      ]
     },
     "execution_count": 4,
     "metadata": {},
     "output_type": "execute_result"
    }
   ],
   "source": [
    "df.shape"
   ]
  },
  {
   "cell_type": "code",
   "execution_count": 5,
   "metadata": {
    "collapsed": false
   },
   "outputs": [],
   "source": [
    "df = df[df.full_text.notnull()]"
   ]
  },
  {
   "cell_type": "code",
   "execution_count": 6,
   "metadata": {
    "collapsed": false
   },
   "outputs": [
    {
     "data": {
      "text/plain": [
       "(1978899, 8)"
      ]
     },
     "execution_count": 6,
     "metadata": {},
     "output_type": "execute_result"
    }
   ],
   "source": [
    "df.shape"
   ]
  },
  {
   "cell_type": "code",
   "execution_count": 7,
   "metadata": {
    "collapsed": true
   },
   "outputs": [],
   "source": [
    "best_answers = df[df.Score >= 8]"
   ]
  },
  {
   "cell_type": "code",
   "execution_count": 8,
   "metadata": {
    "collapsed": false
   },
   "outputs": [
    {
     "data": {
      "text/plain": [
       "(100570, 8)"
      ]
     },
     "execution_count": 8,
     "metadata": {},
     "output_type": "execute_result"
    }
   ],
   "source": [
    "best_answers.shape"
   ]
  },
  {
   "cell_type": "code",
   "execution_count": 9,
   "metadata": {
    "collapsed": false
   },
   "outputs": [],
   "source": [
    "worst_answers = df[df.Score <= -1]"
   ]
  },
  {
   "cell_type": "code",
   "execution_count": 10,
   "metadata": {
    "collapsed": false
   },
   "outputs": [
    {
     "data": {
      "text/plain": [
       "(33536, 8)"
      ]
     },
     "execution_count": 10,
     "metadata": {},
     "output_type": "execute_result"
    }
   ],
   "source": [
    "worst_answers.shape"
   ]
  },
  {
   "cell_type": "code",
   "execution_count": 11,
   "metadata": {
    "collapsed": false
   },
   "outputs": [],
   "source": [
    "combined = best_answers.append(worst_answers, ignore_index=True).copy()\n",
    "#combined = df.copy()"
   ]
  },
  {
   "cell_type": "code",
   "execution_count": 12,
   "metadata": {
    "collapsed": false
   },
   "outputs": [
    {
     "data": {
      "text/plain": [
       "(134106, 8)"
      ]
     },
     "execution_count": 12,
     "metadata": {},
     "output_type": "execute_result"
    }
   ],
   "source": [
    "combined.shape"
   ]
  },
  {
   "cell_type": "markdown",
   "metadata": {},
   "source": [
    "## Remove hyper links within the cleaned text"
   ]
  },
  {
   "cell_type": "code",
   "execution_count": 13,
   "metadata": {
    "collapsed": true
   },
   "outputs": [],
   "source": [
    "import re\n",
    "\n",
    "def remove_link(text):\n",
    "    text = re.sub(r\"http\\S+\", '', text)\n",
    "    return text"
   ]
  },
  {
   "cell_type": "code",
   "execution_count": 14,
   "metadata": {
    "collapsed": true
   },
   "outputs": [],
   "source": [
    "combined['cleaned'] = combined.full_text.apply(remove_link)"
   ]
  },
  {
   "cell_type": "markdown",
   "metadata": {},
   "source": [
    "## Count number of words"
   ]
  },
  {
   "cell_type": "code",
   "execution_count": 15,
   "metadata": {
    "collapsed": false
   },
   "outputs": [],
   "source": [
    "from textstat.textstat import textstat"
   ]
  },
  {
   "cell_type": "code",
   "execution_count": 16,
   "metadata": {
    "collapsed": false
   },
   "outputs": [],
   "source": [
    "combined['no_of_words'] = combined.cleaned.apply(textstat.lexicon_count)"
   ]
  },
  {
   "cell_type": "markdown",
   "metadata": {},
   "source": [
    "## Count number of sentences"
   ]
  },
  {
   "cell_type": "code",
   "execution_count": 17,
   "metadata": {
    "collapsed": false
   },
   "outputs": [],
   "source": [
    "combined['no_of_sent'] = combined.cleaned.apply(textstat.sentence_count)"
   ]
  },
  {
   "cell_type": "markdown",
   "metadata": {},
   "source": [
    "## Drop useless columns"
   ]
  },
  {
   "cell_type": "code",
   "execution_count": 18,
   "metadata": {
    "collapsed": true
   },
   "outputs": [],
   "source": [
    "combined.drop(['Id','OwnerUserId','CreationDate','ParentId'], axis=1, inplace=True)"
   ]
  },
  {
   "cell_type": "markdown",
   "metadata": {},
   "source": [
    "## Drop number_of_words <=2"
   ]
  },
  {
   "cell_type": "code",
   "execution_count": 19,
   "metadata": {
    "collapsed": false
   },
   "outputs": [],
   "source": [
    "combined = combined[combined.no_of_words >= 2]"
   ]
  },
  {
   "cell_type": "code",
   "execution_count": 20,
   "metadata": {
    "collapsed": false
   },
   "outputs": [
    {
     "data": {
      "text/plain": [
       "(133314, 7)"
      ]
     },
     "execution_count": 20,
     "metadata": {},
     "output_type": "execute_result"
    }
   ],
   "source": [
    "combined.shape"
   ]
  },
  {
   "cell_type": "markdown",
   "metadata": {},
   "source": [
    "## Drop number_of_sentences <= 2"
   ]
  },
  {
   "cell_type": "code",
   "execution_count": 21,
   "metadata": {
    "collapsed": true
   },
   "outputs": [],
   "source": [
    "combined = combined[combined.no_of_sent >=2]"
   ]
  },
  {
   "cell_type": "code",
   "execution_count": 22,
   "metadata": {
    "collapsed": false
   },
   "outputs": [
    {
     "data": {
      "text/plain": [
       "(99093, 7)"
      ]
     },
     "execution_count": 22,
     "metadata": {},
     "output_type": "execute_result"
    }
   ],
   "source": [
    "combined.shape"
   ]
  },
  {
   "cell_type": "code",
   "execution_count": 23,
   "metadata": {
    "collapsed": false
   },
   "outputs": [
    {
     "data": {
      "text/plain": [
       "(20981, 7)"
      ]
     },
     "execution_count": 23,
     "metadata": {},
     "output_type": "execute_result"
    }
   ],
   "source": [
    "combined[(combined.Score <= -1)].shape"
   ]
  },
  {
   "cell_type": "code",
   "execution_count": 24,
   "metadata": {
    "collapsed": false
   },
   "outputs": [
    {
     "data": {
      "text/plain": [
       "(78112, 7)"
      ]
     },
     "execution_count": 24,
     "metadata": {},
     "output_type": "execute_result"
    }
   ],
   "source": [
    "combined[(combined.Score >= 0)].shape"
   ]
  },
  {
   "cell_type": "markdown",
   "metadata": {},
   "source": [
    "# Get SpaCy object"
   ]
  },
  {
   "cell_type": "code",
   "execution_count": 10,
   "metadata": {
    "collapsed": false
   },
   "outputs": [],
   "source": [
    "import spacy\n",
    "\n",
    "nlp = spacy.load('en')"
   ]
  },
  {
   "cell_type": "code",
   "execution_count": 14,
   "metadata": {
    "collapsed": false
   },
   "outputs": [],
   "source": [
    "#combined = pd.read_csv(\"/Users/huangshanhongtao/Downloads/BT4222 Project Data/combined_clean.csv\")"
   ]
  },
  {
   "cell_type": "code",
   "execution_count": 69,
   "metadata": {
    "collapsed": false
   },
   "outputs": [],
   "source": [
    "combined['spacy'] = combined.cleaned.apply(nlp)"
   ]
  },
  {
   "cell_type": "code",
   "execution_count": 30,
   "metadata": {
    "collapsed": false
   },
   "outputs": [
    {
     "data": {
      "text/html": [
       "<div>\n",
       "<table border=\"1\" class=\"dataframe\">\n",
       "  <thead>\n",
       "    <tr style=\"text-align: right;\">\n",
       "      <th></th>\n",
       "      <th>Score</th>\n",
       "      <th>Body</th>\n",
       "      <th>full_text</th>\n",
       "      <th>is_code_present</th>\n",
       "      <th>cleaned</th>\n",
       "      <th>no_of_words</th>\n",
       "      <th>no_of_sent</th>\n",
       "      <th>spacy</th>\n",
       "      <th>textacy</th>\n",
       "      <th>summary</th>\n",
       "      <th>no_of_polysyllable_words</th>\n",
       "      <th>flesch_readability</th>\n",
       "      <th>sentiment</th>\n",
       "      <th>subjectivity</th>\n",
       "      <th>quantitative</th>\n",
       "      <th>descriptive</th>\n",
       "      <th>good_bad</th>\n",
       "    </tr>\n",
       "  </thead>\n",
       "  <tbody>\n",
       "    <tr>\n",
       "      <th>0</th>\n",
       "      <td>13.0</td>\n",
       "      <td>&lt;p&gt;&lt;a href=\"http://svnbook.red-bean.com/\"&gt;Vers...</td>\n",
       "      <td>Version Control with SubversionA very good res...</td>\n",
       "      <td>0.0</td>\n",
       "      <td>Version Control with SubversionA very good res...</td>\n",
       "      <td>17</td>\n",
       "      <td>2</td>\n",
       "      <td>()</td>\n",
       "      <td>Doc(20 tokens; \"Version Control with Subversio...</td>\n",
       "      <td>{'n_chars': 104, 'coleman_liau_index': 16.6891...</td>\n",
       "      <td>5</td>\n",
       "      <td>43.936912</td>\n",
       "      <td>0.215000</td>\n",
       "      <td>0.401250</td>\n",
       "      <td>0.000000</td>\n",
       "      <td>0.350000</td>\n",
       "      <td>1</td>\n",
       "    </tr>\n",
       "    <tr>\n",
       "      <th>1</th>\n",
       "      <td>12.0</td>\n",
       "      <td>&lt;p&gt;I wound up using this. It is a kind of a ha...</td>\n",
       "      <td>I wound up using this. It is a kind of a hack,...</td>\n",
       "      <td>1.0</td>\n",
       "      <td>I wound up using this. It is a kind of a hack,...</td>\n",
       "      <td>32</td>\n",
       "      <td>3</td>\n",
       "      <td>()</td>\n",
       "      <td>Doc(37 tokens; \"I wound up using this. It is a...</td>\n",
       "      <td>{'n_chars': 116, 'coleman_liau_index': 1.81524...</td>\n",
       "      <td>1</td>\n",
       "      <td>92.965000</td>\n",
       "      <td>0.286667</td>\n",
       "      <td>0.833333</td>\n",
       "      <td>0.108108</td>\n",
       "      <td>0.189189</td>\n",
       "      <td>1</td>\n",
       "    </tr>\n",
       "    <tr>\n",
       "      <th>2</th>\n",
       "      <td>28.0</td>\n",
       "      <td>&lt;p&gt;&lt;a href=\"http://www.codeproject.com/Article...</td>\n",
       "      <td>Oleg Shilo's C# Script solution (at The Code P...</td>\n",
       "      <td>0.0</td>\n",
       "      <td>Oleg Shilo's C# Script solution (at The Code P...</td>\n",
       "      <td>127</td>\n",
       "      <td>9</td>\n",
       "      <td>()</td>\n",
       "      <td>Doc(152 tokens; \"Oleg Shilo's C# Script soluti...</td>\n",
       "      <td>{'n_chars': 664, 'coleman_liau_index': 11.9970...</td>\n",
       "      <td>25</td>\n",
       "      <td>53.334962</td>\n",
       "      <td>0.253333</td>\n",
       "      <td>0.583333</td>\n",
       "      <td>0.085526</td>\n",
       "      <td>0.138158</td>\n",
       "      <td>1</td>\n",
       "    </tr>\n",
       "    <tr>\n",
       "      <th>3</th>\n",
       "      <td>19.0</td>\n",
       "      <td>&lt;p&gt;I would be a bit reluctant to use nested cl...</td>\n",
       "      <td>I would be a bit reluctant to use nested class...</td>\n",
       "      <td>0.0</td>\n",
       "      <td>I would be a bit reluctant to use nested class...</td>\n",
       "      <td>127</td>\n",
       "      <td>6</td>\n",
       "      <td>()</td>\n",
       "      <td>Doc(153 tokens; \"I would be a bit reluctant to...</td>\n",
       "      <td>{'n_chars': 620, 'coleman_liau_index': 10.4718...</td>\n",
       "      <td>18</td>\n",
       "      <td>55.041364</td>\n",
       "      <td>0.045000</td>\n",
       "      <td>0.475000</td>\n",
       "      <td>0.150327</td>\n",
       "      <td>0.104575</td>\n",
       "      <td>1</td>\n",
       "    </tr>\n",
       "    <tr>\n",
       "      <th>4</th>\n",
       "      <td>8.0</td>\n",
       "      <td>&lt;p&gt;No, what you're doing is fine. Don't let th...</td>\n",
       "      <td>No, what you're doing is fine. Don't let those...</td>\n",
       "      <td>0.0</td>\n",
       "      <td>No, what you're doing is fine. Don't let those...</td>\n",
       "      <td>106</td>\n",
       "      <td>9</td>\n",
       "      <td>()</td>\n",
       "      <td>Doc(128 tokens; \"No, what you're doing is fine...</td>\n",
       "      <td>{'n_chars': 477, 'coleman_liau_index': 7.39185...</td>\n",
       "      <td>8</td>\n",
       "      <td>72.759286</td>\n",
       "      <td>0.314583</td>\n",
       "      <td>0.564583</td>\n",
       "      <td>0.093750</td>\n",
       "      <td>0.140625</td>\n",
       "      <td>1</td>\n",
       "    </tr>\n",
       "  </tbody>\n",
       "</table>\n",
       "</div>"
      ],
      "text/plain": [
       "   Score                                               Body  \\\n",
       "0   13.0  <p><a href=\"http://svnbook.red-bean.com/\">Vers...   \n",
       "1   12.0  <p>I wound up using this. It is a kind of a ha...   \n",
       "2   28.0  <p><a href=\"http://www.codeproject.com/Article...   \n",
       "3   19.0  <p>I would be a bit reluctant to use nested cl...   \n",
       "4    8.0  <p>No, what you're doing is fine. Don't let th...   \n",
       "\n",
       "                                           full_text  is_code_present  \\\n",
       "0  Version Control with SubversionA very good res...              0.0   \n",
       "1  I wound up using this. It is a kind of a hack,...              1.0   \n",
       "2  Oleg Shilo's C# Script solution (at The Code P...              0.0   \n",
       "3  I would be a bit reluctant to use nested class...              0.0   \n",
       "4  No, what you're doing is fine. Don't let those...              0.0   \n",
       "\n",
       "                                             cleaned  no_of_words  no_of_sent  \\\n",
       "0  Version Control with SubversionA very good res...           17           2   \n",
       "1  I wound up using this. It is a kind of a hack,...           32           3   \n",
       "2  Oleg Shilo's C# Script solution (at The Code P...          127           9   \n",
       "3  I would be a bit reluctant to use nested class...          127           6   \n",
       "4  No, what you're doing is fine. Don't let those...          106           9   \n",
       "\n",
       "  spacy                                            textacy  \\\n",
       "0    ()  Doc(20 tokens; \"Version Control with Subversio...   \n",
       "1    ()  Doc(37 tokens; \"I wound up using this. It is a...   \n",
       "2    ()  Doc(152 tokens; \"Oleg Shilo's C# Script soluti...   \n",
       "3    ()  Doc(153 tokens; \"I would be a bit reluctant to...   \n",
       "4    ()  Doc(128 tokens; \"No, what you're doing is fine...   \n",
       "\n",
       "                                             summary  \\\n",
       "0  {'n_chars': 104, 'coleman_liau_index': 16.6891...   \n",
       "1  {'n_chars': 116, 'coleman_liau_index': 1.81524...   \n",
       "2  {'n_chars': 664, 'coleman_liau_index': 11.9970...   \n",
       "3  {'n_chars': 620, 'coleman_liau_index': 10.4718...   \n",
       "4  {'n_chars': 477, 'coleman_liau_index': 7.39185...   \n",
       "\n",
       "   no_of_polysyllable_words  flesch_readability  sentiment  subjectivity  \\\n",
       "0                         5           43.936912   0.215000      0.401250   \n",
       "1                         1           92.965000   0.286667      0.833333   \n",
       "2                        25           53.334962   0.253333      0.583333   \n",
       "3                        18           55.041364   0.045000      0.475000   \n",
       "4                         8           72.759286   0.314583      0.564583   \n",
       "\n",
       "   quantitative  descriptive  good_bad  \n",
       "0      0.000000     0.350000         1  \n",
       "1      0.108108     0.189189         1  \n",
       "2      0.085526     0.138158         1  \n",
       "3      0.150327     0.104575         1  \n",
       "4      0.093750     0.140625         1  "
      ]
     },
     "execution_count": 30,
     "metadata": {},
     "output_type": "execute_result"
    }
   ],
   "source": [
    "combined.head()"
   ]
  },
  {
   "cell_type": "markdown",
   "metadata": {},
   "source": [
    "## Get Textacy object"
   ]
  },
  {
   "cell_type": "code",
   "execution_count": 30,
   "metadata": {
    "collapsed": true
   },
   "outputs": [],
   "source": [
    "import textacy"
   ]
  },
  {
   "cell_type": "code",
   "execution_count": 31,
   "metadata": {
    "collapsed": false
   },
   "outputs": [],
   "source": [
    "combined['textacy'] = combined.spacy.apply(textacy.Doc)"
   ]
  },
  {
   "cell_type": "markdown",
   "metadata": {},
   "source": [
    "## Get Summary column which contains all other attributes"
   ]
  },
  {
   "cell_type": "code",
   "execution_count": 32,
   "metadata": {
    "collapsed": false
   },
   "outputs": [],
   "source": [
    "combined['summary'] = combined.textacy.apply(textacy.text_stats.readability_stats)"
   ]
  },
  {
   "cell_type": "code",
   "execution_count": 31,
   "metadata": {
    "collapsed": false
   },
   "outputs": [
    {
     "data": {
      "text/html": [
       "<div>\n",
       "<table border=\"1\" class=\"dataframe\">\n",
       "  <thead>\n",
       "    <tr style=\"text-align: right;\">\n",
       "      <th></th>\n",
       "      <th>Score</th>\n",
       "      <th>Body</th>\n",
       "      <th>full_text</th>\n",
       "      <th>is_code_present</th>\n",
       "      <th>cleaned</th>\n",
       "      <th>no_of_words</th>\n",
       "      <th>no_of_sent</th>\n",
       "      <th>spacy</th>\n",
       "      <th>textacy</th>\n",
       "      <th>summary</th>\n",
       "      <th>no_of_polysyllable_words</th>\n",
       "      <th>flesch_readability</th>\n",
       "      <th>sentiment</th>\n",
       "      <th>subjectivity</th>\n",
       "      <th>quantitative</th>\n",
       "      <th>descriptive</th>\n",
       "      <th>good_bad</th>\n",
       "    </tr>\n",
       "  </thead>\n",
       "  <tbody>\n",
       "    <tr>\n",
       "      <th>0</th>\n",
       "      <td>13.0</td>\n",
       "      <td>&lt;p&gt;&lt;a href=\"http://svnbook.red-bean.com/\"&gt;Vers...</td>\n",
       "      <td>Version Control with SubversionA very good res...</td>\n",
       "      <td>0.0</td>\n",
       "      <td>Version Control with SubversionA very good res...</td>\n",
       "      <td>17</td>\n",
       "      <td>2</td>\n",
       "      <td>()</td>\n",
       "      <td>Doc(20 tokens; \"Version Control with Subversio...</td>\n",
       "      <td>{'n_chars': 104, 'coleman_liau_index': 16.6891...</td>\n",
       "      <td>5</td>\n",
       "      <td>43.936912</td>\n",
       "      <td>0.215000</td>\n",
       "      <td>0.401250</td>\n",
       "      <td>0.000000</td>\n",
       "      <td>0.350000</td>\n",
       "      <td>1</td>\n",
       "    </tr>\n",
       "    <tr>\n",
       "      <th>1</th>\n",
       "      <td>12.0</td>\n",
       "      <td>&lt;p&gt;I wound up using this. It is a kind of a ha...</td>\n",
       "      <td>I wound up using this. It is a kind of a hack,...</td>\n",
       "      <td>1.0</td>\n",
       "      <td>I wound up using this. It is a kind of a hack,...</td>\n",
       "      <td>32</td>\n",
       "      <td>3</td>\n",
       "      <td>()</td>\n",
       "      <td>Doc(37 tokens; \"I wound up using this. It is a...</td>\n",
       "      <td>{'n_chars': 116, 'coleman_liau_index': 1.81524...</td>\n",
       "      <td>1</td>\n",
       "      <td>92.965000</td>\n",
       "      <td>0.286667</td>\n",
       "      <td>0.833333</td>\n",
       "      <td>0.108108</td>\n",
       "      <td>0.189189</td>\n",
       "      <td>1</td>\n",
       "    </tr>\n",
       "    <tr>\n",
       "      <th>2</th>\n",
       "      <td>28.0</td>\n",
       "      <td>&lt;p&gt;&lt;a href=\"http://www.codeproject.com/Article...</td>\n",
       "      <td>Oleg Shilo's C# Script solution (at The Code P...</td>\n",
       "      <td>0.0</td>\n",
       "      <td>Oleg Shilo's C# Script solution (at The Code P...</td>\n",
       "      <td>127</td>\n",
       "      <td>9</td>\n",
       "      <td>()</td>\n",
       "      <td>Doc(152 tokens; \"Oleg Shilo's C# Script soluti...</td>\n",
       "      <td>{'n_chars': 664, 'coleman_liau_index': 11.9970...</td>\n",
       "      <td>25</td>\n",
       "      <td>53.334962</td>\n",
       "      <td>0.253333</td>\n",
       "      <td>0.583333</td>\n",
       "      <td>0.085526</td>\n",
       "      <td>0.138158</td>\n",
       "      <td>1</td>\n",
       "    </tr>\n",
       "    <tr>\n",
       "      <th>3</th>\n",
       "      <td>19.0</td>\n",
       "      <td>&lt;p&gt;I would be a bit reluctant to use nested cl...</td>\n",
       "      <td>I would be a bit reluctant to use nested class...</td>\n",
       "      <td>0.0</td>\n",
       "      <td>I would be a bit reluctant to use nested class...</td>\n",
       "      <td>127</td>\n",
       "      <td>6</td>\n",
       "      <td>()</td>\n",
       "      <td>Doc(153 tokens; \"I would be a bit reluctant to...</td>\n",
       "      <td>{'n_chars': 620, 'coleman_liau_index': 10.4718...</td>\n",
       "      <td>18</td>\n",
       "      <td>55.041364</td>\n",
       "      <td>0.045000</td>\n",
       "      <td>0.475000</td>\n",
       "      <td>0.150327</td>\n",
       "      <td>0.104575</td>\n",
       "      <td>1</td>\n",
       "    </tr>\n",
       "    <tr>\n",
       "      <th>4</th>\n",
       "      <td>8.0</td>\n",
       "      <td>&lt;p&gt;No, what you're doing is fine. Don't let th...</td>\n",
       "      <td>No, what you're doing is fine. Don't let those...</td>\n",
       "      <td>0.0</td>\n",
       "      <td>No, what you're doing is fine. Don't let those...</td>\n",
       "      <td>106</td>\n",
       "      <td>9</td>\n",
       "      <td>()</td>\n",
       "      <td>Doc(128 tokens; \"No, what you're doing is fine...</td>\n",
       "      <td>{'n_chars': 477, 'coleman_liau_index': 7.39185...</td>\n",
       "      <td>8</td>\n",
       "      <td>72.759286</td>\n",
       "      <td>0.314583</td>\n",
       "      <td>0.564583</td>\n",
       "      <td>0.093750</td>\n",
       "      <td>0.140625</td>\n",
       "      <td>1</td>\n",
       "    </tr>\n",
       "  </tbody>\n",
       "</table>\n",
       "</div>"
      ],
      "text/plain": [
       "   Score                                               Body  \\\n",
       "0   13.0  <p><a href=\"http://svnbook.red-bean.com/\">Vers...   \n",
       "1   12.0  <p>I wound up using this. It is a kind of a ha...   \n",
       "2   28.0  <p><a href=\"http://www.codeproject.com/Article...   \n",
       "3   19.0  <p>I would be a bit reluctant to use nested cl...   \n",
       "4    8.0  <p>No, what you're doing is fine. Don't let th...   \n",
       "\n",
       "                                           full_text  is_code_present  \\\n",
       "0  Version Control with SubversionA very good res...              0.0   \n",
       "1  I wound up using this. It is a kind of a hack,...              1.0   \n",
       "2  Oleg Shilo's C# Script solution (at The Code P...              0.0   \n",
       "3  I would be a bit reluctant to use nested class...              0.0   \n",
       "4  No, what you're doing is fine. Don't let those...              0.0   \n",
       "\n",
       "                                             cleaned  no_of_words  no_of_sent  \\\n",
       "0  Version Control with SubversionA very good res...           17           2   \n",
       "1  I wound up using this. It is a kind of a hack,...           32           3   \n",
       "2  Oleg Shilo's C# Script solution (at The Code P...          127           9   \n",
       "3  I would be a bit reluctant to use nested class...          127           6   \n",
       "4  No, what you're doing is fine. Don't let those...          106           9   \n",
       "\n",
       "  spacy                                            textacy  \\\n",
       "0    ()  Doc(20 tokens; \"Version Control with Subversio...   \n",
       "1    ()  Doc(37 tokens; \"I wound up using this. It is a...   \n",
       "2    ()  Doc(152 tokens; \"Oleg Shilo's C# Script soluti...   \n",
       "3    ()  Doc(153 tokens; \"I would be a bit reluctant to...   \n",
       "4    ()  Doc(128 tokens; \"No, what you're doing is fine...   \n",
       "\n",
       "                                             summary  \\\n",
       "0  {'n_chars': 104, 'coleman_liau_index': 16.6891...   \n",
       "1  {'n_chars': 116, 'coleman_liau_index': 1.81524...   \n",
       "2  {'n_chars': 664, 'coleman_liau_index': 11.9970...   \n",
       "3  {'n_chars': 620, 'coleman_liau_index': 10.4718...   \n",
       "4  {'n_chars': 477, 'coleman_liau_index': 7.39185...   \n",
       "\n",
       "   no_of_polysyllable_words  flesch_readability  sentiment  subjectivity  \\\n",
       "0                         5           43.936912   0.215000      0.401250   \n",
       "1                         1           92.965000   0.286667      0.833333   \n",
       "2                        25           53.334962   0.253333      0.583333   \n",
       "3                        18           55.041364   0.045000      0.475000   \n",
       "4                         8           72.759286   0.314583      0.564583   \n",
       "\n",
       "   quantitative  descriptive  good_bad  \n",
       "0      0.000000     0.350000         1  \n",
       "1      0.108108     0.189189         1  \n",
       "2      0.085526     0.138158         1  \n",
       "3      0.150327     0.104575         1  \n",
       "4      0.093750     0.140625         1  "
      ]
     },
     "execution_count": 31,
     "metadata": {},
     "output_type": "execute_result"
    }
   ],
   "source": [
    "combined.head()"
   ]
  },
  {
   "cell_type": "markdown",
   "metadata": {},
   "source": [
    "## Save file to csv"
   ]
  },
  {
   "cell_type": "code",
   "execution_count": 8,
   "metadata": {
    "collapsed": true
   },
   "outputs": [],
   "source": [
    "#combined.to_csv(\"/Users/huangshanhongtao/Downloads/BT4222 Project Data/combined_clean.csv\")"
   ]
  },
  {
   "cell_type": "code",
   "execution_count": 10,
   "metadata": {
    "collapsed": true
   },
   "outputs": [],
   "source": [
    "#combined = pd.read_csv(\"/Users/huangshanhongtao/Downloads/BT4222 Project Data/combined_clean.csv\")"
   ]
  },
  {
   "cell_type": "code",
   "execution_count": 13,
   "metadata": {
    "collapsed": false
   },
   "outputs": [
    {
     "name": "stdout",
     "output_type": "stream",
     "text": [
      "Stored 'combined' (DataFrame)\n"
     ]
    }
   ],
   "source": [
    "%store combined"
   ]
  },
  {
   "cell_type": "markdown",
   "metadata": {},
   "source": [
    "## Convert Summary from string to dict"
   ]
  },
  {
   "cell_type": "code",
   "execution_count": 15,
   "metadata": {
    "collapsed": true
   },
   "outputs": [],
   "source": [
    "import ast"
   ]
  },
  {
   "cell_type": "code",
   "execution_count": 28,
   "metadata": {
    "collapsed": false
   },
   "outputs": [],
   "source": [
    "combined['summary'] = combined.summary.apply(ast.literal_eval)"
   ]
  },
  {
   "cell_type": "markdown",
   "metadata": {
    "collapsed": false
   },
   "source": [
    "## Get number_of_polysyllable_words"
   ]
  },
  {
   "cell_type": "code",
   "execution_count": 30,
   "metadata": {
    "collapsed": false
   },
   "outputs": [],
   "source": [
    "def get_no_of_polysyllable_words(data):\n",
    "    return data.get(\"n_polysyllable_words\")"
   ]
  },
  {
   "cell_type": "code",
   "execution_count": 31,
   "metadata": {
    "collapsed": false
   },
   "outputs": [],
   "source": [
    "combined['no_of_polysyllable_words'] = combined.summary.apply(get_no_of_polysyllable_words)"
   ]
  },
  {
   "cell_type": "markdown",
   "metadata": {},
   "source": [
    "## Get flesch_readability"
   ]
  },
  {
   "cell_type": "code",
   "execution_count": 6,
   "metadata": {
    "collapsed": true
   },
   "outputs": [],
   "source": [
    "def get_flesch_readability(data):\n",
    "    return data.get(\"flesch_readability_ease\")"
   ]
  },
  {
   "cell_type": "code",
   "execution_count": 7,
   "metadata": {
    "collapsed": true
   },
   "outputs": [],
   "source": [
    "combined['flesch_readability'] = combined.summary.apply(get_flesch_readability)"
   ]
  },
  {
   "cell_type": "markdown",
   "metadata": {},
   "source": [
    "## Get sentiment score by Textblob"
   ]
  },
  {
   "cell_type": "code",
   "execution_count": 14,
   "metadata": {
    "collapsed": true
   },
   "outputs": [],
   "source": [
    "from textblob import TextBlob\n",
    "\n",
    "def get_textblob_sentiment(data):\n",
    "    score = TextBlob(data)\n",
    "    score = score.sentiment.polarity\n",
    "    return score"
   ]
  },
  {
   "cell_type": "code",
   "execution_count": 15,
   "metadata": {
    "collapsed": true
   },
   "outputs": [],
   "source": [
    "combined['sentiment'] = combined.cleaned.apply(get_textblob_sentiment)"
   ]
  },
  {
   "cell_type": "markdown",
   "metadata": {},
   "source": [
    "## Get subjectivity by Textblob"
   ]
  },
  {
   "cell_type": "code",
   "execution_count": 16,
   "metadata": {
    "collapsed": true
   },
   "outputs": [],
   "source": [
    "def get_textblob_subjectivity(data):\n",
    "    score = TextBlob(data)\n",
    "    score = score.sentiment.subjectivity\n",
    "    return score"
   ]
  },
  {
   "cell_type": "code",
   "execution_count": 20,
   "metadata": {
    "collapsed": false
   },
   "outputs": [],
   "source": [
    "combined['subjectivity'] = combined.cleaned.apply(get_textblob_subjectivity)"
   ]
  },
  {
   "cell_type": "code",
   "execution_count": 60,
   "metadata": {
    "collapsed": false
   },
   "outputs": [],
   "source": [
    "combined.drop(['Unnamed: 0'], axis=1, inplace=True)"
   ]
  },
  {
   "cell_type": "code",
   "execution_count": 32,
   "metadata": {
    "collapsed": false
   },
   "outputs": [
    {
     "data": {
      "text/html": [
       "<div>\n",
       "<table border=\"1\" class=\"dataframe\">\n",
       "  <thead>\n",
       "    <tr style=\"text-align: right;\">\n",
       "      <th></th>\n",
       "      <th>Score</th>\n",
       "      <th>Body</th>\n",
       "      <th>full_text</th>\n",
       "      <th>is_code_present</th>\n",
       "      <th>cleaned</th>\n",
       "      <th>no_of_words</th>\n",
       "      <th>no_of_sent</th>\n",
       "      <th>spacy</th>\n",
       "      <th>textacy</th>\n",
       "      <th>summary</th>\n",
       "      <th>no_of_polysyllable_words</th>\n",
       "      <th>flesch_readability</th>\n",
       "      <th>sentiment</th>\n",
       "      <th>subjectivity</th>\n",
       "      <th>quantitative</th>\n",
       "      <th>descriptive</th>\n",
       "      <th>good_bad</th>\n",
       "    </tr>\n",
       "  </thead>\n",
       "  <tbody>\n",
       "    <tr>\n",
       "      <th>0</th>\n",
       "      <td>13.0</td>\n",
       "      <td>&lt;p&gt;&lt;a href=\"http://svnbook.red-bean.com/\"&gt;Vers...</td>\n",
       "      <td>Version Control with SubversionA very good res...</td>\n",
       "      <td>0.0</td>\n",
       "      <td>Version Control with SubversionA very good res...</td>\n",
       "      <td>17</td>\n",
       "      <td>2</td>\n",
       "      <td>()</td>\n",
       "      <td>Doc(20 tokens; \"Version Control with Subversio...</td>\n",
       "      <td>{'n_chars': 104, 'coleman_liau_index': 16.6891...</td>\n",
       "      <td>5</td>\n",
       "      <td>43.936912</td>\n",
       "      <td>0.215000</td>\n",
       "      <td>0.401250</td>\n",
       "      <td>0.000000</td>\n",
       "      <td>0.350000</td>\n",
       "      <td>1</td>\n",
       "    </tr>\n",
       "    <tr>\n",
       "      <th>1</th>\n",
       "      <td>12.0</td>\n",
       "      <td>&lt;p&gt;I wound up using this. It is a kind of a ha...</td>\n",
       "      <td>I wound up using this. It is a kind of a hack,...</td>\n",
       "      <td>1.0</td>\n",
       "      <td>I wound up using this. It is a kind of a hack,...</td>\n",
       "      <td>32</td>\n",
       "      <td>3</td>\n",
       "      <td>()</td>\n",
       "      <td>Doc(37 tokens; \"I wound up using this. It is a...</td>\n",
       "      <td>{'n_chars': 116, 'coleman_liau_index': 1.81524...</td>\n",
       "      <td>1</td>\n",
       "      <td>92.965000</td>\n",
       "      <td>0.286667</td>\n",
       "      <td>0.833333</td>\n",
       "      <td>0.108108</td>\n",
       "      <td>0.189189</td>\n",
       "      <td>1</td>\n",
       "    </tr>\n",
       "    <tr>\n",
       "      <th>2</th>\n",
       "      <td>28.0</td>\n",
       "      <td>&lt;p&gt;&lt;a href=\"http://www.codeproject.com/Article...</td>\n",
       "      <td>Oleg Shilo's C# Script solution (at The Code P...</td>\n",
       "      <td>0.0</td>\n",
       "      <td>Oleg Shilo's C# Script solution (at The Code P...</td>\n",
       "      <td>127</td>\n",
       "      <td>9</td>\n",
       "      <td>()</td>\n",
       "      <td>Doc(152 tokens; \"Oleg Shilo's C# Script soluti...</td>\n",
       "      <td>{'n_chars': 664, 'coleman_liau_index': 11.9970...</td>\n",
       "      <td>25</td>\n",
       "      <td>53.334962</td>\n",
       "      <td>0.253333</td>\n",
       "      <td>0.583333</td>\n",
       "      <td>0.085526</td>\n",
       "      <td>0.138158</td>\n",
       "      <td>1</td>\n",
       "    </tr>\n",
       "    <tr>\n",
       "      <th>3</th>\n",
       "      <td>19.0</td>\n",
       "      <td>&lt;p&gt;I would be a bit reluctant to use nested cl...</td>\n",
       "      <td>I would be a bit reluctant to use nested class...</td>\n",
       "      <td>0.0</td>\n",
       "      <td>I would be a bit reluctant to use nested class...</td>\n",
       "      <td>127</td>\n",
       "      <td>6</td>\n",
       "      <td>()</td>\n",
       "      <td>Doc(153 tokens; \"I would be a bit reluctant to...</td>\n",
       "      <td>{'n_chars': 620, 'coleman_liau_index': 10.4718...</td>\n",
       "      <td>18</td>\n",
       "      <td>55.041364</td>\n",
       "      <td>0.045000</td>\n",
       "      <td>0.475000</td>\n",
       "      <td>0.150327</td>\n",
       "      <td>0.104575</td>\n",
       "      <td>1</td>\n",
       "    </tr>\n",
       "    <tr>\n",
       "      <th>4</th>\n",
       "      <td>8.0</td>\n",
       "      <td>&lt;p&gt;No, what you're doing is fine. Don't let th...</td>\n",
       "      <td>No, what you're doing is fine. Don't let those...</td>\n",
       "      <td>0.0</td>\n",
       "      <td>No, what you're doing is fine. Don't let those...</td>\n",
       "      <td>106</td>\n",
       "      <td>9</td>\n",
       "      <td>()</td>\n",
       "      <td>Doc(128 tokens; \"No, what you're doing is fine...</td>\n",
       "      <td>{'n_chars': 477, 'coleman_liau_index': 7.39185...</td>\n",
       "      <td>8</td>\n",
       "      <td>72.759286</td>\n",
       "      <td>0.314583</td>\n",
       "      <td>0.564583</td>\n",
       "      <td>0.093750</td>\n",
       "      <td>0.140625</td>\n",
       "      <td>1</td>\n",
       "    </tr>\n",
       "  </tbody>\n",
       "</table>\n",
       "</div>"
      ],
      "text/plain": [
       "   Score                                               Body  \\\n",
       "0   13.0  <p><a href=\"http://svnbook.red-bean.com/\">Vers...   \n",
       "1   12.0  <p>I wound up using this. It is a kind of a ha...   \n",
       "2   28.0  <p><a href=\"http://www.codeproject.com/Article...   \n",
       "3   19.0  <p>I would be a bit reluctant to use nested cl...   \n",
       "4    8.0  <p>No, what you're doing is fine. Don't let th...   \n",
       "\n",
       "                                           full_text  is_code_present  \\\n",
       "0  Version Control with SubversionA very good res...              0.0   \n",
       "1  I wound up using this. It is a kind of a hack,...              1.0   \n",
       "2  Oleg Shilo's C# Script solution (at The Code P...              0.0   \n",
       "3  I would be a bit reluctant to use nested class...              0.0   \n",
       "4  No, what you're doing is fine. Don't let those...              0.0   \n",
       "\n",
       "                                             cleaned  no_of_words  no_of_sent  \\\n",
       "0  Version Control with SubversionA very good res...           17           2   \n",
       "1  I wound up using this. It is a kind of a hack,...           32           3   \n",
       "2  Oleg Shilo's C# Script solution (at The Code P...          127           9   \n",
       "3  I would be a bit reluctant to use nested class...          127           6   \n",
       "4  No, what you're doing is fine. Don't let those...          106           9   \n",
       "\n",
       "  spacy                                            textacy  \\\n",
       "0    ()  Doc(20 tokens; \"Version Control with Subversio...   \n",
       "1    ()  Doc(37 tokens; \"I wound up using this. It is a...   \n",
       "2    ()  Doc(152 tokens; \"Oleg Shilo's C# Script soluti...   \n",
       "3    ()  Doc(153 tokens; \"I would be a bit reluctant to...   \n",
       "4    ()  Doc(128 tokens; \"No, what you're doing is fine...   \n",
       "\n",
       "                                             summary  \\\n",
       "0  {'n_chars': 104, 'coleman_liau_index': 16.6891...   \n",
       "1  {'n_chars': 116, 'coleman_liau_index': 1.81524...   \n",
       "2  {'n_chars': 664, 'coleman_liau_index': 11.9970...   \n",
       "3  {'n_chars': 620, 'coleman_liau_index': 10.4718...   \n",
       "4  {'n_chars': 477, 'coleman_liau_index': 7.39185...   \n",
       "\n",
       "   no_of_polysyllable_words  flesch_readability  sentiment  subjectivity  \\\n",
       "0                         5           43.936912   0.215000      0.401250   \n",
       "1                         1           92.965000   0.286667      0.833333   \n",
       "2                        25           53.334962   0.253333      0.583333   \n",
       "3                        18           55.041364   0.045000      0.475000   \n",
       "4                         8           72.759286   0.314583      0.564583   \n",
       "\n",
       "   quantitative  descriptive  good_bad  \n",
       "0      0.000000     0.350000         1  \n",
       "1      0.108108     0.189189         1  \n",
       "2      0.085526     0.138158         1  \n",
       "3      0.150327     0.104575         1  \n",
       "4      0.093750     0.140625         1  "
      ]
     },
     "execution_count": 32,
     "metadata": {},
     "output_type": "execute_result"
    }
   ],
   "source": [
    "combined.head()"
   ]
  },
  {
   "cell_type": "markdown",
   "metadata": {},
   "source": [
    "## Get how quantitative this answer is\n",
    "### by calculating the percentage of NUM and DET words in the sentence"
   ]
  },
  {
   "cell_type": "code",
   "execution_count": 146,
   "metadata": {
    "collapsed": true
   },
   "outputs": [],
   "source": [
    "def get_quantitative(data):\n",
    "    token_pos = [token.pos_ for token in data]\n",
    "    counter = 0\n",
    "    for i in range(0, len(token_pos)):\n",
    "        if token_pos[i] == 'NUM' or token_pos[i] == 'DET':\n",
    "            counter += 1\n",
    "    \n",
    "    if len(token_pos) == 0:\n",
    "        return 0\n",
    "    else:\n",
    "        return (counter/len(token_pos))\n",
    "    "
   ]
  },
  {
   "cell_type": "code",
   "execution_count": 147,
   "metadata": {
    "collapsed": true
   },
   "outputs": [],
   "source": [
    "combined['quantitative'] = combined.spacy.apply(get_quantitative)"
   ]
  },
  {
   "cell_type": "markdown",
   "metadata": {},
   "source": [
    "## Get how descriptive the answer is\n",
    "### by calculating the percentage of number of ADJ, ADV, ADP words in the sentence"
   ]
  },
  {
   "cell_type": "code",
   "execution_count": 243,
   "metadata": {
    "collapsed": false
   },
   "outputs": [],
   "source": [
    "def get_descriptive(data):\n",
    "    token_pos = [token.pos_ for token in data]\n",
    "    counter = 0\n",
    "    for i in range(0, len(token_pos)):\n",
    "        if token_pos[i] == 'ADJ' or token_pos[i] == 'ADV' or token_pos[i] == 'ADP':\n",
    "            counter += 1\n",
    "    \n",
    "    if len(token_pos) == 0:\n",
    "        return 0\n",
    "    else:\n",
    "        return (counter/len(token_pos))"
   ]
  },
  {
   "cell_type": "code",
   "execution_count": 244,
   "metadata": {
    "collapsed": true
   },
   "outputs": [],
   "source": [
    "combined['descriptive'] = combined.spacy.apply(get_descriptive)"
   ]
  },
  {
   "cell_type": "code",
   "execution_count": 81,
   "metadata": {
    "collapsed": false
   },
   "outputs": [
    {
     "data": {
      "text/plain": [
       "Index(['Score', 'Body', 'full_text', 'is_code_present', 'cleaned',\n",
       "       'no_of_words', 'no_of_sent', 'spacy', 'textacy', 'summary',\n",
       "       'no_of_polysyllable_words', 'flesch_readability', 'no_of_syllable',\n",
       "       'sentiment', 'subjectivity', 'quantitative', 'descriptive'],\n",
       "      dtype='object')"
      ]
     },
     "execution_count": 81,
     "metadata": {},
     "output_type": "execute_result"
    }
   ],
   "source": [
    "combined.columns"
   ]
  },
  {
   "cell_type": "markdown",
   "metadata": {
    "collapsed": true
   },
   "source": [
    "## Transform Score into Good or Bad"
   ]
  },
  {
   "cell_type": "code",
   "execution_count": 245,
   "metadata": {
    "collapsed": true
   },
   "outputs": [],
   "source": [
    "combined['good_bad'] = 0"
   ]
  },
  {
   "cell_type": "code",
   "execution_count": 246,
   "metadata": {
    "collapsed": false
   },
   "outputs": [
    {
     "name": "stderr",
     "output_type": "stream",
     "text": [
      "/Users/huangshanhongtao/anaconda/lib/python3.5/site-packages/ipykernel/__main__.py:1: SettingWithCopyWarning: \n",
      "A value is trying to be set on a copy of a slice from a DataFrame\n",
      "\n",
      "See the caveats in the documentation: http://pandas.pydata.org/pandas-docs/stable/indexing.html#indexing-view-versus-copy\n",
      "  if __name__ == '__main__':\n"
     ]
    }
   ],
   "source": [
    "combined['good_bad'][combined.Score < 0] = -1"
   ]
  },
  {
   "cell_type": "code",
   "execution_count": 247,
   "metadata": {
    "collapsed": false
   },
   "outputs": [
    {
     "name": "stderr",
     "output_type": "stream",
     "text": [
      "/Users/huangshanhongtao/anaconda/lib/python3.5/site-packages/ipykernel/__main__.py:1: SettingWithCopyWarning: \n",
      "A value is trying to be set on a copy of a slice from a DataFrame\n",
      "\n",
      "See the caveats in the documentation: http://pandas.pydata.org/pandas-docs/stable/indexing.html#indexing-view-versus-copy\n",
      "  if __name__ == '__main__':\n"
     ]
    }
   ],
   "source": [
    "combined['good_bad'][combined.Score >= 0] = 1"
   ]
  },
  {
   "cell_type": "code",
   "execution_count": 248,
   "metadata": {
    "collapsed": false
   },
   "outputs": [
    {
     "data": {
      "text/plain": [
       " 1    78112\n",
       "-1    20981\n",
       "Name: good_bad, dtype: int64"
      ]
     },
     "execution_count": 248,
     "metadata": {},
     "output_type": "execute_result"
    }
   ],
   "source": [
    "combined.good_bad.value_counts()"
   ]
  },
  {
   "cell_type": "markdown",
   "metadata": {},
   "source": [
    "## Sampling"
   ]
  },
  {
   "cell_type": "code",
   "execution_count": 4,
   "metadata": {
    "collapsed": false
   },
   "outputs": [],
   "source": [
    "#sample = combined[(combined.no_of_sent >= 2) & ((combined.Score > 21) | (combined.Score < 0))].copy()\n",
    "sample = combined[(combined.no_of_sent >= 1) & ((combined.Score > 21) | (combined.Score < 0))].copy()"
   ]
  },
  {
   "cell_type": "code",
   "execution_count": 64,
   "metadata": {
    "collapsed": false
   },
   "outputs": [
    {
     "data": {
      "text/plain": [
       "(20981, 18)"
      ]
     },
     "execution_count": 64,
     "metadata": {},
     "output_type": "execute_result"
    }
   ],
   "source": [
    "sample[sample.Score < 0].shape"
   ]
  },
  {
   "cell_type": "code",
   "execution_count": 65,
   "metadata": {
    "collapsed": false
   },
   "outputs": [
    {
     "data": {
      "text/plain": [
       "(20728, 18)"
      ]
     },
     "execution_count": 65,
     "metadata": {},
     "output_type": "execute_result"
    }
   ],
   "source": [
    "sample[sample.Score > 21].shape"
   ]
  },
  {
   "cell_type": "code",
   "execution_count": 37,
   "metadata": {
    "collapsed": false
   },
   "outputs": [
    {
     "data": {
      "text/plain": [
       "Index(['Score', 'Body', 'full_text', 'is_code_present', 'cleaned',\n",
       "       'no_of_words', 'no_of_sent', 'spacy', 'textacy', 'summary',\n",
       "       'no_of_polysyllable_words', 'flesch_readability', 'no_of_syllable',\n",
       "       'sentiment', 'subjectivity', 'quantitative', 'descriptive', 'good_bad'],\n",
       "      dtype='object')"
      ]
     },
     "execution_count": 37,
     "metadata": {},
     "output_type": "execute_result"
    }
   ],
   "source": [
    "sample.columns"
   ]
  },
  {
   "cell_type": "markdown",
   "metadata": {
    "collapsed": true
   },
   "source": [
    "# Regression"
   ]
  },
  {
   "cell_type": "code",
   "execution_count": 14,
   "metadata": {
    "collapsed": true
   },
   "outputs": [],
   "source": [
    "from sklearn.cross_validation import train_test_split\n",
    "from sklearn import preprocessing\n",
    "from sklearn import svm\n",
    "from pandas.stats.api import ols"
   ]
  },
  {
   "cell_type": "code",
   "execution_count": 15,
   "metadata": {
    "collapsed": true
   },
   "outputs": [],
   "source": [
    "from sklearn.linear_model import LogisticRegression"
   ]
  },
  {
   "cell_type": "code",
   "execution_count": 16,
   "metadata": {
    "collapsed": true
   },
   "outputs": [],
   "source": [
    "from sklearn import metrics"
   ]
  },
  {
   "cell_type": "code",
   "execution_count": 17,
   "metadata": {
    "collapsed": false
   },
   "outputs": [],
   "source": [
    "logistic = LogisticRegression()"
   ]
  },
  {
   "cell_type": "code",
   "execution_count": 33,
   "metadata": {
    "collapsed": false
   },
   "outputs": [
    {
     "name": "stdout",
     "output_type": "stream",
     "text": [
      "Score:\n",
      "0.668392788646\n",
      "***************\n",
      "Variable \"is_code_present\" , Coefficient 0.8422613084719808\n",
      "   \n",
      "Variable \"no_of_words\" , Coefficient 0.0007183756296657516\n",
      "   \n",
      "Variable \"no_of_sent\" , Coefficient 0.032950483375349046\n",
      "   \n",
      "Variable \"no_of_polysyllable_words\" , Coefficient 0.058022295579864006\n",
      "   \n",
      "Variable \"flesch_readability\" , Coefficient -0.0100376133465997\n",
      "   \n",
      "Variable \"sentiment\" , Coefficient 0.32540061364047657\n",
      "   \n",
      "Variable \"subjectivity\" , Coefficient 0.00794256220729872\n",
      "   \n",
      "Variable \"quantitative\" , Coefficient 3.155723947217872\n",
      "   \n",
      "Variable \"descriptive\" , Coefficient -0.413334171131617\n",
      "   \n",
      "***************\n",
      "ROC-AUC Score:\n",
      "0.722327107483\n"
     ]
    }
   ],
   "source": [
    "# full parameters\n",
    "X = sample[['is_code_present','no_of_words','no_of_sent','no_of_polysyllable_words', 'flesch_readability','sentiment','subjectivity','quantitative','descriptive']]\n",
    "y = sample['good_bad']\n",
    "X_train, X_test, y_train, y_test = train_test_split(X, y, random_state = 1)\n",
    "logistic_model = logistic.fit(X_train, y_train)\n",
    "\n",
    "print('Score:')\n",
    "print(logistic_model.score(X_test, y_test))\n",
    "print('***************')\n",
    "for i in range(0, len(X.columns)):\n",
    "    print('Variable \"{}\" , Coefficient {}'.format(X.columns[i], logistic_model.coef_[0][i]))\n",
    "    print('   ')\n",
    "print('***************')\n",
    "y_prob = logistic_model.predict_proba(X_test)[:,1]\n",
    "y_predict = logistic_model.predict(X_test)\n",
    "\n",
    "print('ROC-AUC Score:')\n",
    "# roc auc score\n",
    "print(metrics.roc_auc_score(y_test, y_prob))"
   ]
  },
  {
   "cell_type": "markdown",
   "metadata": {},
   "source": [
    "## Define a funtion to get the ROC-AUC score ---- Logistic Regression"
   ]
  },
  {
   "cell_type": "code",
   "execution_count": 12,
   "metadata": {
    "collapsed": false
   },
   "outputs": [],
   "source": [
    "def get_model_score(variable_list_input):\n",
    "    X = sample[variable_list_input]\n",
    "    y = sample['good_bad']\n",
    "    X_train, X_test, y_train, y_test = train_test_split(X, y, random_state = 1)\n",
    "    logistic_model = logistic.fit(X_train, y_train)\n",
    "\n",
    "    y_prob = logistic_model.predict_proba(X_test)[:,1]\n",
    "\n",
    "    # roc auc score\n",
    "    return metrics.roc_auc_score(y_test, y_prob)"
   ]
  },
  {
   "cell_type": "markdown",
   "metadata": {},
   "source": [
    "## Generate different combination of the 9 parameters for comparison later"
   ]
  },
  {
   "cell_type": "code",
   "execution_count": 34,
   "metadata": {
    "collapsed": false
   },
   "outputs": [],
   "source": [
    "variable_list = ['is_code_present','no_of_words','no_of_sent','no_of_polysyllable_words', 'flesch_readability','sentiment','subjectivity','quantitative','descriptive']"
   ]
  },
  {
   "cell_type": "code",
   "execution_count": 35,
   "metadata": {
    "collapsed": false
   },
   "outputs": [],
   "source": [
    "from itertools import chain, combinations\n",
    "def all_subsets(ss):\n",
    "  return chain(*map(lambda x: combinations(ss, x), range(0, len(ss)+1)))"
   ]
  },
  {
   "cell_type": "code",
   "execution_count": 36,
   "metadata": {
    "collapsed": false
   },
   "outputs": [],
   "source": [
    "combination_list = []\n",
    "for subset in all_subsets(variable_list):\n",
    "    combination_list.append(list(subset))"
   ]
  },
  {
   "cell_type": "code",
   "execution_count": 37,
   "metadata": {
    "collapsed": false
   },
   "outputs": [],
   "source": [
    "# remove the first empty list\n",
    "combination_list.remove([])"
   ]
  },
  {
   "cell_type": "markdown",
   "metadata": {},
   "source": [
    "## Try all possible combination of variables, see which one performs the best"
   ]
  },
  {
   "cell_type": "code",
   "execution_count": 41,
   "metadata": {
    "collapsed": false
   },
   "outputs": [
    {
     "name": "stdout",
     "output_type": "stream",
     "text": [
      "0.595816447062\n",
      "['is_code_present']\n",
      "0.668203964777\n",
      "['no_of_words']\n",
      "0.685160965699\n",
      "['no_of_polysyllable_words']\n",
      "0.703925565236\n",
      "['is_code_present', 'no_of_words']\n",
      "0.718793662513\n",
      "['is_code_present', 'no_of_polysyllable_words']\n",
      "0.718836000805\n",
      "['is_code_present', 'no_of_words', 'no_of_polysyllable_words']\n",
      "0.719135385131\n",
      "['is_code_present', 'no_of_polysyllable_words', 'sentiment']\n",
      "0.720191120421\n",
      "['is_code_present', 'no_of_polysyllable_words', 'quantitative']\n",
      "0.720249441326\n",
      "['is_code_present', 'no_of_words', 'no_of_polysyllable_words', 'quantitative']\n",
      "0.72027800404\n",
      "['is_code_present', 'no_of_sent', 'no_of_polysyllable_words', 'quantitative']\n",
      "0.720362441528\n",
      "['is_code_present', 'no_of_polysyllable_words', 'flesch_readability', 'quantitative']\n",
      "0.720967702541\n",
      "['is_code_present', 'no_of_polysyllable_words', 'sentiment', 'quantitative']\n",
      "0.720981790782\n",
      "['is_code_present', 'no_of_words', 'no_of_polysyllable_words', 'flesch_readability', 'quantitative']\n",
      "0.720998361938\n",
      "['is_code_present', 'no_of_words', 'no_of_polysyllable_words', 'sentiment', 'quantitative']\n",
      "0.721150077217\n",
      "['is_code_present', 'no_of_sent', 'no_of_polysyllable_words', 'flesch_readability', 'quantitative']\n",
      "0.721347551692\n",
      "['is_code_present', 'no_of_polysyllable_words', 'flesch_readability', 'sentiment', 'quantitative']\n",
      "0.722032854515\n",
      "['is_code_present', 'no_of_words', 'no_of_polysyllable_words', 'flesch_readability', 'sentiment', 'quantitative']\n",
      "0.722152328687\n",
      "['is_code_present', 'no_of_sent', 'no_of_polysyllable_words', 'flesch_readability', 'sentiment', 'quantitative']\n",
      "0.722234228085\n",
      "['is_code_present', 'no_of_words', 'no_of_sent', 'no_of_polysyllable_words', 'flesch_readability', 'sentiment', 'quantitative']\n",
      "0.722239874417\n",
      "['is_code_present', 'no_of_words', 'no_of_sent', 'no_of_polysyllable_words', 'flesch_readability', 'sentiment', 'subjectivity', 'quantitative']\n"
     ]
    }
   ],
   "source": [
    "best_variable_combination = []\n",
    "best_score = 0\n",
    "\n",
    "for subset in combination_list:\n",
    "    score = get_model_score(subset)\n",
    "    if score > best_score:\n",
    "        best_score = score\n",
    "        best_variable_combination = subset\n",
    "        print(best_score)\n",
    "        print(best_variable_combination)"
   ]
  },
  {
   "cell_type": "markdown",
   "metadata": {},
   "source": [
    "## Therefore, the best combination of variables is:\n",
    "### ['is_code_present', 'no_of_words', 'no_of_sent', 'no_of_polysyllable_words', 'flesch_readability', 'sentiment', 'quantitative', 'descriptive']"
   ]
  },
  {
   "cell_type": "code",
   "execution_count": 23,
   "metadata": {
    "collapsed": true
   },
   "outputs": [],
   "source": [
    "def get_model_full_summary(variable_list_input):\n",
    "    X = sample[variable_list_input]\n",
    "    y = sample['good_bad']\n",
    "    X_train, X_test, y_train, y_test = train_test_split(X, y, random_state = 1)\n",
    "    logistic_model = logistic.fit(X_train, y_train)\n",
    "\n",
    "    print('Score:')\n",
    "    print(logistic_model.score(X_test, y_test))\n",
    "    print('----------------')\n",
    "    for i in range(0, len(X.columns)):\n",
    "        print('Variable \"{}\" , Coefficient {}'.format(X.columns[i], logistic_model.coef_[0][i]))\n",
    "        print('   ')\n",
    "    print('----------------')\n",
    "    y_prob = logistic_model.predict_proba(X_test)[:,1]\n",
    "    y_predict = logistic_model.predict(X_test)\n",
    "\n",
    "    print('ROC-AUC Score:')\n",
    "    # roc auc score\n",
    "    return metrics.roc_auc_score(y_test, y_prob)"
   ]
  },
  {
   "cell_type": "code",
   "execution_count": 40,
   "metadata": {
    "collapsed": false
   },
   "outputs": [
    {
     "name": "stdout",
     "output_type": "stream",
     "text": [
      "Score:\n",
      "0.66915995397\n",
      "----------------\n",
      "Variable \"is_code_present\" , Coefficient 0.8323828992881231\n",
      "   \n",
      "Variable \"no_of_words\" , Coefficient 0.0006253912913383592\n",
      "   \n",
      "Variable \"no_of_sent\" , Coefficient 0.03387474209607688\n",
      "   \n",
      "Variable \"no_of_polysyllable_words\" , Coefficient 0.057904190686215475\n",
      "   \n",
      "Variable \"flesch_readability\" , Coefficient -0.010229774948124416\n",
      "   \n",
      "Variable \"sentiment\" , Coefficient 0.32564456016609555\n",
      "   \n",
      "Variable \"quantitative\" , Coefficient 3.7297905175844788\n",
      "   \n",
      "Variable \"descriptive\" , Coefficient -0.3187175312279934\n",
      "   \n",
      "----------------\n",
      "ROC-AUC Score:\n"
     ]
    },
    {
     "data": {
      "text/plain": [
       "0.72215157461662316"
      ]
     },
     "execution_count": 40,
     "metadata": {},
     "output_type": "execute_result"
    }
   ],
   "source": [
    "get_model_full_summary(['is_code_present', 'no_of_words', 'no_of_sent', 'no_of_polysyllable_words', 'flesch_readability', 'sentiment', 'quantitative', 'descriptive'])"
   ]
  }
 ],
 "metadata": {
  "anaconda-cloud": {},
  "kernelspec": {
   "display_name": "Python [conda root]",
   "language": "python",
   "name": "conda-root-py"
  },
  "language_info": {
   "codemirror_mode": {
    "name": "ipython",
    "version": 3
   },
   "file_extension": ".py",
   "mimetype": "text/x-python",
   "name": "python",
   "nbconvert_exporter": "python",
   "pygments_lexer": "ipython3",
   "version": "3.5.2"
  }
 },
 "nbformat": 4,
 "nbformat_minor": 2
}
