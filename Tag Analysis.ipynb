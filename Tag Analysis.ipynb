{
 "cells": [
  {
   "cell_type": "markdown",
   "metadata": {},
   "source": [
    "# Below are done for StackOverflow 10% Sample"
   ]
  },
  {
   "cell_type": "code",
   "execution_count": 1,
   "metadata": {
    "collapsed": true
   },
   "outputs": [],
   "source": [
    "#Specify all data paths\n",
    "stackQ_path = \"/Users/Ye/Desktop/BT4222/Project/SampleQuestions.csv\"\n",
    "stackA_path = \"/Users/Ye/Desktop/BT4222/Project/SampleAnswers.csv\"\n",
    "users_path = \"/Users/Ye/Desktop/BT4222/Project/Users.csv\"\n",
    "badges_path = \"/Users/Ye/Desktop/BT4222/Project/Badges.csv\"\n",
    "tags_path = \"/Users/Ye/Desktop/BT4222/Project/Tags.csv\"\n",
    "pyA_path = \"/Users/Ye/Desktop/BT4222/Project/Python Answers.csv\"\n",
    "pyQ_path = \"/Users/Ye/Desktop/BT4222/Project/Python Questions.csv\"\n",
    "pyT_path = \"/Users/Ye/Desktop/BT4222/Project/Python Tags.csv\""
   ]
  },
  {
   "cell_type": "markdown",
   "metadata": {},
   "source": [
    "# Import and prepare data"
   ]
  },
  {
   "cell_type": "code",
   "execution_count": 2,
   "metadata": {
    "collapsed": true
   },
   "outputs": [],
   "source": [
    "import pandas as pd\n",
    "from datetime import datetime"
   ]
  },
  {
   "cell_type": "code",
   "execution_count": 3,
   "metadata": {
    "collapsed": false
   },
   "outputs": [],
   "source": [
    "# stackSampleTags = pd.read_csv(tags_path, encoding='latin1')"
   ]
  },
  {
   "cell_type": "code",
   "execution_count": 4,
   "metadata": {
    "collapsed": false
   },
   "outputs": [],
   "source": [
    "#%store stackSampleTags"
   ]
  },
  {
   "cell_type": "code",
   "execution_count": 5,
   "metadata": {
    "collapsed": true
   },
   "outputs": [],
   "source": [
    "%store -r stackSampleTags"
   ]
  },
  {
   "cell_type": "code",
   "execution_count": 6,
   "metadata": {
    "collapsed": false
   },
   "outputs": [
    {
     "data": {
      "text/plain": [
       "(3750994, 2)"
      ]
     },
     "execution_count": 6,
     "metadata": {},
     "output_type": "execute_result"
    }
   ],
   "source": [
    "stackSampleTags.shape"
   ]
  },
  {
   "cell_type": "code",
   "execution_count": 7,
   "metadata": {
    "collapsed": false
   },
   "outputs": [],
   "source": [
    "stackSampleTags.rename(columns={'Id':'QuestionId', 'Tag':'QuestTags'}, inplace=True)"
   ]
  },
  {
   "cell_type": "code",
   "execution_count": 8,
   "metadata": {
    "collapsed": true
   },
   "outputs": [],
   "source": [
    "# %store -r stack_answer\n",
    "# %store -r stack_question\n",
    "# stackSampleQuestions = stack_question\n",
    "# stackSampleAnswers = stack_answer"
   ]
  },
  {
   "cell_type": "code",
   "execution_count": 9,
   "metadata": {
    "collapsed": false
   },
   "outputs": [],
   "source": [
    "# stackSampleQuestions.rename(columns={'Id':'QuestionId', 'OwnerUserId':'QuestUserId', 'CreationDate':'QuestCreationDate', 'ClosedDate':'QuestClosedDate', 'Score':'QuestScore', 'Body':'QuestBody', 'Title':'QuestTitle'}, inplace=True)"
   ]
  },
  {
   "cell_type": "code",
   "execution_count": 10,
   "metadata": {
    "collapsed": true
   },
   "outputs": [],
   "source": [
    "# del stackSampleQuestions[\"QuestBody\"]\n",
    "# del stackSampleQuestions[\"QuestTitle\"]"
   ]
  },
  {
   "cell_type": "code",
   "execution_count": 11,
   "metadata": {
    "collapsed": false
   },
   "outputs": [],
   "source": [
    "# %store stackSampleQuestions"
   ]
  },
  {
   "cell_type": "code",
   "execution_count": 12,
   "metadata": {
    "collapsed": true
   },
   "outputs": [],
   "source": [
    "%store -r stackSampleQuestions"
   ]
  },
  {
   "cell_type": "code",
   "execution_count": 13,
   "metadata": {
    "collapsed": false
   },
   "outputs": [],
   "source": [
    "stackSampleQuestions[\"QuestCreationDate\"] = pd.to_datetime(stackSampleQuestions[\"QuestCreationDate\"])"
   ]
  },
  {
   "cell_type": "code",
   "execution_count": 14,
   "metadata": {
    "collapsed": false
   },
   "outputs": [],
   "source": [
    "mask4 = (stackSampleQuestions['QuestCreationDate'] >= datetime.strptime('2008-10-15', '%Y-%m-%d')) & (stackSampleQuestions['QuestCreationDate'] <= datetime.strptime('2016-10-12', '%Y-%m-%d'))"
   ]
  },
  {
   "cell_type": "code",
   "execution_count": 15,
   "metadata": {
    "collapsed": false
   },
   "outputs": [],
   "source": [
    "stackSampleQuestions = stackSampleQuestions.loc[mask4]"
   ]
  },
  {
   "cell_type": "code",
   "execution_count": 16,
   "metadata": {
    "collapsed": true
   },
   "outputs": [],
   "source": [
    "stackSampleQuestions = stackSampleQuestions[stackSampleQuestions['QuestClosedDate'].isnull()]"
   ]
  },
  {
   "cell_type": "code",
   "execution_count": 17,
   "metadata": {
    "collapsed": false
   },
   "outputs": [
    {
     "data": {
      "text/html": [
       "<div>\n",
       "<table border=\"1\" class=\"dataframe\">\n",
       "  <thead>\n",
       "    <tr style=\"text-align: right;\">\n",
       "      <th></th>\n",
       "      <th>QuestionId</th>\n",
       "      <th>UserID</th>\n",
       "      <th>QuestCreationDate</th>\n",
       "      <th>QuestClosedDate</th>\n",
       "      <th>QuestScore</th>\n",
       "    </tr>\n",
       "  </thead>\n",
       "  <tbody>\n",
       "    <tr>\n",
       "      <th>2588</th>\n",
       "      <td>203340</td>\n",
       "      <td>27580.0</td>\n",
       "      <td>2008-10-15 00:35:54</td>\n",
       "      <td>NaN</td>\n",
       "      <td>32</td>\n",
       "    </tr>\n",
       "    <tr>\n",
       "      <th>2589</th>\n",
       "      <td>203520</td>\n",
       "      <td>5496.0</td>\n",
       "      <td>2008-10-15 02:19:28</td>\n",
       "      <td>NaN</td>\n",
       "      <td>2</td>\n",
       "    </tr>\n",
       "    <tr>\n",
       "      <th>2590</th>\n",
       "      <td>203590</td>\n",
       "      <td>361.0</td>\n",
       "      <td>2008-10-15 03:05:53</td>\n",
       "      <td>NaN</td>\n",
       "      <td>0</td>\n",
       "    </tr>\n",
       "    <tr>\n",
       "      <th>2591</th>\n",
       "      <td>203620</td>\n",
       "      <td>28098.0</td>\n",
       "      <td>2008-10-15 03:25:18</td>\n",
       "      <td>NaN</td>\n",
       "      <td>2</td>\n",
       "    </tr>\n",
       "    <tr>\n",
       "      <th>2592</th>\n",
       "      <td>203640</td>\n",
       "      <td>NaN</td>\n",
       "      <td>2008-10-15 03:35:44</td>\n",
       "      <td>NaN</td>\n",
       "      <td>1</td>\n",
       "    </tr>\n",
       "  </tbody>\n",
       "</table>\n",
       "</div>"
      ],
      "text/plain": [
       "      QuestionId   UserID   QuestCreationDate QuestClosedDate  QuestScore\n",
       "2588      203340  27580.0 2008-10-15 00:35:54             NaN          32\n",
       "2589      203520   5496.0 2008-10-15 02:19:28             NaN           2\n",
       "2590      203590    361.0 2008-10-15 03:05:53             NaN           0\n",
       "2591      203620  28098.0 2008-10-15 03:25:18             NaN           2\n",
       "2592      203640      NaN 2008-10-15 03:35:44             NaN           1"
      ]
     },
     "execution_count": 17,
     "metadata": {},
     "output_type": "execute_result"
    }
   ],
   "source": [
    "stackSampleQuestions.head()"
   ]
  },
  {
   "cell_type": "code",
   "execution_count": 18,
   "metadata": {
    "collapsed": false
   },
   "outputs": [],
   "source": [
    "stackQuestionsTags = pd.merge(stackSampleQuestions, stackSampleTags, on='QuestionId')"
   ]
  },
  {
   "cell_type": "code",
   "execution_count": 19,
   "metadata": {
    "collapsed": false
   },
   "outputs": [
    {
     "data": {
      "text/html": [
       "<div>\n",
       "<table border=\"1\" class=\"dataframe\">\n",
       "  <thead>\n",
       "    <tr style=\"text-align: right;\">\n",
       "      <th></th>\n",
       "      <th>QuestionId</th>\n",
       "      <th>UserID</th>\n",
       "      <th>QuestCreationDate</th>\n",
       "      <th>QuestClosedDate</th>\n",
       "      <th>QuestScore</th>\n",
       "      <th>QuestTags</th>\n",
       "    </tr>\n",
       "  </thead>\n",
       "  <tbody>\n",
       "    <tr>\n",
       "      <th>0</th>\n",
       "      <td>203340</td>\n",
       "      <td>27580.0</td>\n",
       "      <td>2008-10-15 00:35:54</td>\n",
       "      <td>NaN</td>\n",
       "      <td>32</td>\n",
       "      <td>jquery</td>\n",
       "    </tr>\n",
       "    <tr>\n",
       "      <th>1</th>\n",
       "      <td>203520</td>\n",
       "      <td>5496.0</td>\n",
       "      <td>2008-10-15 02:19:28</td>\n",
       "      <td>NaN</td>\n",
       "      <td>2</td>\n",
       "      <td>.net</td>\n",
       "    </tr>\n",
       "    <tr>\n",
       "      <th>2</th>\n",
       "      <td>203520</td>\n",
       "      <td>5496.0</td>\n",
       "      <td>2008-10-15 02:19:28</td>\n",
       "      <td>NaN</td>\n",
       "      <td>2</td>\n",
       "      <td>winforms</td>\n",
       "    </tr>\n",
       "    <tr>\n",
       "      <th>3</th>\n",
       "      <td>203520</td>\n",
       "      <td>5496.0</td>\n",
       "      <td>2008-10-15 02:19:28</td>\n",
       "      <td>NaN</td>\n",
       "      <td>2</td>\n",
       "      <td>data-binding</td>\n",
       "    </tr>\n",
       "    <tr>\n",
       "      <th>4</th>\n",
       "      <td>203590</td>\n",
       "      <td>361.0</td>\n",
       "      <td>2008-10-15 03:05:53</td>\n",
       "      <td>NaN</td>\n",
       "      <td>0</td>\n",
       "      <td>visual-studio</td>\n",
       "    </tr>\n",
       "  </tbody>\n",
       "</table>\n",
       "</div>"
      ],
      "text/plain": [
       "   QuestionId   UserID   QuestCreationDate QuestClosedDate  QuestScore  \\\n",
       "0      203340  27580.0 2008-10-15 00:35:54             NaN          32   \n",
       "1      203520   5496.0 2008-10-15 02:19:28             NaN           2   \n",
       "2      203520   5496.0 2008-10-15 02:19:28             NaN           2   \n",
       "3      203520   5496.0 2008-10-15 02:19:28             NaN           2   \n",
       "4      203590    361.0 2008-10-15 03:05:53             NaN           0   \n",
       "\n",
       "       QuestTags  \n",
       "0         jquery  \n",
       "1           .net  \n",
       "2       winforms  \n",
       "3   data-binding  \n",
       "4  visual-studio  "
      ]
     },
     "execution_count": 19,
     "metadata": {},
     "output_type": "execute_result"
    }
   ],
   "source": [
    "stackQuestionsTags.head()"
   ]
  },
  {
   "cell_type": "code",
   "execution_count": 20,
   "metadata": {
    "collapsed": true
   },
   "outputs": [],
   "source": [
    "stackQuestionsTags = stackQuestionsTags.copy()"
   ]
  },
  {
   "cell_type": "code",
   "execution_count": 21,
   "metadata": {
    "collapsed": false
   },
   "outputs": [],
   "source": [
    "stackQuestionsTags.ix[(stackQuestionsTags['QuestCreationDate'] >= datetime.strptime('2008-10-15', '%Y-%m-%d')) & (stackQuestionsTags['QuestCreationDate'] < datetime.strptime('2009-10-15', '%Y-%m-%d')), 'QuestCreationYear'] = \"Oct'08-09\"\n",
    "stackQuestionsTags.ix[(stackQuestionsTags['QuestCreationDate'] >= datetime.strptime('2009-10-15', '%Y-%m-%d')) & (stackQuestionsTags['QuestCreationDate'] < datetime.strptime('2010-10-15', '%Y-%m-%d')), 'QuestCreationYear'] = \"Oct'09-10\"\n",
    "stackQuestionsTags.ix[(stackQuestionsTags['QuestCreationDate'] >= datetime.strptime('2010-10-15', '%Y-%m-%d')) & (stackQuestionsTags['QuestCreationDate'] < datetime.strptime('2011-10-15', '%Y-%m-%d')), 'QuestCreationYear'] = \"Oct'10-11\"\n",
    "stackQuestionsTags.ix[(stackQuestionsTags['QuestCreationDate'] >= datetime.strptime('2011-10-15', '%Y-%m-%d')) & (stackQuestionsTags['QuestCreationDate'] < datetime.strptime('2012-10-15', '%Y-%m-%d')), 'QuestCreationYear'] = \"Oct'11-12\"\n",
    "stackQuestionsTags.ix[(stackQuestionsTags['QuestCreationDate'] >= datetime.strptime('2012-10-15', '%Y-%m-%d')) & (stackQuestionsTags['QuestCreationDate'] < datetime.strptime('2013-10-15', '%Y-%m-%d')), 'QuestCreationYear'] = \"Oct'12-13\"\n",
    "stackQuestionsTags.ix[(stackQuestionsTags['QuestCreationDate'] >= datetime.strptime('2013-10-15', '%Y-%m-%d')) & (stackQuestionsTags['QuestCreationDate'] < datetime.strptime('2014-10-15', '%Y-%m-%d')), 'QuestCreationYear'] = \"Oct'13-14\"\n",
    "stackQuestionsTags.ix[(stackQuestionsTags['QuestCreationDate'] >= datetime.strptime('2014-10-15', '%Y-%m-%d')) & (stackQuestionsTags['QuestCreationDate'] < datetime.strptime('2015-10-15', '%Y-%m-%d')), 'QuestCreationYear'] = \"Oct'14-15\"\n",
    "stackQuestionsTags.ix[(stackQuestionsTags['QuestCreationDate'] >= datetime.strptime('2015-10-15', '%Y-%m-%d')) & (stackQuestionsTags['QuestCreationDate'] < datetime.strptime('2016-10-15', '%Y-%m-%d')), 'QuestCreationYear'] = \"Oct'15-16\""
   ]
  },
  {
   "cell_type": "code",
   "execution_count": 22,
   "metadata": {
    "collapsed": false
   },
   "outputs": [],
   "source": [
    "stackQuestionsTags.rename(columns={'Tag':'QuestTags'}, inplace=True)"
   ]
  },
  {
   "cell_type": "code",
   "execution_count": 23,
   "metadata": {
    "collapsed": false
   },
   "outputs": [
    {
     "data": {
      "text/html": [
       "<div>\n",
       "<table border=\"1\" class=\"dataframe\">\n",
       "  <thead>\n",
       "    <tr style=\"text-align: right;\">\n",
       "      <th></th>\n",
       "      <th>QuestionId</th>\n",
       "      <th>UserID</th>\n",
       "      <th>QuestCreationDate</th>\n",
       "      <th>QuestClosedDate</th>\n",
       "      <th>QuestScore</th>\n",
       "      <th>QuestTags</th>\n",
       "      <th>QuestCreationYear</th>\n",
       "    </tr>\n",
       "  </thead>\n",
       "  <tbody>\n",
       "    <tr>\n",
       "      <th>0</th>\n",
       "      <td>203340</td>\n",
       "      <td>27580.0</td>\n",
       "      <td>2008-10-15 00:35:54</td>\n",
       "      <td>NaN</td>\n",
       "      <td>32</td>\n",
       "      <td>jquery</td>\n",
       "      <td>Oct'08-09</td>\n",
       "    </tr>\n",
       "    <tr>\n",
       "      <th>1</th>\n",
       "      <td>203520</td>\n",
       "      <td>5496.0</td>\n",
       "      <td>2008-10-15 02:19:28</td>\n",
       "      <td>NaN</td>\n",
       "      <td>2</td>\n",
       "      <td>.net</td>\n",
       "      <td>Oct'08-09</td>\n",
       "    </tr>\n",
       "    <tr>\n",
       "      <th>2</th>\n",
       "      <td>203520</td>\n",
       "      <td>5496.0</td>\n",
       "      <td>2008-10-15 02:19:28</td>\n",
       "      <td>NaN</td>\n",
       "      <td>2</td>\n",
       "      <td>winforms</td>\n",
       "      <td>Oct'08-09</td>\n",
       "    </tr>\n",
       "    <tr>\n",
       "      <th>3</th>\n",
       "      <td>203520</td>\n",
       "      <td>5496.0</td>\n",
       "      <td>2008-10-15 02:19:28</td>\n",
       "      <td>NaN</td>\n",
       "      <td>2</td>\n",
       "      <td>data-binding</td>\n",
       "      <td>Oct'08-09</td>\n",
       "    </tr>\n",
       "    <tr>\n",
       "      <th>4</th>\n",
       "      <td>203590</td>\n",
       "      <td>361.0</td>\n",
       "      <td>2008-10-15 03:05:53</td>\n",
       "      <td>NaN</td>\n",
       "      <td>0</td>\n",
       "      <td>visual-studio</td>\n",
       "      <td>Oct'08-09</td>\n",
       "    </tr>\n",
       "  </tbody>\n",
       "</table>\n",
       "</div>"
      ],
      "text/plain": [
       "   QuestionId   UserID   QuestCreationDate QuestClosedDate  QuestScore  \\\n",
       "0      203340  27580.0 2008-10-15 00:35:54             NaN          32   \n",
       "1      203520   5496.0 2008-10-15 02:19:28             NaN           2   \n",
       "2      203520   5496.0 2008-10-15 02:19:28             NaN           2   \n",
       "3      203520   5496.0 2008-10-15 02:19:28             NaN           2   \n",
       "4      203590    361.0 2008-10-15 03:05:53             NaN           0   \n",
       "\n",
       "       QuestTags QuestCreationYear  \n",
       "0         jquery         Oct'08-09  \n",
       "1           .net         Oct'08-09  \n",
       "2       winforms         Oct'08-09  \n",
       "3   data-binding         Oct'08-09  \n",
       "4  visual-studio         Oct'08-09  "
      ]
     },
     "execution_count": 23,
     "metadata": {},
     "output_type": "execute_result"
    }
   ],
   "source": [
    "stackQuestionsTags.head()"
   ]
  },
  {
   "cell_type": "code",
   "execution_count": 24,
   "metadata": {
    "collapsed": false
   },
   "outputs": [],
   "source": [
    "stackSampleQuestions.rename(columns={'Id':'AnswerId', 'CreationDate':'AnsCreationDate', 'ParentId':'QuestionId', 'Score':'AnsScore', 'Body':'AnsBody'}, inplace=True)"
   ]
  },
  {
   "cell_type": "markdown",
   "metadata": {},
   "source": [
    "# Graph Plot 1: Number of Questions Created Every Year"
   ]
  },
  {
   "cell_type": "code",
   "execution_count": 25,
   "metadata": {
    "collapsed": true
   },
   "outputs": [],
   "source": [
    "import seaborn as sns"
   ]
  },
  {
   "cell_type": "code",
   "execution_count": 26,
   "metadata": {
    "collapsed": false
   },
   "outputs": [
    {
     "data": {
      "image/png": "[encoded data removed]",
      "text/plain": [
       "<matplotlib.figure.Figure at 0x126e7d5d0>"
      ]
     },
     "metadata": {},
     "output_type": "display_data"
    }
   ],
   "source": [
    "#number of tags used over the years\n",
    "%matplotlib inline\n",
    "ax = sns.countplot(x=\"QuestCreationYear\", data=stackQuestionsTags)"
   ]
  },
  {
   "cell_type": "code",
   "execution_count": 27,
   "metadata": {
    "collapsed": false
   },
   "outputs": [],
   "source": [
    "#36763 unique QuestTags, tail(23300)\n",
    "yearQuestTag = pd.DataFrame(stackQuestionsTags.groupby('QuestCreationYear').QuestTags.value_counts().rename('YearTagCount')).reset_index()"
   ]
  },
  {
   "cell_type": "code",
   "execution_count": 28,
   "metadata": {
    "collapsed": false
   },
   "outputs": [
    {
     "data": {
      "text/html": [
       "<div>\n",
       "<table border=\"1\" class=\"dataframe\">\n",
       "  <thead>\n",
       "    <tr style=\"text-align: right;\">\n",
       "      <th></th>\n",
       "      <th>QuestCreationYear</th>\n",
       "      <th>QuestTags</th>\n",
       "      <th>YearTagCount</th>\n",
       "    </tr>\n",
       "  </thead>\n",
       "  <tbody>\n",
       "    <tr>\n",
       "      <th>0</th>\n",
       "      <td>Oct'08-09</td>\n",
       "      <td>c#</td>\n",
       "      <td>3682</td>\n",
       "    </tr>\n",
       "    <tr>\n",
       "      <th>1</th>\n",
       "      <td>Oct'08-09</td>\n",
       "      <td>.net</td>\n",
       "      <td>2014</td>\n",
       "    </tr>\n",
       "    <tr>\n",
       "      <th>2</th>\n",
       "      <td>Oct'08-09</td>\n",
       "      <td>java</td>\n",
       "      <td>1846</td>\n",
       "    </tr>\n",
       "    <tr>\n",
       "      <th>3</th>\n",
       "      <td>Oct'08-09</td>\n",
       "      <td>asp.net</td>\n",
       "      <td>1710</td>\n",
       "    </tr>\n",
       "    <tr>\n",
       "      <th>4</th>\n",
       "      <td>Oct'08-09</td>\n",
       "      <td>php</td>\n",
       "      <td>1468</td>\n",
       "    </tr>\n",
       "  </tbody>\n",
       "</table>\n",
       "</div>"
      ],
      "text/plain": [
       "  QuestCreationYear QuestTags  YearTagCount\n",
       "0         Oct'08-09        c#          3682\n",
       "1         Oct'08-09      .net          2014\n",
       "2         Oct'08-09      java          1846\n",
       "3         Oct'08-09   asp.net          1710\n",
       "4         Oct'08-09       php          1468"
      ]
     },
     "execution_count": 28,
     "metadata": {},
     "output_type": "execute_result"
    }
   ],
   "source": [
    "yearQuestTag.head()"
   ]
  },
  {
   "cell_type": "code",
   "execution_count": 29,
   "metadata": {
    "collapsed": false
   },
   "outputs": [],
   "source": [
    "#realise iphone tag was changed to ios\n",
    "yearQuestTag = yearQuestTag.replace(\"iphone\", \"ios\")"
   ]
  },
  {
   "cell_type": "code",
   "execution_count": 30,
   "metadata": {
    "collapsed": false
   },
   "outputs": [],
   "source": [
    "topYearQuestTag = yearQuestTag.groupby('QuestCreationYear').head(10)"
   ]
  },
  {
   "cell_type": "code",
   "execution_count": 31,
   "metadata": {
    "collapsed": false
   },
   "outputs": [
    {
     "data": {
      "text/html": [
       "<div>\n",
       "<table border=\"1\" class=\"dataframe\">\n",
       "  <thead>\n",
       "    <tr style=\"text-align: right;\">\n",
       "      <th></th>\n",
       "      <th>QuestCreationYear</th>\n",
       "      <th>QuestTags</th>\n",
       "      <th>YearTagCount</th>\n",
       "    </tr>\n",
       "  </thead>\n",
       "  <tbody>\n",
       "    <tr>\n",
       "      <th>0</th>\n",
       "      <td>Oct'08-09</td>\n",
       "      <td>c#</td>\n",
       "      <td>3682</td>\n",
       "    </tr>\n",
       "    <tr>\n",
       "      <th>1</th>\n",
       "      <td>Oct'08-09</td>\n",
       "      <td>.net</td>\n",
       "      <td>2014</td>\n",
       "    </tr>\n",
       "    <tr>\n",
       "      <th>2</th>\n",
       "      <td>Oct'08-09</td>\n",
       "      <td>java</td>\n",
       "      <td>1846</td>\n",
       "    </tr>\n",
       "    <tr>\n",
       "      <th>3</th>\n",
       "      <td>Oct'08-09</td>\n",
       "      <td>asp.net</td>\n",
       "      <td>1710</td>\n",
       "    </tr>\n",
       "    <tr>\n",
       "      <th>4</th>\n",
       "      <td>Oct'08-09</td>\n",
       "      <td>php</td>\n",
       "      <td>1468</td>\n",
       "    </tr>\n",
       "  </tbody>\n",
       "</table>\n",
       "</div>"
      ],
      "text/plain": [
       "  QuestCreationYear QuestTags  YearTagCount\n",
       "0         Oct'08-09        c#          3682\n",
       "1         Oct'08-09      .net          2014\n",
       "2         Oct'08-09      java          1846\n",
       "3         Oct'08-09   asp.net          1710\n",
       "4         Oct'08-09       php          1468"
      ]
     },
     "execution_count": 31,
     "metadata": {},
     "output_type": "execute_result"
    }
   ],
   "source": [
    "topYearQuestTag.head()"
   ]
  },
  {
   "cell_type": "code",
   "execution_count": 32,
   "metadata": {
    "collapsed": false
   },
   "outputs": [],
   "source": [
    "yearCount = yearQuestTag.groupby('QuestCreationYear').YearTagCount.agg('sum').rename('TotalYearCount').reset_index()"
   ]
  },
  {
   "cell_type": "code",
   "execution_count": 33,
   "metadata": {
    "collapsed": false
   },
   "outputs": [],
   "source": [
    "topYearQuestTag = pd.merge(topYearQuestTag, yearCount, on='QuestCreationYear')"
   ]
  },
  {
   "cell_type": "code",
   "execution_count": 34,
   "metadata": {
    "collapsed": true
   },
   "outputs": [],
   "source": [
    "topYearQuestTag['Percentage'] = topYearQuestTag.YearTagCount * 100 / topYearQuestTag.TotalYearCount"
   ]
  },
  {
   "cell_type": "code",
   "execution_count": 35,
   "metadata": {
    "collapsed": false
   },
   "outputs": [],
   "source": [
    "tomerge = topYearQuestTag.groupby('QuestCreationYear').YearTagCount.agg('sum').rename('TopTagTotalCount').reset_index()"
   ]
  },
  {
   "cell_type": "code",
   "execution_count": 36,
   "metadata": {
    "collapsed": false
   },
   "outputs": [],
   "source": [
    "topYearQuestTag = pd.merge(topYearQuestTag, tomerge, on='QuestCreationYear')"
   ]
  },
  {
   "cell_type": "code",
   "execution_count": 37,
   "metadata": {
    "collapsed": false
   },
   "outputs": [],
   "source": [
    "topYearQuestTag['PercentageAmongstTop'] = topYearQuestTag.YearTagCount * 100 / topYearQuestTag.TopTagTotalCount"
   ]
  },
  {
   "cell_type": "code",
   "execution_count": 38,
   "metadata": {
    "collapsed": false
   },
   "outputs": [],
   "source": [
    "topYearQuestTag.sort_values(['QuestCreationYear', 'QuestTags'], inplace=True)"
   ]
  },
  {
   "cell_type": "code",
   "execution_count": 39,
   "metadata": {
    "collapsed": false
   },
   "outputs": [
    {
     "data": {
      "text/html": [
       "<div>\n",
       "<table border=\"1\" class=\"dataframe\">\n",
       "  <thead>\n",
       "    <tr style=\"text-align: right;\">\n",
       "      <th></th>\n",
       "      <th>QuestCreationYear</th>\n",
       "      <th>QuestTags</th>\n",
       "      <th>YearTagCount</th>\n",
       "      <th>TotalYearCount</th>\n",
       "      <th>Percentage</th>\n",
       "      <th>TopTagTotalCount</th>\n",
       "      <th>PercentageAmongstTop</th>\n",
       "    </tr>\n",
       "  </thead>\n",
       "  <tbody>\n",
       "    <tr>\n",
       "      <th>1</th>\n",
       "      <td>Oct'08-09</td>\n",
       "      <td>.net</td>\n",
       "      <td>2014</td>\n",
       "      <td>77299</td>\n",
       "      <td>2.605467</td>\n",
       "      <td>16374</td>\n",
       "      <td>12.299988</td>\n",
       "    </tr>\n",
       "    <tr>\n",
       "      <th>3</th>\n",
       "      <td>Oct'08-09</td>\n",
       "      <td>asp.net</td>\n",
       "      <td>1710</td>\n",
       "      <td>77299</td>\n",
       "      <td>2.212189</td>\n",
       "      <td>16374</td>\n",
       "      <td>10.443386</td>\n",
       "    </tr>\n",
       "    <tr>\n",
       "      <th>0</th>\n",
       "      <td>Oct'08-09</td>\n",
       "      <td>c#</td>\n",
       "      <td>3682</td>\n",
       "      <td>77299</td>\n",
       "      <td>4.763322</td>\n",
       "      <td>16374</td>\n",
       "      <td>22.486869</td>\n",
       "    </tr>\n",
       "    <tr>\n",
       "      <th>6</th>\n",
       "      <td>Oct'08-09</td>\n",
       "      <td>c++</td>\n",
       "      <td>1285</td>\n",
       "      <td>77299</td>\n",
       "      <td>1.662376</td>\n",
       "      <td>16374</td>\n",
       "      <td>7.847807</td>\n",
       "    </tr>\n",
       "    <tr>\n",
       "      <th>8</th>\n",
       "      <td>Oct'08-09</td>\n",
       "      <td>ios</td>\n",
       "      <td>988</td>\n",
       "      <td>77299</td>\n",
       "      <td>1.278154</td>\n",
       "      <td>16374</td>\n",
       "      <td>6.033956</td>\n",
       "    </tr>\n",
       "    <tr>\n",
       "      <th>2</th>\n",
       "      <td>Oct'08-09</td>\n",
       "      <td>java</td>\n",
       "      <td>1846</td>\n",
       "      <td>77299</td>\n",
       "      <td>2.388129</td>\n",
       "      <td>16374</td>\n",
       "      <td>11.273971</td>\n",
       "    </tr>\n",
       "    <tr>\n",
       "      <th>5</th>\n",
       "      <td>Oct'08-09</td>\n",
       "      <td>javascript</td>\n",
       "      <td>1382</td>\n",
       "      <td>77299</td>\n",
       "      <td>1.787863</td>\n",
       "      <td>16374</td>\n",
       "      <td>8.440210</td>\n",
       "    </tr>\n",
       "    <tr>\n",
       "      <th>9</th>\n",
       "      <td>Oct'08-09</td>\n",
       "      <td>jquery</td>\n",
       "      <td>976</td>\n",
       "      <td>77299</td>\n",
       "      <td>1.262630</td>\n",
       "      <td>16374</td>\n",
       "      <td>5.960669</td>\n",
       "    </tr>\n",
       "    <tr>\n",
       "      <th>4</th>\n",
       "      <td>Oct'08-09</td>\n",
       "      <td>php</td>\n",
       "      <td>1468</td>\n",
       "      <td>77299</td>\n",
       "      <td>1.899119</td>\n",
       "      <td>16374</td>\n",
       "      <td>8.965433</td>\n",
       "    </tr>\n",
       "    <tr>\n",
       "      <th>7</th>\n",
       "      <td>Oct'08-09</td>\n",
       "      <td>python</td>\n",
       "      <td>1023</td>\n",
       "      <td>77299</td>\n",
       "      <td>1.323432</td>\n",
       "      <td>16374</td>\n",
       "      <td>6.247710</td>\n",
       "    </tr>\n",
       "    <tr>\n",
       "      <th>16</th>\n",
       "      <td>Oct'09-10</td>\n",
       "      <td>.net</td>\n",
       "      <td>2911</td>\n",
       "      <td>173761</td>\n",
       "      <td>1.675290</td>\n",
       "      <td>36833</td>\n",
       "      <td>7.903239</td>\n",
       "    </tr>\n",
       "    <tr>\n",
       "      <th>17</th>\n",
       "      <td>Oct'09-10</td>\n",
       "      <td>asp.net</td>\n",
       "      <td>2871</td>\n",
       "      <td>173761</td>\n",
       "      <td>1.652269</td>\n",
       "      <td>36833</td>\n",
       "      <td>7.794641</td>\n",
       "    </tr>\n",
       "    <tr>\n",
       "      <th>10</th>\n",
       "      <td>Oct'09-10</td>\n",
       "      <td>c#</td>\n",
       "      <td>6729</td>\n",
       "      <td>173761</td>\n",
       "      <td>3.872561</td>\n",
       "      <td>36833</td>\n",
       "      <td>18.268944</td>\n",
       "    </tr>\n",
       "    <tr>\n",
       "      <th>18</th>\n",
       "      <td>Oct'09-10</td>\n",
       "      <td>c++</td>\n",
       "      <td>2705</td>\n",
       "      <td>173761</td>\n",
       "      <td>1.556736</td>\n",
       "      <td>36833</td>\n",
       "      <td>7.343958</td>\n",
       "    </tr>\n",
       "    <tr>\n",
       "      <th>15</th>\n",
       "      <td>Oct'09-10</td>\n",
       "      <td>ios</td>\n",
       "      <td>3249</td>\n",
       "      <td>173761</td>\n",
       "      <td>1.869810</td>\n",
       "      <td>36833</td>\n",
       "      <td>8.820894</td>\n",
       "    </tr>\n",
       "    <tr>\n",
       "      <th>11</th>\n",
       "      <td>Oct'09-10</td>\n",
       "      <td>java</td>\n",
       "      <td>4492</td>\n",
       "      <td>173761</td>\n",
       "      <td>2.585160</td>\n",
       "      <td>36833</td>\n",
       "      <td>12.195585</td>\n",
       "    </tr>\n",
       "    <tr>\n",
       "      <th>13</th>\n",
       "      <td>Oct'09-10</td>\n",
       "      <td>javascript</td>\n",
       "      <td>3660</td>\n",
       "      <td>173761</td>\n",
       "      <td>2.106341</td>\n",
       "      <td>36833</td>\n",
       "      <td>9.936742</td>\n",
       "    </tr>\n",
       "    <tr>\n",
       "      <th>14</th>\n",
       "      <td>Oct'09-10</td>\n",
       "      <td>jquery</td>\n",
       "      <td>3476</td>\n",
       "      <td>173761</td>\n",
       "      <td>2.000449</td>\n",
       "      <td>36833</td>\n",
       "      <td>9.437189</td>\n",
       "    </tr>\n",
       "    <tr>\n",
       "      <th>12</th>\n",
       "      <td>Oct'09-10</td>\n",
       "      <td>php</td>\n",
       "      <td>4362</td>\n",
       "      <td>173761</td>\n",
       "      <td>2.510345</td>\n",
       "      <td>36833</td>\n",
       "      <td>11.842641</td>\n",
       "    </tr>\n",
       "    <tr>\n",
       "      <th>19</th>\n",
       "      <td>Oct'09-10</td>\n",
       "      <td>python</td>\n",
       "      <td>2378</td>\n",
       "      <td>173761</td>\n",
       "      <td>1.368546</td>\n",
       "      <td>36833</td>\n",
       "      <td>6.456167</td>\n",
       "    </tr>\n",
       "    <tr>\n",
       "      <th>24</th>\n",
       "      <td>Oct'10-11</td>\n",
       "      <td>android</td>\n",
       "      <td>7289</td>\n",
       "      <td>315059</td>\n",
       "      <td>2.313535</td>\n",
       "      <td>67073</td>\n",
       "      <td>10.867264</td>\n",
       "    </tr>\n",
       "    <tr>\n",
       "      <th>28</th>\n",
       "      <td>Oct'10-11</td>\n",
       "      <td>asp.net</td>\n",
       "      <td>3964</td>\n",
       "      <td>315059</td>\n",
       "      <td>1.258177</td>\n",
       "      <td>67073</td>\n",
       "      <td>5.909979</td>\n",
       "    </tr>\n",
       "    <tr>\n",
       "      <th>20</th>\n",
       "      <td>Oct'10-11</td>\n",
       "      <td>c#</td>\n",
       "      <td>10348</td>\n",
       "      <td>315059</td>\n",
       "      <td>3.284464</td>\n",
       "      <td>67073</td>\n",
       "      <td>15.427967</td>\n",
       "    </tr>\n",
       "    <tr>\n",
       "      <th>27</th>\n",
       "      <td>Oct'10-11</td>\n",
       "      <td>c++</td>\n",
       "      <td>4259</td>\n",
       "      <td>315059</td>\n",
       "      <td>1.351810</td>\n",
       "      <td>67073</td>\n",
       "      <td>6.349798</td>\n",
       "    </tr>\n",
       "    <tr>\n",
       "      <th>26</th>\n",
       "      <td>Oct'10-11</td>\n",
       "      <td>ios</td>\n",
       "      <td>5208</td>\n",
       "      <td>315059</td>\n",
       "      <td>1.653024</td>\n",
       "      <td>67073</td>\n",
       "      <td>7.764674</td>\n",
       "    </tr>\n",
       "    <tr>\n",
       "      <th>22</th>\n",
       "      <td>Oct'10-11</td>\n",
       "      <td>java</td>\n",
       "      <td>8522</td>\n",
       "      <td>315059</td>\n",
       "      <td>2.704890</td>\n",
       "      <td>67073</td>\n",
       "      <td>12.705560</td>\n",
       "    </tr>\n",
       "    <tr>\n",
       "      <th>23</th>\n",
       "      <td>Oct'10-11</td>\n",
       "      <td>javascript</td>\n",
       "      <td>7853</td>\n",
       "      <td>315059</td>\n",
       "      <td>2.492549</td>\n",
       "      <td>67073</td>\n",
       "      <td>11.708139</td>\n",
       "    </tr>\n",
       "    <tr>\n",
       "      <th>25</th>\n",
       "      <td>Oct'10-11</td>\n",
       "      <td>jquery</td>\n",
       "      <td>7161</td>\n",
       "      <td>315059</td>\n",
       "      <td>2.272908</td>\n",
       "      <td>67073</td>\n",
       "      <td>10.676427</td>\n",
       "    </tr>\n",
       "    <tr>\n",
       "      <th>21</th>\n",
       "      <td>Oct'10-11</td>\n",
       "      <td>php</td>\n",
       "      <td>8546</td>\n",
       "      <td>315059</td>\n",
       "      <td>2.712508</td>\n",
       "      <td>67073</td>\n",
       "      <td>12.741342</td>\n",
       "    </tr>\n",
       "    <tr>\n",
       "      <th>29</th>\n",
       "      <td>Oct'10-11</td>\n",
       "      <td>python</td>\n",
       "      <td>3923</td>\n",
       "      <td>315059</td>\n",
       "      <td>1.245164</td>\n",
       "      <td>67073</td>\n",
       "      <td>5.848851</td>\n",
       "    </tr>\n",
       "    <tr>\n",
       "      <th>33</th>\n",
       "      <td>Oct'11-12</td>\n",
       "      <td>android</td>\n",
       "      <td>12183</td>\n",
       "      <td>443437</td>\n",
       "      <td>2.747403</td>\n",
       "      <td>95948</td>\n",
       "      <td>12.697503</td>\n",
       "    </tr>\n",
       "    <tr>\n",
       "      <th>31</th>\n",
       "      <td>Oct'11-12</td>\n",
       "      <td>c#</td>\n",
       "      <td>12697</td>\n",
       "      <td>443437</td>\n",
       "      <td>2.863315</td>\n",
       "      <td>95948</td>\n",
       "      <td>13.233210</td>\n",
       "    </tr>\n",
       "    <tr>\n",
       "      <th>38</th>\n",
       "      <td>Oct'11-12</td>\n",
       "      <td>c++</td>\n",
       "      <td>5578</td>\n",
       "      <td>443437</td>\n",
       "      <td>1.257901</td>\n",
       "      <td>95948</td>\n",
       "      <td>5.813566</td>\n",
       "    </tr>\n",
       "    <tr>\n",
       "      <th>37</th>\n",
       "      <td>Oct'11-12</td>\n",
       "      <td>html</td>\n",
       "      <td>5655</td>\n",
       "      <td>443437</td>\n",
       "      <td>1.275266</td>\n",
       "      <td>95948</td>\n",
       "      <td>5.893817</td>\n",
       "    </tr>\n",
       "    <tr>\n",
       "      <th>36</th>\n",
       "      <td>Oct'11-12</td>\n",
       "      <td>ios</td>\n",
       "      <td>6449</td>\n",
       "      <td>443437</td>\n",
       "      <td>1.454322</td>\n",
       "      <td>95948</td>\n",
       "      <td>6.721349</td>\n",
       "    </tr>\n",
       "    <tr>\n",
       "      <th>30</th>\n",
       "      <td>Oct'11-12</td>\n",
       "      <td>java</td>\n",
       "      <td>12967</td>\n",
       "      <td>443437</td>\n",
       "      <td>2.924203</td>\n",
       "      <td>95948</td>\n",
       "      <td>13.514612</td>\n",
       "    </tr>\n",
       "    <tr>\n",
       "      <th>32</th>\n",
       "      <td>Oct'11-12</td>\n",
       "      <td>javascript</td>\n",
       "      <td>12225</td>\n",
       "      <td>443437</td>\n",
       "      <td>2.756874</td>\n",
       "      <td>95948</td>\n",
       "      <td>12.741277</td>\n",
       "    </tr>\n",
       "    <tr>\n",
       "      <th>35</th>\n",
       "      <td>Oct'11-12</td>\n",
       "      <td>jquery</td>\n",
       "      <td>10656</td>\n",
       "      <td>443437</td>\n",
       "      <td>2.403047</td>\n",
       "      <td>95948</td>\n",
       "      <td>11.106016</td>\n",
       "    </tr>\n",
       "    <tr>\n",
       "      <th>34</th>\n",
       "      <td>Oct'11-12</td>\n",
       "      <td>php</td>\n",
       "      <td>11962</td>\n",
       "      <td>443437</td>\n",
       "      <td>2.697565</td>\n",
       "      <td>95948</td>\n",
       "      <td>12.467170</td>\n",
       "    </tr>\n",
       "    <tr>\n",
       "      <th>39</th>\n",
       "      <td>Oct'11-12</td>\n",
       "      <td>python</td>\n",
       "      <td>5576</td>\n",
       "      <td>443437</td>\n",
       "      <td>1.257450</td>\n",
       "      <td>95948</td>\n",
       "      <td>5.811481</td>\n",
       "    </tr>\n",
       "  </tbody>\n",
       "</table>\n",
       "</div>"
      ],
      "text/plain": [
       "   QuestCreationYear   QuestTags  YearTagCount  TotalYearCount  Percentage  \\\n",
       "1          Oct'08-09        .net          2014           77299    2.605467   \n",
       "3          Oct'08-09     asp.net          1710           77299    2.212189   \n",
       "0          Oct'08-09          c#          3682           77299    4.763322   \n",
       "6          Oct'08-09         c++          1285           77299    1.662376   \n",
       "8          Oct'08-09         ios           988           77299    1.278154   \n",
       "2          Oct'08-09        java          1846           77299    2.388129   \n",
       "5          Oct'08-09  javascript          1382           77299    1.787863   \n",
       "9          Oct'08-09      jquery           976           77299    1.262630   \n",
       "4          Oct'08-09         php          1468           77299    1.899119   \n",
       "7          Oct'08-09      python          1023           77299    1.323432   \n",
       "16         Oct'09-10        .net          2911          173761    1.675290   \n",
       "17         Oct'09-10     asp.net          2871          173761    1.652269   \n",
       "10         Oct'09-10          c#          6729          173761    3.872561   \n",
       "18         Oct'09-10         c++          2705          173761    1.556736   \n",
       "15         Oct'09-10         ios          3249          173761    1.869810   \n",
       "11         Oct'09-10        java          4492          173761    2.585160   \n",
       "13         Oct'09-10  javascript          3660          173761    2.106341   \n",
       "14         Oct'09-10      jquery          3476          173761    2.000449   \n",
       "12         Oct'09-10         php          4362          173761    2.510345   \n",
       "19         Oct'09-10      python          2378          173761    1.368546   \n",
       "24         Oct'10-11     android          7289          315059    2.313535   \n",
       "28         Oct'10-11     asp.net          3964          315059    1.258177   \n",
       "20         Oct'10-11          c#         10348          315059    3.284464   \n",
       "27         Oct'10-11         c++          4259          315059    1.351810   \n",
       "26         Oct'10-11         ios          5208          315059    1.653024   \n",
       "22         Oct'10-11        java          8522          315059    2.704890   \n",
       "23         Oct'10-11  javascript          7853          315059    2.492549   \n",
       "25         Oct'10-11      jquery          7161          315059    2.272908   \n",
       "21         Oct'10-11         php          8546          315059    2.712508   \n",
       "29         Oct'10-11      python          3923          315059    1.245164   \n",
       "33         Oct'11-12     android         12183          443437    2.747403   \n",
       "31         Oct'11-12          c#         12697          443437    2.863315   \n",
       "38         Oct'11-12         c++          5578          443437    1.257901   \n",
       "37         Oct'11-12        html          5655          443437    1.275266   \n",
       "36         Oct'11-12         ios          6449          443437    1.454322   \n",
       "30         Oct'11-12        java         12967          443437    2.924203   \n",
       "32         Oct'11-12  javascript         12225          443437    2.756874   \n",
       "35         Oct'11-12      jquery         10656          443437    2.403047   \n",
       "34         Oct'11-12         php         11962          443437    2.697565   \n",
       "39         Oct'11-12      python          5576          443437    1.257450   \n",
       "\n",
       "    TopTagTotalCount  PercentageAmongstTop  \n",
       "1              16374             12.299988  \n",
       "3              16374             10.443386  \n",
       "0              16374             22.486869  \n",
       "6              16374              7.847807  \n",
       "8              16374              6.033956  \n",
       "2              16374             11.273971  \n",
       "5              16374              8.440210  \n",
       "9              16374              5.960669  \n",
       "4              16374              8.965433  \n",
       "7              16374              6.247710  \n",
       "16             36833              7.903239  \n",
       "17             36833              7.794641  \n",
       "10             36833             18.268944  \n",
       "18             36833              7.343958  \n",
       "15             36833              8.820894  \n",
       "11             36833             12.195585  \n",
       "13             36833              9.936742  \n",
       "14             36833              9.437189  \n",
       "12             36833             11.842641  \n",
       "19             36833              6.456167  \n",
       "24             67073             10.867264  \n",
       "28             67073              5.909979  \n",
       "20             67073             15.427967  \n",
       "27             67073              6.349798  \n",
       "26             67073              7.764674  \n",
       "22             67073             12.705560  \n",
       "23             67073             11.708139  \n",
       "25             67073             10.676427  \n",
       "21             67073             12.741342  \n",
       "29             67073              5.848851  \n",
       "33             95948             12.697503  \n",
       "31             95948             13.233210  \n",
       "38             95948              5.813566  \n",
       "37             95948              5.893817  \n",
       "36             95948              6.721349  \n",
       "30             95948             13.514612  \n",
       "32             95948             12.741277  \n",
       "35             95948             11.106016  \n",
       "34             95948             12.467170  \n",
       "39             95948              5.811481  "
      ]
     },
     "execution_count": 39,
     "metadata": {},
     "output_type": "execute_result"
    }
   ],
   "source": [
    "topYearQuestTag.head(40)"
   ]
  },
  {
   "cell_type": "markdown",
   "metadata": {},
   "source": [
    "# Graph Plot 2: Change in Top 10 Tags Over  the Years"
   ]
  },
  {
   "cell_type": "code",
   "execution_count": 40,
   "metadata": {
    "collapsed": false,
    "scrolled": false
   },
   "outputs": [
    {
     "data": {
      "text/html": [
       "\n",
       "    <div class=\"bk-root\">\n",
       "        <a href=\"http://bokeh.pydata.org\" target=\"_blank\" class=\"bk-logo bk-logo-small bk-logo-notebook\"></a>\n",
       "        <span id=\"2263a382-bcb1-4823-aac2-4bd6cae46839\">Loading BokehJS ...</span>\n",
       "    </div>"
      ]
     },
     "metadata": {},
     "output_type": "display_data"
    },
    {
     "data": {
      "application/javascript": [
       "\n",
       "(function(global) {\n",
       "  function now() {\n",
       "    return new Date();\n",
       "  }\n",
       "\n",
       "  if (typeof (window._bokeh_onload_callbacks) === \"undefined\") {\n",
       "    window._bokeh_onload_callbacks = [];\n",
       "  }\n",
       "\n",
       "  function run_callbacks() {\n",
       "    window._bokeh_onload_callbacks.forEach(function(callback) { callback() });\n",
       "    delete window._bokeh_onload_callbacks\n",
       "    console.info(\"Bokeh: all callbacks have finished\");\n",
       "  }\n",
       "\n",
       "  function load_libs(js_urls, callback) {\n",
       "    window._bokeh_onload_callbacks.push(callback);\n",
       "    if (window._bokeh_is_loading > 0) {\n",
       "      console.log(\"Bokeh: BokehJS is being loaded, scheduling callback at\", now());\n",
       "      return null;\n",
       "    }\n",
       "    if (js_urls == null || js_urls.length === 0) {\n",
       "      run_callbacks();\n",
       "      return null;\n",
       "    }\n",
       "    console.log(\"Bokeh: BokehJS not loaded, scheduling load and callback at\", now());\n",
       "    window._bokeh_is_loading = js_urls.length;\n",
       "    for (var i = 0; i < js_urls.length; i++) {\n",
       "      var url = js_urls[i];\n",
       "      var s = document.createElement('script');\n",
       "      s.src = url;\n",
       "      s.async = false;\n",
       "      s.onreadystatechange = s.onload = function() {\n",
       "        window._bokeh_is_loading--;\n",
       "        if (window._bokeh_is_loading === 0) {\n",
       "          console.log(\"Bokeh: all BokehJS libraries loaded\");\n",
       "          run_callbacks()\n",
       "        }\n",
       "      };\n",
       "      s.onerror = function() {\n",
       "        console.warn(\"failed to load library \" + url);\n",
       "      };\n",
       "      console.log(\"Bokeh: injecting script tag for BokehJS library: \", url);\n",
       "      document.getElementsByTagName(\"head\")[0].appendChild(s);\n",
       "    }\n",
       "  };\n",
       "\n",
       "  var js_urls = ['https://cdn.pydata.org/bokeh/release/bokeh-0.12.0.min.js', 'https://cdn.pydata.org/bokeh/release/bokeh-widgets-0.12.0.min.js', 'https://cdn.pydata.org/bokeh/release/bokeh-compiler-0.12.0.min.js'];\n",
       "\n",
       "  var inline_js = [\n",
       "    function(Bokeh) {\n",
       "      Bokeh.set_log_level(\"info\");\n",
       "    },\n",
       "    \n",
       "    function(Bokeh) {\n",
       "      Bokeh.$(\"#2263a382-bcb1-4823-aac2-4bd6cae46839\").text(\"BokehJS successfully loaded\");\n",
       "    },\n",
       "    function(Bokeh) {\n",
       "      console.log(\"Bokeh: injecting CSS: https://cdn.pydata.org/bokeh/release/bokeh-0.12.0.min.css\");\n",
       "      Bokeh.embed.inject_css(\"https://cdn.pydata.org/bokeh/release/bokeh-0.12.0.min.css\");\n",
       "      console.log(\"Bokeh: injecting CSS: https://cdn.pydata.org/bokeh/release/bokeh-widgets-0.12.0.min.css\");\n",
       "      Bokeh.embed.inject_css(\"https://cdn.pydata.org/bokeh/release/bokeh-widgets-0.12.0.min.css\");\n",
       "    }\n",
       "  ];\n",
       "\n",
       "  function run_inline_js() {\n",
       "    for (var i = 0; i < inline_js.length; i++) {\n",
       "      inline_js[i](window.Bokeh);\n",
       "    }\n",
       "  }\n",
       "\n",
       "  if (window._bokeh_is_loading === 0) {\n",
       "    console.log(\"Bokeh: BokehJS loaded, going straight to plotting\");\n",
       "    run_inline_js();\n",
       "  } else {\n",
       "    load_libs(js_urls, function() {\n",
       "      console.log(\"Bokeh: BokehJS plotting callback run at\", now());\n",
       "      run_inline_js();\n",
       "    });\n",
       "  }\n",
       "}(this));"
      ]
     },
     "metadata": {},
     "output_type": "display_data"
    },
    {
     "data": {
      "text/html": [
       "\n",
       "\n",
       "    <div class=\"bk-root\">\n",
       "        <div class=\"plotdiv\" id=\"b122593f-e814-4390-8c7f-a065146acc47\"></div>\n",
       "    </div>\n",
       "<script type=\"text/javascript\">\n",
       "  \n",
       "  (function(global) {\n",
       "    function now() {\n",
       "      return new Date();\n",
       "    }\n",
       "  \n",
       "    if (typeof (window._bokeh_onload_callbacks) === \"undefined\") {\n",
       "      window._bokeh_onload_callbacks = [];\n",
       "    }\n",
       "  \n",
       "    function run_callbacks() {\n",
       "      window._bokeh_onload_callbacks.forEach(function(callback) { callback() });\n",
       "      delete window._bokeh_onload_callbacks\n",
       "      console.info(\"Bokeh: all callbacks have finished\");\n",
       "    }\n",
       "  \n",
       "    function load_libs(js_urls, callback) {\n",
       "      window._bokeh_onload_callbacks.push(callback);\n",
       "      if (window._bokeh_is_loading > 0) {\n",
       "        console.log(\"Bokeh: BokehJS is being loaded, scheduling callback at\", now());\n",
       "        return null;\n",
       "      }\n",
       "      if (js_urls == null || js_urls.length === 0) {\n",
       "        run_callbacks();\n",
       "        return null;\n",
       "      }\n",
       "      console.log(\"Bokeh: BokehJS not loaded, scheduling load and callback at\", now());\n",
       "      window._bokeh_is_loading = js_urls.length;\n",
       "      for (var i = 0; i < js_urls.length; i++) {\n",
       "        var url = js_urls[i];\n",
       "        var s = document.createElement('script');\n",
       "        s.src = url;\n",
       "        s.async = false;\n",
       "        s.onreadystatechange = s.onload = function() {\n",
       "          window._bokeh_is_loading--;\n",
       "          if (window._bokeh_is_loading === 0) {\n",
       "            console.log(\"Bokeh: all BokehJS libraries loaded\");\n",
       "            run_callbacks()\n",
       "          }\n",
       "        };\n",
       "        s.onerror = function() {\n",
       "          console.warn(\"failed to load library \" + url);\n",
       "        };\n",
       "        console.log(\"Bokeh: injecting script tag for BokehJS library: \", url);\n",
       "        document.getElementsByTagName(\"head\")[0].appendChild(s);\n",
       "      }\n",
       "    };var element = document.getElementById(\"b122593f-e814-4390-8c7f-a065146acc47\");\n",
       "    if (element == null) {\n",
       "      console.log(\"Bokeh: ERROR: autoload.js configured with elementid 'b122593f-e814-4390-8c7f-a065146acc47' but no matching script tag was found. \")\n",
       "      return false;\n",
       "    }\n",
       "  \n",
       "    var js_urls = [];\n",
       "  \n",
       "    var inline_js = [\n",
       "      function(Bokeh) {\n",
       "        Bokeh.$(function() {\n",
       "            var docs_json = {\"39b556d5-01de-4005-97b2-aece730207c3\":{\"roots\":{\"references\":[{\"attributes\":{\"data_source\":{\"id\":\"62c9cf63-3156-4b98-96b0-5b5eb19c74b8\",\"type\":\"ColumnDataSource\"},\"glyph\":{\"id\":\"555a9de6-159b-411e-b31d-5bd8c9b218a6\",\"type\":\"Rect\"},\"hover_glyph\":null,\"nonselection_glyph\":null,\"selection_glyph\":null},\"id\":\"e47cd15f-06d4-4138-ad43-0a15ee4731b3\",\"type\":\"GlyphRenderer\"},{\"attributes\":{\"fill_alpha\":{\"field\":\"fill_alpha\"},\"fill_color\":{\"field\":\"color\"},\"height\":{\"field\":\"height\",\"units\":\"data\"},\"line_color\":{\"field\":\"line_color\"},\"width\":{\"field\":\"width\",\"units\":\"data\"},\"x\":{\"field\":\"x\"},\"y\":{\"field\":\"y\"}},\"id\":\"37b92d4f-ad37-4479-bf32-5be0163d95de\",\"type\":\"Rect\"},{\"attributes\":{\"fill_alpha\":{\"field\":\"fill_alpha\"},\"fill_color\":{\"field\":\"color\"},\"height\":{\"field\":\"height\",\"units\":\"data\"},\"line_color\":{\"field\":\"line_color\"},\"width\":{\"field\":\"width\",\"units\":\"data\"},\"x\":{\"field\":\"x\"},\"y\":{\"field\":\"y\"}},\"id\":\"096263ce-9b9a-48f8-9887-12350137f90a\",\"type\":\"Rect\"},{\"attributes\":{\"callback\":null,\"column_names\":[\"line_color\",\"line_alpha\",\"color\",\"fill_alpha\",\"height\",\"width\",\"y\",\"x\",\"label\"],\"data\":{\"PercentageAmongstTop\":[9.936741508972933],\"QuestCreationYear\":[\"Oct'09-10\"],\"QuestTags\":[\"javascript\"],\"YearTagCount\":[3660],\"chart_index\":[{\"PercentageAmongstTop\":9.936741508972933,\"QuestCreationYear\":\"Oct'09-10\",\"QuestTags\":\"javascript\",\"YearTagCount\":3660}],\"color\":[\"#FFB6C1\"],\"fill_alpha\":[0.8],\"height\":[9.936741508972933],\"label\":[{\"PercentageAmongstTop\":9.936741508972933,\"QuestCreationYear\":\"Oct'09-10\",\"QuestTags\":\"javascript\",\"YearTagCount\":3660}],\"line_alpha\":[1.0],\"line_color\":[\"#40E0D0\"],\"width\":[1.0],\"x\":[\"Oct'09-10\"],\"y\":[67.29563163467543]}},\"id\":\"b0a6e7a5-4523-4331-9e66-ef1e85f2a4a9\",\"type\":\"ColumnDataSource\"},{\"attributes\":{\"callback\":null,\"column_names\":[\"line_color\",\"line_alpha\",\"color\",\"fill_alpha\",\"height\",\"width\",\"y\",\"x\",\"label\"],\"data\":{\"PercentageAmongstTop\":[7.794640675481226],\"QuestCreationYear\":[\"Oct'09-10\"],\"QuestTags\":[\"asp.net\"],\"YearTagCount\":[2871],\"chart_index\":[{\"PercentageAmongstTop\":7.794640675481226,\"QuestCreationYear\":\"Oct'09-10\",\"QuestTags\":\"asp.net\",\"YearTagCount\":2871}],\"color\":[\"#F0E68C\"],\"fill_alpha\":[0.8],\"height\":[7.794640675481226],\"label\":[{\"PercentageAmongstTop\":7.794640675481226,\"QuestCreationYear\":\"Oct'09-10\",\"QuestTags\":\"asp.net\",\"YearTagCount\":2871}],\"line_alpha\":[1.0],\"line_color\":[\"#20B2AA\"],\"width\":[1.0],\"x\":[\"Oct'09-10\"],\"y\":[11.800559281079467]}},\"id\":\"323290f1-d267-49be-8faf-d0e300e0916c\",\"type\":\"ColumnDataSource\"},{\"attributes\":{\"callback\":null,\"column_names\":[\"line_color\",\"line_alpha\",\"color\",\"fill_alpha\",\"height\",\"width\",\"y\",\"x\",\"label\"],\"data\":{\"PercentageAmongstTop\":[7.343957863872071],\"QuestCreationYear\":[\"Oct'09-10\"],\"QuestTags\":[\"c++\"],\"YearTagCount\":[2705],\"chart_index\":[{\"PercentageAmongstTop\":7.343957863872071,\"QuestCreationYear\":\"Oct'09-10\",\"QuestTags\":\"c++\",\"YearTagCount\":2705}],\"color\":[\"#FFF0F5\"],\"fill_alpha\":[0.8],\"height\":[7.343957863872071],\"label\":[{\"PercentageAmongstTop\":7.343957863872071,\"QuestCreationYear\":\"Oct'09-10\",\"QuestTags\":\"c++\",\"YearTagCount\":2705}],\"line_alpha\":[1.0],\"line_color\":[\"#87CEFA\"],\"width\":[1.0],\"x\":[\"Oct'09-10\"],\"y\":[37.63880216110553]}},\"id\":\"73bde19b-9456-4dc8-9a5c-3dca41c76ab8\",\"type\":\"ColumnDataSource\"},{\"attributes\":{\"fill_alpha\":{\"field\":\"fill_alpha\"},\"fill_color\":{\"field\":\"color\"},\"height\":{\"field\":\"height\",\"units\":\"data\"},\"line_color\":{\"field\":\"line_color\"},\"width\":{\"field\":\"width\",\"units\":\"data\"},\"x\":{\"field\":\"x\"},\"y\":{\"field\":\"y\"}},\"id\":\"34b2ebee-6356-4bde-9710-af9a0a19c160\",\"type\":\"Rect\"},{\"attributes\":{\"callback\":null,\"column_names\":[\"line_color\",\"line_alpha\",\"color\",\"fill_alpha\",\"height\",\"width\",\"y\",\"x\",\"label\"],\"data\":{\"PercentageAmongstTop\":[8.820894306735807],\"QuestCreationYear\":[\"Oct'09-10\"],\"QuestTags\":[\"ios\"],\"YearTagCount\":[3249],\"chart_index\":[{\"PercentageAmongstTop\":8.820894306735807,\"QuestCreationYear\":\"Oct'09-10\",\"QuestTags\":\"ios\",\"YearTagCount\":3249}],\"color\":[\"#F08080\"],\"fill_alpha\":[0.8],\"height\":[8.820894306735807],\"label\":[{\"PercentageAmongstTop\":8.820894306735807,\"QuestCreationYear\":\"Oct'09-10\",\"QuestTags\":\"ios\",\"YearTagCount\":3249}],\"line_alpha\":[1.0],\"line_color\":[\"#778899\"],\"width\":[1.0],\"x\":[\"Oct'09-10\"],\"y\":[45.72122824640947]}},\"id\":\"778d4adc-d204-4ab4-b744-d77bf6048f7b\",\"type\":\"ColumnDataSource\"},{\"attributes\":{\"callback\":null,\"column_names\":[\"line_color\",\"line_alpha\",\"color\",\"fill_alpha\",\"height\",\"width\",\"y\",\"x\",\"label\"],\"data\":{\"PercentageAmongstTop\":[15.42796654391484],\"QuestCreationYear\":[\"Oct'10-11\"],\"QuestTags\":[\"c#\"],\"YearTagCount\":[10348],\"chart_index\":[{\"PercentageAmongstTop\":15.42796654391484,\"QuestCreationYear\":\"Oct'10-11\",\"QuestTags\":\"c#\",\"YearTagCount\":10348}],\"color\":[\"#E6E6FA\"],\"fill_alpha\":[0.8],\"height\":[15.42796654391484],\"label\":[{\"PercentageAmongstTop\":15.42796654391484,\"QuestCreationYear\":\"Oct'10-11\",\"QuestTags\":\"c#\",\"YearTagCount\":10348}],\"line_alpha\":[1.0],\"line_color\":[\"#20B2AA\"],\"width\":[1.0],\"x\":[\"Oct'10-11\"],\"y\":[24.491225977666126]}},\"id\":\"6517889f-6052-4f9d-aa2a-7a0482a86e4c\",\"type\":\"ColumnDataSource\"},{\"attributes\":{\"data_source\":{\"id\":\"74e4c585-c6cb-4a44-944f-6afacad70360\",\"type\":\"ColumnDataSource\"},\"glyph\":{\"id\":\"6204144c-9493-49e1-8dc0-a62fc1f6d560\",\"type\":\"Rect\"},\"hover_glyph\":null,\"nonselection_glyph\":null,\"selection_glyph\":null},\"id\":\"5f32b316-0428-46c8-8adb-2d1a43473d69\",\"type\":\"GlyphRenderer\"},{\"attributes\":{\"data_source\":{\"id\":\"38923b65-767f-474d-9cb8-2c21f6fa17b4\",\"type\":\"ColumnDataSource\"},\"glyph\":{\"id\":\"b7bb4492-1034-4a76-ab45-504ee9e811b0\",\"type\":\"Rect\"},\"hover_glyph\":null,\"nonselection_glyph\":null,\"selection_glyph\":null},\"id\":\"9340aa8a-6026-4157-928a-264a995b9f63\",\"type\":\"GlyphRenderer\"},{\"attributes\":{\"callback\":null,\"column_names\":[\"line_color\",\"line_alpha\",\"color\",\"fill_alpha\",\"height\",\"width\",\"y\",\"x\",\"label\"],\"data\":{\"PercentageAmongstTop\":[6.456167024135965],\"QuestCreationYear\":[\"Oct'09-10\"],\"QuestTags\":[\"python\"],\"YearTagCount\":[2378],\"chart_index\":[{\"PercentageAmongstTop\":6.456167024135965,\"QuestCreationYear\":\"Oct'09-10\",\"QuestTags\":\"python\",\"YearTagCount\":2378}],\"color\":[\"#FFA07A\"],\"fill_alpha\":[0.8],\"height\":[6.456167024135965],\"label\":[{\"PercentageAmongstTop\":6.456167024135965,\"QuestCreationYear\":\"Oct'09-10\",\"QuestTags\":\"python\",\"YearTagCount\":2378}],\"line_alpha\":[1.0],\"line_color\":[\"#FFB6C1\"],\"width\":[1.0],\"x\":[\"Oct'09-10\"],\"y\":[96.771916487932]}},\"id\":\"b8edcca5-9fdd-4ae9-a72a-4c78083832d7\",\"type\":\"ColumnDataSource\"},{\"attributes\":{\"fill_alpha\":{\"field\":\"fill_alpha\"},\"fill_color\":{\"field\":\"color\"},\"height\":{\"field\":\"height\",\"units\":\"data\"},\"line_color\":{\"field\":\"line_color\"},\"width\":{\"field\":\"width\",\"units\":\"data\"},\"x\":{\"field\":\"x\"},\"y\":{\"field\":\"y\"}},\"id\":\"817a3467-3984-4857-9dfc-ea590ca4c774\",\"type\":\"Rect\"},{\"attributes\":{\"data_source\":{\"id\":\"89421d8a-8f22-43ec-b573-c9df6ed2093c\",\"type\":\"ColumnDataSource\"},\"glyph\":{\"id\":\"3cb36fb8-3865-48f6-845a-d50d4386f74a\",\"type\":\"Rect\"},\"hover_glyph\":null,\"nonselection_glyph\":null,\"selection_glyph\":null},\"id\":\"e7ef2ebe-755c-4d48-954c-93c3bafdee20\",\"type\":\"GlyphRenderer\"},{\"attributes\":{\"callback\":null,\"column_names\":[\"line_color\",\"line_alpha\",\"color\",\"fill_alpha\",\"height\",\"width\",\"y\",\"x\",\"label\"],\"data\":{\"PercentageAmongstTop\":[6.837177926223305],\"QuestCreationYear\":[\"Oct'12-13\"],\"QuestTags\":[\"python\"],\"YearTagCount\":[8311],\"chart_index\":[{\"PercentageAmongstTop\":6.837177926223305,\"QuestCreationYear\":\"Oct'12-13\",\"QuestTags\":\"python\",\"YearTagCount\":8311}],\"color\":[\"#FFA07A\"],\"fill_alpha\":[0.8],\"height\":[6.837177926223305],\"label\":[{\"PercentageAmongstTop\":6.837177926223305,\"QuestCreationYear\":\"Oct'12-13\",\"QuestTags\":\"python\",\"YearTagCount\":8311}],\"line_alpha\":[1.0],\"line_color\":[\"#FFF0F5\"],\"width\":[1.0],\"x\":[\"Oct'12-13\"],\"y\":[96.58141103688834]}},\"id\":\"c0d52731-ea02-4209-a725-841b046d264e\",\"type\":\"ColumnDataSource\"},{\"attributes\":{\"fill_alpha\":{\"field\":\"fill_alpha\"},\"fill_color\":{\"field\":\"color\"},\"height\":{\"field\":\"height\",\"units\":\"data\"},\"line_color\":{\"field\":\"line_color\"},\"width\":{\"field\":\"width\",\"units\":\"data\"},\"x\":{\"field\":\"x\"},\"y\":{\"field\":\"y\"}},\"id\":\"881c5deb-5f2f-4882-8f23-28f8da731170\",\"type\":\"Rect\"},{\"attributes\":{\"fill_alpha\":{\"field\":\"fill_alpha\"},\"fill_color\":{\"field\":\"color\"},\"height\":{\"field\":\"height\",\"units\":\"data\"},\"line_color\":{\"field\":\"line_color\"},\"width\":{\"field\":\"width\",\"units\":\"data\"},\"x\":{\"field\":\"x\"},\"y\":{\"field\":\"y\"}},\"id\":\"58fd837b-d561-44b9-92b3-2c24e523eee6\",\"type\":\"Rect\"},{\"attributes\":{\"fill_alpha\":{\"field\":\"fill_alpha\"},\"fill_color\":{\"field\":\"color\"},\"height\":{\"field\":\"height\",\"units\":\"data\"},\"line_color\":{\"field\":\"line_color\"},\"width\":{\"field\":\"width\",\"units\":\"data\"},\"x\":{\"field\":\"x\"},\"y\":{\"field\":\"y\"}},\"id\":\"f3a6b982-9f4d-4055-94d8-7937b1dd13d9\",\"type\":\"Rect\"},{\"attributes\":{\"callback\":null,\"column_names\":[\"line_color\",\"line_alpha\",\"color\",\"fill_alpha\",\"height\",\"width\",\"y\",\"x\",\"label\"],\"data\":{\"PercentageAmongstTop\":[17.64661762224125],\"QuestCreationYear\":[\"Oct'15-16\"],\"QuestTags\":[\"javascript\"],\"YearTagCount\":[28233],\"chart_index\":[{\"PercentageAmongstTop\":17.64661762224125,\"QuestCreationYear\":\"Oct'15-16\",\"QuestTags\":\"javascript\",\"YearTagCount\":28233}],\"color\":[\"#FFB6C1\"],\"fill_alpha\":[0.8],\"height\":[17.64661762224125],\"label\":[{\"PercentageAmongstTop\":17.64661762224125,\"QuestCreationYear\":\"Oct'15-16\",\"QuestTags\":\"javascript\",\"YearTagCount\":28233}],\"line_alpha\":[1.0],\"line_color\":[\"#40E0D0\"],\"width\":[1.0],\"x\":[\"Oct'15-16\"],\"y\":[62.880724540755416]}},\"id\":\"c3a21f83-5396-4bcd-a8b5-abd559f7745c\",\"type\":\"ColumnDataSource\"},{\"attributes\":{\"callback\":null,\"column_names\":[\"line_color\",\"line_alpha\",\"color\",\"fill_alpha\",\"height\",\"width\",\"y\",\"x\",\"label\"],\"data\":{\"PercentageAmongstTop\":[6.033956272138757],\"QuestCreationYear\":[\"Oct'08-09\"],\"QuestTags\":[\"ios\"],\"YearTagCount\":[988],\"chart_index\":[{\"PercentageAmongstTop\":6.033956272138757,\"QuestCreationYear\":\"Oct'08-09\",\"QuestTags\":\"ios\",\"YearTagCount\":988}],\"color\":[\"#F08080\"],\"fill_alpha\":[0.8],\"height\":[6.033956272138757],\"label\":[{\"PercentageAmongstTop\":6.033956272138757,\"QuestCreationYear\":\"Oct'08-09\",\"QuestTags\":\"ios\",\"YearTagCount\":988}],\"line_alpha\":[1.0],\"line_color\":[\"#FF6347\"],\"width\":[1.0],\"x\":[\"Oct'08-09\"],\"y\":[56.095028704042996]}},\"id\":\"3d4014b2-b822-410c-b315-3a19e1e06bd5\",\"type\":\"ColumnDataSource\"},{\"attributes\":{\"fill_alpha\":{\"field\":\"fill_alpha\"},\"fill_color\":{\"field\":\"color\"},\"height\":{\"field\":\"height\",\"units\":\"data\"},\"line_color\":{\"field\":\"line_color\"},\"width\":{\"field\":\"width\",\"units\":\"data\"},\"x\":{\"field\":\"x\"},\"y\":{\"field\":\"y\"}},\"id\":\"6204144c-9493-49e1-8dc0-a62fc1f6d560\",\"type\":\"Rect\"},{\"attributes\":{\"callback\":null,\"column_names\":[\"line_color\",\"line_alpha\",\"color\",\"fill_alpha\",\"height\",\"width\",\"y\",\"x\",\"label\"],\"data\":{\"PercentageAmongstTop\":[7.604802770155821],\"QuestCreationYear\":[\"Oct'15-16\"],\"QuestTags\":[\"html\"],\"YearTagCount\":[12167],\"chart_index\":[{\"PercentageAmongstTop\":7.604802770155821,\"QuestCreationYear\":\"Oct'15-16\",\"QuestTags\":\"html\",\"YearTagCount\":12167}],\"color\":[\"#ADD8E6\"],\"fill_alpha\":[0.8],\"height\":[7.604802770155821],\"label\":[{\"PercentageAmongstTop\":7.604802770155821,\"QuestCreationYear\":\"Oct'15-16\",\"QuestTags\":\"html\",\"YearTagCount\":12167}],\"line_alpha\":[1.0],\"line_color\":[\"#FF6347\"],\"width\":[1.0],\"x\":[\"Oct'15-16\"],\"y\":[30.73329124763268]}},\"id\":\"df53e578-0950-452e-841d-114e2cff835b\",\"type\":\"ColumnDataSource\"},{\"attributes\":{\"data_source\":{\"id\":\"652d9ad0-8a15-4a9a-aeb8-3c92eea60ff2\",\"type\":\"ColumnDataSource\"},\"glyph\":{\"id\":\"c99f9d14-5d1e-45fc-84ca-0b3b0a84a849\",\"type\":\"Rect\"},\"hover_glyph\":null,\"nonselection_glyph\":null,\"selection_glyph\":null},\"id\":\"90d8a846-f207-4636-a192-37735d863e7a\",\"type\":\"GlyphRenderer\"},{\"attributes\":{\"callback\":null,\"column_names\":[\"line_color\",\"line_alpha\",\"color\",\"fill_alpha\",\"height\",\"width\",\"y\",\"x\",\"label\"],\"data\":{\"PercentageAmongstTop\":[10.966139063476916],\"QuestCreationYear\":[\"Oct'12-13\"],\"QuestTags\":[\"jquery\"],\"YearTagCount\":[13330],\"chart_index\":[{\"PercentageAmongstTop\":10.966139063476916,\"QuestCreationYear\":\"Oct'12-13\",\"QuestTags\":\"jquery\",\"YearTagCount\":13330}],\"color\":[\"#87CEFA\"],\"fill_alpha\":[0.8],\"height\":[10.966139063476916],\"label\":[{\"PercentageAmongstTop\":10.966139063476916,\"QuestCreationYear\":\"Oct'12-13\",\"QuestTags\":\"jquery\",\"YearTagCount\":13330}],\"line_alpha\":[1.0],\"line_color\":[\"#FFB6C1\"],\"width\":[1.0],\"x\":[\"Oct'12-13\"],\"y\":[75.7815327914706]}},\"id\":\"9db02b13-26cc-4de7-a42c-7ce5a66e280d\",\"type\":\"ColumnDataSource\"},{\"attributes\":{\"data_source\":{\"id\":\"aa717643-55be-4417-b9ab-806a26435e53\",\"type\":\"ColumnDataSource\"},\"glyph\":{\"id\":\"62bbb811-2ea7-4434-b31c-415a0b5736a7\",\"type\":\"Rect\"},\"hover_glyph\":null,\"nonselection_glyph\":null,\"selection_glyph\":null},\"id\":\"fe4cbc0a-5e3c-4531-b69b-f153c9a4b7c0\",\"type\":\"GlyphRenderer\"},{\"attributes\":{\"callback\":null,\"column_names\":[\"line_color\",\"line_alpha\",\"color\",\"fill_alpha\",\"height\",\"width\",\"y\",\"x\",\"label\"],\"data\":{\"PercentageAmongstTop\":[8.44021008916575],\"QuestCreationYear\":[\"Oct'08-09\"],\"QuestTags\":[\"javascript\"],\"YearTagCount\":[1382],\"chart_index\":[{\"PercentageAmongstTop\":8.44021008916575,\"QuestCreationYear\":\"Oct'08-09\",\"QuestTags\":\"javascript\",\"YearTagCount\":1382}],\"color\":[\"#FFB6C1\"],\"fill_alpha\":[0.8],\"height\":[8.44021008916575],\"label\":[{\"PercentageAmongstTop\":8.44021008916575,\"QuestCreationYear\":\"Oct'08-09\",\"QuestTags\":\"javascript\",\"YearTagCount\":1382}],\"line_alpha\":[1.0],\"line_color\":[\"#FFF0F5\"],\"width\":[1.0],\"x\":[\"Oct'08-09\"],\"y\":[74.60608281421767]}},\"id\":\"7177f943-7220-436b-9ad8-85f315a6b0e9\",\"type\":\"ColumnDataSource\"},{\"attributes\":{\"callback\":null,\"column_names\":[\"line_color\",\"line_alpha\",\"color\",\"fill_alpha\",\"height\",\"width\",\"y\",\"x\",\"label\"],\"data\":{\"PercentageAmongstTop\":[11.000664037619764],\"QuestCreationYear\":[\"Oct'13-14\"],\"QuestTags\":[\"c#\"],\"YearTagCount\":[16235],\"chart_index\":[{\"PercentageAmongstTop\":11.000664037619764,\"QuestCreationYear\":\"Oct'13-14\",\"QuestTags\":\"c#\",\"YearTagCount\":16235}],\"color\":[\"#E6E6FA\"],\"fill_alpha\":[0.8],\"height\":[11.000664037619764],\"label\":[{\"PercentageAmongstTop\":11.000664037619764,\"QuestCreationYear\":\"Oct'13-14\",\"QuestTags\":\"c#\",\"YearTagCount\":16235}],\"line_alpha\":[1.0],\"line_color\":[\"#FFF0F5\"],\"width\":[1.0],\"x\":[\"Oct'13-14\"],\"y\":[16.449499261427547]}},\"id\":\"a1ed4485-8be0-418e-a78e-daa6e6392aa0\",\"type\":\"ColumnDataSource\"},{\"attributes\":{\"data_source\":{\"id\":\"87565bbb-1e7c-45be-9856-ea5e4a46ebee\",\"type\":\"ColumnDataSource\"},\"glyph\":{\"id\":\"7caf5b6e-34c8-4977-832d-28027edd12fc\",\"type\":\"Rect\"},\"hover_glyph\":null,\"nonselection_glyph\":null,\"selection_glyph\":null},\"id\":\"e2edaa75-d7d0-40af-9a82-299e3316e625\",\"type\":\"GlyphRenderer\"},{\"attributes\":{\"callback\":null,\"factors\":[\"Oct'08-09\",\"Oct'09-10\",\"Oct'10-11\",\"Oct'11-12\",\"Oct'12-13\",\"Oct'13-14\",\"Oct'14-15\",\"Oct'15-16\"]},\"id\":\"60a8d366-a36f-49e6-b506-ea2c1f0636e0\",\"type\":\"FactorRange\"},{\"attributes\":{\"data_source\":{\"id\":\"0b0e040e-787a-4811-b5f1-3dabc3e2ad6a\",\"type\":\"ColumnDataSource\"},\"glyph\":{\"id\":\"85c5ccf5-af23-479c-9aa9-bc5a50864c9c\",\"type\":\"Rect\"},\"hover_glyph\":null,\"nonselection_glyph\":null,\"selection_glyph\":null},\"id\":\"23e0c4c5-b367-4ba5-8377-8c5013473fa1\",\"type\":\"GlyphRenderer\"},{\"attributes\":{\"fill_alpha\":{\"field\":\"fill_alpha\"},\"fill_color\":{\"field\":\"color\"},\"height\":{\"field\":\"height\",\"units\":\"data\"},\"line_color\":{\"field\":\"line_color\"},\"width\":{\"field\":\"width\",\"units\":\"data\"},\"x\":{\"field\":\"x\"},\"y\":{\"field\":\"y\"}},\"id\":\"d81e57ae-6f92-4063-b859-21257a893603\",\"type\":\"Rect\"},{\"attributes\":{\"callback\":null,\"column_names\":[\"line_color\",\"line_alpha\",\"color\",\"fill_alpha\",\"height\",\"width\",\"y\",\"x\",\"label\"],\"data\":{\"PercentageAmongstTop\":[12.705559614151746],\"QuestCreationYear\":[\"Oct'10-11\"],\"QuestTags\":[\"java\"],\"YearTagCount\":[8522],\"chart_index\":[{\"PercentageAmongstTop\":12.705559614151746,\"QuestCreationYear\":\"Oct'10-11\",\"QuestTags\":\"java\",\"YearTagCount\":8522}],\"color\":[\"#D3D3D3\"],\"fill_alpha\":[0.8],\"height\":[12.705559614151746],\"label\":[{\"PercentageAmongstTop\":12.705559614151746,\"QuestCreationYear\":\"Oct'10-11\",\"QuestTags\":\"java\",\"YearTagCount\":8522}],\"line_alpha\":[1.0],\"line_color\":[\"#90EE90\"],\"width\":[1.0],\"x\":[\"Oct'10-11\"],\"y\":[52.67246134808343]}},\"id\":\"5322b78a-a098-4909-ad0e-52624f0e1b4f\",\"type\":\"ColumnDataSource\"},{\"attributes\":{\"callback\":null,\"column_names\":[\"line_color\",\"line_alpha\",\"color\",\"fill_alpha\",\"height\",\"width\",\"y\",\"x\",\"label\"],\"data\":{\"PercentageAmongstTop\":[10.701851979173828],\"QuestCreationYear\":[\"Oct'15-16\"],\"QuestTags\":[\"php\"],\"YearTagCount\":[17122],\"chart_index\":[{\"PercentageAmongstTop\":10.701851979173828,\"QuestCreationYear\":\"Oct'15-16\",\"QuestTags\":\"php\",\"YearTagCount\":17122}],\"color\":[\"#20B2AA\"],\"fill_alpha\":[0.8],\"height\":[10.701851979173828],\"label\":[{\"PercentageAmongstTop\":10.701851979173828,\"QuestCreationYear\":\"Oct'15-16\",\"QuestTags\":\"php\",\"YearTagCount\":17122}],\"line_alpha\":[1.0],\"line_color\":[\"#F08080\"],\"width\":[1.0],\"x\":[\"Oct'15-16\"],\"y\":[84.83414692076428]}},\"id\":\"72e82d0c-08b9-4b3c-b2e9-f943c9c6ffe2\",\"type\":\"ColumnDataSource\"},{\"attributes\":{\"data_source\":{\"id\":\"5cf9f20d-2030-455f-882c-9d32087f9805\",\"type\":\"ColumnDataSource\"},\"glyph\":{\"id\":\"df54bcf6-4e6e-4523-8b06-1da887c8b67d\",\"type\":\"Rect\"},\"hover_glyph\":null,\"nonselection_glyph\":null,\"selection_glyph\":null},\"id\":\"97c14149-f6ae-4d65-b94e-d9a00b90856c\",\"type\":\"GlyphRenderer\"},{\"attributes\":{\"callback\":null,\"column_names\":[\"line_color\",\"line_alpha\",\"color\",\"fill_alpha\",\"height\",\"width\",\"y\",\"x\",\"label\"],\"data\":{\"PercentageAmongstTop\":[5.813565681410764],\"QuestCreationYear\":[\"Oct'11-12\"],\"QuestTags\":[\"c++\"],\"YearTagCount\":[5578],\"chart_index\":[{\"PercentageAmongstTop\":5.813565681410764,\"QuestCreationYear\":\"Oct'11-12\",\"QuestTags\":\"c++\",\"YearTagCount\":5578}],\"color\":[\"#FFF0F5\"],\"fill_alpha\":[0.8],\"height\":[5.813565681410764],\"label\":[{\"PercentageAmongstTop\":5.813565681410764,\"QuestCreationYear\":\"Oct'11-12\",\"QuestTags\":\"c++\",\"YearTagCount\":5578}],\"line_alpha\":[1.0],\"line_color\":[\"#D3D3D3\"],\"width\":[1.0],\"x\":[\"Oct'11-12\"],\"y\":[28.837495309959564]}},\"id\":\"663ec585-a3d1-40cf-820d-0ca573514810\",\"type\":\"ColumnDataSource\"},{\"attributes\":{\"callback\":null,\"column_names\":[\"line_color\",\"line_alpha\",\"color\",\"fill_alpha\",\"height\",\"width\",\"y\",\"x\",\"label\"],\"data\":{\"PercentageAmongstTop\":[5.8656092665109085],\"QuestCreationYear\":[\"Oct'12-13\"],\"QuestTags\":[\"c++\"],\"YearTagCount\":[7130],\"chart_index\":[{\"PercentageAmongstTop\":5.8656092665109085,\"QuestCreationYear\":\"Oct'12-13\",\"QuestTags\":\"c++\",\"YearTagCount\":7130}],\"color\":[\"#FFF0F5\"],\"fill_alpha\":[0.8],\"height\":[5.8656092665109085],\"label\":[{\"PercentageAmongstTop\":5.8656092665109085,\"QuestCreationYear\":\"Oct'12-13\",\"QuestTags\":\"c++\",\"YearTagCount\":7130}],\"line_alpha\":[1.0],\"line_color\":[\"#FFA07A\"],\"width\":[1.0],\"x\":[\"Oct'12-13\"],\"y\":[27.05995590509724]}},\"id\":\"44e79828-c2a3-4b4b-ae5d-0f618f1e10e1\",\"type\":\"ColumnDataSource\"},{\"attributes\":{\"fill_alpha\":{\"field\":\"fill_alpha\"},\"fill_color\":{\"field\":\"color\"},\"height\":{\"field\":\"height\",\"units\":\"data\"},\"line_color\":{\"field\":\"line_color\"},\"width\":{\"field\":\"width\",\"units\":\"data\"},\"x\":{\"field\":\"x\"},\"y\":{\"field\":\"y\"}},\"id\":\"bd66204b-7bfa-4b41-be8a-f38584c52c6f\",\"type\":\"Rect\"},{\"attributes\":{\"plot\":null,\"text\":\"Top 10 Tags Used Throughout the Years\"},\"id\":\"0fb502d8-d4cd-4e5d-9156-4cac97728f9e\",\"type\":\"Title\"},{\"attributes\":{\"fill_alpha\":{\"field\":\"fill_alpha\"},\"fill_color\":{\"field\":\"color\"},\"height\":{\"field\":\"height\",\"units\":\"data\"},\"line_color\":{\"field\":\"line_color\"},\"width\":{\"field\":\"width\",\"units\":\"data\"},\"x\":{\"field\":\"x\"},\"y\":{\"field\":\"y\"}},\"id\":\"62bbb811-2ea7-4434-b31c-415a0b5736a7\",\"type\":\"Rect\"},{\"attributes\":{\"data_source\":{\"id\":\"6205da9e-ddf1-4322-8eac-b12f3d019be4\",\"type\":\"ColumnDataSource\"},\"glyph\":{\"id\":\"0b2887eb-4fbc-4cfb-92d3-20c5fa0c6de1\",\"type\":\"Rect\"},\"hover_glyph\":null,\"nonselection_glyph\":null,\"selection_glyph\":null},\"id\":\"ac51d343-d82f-49f3-8066-151319dbe65d\",\"type\":\"GlyphRenderer\"},{\"attributes\":{\"data_source\":{\"id\":\"8b52132c-6d1b-440a-a507-326693c8f3e7\",\"type\":\"ColumnDataSource\"},\"glyph\":{\"id\":\"c46e14d8-5522-40b9-8410-d45232694433\",\"type\":\"Rect\"},\"hover_glyph\":null,\"nonselection_glyph\":null,\"selection_glyph\":null},\"id\":\"12601a9f-f9bd-44d0-a294-447b5a7a235a\",\"type\":\"GlyphRenderer\"},{\"attributes\":{\"fill_alpha\":{\"field\":\"fill_alpha\"},\"fill_color\":{\"field\":\"color\"},\"height\":{\"field\":\"height\",\"units\":\"data\"},\"line_color\":{\"field\":\"line_color\"},\"width\":{\"field\":\"width\",\"units\":\"data\"},\"x\":{\"field\":\"x\"},\"y\":{\"field\":\"y\"}},\"id\":\"fedbb847-f547-44dd-b6d5-772a66e694b2\",\"type\":\"Rect\"},{\"attributes\":{\"data_source\":{\"id\":\"4e326017-7b3e-4aeb-a176-206a25b8faa2\",\"type\":\"ColumnDataSource\"},\"glyph\":{\"id\":\"0b0b1f38-22a6-4537-8a79-8957d68fb347\",\"type\":\"Rect\"},\"hover_glyph\":null,\"nonselection_glyph\":null,\"selection_glyph\":null},\"id\":\"6caa86c9-626b-4ecb-8105-208b9146a5a7\",\"type\":\"GlyphRenderer\"},{\"attributes\":{\"data_source\":{\"id\":\"1908a66e-f544-4d46-8183-fe41fb9bb2b3\",\"type\":\"ColumnDataSource\"},\"glyph\":{\"id\":\"d3856b5d-4c91-4625-a152-ce23cdbc9199\",\"type\":\"Rect\"},\"hover_glyph\":null,\"nonselection_glyph\":null,\"selection_glyph\":null},\"id\":\"08220437-b24b-4222-a668-5b58f4d16987\",\"type\":\"GlyphRenderer\"},{\"attributes\":{\"data_source\":{\"id\":\"c024b809-a6df-4a74-bbce-bfefe792884b\",\"type\":\"ColumnDataSource\"},\"glyph\":{\"id\":\"dc65bde9-aafe-444b-af4f-db4ecf674679\",\"type\":\"Rect\"},\"hover_glyph\":null,\"nonselection_glyph\":null,\"selection_glyph\":null},\"id\":\"c191fd0d-d7a9-4b27-ab0c-ecd874d6e7b7\",\"type\":\"GlyphRenderer\"},{\"attributes\":{\"fill_alpha\":{\"field\":\"fill_alpha\"},\"fill_color\":{\"field\":\"color\"},\"height\":{\"field\":\"height\",\"units\":\"data\"},\"line_color\":{\"field\":\"line_color\"},\"width\":{\"field\":\"width\",\"units\":\"data\"},\"x\":{\"field\":\"x\"},\"y\":{\"field\":\"y\"}},\"id\":\"c2455a30-cb08-4d82-99b0-8cac4a0b626a\",\"type\":\"Rect\"},{\"attributes\":{\"data_source\":{\"id\":\"c0d52731-ea02-4209-a725-841b046d264e\",\"type\":\"ColumnDataSource\"},\"glyph\":{\"id\":\"4e1bbd5b-1fb2-4176-b1f7-01fa8dadb955\",\"type\":\"Rect\"},\"hover_glyph\":null,\"nonselection_glyph\":null,\"selection_glyph\":null},\"id\":\"e0bd91d1-37b6-4f1c-a4bf-c109b903f38e\",\"type\":\"GlyphRenderer\"},{\"attributes\":{\"fill_alpha\":{\"field\":\"fill_alpha\"},\"fill_color\":{\"field\":\"color\"},\"height\":{\"field\":\"height\",\"units\":\"data\"},\"line_color\":{\"field\":\"line_color\"},\"width\":{\"field\":\"width\",\"units\":\"data\"},\"x\":{\"field\":\"x\"},\"y\":{\"field\":\"y\"}},\"id\":\"ccba217e-eccb-47de-b7a1-fc23614dd7c5\",\"type\":\"Rect\"},{\"attributes\":{\"fill_alpha\":{\"field\":\"fill_alpha\"},\"fill_color\":{\"field\":\"color\"},\"height\":{\"field\":\"height\",\"units\":\"data\"},\"line_color\":{\"field\":\"line_color\"},\"width\":{\"field\":\"width\",\"units\":\"data\"},\"x\":{\"field\":\"x\"},\"y\":{\"field\":\"y\"}},\"id\":\"7e4148b7-d9b6-48fe-ba93-8a69b53d46ea\",\"type\":\"Rect\"},{\"attributes\":{\"fill_alpha\":{\"field\":\"fill_alpha\"},\"fill_color\":{\"field\":\"color\"},\"height\":{\"field\":\"height\",\"units\":\"data\"},\"line_color\":{\"field\":\"line_color\"},\"width\":{\"field\":\"width\",\"units\":\"data\"},\"x\":{\"field\":\"x\"},\"y\":{\"field\":\"y\"}},\"id\":\"2ed9bddc-6992-4ab5-9b68-bd5736ed7c04\",\"type\":\"Rect\"},{\"attributes\":{\"data_source\":{\"id\":\"ddb0466a-5082-4cb0-9311-695160ae6b90\",\"type\":\"ColumnDataSource\"},\"glyph\":{\"id\":\"8b0b4743-c38d-402d-9ab5-fdacfe4b2f9b\",\"type\":\"Rect\"},\"hover_glyph\":null,\"nonselection_glyph\":null,\"selection_glyph\":null},\"id\":\"3d50622b-af7a-4957-8045-6858b44df7c7\",\"type\":\"GlyphRenderer\"},{\"attributes\":{},\"id\":\"64340f51-6a11-47ea-bc1f-e378f0427ff5\",\"type\":\"BasicTicker\"},{\"attributes\":{\"below\":[{\"id\":\"ca9353b5-e361-4e66-9a29-ea33a726c149\",\"type\":\"CategoricalAxis\"}],\"left\":[{\"id\":\"d5c302e6-e462-4607-b5bd-d5f936242a93\",\"type\":\"LinearAxis\"}],\"renderers\":[{\"id\":\"6caa86c9-626b-4ecb-8105-208b9146a5a7\",\"type\":\"GlyphRenderer\"},{\"id\":\"c73ef3de-90da-4655-80c4-6076a153a5eb\",\"type\":\"GlyphRenderer\"},{\"id\":\"da2c4de7-e5f5-4a01-b2ed-f77fbdb8df1c\",\"type\":\"GlyphRenderer\"},{\"id\":\"23e0c4c5-b367-4ba5-8377-8c5013473fa1\",\"type\":\"GlyphRenderer\"},{\"id\":\"c0c31cbb-3ce4-4b36-a703-6e7532857402\",\"type\":\"GlyphRenderer\"},{\"id\":\"1c439835-3f47-4545-bc96-c48641640989\",\"type\":\"GlyphRenderer\"},{\"id\":\"251da24e-2f6c-481a-8278-11694d7f5596\",\"type\":\"GlyphRenderer\"},{\"id\":\"cd1c48dc-524c-43dd-8e24-9f09318c5874\",\"type\":\"GlyphRenderer\"},{\"id\":\"d231300f-55db-48fc-8e4c-caa3ec9226e4\",\"type\":\"GlyphRenderer\"},{\"id\":\"2972986c-1c59-4862-bb75-65fddde94000\",\"type\":\"GlyphRenderer\"},{\"id\":\"d4430742-4742-4bf4-84c1-33766d8bf9f3\",\"type\":\"GlyphRenderer\"},{\"id\":\"9fbac470-1efa-46ea-a8ee-c930b9cc319b\",\"type\":\"GlyphRenderer\"},{\"id\":\"6c0d1143-e336-40f4-839a-ad2c9b8b112d\",\"type\":\"GlyphRenderer\"},{\"id\":\"f5199622-b78f-4b8f-846b-fab1f08371bc\",\"type\":\"GlyphRenderer\"},{\"id\":\"a2c19518-63ad-4bde-bccc-26cbec23b01e\",\"type\":\"GlyphRenderer\"},{\"id\":\"422c0015-fb17-4882-8774-b8d4d02d778b\",\"type\":\"GlyphRenderer\"},{\"id\":\"039c7c20-0dd7-468e-a6a2-51a5090d3747\",\"type\":\"GlyphRenderer\"},{\"id\":\"9340aa8a-6026-4157-928a-264a995b9f63\",\"type\":\"GlyphRenderer\"},{\"id\":\"a15f6d16-b5f3-41d3-b7c7-a669001e8ef6\",\"type\":\"GlyphRenderer\"},{\"id\":\"50fc55e5-e2ae-4f45-bd42-4bd66529dadb\",\"type\":\"GlyphRenderer\"},{\"id\":\"fb27ea39-fb14-4497-a882-9edd3e48d93d\",\"type\":\"GlyphRenderer\"},{\"id\":\"132fc5dc-4f55-49c0-8539-3f432d308456\",\"type\":\"GlyphRenderer\"},{\"id\":\"e20cf798-e6ec-4764-8108-92b48796fd63\",\"type\":\"GlyphRenderer\"},{\"id\":\"37dd1efa-bb9a-4685-b0ba-cb10b0cb3498\",\"type\":\"GlyphRenderer\"},{\"id\":\"56948edc-0d30-4e85-ab9c-39cb4f7df964\",\"type\":\"GlyphRenderer\"},{\"id\":\"6cba527b-da88-4636-b9bc-8bfdbd1e2c3b\",\"type\":\"GlyphRenderer\"},{\"id\":\"fe4cbc0a-5e3c-4531-b69b-f153c9a4b7c0\",\"type\":\"GlyphRenderer\"},{\"id\":\"1e6c2455-9f45-4542-b586-4c83b9577d43\",\"type\":\"GlyphRenderer\"},{\"id\":\"6f60f08b-f929-474a-ab21-30be7d4f708a\",\"type\":\"GlyphRenderer\"},{\"id\":\"3d50622b-af7a-4957-8045-6858b44df7c7\",\"type\":\"GlyphRenderer\"},{\"id\":\"c191fd0d-d7a9-4b27-ab0c-ecd874d6e7b7\",\"type\":\"GlyphRenderer\"},{\"id\":\"f52dfc5c-4e7e-4267-935e-c4b505572004\",\"type\":\"GlyphRenderer\"},{\"id\":\"75833a47-ad38-4452-a8fe-b459a8aa3c03\",\"type\":\"GlyphRenderer\"},{\"id\":\"5b068021-639c-4a7d-88e4-ed84747663d1\",\"type\":\"GlyphRenderer\"},{\"id\":\"2ddb85e7-0526-4792-be87-102bb6ee4305\",\"type\":\"GlyphRenderer\"},{\"id\":\"99c4ca82-e6f9-437d-a118-46750a062b82\",\"type\":\"GlyphRenderer\"},{\"id\":\"f324a978-9f7a-41a2-b6cf-85ebca61f7cb\",\"type\":\"GlyphRenderer\"},{\"id\":\"08220437-b24b-4222-a668-5b58f4d16987\",\"type\":\"GlyphRenderer\"},{\"id\":\"2aa0a464-bfac-4e75-a312-d5d41343435b\",\"type\":\"GlyphRenderer\"},{\"id\":\"6bf5b39b-96b5-47a5-8ac2-7115c1cb0a68\",\"type\":\"GlyphRenderer\"},{\"id\":\"f53e6262-a5eb-4962-be85-1ab65dc60a3b\",\"type\":\"GlyphRenderer\"},{\"id\":\"e2edaa75-d7d0-40af-9a82-299e3316e625\",\"type\":\"GlyphRenderer\"},{\"id\":\"d407283f-1e37-4e85-882c-15a6d96f8aef\",\"type\":\"GlyphRenderer\"},{\"id\":\"e47cd15f-06d4-4138-ad43-0a15ee4731b3\",\"type\":\"GlyphRenderer\"},{\"id\":\"5f44cd8b-f0d4-4fef-bd9a-9590cbc23547\",\"type\":\"GlyphRenderer\"},{\"id\":\"9f99f1fb-ce16-4be1-be13-e4ace8369c03\",\"type\":\"GlyphRenderer\"},{\"id\":\"c8cead7b-225e-483f-81de-c977b2bf2937\",\"type\":\"GlyphRenderer\"},{\"id\":\"3d67d4bc-5cc5-4bf3-8c1d-5254410962f3\",\"type\":\"GlyphRenderer\"},{\"id\":\"01e3b802-7814-4c63-bc12-bc92ba6fd2e8\",\"type\":\"GlyphRenderer\"},{\"id\":\"e0bd91d1-37b6-4f1c-a4bf-c109b903f38e\",\"type\":\"GlyphRenderer\"},{\"id\":\"191d6655-9e53-4a03-8337-5e00e8337d2f\",\"type\":\"GlyphRenderer\"},{\"id\":\"197d699c-6d37-48c0-8cbd-f7e5ccb48dfe\",\"type\":\"GlyphRenderer\"},{\"id\":\"8330447f-672d-4499-96c4-058b408216d0\",\"type\":\"GlyphRenderer\"},{\"id\":\"90d8a846-f207-4636-a192-37735d863e7a\",\"type\":\"GlyphRenderer\"},{\"id\":\"97c14149-f6ae-4d65-b94e-d9a00b90856c\",\"type\":\"GlyphRenderer\"},{\"id\":\"cf483af0-97ff-4602-a797-df621571b696\",\"type\":\"GlyphRenderer\"},{\"id\":\"ac51d343-d82f-49f3-8066-151319dbe65d\",\"type\":\"GlyphRenderer\"},{\"id\":\"ecc2ee4d-11e6-41a2-9c5d-0ddb6c7b59b6\",\"type\":\"GlyphRenderer\"},{\"id\":\"12672404-2c48-4a58-b2ac-83cbb30902d4\",\"type\":\"GlyphRenderer\"},{\"id\":\"481315d2-a136-4268-afb8-41b7001c4f9e\",\"type\":\"GlyphRenderer\"},{\"id\":\"ba791583-3c31-4a0d-a143-bce866c62d7b\",\"type\":\"GlyphRenderer\"},{\"id\":\"66fc815b-5290-4bca-9d48-7f141e748c74\",\"type\":\"GlyphRenderer\"},{\"id\":\"25cdf257-2878-45df-84ea-4c47db24c7df\",\"type\":\"GlyphRenderer\"},{\"id\":\"f7c1a9a8-5572-4399-9fa9-505776b67c24\",\"type\":\"GlyphRenderer\"},{\"id\":\"623a97b0-ff5e-4b90-b09e-0edc8c722e85\",\"type\":\"GlyphRenderer\"},{\"id\":\"5f32b316-0428-46c8-8adb-2d1a43473d69\",\"type\":\"GlyphRenderer\"},{\"id\":\"97051f82-2d36-4320-8aea-ff7612fb5a74\",\"type\":\"GlyphRenderer\"},{\"id\":\"d67a1e99-4ebe-4ada-af25-4743b980eb95\",\"type\":\"GlyphRenderer\"},{\"id\":\"42186c9b-92b9-47b4-8f64-35354a55727f\",\"type\":\"GlyphRenderer\"},{\"id\":\"a36fc04e-8d41-4efd-9b38-87038b643224\",\"type\":\"GlyphRenderer\"},{\"id\":\"798defc7-0eaa-4e5f-a068-3660111b3e0a\",\"type\":\"GlyphRenderer\"},{\"id\":\"e7ef2ebe-755c-4d48-954c-93c3bafdee20\",\"type\":\"GlyphRenderer\"},{\"id\":\"bf93ffff-72ed-4f7c-8365-e81ba42538f6\",\"type\":\"GlyphRenderer\"},{\"id\":\"d8333c6f-9854-4053-9f26-5d4d6ffbddb5\",\"type\":\"GlyphRenderer\"},{\"id\":\"e79fbb48-4224-4a8d-bea0-a6e3ccc60e5b\",\"type\":\"GlyphRenderer\"},{\"id\":\"12601a9f-f9bd-44d0-a294-447b5a7a235a\",\"type\":\"GlyphRenderer\"},{\"id\":\"f52e9674-5f6b-4a4b-9b57-375dfdce80ba\",\"type\":\"GlyphRenderer\"},{\"id\":\"8fb55936-ab14-46f5-bc8d-9aacb193ea4f\",\"type\":\"GlyphRenderer\"},{\"id\":\"091a7e3c-26e2-4349-8f4e-74763379994c\",\"type\":\"GlyphRenderer\"},{\"id\":\"1b6f2819-37f7-489e-b3c4-59ccffb7db3a\",\"type\":\"GlyphRenderer\"},{\"id\":\"ca9353b5-e361-4e66-9a29-ea33a726c149\",\"type\":\"CategoricalAxis\"},{\"id\":\"d5c302e6-e462-4607-b5bd-d5f936242a93\",\"type\":\"LinearAxis\"},{\"id\":\"b428ccc5-1e59-46c6-9082-14e6dbcf0049\",\"type\":\"Grid\"}],\"title\":{\"id\":\"0fb502d8-d4cd-4e5d-9156-4cac97728f9e\",\"type\":\"Title\"},\"tool_events\":{\"id\":\"e3b0610e-de34-480e-b2fb-a882612b8538\",\"type\":\"ToolEvents\"},\"toolbar\":{\"id\":\"f40332ca-a74e-4644-b75e-9ec13c50fb34\",\"type\":\"Toolbar\"},\"x_mapper_type\":\"auto\",\"x_range\":{\"id\":\"60a8d366-a36f-49e6-b506-ea2c1f0636e0\",\"type\":\"FactorRange\"},\"y_mapper_type\":\"auto\",\"y_range\":{\"id\":\"b3d2e45a-ff56-46d0-b505-648d4cf5b23c\",\"type\":\"Range1d\"}},\"id\":\"86233a77-196c-43c3-b211-a1df62b8d125\",\"subtype\":\"Chart\",\"type\":\"Plot\"},{\"attributes\":{\"callback\":null,\"column_names\":[\"line_color\",\"line_alpha\",\"color\",\"fill_alpha\",\"height\",\"width\",\"y\",\"x\",\"label\"],\"data\":{\"PercentageAmongstTop\":[13.853697061436703],\"QuestCreationYear\":[\"Oct'12-13\"],\"QuestTags\":[\"javascript\"],\"YearTagCount\":[16840],\"chart_index\":[{\"PercentageAmongstTop\":13.853697061436703,\"QuestCreationYear\":\"Oct'12-13\",\"QuestTags\":\"javascript\",\"YearTagCount\":16840}],\"color\":[\"#FFB6C1\"],\"fill_alpha\":[0.8],\"height\":[13.853697061436703],\"label\":[{\"PercentageAmongstTop\":13.853697061436703,\"QuestCreationYear\":\"Oct'12-13\",\"QuestTags\":\"javascript\",\"YearTagCount\":16840}],\"line_alpha\":[1.0],\"line_color\":[\"#ADD8E6\"],\"width\":[1.0],\"x\":[\"Oct'12-13\"],\"y\":[63.37161472901379]}},\"id\":\"3cbc8368-f16f-4791-bdfa-4759f9288087\",\"type\":\"ColumnDataSource\"},{\"attributes\":{},\"id\":\"516e6cff-9ca9-444e-8720-6ad81c220efc\",\"type\":\"CategoricalTicker\"},{\"attributes\":{\"fill_alpha\":{\"field\":\"fill_alpha\"},\"fill_color\":{\"field\":\"color\"},\"height\":{\"field\":\"height\",\"units\":\"data\"},\"line_color\":{\"field\":\"line_color\"},\"width\":{\"field\":\"width\",\"units\":\"data\"},\"x\":{\"field\":\"x\"},\"y\":{\"field\":\"y\"}},\"id\":\"5b6a6428-7373-40de-9843-96eb27c7739e\",\"type\":\"Rect\"},{\"attributes\":{\"fill_alpha\":{\"field\":\"fill_alpha\"},\"fill_color\":{\"field\":\"color\"},\"height\":{\"field\":\"height\",\"units\":\"data\"},\"line_color\":{\"field\":\"line_color\"},\"width\":{\"field\":\"width\",\"units\":\"data\"},\"x\":{\"field\":\"x\"},\"y\":{\"field\":\"y\"}},\"id\":\"efdf63c2-ffca-4894-9620-a8f6ea8cc4ae\",\"type\":\"Rect\"},{\"attributes\":{\"data_source\":{\"id\":\"5322b78a-a098-4909-ad0e-52624f0e1b4f\",\"type\":\"ColumnDataSource\"},\"glyph\":{\"id\":\"e65b5318-5d5d-4bc4-a2a1-7fe980bfa17e\",\"type\":\"Rect\"},\"hover_glyph\":null,\"nonselection_glyph\":null,\"selection_glyph\":null},\"id\":\"6cba527b-da88-4636-b9bc-8bfdbd1e2c3b\",\"type\":\"GlyphRenderer\"},{\"attributes\":{\"callback\":null,\"column_names\":[\"line_color\",\"line_alpha\",\"color\",\"fill_alpha\",\"height\",\"width\",\"y\",\"x\",\"label\"],\"data\":{\"PercentageAmongstTop\":[8.602588157386458],\"QuestCreationYear\":[\"Oct'14-15\"],\"QuestTags\":[\"python\"],\"YearTagCount\":[12471],\"chart_index\":[{\"PercentageAmongstTop\":8.602588157386458,\"QuestCreationYear\":\"Oct'14-15\",\"QuestTags\":\"python\",\"YearTagCount\":12471}],\"color\":[\"#FFA07A\"],\"fill_alpha\":[0.8],\"height\":[8.602588157386458],\"label\":[{\"PercentageAmongstTop\":8.602588157386458,\"QuestCreationYear\":\"Oct'14-15\",\"QuestTags\":\"python\",\"YearTagCount\":12471}],\"line_alpha\":[1.0],\"line_color\":[\"#ADD8E6\"],\"width\":[1.0],\"x\":[\"Oct'14-15\"],\"y\":[95.69870592130678]}},\"id\":\"3990757b-8351-4c16-bb01-6f4cc12b1182\",\"type\":\"ColumnDataSource\"},{\"attributes\":{\"data_source\":{\"id\":\"c5363356-fcbe-45ba-8da3-6e8e211822eb\",\"type\":\"ColumnDataSource\"},\"glyph\":{\"id\":\"32730836-68c6-4211-91a4-6efb44dfcfb7\",\"type\":\"Rect\"},\"hover_glyph\":null,\"nonselection_glyph\":null,\"selection_glyph\":null},\"id\":\"f7c1a9a8-5572-4399-9fa9-505776b67c24\",\"type\":\"GlyphRenderer\"},{\"attributes\":{\"callback\":null,\"column_names\":[\"line_color\",\"line_alpha\",\"color\",\"fill_alpha\",\"height\",\"width\",\"y\",\"x\",\"label\"],\"data\":{\"PercentageAmongstTop\":[13.233209655229917],\"QuestCreationYear\":[\"Oct'11-12\"],\"QuestTags\":[\"c#\"],\"YearTagCount\":[12697],\"chart_index\":[{\"PercentageAmongstTop\":13.233209655229917,\"QuestCreationYear\":\"Oct'11-12\",\"QuestTags\":\"c#\",\"YearTagCount\":12697}],\"color\":[\"#E6E6FA\"],\"fill_alpha\":[0.8],\"height\":[13.233209655229917],\"label\":[{\"PercentageAmongstTop\":13.233209655229917,\"QuestCreationYear\":\"Oct'11-12\",\"QuestTags\":\"c#\",\"YearTagCount\":12697}],\"line_alpha\":[1.0],\"line_color\":[\"#F08080\"],\"width\":[1.0],\"x\":[\"Oct'11-12\"],\"y\":[19.31410764163922]}},\"id\":\"1ac812bf-f994-4bc8-b751-5dbabf79df64\",\"type\":\"ColumnDataSource\"},{\"attributes\":{\"fill_alpha\":{\"field\":\"fill_alpha\"},\"fill_color\":{\"field\":\"color\"},\"height\":{\"field\":\"height\",\"units\":\"data\"},\"line_color\":{\"field\":\"line_color\"},\"width\":{\"field\":\"width\",\"units\":\"data\"},\"x\":{\"field\":\"x\"},\"y\":{\"field\":\"y\"}},\"id\":\"691ea85c-fafa-4836-8498-ba419fffa73a\",\"type\":\"Rect\"},{\"attributes\":{\"callback\":null,\"column_names\":[\"line_color\",\"line_alpha\",\"color\",\"fill_alpha\",\"height\",\"width\",\"y\",\"x\",\"label\"],\"data\":{\"PercentageAmongstTop\":[7.764674310080062],\"QuestCreationYear\":[\"Oct'10-11\"],\"QuestTags\":[\"ios\"],\"YearTagCount\":[5208],\"chart_index\":[{\"PercentageAmongstTop\":7.764674310080062,\"QuestCreationYear\":\"Oct'10-11\",\"QuestTags\":\"ios\",\"YearTagCount\":5208}],\"color\":[\"#F08080\"],\"fill_alpha\":[0.8],\"height\":[7.764674310080062],\"label\":[{\"PercentageAmongstTop\":7.764674310080062,\"QuestCreationYear\":\"Oct'10-11\",\"QuestTags\":\"ios\",\"YearTagCount\":5208}],\"line_alpha\":[1.0],\"line_color\":[\"#ADD8E6\"],\"width\":[1.0],\"x\":[\"Oct'10-11\"],\"y\":[42.43734438596753]}},\"id\":\"c76f0652-82e1-48fb-be77-fc7c64c726d4\",\"type\":\"ColumnDataSource\"},{\"attributes\":{\"callback\":null,\"column_names\":[\"line_color\",\"line_alpha\",\"color\",\"fill_alpha\",\"height\",\"width\",\"y\",\"x\",\"label\"],\"data\":{\"PercentageAmongstTop\":[5.848851251621368],\"QuestCreationYear\":[\"Oct'10-11\"],\"QuestTags\":[\"python\"],\"YearTagCount\":[3923],\"chart_index\":[{\"PercentageAmongstTop\":5.848851251621368,\"QuestCreationYear\":\"Oct'10-11\",\"QuestTags\":\"python\",\"YearTagCount\":3923}],\"color\":[\"#FFA07A\"],\"fill_alpha\":[0.8],\"height\":[5.848851251621368],\"label\":[{\"PercentageAmongstTop\":5.848851251621368,\"QuestCreationYear\":\"Oct'10-11\",\"QuestTags\":\"python\",\"YearTagCount\":3923}],\"line_alpha\":[1.0],\"line_color\":[\"#FF6347\"],\"width\":[1.0],\"x\":[\"Oct'10-11\"],\"y\":[97.0755743741893]}},\"id\":\"ddb0466a-5082-4cb0-9311-695160ae6b90\",\"type\":\"ColumnDataSource\"},{\"attributes\":{\"callback\":null,\"column_names\":[\"line_color\",\"line_alpha\",\"color\",\"fill_alpha\",\"height\",\"width\",\"y\",\"x\",\"label\"],\"data\":{\"PercentageAmongstTop\":[8.9654330035422],\"QuestCreationYear\":[\"Oct'08-09\"],\"QuestTags\":[\"php\"],\"YearTagCount\":[1468],\"chart_index\":[{\"PercentageAmongstTop\":8.9654330035422,\"QuestCreationYear\":\"Oct'08-09\",\"QuestTags\":\"php\",\"YearTagCount\":1468}],\"color\":[\"#20B2AA\"],\"fill_alpha\":[0.8],\"height\":[8.9654330035422],\"label\":[{\"PercentageAmongstTop\":8.9654330035422,\"QuestCreationYear\":\"Oct'08-09\",\"QuestTags\":\"php\",\"YearTagCount\":1468}],\"line_alpha\":[1.0],\"line_color\":[\"#90EE90\"],\"width\":[1.0],\"x\":[\"Oct'08-09\"],\"y\":[89.2695737144253]}},\"id\":\"beff3819-8bba-4a02-8adc-ba97039daded\",\"type\":\"ColumnDataSource\"},{\"attributes\":{\"data_source\":{\"id\":\"9565fefa-afd7-4015-8edc-50a26672e1df\",\"type\":\"ColumnDataSource\"},\"glyph\":{\"id\":\"efdf63c2-ffca-4894-9620-a8f6ea8cc4ae\",\"type\":\"Rect\"},\"hover_glyph\":null,\"nonselection_glyph\":null,\"selection_glyph\":null},\"id\":\"d4430742-4742-4bf4-84c1-33766d8bf9f3\",\"type\":\"GlyphRenderer\"},{\"attributes\":{\"fill_alpha\":{\"field\":\"fill_alpha\"},\"fill_color\":{\"field\":\"color\"},\"height\":{\"field\":\"height\",\"units\":\"data\"},\"line_color\":{\"field\":\"line_color\"},\"width\":{\"field\":\"width\",\"units\":\"data\"},\"x\":{\"field\":\"x\"},\"y\":{\"field\":\"y\"}},\"id\":\"0bc79916-a273-4c84-913a-c0acc4436a17\",\"type\":\"Rect\"},{\"attributes\":{\"callback\":null,\"column_names\":[\"line_color\",\"line_alpha\",\"color\",\"fill_alpha\",\"height\",\"width\",\"y\",\"x\",\"label\"],\"data\":{\"PercentageAmongstTop\":[6.7213490640763744],\"QuestCreationYear\":[\"Oct'11-12\"],\"QuestTags\":[\"ios\"],\"YearTagCount\":[6449],\"chart_index\":[{\"PercentageAmongstTop\":6.7213490640763744,\"QuestCreationYear\":\"Oct'11-12\",\"QuestTags\":\"ios\",\"YearTagCount\":6449}],\"color\":[\"#F08080\"],\"fill_alpha\":[0.8],\"height\":[6.7213490640763744],\"label\":[{\"PercentageAmongstTop\":6.7213490640763744,\"QuestCreationYear\":\"Oct'11-12\",\"QuestTags\":\"ios\",\"YearTagCount\":6449}],\"line_alpha\":[1.0],\"line_color\":[\"#87CEFA\"],\"width\":[1.0],\"x\":[\"Oct'11-12\"],\"y\":[40.99877016717389]}},\"id\":\"1eee45b0-1e62-4093-9837-29aee3b68a58\",\"type\":\"ColumnDataSource\"},{\"attributes\":{\"data_source\":{\"id\":\"e317030f-e181-4d9b-ac5b-7ddda61db03d\",\"type\":\"ColumnDataSource\"},\"glyph\":{\"id\":\"0e3c861b-da5c-4acb-9fe7-6e818d76c504\",\"type\":\"Rect\"},\"hover_glyph\":null,\"nonselection_glyph\":null,\"selection_glyph\":null},\"id\":\"481315d2-a136-4268-afb8-41b7001c4f9e\",\"type\":\"GlyphRenderer\"},{\"attributes\":{\"data_source\":{\"id\":\"b8edcca5-9fdd-4ae9-a72a-4c78083832d7\",\"type\":\"ColumnDataSource\"},\"glyph\":{\"id\":\"985e3513-38dc-42b3-9717-a14cd96eff83\",\"type\":\"Rect\"},\"hover_glyph\":null,\"nonselection_glyph\":null,\"selection_glyph\":null},\"id\":\"50fc55e5-e2ae-4f45-bd42-4bd66529dadb\",\"type\":\"GlyphRenderer\"},{\"attributes\":{\"fill_alpha\":{\"field\":\"fill_alpha\"},\"fill_color\":{\"field\":\"color\"},\"height\":{\"field\":\"height\",\"units\":\"data\"},\"line_color\":{\"field\":\"line_color\"},\"width\":{\"field\":\"width\",\"units\":\"data\"},\"x\":{\"field\":\"x\"},\"y\":{\"field\":\"y\"}},\"id\":\"3e11ccff-c301-4f8b-b10d-8e8cc1af0727\",\"type\":\"Rect\"},{\"attributes\":{\"callback\":null,\"column_names\":[\"line_color\",\"line_alpha\",\"color\",\"fill_alpha\",\"height\",\"width\",\"y\",\"x\",\"label\"],\"data\":{\"PercentageAmongstTop\":[12.697502814024263],\"QuestCreationYear\":[\"Oct'11-12\"],\"QuestTags\":[\"android\"],\"YearTagCount\":[12183],\"chart_index\":[{\"PercentageAmongstTop\":12.697502814024263,\"QuestCreationYear\":\"Oct'11-12\",\"QuestTags\":\"android\",\"YearTagCount\":12183}],\"color\":[\"#FF6347\"],\"fill_alpha\":[0.8],\"height\":[12.697502814024263],\"label\":[{\"PercentageAmongstTop\":12.697502814024263,\"QuestCreationYear\":\"Oct'11-12\",\"QuestTags\":\"android\",\"YearTagCount\":12183}],\"line_alpha\":[1.0],\"line_color\":[\"#F0E68C\"],\"width\":[1.0],\"x\":[\"Oct'11-12\"],\"y\":[6.348751407012132]}},\"id\":\"c024b809-a6df-4a74-bbce-bfefe792884b\",\"type\":\"ColumnDataSource\"},{\"attributes\":{\"data_source\":{\"id\":\"c4919604-e3f3-4d17-9545-734c3bf17e9b\",\"type\":\"ColumnDataSource\"},\"glyph\":{\"id\":\"f3a6b982-9f4d-4055-94d8-7937b1dd13d9\",\"type\":\"Rect\"},\"hover_glyph\":null,\"nonselection_glyph\":null,\"selection_glyph\":null},\"id\":\"97051f82-2d36-4320-8aea-ff7612fb5a74\",\"type\":\"GlyphRenderer\"},{\"attributes\":{\"callback\":null,\"column_names\":[\"line_color\",\"line_alpha\",\"color\",\"fill_alpha\",\"height\",\"width\",\"y\",\"x\",\"label\"],\"data\":{\"PercentageAmongstTop\":[16.429142983279068],\"QuestCreationYear\":[\"Oct'14-15\"],\"QuestTags\":[\"javascript\"],\"YearTagCount\":[23817],\"chart_index\":[{\"PercentageAmongstTop\":16.429142983279068,\"QuestCreationYear\":\"Oct'14-15\",\"QuestTags\":\"javascript\",\"YearTagCount\":23817}],\"color\":[\"#FFB6C1\"],\"fill_alpha\":[0.8],\"height\":[16.429142983279068],\"label\":[{\"PercentageAmongstTop\":16.429142983279068,\"QuestCreationYear\":\"Oct'14-15\",\"QuestTags\":\"javascript\",\"YearTagCount\":23817}],\"line_alpha\":[1.0],\"line_color\":[\"#9370DB\"],\"width\":[1.0],\"x\":[\"Oct'14-15\"],\"y\":[63.58817118260582]}},\"id\":\"c4919604-e3f3-4d17-9545-734c3bf17e9b\",\"type\":\"ColumnDataSource\"},{\"attributes\":{\"data_source\":{\"id\":\"535b086d-5bf2-4c7b-8bed-812c3d89a529\",\"type\":\"ColumnDataSource\"},\"glyph\":{\"id\":\"895ea5ad-40f8-4b14-af00-4723eaa540eb\",\"type\":\"Rect\"},\"hover_glyph\":null,\"nonselection_glyph\":null,\"selection_glyph\":null},\"id\":\"5f44cd8b-f0d4-4fef-bd9a-9590cbc23547\",\"type\":\"GlyphRenderer\"},{\"attributes\":{\"data_source\":{\"id\":\"2234035a-19db-404e-89b9-684e9f2b07fb\",\"type\":\"ColumnDataSource\"},\"glyph\":{\"id\":\"1e511f42-f569-4e09-b620-a76e77adc8af\",\"type\":\"Rect\"},\"hover_glyph\":null,\"nonselection_glyph\":null,\"selection_glyph\":null},\"id\":\"5b068021-639c-4a7d-88e4-ed84747663d1\",\"type\":\"GlyphRenderer\"},{\"attributes\":{\"callback\":null,\"column_names\":[\"line_color\",\"line_alpha\",\"color\",\"fill_alpha\",\"height\",\"width\",\"y\",\"x\",\"label\"],\"data\":{\"PercentageAmongstTop\":[13.337625241419829],\"QuestCreationYear\":[\"Oct'15-16\"],\"QuestTags\":[\"java\"],\"YearTagCount\":[21339],\"chart_index\":[{\"PercentageAmongstTop\":13.337625241419829,\"QuestCreationYear\":\"Oct'15-16\",\"QuestTags\":\"java\",\"YearTagCount\":21339}],\"color\":[\"#D3D3D3\"],\"fill_alpha\":[0.8],\"height\":[13.337625241419829],\"label\":[{\"PercentageAmongstTop\":13.337625241419829,\"QuestCreationYear\":\"Oct'15-16\",\"QuestTags\":\"java\",\"YearTagCount\":21339}],\"line_alpha\":[1.0],\"line_color\":[\"#FFA07A\"],\"width\":[1.0],\"x\":[\"Oct'15-16\"],\"y\":[47.388603108924876]}},\"id\":\"8b52132c-6d1b-440a-a507-326693c8f3e7\",\"type\":\"ColumnDataSource\"},{\"attributes\":{\"fill_alpha\":{\"field\":\"fill_alpha\"},\"fill_color\":{\"field\":\"color\"},\"height\":{\"field\":\"height\",\"units\":\"data\"},\"line_color\":{\"field\":\"line_color\"},\"width\":{\"field\":\"width\",\"units\":\"data\"},\"x\":{\"field\":\"x\"},\"y\":{\"field\":\"y\"}},\"id\":\"4e1bbd5b-1fb2-4176-b1f7-01fa8dadb955\",\"type\":\"Rect\"},{\"attributes\":{\"callback\":null,\"column_names\":[\"line_color\",\"line_alpha\",\"color\",\"fill_alpha\",\"height\",\"width\",\"y\",\"x\",\"label\"],\"data\":{\"PercentageAmongstTop\":[5.893817484470755],\"QuestCreationYear\":[\"Oct'11-12\"],\"QuestTags\":[\"html\"],\"YearTagCount\":[5655],\"chart_index\":[{\"PercentageAmongstTop\":5.893817484470755,\"QuestCreationYear\":\"Oct'11-12\",\"QuestTags\":\"html\",\"YearTagCount\":5655}],\"color\":[\"#ADD8E6\"],\"fill_alpha\":[0.8],\"height\":[5.893817484470755],\"label\":[{\"PercentageAmongstTop\":5.893817484470755,\"QuestCreationYear\":\"Oct'11-12\",\"QuestTags\":\"html\",\"YearTagCount\":5655}],\"line_alpha\":[1.0],\"line_color\":[\"#FFB6C1\"],\"width\":[1.0],\"x\":[\"Oct'11-12\"],\"y\":[34.691186892900326]}},\"id\":\"2234035a-19db-404e-89b9-684e9f2b07fb\",\"type\":\"ColumnDataSource\"},{\"attributes\":{\"data_source\":{\"id\":\"663ec585-a3d1-40cf-820d-0ca573514810\",\"type\":\"ColumnDataSource\"},\"glyph\":{\"id\":\"3efa686f-70cc-48a9-b2ef-7bb0ae0f56c7\",\"type\":\"Rect\"},\"hover_glyph\":null,\"nonselection_glyph\":null,\"selection_glyph\":null},\"id\":\"75833a47-ad38-4452-a8fe-b459a8aa3c03\",\"type\":\"GlyphRenderer\"},{\"attributes\":{\"callback\":null,\"column_names\":[\"line_color\",\"line_alpha\",\"color\",\"fill_alpha\",\"height\",\"width\",\"y\",\"x\",\"label\"],\"data\":{\"PercentageAmongstTop\":[5.510181557309199],\"QuestCreationYear\":[\"Oct'14-15\"],\"QuestTags\":[\"css\"],\"YearTagCount\":[7988],\"chart_index\":[{\"PercentageAmongstTop\":5.510181557309199,\"QuestCreationYear\":\"Oct'14-15\",\"QuestTags\":\"css\",\"YearTagCount\":7988}],\"color\":[\"#90EE90\"],\"fill_alpha\":[0.8],\"height\":[5.510181557309199],\"label\":[{\"PercentageAmongstTop\":5.510181557309199,\"QuestCreationYear\":\"Oct'14-15\",\"QuestTags\":\"css\",\"YearTagCount\":7988}],\"line_alpha\":[1.0],\"line_color\":[\"#FF6347\"],\"width\":[1.0],\"x\":[\"Oct'14-15\"],\"y\":[24.033579824512998]}},\"id\":\"a755edf5-5033-40e7-902c-14d511bb86e5\",\"type\":\"ColumnDataSource\"},{\"attributes\":{\"callback\":null,\"column_names\":[\"line_color\",\"line_alpha\",\"color\",\"fill_alpha\",\"height\",\"width\",\"y\",\"x\",\"label\"],\"data\":{\"PercentageAmongstTop\":[11.842641109874297],\"QuestCreationYear\":[\"Oct'09-10\"],\"QuestTags\":[\"php\"],\"YearTagCount\":[4362],\"chart_index\":[{\"PercentageAmongstTop\":11.842641109874297,\"QuestCreationYear\":\"Oct'09-10\",\"QuestTags\":\"php\",\"YearTagCount\":4362}],\"color\":[\"#20B2AA\"],\"fill_alpha\":[0.8],\"height\":[11.842641109874297],\"label\":[{\"PercentageAmongstTop\":11.842641109874297,\"QuestCreationYear\":\"Oct'09-10\",\"QuestTags\":\"php\",\"YearTagCount\":4362}],\"line_alpha\":[1.0],\"line_color\":[\"#FFF0F5\"],\"width\":[1.0],\"x\":[\"Oct'09-10\"],\"y\":[87.62251242092688]}},\"id\":\"874fbdc5-f11a-4ee9-836e-776c6c108757\",\"type\":\"ColumnDataSource\"},{\"attributes\":{\"fill_alpha\":{\"field\":\"fill_alpha\"},\"fill_color\":{\"field\":\"color\"},\"height\":{\"field\":\"height\",\"units\":\"data\"},\"line_color\":{\"field\":\"line_color\"},\"width\":{\"field\":\"width\",\"units\":\"data\"},\"x\":{\"field\":\"x\"},\"y\":{\"field\":\"y\"}},\"id\":\"1a961c02-c5b9-4486-9845-723ab0f85f3a\",\"type\":\"Rect\"},{\"attributes\":{\"fill_alpha\":{\"field\":\"fill_alpha\"},\"fill_color\":{\"field\":\"color\"},\"height\":{\"field\":\"height\",\"units\":\"data\"},\"line_color\":{\"field\":\"line_color\"},\"width\":{\"field\":\"width\",\"units\":\"data\"},\"x\":{\"field\":\"x\"},\"y\":{\"field\":\"y\"}},\"id\":\"dc65bde9-aafe-444b-af4f-db4ecf674679\",\"type\":\"Rect\"},{\"attributes\":{\"fill_alpha\":{\"field\":\"fill_alpha\"},\"fill_color\":{\"field\":\"color\"},\"height\":{\"field\":\"height\",\"units\":\"data\"},\"line_color\":{\"field\":\"line_color\"},\"width\":{\"field\":\"width\",\"units\":\"data\"},\"x\":{\"field\":\"x\"},\"y\":{\"field\":\"y\"}},\"id\":\"7024fa99-f2e9-43be-b728-adffd830fe88\",\"type\":\"Rect\"},{\"attributes\":{\"data_source\":{\"id\":\"770f930c-43e2-4ae9-b262-d5db8c268cdd\",\"type\":\"ColumnDataSource\"},\"glyph\":{\"id\":\"59017d28-fa38-40c6-bc21-61e378683d91\",\"type\":\"Rect\"},\"hover_glyph\":null,\"nonselection_glyph\":null,\"selection_glyph\":null},\"id\":\"42186c9b-92b9-47b4-8f64-35354a55727f\",\"type\":\"GlyphRenderer\"},{\"attributes\":{\"data_source\":{\"id\":\"6ed8ebb2-b0e8-4d90-b672-6fb4e588288d\",\"type\":\"ColumnDataSource\"},\"glyph\":{\"id\":\"817a3467-3984-4857-9dfc-ea590ca4c774\",\"type\":\"Rect\"},\"hover_glyph\":null,\"nonselection_glyph\":null,\"selection_glyph\":null},\"id\":\"fb27ea39-fb14-4497-a882-9edd3e48d93d\",\"type\":\"GlyphRenderer\"},{\"attributes\":{\"fill_alpha\":{\"field\":\"fill_alpha\"},\"fill_color\":{\"field\":\"color\"},\"height\":{\"field\":\"height\",\"units\":\"data\"},\"line_color\":{\"field\":\"line_color\"},\"width\":{\"field\":\"width\",\"units\":\"data\"},\"x\":{\"field\":\"x\"},\"y\":{\"field\":\"y\"}},\"id\":\"68e4a14b-0664-4a1b-8f31-25f233cfb901\",\"type\":\"Rect\"},{\"attributes\":{\"callback\":null,\"column_names\":[\"line_color\",\"line_alpha\",\"color\",\"fill_alpha\",\"height\",\"width\",\"y\",\"x\",\"label\"],\"data\":{\"PercentageAmongstTop\":[11.106015758535873],\"QuestCreationYear\":[\"Oct'11-12\"],\"QuestTags\":[\"jquery\"],\"YearTagCount\":[10656],\"chart_index\":[{\"PercentageAmongstTop\":11.106015758535873,\"QuestCreationYear\":\"Oct'11-12\",\"QuestTags\":\"jquery\",\"YearTagCount\":10656}],\"color\":[\"#87CEFA\"],\"fill_alpha\":[0.8],\"height\":[11.106015758535873],\"label\":[{\"PercentageAmongstTop\":11.106015758535873,\"QuestCreationYear\":\"Oct'11-12\",\"QuestTags\":\"jquery\",\"YearTagCount\":10656}],\"line_alpha\":[1.0],\"line_color\":[\"#FFA07A\"],\"width\":[1.0],\"x\":[\"Oct'11-12\"],\"y\":[76.16834118480844]}},\"id\":\"1908a66e-f544-4d46-8183-fe41fb9bb2b3\",\"type\":\"ColumnDataSource\"},{\"attributes\":{\"fill_alpha\":{\"field\":\"fill_alpha\"},\"fill_color\":{\"field\":\"color\"},\"height\":{\"field\":\"height\",\"units\":\"data\"},\"line_color\":{\"field\":\"line_color\"},\"width\":{\"field\":\"width\",\"units\":\"data\"},\"x\":{\"field\":\"x\"},\"y\":{\"field\":\"y\"}},\"id\":\"195956fb-b019-41f2-8a93-0ea7e54dfd24\",\"type\":\"Rect\"},{\"attributes\":{\"callback\":null,\"column_names\":[\"line_color\",\"line_alpha\",\"color\",\"fill_alpha\",\"height\",\"width\",\"y\",\"x\",\"label\"],\"data\":{\"PercentageAmongstTop\":[5.796099795367999],\"QuestCreationYear\":[\"Oct'13-14\"],\"QuestTags\":[\"css\"],\"YearTagCount\":[8554],\"chart_index\":[{\"PercentageAmongstTop\":5.796099795367999,\"QuestCreationYear\":\"Oct'13-14\",\"QuestTags\":\"css\",\"YearTagCount\":8554}],\"color\":[\"#90EE90\"],\"fill_alpha\":[0.8],\"height\":[5.796099795367999],\"label\":[{\"PercentageAmongstTop\":5.796099795367999,\"QuestCreationYear\":\"Oct'13-14\",\"QuestTags\":\"css\",\"YearTagCount\":8554}],\"line_alpha\":[1.0],\"line_color\":[\"#F08080\"],\"width\":[1.0],\"x\":[\"Oct'13-14\"],\"y\":[24.847881177921426]}},\"id\":\"e52acd81-a457-4d7e-89ba-64f99d116ac9\",\"type\":\"ColumnDataSource\"},{\"attributes\":{\"fill_alpha\":{\"field\":\"fill_alpha\"},\"fill_color\":{\"field\":\"color\"},\"height\":{\"field\":\"height\",\"units\":\"data\"},\"line_color\":{\"field\":\"line_color\"},\"width\":{\"field\":\"width\",\"units\":\"data\"},\"x\":{\"field\":\"x\"},\"y\":{\"field\":\"y\"}},\"id\":\"3118dd9a-c4c9-4264-81ae-2c80ecddc366\",\"type\":\"Rect\"},{\"attributes\":{\"data_source\":{\"id\":\"ea209845-878d-4081-af85-a84dafede6d5\",\"type\":\"ColumnDataSource\"},\"glyph\":{\"id\":\"704b75cc-6bd6-409d-b5b5-f61aaf9681b9\",\"type\":\"Rect\"},\"hover_glyph\":null,\"nonselection_glyph\":null,\"selection_glyph\":null},\"id\":\"9f99f1fb-ce16-4be1-be13-e4ace8369c03\",\"type\":\"GlyphRenderer\"},{\"attributes\":{\"fill_alpha\":{\"field\":\"fill_alpha\"},\"fill_color\":{\"field\":\"color\"},\"height\":{\"field\":\"height\",\"units\":\"data\"},\"line_color\":{\"field\":\"line_color\"},\"width\":{\"field\":\"width\",\"units\":\"data\"},\"x\":{\"field\":\"x\"},\"y\":{\"field\":\"y\"}},\"id\":\"32730836-68c6-4211-91a4-6efb44dfcfb7\",\"type\":\"Rect\"},{\"attributes\":{\"fill_alpha\":{\"field\":\"fill_alpha\"},\"fill_color\":{\"field\":\"color\"},\"height\":{\"field\":\"height\",\"units\":\"data\"},\"line_color\":{\"field\":\"line_color\"},\"width\":{\"field\":\"width\",\"units\":\"data\"},\"x\":{\"field\":\"x\"},\"y\":{\"field\":\"y\"}},\"id\":\"3efa686f-70cc-48a9-b2ef-7bb0ae0f56c7\",\"type\":\"Rect\"},{\"attributes\":{\"callback\":null,\"column_names\":[\"line_color\",\"line_alpha\",\"color\",\"fill_alpha\",\"height\",\"width\",\"y\",\"x\",\"label\"],\"data\":{\"PercentageAmongstTop\":[13.899391524711685],\"QuestCreationYear\":[\"Oct'13-14\"],\"QuestTags\":[\"java\"],\"YearTagCount\":[20513],\"chart_index\":[{\"PercentageAmongstTop\":13.899391524711685,\"QuestCreationYear\":\"Oct'13-14\",\"QuestTags\":\"java\",\"YearTagCount\":20513}],\"color\":[\"#D3D3D3\"],\"fill_alpha\":[0.8],\"height\":[13.899391524711685],\"label\":[{\"PercentageAmongstTop\":13.899391524711685,\"QuestCreationYear\":\"Oct'13-14\",\"QuestTags\":\"java\",\"YearTagCount\":20513}],\"line_alpha\":[1.0],\"line_color\":[\"#87CEFA\"],\"width\":[1.0],\"x\":[\"Oct'13-14\"],\"y\":[48.51574040194604]}},\"id\":\"f81f783f-a0b0-4c78-ac63-f97f89066c70\",\"type\":\"ColumnDataSource\"},{\"attributes\":{\"callback\":null,\"column_names\":[\"line_color\",\"line_alpha\",\"color\",\"fill_alpha\",\"height\",\"width\",\"y\",\"x\",\"label\"],\"data\":{\"PercentageAmongstTop\":[12.741276524784258],\"QuestCreationYear\":[\"Oct'11-12\"],\"QuestTags\":[\"javascript\"],\"YearTagCount\":[12225],\"chart_index\":[{\"PercentageAmongstTop\":12.741276524784258,\"QuestCreationYear\":\"Oct'11-12\",\"QuestTags\":\"javascript\",\"YearTagCount\":12225}],\"color\":[\"#FFB6C1\"],\"fill_alpha\":[0.8],\"height\":[12.741276524784258],\"label\":[{\"PercentageAmongstTop\":12.741276524784258,\"QuestCreationYear\":\"Oct'11-12\",\"QuestTags\":\"javascript\",\"YearTagCount\":12225}],\"line_alpha\":[1.0],\"line_color\":[\"#E6E6FA\"],\"width\":[1.0],\"x\":[\"Oct'11-12\"],\"y\":[64.24469504314838]}},\"id\":\"4308e6d2-b138-4b28-b12a-8bf90e5e97eb\",\"type\":\"ColumnDataSource\"},{\"attributes\":{\"data_source\":{\"id\":\"3d4014b2-b822-410c-b315-3a19e1e06bd5\",\"type\":\"ColumnDataSource\"},\"glyph\":{\"id\":\"37b92d4f-ad37-4479-bf32-5be0163d95de\",\"type\":\"Rect\"},\"hover_glyph\":null,\"nonselection_glyph\":null,\"selection_glyph\":null},\"id\":\"c0c31cbb-3ce4-4b36-a703-6e7532857402\",\"type\":\"GlyphRenderer\"},{\"attributes\":{\"fill_alpha\":{\"field\":\"fill_alpha\"},\"fill_color\":{\"field\":\"color\"},\"height\":{\"field\":\"height\",\"units\":\"data\"},\"line_color\":{\"field\":\"line_color\"},\"width\":{\"field\":\"width\",\"units\":\"data\"},\"x\":{\"field\":\"x\"},\"y\":{\"field\":\"y\"}},\"id\":\"2d63df2c-6ce2-487d-9b68-d00a1b38ce6d\",\"type\":\"Rect\"},{\"attributes\":{\"fill_alpha\":{\"field\":\"fill_alpha\"},\"fill_color\":{\"field\":\"color\"},\"height\":{\"field\":\"height\",\"units\":\"data\"},\"line_color\":{\"field\":\"line_color\"},\"width\":{\"field\":\"width\",\"units\":\"data\"},\"x\":{\"field\":\"x\"},\"y\":{\"field\":\"y\"}},\"id\":\"95d9ae59-a7bf-4e35-8c73-85977a33bd5d\",\"type\":\"Rect\"},{\"attributes\":{\"fill_alpha\":{\"field\":\"fill_alpha\"},\"fill_color\":{\"field\":\"color\"},\"height\":{\"field\":\"height\",\"units\":\"data\"},\"line_color\":{\"field\":\"line_color\"},\"width\":{\"field\":\"width\",\"units\":\"data\"},\"x\":{\"field\":\"x\"},\"y\":{\"field\":\"y\"}},\"id\":\"e65b5318-5d5d-4bc4-a2a1-7fe980bfa17e\",\"type\":\"Rect\"},{\"attributes\":{\"fill_alpha\":{\"field\":\"fill_alpha\"},\"fill_color\":{\"field\":\"color\"},\"height\":{\"field\":\"height\",\"units\":\"data\"},\"line_color\":{\"field\":\"line_color\"},\"width\":{\"field\":\"width\",\"units\":\"data\"},\"x\":{\"field\":\"x\"},\"y\":{\"field\":\"y\"}},\"id\":\"59017d28-fa38-40c6-bc21-61e378683d91\",\"type\":\"Rect\"},{\"attributes\":{\"fill_alpha\":{\"field\":\"fill_alpha\"},\"fill_color\":{\"field\":\"color\"},\"height\":{\"field\":\"height\",\"units\":\"data\"},\"line_color\":{\"field\":\"line_color\"},\"width\":{\"field\":\"width\",\"units\":\"data\"},\"x\":{\"field\":\"x\"},\"y\":{\"field\":\"y\"}},\"id\":\"b9491de8-d5b9-42d3-accf-e26c716d3d59\",\"type\":\"Rect\"},{\"attributes\":{\"fill_alpha\":{\"field\":\"fill_alpha\"},\"fill_color\":{\"field\":\"color\"},\"height\":{\"field\":\"height\",\"units\":\"data\"},\"line_color\":{\"field\":\"line_color\"},\"width\":{\"field\":\"width\",\"units\":\"data\"},\"x\":{\"field\":\"x\"},\"y\":{\"field\":\"y\"}},\"id\":\"c46e14d8-5522-40b9-8410-d45232694433\",\"type\":\"Rect\"},{\"attributes\":{\"active_drag\":\"auto\",\"active_scroll\":\"auto\",\"active_tap\":\"auto\",\"tools\":[{\"id\":\"26a254ba-7684-4b20-8c29-1f6b20aa3cfd\",\"type\":\"HoverTool\"}]},\"id\":\"f40332ca-a74e-4644-b75e-9ec13c50fb34\",\"type\":\"Toolbar\"},{\"attributes\":{\"fill_alpha\":{\"field\":\"fill_alpha\"},\"fill_color\":{\"field\":\"color\"},\"height\":{\"field\":\"height\",\"units\":\"data\"},\"line_color\":{\"field\":\"line_color\"},\"width\":{\"field\":\"width\",\"units\":\"data\"},\"x\":{\"field\":\"x\"},\"y\":{\"field\":\"y\"}},\"id\":\"d3856b5d-4c91-4625-a152-ce23cdbc9199\",\"type\":\"Rect\"},{\"attributes\":{\"data_source\":{\"id\":\"c3a21f83-5396-4bcd-a8b5-abd559f7745c\",\"type\":\"ColumnDataSource\"},\"glyph\":{\"id\":\"c4ff9883-870a-4134-9b7c-52c9e849f7fd\",\"type\":\"Rect\"},\"hover_glyph\":null,\"nonselection_glyph\":null,\"selection_glyph\":null},\"id\":\"f52e9674-5f6b-4a4b-9b57-375dfdce80ba\",\"type\":\"GlyphRenderer\"},{\"attributes\":{\"callback\":null,\"column_names\":[\"line_color\",\"line_alpha\",\"color\",\"fill_alpha\",\"height\",\"width\",\"y\",\"x\",\"label\"],\"data\":{\"PercentageAmongstTop\":[5.960754021493136],\"QuestCreationYear\":[\"Oct'13-14\"],\"QuestTags\":[\"ios\"],\"YearTagCount\":[8797],\"chart_index\":[{\"PercentageAmongstTop\":5.960754021493136,\"QuestCreationYear\":\"Oct'13-14\",\"QuestTags\":\"ios\",\"YearTagCount\":8797}],\"color\":[\"#F08080\"],\"fill_alpha\":[0.8],\"height\":[5.960754021493136],\"label\":[{\"PercentageAmongstTop\":5.960754021493136,\"QuestCreationYear\":\"Oct'13-14\",\"QuestTags\":\"ios\",\"YearTagCount\":8797}],\"line_alpha\":[1.0],\"line_color\":[\"#D3D3D3\"],\"width\":[1.0],\"x\":[\"Oct'13-14\"],\"y\":[38.58566762884362]}},\"id\":\"5cf9f20d-2030-455f-882c-9d32087f9805\",\"type\":\"ColumnDataSource\"},{\"attributes\":{\"fill_alpha\":{\"field\":\"fill_alpha\"},\"fill_color\":{\"field\":\"color\"},\"height\":{\"field\":\"height\",\"units\":\"data\"},\"line_color\":{\"field\":\"line_color\"},\"width\":{\"field\":\"width\",\"units\":\"data\"},\"x\":{\"field\":\"x\"},\"y\":{\"field\":\"y\"}},\"id\":\"895ea5ad-40f8-4b14-af00-4723eaa540eb\",\"type\":\"Rect\"},{\"attributes\":{\"data_source\":{\"id\":\"df53e578-0950-452e-841d-114e2cff835b\",\"type\":\"ColumnDataSource\"},\"glyph\":{\"id\":\"07863d26-b322-4ac9-a611-3a74d3309859\",\"type\":\"Rect\"},\"hover_glyph\":null,\"nonselection_glyph\":null,\"selection_glyph\":null},\"id\":\"d8333c6f-9854-4053-9f26-5d4d6ffbddb5\",\"type\":\"GlyphRenderer\"},{\"attributes\":{\"callback\":null,\"column_names\":[\"line_color\",\"line_alpha\",\"color\",\"fill_alpha\",\"height\",\"width\",\"y\",\"x\",\"label\"],\"data\":{\"PercentageAmongstTop\":[6.247709783803591],\"QuestCreationYear\":[\"Oct'08-09\"],\"QuestTags\":[\"python\"],\"YearTagCount\":[1023],\"chart_index\":[{\"PercentageAmongstTop\":6.247709783803591,\"QuestCreationYear\":\"Oct'08-09\",\"QuestTags\":\"python\",\"YearTagCount\":1023}],\"color\":[\"#FFA07A\"],\"fill_alpha\":[0.8],\"height\":[6.247709783803591],\"label\":[{\"PercentageAmongstTop\":6.247709783803591,\"QuestCreationYear\":\"Oct'08-09\",\"QuestTags\":\"python\",\"YearTagCount\":1023}],\"line_alpha\":[1.0],\"line_color\":[\"#F0E68C\"],\"width\":[1.0],\"x\":[\"Oct'08-09\"],\"y\":[96.87614510809821]}},\"id\":\"5ae56822-36b6-477d-9747-91aaf027a940\",\"type\":\"ColumnDataSource\"},{\"attributes\":{\"data_source\":{\"id\":\"19ac3fbc-0cb9-4716-947b-a038ef8fa8d7\",\"type\":\"ColumnDataSource\"},\"glyph\":{\"id\":\"8c3e59af-803a-40dc-9b61-c8890a7dec78\",\"type\":\"Rect\"},\"hover_glyph\":null,\"nonselection_glyph\":null,\"selection_glyph\":null},\"id\":\"6bf5b39b-96b5-47a5-8ac2-7115c1cb0a68\",\"type\":\"GlyphRenderer\"},{\"attributes\":{\"fill_alpha\":{\"field\":\"fill_alpha\"},\"fill_color\":{\"field\":\"color\"},\"height\":{\"field\":\"height\",\"units\":\"data\"},\"line_color\":{\"field\":\"line_color\"},\"width\":{\"field\":\"width\",\"units\":\"data\"},\"x\":{\"field\":\"x\"},\"y\":{\"field\":\"y\"}},\"id\":\"69761d52-e4c5-441e-af7a-9ca4cc7459cd\",\"type\":\"Rect\"},{\"attributes\":{\"data_source\":{\"id\":\"617ed6ff-f37a-4546-8940-21a5c9cd5169\",\"type\":\"ColumnDataSource\"},\"glyph\":{\"id\":\"f789ba05-fb5c-4b51-b283-9bdb56362262\",\"type\":\"Rect\"},\"hover_glyph\":null,\"nonselection_glyph\":null,\"selection_glyph\":null},\"id\":\"66fc815b-5290-4bca-9d48-7f141e748c74\",\"type\":\"GlyphRenderer\"},{\"attributes\":{\"fill_alpha\":{\"field\":\"fill_alpha\"},\"fill_color\":{\"field\":\"color\"},\"height\":{\"field\":\"height\",\"units\":\"data\"},\"line_color\":{\"field\":\"line_color\"},\"width\":{\"field\":\"width\",\"units\":\"data\"},\"x\":{\"field\":\"x\"},\"y\":{\"field\":\"y\"}},\"id\":\"f789ba05-fb5c-4b51-b283-9bdb56362262\",\"type\":\"Rect\"},{\"attributes\":{\"axis_label\":\"Percentage of Top Tags Used in Questions Yearly (%)\",\"formatter\":{\"id\":\"196503c8-66c2-4fb9-a709-5be0aacf1458\",\"type\":\"BasicTickFormatter\"},\"plot\":{\"id\":\"86233a77-196c-43c3-b211-a1df62b8d125\",\"subtype\":\"Chart\",\"type\":\"Plot\"},\"ticker\":{\"id\":\"64340f51-6a11-47ea-bc1f-e378f0427ff5\",\"type\":\"BasicTicker\"}},\"id\":\"d5c302e6-e462-4607-b5bd-d5f936242a93\",\"type\":\"LinearAxis\"},{\"attributes\":{\"data_source\":{\"id\":\"9db02b13-26cc-4de7-a42c-7ce5a66e280d\",\"type\":\"ColumnDataSource\"},\"glyph\":{\"id\":\"b94ae86e-6a47-4b10-aaee-72996c89939b\",\"type\":\"Rect\"},\"hover_glyph\":null,\"nonselection_glyph\":null,\"selection_glyph\":null},\"id\":\"3d67d4bc-5cc5-4bf3-8c1d-5254410962f3\",\"type\":\"GlyphRenderer\"},{\"attributes\":{\"data_source\":{\"id\":\"6517889f-6052-4f9d-aa2a-7a0482a86e4c\",\"type\":\"ColumnDataSource\"},\"glyph\":{\"id\":\"6b00d624-ae3a-40f9-a0c9-14c475c710de\",\"type\":\"Rect\"},\"hover_glyph\":null,\"nonselection_glyph\":null,\"selection_glyph\":null},\"id\":\"e20cf798-e6ec-4764-8108-92b48796fd63\",\"type\":\"GlyphRenderer\"},{\"attributes\":{\"data_source\":{\"id\":\"9b7a262a-12a9-42f2-94a0-053ef6068dbf\",\"type\":\"ColumnDataSource\"},\"glyph\":{\"id\":\"e6801964-acf0-4462-81e2-faa4b3b1d219\",\"type\":\"Rect\"},\"hover_glyph\":null,\"nonselection_glyph\":null,\"selection_glyph\":null},\"id\":\"cd1c48dc-524c-43dd-8e24-9f09318c5874\",\"type\":\"GlyphRenderer\"},{\"attributes\":{\"callback\":null,\"column_names\":[\"line_color\",\"line_alpha\",\"color\",\"fill_alpha\",\"height\",\"width\",\"y\",\"x\",\"label\"],\"data\":{\"PercentageAmongstTop\":[12.299987785513618],\"QuestCreationYear\":[\"Oct'08-09\"],\"QuestTags\":[\".net\"],\"YearTagCount\":[2014],\"chart_index\":[{\"PercentageAmongstTop\":12.299987785513618,\"QuestCreationYear\":\"Oct'08-09\",\"QuestTags\":\".net\",\"YearTagCount\":2014}],\"color\":[\"#4B0082\"],\"fill_alpha\":[0.8],\"height\":[12.299987785513618],\"label\":[{\"PercentageAmongstTop\":12.299987785513618,\"QuestCreationYear\":\"Oct'08-09\",\"QuestTags\":\".net\",\"YearTagCount\":2014}],\"line_alpha\":[1.0],\"line_color\":[\"#D3D3D3\"],\"width\":[1.0],\"x\":[\"Oct'08-09\"],\"y\":[6.149993892756809]}},\"id\":\"4e326017-7b3e-4aeb-a176-206a25b8faa2\",\"type\":\"ColumnDataSource\"},{\"attributes\":{\"fill_alpha\":{\"field\":\"fill_alpha\"},\"fill_color\":{\"field\":\"color\"},\"height\":{\"field\":\"height\",\"units\":\"data\"},\"line_color\":{\"field\":\"line_color\"},\"width\":{\"field\":\"width\",\"units\":\"data\"},\"x\":{\"field\":\"x\"},\"y\":{\"field\":\"y\"}},\"id\":\"bd8101a2-5d07-4515-8f67-fd864eb43e75\",\"type\":\"Rect\"},{\"attributes\":{\"data_source\":{\"id\":\"44e79828-c2a3-4b4b-ae5d-0f618f1e10e1\",\"type\":\"ColumnDataSource\"},\"glyph\":{\"id\":\"3217de5e-cca6-4a20-bdf1-f1fb00b00ec6\",\"type\":\"Rect\"},\"hover_glyph\":null,\"nonselection_glyph\":null,\"selection_glyph\":null},\"id\":\"d407283f-1e37-4e85-882c-15a6d96f8aef\",\"type\":\"GlyphRenderer\"},{\"attributes\":{},\"id\":\"aff81019-a30c-477a-b224-c8f35aadcfdc\",\"type\":\"CategoricalTickFormatter\"},{\"attributes\":{\"fill_alpha\":{\"field\":\"fill_alpha\"},\"fill_color\":{\"field\":\"color\"},\"height\":{\"field\":\"height\",\"units\":\"data\"},\"line_color\":{\"field\":\"line_color\"},\"width\":{\"field\":\"width\",\"units\":\"data\"},\"x\":{\"field\":\"x\"},\"y\":{\"field\":\"y\"}},\"id\":\"98bc342a-5c88-4188-baab-a5c5072f2217\",\"type\":\"Rect\"},{\"attributes\":{\"data_source\":{\"id\":\"fe64e9c9-d6cf-4ac3-b6c4-5deeb0a8e178\",\"type\":\"ColumnDataSource\"},\"glyph\":{\"id\":\"7f52d44b-88c2-4c16-80f5-4b4cd68405a8\",\"type\":\"Rect\"},\"hover_glyph\":null,\"nonselection_glyph\":null,\"selection_glyph\":null},\"id\":\"bf93ffff-72ed-4f7c-8365-e81ba42538f6\",\"type\":\"GlyphRenderer\"},{\"attributes\":{\"fill_alpha\":{\"field\":\"fill_alpha\"},\"fill_color\":{\"field\":\"color\"},\"height\":{\"field\":\"height\",\"units\":\"data\"},\"line_color\":{\"field\":\"line_color\"},\"width\":{\"field\":\"width\",\"units\":\"data\"},\"x\":{\"field\":\"x\"},\"y\":{\"field\":\"y\"}},\"id\":\"0b0b1f38-22a6-4537-8a79-8957d68fb347\",\"type\":\"Rect\"},{\"attributes\":{\"callback\":null,\"column_names\":[\"line_color\",\"line_alpha\",\"color\",\"fill_alpha\",\"height\",\"width\",\"y\",\"x\",\"label\"],\"data\":{\"PercentageAmongstTop\":[6.3497979813039525],\"QuestCreationYear\":[\"Oct'10-11\"],\"QuestTags\":[\"c++\"],\"YearTagCount\":[4259],\"chart_index\":[{\"PercentageAmongstTop\":6.3497979813039525,\"QuestCreationYear\":\"Oct'10-11\",\"QuestTags\":\"c++\",\"YearTagCount\":4259}],\"color\":[\"#FFF0F5\"],\"fill_alpha\":[0.8],\"height\":[6.3497979813039525],\"label\":[{\"PercentageAmongstTop\":6.3497979813039525,\"QuestCreationYear\":\"Oct'10-11\",\"QuestTags\":\"c++\",\"YearTagCount\":4259}],\"line_alpha\":[1.0],\"line_color\":[\"#E6E6FA\"],\"width\":[1.0],\"x\":[\"Oct'10-11\"],\"y\":[35.38010824027552]}},\"id\":\"2be96ddd-cd9b-4e30-85ab-31206c1bd04c\",\"type\":\"ColumnDataSource\"},{\"attributes\":{\"callback\":null,\"column_names\":[\"line_color\",\"line_alpha\",\"color\",\"fill_alpha\",\"height\",\"width\",\"y\",\"x\",\"label\"],\"data\":{\"PercentageAmongstTop\":[10.676427176360086],\"QuestCreationYear\":[\"Oct'10-11\"],\"QuestTags\":[\"jquery\"],\"YearTagCount\":[7161],\"chart_index\":[{\"PercentageAmongstTop\":10.676427176360086,\"QuestCreationYear\":\"Oct'10-11\",\"QuestTags\":\"jquery\",\"YearTagCount\":7161}],\"color\":[\"#87CEFA\"],\"fill_alpha\":[0.8],\"height\":[10.676427176360086],\"label\":[{\"PercentageAmongstTop\":10.676427176360086,\"QuestCreationYear\":\"Oct'10-11\",\"QuestTags\":\"jquery\",\"YearTagCount\":7161}],\"line_alpha\":[1.0],\"line_color\":[\"#778899\"],\"width\":[1.0],\"x\":[\"Oct'10-11\"],\"y\":[76.07159363678379]}},\"id\":\"3c49027c-3891-45d6-bb1f-63d12e7d88ad\",\"type\":\"ColumnDataSource\"},{\"attributes\":{\"callback\":null,\"column_names\":[\"line_color\",\"line_alpha\",\"color\",\"fill_alpha\",\"height\",\"width\",\"y\",\"x\",\"label\"],\"data\":{\"PercentageAmongstTop\":[12.467169716930004],\"QuestCreationYear\":[\"Oct'11-12\"],\"QuestTags\":[\"php\"],\"YearTagCount\":[11962],\"chart_index\":[{\"PercentageAmongstTop\":12.467169716930004,\"QuestCreationYear\":\"Oct'11-12\",\"QuestTags\":\"php\",\"YearTagCount\":11962}],\"color\":[\"#20B2AA\"],\"fill_alpha\":[0.8],\"height\":[12.467169716930004],\"label\":[{\"PercentageAmongstTop\":12.467169716930004,\"QuestCreationYear\":\"Oct'11-12\",\"QuestTags\":\"php\",\"YearTagCount\":11962}],\"line_alpha\":[1.0],\"line_color\":[\"#4B0082\"],\"width\":[1.0],\"x\":[\"Oct'11-12\"],\"y\":[87.95493392254139]}},\"id\":\"c6db4061-a03d-40bb-8059-cb8e60448507\",\"type\":\"ColumnDataSource\"},{\"attributes\":{\"axis_label\":\"Year in which Question was Created\",\"formatter\":{\"id\":\"aff81019-a30c-477a-b224-c8f35aadcfdc\",\"type\":\"CategoricalTickFormatter\"},\"major_label_orientation\":0.7853981633974483,\"plot\":{\"id\":\"86233a77-196c-43c3-b211-a1df62b8d125\",\"subtype\":\"Chart\",\"type\":\"Plot\"},\"ticker\":{\"id\":\"516e6cff-9ca9-444e-8720-6ad81c220efc\",\"type\":\"CategoricalTicker\"}},\"id\":\"ca9353b5-e361-4e66-9a29-ea33a726c149\",\"type\":\"CategoricalAxis\"},{\"attributes\":{\"callback\":null,\"column_names\":[\"line_color\",\"line_alpha\",\"color\",\"fill_alpha\",\"height\",\"width\",\"y\",\"x\",\"label\"],\"data\":{\"PercentageAmongstTop\":[6.180690381388002],\"QuestCreationYear\":[\"Oct'12-13\"],\"QuestTags\":[\"ios\"],\"YearTagCount\":[7513],\"chart_index\":[{\"PercentageAmongstTop\":6.180690381388002,\"QuestCreationYear\":\"Oct'12-13\",\"QuestTags\":\"ios\",\"YearTagCount\":7513}],\"color\":[\"#F08080\"],\"fill_alpha\":[0.8],\"height\":[6.180690381388002],\"label\":[{\"PercentageAmongstTop\":6.180690381388002,\"QuestCreationYear\":\"Oct'12-13\",\"QuestTags\":\"ios\",\"YearTagCount\":7513}],\"line_alpha\":[1.0],\"line_color\":[\"#40E0D0\"],\"width\":[1.0],\"x\":[\"Oct'12-13\"],\"y\":[39.838017045641514]}},\"id\":\"535b086d-5bf2-4c7b-8bed-812c3d89a529\",\"type\":\"ColumnDataSource\"},{\"attributes\":{\"fill_alpha\":{\"field\":\"fill_alpha\"},\"fill_color\":{\"field\":\"color\"},\"height\":{\"field\":\"height\",\"units\":\"data\"},\"line_color\":{\"field\":\"line_color\"},\"width\":{\"field\":\"width\",\"units\":\"data\"},\"x\":{\"field\":\"x\"},\"y\":{\"field\":\"y\"}},\"id\":\"b7bb4492-1034-4a76-ab45-504ee9e811b0\",\"type\":\"Rect\"},{\"attributes\":{\"data_source\":{\"id\":\"81161ca6-ac3f-4843-84a9-6fc4a5bbaeed\",\"type\":\"ColumnDataSource\"},\"glyph\":{\"id\":\"34b2ebee-6356-4bde-9710-af9a0a19c160\",\"type\":\"Rect\"},\"hover_glyph\":null,\"nonselection_glyph\":null,\"selection_glyph\":null},\"id\":\"99c4ca82-e6f9-437d-a118-46750a062b82\",\"type\":\"GlyphRenderer\"},{\"attributes\":{\"data_source\":{\"id\":\"5da10867-125e-4266-a6a6-ddea944500c9\",\"type\":\"ColumnDataSource\"},\"glyph\":{\"id\":\"95d9ae59-a7bf-4e35-8c73-85977a33bd5d\",\"type\":\"Rect\"},\"hover_glyph\":null,\"nonselection_glyph\":null,\"selection_glyph\":null},\"id\":\"422c0015-fb17-4882-8774-b8d4d02d778b\",\"type\":\"GlyphRenderer\"},{\"attributes\":{\"data_source\":{\"id\":\"f81f783f-a0b0-4c78-ac63-f97f89066c70\",\"type\":\"ColumnDataSource\"},\"glyph\":{\"id\":\"07194568-6c4d-42cb-a270-765612887221\",\"type\":\"Rect\"},\"hover_glyph\":null,\"nonselection_glyph\":null,\"selection_glyph\":null},\"id\":\"cf483af0-97ff-4602-a797-df621571b696\",\"type\":\"GlyphRenderer\"},{\"attributes\":{\"data_source\":{\"id\":\"5644d675-6683-4f08-a8c2-a9203a8eb48b\",\"type\":\"ColumnDataSource\"},\"glyph\":{\"id\":\"195956fb-b019-41f2-8a93-0ea7e54dfd24\",\"type\":\"Rect\"},\"hover_glyph\":null,\"nonselection_glyph\":null,\"selection_glyph\":null},\"id\":\"132fc5dc-4f55-49c0-8539-3f432d308456\",\"type\":\"GlyphRenderer\"},{\"attributes\":{\"callback\":null,\"column_names\":[\"line_color\",\"line_alpha\",\"color\",\"fill_alpha\",\"height\",\"width\",\"y\",\"x\",\"label\"],\"data\":{\"PercentageAmongstTop\":[10.263644390486176],\"QuestCreationYear\":[\"Oct'14-15\"],\"QuestTags\":[\"c#\"],\"YearTagCount\":[14879],\"chart_index\":[{\"PercentageAmongstTop\":10.263644390486176,\"QuestCreationYear\":\"Oct'14-15\",\"QuestTags\":\"c#\",\"YearTagCount\":14879}],\"color\":[\"#E6E6FA\"],\"fill_alpha\":[0.8],\"height\":[10.263644390486176],\"label\":[{\"PercentageAmongstTop\":10.263644390486176,\"QuestCreationYear\":\"Oct'14-15\",\"QuestTags\":\"c#\",\"YearTagCount\":14879}],\"line_alpha\":[1.0],\"line_color\":[\"#778899\"],\"width\":[1.0],\"x\":[\"Oct'14-15\"],\"y\":[16.146666850615308]}},\"id\":\"617ed6ff-f37a-4546-8940-21a5c9cd5169\",\"type\":\"ColumnDataSource\"},{\"attributes\":{\"fill_alpha\":{\"field\":\"fill_alpha\"},\"fill_color\":{\"field\":\"color\"},\"height\":{\"field\":\"height\",\"units\":\"data\"},\"line_color\":{\"field\":\"line_color\"},\"width\":{\"field\":\"width\",\"units\":\"data\"},\"x\":{\"field\":\"x\"},\"y\":{\"field\":\"y\"}},\"id\":\"5ae4188e-0509-464b-be9a-a30ecb863721\",\"type\":\"Rect\"},{\"attributes\":{\"data_source\":{\"id\":\"3c49027c-3891-45d6-bb1f-63d12e7d88ad\",\"type\":\"ColumnDataSource\"},\"glyph\":{\"id\":\"096263ce-9b9a-48f8-9887-12350137f90a\",\"type\":\"Rect\"},\"hover_glyph\":null,\"nonselection_glyph\":null,\"selection_glyph\":null},\"id\":\"1e6c2455-9f45-4542-b586-4c83b9577d43\",\"type\":\"GlyphRenderer\"},{\"attributes\":{\"data_source\":{\"id\":\"5e74c1cc-8b1f-40cf-bae0-7928c10ef34c\",\"type\":\"ColumnDataSource\"},\"glyph\":{\"id\":\"bd8101a2-5d07-4515-8f67-fd864eb43e75\",\"type\":\"Rect\"},\"hover_glyph\":null,\"nonselection_glyph\":null,\"selection_glyph\":null},\"id\":\"01e3b802-7814-4c63-bc12-bc92ba6fd2e8\",\"type\":\"GlyphRenderer\"},{\"attributes\":{\"fill_alpha\":{\"field\":\"fill_alpha\"},\"fill_color\":{\"field\":\"color\"},\"height\":{\"field\":\"height\",\"units\":\"data\"},\"line_color\":{\"field\":\"line_color\"},\"width\":{\"field\":\"width\",\"units\":\"data\"},\"x\":{\"field\":\"x\"},\"y\":{\"field\":\"y\"}},\"id\":\"704b75cc-6bd6-409d-b5b5-f61aaf9681b9\",\"type\":\"Rect\"},{\"attributes\":{\"data_source\":{\"id\":\"7177f943-7220-436b-9ad8-85f315a6b0e9\",\"type\":\"ColumnDataSource\"},\"glyph\":{\"id\":\"881c5deb-5f2f-4882-8f23-28f8da731170\",\"type\":\"Rect\"},\"hover_glyph\":null,\"nonselection_glyph\":null,\"selection_glyph\":null},\"id\":\"251da24e-2f6c-481a-8278-11694d7f5596\",\"type\":\"GlyphRenderer\"},{\"attributes\":{\"callback\":null,\"column_names\":[\"line_color\",\"line_alpha\",\"color\",\"fill_alpha\",\"height\",\"width\",\"y\",\"x\",\"label\"],\"data\":{\"PercentageAmongstTop\":[15.55203209063436],\"QuestCreationYear\":[\"Oct'13-14\"],\"QuestTags\":[\"javascript\"],\"YearTagCount\":[22952],\"chart_index\":[{\"PercentageAmongstTop\":15.55203209063436,\"QuestCreationYear\":\"Oct'13-14\",\"QuestTags\":\"javascript\",\"YearTagCount\":22952}],\"color\":[\"#FFB6C1\"],\"fill_alpha\":[0.8],\"height\":[15.55203209063436],\"label\":[{\"PercentageAmongstTop\":15.55203209063436,\"QuestCreationYear\":\"Oct'13-14\",\"QuestTags\":\"javascript\",\"YearTagCount\":22952}],\"line_alpha\":[1.0],\"line_color\":[\"#778899\"],\"width\":[1.0],\"x\":[\"Oct'13-14\"],\"y\":[63.241452209619055]}},\"id\":\"6205da9e-ddf1-4322-8eac-b12f3d019be4\",\"type\":\"ColumnDataSource\"},{\"attributes\":{\"data_source\":{\"id\":\"3cbc8368-f16f-4791-bdfa-4759f9288087\",\"type\":\"ColumnDataSource\"},\"glyph\":{\"id\":\"394159cc-c523-4bfb-b8f2-d01c87f0ef88\",\"type\":\"Rect\"},\"hover_glyph\":null,\"nonselection_glyph\":null,\"selection_glyph\":null},\"id\":\"c8cead7b-225e-483f-81de-c977b2bf2937\",\"type\":\"GlyphRenderer\"},{\"attributes\":{\"data_source\":{\"id\":\"beff3819-8bba-4a02-8adc-ba97039daded\",\"type\":\"ColumnDataSource\"},\"glyph\":{\"id\":\"58fd837b-d561-44b9-92b3-2c24e523eee6\",\"type\":\"Rect\"},\"hover_glyph\":null,\"nonselection_glyph\":null,\"selection_glyph\":null},\"id\":\"d231300f-55db-48fc-8e4c-caa3ec9226e4\",\"type\":\"GlyphRenderer\"},{\"attributes\":{\"callback\":null,\"column_names\":[\"line_color\",\"line_alpha\",\"color\",\"fill_alpha\",\"height\",\"width\",\"y\",\"x\",\"label\"],\"data\":{\"PercentageAmongstTop\":[7.859359542491632],\"QuestCreationYear\":[\"Oct'13-14\"],\"QuestTags\":[\"html\"],\"YearTagCount\":[11599],\"chart_index\":[{\"PercentageAmongstTop\":7.859359542491632,\"QuestCreationYear\":\"Oct'13-14\",\"QuestTags\":\"html\",\"YearTagCount\":11599}],\"color\":[\"#ADD8E6\"],\"fill_alpha\":[0.8],\"height\":[7.859359542491632],\"label\":[{\"PercentageAmongstTop\":7.859359542491632,\"QuestCreationYear\":\"Oct'13-14\",\"QuestTags\":\"html\",\"YearTagCount\":11599}],\"line_alpha\":[1.0],\"line_color\":[\"#40E0D0\"],\"width\":[1.0],\"x\":[\"Oct'13-14\"],\"y\":[31.675610846851242]}},\"id\":\"652d9ad0-8a15-4a9a-aeb8-3c92eea60ff2\",\"type\":\"ColumnDataSource\"},{\"attributes\":{\"fill_alpha\":{\"field\":\"fill_alpha\"},\"fill_color\":{\"field\":\"color\"},\"height\":{\"field\":\"height\",\"units\":\"data\"},\"line_color\":{\"field\":\"line_color\"},\"width\":{\"field\":\"width\",\"units\":\"data\"},\"x\":{\"field\":\"x\"},\"y\":{\"field\":\"y\"}},\"id\":\"7f52d44b-88c2-4c16-80f5-4b4cd68405a8\",\"type\":\"Rect\"},{\"attributes\":{\"data_source\":{\"id\":\"5ae56822-36b6-477d-9747-91aaf027a940\",\"type\":\"ColumnDataSource\"},\"glyph\":{\"id\":\"1cd9e3df-0f28-4aec-ae99-d873bb14aaef\",\"type\":\"Rect\"},\"hover_glyph\":null,\"nonselection_glyph\":null,\"selection_glyph\":null},\"id\":\"2972986c-1c59-4862-bb75-65fddde94000\",\"type\":\"GlyphRenderer\"},{\"attributes\":{\"fill_alpha\":{\"field\":\"fill_alpha\"},\"fill_color\":{\"field\":\"color\"},\"height\":{\"field\":\"height\",\"units\":\"data\"},\"line_color\":{\"field\":\"line_color\"},\"width\":{\"field\":\"width\",\"units\":\"data\"},\"x\":{\"field\":\"x\"},\"y\":{\"field\":\"y\"}},\"id\":\"8b0b4743-c38d-402d-9ab5-fdacfe4b2f9b\",\"type\":\"Rect\"},{\"attributes\":{\"callback\":null,\"column_names\":[\"line_color\",\"line_alpha\",\"color\",\"fill_alpha\",\"height\",\"width\",\"y\",\"x\",\"label\"],\"data\":{\"PercentageAmongstTop\":[5.96066935385367],\"QuestCreationYear\":[\"Oct'08-09\"],\"QuestTags\":[\"jquery\"],\"YearTagCount\":[976],\"chart_index\":[{\"PercentageAmongstTop\":5.96066935385367,\"QuestCreationYear\":\"Oct'08-09\",\"QuestTags\":\"jquery\",\"YearTagCount\":976}],\"color\":[\"#87CEFA\"],\"fill_alpha\":[0.8],\"height\":[5.96066935385367],\"label\":[{\"PercentageAmongstTop\":5.96066935385367,\"QuestCreationYear\":\"Oct'08-09\",\"QuestTags\":\"jquery\",\"YearTagCount\":976}],\"line_alpha\":[1.0],\"line_color\":[\"#4B0082\"],\"width\":[1.0],\"x\":[\"Oct'08-09\"],\"y\":[81.80652253572737]}},\"id\":\"9b7a262a-12a9-42f2-94a0-053ef6068dbf\",\"type\":\"ColumnDataSource\"},{\"attributes\":{\"fill_alpha\":{\"field\":\"fill_alpha\"},\"fill_color\":{\"field\":\"color\"},\"height\":{\"field\":\"height\",\"units\":\"data\"},\"line_color\":{\"field\":\"line_color\"},\"width\":{\"field\":\"width\",\"units\":\"data\"},\"x\":{\"field\":\"x\"},\"y\":{\"field\":\"y\"}},\"id\":\"053acae5-acf9-4226-9f7c-e951e02ba4fc\",\"type\":\"Rect\"},{\"attributes\":{\"data_source\":{\"id\":\"4b6f9338-6cda-478a-9ab8-06ccdae10e97\",\"type\":\"ColumnDataSource\"},\"glyph\":{\"id\":\"5ae4188e-0509-464b-be9a-a30ecb863721\",\"type\":\"Rect\"},\"hover_glyph\":null,\"nonselection_glyph\":null,\"selection_glyph\":null},\"id\":\"da2c4de7-e5f5-4a01-b2ed-f77fbdb8df1c\",\"type\":\"GlyphRenderer\"},{\"attributes\":{\"callback\":null,\"column_names\":[\"line_color\",\"line_alpha\",\"color\",\"fill_alpha\",\"height\",\"width\",\"y\",\"x\",\"label\"],\"data\":{\"PercentageAmongstTop\":[5.194667200030001],\"QuestCreationYear\":[\"Oct'15-16\"],\"QuestTags\":[\"css\"],\"YearTagCount\":[8311],\"chart_index\":[{\"PercentageAmongstTop\":5.194667200030001,\"QuestCreationYear\":\"Oct'15-16\",\"QuestTags\":\"css\",\"YearTagCount\":8311}],\"color\":[\"#90EE90\"],\"fill_alpha\":[0.8],\"height\":[5.194667200030001],\"label\":[{\"PercentageAmongstTop\":5.194667200030001,\"QuestCreationYear\":\"Oct'15-16\",\"QuestTags\":\"css\",\"YearTagCount\":8311}],\"line_alpha\":[1.0],\"line_color\":[\"#E6E6FA\"],\"width\":[1.0],\"x\":[\"Oct'15-16\"],\"y\":[24.33355626253977]}},\"id\":\"fe64e9c9-d6cf-4ac3-b6c4-5deeb0a8e178\",\"type\":\"ColumnDataSource\"},{\"attributes\":{\"data_source\":{\"id\":\"1ac812bf-f994-4bc8-b751-5dbabf79df64\",\"type\":\"ColumnDataSource\"},\"glyph\":{\"id\":\"ccba217e-eccb-47de-b7a1-fc23614dd7c5\",\"type\":\"Rect\"},\"hover_glyph\":null,\"nonselection_glyph\":null,\"selection_glyph\":null},\"id\":\"f52dfc5c-4e7e-4267-935e-c4b505572004\",\"type\":\"GlyphRenderer\"},{\"attributes\":{\"callback\":null,\"column_names\":[\"line_color\",\"line_alpha\",\"color\",\"fill_alpha\",\"height\",\"width\",\"y\",\"x\",\"label\"],\"data\":{\"PercentageAmongstTop\":[12.195585480411587],\"QuestCreationYear\":[\"Oct'09-10\"],\"QuestTags\":[\"java\"],\"YearTagCount\":[4492],\"chart_index\":[{\"PercentageAmongstTop\":12.195585480411587,\"QuestCreationYear\":\"Oct'09-10\",\"QuestTags\":\"java\",\"YearTagCount\":4492}],\"color\":[\"#D3D3D3\"],\"fill_alpha\":[0.8],\"height\":[12.195585480411587],\"label\":[{\"PercentageAmongstTop\":12.195585480411587,\"QuestCreationYear\":\"Oct'09-10\",\"QuestTags\":\"java\",\"YearTagCount\":4492}],\"line_alpha\":[1.0],\"line_color\":[\"#90EE90\"],\"width\":[1.0],\"x\":[\"Oct'09-10\"],\"y\":[56.22946813998317]}},\"id\":\"5da10867-125e-4266-a6a6-ddea944500c9\",\"type\":\"ColumnDataSource\"},{\"attributes\":{\"fill_alpha\":{\"field\":\"fill_alpha\"},\"fill_color\":{\"field\":\"color\"},\"height\":{\"field\":\"height\",\"units\":\"data\"},\"line_color\":{\"field\":\"line_color\"},\"width\":{\"field\":\"width\",\"units\":\"data\"},\"x\":{\"field\":\"x\"},\"y\":{\"field\":\"y\"}},\"id\":\"c4ff9883-870a-4134-9b7c-52c9e849f7fd\",\"type\":\"Rect\"},{\"attributes\":{\"data_source\":{\"id\":\"fec3b618-bff7-4bc3-b8e1-8c97e19d7fa6\",\"type\":\"ColumnDataSource\"},\"glyph\":{\"id\":\"b9491de8-d5b9-42d3-accf-e26c716d3d59\",\"type\":\"Rect\"},\"hover_glyph\":null,\"nonselection_glyph\":null,\"selection_glyph\":null},\"id\":\"ecc2ee4d-11e6-41a2-9c5d-0ddb6c7b59b6\",\"type\":\"GlyphRenderer\"},{\"attributes\":{\"callback\":null,\"column_names\":[\"line_color\",\"line_alpha\",\"color\",\"fill_alpha\",\"height\",\"width\",\"y\",\"x\",\"label\"],\"data\":{\"PercentageAmongstTop\":[6.184097855504372],\"QuestCreationYear\":[\"Oct'15-16\"],\"QuestTags\":[\"ios\"],\"YearTagCount\":[9894],\"chart_index\":[{\"PercentageAmongstTop\":6.184097855504372,\"QuestCreationYear\":\"Oct'15-16\",\"QuestTags\":\"ios\",\"YearTagCount\":9894}],\"color\":[\"#F08080\"],\"fill_alpha\":[0.8],\"height\":[6.184097855504372],\"label\":[{\"PercentageAmongstTop\":6.184097855504372,\"QuestCreationYear\":\"Oct'15-16\",\"QuestTags\":\"ios\",\"YearTagCount\":9894}],\"line_alpha\":[1.0],\"line_color\":[\"#87CEFA\"],\"width\":[1.0],\"x\":[\"Oct'15-16\"],\"y\":[37.62774156046278]}},\"id\":\"f959729c-0564-436d-896f-2ff46eb336b8\",\"type\":\"ColumnDataSource\"},{\"attributes\":{\"callback\":null,\"column_names\":[\"line_color\",\"line_alpha\",\"color\",\"fill_alpha\",\"height\",\"width\",\"y\",\"x\",\"label\"],\"data\":{\"PercentageAmongstTop\":[7.779187579301336],\"QuestCreationYear\":[\"Oct'15-16\"],\"QuestTags\":[\"jquery\"],\"YearTagCount\":[12446],\"chart_index\":[{\"PercentageAmongstTop\":7.779187579301336,\"QuestCreationYear\":\"Oct'15-16\",\"QuestTags\":\"jquery\",\"YearTagCount\":12446}],\"color\":[\"#87CEFA\"],\"fill_alpha\":[0.8],\"height\":[7.779187579301336],\"label\":[{\"PercentageAmongstTop\":7.779187579301336,\"QuestCreationYear\":\"Oct'15-16\",\"QuestTags\":\"jquery\",\"YearTagCount\":12446}],\"line_alpha\":[1.0],\"line_color\":[\"#FFF0F5\"],\"width\":[1.0],\"x\":[\"Oct'15-16\"],\"y\":[75.5936271415267]}},\"id\":\"beeb0bd4-967f-4577-972b-1941239ef1df\",\"type\":\"ColumnDataSource\"},{\"attributes\":{\"data_source\":{\"id\":\"a022fee4-aec0-40db-a095-5a8774b2ff13\",\"type\":\"ColumnDataSource\"},\"glyph\":{\"id\":\"d81e57ae-6f92-4063-b859-21257a893603\",\"type\":\"Rect\"},\"hover_glyph\":null,\"nonselection_glyph\":null,\"selection_glyph\":null},\"id\":\"c73ef3de-90da-4655-80c4-6076a153a5eb\",\"type\":\"GlyphRenderer\"},{\"attributes\":{\"data_source\":{\"id\":\"a9ecb136-c735-4e73-884a-4d66070ac2b9\",\"type\":\"ColumnDataSource\"},\"glyph\":{\"id\":\"ebc96533-5383-4ad9-9f9d-abebfe2f14cc\",\"type\":\"Rect\"},\"hover_glyph\":null,\"nonselection_glyph\":null,\"selection_glyph\":null},\"id\":\"1c439835-3f47-4545-bc96-c48641640989\",\"type\":\"GlyphRenderer\"},{\"attributes\":{\"fill_alpha\":{\"field\":\"fill_alpha\"},\"fill_color\":{\"field\":\"color\"},\"height\":{\"field\":\"height\",\"units\":\"data\"},\"line_color\":{\"field\":\"line_color\"},\"width\":{\"field\":\"width\",\"units\":\"data\"},\"x\":{\"field\":\"x\"},\"y\":{\"field\":\"y\"}},\"id\":\"b94ae86e-6a47-4b10-aaee-72996c89939b\",\"type\":\"Rect\"},{\"attributes\":{\"fill_alpha\":{\"field\":\"fill_alpha\"},\"fill_color\":{\"field\":\"color\"},\"height\":{\"field\":\"height\",\"units\":\"data\"},\"line_color\":{\"field\":\"line_color\"},\"width\":{\"field\":\"width\",\"units\":\"data\"},\"x\":{\"field\":\"x\"},\"y\":{\"field\":\"y\"}},\"id\":\"e6801964-acf0-4462-81e2-faa4b3b1d219\",\"type\":\"Rect\"},{\"attributes\":{\"callback\":null,\"column_names\":[\"line_color\",\"line_alpha\",\"color\",\"fill_alpha\",\"height\",\"width\",\"y\",\"x\",\"label\"],\"data\":{\"PercentageAmongstTop\":[10.949167242617664],\"QuestCreationYear\":[\"Oct'13-14\"],\"QuestTags\":[\"android\"],\"YearTagCount\":[16159],\"chart_index\":[{\"PercentageAmongstTop\":10.949167242617664,\"QuestCreationYear\":\"Oct'13-14\",\"QuestTags\":\"android\",\"YearTagCount\":16159}],\"color\":[\"#FF6347\"],\"fill_alpha\":[0.8],\"height\":[10.949167242617664],\"label\":[{\"PercentageAmongstTop\":10.949167242617664,\"QuestCreationYear\":\"Oct'13-14\",\"QuestTags\":\"android\",\"YearTagCount\":16159}],\"line_alpha\":[1.0],\"line_color\":[\"#E6E6FA\"],\"width\":[1.0],\"x\":[\"Oct'13-14\"],\"y\":[5.474583621308832]}},\"id\":\"7e4dd330-377d-4423-b2bb-128f4e21bd6e\",\"type\":\"ColumnDataSource\"},{\"attributes\":{\"callback\":null,\"column_names\":[\"line_color\",\"line_alpha\",\"color\",\"fill_alpha\",\"height\",\"width\",\"y\",\"x\",\"label\"],\"data\":{\"PercentageAmongstTop\":[22.48686942714059],\"QuestCreationYear\":[\"Oct'08-09\"],\"QuestTags\":[\"c#\"],\"YearTagCount\":[3682],\"chart_index\":[{\"PercentageAmongstTop\":22.48686942714059,\"QuestCreationYear\":\"Oct'08-09\",\"QuestTags\":\"c#\",\"YearTagCount\":3682}],\"color\":[\"#E6E6FA\"],\"fill_alpha\":[0.8],\"height\":[22.48686942714059],\"label\":[{\"PercentageAmongstTop\":22.48686942714059,\"QuestCreationYear\":\"Oct'08-09\",\"QuestTags\":\"c#\",\"YearTagCount\":3682}],\"line_alpha\":[1.0],\"line_color\":[\"#4B0082\"],\"width\":[1.0],\"x\":[\"Oct'08-09\"],\"y\":[33.986808354708685]}},\"id\":\"4b6f9338-6cda-478a-9ab8-06ccdae10e97\",\"type\":\"ColumnDataSource\"},{\"attributes\":{\"fill_alpha\":{\"field\":\"fill_alpha\"},\"fill_color\":{\"field\":\"color\"},\"height\":{\"field\":\"height\",\"units\":\"data\"},\"line_color\":{\"field\":\"line_color\"},\"width\":{\"field\":\"width\",\"units\":\"data\"},\"x\":{\"field\":\"x\"},\"y\":{\"field\":\"y\"}},\"id\":\"3217de5e-cca6-4a20-bdf1-f1fb00b00ec6\",\"type\":\"Rect\"},{\"attributes\":{\"callback\":null,\"column_names\":[\"line_color\",\"line_alpha\",\"color\",\"fill_alpha\",\"height\",\"width\",\"y\",\"x\",\"label\"],\"data\":{\"PercentageAmongstTop\":[18.268943610349414],\"QuestCreationYear\":[\"Oct'09-10\"],\"QuestTags\":[\"c#\"],\"YearTagCount\":[6729],\"chart_index\":[{\"PercentageAmongstTop\":18.268943610349414,\"QuestCreationYear\":\"Oct'09-10\",\"QuestTags\":\"c#\",\"YearTagCount\":6729}],\"color\":[\"#E6E6FA\"],\"fill_alpha\":[0.8],\"height\":[18.268943610349414],\"label\":[{\"PercentageAmongstTop\":18.268943610349414,\"QuestCreationYear\":\"Oct'09-10\",\"QuestTags\":\"c#\",\"YearTagCount\":6729}],\"line_alpha\":[1.0],\"line_color\":[\"#20B2AA\"],\"width\":[1.0],\"x\":[\"Oct'09-10\"],\"y\":[24.832351423994787]}},\"id\":\"14752b19-f9b5-4542-9564-098caca47ce8\",\"type\":\"ColumnDataSource\"},{\"attributes\":{\"callback\":null,\"end\":105.00000000000001},\"id\":\"b3d2e45a-ff56-46d0-b505-648d4cf5b23c\",\"type\":\"Range1d\"},{\"attributes\":{\"fill_alpha\":{\"field\":\"fill_alpha\"},\"fill_color\":{\"field\":\"color\"},\"height\":{\"field\":\"height\",\"units\":\"data\"},\"line_color\":{\"field\":\"line_color\"},\"width\":{\"field\":\"width\",\"units\":\"data\"},\"x\":{\"field\":\"x\"},\"y\":{\"field\":\"y\"}},\"id\":\"efb19f1c-46c6-4807-b1bf-07bfaa3ae296\",\"type\":\"Rect\"},{\"attributes\":{\"fill_alpha\":{\"field\":\"fill_alpha\"},\"fill_color\":{\"field\":\"color\"},\"height\":{\"field\":\"height\",\"units\":\"data\"},\"line_color\":{\"field\":\"line_color\"},\"width\":{\"field\":\"width\",\"units\":\"data\"},\"x\":{\"field\":\"x\"},\"y\":{\"field\":\"y\"}},\"id\":\"df54bcf6-4e6e-4523-8b06-1da887c8b67d\",\"type\":\"Rect\"},{\"attributes\":{\"data_source\":{\"id\":\"157f17da-65ac-48e4-a618-a94619199e36\",\"type\":\"ColumnDataSource\"},\"glyph\":{\"id\":\"1a961c02-c5b9-4486-9845-723ab0f85f3a\",\"type\":\"Rect\"},\"hover_glyph\":null,\"nonselection_glyph\":null,\"selection_glyph\":null},\"id\":\"d67a1e99-4ebe-4ada-af25-4743b980eb95\",\"type\":\"GlyphRenderer\"},{\"attributes\":{\"fill_alpha\":{\"field\":\"fill_alpha\"},\"fill_color\":{\"field\":\"color\"},\"height\":{\"field\":\"height\",\"units\":\"data\"},\"line_color\":{\"field\":\"line_color\"},\"width\":{\"field\":\"width\",\"units\":\"data\"},\"x\":{\"field\":\"x\"},\"y\":{\"field\":\"y\"}},\"id\":\"a624f739-f182-4a7c-9608-c33c8b424ec6\",\"type\":\"Rect\"},{\"attributes\":{\"data_source\":{\"id\":\"f959729c-0564-436d-896f-2ff46eb336b8\",\"type\":\"ColumnDataSource\"},\"glyph\":{\"id\":\"691ea85c-fafa-4836-8498-ba419fffa73a\",\"type\":\"Rect\"},\"hover_glyph\":null,\"nonselection_glyph\":null,\"selection_glyph\":null},\"id\":\"e79fbb48-4224-4a8d-bea0-a6e3ccc60e5b\",\"type\":\"GlyphRenderer\"},{\"attributes\":{\"callback\":null,\"column_names\":[\"line_color\",\"line_alpha\",\"color\",\"fill_alpha\",\"height\",\"width\",\"y\",\"x\",\"label\"],\"data\":{\"PercentageAmongstTop\":[9.814927089648792],\"QuestCreationYear\":[\"Oct'15-16\"],\"QuestTags\":[\"python\"],\"YearTagCount\":[15703],\"chart_index\":[{\"PercentageAmongstTop\":9.814927089648792,\"QuestCreationYear\":\"Oct'15-16\",\"QuestTags\":\"python\",\"YearTagCount\":15703}],\"color\":[\"#FFA07A\"],\"fill_alpha\":[0.8],\"height\":[9.814927089648792],\"label\":[{\"PercentageAmongstTop\":9.814927089648792,\"QuestCreationYear\":\"Oct'15-16\",\"QuestTags\":\"python\",\"YearTagCount\":15703}],\"line_alpha\":[1.0],\"line_color\":[\"#40E0D0\"],\"width\":[1.0],\"x\":[\"Oct'15-16\"],\"y\":[95.09253645517559]}},\"id\":\"448feaf7-bc0b-43aa-9738-12c90a95c263\",\"type\":\"ColumnDataSource\"},{\"attributes\":{\"fill_alpha\":{\"field\":\"fill_alpha\"},\"fill_color\":{\"field\":\"color\"},\"height\":{\"field\":\"height\",\"units\":\"data\"},\"line_color\":{\"field\":\"line_color\"},\"width\":{\"field\":\"width\",\"units\":\"data\"},\"x\":{\"field\":\"x\"},\"y\":{\"field\":\"y\"}},\"id\":\"e3003963-8406-4cdb-828a-5d4c7cf02af5\",\"type\":\"Rect\"},{\"attributes\":{\"callback\":null,\"column_names\":[\"line_color\",\"line_alpha\",\"color\",\"fill_alpha\",\"height\",\"width\",\"y\",\"x\",\"label\"],\"data\":{\"PercentageAmongstTop\":[10.998289277633685],\"QuestCreationYear\":[\"Oct'14-15\"],\"QuestTags\":[\"php\"],\"YearTagCount\":[15944],\"chart_index\":[{\"PercentageAmongstTop\":10.998289277633685,\"QuestCreationYear\":\"Oct'14-15\",\"QuestTags\":\"php\",\"YearTagCount\":15944}],\"color\":[\"#20B2AA\"],\"fill_alpha\":[0.8],\"height\":[10.998289277633685],\"label\":[{\"PercentageAmongstTop\":10.998289277633685,\"QuestCreationYear\":\"Oct'14-15\",\"QuestTags\":\"php\",\"YearTagCount\":15944}],\"line_alpha\":[1.0],\"line_color\":[\"#FF6347\"],\"width\":[1.0],\"x\":[\"Oct'14-15\"],\"y\":[85.8982672037967]}},\"id\":\"770f930c-43e2-4ae9-b262-d5db8c268cdd\",\"type\":\"ColumnDataSource\"},{\"attributes\":{\"data_source\":{\"id\":\"a1ed4485-8be0-418e-a78e-daa6e6392aa0\",\"type\":\"ColumnDataSource\"},\"glyph\":{\"id\":\"0bc79916-a273-4c84-913a-c0acc4436a17\",\"type\":\"Rect\"},\"hover_glyph\":null,\"nonselection_glyph\":null,\"selection_glyph\":null},\"id\":\"197d699c-6d37-48c0-8cbd-f7e5ccb48dfe\",\"type\":\"GlyphRenderer\"},{\"attributes\":{},\"id\":\"e3b0610e-de34-480e-b2fb-a882612b8538\",\"type\":\"ToolEvents\"},{\"attributes\":{\"data_source\":{\"id\":\"b84331be-3ef4-43f5-b478-c303a135dfa6\",\"type\":\"ColumnDataSource\"},\"glyph\":{\"id\":\"55448b3a-7c05-4b29-a058-881de1ced6ed\",\"type\":\"Rect\"},\"hover_glyph\":null,\"nonselection_glyph\":null,\"selection_glyph\":null},\"id\":\"798defc7-0eaa-4e5f-a068-3660111b3e0a\",\"type\":\"GlyphRenderer\"},{\"attributes\":{\"callback\":null,\"column_names\":[\"line_color\",\"line_alpha\",\"color\",\"fill_alpha\",\"height\",\"width\",\"y\",\"x\",\"label\"],\"data\":{\"PercentageAmongstTop\":[14.194856795982561],\"QuestCreationYear\":[\"Oct'14-15\"],\"QuestTags\":[\"java\"],\"YearTagCount\":[20578],\"chart_index\":[{\"PercentageAmongstTop\":14.194856795982561,\"QuestCreationYear\":\"Oct'14-15\",\"QuestTags\":\"java\",\"YearTagCount\":20578}],\"color\":[\"#D3D3D3\"],\"fill_alpha\":[0.8],\"height\":[14.194856795982561],\"label\":[{\"PercentageAmongstTop\":14.194856795982561,\"QuestCreationYear\":\"Oct'14-15\",\"QuestTags\":\"java\",\"YearTagCount\":20578}],\"line_alpha\":[1.0],\"line_color\":[\"#20B2AA\"],\"width\":[1.0],\"x\":[\"Oct'14-15\"],\"y\":[48.27617129297501]}},\"id\":\"74e4c585-c6cb-4a44-944f-6afacad70360\",\"type\":\"ColumnDataSource\"},{\"attributes\":{\"callback\":null,\"column_names\":[\"line_color\",\"line_alpha\",\"color\",\"fill_alpha\",\"height\",\"width\",\"y\",\"x\",\"label\"],\"data\":{\"PercentageAmongstTop\":[5.909978679945731],\"QuestCreationYear\":[\"Oct'10-11\"],\"QuestTags\":[\"asp.net\"],\"YearTagCount\":[3964],\"chart_index\":[{\"PercentageAmongstTop\":5.909978679945731,\"QuestCreationYear\":\"Oct'10-11\",\"QuestTags\":\"asp.net\",\"YearTagCount\":3964}],\"color\":[\"#F0E68C\"],\"fill_alpha\":[0.8],\"height\":[5.909978679945731],\"label\":[{\"PercentageAmongstTop\":5.909978679945731,\"QuestCreationYear\":\"Oct'10-11\",\"QuestTags\":\"asp.net\",\"YearTagCount\":3964}],\"line_alpha\":[1.0],\"line_color\":[\"#F0E68C\"],\"width\":[1.0],\"x\":[\"Oct'10-11\"],\"y\":[13.82225336573584]}},\"id\":\"5644d675-6683-4f08-a8c2-a9203a8eb48b\",\"type\":\"ColumnDataSource\"},{\"attributes\":{\"fill_alpha\":{\"field\":\"fill_alpha\"},\"fill_color\":{\"field\":\"color\"},\"height\":{\"field\":\"height\",\"units\":\"data\"},\"line_color\":{\"field\":\"line_color\"},\"width\":{\"field\":\"width\",\"units\":\"data\"},\"x\":{\"field\":\"x\"},\"y\":{\"field\":\"y\"}},\"id\":\"b83e10ef-8d59-4e10-b1c9-85dea1af8b76\",\"type\":\"Rect\"},{\"attributes\":{\"callback\":null,\"column_names\":[\"line_color\",\"line_alpha\",\"color\",\"fill_alpha\",\"height\",\"width\",\"y\",\"x\",\"label\"],\"data\":{\"PercentageAmongstTop\":[11.89821975056764],\"QuestCreationYear\":[\"Oct'12-13\"],\"QuestTags\":[\"php\"],\"YearTagCount\":[14463],\"chart_index\":[{\"PercentageAmongstTop\":11.89821975056764,\"QuestCreationYear\":\"Oct'12-13\",\"QuestTags\":\"php\",\"YearTagCount\":14463}],\"color\":[\"#20B2AA\"],\"fill_alpha\":[0.8],\"height\":[11.89821975056764],\"label\":[{\"PercentageAmongstTop\":11.89821975056764,\"QuestCreationYear\":\"Oct'12-13\",\"QuestTags\":\"php\",\"YearTagCount\":14463}],\"line_alpha\":[1.0],\"line_color\":[\"#20B2AA\"],\"width\":[1.0],\"x\":[\"Oct'12-13\"],\"y\":[87.21371219849289]}},\"id\":\"5e74c1cc-8b1f-40cf-bae0-7928c10ef34c\",\"type\":\"ColumnDataSource\"},{\"attributes\":{\"callback\":null,\"column_names\":[\"line_color\",\"line_alpha\",\"color\",\"fill_alpha\",\"height\",\"width\",\"y\",\"x\",\"label\"],\"data\":{\"PercentageAmongstTop\":[5.811481218993621],\"QuestCreationYear\":[\"Oct'11-12\"],\"QuestTags\":[\"python\"],\"YearTagCount\":[5576],\"chart_index\":[{\"PercentageAmongstTop\":5.811481218993621,\"QuestCreationYear\":\"Oct'11-12\",\"QuestTags\":\"python\",\"YearTagCount\":5576}],\"color\":[\"#FFA07A\"],\"fill_alpha\":[0.8],\"height\":[5.811481218993621],\"label\":[{\"PercentageAmongstTop\":5.811481218993621,\"QuestCreationYear\":\"Oct'11-12\",\"QuestTags\":\"python\",\"YearTagCount\":5576}],\"line_alpha\":[1.0],\"line_color\":[\"#F08080\"],\"width\":[1.0],\"x\":[\"Oct'11-12\"],\"y\":[97.0942593905032]}},\"id\":\"19ac3fbc-0cb9-4716-947b-a038ef8fa8d7\",\"type\":\"ColumnDataSource\"},{\"attributes\":{\"fill_alpha\":{\"field\":\"fill_alpha\"},\"fill_color\":{\"field\":\"color\"},\"height\":{\"field\":\"height\",\"units\":\"data\"},\"line_color\":{\"field\":\"line_color\"},\"width\":{\"field\":\"width\",\"units\":\"data\"},\"x\":{\"field\":\"x\"},\"y\":{\"field\":\"y\"}},\"id\":\"394159cc-c523-4bfb-b8f2-d01c87f0ef88\",\"type\":\"Rect\"},{\"attributes\":{\"data_source\":{\"id\":\"beeb0bd4-967f-4577-972b-1941239ef1df\",\"type\":\"ColumnDataSource\"},\"glyph\":{\"id\":\"6c28a178-7ed7-44f2-bdcb-a3bcb539bd06\",\"type\":\"Rect\"},\"hover_glyph\":null,\"nonselection_glyph\":null,\"selection_glyph\":null},\"id\":\"8fb55936-ab14-46f5-bc8d-9aacb193ea4f\",\"type\":\"GlyphRenderer\"},{\"attributes\":{\"callback\":null,\"column_names\":[\"line_color\",\"line_alpha\",\"color\",\"fill_alpha\",\"height\",\"width\",\"y\",\"x\",\"label\"],\"data\":{\"PercentageAmongstTop\":[11.702646664227345],\"QuestCreationYear\":[\"Oct'13-14\"],\"QuestTags\":[\"php\"],\"YearTagCount\":[17271],\"chart_index\":[{\"PercentageAmongstTop\":11.702646664227345,\"QuestCreationYear\":\"Oct'13-14\",\"QuestTags\":\"php\",\"YearTagCount\":17271}],\"color\":[\"#20B2AA\"],\"fill_alpha\":[0.8],\"height\":[11.702646664227345],\"label\":[{\"PercentageAmongstTop\":11.702646664227345,\"QuestCreationYear\":\"Oct'13-14\",\"QuestTags\":\"php\",\"YearTagCount\":17271}],\"line_alpha\":[1.0],\"line_color\":[\"#D3D3D3\"],\"width\":[1.0],\"x\":[\"Oct'13-14\"],\"y\":[86.74397961811061]}},\"id\":\"4a67b105-dfca-4807-8cea-c5c4abb725ca\",\"type\":\"ColumnDataSource\"},{\"attributes\":{\"fill_alpha\":{\"field\":\"fill_alpha\"},\"fill_color\":{\"field\":\"color\"},\"height\":{\"field\":\"height\",\"units\":\"data\"},\"line_color\":{\"field\":\"line_color\"},\"width\":{\"field\":\"width\",\"units\":\"data\"},\"x\":{\"field\":\"x\"},\"y\":{\"field\":\"y\"}},\"id\":\"07863d26-b322-4ac9-a611-3a74d3309859\",\"type\":\"Rect\"},{\"attributes\":{\"fill_alpha\":{\"field\":\"fill_alpha\"},\"fill_color\":{\"field\":\"color\"},\"height\":{\"field\":\"height\",\"units\":\"data\"},\"line_color\":{\"field\":\"line_color\"},\"width\":{\"field\":\"width\",\"units\":\"data\"},\"x\":{\"field\":\"x\"},\"y\":{\"field\":\"y\"}},\"id\":\"55448b3a-7c05-4b29-a058-881de1ced6ed\",\"type\":\"Rect\"},{\"attributes\":{\"fill_alpha\":{\"field\":\"fill_alpha\"},\"fill_color\":{\"field\":\"color\"},\"height\":{\"field\":\"height\",\"units\":\"data\"},\"line_color\":{\"field\":\"line_color\"},\"width\":{\"field\":\"width\",\"units\":\"data\"},\"x\":{\"field\":\"x\"},\"y\":{\"field\":\"y\"}},\"id\":\"0e3c861b-da5c-4acb-9fe7-6e818d76c504\",\"type\":\"Rect\"},{\"attributes\":{\"data_source\":{\"id\":\"778d4adc-d204-4ab4-b744-d77bf6048f7b\",\"type\":\"ColumnDataSource\"},\"glyph\":{\"id\":\"c2455a30-cb08-4d82-99b0-8cac4a0b626a\",\"type\":\"Rect\"},\"hover_glyph\":null,\"nonselection_glyph\":null,\"selection_glyph\":null},\"id\":\"a2c19518-63ad-4bde-bccc-26cbec23b01e\",\"type\":\"GlyphRenderer\"},{\"attributes\":{\"fill_alpha\":{\"field\":\"fill_alpha\"},\"fill_color\":{\"field\":\"color\"},\"height\":{\"field\":\"height\",\"units\":\"data\"},\"line_color\":{\"field\":\"line_color\"},\"width\":{\"field\":\"width\",\"units\":\"data\"},\"x\":{\"field\":\"x\"},\"y\":{\"field\":\"y\"}},\"id\":\"daedfd53-2563-41c5-855a-c4cbf5c9d553\",\"type\":\"Rect\"},{\"attributes\":{\"fill_alpha\":{\"field\":\"fill_alpha\"},\"fill_color\":{\"field\":\"color\"},\"height\":{\"field\":\"height\",\"units\":\"data\"},\"line_color\":{\"field\":\"line_color\"},\"width\":{\"field\":\"width\",\"units\":\"data\"},\"x\":{\"field\":\"x\"},\"y\":{\"field\":\"y\"}},\"id\":\"3cb36fb8-3865-48f6-845a-d50d4386f74a\",\"type\":\"Rect\"},{\"attributes\":{\"data_source\":{\"id\":\"448feaf7-bc0b-43aa-9738-12c90a95c263\",\"type\":\"ColumnDataSource\"},\"glyph\":{\"id\":\"efb19f1c-46c6-4807-b1bf-07bfaa3ae296\",\"type\":\"Rect\"},\"hover_glyph\":null,\"nonselection_glyph\":null,\"selection_glyph\":null},\"id\":\"1b6f2819-37f7-489e-b3c4-59ccffb7db3a\",\"type\":\"GlyphRenderer\"},{\"attributes\":{\"data_source\":{\"id\":\"5c2ecaff-3ed2-423c-adcc-d100606298ea\",\"type\":\"ColumnDataSource\"},\"glyph\":{\"id\":\"98bc342a-5c88-4188-baab-a5c5072f2217\",\"type\":\"Rect\"},\"hover_glyph\":null,\"nonselection_glyph\":null,\"selection_glyph\":null},\"id\":\"ba791583-3c31-4a0d-a143-bce866c62d7b\",\"type\":\"GlyphRenderer\"},{\"attributes\":{\"callback\":null,\"column_names\":[\"line_color\",\"line_alpha\",\"color\",\"fill_alpha\",\"height\",\"width\",\"y\",\"x\",\"label\"],\"data\":{\"PercentageAmongstTop\":[11.787538049015257],\"QuestCreationYear\":[\"Oct'15-16\"],\"QuestTags\":[\"android\"],\"YearTagCount\":[18859],\"chart_index\":[{\"PercentageAmongstTop\":11.787538049015257,\"QuestCreationYear\":\"Oct'15-16\",\"QuestTags\":\"android\",\"YearTagCount\":18859}],\"color\":[\"#FF6347\"],\"fill_alpha\":[0.8],\"height\":[11.787538049015257],\"label\":[{\"PercentageAmongstTop\":11.787538049015257,\"QuestCreationYear\":\"Oct'15-16\",\"QuestTags\":\"android\",\"YearTagCount\":18859}],\"line_alpha\":[1.0],\"line_color\":[\"#FFB6C1\"],\"width\":[1.0],\"x\":[\"Oct'15-16\"],\"y\":[5.893769024507629]}},\"id\":\"b84331be-3ef4-43f5-b478-c303a135dfa6\",\"type\":\"ColumnDataSource\"},{\"attributes\":{\"fill_alpha\":{\"field\":\"fill_alpha\"},\"fill_color\":{\"field\":\"color\"},\"height\":{\"field\":\"height\",\"units\":\"data\"},\"line_color\":{\"field\":\"line_color\"},\"width\":{\"field\":\"width\",\"units\":\"data\"},\"x\":{\"field\":\"x\"},\"y\":{\"field\":\"y\"}},\"id\":\"e54498ed-6be5-445c-bfbb-2902ea970d45\",\"type\":\"Rect\"},{\"attributes\":{\"callback\":null,\"column_names\":[\"line_color\",\"line_alpha\",\"color\",\"fill_alpha\",\"height\",\"width\",\"y\",\"x\",\"label\"],\"data\":{\"PercentageAmongstTop\":[8.596379890734507],\"QuestCreationYear\":[\"Oct'14-15\"],\"QuestTags\":[\"jquery\"],\"YearTagCount\":[12462],\"chart_index\":[{\"PercentageAmongstTop\":8.596379890734507,\"QuestCreationYear\":\"Oct'14-15\",\"QuestTags\":\"jquery\",\"YearTagCount\":12462}],\"color\":[\"#87CEFA\"],\"fill_alpha\":[0.8],\"height\":[8.596379890734507],\"label\":[{\"PercentageAmongstTop\":8.596379890734507,\"QuestCreationYear\":\"Oct'14-15\",\"QuestTags\":\"jquery\",\"YearTagCount\":12462}],\"line_alpha\":[1.0],\"line_color\":[\"#90EE90\"],\"width\":[1.0],\"x\":[\"Oct'14-15\"],\"y\":[76.1009326196126]}},\"id\":\"157f17da-65ac-48e4-a618-a94619199e36\",\"type\":\"ColumnDataSource\"},{\"attributes\":{\"fill_alpha\":{\"field\":\"fill_alpha\"},\"fill_color\":{\"field\":\"color\"},\"height\":{\"field\":\"height\",\"units\":\"data\"},\"line_color\":{\"field\":\"line_color\"},\"width\":{\"field\":\"width\",\"units\":\"data\"},\"x\":{\"field\":\"x\"},\"y\":{\"field\":\"y\"}},\"id\":\"07194568-6c4d-42cb-a270-765612887221\",\"type\":\"Rect\"},{\"attributes\":{\"fill_alpha\":{\"field\":\"fill_alpha\"},\"fill_color\":{\"field\":\"color\"},\"height\":{\"field\":\"height\",\"units\":\"data\"},\"line_color\":{\"field\":\"line_color\"},\"width\":{\"field\":\"width\",\"units\":\"data\"},\"x\":{\"field\":\"x\"},\"y\":{\"field\":\"y\"}},\"id\":\"985e3513-38dc-42b3-9717-a14cd96eff83\",\"type\":\"Rect\"},{\"attributes\":{\"data_source\":{\"id\":\"c76f0652-82e1-48fb-be77-fc7c64c726d4\",\"type\":\"ColumnDataSource\"},\"glyph\":{\"id\":\"7e4148b7-d9b6-48fe-ba93-8a69b53d46ea\",\"type\":\"Rect\"},\"hover_glyph\":null,\"nonselection_glyph\":null,\"selection_glyph\":null},\"id\":\"56948edc-0d30-4e85-ab9c-39cb4f7df964\",\"type\":\"GlyphRenderer\"},{\"attributes\":{\"callback\":null,\"column_names\":[\"line_color\",\"line_alpha\",\"color\",\"fill_alpha\",\"height\",\"width\",\"y\",\"x\",\"label\"],\"data\":{\"PercentageAmongstTop\":[11.811017144361447],\"QuestCreationYear\":[\"Oct'12-13\"],\"QuestTags\":[\"android\"],\"YearTagCount\":[14357],\"chart_index\":[{\"PercentageAmongstTop\":11.811017144361447,\"QuestCreationYear\":\"Oct'12-13\",\"QuestTags\":\"android\",\"YearTagCount\":14357}],\"color\":[\"#FF6347\"],\"fill_alpha\":[0.8],\"height\":[11.811017144361447],\"label\":[{\"PercentageAmongstTop\":11.811017144361447,\"QuestCreationYear\":\"Oct'12-13\",\"QuestTags\":\"android\",\"YearTagCount\":14357}],\"line_alpha\":[1.0],\"line_color\":[\"#87CEFA\"],\"width\":[1.0],\"x\":[\"Oct'12-13\"],\"y\":[5.9055085721807234]}},\"id\":\"7688f674-28de-4980-b585-bb848a9fe0b6\",\"type\":\"ColumnDataSource\"},{\"attributes\":{\"callback\":null,\"column_names\":[\"line_color\",\"line_alpha\",\"color\",\"fill_alpha\",\"height\",\"width\",\"y\",\"x\",\"label\"],\"data\":{\"PercentageAmongstTop\":[11.01484465537222],\"QuestCreationYear\":[\"Oct'14-15\"],\"QuestTags\":[\"android\"],\"YearTagCount\":[15968],\"chart_index\":[{\"PercentageAmongstTop\":11.01484465537222,\"QuestCreationYear\":\"Oct'14-15\",\"QuestTags\":\"android\",\"YearTagCount\":15968}],\"color\":[\"#FF6347\"],\"fill_alpha\":[0.8],\"height\":[11.01484465537222],\"label\":[{\"PercentageAmongstTop\":11.01484465537222,\"QuestCreationYear\":\"Oct'14-15\",\"QuestTags\":\"android\",\"YearTagCount\":15968}],\"line_alpha\":[1.0],\"line_color\":[\"#F0E68C\"],\"width\":[1.0],\"x\":[\"Oct'14-15\"],\"y\":[5.50742232768611]}},\"id\":\"5c2ecaff-3ed2-423c-adcc-d100606298ea\",\"type\":\"ColumnDataSource\"},{\"attributes\":{\"data_source\":{\"id\":\"80860484-5ec9-4908-9b0a-ac8c9a6d7dd2\",\"type\":\"ColumnDataSource\"},\"glyph\":{\"id\":\"2d63df2c-6ce2-487d-9b68-d00a1b38ce6d\",\"type\":\"Rect\"},\"hover_glyph\":null,\"nonselection_glyph\":null,\"selection_glyph\":null},\"id\":\"6f60f08b-f929-474a-ab21-30be7d4f708a\",\"type\":\"GlyphRenderer\"},{\"attributes\":{\"callback\":null,\"column_names\":[\"line_color\",\"line_alpha\",\"color\",\"fill_alpha\",\"height\",\"width\",\"y\",\"x\",\"label\"],\"data\":{\"PercentageAmongstTop\":[7.847807499694638],\"QuestCreationYear\":[\"Oct'08-09\"],\"QuestTags\":[\"c++\"],\"YearTagCount\":[1285],\"chart_index\":[{\"PercentageAmongstTop\":7.847807499694638,\"QuestCreationYear\":\"Oct'08-09\",\"QuestTags\":\"c++\",\"YearTagCount\":1285}],\"color\":[\"#FFF0F5\"],\"fill_alpha\":[0.8],\"height\":[7.847807499694638],\"label\":[{\"PercentageAmongstTop\":7.847807499694638,\"QuestCreationYear\":\"Oct'08-09\",\"QuestTags\":\"c++\",\"YearTagCount\":1285}],\"line_alpha\":[1.0],\"line_color\":[\"#E6E6FA\"],\"width\":[1.0],\"x\":[\"Oct'08-09\"],\"y\":[49.1541468181263]}},\"id\":\"0b0e040e-787a-4811-b5f1-3dabc3e2ad6a\",\"type\":\"ColumnDataSource\"},{\"attributes\":{\"data_source\":{\"id\":\"c6db4061-a03d-40bb-8059-cb8e60448507\",\"type\":\"ColumnDataSource\"},\"glyph\":{\"id\":\"fedbb847-f547-44dd-b6d5-772a66e694b2\",\"type\":\"Rect\"},\"hover_glyph\":null,\"nonselection_glyph\":null,\"selection_glyph\":null},\"id\":\"2aa0a464-bfac-4e75-a312-d5d41343435b\",\"type\":\"GlyphRenderer\"},{\"attributes\":{\"fill_alpha\":{\"field\":\"fill_alpha\"},\"fill_color\":{\"field\":\"color\"},\"height\":{\"field\":\"height\",\"units\":\"data\"},\"line_color\":{\"field\":\"line_color\"},\"width\":{\"field\":\"width\",\"units\":\"data\"},\"x\":{\"field\":\"x\"},\"y\":{\"field\":\"y\"}},\"id\":\"6b00d624-ae3a-40f9-a0c9-14c475c710de\",\"type\":\"Rect\"},{\"attributes\":{\"data_source\":{\"id\":\"4308e6d2-b138-4b28-b12a-8bf90e5e97eb\",\"type\":\"ColumnDataSource\"},\"glyph\":{\"id\":\"daedfd53-2563-41c5-855a-c4cbf5c9d553\",\"type\":\"Rect\"},\"hover_glyph\":null,\"nonselection_glyph\":null,\"selection_glyph\":null},\"id\":\"f324a978-9f7a-41a2-b6cf-85ebca61f7cb\",\"type\":\"GlyphRenderer\"},{\"attributes\":{\"fill_alpha\":{\"field\":\"fill_alpha\"},\"fill_color\":{\"field\":\"color\"},\"height\":{\"field\":\"height\",\"units\":\"data\"},\"line_color\":{\"field\":\"line_color\"},\"width\":{\"field\":\"width\",\"units\":\"data\"},\"x\":{\"field\":\"x\"},\"y\":{\"field\":\"y\"}},\"id\":\"6c28a178-7ed7-44f2-bdcb-a3bcb539bd06\",\"type\":\"Rect\"},{\"attributes\":{\"callback\":null,\"column_names\":[\"line_color\",\"line_alpha\",\"color\",\"fill_alpha\",\"height\",\"width\",\"y\",\"x\",\"label\"],\"data\":{\"PercentageAmongstTop\":[12.316134127480339],\"QuestCreationYear\":[\"Oct'12-13\"],\"QuestTags\":[\"c#\"],\"YearTagCount\":[14971],\"chart_index\":[{\"PercentageAmongstTop\":12.316134127480339,\"QuestCreationYear\":\"Oct'12-13\",\"QuestTags\":\"c#\",\"YearTagCount\":14971}],\"color\":[\"#E6E6FA\"],\"fill_alpha\":[0.8],\"height\":[12.316134127480339],\"label\":[{\"PercentageAmongstTop\":12.316134127480339,\"QuestCreationYear\":\"Oct'12-13\",\"QuestTags\":\"c#\",\"YearTagCount\":14971}],\"line_alpha\":[1.0],\"line_color\":[\"#9370DB\"],\"width\":[1.0],\"x\":[\"Oct'12-13\"],\"y\":[17.969084208101616]}},\"id\":\"87565bbb-1e7c-45be-9856-ea5e4a46ebee\",\"type\":\"ColumnDataSource\"},{\"attributes\":{\"fill_alpha\":{\"field\":\"fill_alpha\"},\"fill_color\":{\"field\":\"color\"},\"height\":{\"field\":\"height\",\"units\":\"data\"},\"line_color\":{\"field\":\"line_color\"},\"width\":{\"field\":\"width\",\"units\":\"data\"},\"x\":{\"field\":\"x\"},\"y\":{\"field\":\"y\"}},\"id\":\"c99f9d14-5d1e-45fc-84ca-0b3b0a84a849\",\"type\":\"Rect\"},{\"attributes\":{\"fill_alpha\":{\"field\":\"fill_alpha\"},\"fill_color\":{\"field\":\"color\"},\"height\":{\"field\":\"height\",\"units\":\"data\"},\"line_color\":{\"field\":\"line_color\"},\"width\":{\"field\":\"width\",\"units\":\"data\"},\"x\":{\"field\":\"x\"},\"y\":{\"field\":\"y\"}},\"id\":\"1e511f42-f569-4e09-b620-a76e77adc8af\",\"type\":\"Rect\"},{\"attributes\":{\"callback\":null,\"column_names\":[\"line_color\",\"line_alpha\",\"color\",\"fill_alpha\",\"height\",\"width\",\"y\",\"x\",\"label\"],\"data\":{\"PercentageAmongstTop\":[11.273970929522413],\"QuestCreationYear\":[\"Oct'08-09\"],\"QuestTags\":[\"java\"],\"YearTagCount\":[1846],\"chart_index\":[{\"PercentageAmongstTop\":11.273970929522413,\"QuestCreationYear\":\"Oct'08-09\",\"QuestTags\":\"java\",\"YearTagCount\":1846}],\"color\":[\"#D3D3D3\"],\"fill_alpha\":[0.8],\"height\":[11.273970929522413],\"label\":[{\"PercentageAmongstTop\":11.273970929522413,\"QuestCreationYear\":\"Oct'08-09\",\"QuestTags\":\"java\",\"YearTagCount\":1846}],\"line_alpha\":[1.0],\"line_color\":[\"#F08080\"],\"width\":[1.0],\"x\":[\"Oct'08-09\"],\"y\":[64.74899230487358]}},\"id\":\"a9ecb136-c735-4e73-884a-4d66070ac2b9\",\"type\":\"ColumnDataSource\"},{\"attributes\":{\"data_source\":{\"id\":\"72e82d0c-08b9-4b3c-b2e9-f943c9c6ffe2\",\"type\":\"ColumnDataSource\"},\"glyph\":{\"id\":\"5b6a6428-7373-40de-9843-96eb27c7739e\",\"type\":\"Rect\"},\"hover_glyph\":null,\"nonselection_glyph\":null,\"selection_glyph\":null},\"id\":\"091a7e3c-26e2-4349-8f4e-74763379994c\",\"type\":\"GlyphRenderer\"},{\"attributes\":{\"callback\":null,\"column_names\":[\"line_color\",\"line_alpha\",\"color\",\"fill_alpha\",\"height\",\"width\",\"y\",\"x\",\"label\"],\"data\":{\"PercentageAmongstTop\":[9.437189476827845],\"QuestCreationYear\":[\"Oct'09-10\"],\"QuestTags\":[\"jquery\"],\"YearTagCount\":[3476],\"chart_index\":[{\"PercentageAmongstTop\":9.437189476827845,\"QuestCreationYear\":\"Oct'09-10\",\"QuestTags\":\"jquery\",\"YearTagCount\":3476}],\"color\":[\"#87CEFA\"],\"fill_alpha\":[0.8],\"height\":[9.437189476827845],\"label\":[{\"PercentageAmongstTop\":9.437189476827845,\"QuestCreationYear\":\"Oct'09-10\",\"QuestTags\":\"jquery\",\"YearTagCount\":3476}],\"line_alpha\":[1.0],\"line_color\":[\"#9370DB\"],\"width\":[1.0],\"x\":[\"Oct'09-10\"],\"y\":[76.98259712757581]}},\"id\":\"38923b65-767f-474d-9cb8-2c21f6fa17b4\",\"type\":\"ColumnDataSource\"},{\"attributes\":{\"dimension\":1,\"plot\":{\"id\":\"86233a77-196c-43c3-b211-a1df62b8d125\",\"subtype\":\"Chart\",\"type\":\"Plot\"},\"ticker\":{\"id\":\"64340f51-6a11-47ea-bc1f-e378f0427ff5\",\"type\":\"BasicTicker\"}},\"id\":\"b428ccc5-1e59-46c6-9082-14e6dbcf0049\",\"type\":\"Grid\"},{\"attributes\":{\"data_source\":{\"id\":\"14752b19-f9b5-4542-9564-098caca47ce8\",\"type\":\"ColumnDataSource\"},\"glyph\":{\"id\":\"a624f739-f182-4a7c-9608-c33c8b424ec6\",\"type\":\"Rect\"},\"hover_glyph\":null,\"nonselection_glyph\":null,\"selection_glyph\":null},\"id\":\"6c0d1143-e336-40f4-839a-ad2c9b8b112d\",\"type\":\"GlyphRenderer\"},{\"attributes\":{\"data_source\":{\"id\":\"1eee45b0-1e62-4093-9837-29aee3b68a58\",\"type\":\"ColumnDataSource\"},\"glyph\":{\"id\":\"e3003963-8406-4cdb-828a-5d4c7cf02af5\",\"type\":\"Rect\"},\"hover_glyph\":null,\"nonselection_glyph\":null,\"selection_glyph\":null},\"id\":\"2ddb85e7-0526-4792-be87-102bb6ee4305\",\"type\":\"GlyphRenderer\"},{\"attributes\":{\"data_source\":{\"id\":\"1198cc4c-a2bf-4b8c-b5bd-d2fa11842c1a\",\"type\":\"ColumnDataSource\"},\"glyph\":{\"id\":\"2ed9bddc-6992-4ab5-9b68-bd5736ed7c04\",\"type\":\"Rect\"},\"hover_glyph\":null,\"nonselection_glyph\":null,\"selection_glyph\":null},\"id\":\"623a97b0-ff5e-4b90-b09e-0edc8c722e85\",\"type\":\"GlyphRenderer\"},{\"attributes\":{\"callback\":null,\"column_names\":[\"line_color\",\"line_alpha\",\"color\",\"fill_alpha\",\"height\",\"width\",\"y\",\"x\",\"label\"],\"data\":{\"PercentageAmongstTop\":[9.875188031060699],\"QuestCreationYear\":[\"Oct'13-14\"],\"QuestTags\":[\"jquery\"],\"YearTagCount\":[14574],\"chart_index\":[{\"PercentageAmongstTop\":9.875188031060699,\"QuestCreationYear\":\"Oct'13-14\",\"QuestTags\":\"jquery\",\"YearTagCount\":14574}],\"color\":[\"#87CEFA\"],\"fill_alpha\":[0.8],\"height\":[9.875188031060699],\"label\":[{\"PercentageAmongstTop\":9.875188031060699,\"QuestCreationYear\":\"Oct'13-14\",\"QuestTags\":\"jquery\",\"YearTagCount\":14574}],\"line_alpha\":[1.0],\"line_color\":[\"#FFA07A\"],\"width\":[1.0],\"x\":[\"Oct'13-14\"],\"y\":[75.95506227046658]}},\"id\":\"fec3b618-bff7-4bc3-b8e1-8c97e19d7fa6\",\"type\":\"ColumnDataSource\"},{\"attributes\":{\"data_source\":{\"id\":\"b0a6e7a5-4523-4331-9e66-ef1e85f2a4a9\",\"type\":\"ColumnDataSource\"},\"glyph\":{\"id\":\"3118dd9a-c4c9-4264-81ae-2c80ecddc366\",\"type\":\"Rect\"},\"hover_glyph\":null,\"nonselection_glyph\":null,\"selection_glyph\":null},\"id\":\"039c7c20-0dd7-468e-a6a2-51a5090d3747\",\"type\":\"GlyphRenderer\"},{\"attributes\":{\"data_source\":{\"id\":\"323290f1-d267-49be-8faf-d0e300e0916c\",\"type\":\"ColumnDataSource\"},\"glyph\":{\"id\":\"bd66204b-7bfa-4b41-be8a-f38584c52c6f\",\"type\":\"Rect\"},\"hover_glyph\":null,\"nonselection_glyph\":null,\"selection_glyph\":null},\"id\":\"9fbac470-1efa-46ea-a8ee-c930b9cc319b\",\"type\":\"GlyphRenderer\"},{\"attributes\":{\"fill_alpha\":{\"field\":\"fill_alpha\"},\"fill_color\":{\"field\":\"color\"},\"height\":{\"field\":\"height\",\"units\":\"data\"},\"line_color\":{\"field\":\"line_color\"},\"width\":{\"field\":\"width\",\"units\":\"data\"},\"x\":{\"field\":\"x\"},\"y\":{\"field\":\"y\"}},\"id\":\"0b2887eb-4fbc-4cfb-92d3-20c5fa0c6de1\",\"type\":\"Rect\"},{\"attributes\":{\"callback\":null,\"column_names\":[\"line_color\",\"line_alpha\",\"color\",\"fill_alpha\",\"height\",\"width\",\"y\",\"x\",\"label\"],\"data\":{\"PercentageAmongstTop\":[11.708138893444456],\"QuestCreationYear\":[\"Oct'10-11\"],\"QuestTags\":[\"javascript\"],\"YearTagCount\":[7853],\"chart_index\":[{\"PercentageAmongstTop\":11.708138893444456,\"QuestCreationYear\":\"Oct'10-11\",\"QuestTags\":\"javascript\",\"YearTagCount\":7853}],\"color\":[\"#FFB6C1\"],\"fill_alpha\":[0.8],\"height\":[11.708138893444456],\"label\":[{\"PercentageAmongstTop\":11.708138893444456,\"QuestCreationYear\":\"Oct'10-11\",\"QuestTags\":\"javascript\",\"YearTagCount\":7853}],\"line_alpha\":[1.0],\"line_color\":[\"#4B0082\"],\"width\":[1.0],\"x\":[\"Oct'10-11\"],\"y\":[64.87931060188153]}},\"id\":\"aa717643-55be-4417-b9ab-806a26435e53\",\"type\":\"ColumnDataSource\"},{\"attributes\":{\"callback\":null,\"column_names\":[\"line_color\",\"line_alpha\",\"color\",\"fill_alpha\",\"height\",\"width\",\"y\",\"x\",\"label\"],\"data\":{\"PercentageAmongstTop\":[6.7549113165948205],\"QuestCreationYear\":[\"Oct'12-13\"],\"QuestTags\":[\"html\"],\"YearTagCount\":[8211],\"chart_index\":[{\"PercentageAmongstTop\":6.7549113165948205,\"QuestCreationYear\":\"Oct'12-13\",\"QuestTags\":\"html\",\"YearTagCount\":8211}],\"color\":[\"#ADD8E6\"],\"fill_alpha\":[0.8],\"height\":[6.7549113165948205],\"label\":[{\"PercentageAmongstTop\":6.7549113165948205,\"QuestCreationYear\":\"Oct'12-13\",\"QuestTags\":\"html\",\"YearTagCount\":8211}],\"line_alpha\":[1.0],\"line_color\":[\"#F0E68C\"],\"width\":[1.0],\"x\":[\"Oct'12-13\"],\"y\":[33.370216196650105]}},\"id\":\"62c9cf63-3156-4b98-96b0-5b5eb19c74b8\",\"type\":\"ColumnDataSource\"},{\"attributes\":{\"data_source\":{\"id\":\"4a67b105-dfca-4807-8cea-c5c4abb725ca\",\"type\":\"ColumnDataSource\"},\"glyph\":{\"id\":\"68e4a14b-0664-4a1b-8f31-25f233cfb901\",\"type\":\"Rect\"},\"hover_glyph\":null,\"nonselection_glyph\":null,\"selection_glyph\":null},\"id\":\"12672404-2c48-4a58-b2ac-83cbb30902d4\",\"type\":\"GlyphRenderer\"},{\"attributes\":{\"data_source\":{\"id\":\"a755edf5-5033-40e7-902c-14d511bb86e5\",\"type\":\"ColumnDataSource\"},\"glyph\":{\"id\":\"67f0851c-9ae9-4207-8558-675363fcde2b\",\"type\":\"Rect\"},\"hover_glyph\":null,\"nonselection_glyph\":null,\"selection_glyph\":null},\"id\":\"25cdf257-2878-45df-84ea-4c47db24c7df\",\"type\":\"GlyphRenderer\"},{\"attributes\":{\"callback\":null,\"column_names\":[\"line_color\",\"line_alpha\",\"color\",\"fill_alpha\",\"height\",\"width\",\"y\",\"x\",\"label\"],\"data\":{\"PercentageAmongstTop\":[9.94868461350951],\"QuestCreationYear\":[\"Oct'15-16\"],\"QuestTags\":[\"c#\"],\"YearTagCount\":[15917],\"chart_index\":[{\"PercentageAmongstTop\":9.94868461350951,\"QuestCreationYear\":\"Oct'15-16\",\"QuestTags\":\"c#\",\"YearTagCount\":15917}],\"color\":[\"#E6E6FA\"],\"fill_alpha\":[0.8],\"height\":[9.94868461350951],\"label\":[{\"PercentageAmongstTop\":9.94868461350951,\"QuestCreationYear\":\"Oct'15-16\",\"QuestTags\":\"c#\",\"YearTagCount\":15917}],\"line_alpha\":[1.0],\"line_color\":[\"#4B0082\"],\"width\":[1.0],\"x\":[\"Oct'15-16\"],\"y\":[16.76188035577001]}},\"id\":\"89421d8a-8f22-43ec-b573-c9df6ed2093c\",\"type\":\"ColumnDataSource\"},{\"attributes\":{\"callback\":null,\"column_names\":[\"line_color\",\"line_alpha\",\"color\",\"fill_alpha\",\"height\",\"width\",\"y\",\"x\",\"label\"],\"data\":{\"PercentageAmongstTop\":[10.867264025762974],\"QuestCreationYear\":[\"Oct'10-11\"],\"QuestTags\":[\"android\"],\"YearTagCount\":[7289],\"chart_index\":[{\"PercentageAmongstTop\":10.867264025762974,\"QuestCreationYear\":\"Oct'10-11\",\"QuestTags\":\"android\",\"YearTagCount\":7289}],\"color\":[\"#FF6347\"],\"fill_alpha\":[0.8],\"height\":[10.867264025762974],\"label\":[{\"PercentageAmongstTop\":10.867264025762974,\"QuestCreationYear\":\"Oct'10-11\",\"QuestTags\":\"android\",\"YearTagCount\":7289}],\"line_alpha\":[1.0],\"line_color\":[\"#9370DB\"],\"width\":[1.0],\"x\":[\"Oct'10-11\"],\"y\":[5.433632012881487]}},\"id\":\"6ed8ebb2-b0e8-4d90-b672-6fb4e588288d\",\"type\":\"ColumnDataSource\"},{\"attributes\":{\"data_source\":{\"id\":\"e52acd81-a457-4d7e-89ba-64f99d116ac9\",\"type\":\"ColumnDataSource\"},\"glyph\":{\"id\":\"b83e10ef-8d59-4e10-b1c9-85dea1af8b76\",\"type\":\"Rect\"},\"hover_glyph\":null,\"nonselection_glyph\":null,\"selection_glyph\":null},\"id\":\"8330447f-672d-4499-96c4-058b408216d0\",\"type\":\"GlyphRenderer\"},{\"attributes\":{\"fill_alpha\":{\"field\":\"fill_alpha\"},\"fill_color\":{\"field\":\"color\"},\"height\":{\"field\":\"height\",\"units\":\"data\"},\"line_color\":{\"field\":\"line_color\"},\"width\":{\"field\":\"width\",\"units\":\"data\"},\"x\":{\"field\":\"x\"},\"y\":{\"field\":\"y\"}},\"id\":\"67f0851c-9ae9-4207-8558-675363fcde2b\",\"type\":\"Rect\"},{\"attributes\":{\"callback\":null,\"column_names\":[\"line_color\",\"line_alpha\",\"color\",\"fill_alpha\",\"height\",\"width\",\"y\",\"x\",\"label\"],\"data\":{\"PercentageAmongstTop\":[7.764472159373103],\"QuestCreationYear\":[\"Oct'14-15\"],\"QuestTags\":[\"html\"],\"YearTagCount\":[11256],\"chart_index\":[{\"PercentageAmongstTop\":7.764472159373103,\"QuestCreationYear\":\"Oct'14-15\",\"QuestTags\":\"html\",\"YearTagCount\":11256}],\"color\":[\"#ADD8E6\"],\"fill_alpha\":[0.8],\"height\":[7.764472159373103],\"label\":[{\"PercentageAmongstTop\":7.764472159373103,\"QuestCreationYear\":\"Oct'14-15\",\"QuestTags\":\"html\",\"YearTagCount\":11256}],\"line_alpha\":[1.0],\"line_color\":[\"#9370DB\"],\"width\":[1.0],\"x\":[\"Oct'14-15\"],\"y\":[30.670906682854145]}},\"id\":\"c5363356-fcbe-45ba-8da3-6e8e211822eb\",\"type\":\"ColumnDataSource\"},{\"attributes\":{\"callback\":null,\"plot\":{\"id\":\"86233a77-196c-43c3-b211-a1df62b8d125\",\"subtype\":\"Chart\",\"type\":\"Plot\"},\"tooltips\":[[\"Tag\",\"@QuestTags\"],[\"Yearly Tag Count\",\"@YearTagCount\"],[\"Percentage of Tag Used\",\"@PercentageAmongstTop{1.11}%\"]]},\"id\":\"26a254ba-7684-4b20-8c29-1f6b20aa3cfd\",\"type\":\"HoverTool\"},{\"attributes\":{\"data_source\":{\"id\":\"2be96ddd-cd9b-4e30-85ab-31206c1bd04c\",\"type\":\"ColumnDataSource\"},\"glyph\":{\"id\":\"7024fa99-f2e9-43be-b728-adffd830fe88\",\"type\":\"Rect\"},\"hover_glyph\":null,\"nonselection_glyph\":null,\"selection_glyph\":null},\"id\":\"37dd1efa-bb9a-4685-b0ba-cb10b0cb3498\",\"type\":\"GlyphRenderer\"},{\"attributes\":{\"callback\":null,\"column_names\":[\"line_color\",\"line_alpha\",\"color\",\"fill_alpha\",\"height\",\"width\",\"y\",\"x\",\"label\"],\"data\":{\"PercentageAmongstTop\":[10.44338585562477],\"QuestCreationYear\":[\"Oct'08-09\"],\"QuestTags\":[\"asp.net\"],\"YearTagCount\":[1710],\"chart_index\":[{\"PercentageAmongstTop\":10.44338585562477,\"QuestCreationYear\":\"Oct'08-09\",\"QuestTags\":\"asp.net\",\"YearTagCount\":1710}],\"color\":[\"#F0E68C\"],\"fill_alpha\":[0.8],\"height\":[10.44338585562477],\"label\":[{\"PercentageAmongstTop\":10.44338585562477,\"QuestCreationYear\":\"Oct'08-09\",\"QuestTags\":\"asp.net\",\"YearTagCount\":1710}],\"line_alpha\":[1.0],\"line_color\":[\"#ADD8E6\"],\"width\":[1.0],\"x\":[\"Oct'08-09\"],\"y\":[17.521680713326003]}},\"id\":\"a022fee4-aec0-40db-a095-5a8774b2ff13\",\"type\":\"ColumnDataSource\"},{\"attributes\":{\"data_source\":{\"id\":\"874fbdc5-f11a-4ee9-836e-776c6c108757\",\"type\":\"ColumnDataSource\"},\"glyph\":{\"id\":\"053acae5-acf9-4226-9f7c-e951e02ba4fc\",\"type\":\"Rect\"},\"hover_glyph\":null,\"nonselection_glyph\":null,\"selection_glyph\":null},\"id\":\"a15f6d16-b5f3-41d3-b7c7-a669001e8ef6\",\"type\":\"GlyphRenderer\"},{\"attributes\":{\"callback\":null,\"column_names\":[\"line_color\",\"line_alpha\",\"color\",\"fill_alpha\",\"height\",\"width\",\"y\",\"x\",\"label\"],\"data\":{\"PercentageAmongstTop\":[7.404697049775718],\"QuestCreationYear\":[\"Oct'13-14\"],\"QuestTags\":[\"python\"],\"YearTagCount\":[10928],\"chart_index\":[{\"PercentageAmongstTop\":7.404697049775718,\"QuestCreationYear\":\"Oct'13-14\",\"QuestTags\":\"python\",\"YearTagCount\":10928}],\"color\":[\"#FFA07A\"],\"fill_alpha\":[0.8],\"height\":[7.404697049775718],\"label\":[{\"PercentageAmongstTop\":7.404697049775718,\"QuestCreationYear\":\"Oct'13-14\",\"QuestTags\":\"python\",\"YearTagCount\":10928}],\"line_alpha\":[1.0],\"line_color\":[\"#778899\"],\"width\":[1.0],\"x\":[\"Oct'13-14\"],\"y\":[96.29765147511213]}},\"id\":\"e317030f-e181-4d9b-ac5b-7ddda61db03d\",\"type\":\"ColumnDataSource\"},{\"attributes\":{\"fill_alpha\":{\"field\":\"fill_alpha\"},\"fill_color\":{\"field\":\"color\"},\"height\":{\"field\":\"height\",\"units\":\"data\"},\"line_color\":{\"field\":\"line_color\"},\"width\":{\"field\":\"width\",\"units\":\"data\"},\"x\":{\"field\":\"x\"},\"y\":{\"field\":\"y\"}},\"id\":\"7caf5b6e-34c8-4977-832d-28027edd12fc\",\"type\":\"Rect\"},{\"attributes\":{\"data_source\":{\"id\":\"7e4dd330-377d-4423-b2bb-128f4e21bd6e\",\"type\":\"ColumnDataSource\"},\"glyph\":{\"id\":\"ab80f54a-ce8d-4ed8-b612-c2d973c56d53\",\"type\":\"Rect\"},\"hover_glyph\":null,\"nonselection_glyph\":null,\"selection_glyph\":null},\"id\":\"191d6655-9e53-4a03-8337-5e00e8337d2f\",\"type\":\"GlyphRenderer\"},{\"attributes\":{\"data_source\":{\"id\":\"73bde19b-9456-4dc8-9a5c-3dca41c76ab8\",\"type\":\"ColumnDataSource\"},\"glyph\":{\"id\":\"e54498ed-6be5-445c-bfbb-2902ea970d45\",\"type\":\"Rect\"},\"hover_glyph\":null,\"nonselection_glyph\":null,\"selection_glyph\":null},\"id\":\"f5199622-b78f-4b8f-846b-fab1f08371bc\",\"type\":\"GlyphRenderer\"},{\"attributes\":{\"fill_alpha\":{\"field\":\"fill_alpha\"},\"fill_color\":{\"field\":\"color\"},\"height\":{\"field\":\"height\",\"units\":\"data\"},\"line_color\":{\"field\":\"line_color\"},\"width\":{\"field\":\"width\",\"units\":\"data\"},\"x\":{\"field\":\"x\"},\"y\":{\"field\":\"y\"}},\"id\":\"8c3e59af-803a-40dc-9b61-c8890a7dec78\",\"type\":\"Rect\"},{\"attributes\":{\"fill_alpha\":{\"field\":\"fill_alpha\"},\"fill_color\":{\"field\":\"color\"},\"height\":{\"field\":\"height\",\"units\":\"data\"},\"line_color\":{\"field\":\"line_color\"},\"width\":{\"field\":\"width\",\"units\":\"data\"},\"x\":{\"field\":\"x\"},\"y\":{\"field\":\"y\"}},\"id\":\"85c5ccf5-af23-479c-9aa9-bc5a50864c9c\",\"type\":\"Rect\"},{\"attributes\":{\"data_source\":{\"id\":\"3990757b-8351-4c16-bb01-6f4cc12b1182\",\"type\":\"ColumnDataSource\"},\"glyph\":{\"id\":\"69761d52-e4c5-441e-af7a-9ca4cc7459cd\",\"type\":\"Rect\"},\"hover_glyph\":null,\"nonselection_glyph\":null,\"selection_glyph\":null},\"id\":\"a36fc04e-8d41-4efd-9b38-87038b643224\",\"type\":\"GlyphRenderer\"},{\"attributes\":{\"callback\":null,\"column_names\":[\"line_color\",\"line_alpha\",\"color\",\"fill_alpha\",\"height\",\"width\",\"y\",\"x\",\"label\"],\"data\":{\"PercentageAmongstTop\":[13.51461208154417],\"QuestCreationYear\":[\"Oct'11-12\"],\"QuestTags\":[\"java\"],\"YearTagCount\":[12967],\"chart_index\":[{\"PercentageAmongstTop\":13.51461208154417,\"QuestCreationYear\":\"Oct'11-12\",\"QuestTags\":\"java\",\"YearTagCount\":12967}],\"color\":[\"#D3D3D3\"],\"fill_alpha\":[0.8],\"height\":[13.51461208154417],\"label\":[{\"PercentageAmongstTop\":13.51461208154417,\"QuestCreationYear\":\"Oct'11-12\",\"QuestTags\":\"java\",\"YearTagCount\":12967}],\"line_alpha\":[1.0],\"line_color\":[\"#D3D3D3\"],\"width\":[1.0],\"x\":[\"Oct'11-12\"],\"y\":[51.11675073998416]}},\"id\":\"81161ca6-ac3f-4843-84a9-6fc4a5bbaeed\",\"type\":\"ColumnDataSource\"},{\"attributes\":{},\"id\":\"196503c8-66c2-4fb9-a709-5be0aacf1458\",\"type\":\"BasicTickFormatter\"},{\"attributes\":{\"fill_alpha\":{\"field\":\"fill_alpha\"},\"fill_color\":{\"field\":\"color\"},\"height\":{\"field\":\"height\",\"units\":\"data\"},\"line_color\":{\"field\":\"line_color\"},\"width\":{\"field\":\"width\",\"units\":\"data\"},\"x\":{\"field\":\"x\"},\"y\":{\"field\":\"y\"}},\"id\":\"1cd9e3df-0f28-4aec-ae99-d873bb14aaef\",\"type\":\"Rect\"},{\"attributes\":{\"callback\":null,\"column_names\":[\"line_color\",\"line_alpha\",\"color\",\"fill_alpha\",\"height\",\"width\",\"y\",\"x\",\"label\"],\"data\":{\"PercentageAmongstTop\":[12.741341523414787],\"QuestCreationYear\":[\"Oct'10-11\"],\"QuestTags\":[\"php\"],\"YearTagCount\":[8546],\"chart_index\":[{\"PercentageAmongstTop\":12.741341523414787,\"QuestCreationYear\":\"Oct'10-11\",\"QuestTags\":\"php\",\"YearTagCount\":8546}],\"color\":[\"#20B2AA\"],\"fill_alpha\":[0.8],\"height\":[12.741341523414787],\"label\":[{\"PercentageAmongstTop\":12.741341523414787,\"QuestCreationYear\":\"Oct'10-11\",\"QuestTags\":\"php\",\"YearTagCount\":8546}],\"line_alpha\":[1.0],\"line_color\":[\"#ADD8E6\"],\"width\":[1.0],\"x\":[\"Oct'10-11\"],\"y\":[87.78047798667122]}},\"id\":\"80860484-5ec9-4908-9b0a-ac8c9a6d7dd2\",\"type\":\"ColumnDataSource\"},{\"attributes\":{\"callback\":null,\"column_names\":[\"line_color\",\"line_alpha\",\"color\",\"fill_alpha\",\"height\",\"width\",\"y\",\"x\",\"label\"],\"data\":{\"PercentageAmongstTop\":[7.903238943338854],\"QuestCreationYear\":[\"Oct'09-10\"],\"QuestTags\":[\".net\"],\"YearTagCount\":[2911],\"chart_index\":[{\"PercentageAmongstTop\":7.903238943338854,\"QuestCreationYear\":\"Oct'09-10\",\"QuestTags\":\".net\",\"YearTagCount\":2911}],\"color\":[\"#4B0082\"],\"fill_alpha\":[0.8],\"height\":[7.903238943338854],\"label\":[{\"PercentageAmongstTop\":7.903238943338854,\"QuestCreationYear\":\"Oct'09-10\",\"QuestTags\":\".net\",\"YearTagCount\":2911}],\"line_alpha\":[1.0],\"line_color\":[\"#FFA07A\"],\"width\":[1.0],\"x\":[\"Oct'09-10\"],\"y\":[3.951619471669427]}},\"id\":\"9565fefa-afd7-4015-8edc-50a26672e1df\",\"type\":\"ColumnDataSource\"},{\"attributes\":{\"fill_alpha\":{\"field\":\"fill_alpha\"},\"fill_color\":{\"field\":\"color\"},\"height\":{\"field\":\"height\",\"units\":\"data\"},\"line_color\":{\"field\":\"line_color\"},\"width\":{\"field\":\"width\",\"units\":\"data\"},\"x\":{\"field\":\"x\"},\"y\":{\"field\":\"y\"}},\"id\":\"ebc96533-5383-4ad9-9f9d-abebfe2f14cc\",\"type\":\"Rect\"},{\"attributes\":{\"fill_alpha\":{\"field\":\"fill_alpha\"},\"fill_color\":{\"field\":\"color\"},\"height\":{\"field\":\"height\",\"units\":\"data\"},\"line_color\":{\"field\":\"line_color\"},\"width\":{\"field\":\"width\",\"units\":\"data\"},\"x\":{\"field\":\"x\"},\"y\":{\"field\":\"y\"}},\"id\":\"ab80f54a-ce8d-4ed8-b612-c2d973c56d53\",\"type\":\"Rect\"},{\"attributes\":{\"data_source\":{\"id\":\"7688f674-28de-4980-b585-bb848a9fe0b6\",\"type\":\"ColumnDataSource\"},\"glyph\":{\"id\":\"3e11ccff-c301-4f8b-b10d-8e8cc1af0727\",\"type\":\"Rect\"},\"hover_glyph\":null,\"nonselection_glyph\":null,\"selection_glyph\":null},\"id\":\"f53e6262-a5eb-4962-be85-1ab65dc60a3b\",\"type\":\"GlyphRenderer\"},{\"attributes\":{\"callback\":null,\"column_names\":[\"line_color\",\"line_alpha\",\"color\",\"fill_alpha\",\"height\",\"width\",\"y\",\"x\",\"label\"],\"data\":{\"PercentageAmongstTop\":[6.625600132443022],\"QuestCreationYear\":[\"Oct'14-15\"],\"QuestTags\":[\"ios\"],\"YearTagCount\":[9605],\"chart_index\":[{\"PercentageAmongstTop\":6.625600132443022,\"QuestCreationYear\":\"Oct'14-15\",\"QuestTags\":\"ios\",\"YearTagCount\":9605}],\"color\":[\"#F08080\"],\"fill_alpha\":[0.8],\"height\":[6.625600132443022],\"label\":[{\"PercentageAmongstTop\":6.625600132443022,\"QuestCreationYear\":\"Oct'14-15\",\"QuestTags\":\"ios\",\"YearTagCount\":9605}],\"line_alpha\":[1.0],\"line_color\":[\"#FFB6C1\"],\"width\":[1.0],\"x\":[\"Oct'14-15\"],\"y\":[37.865942828762215]}},\"id\":\"1198cc4c-a2bf-4b8c-b5bd-d2fa11842c1a\",\"type\":\"ColumnDataSource\"},{\"attributes\":{\"fill_alpha\":{\"field\":\"fill_alpha\"},\"fill_color\":{\"field\":\"color\"},\"height\":{\"field\":\"height\",\"units\":\"data\"},\"line_color\":{\"field\":\"line_color\"},\"width\":{\"field\":\"width\",\"units\":\"data\"},\"x\":{\"field\":\"x\"},\"y\":{\"field\":\"y\"}},\"id\":\"555a9de6-159b-411e-b31d-5bd8c9b218a6\",\"type\":\"Rect\"},{\"attributes\":{\"callback\":null,\"column_names\":[\"line_color\",\"line_alpha\",\"color\",\"fill_alpha\",\"height\",\"width\",\"y\",\"x\",\"label\"],\"data\":{\"PercentageAmongstTop\":[13.51640396195992],\"QuestCreationYear\":[\"Oct'12-13\"],\"QuestTags\":[\"java\"],\"YearTagCount\":[16430],\"chart_index\":[{\"PercentageAmongstTop\":13.51640396195992,\"QuestCreationYear\":\"Oct'12-13\",\"QuestTags\":\"java\",\"YearTagCount\":16430}],\"color\":[\"#D3D3D3\"],\"fill_alpha\":[0.8],\"height\":[13.51640396195992],\"label\":[{\"PercentageAmongstTop\":13.51640396195992,\"QuestCreationYear\":\"Oct'12-13\",\"QuestTags\":\"java\",\"YearTagCount\":16430}],\"line_alpha\":[1.0],\"line_color\":[\"#90EE90\"],\"width\":[1.0],\"x\":[\"Oct'12-13\"],\"y\":[49.68656421731548]}},\"id\":\"ea209845-878d-4081-af85-a84dafede6d5\",\"type\":\"ColumnDataSource\"}],\"root_ids\":[\"86233a77-196c-43c3-b211-a1df62b8d125\"]},\"title\":\"Bokeh Application\",\"version\":\"0.12.0\"}};\n",
       "            var render_items = [{\"docid\":\"39b556d5-01de-4005-97b2-aece730207c3\",\"elementid\":\"b122593f-e814-4390-8c7f-a065146acc47\",\"modelid\":\"86233a77-196c-43c3-b211-a1df62b8d125\",\"notebook_comms_target\":\"91c0d519-d5e1-40ad-8f0f-fe38e7c74e42\"}];\n",
       "            \n",
       "            Bokeh.embed.embed_items(docs_json, render_items);\n",
       "        });\n",
       "      },\n",
       "      function(Bokeh) {\n",
       "      }\n",
       "    ];\n",
       "  \n",
       "    function run_inline_js() {\n",
       "      for (var i = 0; i < inline_js.length; i++) {\n",
       "        inline_js[i](window.Bokeh);\n",
       "      }\n",
       "    }\n",
       "  \n",
       "    if (window._bokeh_is_loading === 0) {\n",
       "      console.log(\"Bokeh: BokehJS loaded, going straight to plotting\");\n",
       "      run_inline_js();\n",
       "    } else {\n",
       "      load_libs(js_urls, function() {\n",
       "        console.log(\"Bokeh: BokehJS plotting callback run at\", now());\n",
       "        run_inline_js();\n",
       "      });\n",
       "    }\n",
       "  }(this));\n",
       "</script>"
      ]
     },
     "metadata": {},
     "output_type": "display_data"
    },
    {
     "data": {
      "text/html": [
       "<p><code>&lt;Bokeh Notebook handle for <strong>In[40]</strong>&gt;</code></p>"
      ],
      "text/plain": [
       "<bokeh.io._CommsHandle at 0x12671ffd0>"
      ]
     },
     "execution_count": 40,
     "metadata": {},
     "output_type": "execute_result"
    }
   ],
   "source": [
    "from bokeh.charts import Bar, show, output_notebook\n",
    "from bokeh.models import HoverTool\n",
    "\n",
    "output_notebook()\n",
    "\n",
    "palette = ['#4B0082','#FF6347','#F0E68C','#E6E6FA','#FFF0F5','#90EE90','#ADD8E6','#F08080','#D3D3D3','#FFB6C1','#87CEFA','#20B2AA','#FFA07A','#778899','#9370DB','#40E0D0']\n",
    "\n",
    "bar = Bar(topYearQuestTag, values='PercentageAmongstTop', label='QuestCreationYear', stack='QuestTags',\n",
    "          title='Top 10 Tags Used Throughout the Years', legend=False, \n",
    "              bar_width=1.0, palette=palette, tools='hover', line_color=['YearTagCount', 'PercentageAmongstTop'])\n",
    "\n",
    "hover = bar.select(dict(type=HoverTool))\n",
    "hover.tooltips = [('Tag','@QuestTags'), ('Yearly Tag Count','@YearTagCount'), \n",
    "                      ('Percentage of Tag Used','@PercentageAmongstTop{1.11}%')]\n",
    "\n",
    "bar.xaxis.axis_label = 'Year in which Question was Created'\n",
    "bar.yaxis.axis_label = 'Percentage of Top Tags Used in Questions Yearly (%)'\n",
    "\n",
    "show(bar)"
   ]
  },
  {
   "cell_type": "code",
   "execution_count": 41,
   "metadata": {
    "collapsed": false,
    "scrolled": true
   },
   "outputs": [
    {
     "data": {
      "text/plain": [
       "QuestCreationYear  QuestTags         \n",
       "Oct'08-09          c#                    3682\n",
       "                   .net                  2014\n",
       "                   java                  1846\n",
       "                   asp.net               1710\n",
       "                   php                   1468\n",
       "                   javascript            1382\n",
       "                   c++                   1285\n",
       "                   python                1023\n",
       "                   iphone                 988\n",
       "                   jquery                 976\n",
       "                   sql                    957\n",
       "                   sql-server             781\n",
       "                   html                   713\n",
       "                   mysql                  664\n",
       "                   asp.net-mvc            609\n",
       "                   wpf                    513\n",
       "                   c                      505\n",
       "                   css                    487\n",
       "                   ruby-on-rails          486\n",
       "                   objective-c            468\n",
       "                   windows                462\n",
       "                   xml                    447\n",
       "                   ruby                   421\n",
       "                   vb.net                 421\n",
       "                   winforms               418\n",
       "                   visual-studio          414\n",
       "                   database               393\n",
       "                   regex                  359\n",
       "                   visual-studio-2008     327\n",
       "                   linux                  313\n",
       "                                         ... \n",
       "Oct'15-16          zend-studio              1\n",
       "                   zend-translate           1\n",
       "                   zend-validate            1\n",
       "                   zendesk-api              1\n",
       "                   zentyal                  1\n",
       "                   zephir                   1\n",
       "                   zerigo                   1\n",
       "                   zero-width-space         1\n",
       "                   zf3                      1\n",
       "                   zimlet                   1\n",
       "                   zinc                     1\n",
       "                   zinnia                   1\n",
       "                   zipalign                 1\n",
       "                   zipcode                  1\n",
       "                   zipmap                   1\n",
       "                   zipper                   1\n",
       "                   zomato-api               1\n",
       "                   zombie.js                1\n",
       "                   zombiejs                 1\n",
       "                   zone                     1\n",
       "                   zoneddatetime            1\n",
       "                   zoneminder               1\n",
       "                   zones                    1\n",
       "                   zpanel                   1\n",
       "                   ztree                    1\n",
       "                   zts                      1\n",
       "                   zumero                   1\n",
       "                   zurb-ink                 1\n",
       "                   zurb-joyride             1\n",
       "                   zurb-reveal              1\n",
       "Name: QuestTags, dtype: int64"
      ]
     },
     "execution_count": 41,
     "metadata": {},
     "output_type": "execute_result"
    }
   ],
   "source": [
    "stackQuestionsTags.groupby('QuestCreationYear').QuestTags.value_counts()"
   ]
  },
  {
   "cell_type": "code",
   "execution_count": 42,
   "metadata": {
    "collapsed": false
   },
   "outputs": [
    {
     "data": {
      "text/plain": [
       "javascript                 116962\n",
       "java                       106687\n",
       "c#                          95458\n",
       "php                         91138\n",
       "android                     86828\n",
       "jquery                      75081\n",
       "python                      60313\n",
       "html                        55087\n",
       "ios                         44862\n",
       "c++                         43545\n",
       "mysql                       39764\n",
       "css                         39763\n",
       "sql                         33897\n",
       "asp.net                     28794\n",
       "objective-c                 25682\n",
       "ruby-on-rails               25184\n",
       ".net                        22639\n",
       "c                           20935\n",
       "iphone                      20605\n",
       "angularjs                   19827\n",
       "arrays                      18123\n",
       "sql-server                  17233\n",
       "json                        16808\n",
       "ruby                        16280\n",
       "ajax                        15002\n",
       "r                           14604\n",
       "regex                       14248\n",
       "xml                         14160\n",
       "node.js                     13976\n",
       "asp.net-mvc                 13784\n",
       "                            ...  \n",
       "django-recaptcha                1\n",
       "metric-fu                       1\n",
       "free-variable                   1\n",
       "trustpilot                      1\n",
       "communicator                    1\n",
       "shippable-ci                    1\n",
       "xsocket                         1\n",
       "disambiguation                  1\n",
       "red-gate-sql-prompt             1\n",
       "shared-directory                1\n",
       "drive-mapping                   1\n",
       "power-state                     1\n",
       "wpackagist                      1\n",
       "netmodules                      1\n",
       "service-management              1\n",
       "phassetslibrary                 1\n",
       "andromda                        1\n",
       "zoomooz                         1\n",
       "mercuryjs                       1\n",
       "mongodb-roles                   1\n",
       "snomed-ct                       1\n",
       "gaul                            1\n",
       "mailslot                        1\n",
       "facebook-call-to-action         1\n",
       "scales-xml                      1\n",
       "sprache                         1\n",
       "guid-partition-table            1\n",
       "oomph                           1\n",
       "azure-sql-server                1\n",
       "koneki                          1\n",
       "Name: QuestTags, dtype: int64"
      ]
     },
     "execution_count": 42,
     "metadata": {},
     "output_type": "execute_result"
    }
   ],
   "source": [
    "stackQuestionsTags.QuestTags.value_counts() #java most tagged"
   ]
  },
  {
   "cell_type": "code",
   "execution_count": 43,
   "metadata": {
    "collapsed": true
   },
   "outputs": [],
   "source": [
    "#top 15 tags used\n",
    "topQuestTags = stackQuestionsTags.QuestTags.value_counts()[0:15]"
   ]
  },
  {
   "cell_type": "code",
   "execution_count": 44,
   "metadata": {
    "collapsed": false
   },
   "outputs": [],
   "source": [
    "topQuestTags = topQuestTags.reset_index()\n",
    "topQuestTags = topQuestTags.rename(columns= {'index':'QuestTags', 'QuestTags':'Count'})"
   ]
  },
  {
   "cell_type": "markdown",
   "metadata": {},
   "source": [
    "# Graph Plot 3: Frequency of Top 15 Tags Used (in Total for All the Years)"
   ]
  },
  {
   "cell_type": "code",
   "execution_count": 45,
   "metadata": {
    "collapsed": false
   },
   "outputs": [
    {
     "data": {
      "image/png": "[encoded data removed]",
      "text/plain": [
       "<matplotlib.figure.Figure at 0x11799a890>"
      ]
     },
     "metadata": {},
     "output_type": "display_data"
    }
   ],
   "source": [
    "%matplotlib inline\n",
    "import matplotlib.pyplot as plt\n",
    "plt.figure(figsize=(12,7))\n",
    "ax2 = sns.stripplot(x=\"QuestTags\", y=\"Count\", data=topQuestTags)"
   ]
  },
  {
   "cell_type": "code",
   "execution_count": 46,
   "metadata": {
    "collapsed": false
   },
   "outputs": [],
   "source": [
    "# questTags = stackQuestionsTags[['QuestionId', 'QuestTags']].groupby('QuestionId').QuestTags.apply(list)"
   ]
  },
  {
   "cell_type": "code",
   "execution_count": 47,
   "metadata": {
    "collapsed": false
   },
   "outputs": [],
   "source": [
    "# %store questTags"
   ]
  },
  {
   "cell_type": "code",
   "execution_count": 48,
   "metadata": {
    "collapsed": true
   },
   "outputs": [],
   "source": [
    "%store -r questTags"
   ]
  },
  {
   "cell_type": "code",
   "execution_count": 49,
   "metadata": {
    "collapsed": false
   },
   "outputs": [
    {
     "data": {
      "text/plain": [
       "3"
      ]
     },
     "execution_count": 49,
     "metadata": {},
     "output_type": "execute_result"
    }
   ],
   "source": [
    "questTags = questTags.reset_index()\n",
    "len(questTags.QuestTags[1])"
   ]
  },
  {
   "cell_type": "code",
   "execution_count": 50,
   "metadata": {
    "collapsed": false
   },
   "outputs": [
    {
     "data": {
      "text/html": [
       "<div>\n",
       "<table border=\"1\" class=\"dataframe\">\n",
       "  <thead>\n",
       "    <tr style=\"text-align: right;\">\n",
       "      <th></th>\n",
       "      <th>QuestionId</th>\n",
       "      <th>QuestTags</th>\n",
       "    </tr>\n",
       "  </thead>\n",
       "  <tbody>\n",
       "    <tr>\n",
       "      <th>0</th>\n",
       "      <td>203340</td>\n",
       "      <td>[jquery]</td>\n",
       "    </tr>\n",
       "    <tr>\n",
       "      <th>1</th>\n",
       "      <td>203520</td>\n",
       "      <td>[.net, winforms, data-binding]</td>\n",
       "    </tr>\n",
       "    <tr>\n",
       "      <th>2</th>\n",
       "      <td>203590</td>\n",
       "      <td>[visual-studio, include]</td>\n",
       "    </tr>\n",
       "    <tr>\n",
       "      <th>3</th>\n",
       "      <td>203620</td>\n",
       "      <td>[layout, internationalization]</td>\n",
       "    </tr>\n",
       "    <tr>\n",
       "      <th>4</th>\n",
       "      <td>203640</td>\n",
       "      <td>[xslt]</td>\n",
       "    </tr>\n",
       "  </tbody>\n",
       "</table>\n",
       "</div>"
      ],
      "text/plain": [
       "   QuestionId                       QuestTags\n",
       "0      203340                        [jquery]\n",
       "1      203520  [.net, winforms, data-binding]\n",
       "2      203590        [visual-studio, include]\n",
       "3      203620  [layout, internationalization]\n",
       "4      203640                          [xslt]"
      ]
     },
     "execution_count": 50,
     "metadata": {},
     "output_type": "execute_result"
    }
   ],
   "source": [
    "questTags.head()"
   ]
  },
  {
   "cell_type": "markdown",
   "metadata": {},
   "source": [
    "# Association Rules Between Question Tags + Network Visualisation (for Stackoverflow 10% Sample)"
   ]
  },
  {
   "cell_type": "code",
   "execution_count": 51,
   "metadata": {
    "collapsed": false
   },
   "outputs": [],
   "source": [
    "import pyfpgrowth as fp"
   ]
  },
  {
   "cell_type": "code",
   "execution_count": 52,
   "metadata": {
    "collapsed": false
   },
   "outputs": [],
   "source": [
    "questTagList = list(questTags.QuestTags)"
   ]
  },
  {
   "cell_type": "code",
   "execution_count": 53,
   "metadata": {
    "collapsed": false
   },
   "outputs": [],
   "source": [
    "#have 2 or more question tags in a question\n",
    "#filter out only 1 itemset situation\n",
    "#questTagList2 = [tag for tag in questTagList if len(tag)>1]"
   ]
  },
  {
   "cell_type": "code",
   "execution_count": null,
   "metadata": {
    "collapsed": false
   },
   "outputs": [],
   "source": [
    "#%store questTagList2"
   ]
  },
  {
   "cell_type": "code",
   "execution_count": null,
   "metadata": {
    "collapsed": true
   },
   "outputs": [],
   "source": [
    "%store -r questTagList2"
   ]
  },
  {
   "cell_type": "code",
   "execution_count": null,
   "metadata": {
    "collapsed": true
   },
   "outputs": [],
   "source": [
    "#put support threshold as 1000\n",
    "patterns = fp.find_frequent_patterns(questTagList2, 1000)"
   ]
  },
  {
   "cell_type": "code",
   "execution_count": null,
   "metadata": {
    "collapsed": false
   },
   "outputs": [],
   "source": [
    "# %store patterns"
   ]
  },
  {
   "cell_type": "code",
   "execution_count": null,
   "metadata": {
    "collapsed": false
   },
   "outputs": [],
   "source": [
    "%store -r patterns"
   ]
  },
  {
   "cell_type": "code",
   "execution_count": null,
   "metadata": {
    "collapsed": false
   },
   "outputs": [],
   "source": [
    "rules = fp.generate_association_rules(patterns, 0.5)"
   ]
  },
  {
   "cell_type": "code",
   "execution_count": null,
   "metadata": {
    "collapsed": false
   },
   "outputs": [],
   "source": [
    "rules"
   ]
  },
  {
   "cell_type": "code",
   "execution_count": null,
   "metadata": {
    "collapsed": false,
    "scrolled": true
   },
   "outputs": [],
   "source": [
    "rules.keys() #dict cant be sorted"
   ]
  },
  {
   "cell_type": "code",
   "execution_count": null,
   "metadata": {
    "collapsed": false
   },
   "outputs": [],
   "source": [
    "rules.values()"
   ]
  },
  {
   "cell_type": "code",
   "execution_count": null,
   "metadata": {
    "collapsed": false
   },
   "outputs": [],
   "source": [
    "stackSampleTags.QuestTags.nunique()"
   ]
  },
  {
   "cell_type": "code",
   "execution_count": null,
   "metadata": {
    "collapsed": false
   },
   "outputs": [],
   "source": [
    "tag_count = stackSampleTags.QuestTags.value_counts()"
   ]
  },
  {
   "cell_type": "code",
   "execution_count": null,
   "metadata": {
    "collapsed": false
   },
   "outputs": [],
   "source": [
    "tag_count"
   ]
  },
  {
   "cell_type": "code",
   "execution_count": null,
   "metadata": {
    "collapsed": false
   },
   "outputs": [],
   "source": [
    "toptags = tag_count[tag_count >= 10000]"
   ]
  },
  {
   "cell_type": "code",
   "execution_count": null,
   "metadata": {
    "collapsed": false
   },
   "outputs": [],
   "source": [
    "test = list(rules.items())"
   ]
  },
  {
   "cell_type": "code",
   "execution_count": null,
   "metadata": {
    "collapsed": false
   },
   "outputs": [],
   "source": [
    "#RHS of edges all only contain one element\n",
    "# tags_list = list()\n",
    "# for key,value in test:\n",
    "#     if len(key) > 1:\n",
    "#         tags_list.append([key, value[0][0], value[1]])\n",
    "#     else:\n",
    "#         tags_list.append([key[0], value[0][0], value[1]])\n",
    "        \n",
    "tags_list = list()\n",
    "for key,value in test:\n",
    "    if len(key) > 1:\n",
    "        for ele in key:\n",
    "            tags_list.append([ele, value[0][0], value[1]])\n",
    "    else:\n",
    "        tags_list.append([key[0], value[0][0], value[1]])"
   ]
  },
  {
   "cell_type": "code",
   "execution_count": null,
   "metadata": {
    "collapsed": false
   },
   "outputs": [],
   "source": [
    "toptags"
   ]
  },
  {
   "cell_type": "code",
   "execution_count": null,
   "metadata": {
    "collapsed": false
   },
   "outputs": [],
   "source": [
    "len(tags_list)"
   ]
  },
  {
   "cell_type": "code",
   "execution_count": null,
   "metadata": {
    "collapsed": false
   },
   "outputs": [],
   "source": [
    "tuple(list(filter(lambda x: \"sql\" in x, tags_list)))"
   ]
  },
  {
   "cell_type": "code",
   "execution_count": null,
   "metadata": {
    "collapsed": true
   },
   "outputs": [],
   "source": [
    "import networkx as nx\n",
    "DG = nx.DiGraph()"
   ]
  },
  {
   "cell_type": "code",
   "execution_count": null,
   "metadata": {
    "collapsed": false
   },
   "outputs": [],
   "source": [
    "items = list()\n",
    "for l in tags_list:\n",
    "    for ele in l[:-1]:\n",
    "        if ele not in items:\n",
    "            items.append(ele)\n",
    "DG.add_nodes_from(items)"
   ]
  },
  {
   "cell_type": "code",
   "execution_count": null,
   "metadata": {
    "collapsed": false
   },
   "outputs": [],
   "source": [
    "print(DG.number_of_nodes())\n",
    "print(DG.nodes())"
   ]
  },
  {
   "cell_type": "code",
   "execution_count": null,
   "metadata": {
    "collapsed": false
   },
   "outputs": [],
   "source": [
    "DG.add_weighted_edges_from(tags_list)"
   ]
  },
  {
   "cell_type": "code",
   "execution_count": null,
   "metadata": {
    "collapsed": false
   },
   "outputs": [],
   "source": [
    "print(DG.number_of_edges())\n",
    "print(DG.edges())"
   ]
  },
  {
   "cell_type": "code",
   "execution_count": null,
   "metadata": {
    "collapsed": false
   },
   "outputs": [],
   "source": [
    "nx.write_gexf(DG, \"stack test.gexf\")"
   ]
  },
  {
   "cell_type": "code",
   "execution_count": null,
   "metadata": {
    "collapsed": false
   },
   "outputs": [],
   "source": [
    "tagCount = stackQuestionsTags.groupby('QuestionId').QuestTags.size().reset_index()\n",
    "tagCount = tagCount.rename(columns={0:'TagCount'})"
   ]
  },
  {
   "cell_type": "code",
   "execution_count": null,
   "metadata": {
    "collapsed": false
   },
   "outputs": [],
   "source": [
    "yearQuestTag.YearTagCount.describe()"
   ]
  },
  {
   "cell_type": "code",
   "execution_count": null,
   "metadata": {
    "collapsed": false
   },
   "outputs": [],
   "source": [
    "#remove noises by only including tags which were used in questions throughout a year within the 75% range\n",
    "yearQuestTag = yearQuestTag.loc[yearQuestTag.YearTagCount >= 8, :]"
   ]
  },
  {
   "cell_type": "code",
   "execution_count": null,
   "metadata": {
    "collapsed": true
   },
   "outputs": [],
   "source": [
    "sumQuestTag = pd.DataFrame(yearQuestTag.groupby('QuestCreationYear').YearTagCount.sum()).reset_index()\n",
    "sumQuestTag = sumQuestTag.rename(columns={'YearTagCount':'SumYearTagCount'})"
   ]
  },
  {
   "cell_type": "code",
   "execution_count": null,
   "metadata": {
    "collapsed": true
   },
   "outputs": [],
   "source": [
    "yearQuestTag = pd.merge(yearQuestTag, sumQuestTag, on='QuestCreationYear')"
   ]
  },
  {
   "cell_type": "code",
   "execution_count": null,
   "metadata": {
    "collapsed": false
   },
   "outputs": [],
   "source": [
    "yearQuestTag['Proportion'] = yearQuestTag['YearTagCount'] / yearQuestTag['SumYearTagCount']"
   ]
  },
  {
   "cell_type": "code",
   "execution_count": null,
   "metadata": {
    "collapsed": false
   },
   "outputs": [],
   "source": [
    "yearQuestTag"
   ]
  },
  {
   "cell_type": "code",
   "execution_count": null,
   "metadata": {
    "collapsed": false
   },
   "outputs": [],
   "source": [
    "%matplotlib inline\n",
    "from bokeh.charts import Bar, show, output_notebook\n",
    "from bokeh.models import HoverTool\n",
    "output_notebook()\n",
    "\n",
    "def plot_percentage_change(df, creationyear1, creationyear2):\n",
    "    newdf = df[(df.QuestCreationYear == creationyear1) | (df.QuestCreationYear == creationyear2)]\n",
    "    newdf = newdf.copy()\n",
    "    newdf['pct_ch'] = newdf.sort_values(['QuestTags','QuestCreationYear']).Proportion.pct_change()\n",
    "    newdf = newdf.sort_values(['QuestTags','QuestCreationYear']).groupby('QuestTags').nth(1).reset_index()\n",
    "    bar = Bar(newdf.sort_values('pct_ch',ascending=False).head(30), values='pct_ch', label='QuestTags', \n",
    "              title=\"Percentage Increase of Tags Used from \" + creationyear1 + \" to \" + creationyear2, legend=False, \n",
    "                  bar_width=1.0)\n",
    "    bar.xaxis.axis_label = 'Question Tags'\n",
    "    bar.yaxis.axis_label = 'Percentage Increase (%)'\n",
    "    show(bar)"
   ]
  },
  {
   "cell_type": "markdown",
   "metadata": {},
   "source": [
    "# Graph Plot 5: Percentage Increase of Tags Used Based on Year"
   ]
  },
  {
   "cell_type": "code",
   "execution_count": null,
   "metadata": {
    "collapsed": false
   },
   "outputs": [],
   "source": [
    "plot_percentage_change(yearQuestTag, \"Oct'08-09\", \"Oct'15-16\")"
   ]
  },
  {
   "cell_type": "markdown",
   "metadata": {},
   "source": [
    "# Below are done for Python Questions and Tags"
   ]
  },
  {
   "cell_type": "code",
   "execution_count": null,
   "metadata": {
    "collapsed": false
   },
   "outputs": [],
   "source": [
    "import pandas as pd\n",
    "#pythonquestions = pd.read_csv(pyQ_path, encoding='latin1')"
   ]
  },
  {
   "cell_type": "code",
   "execution_count": null,
   "metadata": {
    "collapsed": false
   },
   "outputs": [],
   "source": [
    "#pythonquestions.head()"
   ]
  },
  {
   "cell_type": "code",
   "execution_count": null,
   "metadata": {
    "collapsed": false
   },
   "outputs": [],
   "source": [
    "# del pythonquestions[\"Unnamed: 0\"]\n",
    "# del pythonquestions[\"Title\"]\n",
    "# del pythonquestions[\"Score\"]\n",
    "# del pythonquestions[\"Body\"]\n",
    "# pythonquestions.rename(columns={'Id':'QuestionId', 'Tags':'QuestTags'}, inplace=True)"
   ]
  },
  {
   "cell_type": "code",
   "execution_count": null,
   "metadata": {
    "collapsed": false
   },
   "outputs": [],
   "source": [
    "#%store pythonquestions"
   ]
  },
  {
   "cell_type": "code",
   "execution_count": null,
   "metadata": {
    "collapsed": false
   },
   "outputs": [],
   "source": [
    "%store -r pythonquestions\n",
    "pythonquestions.head()"
   ]
  },
  {
   "cell_type": "code",
   "execution_count": null,
   "metadata": {
    "collapsed": false
   },
   "outputs": [],
   "source": [
    "pythonquestions[\"CreationDate\"] = pd.to_datetime(pythonquestions[\"CreationDate\"])"
   ]
  },
  {
   "cell_type": "code",
   "execution_count": null,
   "metadata": {
    "collapsed": true
   },
   "outputs": [],
   "source": [
    "from datetime import datetime"
   ]
  },
  {
   "cell_type": "code",
   "execution_count": null,
   "metadata": {
    "collapsed": true
   },
   "outputs": [],
   "source": [
    "mask4 = (pythonquestions['CreationDate'] >= datetime.strptime('2008-10-15', '%Y-%m-%d')) & (pythonquestions['CreationDate'] <= datetime.strptime('2016-10-12', '%Y-%m-%d'))"
   ]
  },
  {
   "cell_type": "code",
   "execution_count": null,
   "metadata": {
    "collapsed": false
   },
   "outputs": [],
   "source": [
    "pythonquestions = pythonquestions.loc[mask4, :]\n",
    "pythonquestions.head()"
   ]
  },
  {
   "cell_type": "code",
   "execution_count": null,
   "metadata": {
    "collapsed": false
   },
   "outputs": [],
   "source": [
    "pythontags = pd.read_csv(pyT_path)\n",
    "pythontags.rename(columns={'Id':'QuestionId', 'Tag':'QuestTags'}, inplace=True)\n",
    "pythontags.head()"
   ]
  },
  {
   "cell_type": "code",
   "execution_count": null,
   "metadata": {
    "collapsed": false
   },
   "outputs": [],
   "source": [
    "pythonquestionstags = pd.merge(pythonquestions, pythontags, on='QuestionId')\n",
    "pythonquestionstags.head()"
   ]
  },
  {
   "cell_type": "code",
   "execution_count": null,
   "metadata": {
    "collapsed": true
   },
   "outputs": [],
   "source": [
    "pythonquestionstags.ix[(pythonquestionstags['CreationDate'] >= datetime.strptime('2008-10-15', '%Y-%m-%d')) & (pythonquestionstags['CreationDate'] < datetime.strptime('2009-10-15', '%Y-%m-%d')), 'QuestCreationYear'] = \"Oct'08-09\"\n",
    "pythonquestionstags.ix[(pythonquestionstags['CreationDate'] >= datetime.strptime('2009-10-15', '%Y-%m-%d')) & (pythonquestionstags['CreationDate'] < datetime.strptime('2010-10-15', '%Y-%m-%d')), 'QuestCreationYear'] = \"Oct'09-10\"\n",
    "pythonquestionstags.ix[(pythonquestionstags['CreationDate'] >= datetime.strptime('2010-10-15', '%Y-%m-%d')) & (pythonquestionstags['CreationDate'] < datetime.strptime('2011-10-15', '%Y-%m-%d')), 'QuestCreationYear'] = \"Oct'10-11\"\n",
    "pythonquestionstags.ix[(pythonquestionstags['CreationDate'] >= datetime.strptime('2011-10-15', '%Y-%m-%d')) & (pythonquestionstags['CreationDate'] < datetime.strptime('2012-10-15', '%Y-%m-%d')), 'QuestCreationYear'] = \"Oct'11-12\"\n",
    "pythonquestionstags.ix[(pythonquestionstags['CreationDate'] >= datetime.strptime('2012-10-15', '%Y-%m-%d')) & (pythonquestionstags['CreationDate'] < datetime.strptime('2013-10-15', '%Y-%m-%d')), 'QuestCreationYear'] = \"Oct'12-13\"\n",
    "pythonquestionstags.ix[(pythonquestionstags['CreationDate'] >= datetime.strptime('2013-10-15', '%Y-%m-%d')) & (pythonquestionstags['CreationDate'] < datetime.strptime('2014-10-15', '%Y-%m-%d')), 'QuestCreationYear'] = \"Oct'13-14\"\n",
    "pythonquestionstags.ix[(pythonquestionstags['CreationDate'] >= datetime.strptime('2014-10-15', '%Y-%m-%d')) & (pythonquestionstags['CreationDate'] < datetime.strptime('2015-10-15', '%Y-%m-%d')), 'QuestCreationYear'] = \"Oct'14-15\"\n",
    "pythonquestionstags.ix[(pythonquestionstags['CreationDate'] >= datetime.strptime('2015-10-15', '%Y-%m-%d')) & (pythonquestionstags['CreationDate'] < datetime.strptime('2016-10-15', '%Y-%m-%d')), 'QuestCreationYear'] = \"Oct'15-16\""
   ]
  },
  {
   "cell_type": "code",
   "execution_count": null,
   "metadata": {
    "collapsed": true
   },
   "outputs": [],
   "source": [
    "pythonquestionstags.rename(columns={'QuestTags_x':'QuestTagsList', 'QuestTags_y':'QuestTags'}, inplace=True)"
   ]
  },
  {
   "cell_type": "markdown",
   "metadata": {},
   "source": [
    "# Graph Plot 1: Number of Python Questions Created Every Year"
   ]
  },
  {
   "cell_type": "code",
   "execution_count": null,
   "metadata": {
    "collapsed": false
   },
   "outputs": [],
   "source": [
    "#number of tags used over the years\n",
    "%matplotlib inline\n",
    "import seaborn as sns\n",
    "ax = sns.countplot(x=\"QuestCreationYear\", data=pythonquestionstags)"
   ]
  },
  {
   "cell_type": "code",
   "execution_count": null,
   "metadata": {
    "collapsed": true
   },
   "outputs": [],
   "source": [
    "pythonquestionstags.QuestTagsList = pythonquestionstags.QuestTagsList.apply(lambda x: x.replace('[', '').replace(']', ''))"
   ]
  },
  {
   "cell_type": "code",
   "execution_count": null,
   "metadata": {
    "collapsed": true
   },
   "outputs": [],
   "source": [
    "pythonquestionstags.QuestTagsList = pythonquestionstags.QuestTagsList.apply(lambda x: x.split(\",\"))"
   ]
  },
  {
   "cell_type": "code",
   "execution_count": null,
   "metadata": {
    "collapsed": true
   },
   "outputs": [],
   "source": [
    "pythonquestionstags['TagCount'] = pythonquestionstags.QuestTagsList.apply(len)"
   ]
  },
  {
   "cell_type": "code",
   "execution_count": null,
   "metadata": {
    "collapsed": true
   },
   "outputs": [],
   "source": [
    "pythonYearQuestTag = pd.DataFrame(pythonquestionstags.groupby('QuestCreationYear').QuestTags.value_counts().rename('YearTagCount')).reset_index()"
   ]
  },
  {
   "cell_type": "code",
   "execution_count": null,
   "metadata": {
    "collapsed": true
   },
   "outputs": [],
   "source": [
    "pythonTopYearQuestTag = pythonYearQuestTag.groupby('QuestCreationYear').head(10)"
   ]
  },
  {
   "cell_type": "code",
   "execution_count": null,
   "metadata": {
    "collapsed": true
   },
   "outputs": [],
   "source": [
    "pythonYearCount = pythonYearQuestTag.groupby('QuestCreationYear').YearTagCount.agg('sum').rename('TotalYearCount').reset_index()"
   ]
  },
  {
   "cell_type": "code",
   "execution_count": null,
   "metadata": {
    "collapsed": true
   },
   "outputs": [],
   "source": [
    "pythonTopYearQuestTag = pd.merge(pythonTopYearQuestTag, pythonYearCount, on='QuestCreationYear')"
   ]
  },
  {
   "cell_type": "code",
   "execution_count": null,
   "metadata": {
    "collapsed": true
   },
   "outputs": [],
   "source": [
    "pythonTopYearQuestTag['Percentage'] = pythonTopYearQuestTag.YearTagCount * 100 / pythonTopYearQuestTag.TotalYearCount"
   ]
  },
  {
   "cell_type": "code",
   "execution_count": null,
   "metadata": {
    "collapsed": true
   },
   "outputs": [],
   "source": [
    "pythonTomerge = pythonTopYearQuestTag.groupby('QuestCreationYear').YearTagCount.agg('sum').rename('TopTagTotalCount').reset_index()"
   ]
  },
  {
   "cell_type": "code",
   "execution_count": null,
   "metadata": {
    "collapsed": true
   },
   "outputs": [],
   "source": [
    "pythonTopYearQuestTag = pd.merge(pythonTopYearQuestTag, pythonTomerge, on='QuestCreationYear')"
   ]
  },
  {
   "cell_type": "code",
   "execution_count": null,
   "metadata": {
    "collapsed": true
   },
   "outputs": [],
   "source": [
    "pythonTopYearQuestTag['PercentageAmongstTop'] = pythonTopYearQuestTag.YearTagCount * 100 / pythonTopYearQuestTag.TopTagTotalCount"
   ]
  },
  {
   "cell_type": "code",
   "execution_count": null,
   "metadata": {
    "collapsed": true
   },
   "outputs": [],
   "source": [
    "pythonTopYearQuestTag.sort_values(['QuestCreationYear', 'QuestTags'], inplace=True)"
   ]
  },
  {
   "cell_type": "markdown",
   "metadata": {},
   "source": [
    "# Graph Plot 2: Change in Top 10 Python Tags Used Over the Years"
   ]
  },
  {
   "cell_type": "code",
   "execution_count": null,
   "metadata": {
    "collapsed": false
   },
   "outputs": [],
   "source": [
    "from bokeh.charts import Bar, show, output_notebook\n",
    "from bokeh.models import HoverTool\n",
    "\n",
    "output_notebook()\n",
    "\n",
    "palette = ['#4B0082','#FF6347','#F0E68C','#E6E6FA','#FFF0F5','#90EE90','#ADD8E6','#F08080','#D3D3D3','#FFB6C1','#87CEFA','#20B2AA','#FFA07A','#778899','#9370DB','#40E0D0']\n",
    "\n",
    "bar = Bar(pythonTopYearQuestTag, values='PercentageAmongstTop', label='QuestCreationYear', stack='QuestTags',\n",
    "          title='Top 10 Tags Used Throughout the Years for Python', legend=False, \n",
    "              bar_width=1.0, palette=palette, tools='hover', line_color=['YearTagCount', 'PercentageAmongstTop'])\n",
    "\n",
    "hover = bar.select(dict(type=HoverTool))\n",
    "hover.tooltips = [('Tag','@QuestTags'), ('Yearly Tag Count','@YearTagCount'), \n",
    "                      ('Percentage of Tag Used','@PercentageAmongstTop{1.11}%')]\n",
    "\n",
    "bar.xaxis.axis_label = 'Year in which Question was Created'\n",
    "bar.yaxis.axis_label = 'Percentage of Top Tags Used in Questions Yearly (%)'\n",
    "\n",
    "show(bar)"
   ]
  },
  {
   "cell_type": "code",
   "execution_count": null,
   "metadata": {
    "collapsed": true
   },
   "outputs": [],
   "source": [
    "pythonTopQuestTags = pythonquestionstags.QuestTags.value_counts()[0:15]"
   ]
  },
  {
   "cell_type": "code",
   "execution_count": null,
   "metadata": {
    "collapsed": true
   },
   "outputs": [],
   "source": [
    "pythonTopQuestTags = pythonTopQuestTags.reset_index()\n",
    "pythonTopQuestTags = pythonTopQuestTags.rename(columns= {'index':'QuestTags', 'QuestTags':'Count'})"
   ]
  },
  {
   "cell_type": "markdown",
   "metadata": {},
   "source": [
    "# Graph Plot 3: Frequency of Top 15 Tags Used (in Total for All the Years)"
   ]
  },
  {
   "cell_type": "code",
   "execution_count": null,
   "metadata": {
    "collapsed": false
   },
   "outputs": [],
   "source": [
    "%matplotlib inline\n",
    "import matplotlib.pyplot as plt\n",
    "plt.figure(figsize=(12,7))\n",
    "ax2 = sns.stripplot(x=\"QuestTags\", y=\"Count\", data=pythonTopQuestTags)"
   ]
  },
  {
   "cell_type": "code",
   "execution_count": null,
   "metadata": {
    "collapsed": false
   },
   "outputs": [],
   "source": [
    "#pythonQuestTags = pd.DataFrame(pythonquestionstags[['QuestionId', 'QuestTags']].groupby('QuestionId').QuestTags.apply(list)).reset_index()"
   ]
  },
  {
   "cell_type": "code",
   "execution_count": null,
   "metadata": {
    "collapsed": false
   },
   "outputs": [],
   "source": [
    "# %store pythonQuestTags"
   ]
  },
  {
   "cell_type": "code",
   "execution_count": null,
   "metadata": {
    "collapsed": true
   },
   "outputs": [],
   "source": [
    "%store -r pythonQuestTags"
   ]
  },
  {
   "cell_type": "code",
   "execution_count": null,
   "metadata": {
    "collapsed": false
   },
   "outputs": [],
   "source": [
    "pythonQuestTagList = list(pythonQuestTags.QuestTags)"
   ]
  },
  {
   "cell_type": "code",
   "execution_count": null,
   "metadata": {
    "collapsed": true
   },
   "outputs": [],
   "source": [
    "pythonQuestTagList2 = [tag for tag in pythonQuestTagList if len(tag)>1]"
   ]
  },
  {
   "cell_type": "code",
   "execution_count": null,
   "metadata": {
    "collapsed": false
   },
   "outputs": [],
   "source": [
    "import pyfpgrowth as fp\n",
    "pythonPatterns = fp.find_frequent_patterns(pythonQuestTagList2, 1000)"
   ]
  },
  {
   "cell_type": "code",
   "execution_count": null,
   "metadata": {
    "collapsed": true
   },
   "outputs": [],
   "source": [
    "pythonRules = fp.generate_association_rules(pythonPatterns, 0.5)"
   ]
  },
  {
   "cell_type": "code",
   "execution_count": null,
   "metadata": {
    "collapsed": true
   },
   "outputs": [],
   "source": [
    "pythonTest = list(pythonRules.items())"
   ]
  },
  {
   "cell_type": "code",
   "execution_count": null,
   "metadata": {
    "collapsed": true
   },
   "outputs": [],
   "source": [
    "#RHS of edges all only contain one element\n",
    "# pythonTags_list = list()\n",
    "# for key,value in pythonTest:\n",
    "#     if len(key) > 1:\n",
    "#         pythonTags_list.append([key, value[0][0], value[1]])\n",
    "#     else:\n",
    "#         pythonTags_list.append([key[0], value[0][0], value[1]])\n",
    "        \n",
    "pythonTags_list = list()\n",
    "for key,value in pythonTest:\n",
    "    if len(key) > 1:\n",
    "        for ele in key:\n",
    "            pythonTags_list.append([ele, value[0][0], value[1]])\n",
    "    else:\n",
    "        pythonTags_list.append([key[0], value[0][0], value[1]])"
   ]
  },
  {
   "cell_type": "code",
   "execution_count": null,
   "metadata": {
    "collapsed": true
   },
   "outputs": [],
   "source": [
    "import networkx as nx\n",
    "DG2 = nx.DiGraph()"
   ]
  },
  {
   "cell_type": "code",
   "execution_count": null,
   "metadata": {
    "collapsed": true
   },
   "outputs": [],
   "source": [
    "items = list()\n",
    "for l in pythonTags_list:\n",
    "    for ele in l[:-1]:\n",
    "        if ele not in items:\n",
    "            items.append(ele)\n",
    "DG2.add_nodes_from(items)"
   ]
  },
  {
   "cell_type": "code",
   "execution_count": null,
   "metadata": {
    "collapsed": true
   },
   "outputs": [],
   "source": [
    "DG2.add_weighted_edges_from(pythonTags_list)"
   ]
  },
  {
   "cell_type": "code",
   "execution_count": null,
   "metadata": {
    "collapsed": true
   },
   "outputs": [],
   "source": [
    "nx.write_gexf(DG2, \"python_test.gexf\")"
   ]
  },
  {
   "cell_type": "code",
   "execution_count": null,
   "metadata": {
    "collapsed": true
   },
   "outputs": [],
   "source": [
    "pythonTagCount = pythonquestionstags.groupby('QuestionId').QuestTags.size().reset_index()\n",
    "pythonTagCount = pythonTagCount.rename(columns={0:'TagCount'})"
   ]
  },
  {
   "cell_type": "code",
   "execution_count": null,
   "metadata": {
    "collapsed": false,
    "scrolled": true
   },
   "outputs": [],
   "source": [
    "pythonYearQuestTag.YearTagCount.describe()"
   ]
  },
  {
   "cell_type": "code",
   "execution_count": null,
   "metadata": {
    "collapsed": false
   },
   "outputs": [],
   "source": [
    "#remove noises by only including tags which were used in questions throughout a year within the 75% range\n",
    "pythonYearQuestTag = pythonYearQuestTag.loc[pythonYearQuestTag.YearTagCount >= 8, :]\n",
    "pythonSumQuestTag = pd.DataFrame(pythonYearQuestTag.groupby('QuestCreationYear').YearTagCount.sum()).reset_index()\n",
    "pythonSumQuestTag = pythonSumQuestTag.rename(columns={'YearTagCount':'SumYearTagCount'})\n",
    "pythonYearQuestTag = pd.merge(pythonYearQuestTag, pythonSumQuestTag, on='QuestCreationYear')\n",
    "pythonYearQuestTag['Proportion'] = pythonYearQuestTag['YearTagCount'] / pythonYearQuestTag['SumYearTagCount']"
   ]
  },
  {
   "cell_type": "markdown",
   "metadata": {},
   "source": [
    "# Percentage Change of Top 30 Common Python Tags from Oct'08-09 to Oct'15-16"
   ]
  },
  {
   "cell_type": "code",
   "execution_count": null,
   "metadata": {
    "collapsed": false
   },
   "outputs": [],
   "source": [
    "plot_percentage_change(pythonYearQuestTag, \"Oct'08-09\", \"Oct'15-16\")"
   ]
  },
  {
   "cell_type": "code",
   "execution_count": null,
   "metadata": {
    "collapsed": true
   },
   "outputs": [],
   "source": []
  }
 ],
 "metadata": {
  "anaconda-cloud": {},
  "kernelspec": {
   "display_name": "Python [Root]",
   "language": "python",
   "name": "Python [Root]"
  },
  "language_info": {
   "codemirror_mode": {
    "name": "ipython",
    "version": 2
   },
   "file_extension": ".py",
   "mimetype": "text/x-python",
   "name": "python",
   "nbconvert_exporter": "python",
   "pygments_lexer": "ipython2",
   "version": "2.7.12"
  }
 },
 "nbformat": 4,
 "nbformat_minor": 1
}
