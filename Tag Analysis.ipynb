{
 "cells": [
  {
   "cell_type": "markdown",
   "metadata": {},
   "source": [
    "# Below are done for StackOverflow 10% Sample"
   ]
  },
  {
   "cell_type": "markdown",
   "metadata": {},
   "source": [
    "# Import and prepare data"
   ]
  },
  {
   "cell_type": "code",
   "execution_count": 1,
   "metadata": {
    "collapsed": true
   },
   "outputs": [],
   "source": [
    "import pandas as pd\n",
    "from datetime import datetime"
   ]
  },
  {
   "cell_type": "code",
   "execution_count": 2,
   "metadata": {
    "collapsed": false
   },
   "outputs": [],
   "source": [
    "stackSampleTags = pd.read_csv('sampleTags.csv', encoding='latin1')"
   ]
  },
  {
   "cell_type": "code",
   "execution_count": 3,
   "metadata": {
    "collapsed": false
   },
   "outputs": [],
   "source": [
    "stackSampleTags.rename(columns={'Id':'QuestionId', 'Tag':'QuestTags'}, inplace=True)"
   ]
  },
  {
   "cell_type": "code",
   "execution_count": 4,
   "metadata": {
    "collapsed": true
   },
   "outputs": [],
   "source": [
    "stackSampleQuestions = pd.read_csv('SampleQuestions.csv', encoding='latin1')"
   ]
  },
  {
   "cell_type": "code",
   "execution_count": 5,
   "metadata": {
    "collapsed": true
   },
   "outputs": [],
   "source": [
    "stackSampleQuestions.rename(columns={'Id':'QuestionId', 'OwnerUserId':'QuestUserId', 'CreationDate':'QuestCreationDate', 'ClosedDate':'QuestClosedDate', 'Score':'QuestScore', 'Body':'QuestBody', 'Title':'QuestTitle'}, inplace=True)"
   ]
  },
  {
   "cell_type": "code",
   "execution_count": 6,
   "metadata": {
    "collapsed": false
   },
   "outputs": [],
   "source": [
    "stackSampleQuestions[\"QuestCreationDate\"] = pd.to_datetime(stackSampleQuestions[\"QuestCreationDate\"])"
   ]
  },
  {
   "cell_type": "code",
   "execution_count": 7,
   "metadata": {
    "collapsed": false
   },
   "outputs": [],
   "source": [
    "mask4 = (stackSampleQuestions['QuestCreationDate'] >= datetime.strptime('2008-10-15', '%Y-%m-%d')) & (stackSampleQuestions['QuestCreationDate'] <= datetime.strptime('2016-10-12', '%Y-%m-%d'))"
   ]
  },
  {
   "cell_type": "code",
   "execution_count": 8,
   "metadata": {
    "collapsed": false
   },
   "outputs": [],
   "source": [
    "stackSampleQuestions = stackSampleQuestions.loc[mask4]"
   ]
  },
  {
   "cell_type": "code",
   "execution_count": 9,
   "metadata": {
    "collapsed": true
   },
   "outputs": [],
   "source": [
    "stackSampleQuestions = stackSampleQuestions[stackSampleQuestions['QuestClosedDate'].isnull()]"
   ]
  },
  {
   "cell_type": "code",
   "execution_count": 10,
   "metadata": {
    "collapsed": false
   },
   "outputs": [],
   "source": [
    "stackQuestionsTags = pd.merge(stackSampleQuestions, stackSampleTags, on='QuestionId')"
   ]
  },
  {
   "cell_type": "code",
   "execution_count": 11,
   "metadata": {
    "collapsed": true
   },
   "outputs": [],
   "source": [
    "stackQuestionsTags = stackQuestionsTags.copy()"
   ]
  },
  {
   "cell_type": "code",
   "execution_count": 12,
   "metadata": {
    "collapsed": false
   },
   "outputs": [],
   "source": [
    "stackQuestionsTags.ix[(stackQuestionsTags['QuestCreationDate'] >= datetime.strptime('2008-10-15', '%Y-%m-%d')) & (stackQuestionsTags['QuestCreationDate'] < datetime.strptime('2009-10-15', '%Y-%m-%d')), 'QuestCreationYear'] = \"Oct'08-09\"\n",
    "stackQuestionsTags.ix[(stackQuestionsTags['QuestCreationDate'] >= datetime.strptime('2009-10-15', '%Y-%m-%d')) & (stackQuestionsTags['QuestCreationDate'] < datetime.strptime('2010-10-15', '%Y-%m-%d')), 'QuestCreationYear'] = \"Oct'09-10\"\n",
    "stackQuestionsTags.ix[(stackQuestionsTags['QuestCreationDate'] >= datetime.strptime('2010-10-15', '%Y-%m-%d')) & (stackQuestionsTags['QuestCreationDate'] < datetime.strptime('2011-10-15', '%Y-%m-%d')), 'QuestCreationYear'] = \"Oct'10-11\"\n",
    "stackQuestionsTags.ix[(stackQuestionsTags['QuestCreationDate'] >= datetime.strptime('2011-10-15', '%Y-%m-%d')) & (stackQuestionsTags['QuestCreationDate'] < datetime.strptime('2012-10-15', '%Y-%m-%d')), 'QuestCreationYear'] = \"Oct'11-12\"\n",
    "stackQuestionsTags.ix[(stackQuestionsTags['QuestCreationDate'] >= datetime.strptime('2012-10-15', '%Y-%m-%d')) & (stackQuestionsTags['QuestCreationDate'] < datetime.strptime('2013-10-15', '%Y-%m-%d')), 'QuestCreationYear'] = \"Oct'12-13\"\n",
    "stackQuestionsTags.ix[(stackQuestionsTags['QuestCreationDate'] >= datetime.strptime('2013-10-15', '%Y-%m-%d')) & (stackQuestionsTags['QuestCreationDate'] < datetime.strptime('2014-10-15', '%Y-%m-%d')), 'QuestCreationYear'] = \"Oct'13-14\"\n",
    "stackQuestionsTags.ix[(stackQuestionsTags['QuestCreationDate'] >= datetime.strptime('2014-10-15', '%Y-%m-%d')) & (stackQuestionsTags['QuestCreationDate'] < datetime.strptime('2015-10-15', '%Y-%m-%d')), 'QuestCreationYear'] = \"Oct'14-15\"\n",
    "stackQuestionsTags.ix[(stackQuestionsTags['QuestCreationDate'] >= datetime.strptime('2015-10-15', '%Y-%m-%d')) & (stackQuestionsTags['QuestCreationDate'] < datetime.strptime('2016-10-15', '%Y-%m-%d')), 'QuestCreationYear'] = \"Oct'15-16\""
   ]
  },
  {
   "cell_type": "code",
   "execution_count": 13,
   "metadata": {
    "collapsed": false
   },
   "outputs": [],
   "source": [
    "stackQuestionsTags.rename(columns={'Tag':'QuestTags'}, inplace=True)"
   ]
  },
  {
   "cell_type": "code",
   "execution_count": 14,
   "metadata": {
    "collapsed": false
   },
   "outputs": [
    {
     "data": {
      "text/html": [
       "<div>\n",
       "<table border=\"1\" class=\"dataframe\">\n",
       "  <thead>\n",
       "    <tr style=\"text-align: right;\">\n",
       "      <th></th>\n",
       "      <th>QuestionId</th>\n",
       "      <th>QuestUserId</th>\n",
       "      <th>QuestCreationDate</th>\n",
       "      <th>QuestClosedDate</th>\n",
       "      <th>QuestScore</th>\n",
       "      <th>QuestTitle</th>\n",
       "      <th>QuestBody</th>\n",
       "      <th>QuestTags</th>\n",
       "      <th>QuestCreationYear</th>\n",
       "    </tr>\n",
       "  </thead>\n",
       "  <tbody>\n",
       "    <tr>\n",
       "      <th>0</th>\n",
       "      <td>203340</td>\n",
       "      <td>27580.0</td>\n",
       "      <td>2008-10-15 00:35:54</td>\n",
       "      <td>NaN</td>\n",
       "      <td>32</td>\n",
       "      <td>JQuery: Current, Well-Formatted, Printable Doc...</td>\n",
       "      <td>&lt;p&gt;I'm looking for a current (1.2), well-forma...</td>\n",
       "      <td>jquery</td>\n",
       "      <td>Oct'08-09</td>\n",
       "    </tr>\n",
       "    <tr>\n",
       "      <th>1</th>\n",
       "      <td>203520</td>\n",
       "      <td>5496.0</td>\n",
       "      <td>2008-10-15 02:19:28</td>\n",
       "      <td>NaN</td>\n",
       "      <td>2</td>\n",
       "      <td>How do I discriminate between data binding and...</td>\n",
       "      <td>&lt;p&gt;I have what must be a typical catch-22 prob...</td>\n",
       "      <td>.net</td>\n",
       "      <td>Oct'08-09</td>\n",
       "    </tr>\n",
       "    <tr>\n",
       "      <th>2</th>\n",
       "      <td>203520</td>\n",
       "      <td>5496.0</td>\n",
       "      <td>2008-10-15 02:19:28</td>\n",
       "      <td>NaN</td>\n",
       "      <td>2</td>\n",
       "      <td>How do I discriminate between data binding and...</td>\n",
       "      <td>&lt;p&gt;I have what must be a typical catch-22 prob...</td>\n",
       "      <td>winforms</td>\n",
       "      <td>Oct'08-09</td>\n",
       "    </tr>\n",
       "    <tr>\n",
       "      <th>3</th>\n",
       "      <td>203520</td>\n",
       "      <td>5496.0</td>\n",
       "      <td>2008-10-15 02:19:28</td>\n",
       "      <td>NaN</td>\n",
       "      <td>2</td>\n",
       "      <td>How do I discriminate between data binding and...</td>\n",
       "      <td>&lt;p&gt;I have what must be a typical catch-22 prob...</td>\n",
       "      <td>data-binding</td>\n",
       "      <td>Oct'08-09</td>\n",
       "    </tr>\n",
       "    <tr>\n",
       "      <th>4</th>\n",
       "      <td>203590</td>\n",
       "      <td>361.0</td>\n",
       "      <td>2008-10-15 03:05:53</td>\n",
       "      <td>NaN</td>\n",
       "      <td>0</td>\n",
       "      <td>Include directory in VS 2003</td>\n",
       "      <td>&lt;p&gt;Where is the setting in Visual Studio 2003 ...</td>\n",
       "      <td>visual-studio</td>\n",
       "      <td>Oct'08-09</td>\n",
       "    </tr>\n",
       "  </tbody>\n",
       "</table>\n",
       "</div>"
      ],
      "text/plain": [
       "   QuestionId  QuestUserId   QuestCreationDate QuestClosedDate  QuestScore  \\\n",
       "0      203340      27580.0 2008-10-15 00:35:54             NaN          32   \n",
       "1      203520       5496.0 2008-10-15 02:19:28             NaN           2   \n",
       "2      203520       5496.0 2008-10-15 02:19:28             NaN           2   \n",
       "3      203520       5496.0 2008-10-15 02:19:28             NaN           2   \n",
       "4      203590        361.0 2008-10-15 03:05:53             NaN           0   \n",
       "\n",
       "                                          QuestTitle  \\\n",
       "0  JQuery: Current, Well-Formatted, Printable Doc...   \n",
       "1  How do I discriminate between data binding and...   \n",
       "2  How do I discriminate between data binding and...   \n",
       "3  How do I discriminate between data binding and...   \n",
       "4                       Include directory in VS 2003   \n",
       "\n",
       "                                           QuestBody      QuestTags  \\\n",
       "0  <p>I'm looking for a current (1.2), well-forma...         jquery   \n",
       "1  <p>I have what must be a typical catch-22 prob...           .net   \n",
       "2  <p>I have what must be a typical catch-22 prob...       winforms   \n",
       "3  <p>I have what must be a typical catch-22 prob...   data-binding   \n",
       "4  <p>Where is the setting in Visual Studio 2003 ...  visual-studio   \n",
       "\n",
       "  QuestCreationYear  \n",
       "0         Oct'08-09  \n",
       "1         Oct'08-09  \n",
       "2         Oct'08-09  \n",
       "3         Oct'08-09  \n",
       "4         Oct'08-09  "
      ]
     },
     "execution_count": 14,
     "metadata": {},
     "output_type": "execute_result"
    }
   ],
   "source": [
    "stackQuestionsTags.head()"
   ]
  },
  {
   "cell_type": "code",
   "execution_count": 15,
   "metadata": {
    "collapsed": true
   },
   "outputs": [],
   "source": [
    "stackSampleAnswers = pd.read_csv('sampleAnswers.csv', encoding='latin1')"
   ]
  },
  {
   "cell_type": "code",
   "execution_count": 16,
   "metadata": {
    "collapsed": false
   },
   "outputs": [],
   "source": [
    "stackSampleAnswers.rename(columns={'Id':'AnswerId', 'CreationDate':'AnsCreationDate', 'ParentId':'QuestionId', 'Score':'AnsScore', 'Body':'AnsBody'}, inplace=True)"
   ]
  },
  {
   "cell_type": "markdown",
   "metadata": {},
   "source": [
    "# Graph Plot 1: Number of Questions Created Every Year"
   ]
  },
  {
   "cell_type": "code",
   "execution_count": 17,
   "metadata": {
    "collapsed": true
   },
   "outputs": [],
   "source": [
    "import seaborn as sns"
   ]
  },
  {
   "cell_type": "code",
   "execution_count": 18,
   "metadata": {
    "collapsed": false
   },
   "outputs": [
    {
     "data": {
      "image/png": "[encoded data removed]",
      "text/plain": [
       "<matplotlib.figure.Figure at 0x118745a58>"
      ]
     },
     "metadata": {},
     "output_type": "display_data"
    }
   ],
   "source": [
    "#number of tags used over the years\n",
    "%matplotlib inline\n",
    "ax = sns.countplot(x=\"QuestCreationYear\", data=stackQuestionsTags)"
   ]
  },
  {
   "cell_type": "code",
   "execution_count": 19,
   "metadata": {
    "collapsed": false
   },
   "outputs": [],
   "source": [
    "#36763 unique QuestTags, tail(23300)\n",
    "yearQuestTag = pd.DataFrame(stackQuestionsTags.groupby('QuestCreationYear').QuestTags.value_counts().rename('YearTagCount')).reset_index()"
   ]
  },
  {
   "cell_type": "code",
   "execution_count": 20,
   "metadata": {
    "collapsed": false
   },
   "outputs": [
    {
     "data": {
      "text/html": [
       "<div>\n",
       "<table border=\"1\" class=\"dataframe\">\n",
       "  <thead>\n",
       "    <tr style=\"text-align: right;\">\n",
       "      <th></th>\n",
       "      <th>QuestCreationYear</th>\n",
       "      <th>QuestTags</th>\n",
       "      <th>YearTagCount</th>\n",
       "    </tr>\n",
       "  </thead>\n",
       "  <tbody>\n",
       "    <tr>\n",
       "      <th>0</th>\n",
       "      <td>Oct'08-09</td>\n",
       "      <td>c#</td>\n",
       "      <td>3682</td>\n",
       "    </tr>\n",
       "    <tr>\n",
       "      <th>1</th>\n",
       "      <td>Oct'08-09</td>\n",
       "      <td>.net</td>\n",
       "      <td>2014</td>\n",
       "    </tr>\n",
       "    <tr>\n",
       "      <th>2</th>\n",
       "      <td>Oct'08-09</td>\n",
       "      <td>java</td>\n",
       "      <td>1846</td>\n",
       "    </tr>\n",
       "    <tr>\n",
       "      <th>3</th>\n",
       "      <td>Oct'08-09</td>\n",
       "      <td>asp.net</td>\n",
       "      <td>1710</td>\n",
       "    </tr>\n",
       "    <tr>\n",
       "      <th>4</th>\n",
       "      <td>Oct'08-09</td>\n",
       "      <td>php</td>\n",
       "      <td>1468</td>\n",
       "    </tr>\n",
       "  </tbody>\n",
       "</table>\n",
       "</div>"
      ],
      "text/plain": [
       "  QuestCreationYear QuestTags  YearTagCount\n",
       "0         Oct'08-09        c#          3682\n",
       "1         Oct'08-09      .net          2014\n",
       "2         Oct'08-09      java          1846\n",
       "3         Oct'08-09   asp.net          1710\n",
       "4         Oct'08-09       php          1468"
      ]
     },
     "execution_count": 20,
     "metadata": {},
     "output_type": "execute_result"
    }
   ],
   "source": [
    "yearQuestTag.head()"
   ]
  },
  {
   "cell_type": "code",
   "execution_count": 21,
   "metadata": {
    "collapsed": false
   },
   "outputs": [],
   "source": [
    "#realise iphone tag was changed to ios\n",
    "yearQuestTag = yearQuestTag.replace(\"iphone\", \"ios\")"
   ]
  },
  {
   "cell_type": "code",
   "execution_count": 22,
   "metadata": {
    "collapsed": false
   },
   "outputs": [],
   "source": [
    "topYearQuestTag = yearQuestTag.groupby('QuestCreationYear').head(10)"
   ]
  },
  {
   "cell_type": "code",
   "execution_count": 23,
   "metadata": {
    "collapsed": false
   },
   "outputs": [
    {
     "data": {
      "text/html": [
       "<div>\n",
       "<table border=\"1\" class=\"dataframe\">\n",
       "  <thead>\n",
       "    <tr style=\"text-align: right;\">\n",
       "      <th></th>\n",
       "      <th>QuestCreationYear</th>\n",
       "      <th>QuestTags</th>\n",
       "      <th>YearTagCount</th>\n",
       "    </tr>\n",
       "  </thead>\n",
       "  <tbody>\n",
       "    <tr>\n",
       "      <th>0</th>\n",
       "      <td>Oct'08-09</td>\n",
       "      <td>c#</td>\n",
       "      <td>3682</td>\n",
       "    </tr>\n",
       "    <tr>\n",
       "      <th>1</th>\n",
       "      <td>Oct'08-09</td>\n",
       "      <td>.net</td>\n",
       "      <td>2014</td>\n",
       "    </tr>\n",
       "    <tr>\n",
       "      <th>2</th>\n",
       "      <td>Oct'08-09</td>\n",
       "      <td>java</td>\n",
       "      <td>1846</td>\n",
       "    </tr>\n",
       "    <tr>\n",
       "      <th>3</th>\n",
       "      <td>Oct'08-09</td>\n",
       "      <td>asp.net</td>\n",
       "      <td>1710</td>\n",
       "    </tr>\n",
       "    <tr>\n",
       "      <th>4</th>\n",
       "      <td>Oct'08-09</td>\n",
       "      <td>php</td>\n",
       "      <td>1468</td>\n",
       "    </tr>\n",
       "  </tbody>\n",
       "</table>\n",
       "</div>"
      ],
      "text/plain": [
       "  QuestCreationYear QuestTags  YearTagCount\n",
       "0         Oct'08-09        c#          3682\n",
       "1         Oct'08-09      .net          2014\n",
       "2         Oct'08-09      java          1846\n",
       "3         Oct'08-09   asp.net          1710\n",
       "4         Oct'08-09       php          1468"
      ]
     },
     "execution_count": 23,
     "metadata": {},
     "output_type": "execute_result"
    }
   ],
   "source": [
    "topYearQuestTag.head()"
   ]
  },
  {
   "cell_type": "code",
   "execution_count": 24,
   "metadata": {
    "collapsed": false
   },
   "outputs": [],
   "source": [
    "yearCount = yearQuestTag.groupby('QuestCreationYear').YearTagCount.agg('sum').rename('TotalYearCount').reset_index()"
   ]
  },
  {
   "cell_type": "code",
   "execution_count": 25,
   "metadata": {
    "collapsed": false
   },
   "outputs": [],
   "source": [
    "topYearQuestTag = pd.merge(topYearQuestTag, yearCount, on='QuestCreationYear')"
   ]
  },
  {
   "cell_type": "code",
   "execution_count": 26,
   "metadata": {
    "collapsed": true
   },
   "outputs": [],
   "source": [
    "topYearQuestTag['Percentage'] = topYearQuestTag.YearTagCount * 100 / topYearQuestTag.TotalYearCount"
   ]
  },
  {
   "cell_type": "code",
   "execution_count": 27,
   "metadata": {
    "collapsed": false
   },
   "outputs": [],
   "source": [
    "tomerge = topYearQuestTag.groupby('QuestCreationYear').YearTagCount.agg('sum').rename('TopTagTotalCount').reset_index()"
   ]
  },
  {
   "cell_type": "code",
   "execution_count": 28,
   "metadata": {
    "collapsed": false
   },
   "outputs": [],
   "source": [
    "topYearQuestTag = pd.merge(topYearQuestTag, tomerge, on='QuestCreationYear')"
   ]
  },
  {
   "cell_type": "code",
   "execution_count": 29,
   "metadata": {
    "collapsed": false
   },
   "outputs": [],
   "source": [
    "topYearQuestTag['PercentageAmongstTop'] = topYearQuestTag.YearTagCount * 100 / topYearQuestTag.TopTagTotalCount"
   ]
  },
  {
   "cell_type": "code",
   "execution_count": 30,
   "metadata": {
    "collapsed": false
   },
   "outputs": [],
   "source": [
    "topYearQuestTag.sort_values(['QuestCreationYear', 'QuestTags'], inplace=True)"
   ]
  },
  {
   "cell_type": "code",
   "execution_count": 31,
   "metadata": {
    "collapsed": false
   },
   "outputs": [
    {
     "data": {
      "text/html": [
       "<div>\n",
       "<table border=\"1\" class=\"dataframe\">\n",
       "  <thead>\n",
       "    <tr style=\"text-align: right;\">\n",
       "      <th></th>\n",
       "      <th>QuestCreationYear</th>\n",
       "      <th>QuestTags</th>\n",
       "      <th>YearTagCount</th>\n",
       "      <th>TotalYearCount</th>\n",
       "      <th>Percentage</th>\n",
       "      <th>TopTagTotalCount</th>\n",
       "      <th>PercentageAmongstTop</th>\n",
       "    </tr>\n",
       "  </thead>\n",
       "  <tbody>\n",
       "    <tr>\n",
       "      <th>1</th>\n",
       "      <td>Oct'08-09</td>\n",
       "      <td>.net</td>\n",
       "      <td>2014</td>\n",
       "      <td>77299</td>\n",
       "      <td>2.605467</td>\n",
       "      <td>16374</td>\n",
       "      <td>12.299988</td>\n",
       "    </tr>\n",
       "    <tr>\n",
       "      <th>3</th>\n",
       "      <td>Oct'08-09</td>\n",
       "      <td>asp.net</td>\n",
       "      <td>1710</td>\n",
       "      <td>77299</td>\n",
       "      <td>2.212189</td>\n",
       "      <td>16374</td>\n",
       "      <td>10.443386</td>\n",
       "    </tr>\n",
       "    <tr>\n",
       "      <th>0</th>\n",
       "      <td>Oct'08-09</td>\n",
       "      <td>c#</td>\n",
       "      <td>3682</td>\n",
       "      <td>77299</td>\n",
       "      <td>4.763322</td>\n",
       "      <td>16374</td>\n",
       "      <td>22.486869</td>\n",
       "    </tr>\n",
       "    <tr>\n",
       "      <th>6</th>\n",
       "      <td>Oct'08-09</td>\n",
       "      <td>c++</td>\n",
       "      <td>1285</td>\n",
       "      <td>77299</td>\n",
       "      <td>1.662376</td>\n",
       "      <td>16374</td>\n",
       "      <td>7.847807</td>\n",
       "    </tr>\n",
       "    <tr>\n",
       "      <th>8</th>\n",
       "      <td>Oct'08-09</td>\n",
       "      <td>ios</td>\n",
       "      <td>988</td>\n",
       "      <td>77299</td>\n",
       "      <td>1.278154</td>\n",
       "      <td>16374</td>\n",
       "      <td>6.033956</td>\n",
       "    </tr>\n",
       "    <tr>\n",
       "      <th>2</th>\n",
       "      <td>Oct'08-09</td>\n",
       "      <td>java</td>\n",
       "      <td>1846</td>\n",
       "      <td>77299</td>\n",
       "      <td>2.388129</td>\n",
       "      <td>16374</td>\n",
       "      <td>11.273971</td>\n",
       "    </tr>\n",
       "    <tr>\n",
       "      <th>5</th>\n",
       "      <td>Oct'08-09</td>\n",
       "      <td>javascript</td>\n",
       "      <td>1382</td>\n",
       "      <td>77299</td>\n",
       "      <td>1.787863</td>\n",
       "      <td>16374</td>\n",
       "      <td>8.440210</td>\n",
       "    </tr>\n",
       "    <tr>\n",
       "      <th>9</th>\n",
       "      <td>Oct'08-09</td>\n",
       "      <td>jquery</td>\n",
       "      <td>976</td>\n",
       "      <td>77299</td>\n",
       "      <td>1.262630</td>\n",
       "      <td>16374</td>\n",
       "      <td>5.960669</td>\n",
       "    </tr>\n",
       "    <tr>\n",
       "      <th>4</th>\n",
       "      <td>Oct'08-09</td>\n",
       "      <td>php</td>\n",
       "      <td>1468</td>\n",
       "      <td>77299</td>\n",
       "      <td>1.899119</td>\n",
       "      <td>16374</td>\n",
       "      <td>8.965433</td>\n",
       "    </tr>\n",
       "    <tr>\n",
       "      <th>7</th>\n",
       "      <td>Oct'08-09</td>\n",
       "      <td>python</td>\n",
       "      <td>1023</td>\n",
       "      <td>77299</td>\n",
       "      <td>1.323432</td>\n",
       "      <td>16374</td>\n",
       "      <td>6.247710</td>\n",
       "    </tr>\n",
       "    <tr>\n",
       "      <th>16</th>\n",
       "      <td>Oct'09-10</td>\n",
       "      <td>.net</td>\n",
       "      <td>2911</td>\n",
       "      <td>173761</td>\n",
       "      <td>1.675290</td>\n",
       "      <td>36833</td>\n",
       "      <td>7.903239</td>\n",
       "    </tr>\n",
       "    <tr>\n",
       "      <th>17</th>\n",
       "      <td>Oct'09-10</td>\n",
       "      <td>asp.net</td>\n",
       "      <td>2871</td>\n",
       "      <td>173761</td>\n",
       "      <td>1.652269</td>\n",
       "      <td>36833</td>\n",
       "      <td>7.794641</td>\n",
       "    </tr>\n",
       "    <tr>\n",
       "      <th>10</th>\n",
       "      <td>Oct'09-10</td>\n",
       "      <td>c#</td>\n",
       "      <td>6729</td>\n",
       "      <td>173761</td>\n",
       "      <td>3.872561</td>\n",
       "      <td>36833</td>\n",
       "      <td>18.268944</td>\n",
       "    </tr>\n",
       "    <tr>\n",
       "      <th>18</th>\n",
       "      <td>Oct'09-10</td>\n",
       "      <td>c++</td>\n",
       "      <td>2705</td>\n",
       "      <td>173761</td>\n",
       "      <td>1.556736</td>\n",
       "      <td>36833</td>\n",
       "      <td>7.343958</td>\n",
       "    </tr>\n",
       "    <tr>\n",
       "      <th>15</th>\n",
       "      <td>Oct'09-10</td>\n",
       "      <td>ios</td>\n",
       "      <td>3249</td>\n",
       "      <td>173761</td>\n",
       "      <td>1.869810</td>\n",
       "      <td>36833</td>\n",
       "      <td>8.820894</td>\n",
       "    </tr>\n",
       "    <tr>\n",
       "      <th>11</th>\n",
       "      <td>Oct'09-10</td>\n",
       "      <td>java</td>\n",
       "      <td>4492</td>\n",
       "      <td>173761</td>\n",
       "      <td>2.585160</td>\n",
       "      <td>36833</td>\n",
       "      <td>12.195585</td>\n",
       "    </tr>\n",
       "    <tr>\n",
       "      <th>13</th>\n",
       "      <td>Oct'09-10</td>\n",
       "      <td>javascript</td>\n",
       "      <td>3660</td>\n",
       "      <td>173761</td>\n",
       "      <td>2.106341</td>\n",
       "      <td>36833</td>\n",
       "      <td>9.936742</td>\n",
       "    </tr>\n",
       "    <tr>\n",
       "      <th>14</th>\n",
       "      <td>Oct'09-10</td>\n",
       "      <td>jquery</td>\n",
       "      <td>3476</td>\n",
       "      <td>173761</td>\n",
       "      <td>2.000449</td>\n",
       "      <td>36833</td>\n",
       "      <td>9.437189</td>\n",
       "    </tr>\n",
       "    <tr>\n",
       "      <th>12</th>\n",
       "      <td>Oct'09-10</td>\n",
       "      <td>php</td>\n",
       "      <td>4362</td>\n",
       "      <td>173761</td>\n",
       "      <td>2.510345</td>\n",
       "      <td>36833</td>\n",
       "      <td>11.842641</td>\n",
       "    </tr>\n",
       "    <tr>\n",
       "      <th>19</th>\n",
       "      <td>Oct'09-10</td>\n",
       "      <td>python</td>\n",
       "      <td>2378</td>\n",
       "      <td>173761</td>\n",
       "      <td>1.368546</td>\n",
       "      <td>36833</td>\n",
       "      <td>6.456167</td>\n",
       "    </tr>\n",
       "    <tr>\n",
       "      <th>24</th>\n",
       "      <td>Oct'10-11</td>\n",
       "      <td>android</td>\n",
       "      <td>7289</td>\n",
       "      <td>315059</td>\n",
       "      <td>2.313535</td>\n",
       "      <td>67073</td>\n",
       "      <td>10.867264</td>\n",
       "    </tr>\n",
       "    <tr>\n",
       "      <th>28</th>\n",
       "      <td>Oct'10-11</td>\n",
       "      <td>asp.net</td>\n",
       "      <td>3964</td>\n",
       "      <td>315059</td>\n",
       "      <td>1.258177</td>\n",
       "      <td>67073</td>\n",
       "      <td>5.909979</td>\n",
       "    </tr>\n",
       "    <tr>\n",
       "      <th>20</th>\n",
       "      <td>Oct'10-11</td>\n",
       "      <td>c#</td>\n",
       "      <td>10348</td>\n",
       "      <td>315059</td>\n",
       "      <td>3.284464</td>\n",
       "      <td>67073</td>\n",
       "      <td>15.427967</td>\n",
       "    </tr>\n",
       "    <tr>\n",
       "      <th>27</th>\n",
       "      <td>Oct'10-11</td>\n",
       "      <td>c++</td>\n",
       "      <td>4259</td>\n",
       "      <td>315059</td>\n",
       "      <td>1.351810</td>\n",
       "      <td>67073</td>\n",
       "      <td>6.349798</td>\n",
       "    </tr>\n",
       "    <tr>\n",
       "      <th>26</th>\n",
       "      <td>Oct'10-11</td>\n",
       "      <td>ios</td>\n",
       "      <td>5208</td>\n",
       "      <td>315059</td>\n",
       "      <td>1.653024</td>\n",
       "      <td>67073</td>\n",
       "      <td>7.764674</td>\n",
       "    </tr>\n",
       "    <tr>\n",
       "      <th>22</th>\n",
       "      <td>Oct'10-11</td>\n",
       "      <td>java</td>\n",
       "      <td>8522</td>\n",
       "      <td>315059</td>\n",
       "      <td>2.704890</td>\n",
       "      <td>67073</td>\n",
       "      <td>12.705560</td>\n",
       "    </tr>\n",
       "    <tr>\n",
       "      <th>23</th>\n",
       "      <td>Oct'10-11</td>\n",
       "      <td>javascript</td>\n",
       "      <td>7853</td>\n",
       "      <td>315059</td>\n",
       "      <td>2.492549</td>\n",
       "      <td>67073</td>\n",
       "      <td>11.708139</td>\n",
       "    </tr>\n",
       "    <tr>\n",
       "      <th>25</th>\n",
       "      <td>Oct'10-11</td>\n",
       "      <td>jquery</td>\n",
       "      <td>7161</td>\n",
       "      <td>315059</td>\n",
       "      <td>2.272908</td>\n",
       "      <td>67073</td>\n",
       "      <td>10.676427</td>\n",
       "    </tr>\n",
       "    <tr>\n",
       "      <th>21</th>\n",
       "      <td>Oct'10-11</td>\n",
       "      <td>php</td>\n",
       "      <td>8546</td>\n",
       "      <td>315059</td>\n",
       "      <td>2.712508</td>\n",
       "      <td>67073</td>\n",
       "      <td>12.741342</td>\n",
       "    </tr>\n",
       "    <tr>\n",
       "      <th>29</th>\n",
       "      <td>Oct'10-11</td>\n",
       "      <td>python</td>\n",
       "      <td>3923</td>\n",
       "      <td>315059</td>\n",
       "      <td>1.245164</td>\n",
       "      <td>67073</td>\n",
       "      <td>5.848851</td>\n",
       "    </tr>\n",
       "    <tr>\n",
       "      <th>33</th>\n",
       "      <td>Oct'11-12</td>\n",
       "      <td>android</td>\n",
       "      <td>12183</td>\n",
       "      <td>443437</td>\n",
       "      <td>2.747403</td>\n",
       "      <td>95948</td>\n",
       "      <td>12.697503</td>\n",
       "    </tr>\n",
       "    <tr>\n",
       "      <th>31</th>\n",
       "      <td>Oct'11-12</td>\n",
       "      <td>c#</td>\n",
       "      <td>12697</td>\n",
       "      <td>443437</td>\n",
       "      <td>2.863315</td>\n",
       "      <td>95948</td>\n",
       "      <td>13.233210</td>\n",
       "    </tr>\n",
       "    <tr>\n",
       "      <th>38</th>\n",
       "      <td>Oct'11-12</td>\n",
       "      <td>c++</td>\n",
       "      <td>5578</td>\n",
       "      <td>443437</td>\n",
       "      <td>1.257901</td>\n",
       "      <td>95948</td>\n",
       "      <td>5.813566</td>\n",
       "    </tr>\n",
       "    <tr>\n",
       "      <th>37</th>\n",
       "      <td>Oct'11-12</td>\n",
       "      <td>html</td>\n",
       "      <td>5655</td>\n",
       "      <td>443437</td>\n",
       "      <td>1.275266</td>\n",
       "      <td>95948</td>\n",
       "      <td>5.893817</td>\n",
       "    </tr>\n",
       "    <tr>\n",
       "      <th>36</th>\n",
       "      <td>Oct'11-12</td>\n",
       "      <td>ios</td>\n",
       "      <td>6449</td>\n",
       "      <td>443437</td>\n",
       "      <td>1.454322</td>\n",
       "      <td>95948</td>\n",
       "      <td>6.721349</td>\n",
       "    </tr>\n",
       "    <tr>\n",
       "      <th>30</th>\n",
       "      <td>Oct'11-12</td>\n",
       "      <td>java</td>\n",
       "      <td>12967</td>\n",
       "      <td>443437</td>\n",
       "      <td>2.924203</td>\n",
       "      <td>95948</td>\n",
       "      <td>13.514612</td>\n",
       "    </tr>\n",
       "    <tr>\n",
       "      <th>32</th>\n",
       "      <td>Oct'11-12</td>\n",
       "      <td>javascript</td>\n",
       "      <td>12225</td>\n",
       "      <td>443437</td>\n",
       "      <td>2.756874</td>\n",
       "      <td>95948</td>\n",
       "      <td>12.741277</td>\n",
       "    </tr>\n",
       "    <tr>\n",
       "      <th>35</th>\n",
       "      <td>Oct'11-12</td>\n",
       "      <td>jquery</td>\n",
       "      <td>10656</td>\n",
       "      <td>443437</td>\n",
       "      <td>2.403047</td>\n",
       "      <td>95948</td>\n",
       "      <td>11.106016</td>\n",
       "    </tr>\n",
       "    <tr>\n",
       "      <th>34</th>\n",
       "      <td>Oct'11-12</td>\n",
       "      <td>php</td>\n",
       "      <td>11962</td>\n",
       "      <td>443437</td>\n",
       "      <td>2.697565</td>\n",
       "      <td>95948</td>\n",
       "      <td>12.467170</td>\n",
       "    </tr>\n",
       "    <tr>\n",
       "      <th>39</th>\n",
       "      <td>Oct'11-12</td>\n",
       "      <td>python</td>\n",
       "      <td>5576</td>\n",
       "      <td>443437</td>\n",
       "      <td>1.257450</td>\n",
       "      <td>95948</td>\n",
       "      <td>5.811481</td>\n",
       "    </tr>\n",
       "  </tbody>\n",
       "</table>\n",
       "</div>"
      ],
      "text/plain": [
       "   QuestCreationYear   QuestTags  YearTagCount  TotalYearCount  Percentage  \\\n",
       "1          Oct'08-09        .net          2014           77299    2.605467   \n",
       "3          Oct'08-09     asp.net          1710           77299    2.212189   \n",
       "0          Oct'08-09          c#          3682           77299    4.763322   \n",
       "6          Oct'08-09         c++          1285           77299    1.662376   \n",
       "8          Oct'08-09         ios           988           77299    1.278154   \n",
       "2          Oct'08-09        java          1846           77299    2.388129   \n",
       "5          Oct'08-09  javascript          1382           77299    1.787863   \n",
       "9          Oct'08-09      jquery           976           77299    1.262630   \n",
       "4          Oct'08-09         php          1468           77299    1.899119   \n",
       "7          Oct'08-09      python          1023           77299    1.323432   \n",
       "16         Oct'09-10        .net          2911          173761    1.675290   \n",
       "17         Oct'09-10     asp.net          2871          173761    1.652269   \n",
       "10         Oct'09-10          c#          6729          173761    3.872561   \n",
       "18         Oct'09-10         c++          2705          173761    1.556736   \n",
       "15         Oct'09-10         ios          3249          173761    1.869810   \n",
       "11         Oct'09-10        java          4492          173761    2.585160   \n",
       "13         Oct'09-10  javascript          3660          173761    2.106341   \n",
       "14         Oct'09-10      jquery          3476          173761    2.000449   \n",
       "12         Oct'09-10         php          4362          173761    2.510345   \n",
       "19         Oct'09-10      python          2378          173761    1.368546   \n",
       "24         Oct'10-11     android          7289          315059    2.313535   \n",
       "28         Oct'10-11     asp.net          3964          315059    1.258177   \n",
       "20         Oct'10-11          c#         10348          315059    3.284464   \n",
       "27         Oct'10-11         c++          4259          315059    1.351810   \n",
       "26         Oct'10-11         ios          5208          315059    1.653024   \n",
       "22         Oct'10-11        java          8522          315059    2.704890   \n",
       "23         Oct'10-11  javascript          7853          315059    2.492549   \n",
       "25         Oct'10-11      jquery          7161          315059    2.272908   \n",
       "21         Oct'10-11         php          8546          315059    2.712508   \n",
       "29         Oct'10-11      python          3923          315059    1.245164   \n",
       "33         Oct'11-12     android         12183          443437    2.747403   \n",
       "31         Oct'11-12          c#         12697          443437    2.863315   \n",
       "38         Oct'11-12         c++          5578          443437    1.257901   \n",
       "37         Oct'11-12        html          5655          443437    1.275266   \n",
       "36         Oct'11-12         ios          6449          443437    1.454322   \n",
       "30         Oct'11-12        java         12967          443437    2.924203   \n",
       "32         Oct'11-12  javascript         12225          443437    2.756874   \n",
       "35         Oct'11-12      jquery         10656          443437    2.403047   \n",
       "34         Oct'11-12         php         11962          443437    2.697565   \n",
       "39         Oct'11-12      python          5576          443437    1.257450   \n",
       "\n",
       "    TopTagTotalCount  PercentageAmongstTop  \n",
       "1              16374             12.299988  \n",
       "3              16374             10.443386  \n",
       "0              16374             22.486869  \n",
       "6              16374              7.847807  \n",
       "8              16374              6.033956  \n",
       "2              16374             11.273971  \n",
       "5              16374              8.440210  \n",
       "9              16374              5.960669  \n",
       "4              16374              8.965433  \n",
       "7              16374              6.247710  \n",
       "16             36833              7.903239  \n",
       "17             36833              7.794641  \n",
       "10             36833             18.268944  \n",
       "18             36833              7.343958  \n",
       "15             36833              8.820894  \n",
       "11             36833             12.195585  \n",
       "13             36833              9.936742  \n",
       "14             36833              9.437189  \n",
       "12             36833             11.842641  \n",
       "19             36833              6.456167  \n",
       "24             67073             10.867264  \n",
       "28             67073              5.909979  \n",
       "20             67073             15.427967  \n",
       "27             67073              6.349798  \n",
       "26             67073              7.764674  \n",
       "22             67073             12.705560  \n",
       "23             67073             11.708139  \n",
       "25             67073             10.676427  \n",
       "21             67073             12.741342  \n",
       "29             67073              5.848851  \n",
       "33             95948             12.697503  \n",
       "31             95948             13.233210  \n",
       "38             95948              5.813566  \n",
       "37             95948              5.893817  \n",
       "36             95948              6.721349  \n",
       "30             95948             13.514612  \n",
       "32             95948             12.741277  \n",
       "35             95948             11.106016  \n",
       "34             95948             12.467170  \n",
       "39             95948              5.811481  "
      ]
     },
     "execution_count": 31,
     "metadata": {},
     "output_type": "execute_result"
    }
   ],
   "source": [
    "topYearQuestTag.head(40)"
   ]
  },
  {
   "cell_type": "markdown",
   "metadata": {},
   "source": [
    "# Graph Plot 2: Change in Top 10 Tags Over  the Years"
   ]
  },
  {
   "cell_type": "code",
   "execution_count": 32,
   "metadata": {
    "collapsed": false,
    "scrolled": false
   },
   "outputs": [
    {
     "data": {
      "text/html": [
       "\n",
       "    <div class=\"bk-root\">\n",
       "        <a href=\"http://bokeh.pydata.org\" target=\"_blank\" class=\"bk-logo bk-logo-small bk-logo-notebook\"></a>\n",
       "        <span id=\"5e27f42f-1fce-46b2-8c4c-f41cfa721f5d\">Loading BokehJS ...</span>\n",
       "    </div>"
      ]
     },
     "metadata": {},
     "output_type": "display_data"
    },
    {
     "data": {
      "application/javascript": [
       "\n",
       "(function(global) {\n",
       "  function now() {\n",
       "    return new Date();\n",
       "  }\n",
       "\n",
       "  var force = \"1\";\n",
       "\n",
       "  if (typeof (window._bokeh_onload_callbacks) === \"undefined\" || force !== \"\") {\n",
       "    window._bokeh_onload_callbacks = [];\n",
       "    window._bokeh_is_loading = undefined;\n",
       "  }\n",
       "\n",
       "\n",
       "  \n",
       "  if (typeof (window._bokeh_timeout) === \"undefined\" || force !== \"\") {\n",
       "    window._bokeh_timeout = Date.now() + 5000;\n",
       "    window._bokeh_failed_load = false;\n",
       "  }\n",
       "\n",
       "  var NB_LOAD_WARNING = {'data': {'text/html':\n",
       "     \"<div style='background-color: #fdd'>\\n\"+\n",
       "     \"<p>\\n\"+\n",
       "     \"BokehJS does not appear to have successfully loaded. If loading BokehJS from CDN, this \\n\"+\n",
       "     \"may be due to a slow or bad network connection. Possible fixes:\\n\"+\n",
       "     \"</p>\\n\"+\n",
       "     \"<ul>\\n\"+\n",
       "     \"<li>re-rerun `output_notebook()` to attempt to load from CDN again, or</li>\\n\"+\n",
       "     \"<li>use INLINE resources instead, as so:</li>\\n\"+\n",
       "     \"</ul>\\n\"+\n",
       "     \"<code>\\n\"+\n",
       "     \"from bokeh.resources import INLINE\\n\"+\n",
       "     \"output_notebook(resources=INLINE)\\n\"+\n",
       "     \"</code>\\n\"+\n",
       "     \"</div>\"}};\n",
       "\n",
       "  function display_loaded() {\n",
       "    if (window.Bokeh !== undefined) {\n",
       "      Bokeh.$(\"#5e27f42f-1fce-46b2-8c4c-f41cfa721f5d\").text(\"BokehJS successfully loaded.\");\n",
       "    } else if (Date.now() < window._bokeh_timeout) {\n",
       "      setTimeout(display_loaded, 100)\n",
       "    }\n",
       "  }\n",
       "\n",
       "  function run_callbacks() {\n",
       "    window._bokeh_onload_callbacks.forEach(function(callback) { callback() });\n",
       "    delete window._bokeh_onload_callbacks\n",
       "    console.info(\"Bokeh: all callbacks have finished\");\n",
       "  }\n",
       "\n",
       "  function load_libs(js_urls, callback) {\n",
       "    window._bokeh_onload_callbacks.push(callback);\n",
       "    if (window._bokeh_is_loading > 0) {\n",
       "      console.log(\"Bokeh: BokehJS is being loaded, scheduling callback at\", now());\n",
       "      return null;\n",
       "    }\n",
       "    if (js_urls == null || js_urls.length === 0) {\n",
       "      run_callbacks();\n",
       "      return null;\n",
       "    }\n",
       "    console.log(\"Bokeh: BokehJS not loaded, scheduling load and callback at\", now());\n",
       "    window._bokeh_is_loading = js_urls.length;\n",
       "    for (var i = 0; i < js_urls.length; i++) {\n",
       "      var url = js_urls[i];\n",
       "      var s = document.createElement('script');\n",
       "      s.src = url;\n",
       "      s.async = false;\n",
       "      s.onreadystatechange = s.onload = function() {\n",
       "        window._bokeh_is_loading--;\n",
       "        if (window._bokeh_is_loading === 0) {\n",
       "          console.log(\"Bokeh: all BokehJS libraries loaded\");\n",
       "          run_callbacks()\n",
       "        }\n",
       "      };\n",
       "      s.onerror = function() {\n",
       "        console.warn(\"failed to load library \" + url);\n",
       "      };\n",
       "      console.log(\"Bokeh: injecting script tag for BokehJS library: \", url);\n",
       "      document.getElementsByTagName(\"head\")[0].appendChild(s);\n",
       "    }\n",
       "  };var element = document.getElementById(\"5e27f42f-1fce-46b2-8c4c-f41cfa721f5d\");\n",
       "  if (element == null) {\n",
       "    console.log(\"Bokeh: ERROR: autoload.js configured with elementid '5e27f42f-1fce-46b2-8c4c-f41cfa721f5d' but no matching script tag was found. \")\n",
       "    return false;\n",
       "  }\n",
       "\n",
       "  var js_urls = ['https://cdn.pydata.org/bokeh/release/bokeh-0.12.2.min.js', 'https://cdn.pydata.org/bokeh/release/bokeh-widgets-0.12.2.min.js', 'https://cdn.pydata.org/bokeh/release/bokeh-compiler-0.12.2.min.js'];\n",
       "\n",
       "  var inline_js = [\n",
       "    function(Bokeh) {\n",
       "      Bokeh.set_log_level(\"info\");\n",
       "    },\n",
       "    \n",
       "    function(Bokeh) {\n",
       "      \n",
       "      Bokeh.$(\"#5e27f42f-1fce-46b2-8c4c-f41cfa721f5d\").text(\"BokehJS is loading...\");\n",
       "    },\n",
       "    function(Bokeh) {\n",
       "      console.log(\"Bokeh: injecting CSS: https://cdn.pydata.org/bokeh/release/bokeh-0.12.2.min.css\");\n",
       "      Bokeh.embed.inject_css(\"https://cdn.pydata.org/bokeh/release/bokeh-0.12.2.min.css\");\n",
       "      console.log(\"Bokeh: injecting CSS: https://cdn.pydata.org/bokeh/release/bokeh-widgets-0.12.2.min.css\");\n",
       "      Bokeh.embed.inject_css(\"https://cdn.pydata.org/bokeh/release/bokeh-widgets-0.12.2.min.css\");\n",
       "    }\n",
       "  ];\n",
       "\n",
       "  function run_inline_js() {\n",
       "    \n",
       "    if ((window.Bokeh !== undefined) || (force === \"1\")) {\n",
       "      for (var i = 0; i < inline_js.length; i++) {\n",
       "        inline_js[i](window.Bokeh);\n",
       "      }if (force === \"1\") {\n",
       "        display_loaded();\n",
       "      }} else if (Date.now() < window._bokeh_timeout) {\n",
       "      setTimeout(run_inline_js, 100);\n",
       "    } else if (!window._bokeh_failed_load) {\n",
       "      console.log(\"Bokeh: BokehJS failed to load within specified timeout.\");\n",
       "      window._bokeh_failed_load = true;\n",
       "    } else if (!force) {\n",
       "      var cell = $(\"#5e27f42f-1fce-46b2-8c4c-f41cfa721f5d\").parents('.cell').data().cell;\n",
       "      cell.output_area.append_execute_result(NB_LOAD_WARNING)\n",
       "    }\n",
       "\n",
       "  }\n",
       "\n",
       "  if (window._bokeh_is_loading === 0) {\n",
       "    console.log(\"Bokeh: BokehJS loaded, going straight to plotting\");\n",
       "    run_inline_js();\n",
       "  } else {\n",
       "    load_libs(js_urls, function() {\n",
       "      console.log(\"Bokeh: BokehJS plotting callback run at\", now());\n",
       "      run_inline_js();\n",
       "    });\n",
       "  }\n",
       "}(this));"
      ]
     },
     "metadata": {},
     "output_type": "display_data"
    },
    {
     "data": {
      "text/html": [
       "\n",
       "\n",
       "    <div class=\"bk-root\">\n",
       "        <div class=\"plotdiv\" id=\"e4342a64-88cb-473d-91ee-2e15defe20b3\"></div>\n",
       "    </div>\n",
       "<script type=\"text/javascript\">\n",
       "  \n",
       "  (function(global) {\n",
       "    function now() {\n",
       "      return new Date();\n",
       "    }\n",
       "  \n",
       "    var force = \"\";\n",
       "  \n",
       "    if (typeof (window._bokeh_onload_callbacks) === \"undefined\" || force !== \"\") {\n",
       "      window._bokeh_onload_callbacks = [];\n",
       "      window._bokeh_is_loading = undefined;\n",
       "    }\n",
       "  \n",
       "  \n",
       "    \n",
       "    if (typeof (window._bokeh_timeout) === \"undefined\" || force !== \"\") {\n",
       "      window._bokeh_timeout = Date.now() + 0;\n",
       "      window._bokeh_failed_load = false;\n",
       "    }\n",
       "  \n",
       "    var NB_LOAD_WARNING = {'data': {'text/html':\n",
       "       \"<div style='background-color: #fdd'>\\n\"+\n",
       "       \"<p>\\n\"+\n",
       "       \"BokehJS does not appear to have successfully loaded. If loading BokehJS from CDN, this \\n\"+\n",
       "       \"may be due to a slow or bad network connection. Possible fixes:\\n\"+\n",
       "       \"</p>\\n\"+\n",
       "       \"<ul>\\n\"+\n",
       "       \"<li>re-rerun `output_notebook()` to attempt to load from CDN again, or</li>\\n\"+\n",
       "       \"<li>use INLINE resources instead, as so:</li>\\n\"+\n",
       "       \"</ul>\\n\"+\n",
       "       \"<code>\\n\"+\n",
       "       \"from bokeh.resources import INLINE\\n\"+\n",
       "       \"output_notebook(resources=INLINE)\\n\"+\n",
       "       \"</code>\\n\"+\n",
       "       \"</div>\"}};\n",
       "  \n",
       "    function display_loaded() {\n",
       "      if (window.Bokeh !== undefined) {\n",
       "        Bokeh.$(\"#e4342a64-88cb-473d-91ee-2e15defe20b3\").text(\"BokehJS successfully loaded.\");\n",
       "      } else if (Date.now() < window._bokeh_timeout) {\n",
       "        setTimeout(display_loaded, 100)\n",
       "      }\n",
       "    }\n",
       "  \n",
       "    function run_callbacks() {\n",
       "      window._bokeh_onload_callbacks.forEach(function(callback) { callback() });\n",
       "      delete window._bokeh_onload_callbacks\n",
       "      console.info(\"Bokeh: all callbacks have finished\");\n",
       "    }\n",
       "  \n",
       "    function load_libs(js_urls, callback) {\n",
       "      window._bokeh_onload_callbacks.push(callback);\n",
       "      if (window._bokeh_is_loading > 0) {\n",
       "        console.log(\"Bokeh: BokehJS is being loaded, scheduling callback at\", now());\n",
       "        return null;\n",
       "      }\n",
       "      if (js_urls == null || js_urls.length === 0) {\n",
       "        run_callbacks();\n",
       "        return null;\n",
       "      }\n",
       "      console.log(\"Bokeh: BokehJS not loaded, scheduling load and callback at\", now());\n",
       "      window._bokeh_is_loading = js_urls.length;\n",
       "      for (var i = 0; i < js_urls.length; i++) {\n",
       "        var url = js_urls[i];\n",
       "        var s = document.createElement('script');\n",
       "        s.src = url;\n",
       "        s.async = false;\n",
       "        s.onreadystatechange = s.onload = function() {\n",
       "          window._bokeh_is_loading--;\n",
       "          if (window._bokeh_is_loading === 0) {\n",
       "            console.log(\"Bokeh: all BokehJS libraries loaded\");\n",
       "            run_callbacks()\n",
       "          }\n",
       "        };\n",
       "        s.onerror = function() {\n",
       "          console.warn(\"failed to load library \" + url);\n",
       "        };\n",
       "        console.log(\"Bokeh: injecting script tag for BokehJS library: \", url);\n",
       "        document.getElementsByTagName(\"head\")[0].appendChild(s);\n",
       "      }\n",
       "    };var element = document.getElementById(\"e4342a64-88cb-473d-91ee-2e15defe20b3\");\n",
       "    if (element == null) {\n",
       "      console.log(\"Bokeh: ERROR: autoload.js configured with elementid 'e4342a64-88cb-473d-91ee-2e15defe20b3' but no matching script tag was found. \")\n",
       "      return false;\n",
       "    }\n",
       "  \n",
       "    var js_urls = [];\n",
       "  \n",
       "    var inline_js = [\n",
       "      function(Bokeh) {\n",
       "        Bokeh.$(function() {\n",
       "            var docs_json = {\"a3e1b086-ecb6-4306-bf77-277dbc637a26\":{\"roots\":{\"references\":[{\"attributes\":{\"plot\":{\"id\":\"347d030e-cc91-46aa-b20a-db951d02a0ca\",\"subtype\":\"Chart\",\"type\":\"Plot\"}},\"id\":\"b2513029-a6fc-4d8f-8d02-8064d1393667\",\"type\":\"SaveTool\"},{\"attributes\":{\"fill_alpha\":{\"field\":\"fill_alpha\"},\"fill_color\":{\"field\":\"color\"},\"height\":{\"field\":\"height\",\"units\":\"data\"},\"line_color\":{\"field\":\"line_color\"},\"width\":{\"field\":\"width\",\"units\":\"data\"},\"x\":{\"field\":\"x\"},\"y\":{\"field\":\"y\"}},\"id\":\"3e936652-6da5-4372-96f6-308baf840b24\",\"type\":\"Rect\"},{\"attributes\":{\"data_source\":{\"id\":\"ef15782e-fbc7-450e-82b5-bd180855c9f7\",\"type\":\"ColumnDataSource\"},\"glyph\":{\"id\":\"648415b4-0dbe-4174-8bd1-279023c9af45\",\"type\":\"Rect\"},\"hover_glyph\":null,\"nonselection_glyph\":null,\"selection_glyph\":null},\"id\":\"94195d89-e34b-4292-b8e2-563c25d3ce67\",\"type\":\"GlyphRenderer\"},{\"attributes\":{\"fill_alpha\":{\"field\":\"fill_alpha\"},\"fill_color\":{\"field\":\"color\"},\"height\":{\"field\":\"height\",\"units\":\"data\"},\"line_color\":{\"field\":\"line_color\"},\"width\":{\"field\":\"width\",\"units\":\"data\"},\"x\":{\"field\":\"x\"},\"y\":{\"field\":\"y\"}},\"id\":\"0c00002e-be63-4274-8803-4b1808c0d4be\",\"type\":\"Rect\"},{\"attributes\":{\"data_source\":{\"id\":\"1de14ecc-6580-4bbd-9067-7d741a5b1012\",\"type\":\"ColumnDataSource\"},\"glyph\":{\"id\":\"cd933be8-96a3-4f25-8164-06d372b26638\",\"type\":\"Rect\"},\"hover_glyph\":null,\"nonselection_glyph\":null,\"selection_glyph\":null},\"id\":\"c24e938c-11d5-41cf-9395-4fbb754f901a\",\"type\":\"GlyphRenderer\"},{\"attributes\":{\"callback\":null,\"column_names\":[\"line_color\",\"height\",\"x\",\"fill_alpha\",\"width\",\"label\",\"line_alpha\",\"color\",\"y\"],\"data\":{\"PercentageAmongstTop\":[7.764472159373103],\"QuestCreationYear\":[\"Oct'14-15\"],\"QuestTags\":[\"html\"],\"YearTagCount\":[11256],\"chart_index\":[{\"PercentageAmongstTop\":7.764472159373103,\"QuestCreationYear\":\"Oct'14-15\",\"QuestTags\":\"html\",\"YearTagCount\":11256}],\"color\":[\"#ADD8E6\"],\"fill_alpha\":[0.8],\"height\":[7.764472159373103],\"label\":[{\"PercentageAmongstTop\":7.764472159373103,\"QuestCreationYear\":\"Oct'14-15\",\"QuestTags\":\"html\",\"YearTagCount\":11256}],\"line_alpha\":[1.0],\"line_color\":[\"#9370DB\"],\"width\":[1.0],\"x\":[\"Oct'14-15\"],\"y\":[30.670906682854145]}},\"id\":\"a1e1759a-b9d2-4b65-93b5-0272d19103d3\",\"type\":\"ColumnDataSource\"},{\"attributes\":{\"data_source\":{\"id\":\"1f242e42-7d9a-49af-ad69-29f18b4afa79\",\"type\":\"ColumnDataSource\"},\"glyph\":{\"id\":\"3e936652-6da5-4372-96f6-308baf840b24\",\"type\":\"Rect\"},\"hover_glyph\":null,\"nonselection_glyph\":null,\"selection_glyph\":null},\"id\":\"c9d72327-f222-4fe7-97da-fa50704321e1\",\"type\":\"GlyphRenderer\"},{\"attributes\":{\"data_source\":{\"id\":\"24eae525-572f-4450-934f-cf972b7a93d0\",\"type\":\"ColumnDataSource\"},\"glyph\":{\"id\":\"3091deda-7577-47f5-8883-a6fe6481787c\",\"type\":\"Rect\"},\"hover_glyph\":null,\"nonselection_glyph\":null,\"selection_glyph\":null},\"id\":\"2951eee1-63ba-4046-bb90-9ec890a51a51\",\"type\":\"GlyphRenderer\"},{\"attributes\":{\"fill_alpha\":{\"field\":\"fill_alpha\"},\"fill_color\":{\"field\":\"color\"},\"height\":{\"field\":\"height\",\"units\":\"data\"},\"line_color\":{\"field\":\"line_color\"},\"width\":{\"field\":\"width\",\"units\":\"data\"},\"x\":{\"field\":\"x\"},\"y\":{\"field\":\"y\"}},\"id\":\"0857df33-32d5-4cf5-a7fc-d16a677c153a\",\"type\":\"Rect\"},{\"attributes\":{\"data_source\":{\"id\":\"5e82c1c7-e731-403a-b117-ff4b92bfdb14\",\"type\":\"ColumnDataSource\"},\"glyph\":{\"id\":\"07a79020-48de-4c9e-be24-920c26dbdc9a\",\"type\":\"Rect\"},\"hover_glyph\":null,\"nonselection_glyph\":null,\"selection_glyph\":null},\"id\":\"05a237ca-3a04-46fe-9676-dfe68987cb0a\",\"type\":\"GlyphRenderer\"},{\"attributes\":{\"callback\":null,\"column_names\":[\"line_color\",\"height\",\"x\",\"fill_alpha\",\"width\",\"label\",\"line_alpha\",\"color\",\"y\"],\"data\":{\"PercentageAmongstTop\":[8.596379890734507],\"QuestCreationYear\":[\"Oct'14-15\"],\"QuestTags\":[\"jquery\"],\"YearTagCount\":[12462],\"chart_index\":[{\"PercentageAmongstTop\":8.596379890734507,\"QuestCreationYear\":\"Oct'14-15\",\"QuestTags\":\"jquery\",\"YearTagCount\":12462}],\"color\":[\"#87CEFA\"],\"fill_alpha\":[0.8],\"height\":[8.596379890734507],\"label\":[{\"PercentageAmongstTop\":8.596379890734507,\"QuestCreationYear\":\"Oct'14-15\",\"QuestTags\":\"jquery\",\"YearTagCount\":12462}],\"line_alpha\":[1.0],\"line_color\":[\"#90EE90\"],\"width\":[1.0],\"x\":[\"Oct'14-15\"],\"y\":[76.1009326196126]}},\"id\":\"047812cb-1fa5-4f2c-8a7e-2a0c35897873\",\"type\":\"ColumnDataSource\"},{\"attributes\":{\"callback\":null,\"column_names\":[\"line_color\",\"height\",\"x\",\"fill_alpha\",\"width\",\"label\",\"line_alpha\",\"color\",\"y\"],\"data\":{\"PercentageAmongstTop\":[11.842641109874297],\"QuestCreationYear\":[\"Oct'09-10\"],\"QuestTags\":[\"php\"],\"YearTagCount\":[4362],\"chart_index\":[{\"PercentageAmongstTop\":11.842641109874297,\"QuestCreationYear\":\"Oct'09-10\",\"QuestTags\":\"php\",\"YearTagCount\":4362}],\"color\":[\"#20B2AA\"],\"fill_alpha\":[0.8],\"height\":[11.842641109874297],\"label\":[{\"PercentageAmongstTop\":11.842641109874297,\"QuestCreationYear\":\"Oct'09-10\",\"QuestTags\":\"php\",\"YearTagCount\":4362}],\"line_alpha\":[1.0],\"line_color\":[\"#FFF0F5\"],\"width\":[1.0],\"x\":[\"Oct'09-10\"],\"y\":[87.62251242092688]}},\"id\":\"465e7fbe-35f4-4ccb-8f4c-3ea1b5088b8c\",\"type\":\"ColumnDataSource\"},{\"attributes\":{\"fill_alpha\":{\"field\":\"fill_alpha\"},\"fill_color\":{\"field\":\"color\"},\"height\":{\"field\":\"height\",\"units\":\"data\"},\"line_color\":{\"field\":\"line_color\"},\"width\":{\"field\":\"width\",\"units\":\"data\"},\"x\":{\"field\":\"x\"},\"y\":{\"field\":\"y\"}},\"id\":\"1b2716fa-1710-4fee-92da-268b11e70866\",\"type\":\"Rect\"},{\"attributes\":{\"callback\":null,\"end\":105.00000000000001},\"id\":\"f2248792-b79c-46c5-8d4c-1347acfc60a8\",\"type\":\"Range1d\"},{\"attributes\":{\"fill_alpha\":{\"field\":\"fill_alpha\"},\"fill_color\":{\"field\":\"color\"},\"height\":{\"field\":\"height\",\"units\":\"data\"},\"line_color\":{\"field\":\"line_color\"},\"width\":{\"field\":\"width\",\"units\":\"data\"},\"x\":{\"field\":\"x\"},\"y\":{\"field\":\"y\"}},\"id\":\"5ba075ab-823c-43d4-bb98-f8d5432464c3\",\"type\":\"Rect\"},{\"attributes\":{\"data_source\":{\"id\":\"57abafaa-2868-4b6b-8b4a-66b472f09135\",\"type\":\"ColumnDataSource\"},\"glyph\":{\"id\":\"06630a02-db08-4ff2-bcce-1e6b1f4eaf2a\",\"type\":\"Rect\"},\"hover_glyph\":null,\"nonselection_glyph\":null,\"selection_glyph\":null},\"id\":\"6b804f1e-ae57-40d3-9de4-30875fe7fea6\",\"type\":\"GlyphRenderer\"},{\"attributes\":{\"fill_alpha\":{\"field\":\"fill_alpha\"},\"fill_color\":{\"field\":\"color\"},\"height\":{\"field\":\"height\",\"units\":\"data\"},\"line_color\":{\"field\":\"line_color\"},\"width\":{\"field\":\"width\",\"units\":\"data\"},\"x\":{\"field\":\"x\"},\"y\":{\"field\":\"y\"}},\"id\":\"4cb59ab1-7a0b-4caf-be98-f2d11239b6fb\",\"type\":\"Rect\"},{\"attributes\":{\"fill_alpha\":{\"field\":\"fill_alpha\"},\"fill_color\":{\"field\":\"color\"},\"height\":{\"field\":\"height\",\"units\":\"data\"},\"line_color\":{\"field\":\"line_color\"},\"width\":{\"field\":\"width\",\"units\":\"data\"},\"x\":{\"field\":\"x\"},\"y\":{\"field\":\"y\"}},\"id\":\"cd933be8-96a3-4f25-8164-06d372b26638\",\"type\":\"Rect\"},{\"attributes\":{\"fill_alpha\":{\"field\":\"fill_alpha\"},\"fill_color\":{\"field\":\"color\"},\"height\":{\"field\":\"height\",\"units\":\"data\"},\"line_color\":{\"field\":\"line_color\"},\"width\":{\"field\":\"width\",\"units\":\"data\"},\"x\":{\"field\":\"x\"},\"y\":{\"field\":\"y\"}},\"id\":\"e8fb8399-7542-4e9d-8c22-713778710148\",\"type\":\"Rect\"},{\"attributes\":{\"data_source\":{\"id\":\"df897f7f-e777-48b0-8b9c-4b798c7638ed\",\"type\":\"ColumnDataSource\"},\"glyph\":{\"id\":\"aab6abb4-d607-4299-ab59-23fc3a58a753\",\"type\":\"Rect\"},\"hover_glyph\":null,\"nonselection_glyph\":null,\"selection_glyph\":null},\"id\":\"1d60c25f-a340-4c74-aabb-27fe6c14fdf2\",\"type\":\"GlyphRenderer\"},{\"attributes\":{\"callback\":null,\"column_names\":[\"line_color\",\"height\",\"x\",\"fill_alpha\",\"width\",\"label\",\"line_alpha\",\"color\",\"y\"],\"data\":{\"PercentageAmongstTop\":[15.55203209063436],\"QuestCreationYear\":[\"Oct'13-14\"],\"QuestTags\":[\"javascript\"],\"YearTagCount\":[22952],\"chart_index\":[{\"PercentageAmongstTop\":15.55203209063436,\"QuestCreationYear\":\"Oct'13-14\",\"QuestTags\":\"javascript\",\"YearTagCount\":22952}],\"color\":[\"#FFB6C1\"],\"fill_alpha\":[0.8],\"height\":[15.55203209063436],\"label\":[{\"PercentageAmongstTop\":15.55203209063436,\"QuestCreationYear\":\"Oct'13-14\",\"QuestTags\":\"javascript\",\"YearTagCount\":22952}],\"line_alpha\":[1.0],\"line_color\":[\"#778899\"],\"width\":[1.0],\"x\":[\"Oct'13-14\"],\"y\":[63.241452209619055]}},\"id\":\"7093144b-00d5-401d-80f1-6ecb0bda43d6\",\"type\":\"ColumnDataSource\"},{\"attributes\":{\"plot\":{\"id\":\"347d030e-cc91-46aa-b20a-db951d02a0ca\",\"subtype\":\"Chart\",\"type\":\"Plot\"}},\"id\":\"b74d131f-91b2-404a-bc96-f20307994b56\",\"type\":\"WheelZoomTool\"},{\"attributes\":{\"data_source\":{\"id\":\"17a466cc-00ce-4d5e-af28-6c4be804f253\",\"type\":\"ColumnDataSource\"},\"glyph\":{\"id\":\"3b6f4cfa-a6fb-44b2-98ea-d9e9386b2afa\",\"type\":\"Rect\"},\"hover_glyph\":null,\"nonselection_glyph\":null,\"selection_glyph\":null},\"id\":\"d5e9abb7-f1e4-49ec-96fc-f3e986357719\",\"type\":\"GlyphRenderer\"},{\"attributes\":{\"fill_alpha\":{\"field\":\"fill_alpha\"},\"fill_color\":{\"field\":\"color\"},\"height\":{\"field\":\"height\",\"units\":\"data\"},\"line_color\":{\"field\":\"line_color\"},\"width\":{\"field\":\"width\",\"units\":\"data\"},\"x\":{\"field\":\"x\"},\"y\":{\"field\":\"y\"}},\"id\":\"a6a18a33-7a65-4804-8f81-f76e61801515\",\"type\":\"Rect\"},{\"attributes\":{\"fill_alpha\":{\"field\":\"fill_alpha\"},\"fill_color\":{\"field\":\"color\"},\"height\":{\"field\":\"height\",\"units\":\"data\"},\"line_color\":{\"field\":\"line_color\"},\"width\":{\"field\":\"width\",\"units\":\"data\"},\"x\":{\"field\":\"x\"},\"y\":{\"field\":\"y\"}},\"id\":\"e9c2d804-72e7-4ec2-b320-d40af34d2fd7\",\"type\":\"Rect\"},{\"attributes\":{\"fill_alpha\":{\"field\":\"fill_alpha\"},\"fill_color\":{\"field\":\"color\"},\"height\":{\"field\":\"height\",\"units\":\"data\"},\"line_color\":{\"field\":\"line_color\"},\"width\":{\"field\":\"width\",\"units\":\"data\"},\"x\":{\"field\":\"x\"},\"y\":{\"field\":\"y\"}},\"id\":\"623cc360-0218-4866-a7ae-dc13649f512f\",\"type\":\"Rect\"},{\"attributes\":{\"callback\":null,\"column_names\":[\"line_color\",\"height\",\"x\",\"fill_alpha\",\"width\",\"label\",\"line_alpha\",\"color\",\"y\"],\"data\":{\"PercentageAmongstTop\":[5.960754021493136],\"QuestCreationYear\":[\"Oct'13-14\"],\"QuestTags\":[\"ios\"],\"YearTagCount\":[8797],\"chart_index\":[{\"PercentageAmongstTop\":5.960754021493136,\"QuestCreationYear\":\"Oct'13-14\",\"QuestTags\":\"ios\",\"YearTagCount\":8797}],\"color\":[\"#F08080\"],\"fill_alpha\":[0.8],\"height\":[5.960754021493136],\"label\":[{\"PercentageAmongstTop\":5.960754021493136,\"QuestCreationYear\":\"Oct'13-14\",\"QuestTags\":\"ios\",\"YearTagCount\":8797}],\"line_alpha\":[1.0],\"line_color\":[\"#D3D3D3\"],\"width\":[1.0],\"x\":[\"Oct'13-14\"],\"y\":[38.58566762884362]}},\"id\":\"a19f95fd-dd55-4100-ac55-2d042af05767\",\"type\":\"ColumnDataSource\"},{\"attributes\":{\"plot\":{\"id\":\"347d030e-cc91-46aa-b20a-db951d02a0ca\",\"subtype\":\"Chart\",\"type\":\"Plot\"}},\"id\":\"67cae6eb-e2fe-453f-b13e-b5baebd051eb\",\"type\":\"ResetTool\"},{\"attributes\":{\"data_source\":{\"id\":\"34df7372-fb7b-46b3-9a70-993f20737320\",\"type\":\"ColumnDataSource\"},\"glyph\":{\"id\":\"d8cb5f1d-bcb2-4569-9de3-1bf7d91e393c\",\"type\":\"Rect\"},\"hover_glyph\":null,\"nonselection_glyph\":null,\"selection_glyph\":null},\"id\":\"c04d5fcd-0917-4cc6-9fde-857f22008783\",\"type\":\"GlyphRenderer\"},{\"attributes\":{\"callback\":null,\"column_names\":[\"line_color\",\"height\",\"x\",\"fill_alpha\",\"width\",\"label\",\"line_alpha\",\"color\",\"y\"],\"data\":{\"PercentageAmongstTop\":[5.909978679945731],\"QuestCreationYear\":[\"Oct'10-11\"],\"QuestTags\":[\"asp.net\"],\"YearTagCount\":[3964],\"chart_index\":[{\"PercentageAmongstTop\":5.909978679945731,\"QuestCreationYear\":\"Oct'10-11\",\"QuestTags\":\"asp.net\",\"YearTagCount\":3964}],\"color\":[\"#F0E68C\"],\"fill_alpha\":[0.8],\"height\":[5.909978679945731],\"label\":[{\"PercentageAmongstTop\":5.909978679945731,\"QuestCreationYear\":\"Oct'10-11\",\"QuestTags\":\"asp.net\",\"YearTagCount\":3964}],\"line_alpha\":[1.0],\"line_color\":[\"#F0E68C\"],\"width\":[1.0],\"x\":[\"Oct'10-11\"],\"y\":[13.82225336573584]}},\"id\":\"970ef92f-6a68-416b-b650-d4e7e1478768\",\"type\":\"ColumnDataSource\"},{\"attributes\":{\"callback\":null,\"column_names\":[\"line_color\",\"height\",\"x\",\"fill_alpha\",\"width\",\"label\",\"line_alpha\",\"color\",\"y\"],\"data\":{\"PercentageAmongstTop\":[6.7213490640763744],\"QuestCreationYear\":[\"Oct'11-12\"],\"QuestTags\":[\"ios\"],\"YearTagCount\":[6449],\"chart_index\":[{\"PercentageAmongstTop\":6.7213490640763744,\"QuestCreationYear\":\"Oct'11-12\",\"QuestTags\":\"ios\",\"YearTagCount\":6449}],\"color\":[\"#F08080\"],\"fill_alpha\":[0.8],\"height\":[6.7213490640763744],\"label\":[{\"PercentageAmongstTop\":6.7213490640763744,\"QuestCreationYear\":\"Oct'11-12\",\"QuestTags\":\"ios\",\"YearTagCount\":6449}],\"line_alpha\":[1.0],\"line_color\":[\"#87CEFA\"],\"width\":[1.0],\"x\":[\"Oct'11-12\"],\"y\":[40.99877016717389]}},\"id\":\"cc930d16-cdc3-4bed-a84f-4e233fba3c92\",\"type\":\"ColumnDataSource\"},{\"attributes\":{\"callback\":null,\"column_names\":[\"line_color\",\"height\",\"x\",\"fill_alpha\",\"width\",\"label\",\"line_alpha\",\"color\",\"y\"],\"data\":{\"PercentageAmongstTop\":[9.814927089648792],\"QuestCreationYear\":[\"Oct'15-16\"],\"QuestTags\":[\"python\"],\"YearTagCount\":[15703],\"chart_index\":[{\"PercentageAmongstTop\":9.814927089648792,\"QuestCreationYear\":\"Oct'15-16\",\"QuestTags\":\"python\",\"YearTagCount\":15703}],\"color\":[\"#FFA07A\"],\"fill_alpha\":[0.8],\"height\":[9.814927089648792],\"label\":[{\"PercentageAmongstTop\":9.814927089648792,\"QuestCreationYear\":\"Oct'15-16\",\"QuestTags\":\"python\",\"YearTagCount\":15703}],\"line_alpha\":[1.0],\"line_color\":[\"#40E0D0\"],\"width\":[1.0],\"x\":[\"Oct'15-16\"],\"y\":[95.09253645517559]}},\"id\":\"c877f0fa-ead5-4a47-a400-a9bba6f8e8f8\",\"type\":\"ColumnDataSource\"},{\"attributes\":{\"data_source\":{\"id\":\"7920fd73-4dea-43c0-884a-470b9158a8b7\",\"type\":\"ColumnDataSource\"},\"glyph\":{\"id\":\"a7268fcb-c1c4-4567-a7b6-c0db8973f837\",\"type\":\"Rect\"},\"hover_glyph\":null,\"nonselection_glyph\":null,\"selection_glyph\":null},\"id\":\"2901b3fa-7b4f-4334-8d5d-c7391f29c2e5\",\"type\":\"GlyphRenderer\"},{\"attributes\":{\"callback\":null,\"column_names\":[\"line_color\",\"height\",\"x\",\"fill_alpha\",\"width\",\"label\",\"line_alpha\",\"color\",\"y\"],\"data\":{\"PercentageAmongstTop\":[5.796099795367999],\"QuestCreationYear\":[\"Oct'13-14\"],\"QuestTags\":[\"css\"],\"YearTagCount\":[8554],\"chart_index\":[{\"PercentageAmongstTop\":5.796099795367999,\"QuestCreationYear\":\"Oct'13-14\",\"QuestTags\":\"css\",\"YearTagCount\":8554}],\"color\":[\"#90EE90\"],\"fill_alpha\":[0.8],\"height\":[5.796099795367999],\"label\":[{\"PercentageAmongstTop\":5.796099795367999,\"QuestCreationYear\":\"Oct'13-14\",\"QuestTags\":\"css\",\"YearTagCount\":8554}],\"line_alpha\":[1.0],\"line_color\":[\"#F08080\"],\"width\":[1.0],\"x\":[\"Oct'13-14\"],\"y\":[24.847881177921426]}},\"id\":\"c61f1335-da40-4418-a91e-28581309a63b\",\"type\":\"ColumnDataSource\"},{\"attributes\":{\"callback\":null,\"column_names\":[\"line_color\",\"height\",\"x\",\"fill_alpha\",\"width\",\"label\",\"line_alpha\",\"color\",\"y\"],\"data\":{\"PercentageAmongstTop\":[9.875188031060699],\"QuestCreationYear\":[\"Oct'13-14\"],\"QuestTags\":[\"jquery\"],\"YearTagCount\":[14574],\"chart_index\":[{\"PercentageAmongstTop\":9.875188031060699,\"QuestCreationYear\":\"Oct'13-14\",\"QuestTags\":\"jquery\",\"YearTagCount\":14574}],\"color\":[\"#87CEFA\"],\"fill_alpha\":[0.8],\"height\":[9.875188031060699],\"label\":[{\"PercentageAmongstTop\":9.875188031060699,\"QuestCreationYear\":\"Oct'13-14\",\"QuestTags\":\"jquery\",\"YearTagCount\":14574}],\"line_alpha\":[1.0],\"line_color\":[\"#FFA07A\"],\"width\":[1.0],\"x\":[\"Oct'13-14\"],\"y\":[75.95506227046658]}},\"id\":\"17985e6a-a9ca-45b5-95cc-174c3dbee89b\",\"type\":\"ColumnDataSource\"},{\"attributes\":{\"fill_alpha\":{\"field\":\"fill_alpha\"},\"fill_color\":{\"field\":\"color\"},\"height\":{\"field\":\"height\",\"units\":\"data\"},\"line_color\":{\"field\":\"line_color\"},\"width\":{\"field\":\"width\",\"units\":\"data\"},\"x\":{\"field\":\"x\"},\"y\":{\"field\":\"y\"}},\"id\":\"3bfe6df2-7a0b-4ba9-bb99-e1e865710f53\",\"type\":\"Rect\"},{\"attributes\":{\"fill_alpha\":{\"field\":\"fill_alpha\"},\"fill_color\":{\"field\":\"color\"},\"height\":{\"field\":\"height\",\"units\":\"data\"},\"line_color\":{\"field\":\"line_color\"},\"width\":{\"field\":\"width\",\"units\":\"data\"},\"x\":{\"field\":\"x\"},\"y\":{\"field\":\"y\"}},\"id\":\"beb1408a-68ac-41cf-88f9-cd0ffdfd7f6b\",\"type\":\"Rect\"},{\"attributes\":{\"fill_alpha\":{\"field\":\"fill_alpha\"},\"fill_color\":{\"field\":\"color\"},\"height\":{\"field\":\"height\",\"units\":\"data\"},\"line_color\":{\"field\":\"line_color\"},\"width\":{\"field\":\"width\",\"units\":\"data\"},\"x\":{\"field\":\"x\"},\"y\":{\"field\":\"y\"}},\"id\":\"f3e1e55d-54ae-4f68-b4ec-9a25d6e1da01\",\"type\":\"Rect\"},{\"attributes\":{\"data_source\":{\"id\":\"a95ea457-6cee-4fa7-8583-feee328dcdd3\",\"type\":\"ColumnDataSource\"},\"glyph\":{\"id\":\"67b088f8-ac03-499e-9137-d2b14d652ba8\",\"type\":\"Rect\"},\"hover_glyph\":null,\"nonselection_glyph\":null,\"selection_glyph\":null},\"id\":\"c3c81369-c7ee-4e57-b91f-d23c15bc4336\",\"type\":\"GlyphRenderer\"},{\"attributes\":{\"callback\":null,\"column_names\":[\"line_color\",\"height\",\"x\",\"fill_alpha\",\"width\",\"label\",\"line_alpha\",\"color\",\"y\"],\"data\":{\"PercentageAmongstTop\":[10.676427176360086],\"QuestCreationYear\":[\"Oct'10-11\"],\"QuestTags\":[\"jquery\"],\"YearTagCount\":[7161],\"chart_index\":[{\"PercentageAmongstTop\":10.676427176360086,\"QuestCreationYear\":\"Oct'10-11\",\"QuestTags\":\"jquery\",\"YearTagCount\":7161}],\"color\":[\"#87CEFA\"],\"fill_alpha\":[0.8],\"height\":[10.676427176360086],\"label\":[{\"PercentageAmongstTop\":10.676427176360086,\"QuestCreationYear\":\"Oct'10-11\",\"QuestTags\":\"jquery\",\"YearTagCount\":7161}],\"line_alpha\":[1.0],\"line_color\":[\"#778899\"],\"width\":[1.0],\"x\":[\"Oct'10-11\"],\"y\":[76.07159363678379]}},\"id\":\"51c55c48-64e4-4570-9239-79c1a8d47cf2\",\"type\":\"ColumnDataSource\"},{\"attributes\":{\"fill_alpha\":{\"field\":\"fill_alpha\"},\"fill_color\":{\"field\":\"color\"},\"height\":{\"field\":\"height\",\"units\":\"data\"},\"line_color\":{\"field\":\"line_color\"},\"width\":{\"field\":\"width\",\"units\":\"data\"},\"x\":{\"field\":\"x\"},\"y\":{\"field\":\"y\"}},\"id\":\"80544cdc-0f96-47a4-8f74-d6bc93280264\",\"type\":\"Rect\"},{\"attributes\":{\"callback\":null,\"column_names\":[\"line_color\",\"height\",\"x\",\"fill_alpha\",\"width\",\"label\",\"line_alpha\",\"color\",\"y\"],\"data\":{\"PercentageAmongstTop\":[12.316134127480339],\"QuestCreationYear\":[\"Oct'12-13\"],\"QuestTags\":[\"c#\"],\"YearTagCount\":[14971],\"chart_index\":[{\"PercentageAmongstTop\":12.316134127480339,\"QuestCreationYear\":\"Oct'12-13\",\"QuestTags\":\"c#\",\"YearTagCount\":14971}],\"color\":[\"#E6E6FA\"],\"fill_alpha\":[0.8],\"height\":[12.316134127480339],\"label\":[{\"PercentageAmongstTop\":12.316134127480339,\"QuestCreationYear\":\"Oct'12-13\",\"QuestTags\":\"c#\",\"YearTagCount\":14971}],\"line_alpha\":[1.0],\"line_color\":[\"#9370DB\"],\"width\":[1.0],\"x\":[\"Oct'12-13\"],\"y\":[17.969084208101616]}},\"id\":\"481f2bcb-2d84-4ed6-b98f-99f32a9633f1\",\"type\":\"ColumnDataSource\"},{\"attributes\":{\"data_source\":{\"id\":\"36753071-0d36-4bc0-a76e-d814c46cb987\",\"type\":\"ColumnDataSource\"},\"glyph\":{\"id\":\"b48e8ecd-37af-42f1-a4a9-678b1fdefedd\",\"type\":\"Rect\"},\"hover_glyph\":null,\"nonselection_glyph\":null,\"selection_glyph\":null},\"id\":\"86a172f0-c905-4de3-81b5-da146ec35103\",\"type\":\"GlyphRenderer\"},{\"attributes\":{\"data_source\":{\"id\":\"88cbc48a-74cb-45f6-b5da-e0f6e3344bbb\",\"type\":\"ColumnDataSource\"},\"glyph\":{\"id\":\"d5b6ef9a-e3d8-4368-b8dc-3659a22e8c0b\",\"type\":\"Rect\"},\"hover_glyph\":null,\"nonselection_glyph\":null,\"selection_glyph\":null},\"id\":\"29bffa14-ee11-4e0f-b09f-b59dbaf71456\",\"type\":\"GlyphRenderer\"},{\"attributes\":{\"callback\":null,\"column_names\":[\"line_color\",\"height\",\"x\",\"fill_alpha\",\"width\",\"label\",\"line_alpha\",\"color\",\"y\"],\"data\":{\"PercentageAmongstTop\":[12.299987785513618],\"QuestCreationYear\":[\"Oct'08-09\"],\"QuestTags\":[\".net\"],\"YearTagCount\":[2014],\"chart_index\":[{\"PercentageAmongstTop\":12.299987785513618,\"QuestCreationYear\":\"Oct'08-09\",\"QuestTags\":\".net\",\"YearTagCount\":2014}],\"color\":[\"#4B0082\"],\"fill_alpha\":[0.8],\"height\":[12.299987785513618],\"label\":[{\"PercentageAmongstTop\":12.299987785513618,\"QuestCreationYear\":\"Oct'08-09\",\"QuestTags\":\".net\",\"YearTagCount\":2014}],\"line_alpha\":[1.0],\"line_color\":[\"#D3D3D3\"],\"width\":[1.0],\"x\":[\"Oct'08-09\"],\"y\":[6.149993892756809]}},\"id\":\"1acc8a96-9f7b-42dd-9d24-a0716e7ef294\",\"type\":\"ColumnDataSource\"},{\"attributes\":{\"callback\":null,\"column_names\":[\"line_color\",\"height\",\"x\",\"fill_alpha\",\"width\",\"label\",\"line_alpha\",\"color\",\"y\"],\"data\":{\"PercentageAmongstTop\":[5.510181557309199],\"QuestCreationYear\":[\"Oct'14-15\"],\"QuestTags\":[\"css\"],\"YearTagCount\":[7988],\"chart_index\":[{\"PercentageAmongstTop\":5.510181557309199,\"QuestCreationYear\":\"Oct'14-15\",\"QuestTags\":\"css\",\"YearTagCount\":7988}],\"color\":[\"#90EE90\"],\"fill_alpha\":[0.8],\"height\":[5.510181557309199],\"label\":[{\"PercentageAmongstTop\":5.510181557309199,\"QuestCreationYear\":\"Oct'14-15\",\"QuestTags\":\"css\",\"YearTagCount\":7988}],\"line_alpha\":[1.0],\"line_color\":[\"#FF6347\"],\"width\":[1.0],\"x\":[\"Oct'14-15\"],\"y\":[24.033579824512998]}},\"id\":\"24eae525-572f-4450-934f-cf972b7a93d0\",\"type\":\"ColumnDataSource\"},{\"attributes\":{\"callback\":null,\"column_names\":[\"line_color\",\"height\",\"x\",\"fill_alpha\",\"width\",\"label\",\"line_alpha\",\"color\",\"y\"],\"data\":{\"PercentageAmongstTop\":[12.741276524784258],\"QuestCreationYear\":[\"Oct'11-12\"],\"QuestTags\":[\"javascript\"],\"YearTagCount\":[12225],\"chart_index\":[{\"PercentageAmongstTop\":12.741276524784258,\"QuestCreationYear\":\"Oct'11-12\",\"QuestTags\":\"javascript\",\"YearTagCount\":12225}],\"color\":[\"#FFB6C1\"],\"fill_alpha\":[0.8],\"height\":[12.741276524784258],\"label\":[{\"PercentageAmongstTop\":12.741276524784258,\"QuestCreationYear\":\"Oct'11-12\",\"QuestTags\":\"javascript\",\"YearTagCount\":12225}],\"line_alpha\":[1.0],\"line_color\":[\"#E6E6FA\"],\"width\":[1.0],\"x\":[\"Oct'11-12\"],\"y\":[64.24469504314838]}},\"id\":\"227a98a2-1871-414f-bfe6-42180b47d160\",\"type\":\"ColumnDataSource\"},{\"attributes\":{\"data_source\":{\"id\":\"6f3e767b-6973-4c3e-a78c-49fd44487f1e\",\"type\":\"ColumnDataSource\"},\"glyph\":{\"id\":\"2436d6a8-3663-4178-b69f-fa93e2be572f\",\"type\":\"Rect\"},\"hover_glyph\":null,\"nonselection_glyph\":null,\"selection_glyph\":null},\"id\":\"b0161087-54fc-4a75-b973-9adf161d4d51\",\"type\":\"GlyphRenderer\"},{\"attributes\":{\"callback\":null,\"column_names\":[\"line_color\",\"height\",\"x\",\"fill_alpha\",\"width\",\"label\",\"line_alpha\",\"color\",\"y\"],\"data\":{\"PercentageAmongstTop\":[11.106015758535873],\"QuestCreationYear\":[\"Oct'11-12\"],\"QuestTags\":[\"jquery\"],\"YearTagCount\":[10656],\"chart_index\":[{\"PercentageAmongstTop\":11.106015758535873,\"QuestCreationYear\":\"Oct'11-12\",\"QuestTags\":\"jquery\",\"YearTagCount\":10656}],\"color\":[\"#87CEFA\"],\"fill_alpha\":[0.8],\"height\":[11.106015758535873],\"label\":[{\"PercentageAmongstTop\":11.106015758535873,\"QuestCreationYear\":\"Oct'11-12\",\"QuestTags\":\"jquery\",\"YearTagCount\":10656}],\"line_alpha\":[1.0],\"line_color\":[\"#FFA07A\"],\"width\":[1.0],\"x\":[\"Oct'11-12\"],\"y\":[76.16834118480844]}},\"id\":\"a54bc7a9-965d-4d5c-96b9-9be93f1df08f\",\"type\":\"ColumnDataSource\"},{\"attributes\":{\"callback\":null,\"column_names\":[\"line_color\",\"height\",\"x\",\"fill_alpha\",\"width\",\"label\",\"line_alpha\",\"color\",\"y\"],\"data\":{\"PercentageAmongstTop\":[6.456167024135965],\"QuestCreationYear\":[\"Oct'09-10\"],\"QuestTags\":[\"python\"],\"YearTagCount\":[2378],\"chart_index\":[{\"PercentageAmongstTop\":6.456167024135965,\"QuestCreationYear\":\"Oct'09-10\",\"QuestTags\":\"python\",\"YearTagCount\":2378}],\"color\":[\"#FFA07A\"],\"fill_alpha\":[0.8],\"height\":[6.456167024135965],\"label\":[{\"PercentageAmongstTop\":6.456167024135965,\"QuestCreationYear\":\"Oct'09-10\",\"QuestTags\":\"python\",\"YearTagCount\":2378}],\"line_alpha\":[1.0],\"line_color\":[\"#FFB6C1\"],\"width\":[1.0],\"x\":[\"Oct'09-10\"],\"y\":[96.771916487932]}},\"id\":\"bec4f644-d2f0-42cf-9f79-5568c70818c0\",\"type\":\"ColumnDataSource\"},{\"attributes\":{\"callback\":null,\"column_names\":[\"line_color\",\"height\",\"x\",\"fill_alpha\",\"width\",\"label\",\"line_alpha\",\"color\",\"y\"],\"data\":{\"PercentageAmongstTop\":[6.3497979813039525],\"QuestCreationYear\":[\"Oct'10-11\"],\"QuestTags\":[\"c++\"],\"YearTagCount\":[4259],\"chart_index\":[{\"PercentageAmongstTop\":6.3497979813039525,\"QuestCreationYear\":\"Oct'10-11\",\"QuestTags\":\"c++\",\"YearTagCount\":4259}],\"color\":[\"#FFF0F5\"],\"fill_alpha\":[0.8],\"height\":[6.3497979813039525],\"label\":[{\"PercentageAmongstTop\":6.3497979813039525,\"QuestCreationYear\":\"Oct'10-11\",\"QuestTags\":\"c++\",\"YearTagCount\":4259}],\"line_alpha\":[1.0],\"line_color\":[\"#E6E6FA\"],\"width\":[1.0],\"x\":[\"Oct'10-11\"],\"y\":[35.38010824027552]}},\"id\":\"36753071-0d36-4bc0-a76e-d814c46cb987\",\"type\":\"ColumnDataSource\"},{\"attributes\":{\"fill_alpha\":{\"field\":\"fill_alpha\"},\"fill_color\":{\"field\":\"color\"},\"height\":{\"field\":\"height\",\"units\":\"data\"},\"line_color\":{\"field\":\"line_color\"},\"width\":{\"field\":\"width\",\"units\":\"data\"},\"x\":{\"field\":\"x\"},\"y\":{\"field\":\"y\"}},\"id\":\"e8a89ce9-b086-4104-a751-dae81c5678bd\",\"type\":\"Rect\"},{\"attributes\":{\"data_source\":{\"id\":\"2f58590a-f4a9-484b-b0a4-9acc3ed6ce55\",\"type\":\"ColumnDataSource\"},\"glyph\":{\"id\":\"968ce777-8076-4237-828c-4d79d687f84d\",\"type\":\"Rect\"},\"hover_glyph\":null,\"nonselection_glyph\":null,\"selection_glyph\":null},\"id\":\"b9e672a7-f5d6-4f99-91e4-8beebfea0274\",\"type\":\"GlyphRenderer\"},{\"attributes\":{\"data_source\":{\"id\":\"c877f0fa-ead5-4a47-a400-a9bba6f8e8f8\",\"type\":\"ColumnDataSource\"},\"glyph\":{\"id\":\"4821e676-ee21-43b0-aa26-269897053dcc\",\"type\":\"Rect\"},\"hover_glyph\":null,\"nonselection_glyph\":null,\"selection_glyph\":null},\"id\":\"62c5f3e6-78ee-4ac8-997f-4a08c1bac74f\",\"type\":\"GlyphRenderer\"},{\"attributes\":{\"data_source\":{\"id\":\"0397c450-bcf7-41ee-904f-83a95225af43\",\"type\":\"ColumnDataSource\"},\"glyph\":{\"id\":\"623cc360-0218-4866-a7ae-dc13649f512f\",\"type\":\"Rect\"},\"hover_glyph\":null,\"nonselection_glyph\":null,\"selection_glyph\":null},\"id\":\"dfc4e160-76af-4454-bc6c-1c4f72b2b39d\",\"type\":\"GlyphRenderer\"},{\"attributes\":{\"fill_alpha\":{\"field\":\"fill_alpha\"},\"fill_color\":{\"field\":\"color\"},\"height\":{\"field\":\"height\",\"units\":\"data\"},\"line_color\":{\"field\":\"line_color\"},\"width\":{\"field\":\"width\",\"units\":\"data\"},\"x\":{\"field\":\"x\"},\"y\":{\"field\":\"y\"}},\"id\":\"67b088f8-ac03-499e-9137-d2b14d652ba8\",\"type\":\"Rect\"},{\"attributes\":{\"fill_alpha\":{\"field\":\"fill_alpha\"},\"fill_color\":{\"field\":\"color\"},\"height\":{\"field\":\"height\",\"units\":\"data\"},\"line_color\":{\"field\":\"line_color\"},\"width\":{\"field\":\"width\",\"units\":\"data\"},\"x\":{\"field\":\"x\"},\"y\":{\"field\":\"y\"}},\"id\":\"48162a49-4a30-43fb-ab52-b79a04739b0e\",\"type\":\"Rect\"},{\"attributes\":{\"plot\":null,\"text\":\"Top 10 Tags Used Throughout the Years\"},\"id\":\"46b69c9d-7df4-4755-8f52-45c0942d04a6\",\"type\":\"Title\"},{\"attributes\":{\"fill_alpha\":{\"field\":\"fill_alpha\"},\"fill_color\":{\"field\":\"color\"},\"height\":{\"field\":\"height\",\"units\":\"data\"},\"line_color\":{\"field\":\"line_color\"},\"width\":{\"field\":\"width\",\"units\":\"data\"},\"x\":{\"field\":\"x\"},\"y\":{\"field\":\"y\"}},\"id\":\"74b94976-5aaa-4a6a-98a0-663a1aefeafb\",\"type\":\"Rect\"},{\"attributes\":{\"fill_alpha\":{\"field\":\"fill_alpha\"},\"fill_color\":{\"field\":\"color\"},\"height\":{\"field\":\"height\",\"units\":\"data\"},\"line_color\":{\"field\":\"line_color\"},\"width\":{\"field\":\"width\",\"units\":\"data\"},\"x\":{\"field\":\"x\"},\"y\":{\"field\":\"y\"}},\"id\":\"7498075d-374c-4575-a71f-cc91980ccf62\",\"type\":\"Rect\"},{\"attributes\":{\"callback\":null,\"column_names\":[\"line_color\",\"height\",\"x\",\"fill_alpha\",\"width\",\"label\",\"line_alpha\",\"color\",\"y\"],\"data\":{\"PercentageAmongstTop\":[6.180690381388002],\"QuestCreationYear\":[\"Oct'12-13\"],\"QuestTags\":[\"ios\"],\"YearTagCount\":[7513],\"chart_index\":[{\"PercentageAmongstTop\":6.180690381388002,\"QuestCreationYear\":\"Oct'12-13\",\"QuestTags\":\"ios\",\"YearTagCount\":7513}],\"color\":[\"#F08080\"],\"fill_alpha\":[0.8],\"height\":[6.180690381388002],\"label\":[{\"PercentageAmongstTop\":6.180690381388002,\"QuestCreationYear\":\"Oct'12-13\",\"QuestTags\":\"ios\",\"YearTagCount\":7513}],\"line_alpha\":[1.0],\"line_color\":[\"#40E0D0\"],\"width\":[1.0],\"x\":[\"Oct'12-13\"],\"y\":[39.838017045641514]}},\"id\":\"f193b59d-2e1b-44b5-89d9-ce737da962b1\",\"type\":\"ColumnDataSource\"},{\"attributes\":{\"data_source\":{\"id\":\"8f460bd9-77c5-41b5-a9eb-33542069f32e\",\"type\":\"ColumnDataSource\"},\"glyph\":{\"id\":\"beb1408a-68ac-41cf-88f9-cd0ffdfd7f6b\",\"type\":\"Rect\"},\"hover_glyph\":null,\"nonselection_glyph\":null,\"selection_glyph\":null},\"id\":\"4f5cb602-432a-4f00-9da9-0b1dbcd700e9\",\"type\":\"GlyphRenderer\"},{\"attributes\":{\"fill_alpha\":{\"field\":\"fill_alpha\"},\"fill_color\":{\"field\":\"color\"},\"height\":{\"field\":\"height\",\"units\":\"data\"},\"line_color\":{\"field\":\"line_color\"},\"width\":{\"field\":\"width\",\"units\":\"data\"},\"x\":{\"field\":\"x\"},\"y\":{\"field\":\"y\"}},\"id\":\"a9e4efc7-844e-49bc-997a-2429093a8397\",\"type\":\"Rect\"},{\"attributes\":{\"callback\":null,\"column_names\":[\"line_color\",\"height\",\"x\",\"fill_alpha\",\"width\",\"label\",\"line_alpha\",\"color\",\"y\"],\"data\":{\"PercentageAmongstTop\":[17.64661762224125],\"QuestCreationYear\":[\"Oct'15-16\"],\"QuestTags\":[\"javascript\"],\"YearTagCount\":[28233],\"chart_index\":[{\"PercentageAmongstTop\":17.64661762224125,\"QuestCreationYear\":\"Oct'15-16\",\"QuestTags\":\"javascript\",\"YearTagCount\":28233}],\"color\":[\"#FFB6C1\"],\"fill_alpha\":[0.8],\"height\":[17.64661762224125],\"label\":[{\"PercentageAmongstTop\":17.64661762224125,\"QuestCreationYear\":\"Oct'15-16\",\"QuestTags\":\"javascript\",\"YearTagCount\":28233}],\"line_alpha\":[1.0],\"line_color\":[\"#40E0D0\"],\"width\":[1.0],\"x\":[\"Oct'15-16\"],\"y\":[62.880724540755416]}},\"id\":\"7adfdbf0-d7dc-4da7-a58e-d8c23ad35e43\",\"type\":\"ColumnDataSource\"},{\"attributes\":{\"fill_alpha\":{\"field\":\"fill_alpha\"},\"fill_color\":{\"field\":\"color\"},\"height\":{\"field\":\"height\",\"units\":\"data\"},\"line_color\":{\"field\":\"line_color\"},\"width\":{\"field\":\"width\",\"units\":\"data\"},\"x\":{\"field\":\"x\"},\"y\":{\"field\":\"y\"}},\"id\":\"69cdbc6a-e222-44b3-88ff-e715e85af351\",\"type\":\"Rect\"},{\"attributes\":{\"data_source\":{\"id\":\"5f3b0f0e-ef96-47e2-84b6-14eb89e9ae6e\",\"type\":\"ColumnDataSource\"},\"glyph\":{\"id\":\"33580b06-05e2-4e22-ae04-3917d722d59f\",\"type\":\"Rect\"},\"hover_glyph\":null,\"nonselection_glyph\":null,\"selection_glyph\":null},\"id\":\"cc260a52-e741-4eaf-bb32-59fbe40b5c44\",\"type\":\"GlyphRenderer\"},{\"attributes\":{\"callback\":null,\"factors\":[\"Oct'08-09\",\"Oct'09-10\",\"Oct'10-11\",\"Oct'11-12\",\"Oct'12-13\",\"Oct'13-14\",\"Oct'14-15\",\"Oct'15-16\"]},\"id\":\"9fd2a46b-35f6-45fd-b3b9-d059825cea5c\",\"type\":\"FactorRange\"},{\"attributes\":{\"data_source\":{\"id\":\"378e29ae-cdb8-4613-9d58-4b2ce52e3496\",\"type\":\"ColumnDataSource\"},\"glyph\":{\"id\":\"4a19a4c7-254e-454b-850f-f77595f32c66\",\"type\":\"Rect\"},\"hover_glyph\":null,\"nonselection_glyph\":null,\"selection_glyph\":null},\"id\":\"15d8f455-4a6c-45f1-aba5-46c7692cd83e\",\"type\":\"GlyphRenderer\"},{\"attributes\":{\"data_source\":{\"id\":\"0988b9f5-aff0-4c50-ac13-e1518f282480\",\"type\":\"ColumnDataSource\"},\"glyph\":{\"id\":\"055b69ef-a7e4-4794-82d3-bef587804639\",\"type\":\"Rect\"},\"hover_glyph\":null,\"nonselection_glyph\":null,\"selection_glyph\":null},\"id\":\"7128a370-6d83-469e-92a7-08a9b0ce4463\",\"type\":\"GlyphRenderer\"},{\"attributes\":{\"fill_alpha\":{\"field\":\"fill_alpha\"},\"fill_color\":{\"field\":\"color\"},\"height\":{\"field\":\"height\",\"units\":\"data\"},\"line_color\":{\"field\":\"line_color\"},\"width\":{\"field\":\"width\",\"units\":\"data\"},\"x\":{\"field\":\"x\"},\"y\":{\"field\":\"y\"}},\"id\":\"c1de6d55-8e84-48d1-b281-47afb6f494f9\",\"type\":\"Rect\"},{\"attributes\":{\"callback\":null,\"column_names\":[\"line_color\",\"height\",\"x\",\"fill_alpha\",\"width\",\"label\",\"line_alpha\",\"color\",\"y\"],\"data\":{\"PercentageAmongstTop\":[11.708138893444456],\"QuestCreationYear\":[\"Oct'10-11\"],\"QuestTags\":[\"javascript\"],\"YearTagCount\":[7853],\"chart_index\":[{\"PercentageAmongstTop\":11.708138893444456,\"QuestCreationYear\":\"Oct'10-11\",\"QuestTags\":\"javascript\",\"YearTagCount\":7853}],\"color\":[\"#FFB6C1\"],\"fill_alpha\":[0.8],\"height\":[11.708138893444456],\"label\":[{\"PercentageAmongstTop\":11.708138893444456,\"QuestCreationYear\":\"Oct'10-11\",\"QuestTags\":\"javascript\",\"YearTagCount\":7853}],\"line_alpha\":[1.0],\"line_color\":[\"#4B0082\"],\"width\":[1.0],\"x\":[\"Oct'10-11\"],\"y\":[64.87931060188153]}},\"id\":\"378e29ae-cdb8-4613-9d58-4b2ce52e3496\",\"type\":\"ColumnDataSource\"},{\"attributes\":{\"callback\":null,\"column_names\":[\"line_color\",\"height\",\"x\",\"fill_alpha\",\"width\",\"label\",\"line_alpha\",\"color\",\"y\"],\"data\":{\"PercentageAmongstTop\":[5.8656092665109085],\"QuestCreationYear\":[\"Oct'12-13\"],\"QuestTags\":[\"c++\"],\"YearTagCount\":[7130],\"chart_index\":[{\"PercentageAmongstTop\":5.8656092665109085,\"QuestCreationYear\":\"Oct'12-13\",\"QuestTags\":\"c++\",\"YearTagCount\":7130}],\"color\":[\"#FFF0F5\"],\"fill_alpha\":[0.8],\"height\":[5.8656092665109085],\"label\":[{\"PercentageAmongstTop\":5.8656092665109085,\"QuestCreationYear\":\"Oct'12-13\",\"QuestTags\":\"c++\",\"YearTagCount\":7130}],\"line_alpha\":[1.0],\"line_color\":[\"#FFA07A\"],\"width\":[1.0],\"x\":[\"Oct'12-13\"],\"y\":[27.05995590509724]}},\"id\":\"b278da96-afee-46ca-9e80-f6b67021b04b\",\"type\":\"ColumnDataSource\"},{\"attributes\":{\"callback\":null,\"column_names\":[\"line_color\",\"height\",\"x\",\"fill_alpha\",\"width\",\"label\",\"line_alpha\",\"color\",\"y\"],\"data\":{\"PercentageAmongstTop\":[15.42796654391484],\"QuestCreationYear\":[\"Oct'10-11\"],\"QuestTags\":[\"c#\"],\"YearTagCount\":[10348],\"chart_index\":[{\"PercentageAmongstTop\":15.42796654391484,\"QuestCreationYear\":\"Oct'10-11\",\"QuestTags\":\"c#\",\"YearTagCount\":10348}],\"color\":[\"#E6E6FA\"],\"fill_alpha\":[0.8],\"height\":[15.42796654391484],\"label\":[{\"PercentageAmongstTop\":15.42796654391484,\"QuestCreationYear\":\"Oct'10-11\",\"QuestTags\":\"c#\",\"YearTagCount\":10348}],\"line_alpha\":[1.0],\"line_color\":[\"#20B2AA\"],\"width\":[1.0],\"x\":[\"Oct'10-11\"],\"y\":[24.491225977666126]}},\"id\":\"5f3b0f0e-ef96-47e2-84b6-14eb89e9ae6e\",\"type\":\"ColumnDataSource\"},{\"attributes\":{\"callback\":null,\"column_names\":[\"line_color\",\"height\",\"x\",\"fill_alpha\",\"width\",\"label\",\"line_alpha\",\"color\",\"y\"],\"data\":{\"PercentageAmongstTop\":[5.813565681410764],\"QuestCreationYear\":[\"Oct'11-12\"],\"QuestTags\":[\"c++\"],\"YearTagCount\":[5578],\"chart_index\":[{\"PercentageAmongstTop\":5.813565681410764,\"QuestCreationYear\":\"Oct'11-12\",\"QuestTags\":\"c++\",\"YearTagCount\":5578}],\"color\":[\"#FFF0F5\"],\"fill_alpha\":[0.8],\"height\":[5.813565681410764],\"label\":[{\"PercentageAmongstTop\":5.813565681410764,\"QuestCreationYear\":\"Oct'11-12\",\"QuestTags\":\"c++\",\"YearTagCount\":5578}],\"line_alpha\":[1.0],\"line_color\":[\"#D3D3D3\"],\"width\":[1.0],\"x\":[\"Oct'11-12\"],\"y\":[28.837495309959564]}},\"id\":\"d0e0c63f-72b0-453b-a23b-c28d039f80b1\",\"type\":\"ColumnDataSource\"},{\"attributes\":{\"fill_alpha\":{\"field\":\"fill_alpha\"},\"fill_color\":{\"field\":\"color\"},\"height\":{\"field\":\"height\",\"units\":\"data\"},\"line_color\":{\"field\":\"line_color\"},\"width\":{\"field\":\"width\",\"units\":\"data\"},\"x\":{\"field\":\"x\"},\"y\":{\"field\":\"y\"}},\"id\":\"726dc07e-d9d0-4b37-8419-10569f3f18f6\",\"type\":\"Rect\"},{\"attributes\":{\"callback\":null,\"column_names\":[\"line_color\",\"height\",\"x\",\"fill_alpha\",\"width\",\"label\",\"line_alpha\",\"color\",\"y\"],\"data\":{\"PercentageAmongstTop\":[14.194856795982561],\"QuestCreationYear\":[\"Oct'14-15\"],\"QuestTags\":[\"java\"],\"YearTagCount\":[20578],\"chart_index\":[{\"PercentageAmongstTop\":14.194856795982561,\"QuestCreationYear\":\"Oct'14-15\",\"QuestTags\":\"java\",\"YearTagCount\":20578}],\"color\":[\"#D3D3D3\"],\"fill_alpha\":[0.8],\"height\":[14.194856795982561],\"label\":[{\"PercentageAmongstTop\":14.194856795982561,\"QuestCreationYear\":\"Oct'14-15\",\"QuestTags\":\"java\",\"YearTagCount\":20578}],\"line_alpha\":[1.0],\"line_color\":[\"#20B2AA\"],\"width\":[1.0],\"x\":[\"Oct'14-15\"],\"y\":[48.27617129297501]}},\"id\":\"0cfee314-eda8-4509-825c-cde3d71de63b\",\"type\":\"ColumnDataSource\"},{\"attributes\":{\"data_source\":{\"id\":\"c61f1335-da40-4418-a91e-28581309a63b\",\"type\":\"ColumnDataSource\"},\"glyph\":{\"id\":\"49573712-a1ff-4d11-b238-b1491de629eb\",\"type\":\"Rect\"},\"hover_glyph\":null,\"nonselection_glyph\":null,\"selection_glyph\":null},\"id\":\"66572756-7fe4-4a71-b6b7-0db74c1585ed\",\"type\":\"GlyphRenderer\"},{\"attributes\":{\"data_source\":{\"id\":\"13db5f2e-935f-48de-9311-faba9dd3e1c2\",\"type\":\"ColumnDataSource\"},\"glyph\":{\"id\":\"abb2d5fd-4a98-46e9-a36f-5d8377f8e739\",\"type\":\"Rect\"},\"hover_glyph\":null,\"nonselection_glyph\":null,\"selection_glyph\":null},\"id\":\"e8b777a2-b6ea-4530-b88e-1992b88d10cd\",\"type\":\"GlyphRenderer\"},{\"attributes\":{\"data_source\":{\"id\":\"f06fb612-e2ad-4a29-ba81-b36348240f48\",\"type\":\"ColumnDataSource\"},\"glyph\":{\"id\":\"74b94976-5aaa-4a6a-98a0-663a1aefeafb\",\"type\":\"Rect\"},\"hover_glyph\":null,\"nonselection_glyph\":null,\"selection_glyph\":null},\"id\":\"0387657e-4f1b-41ec-8909-54db4a3121f3\",\"type\":\"GlyphRenderer\"},{\"attributes\":{\"callback\":null,\"column_names\":[\"line_color\",\"height\",\"x\",\"fill_alpha\",\"width\",\"label\",\"line_alpha\",\"color\",\"y\"],\"data\":{\"PercentageAmongstTop\":[13.51461208154417],\"QuestCreationYear\":[\"Oct'11-12\"],\"QuestTags\":[\"java\"],\"YearTagCount\":[12967],\"chart_index\":[{\"PercentageAmongstTop\":13.51461208154417,\"QuestCreationYear\":\"Oct'11-12\",\"QuestTags\":\"java\",\"YearTagCount\":12967}],\"color\":[\"#D3D3D3\"],\"fill_alpha\":[0.8],\"height\":[13.51461208154417],\"label\":[{\"PercentageAmongstTop\":13.51461208154417,\"QuestCreationYear\":\"Oct'11-12\",\"QuestTags\":\"java\",\"YearTagCount\":12967}],\"line_alpha\":[1.0],\"line_color\":[\"#D3D3D3\"],\"width\":[1.0],\"x\":[\"Oct'11-12\"],\"y\":[51.11675073998416]}},\"id\":\"6941a787-bd08-4cc8-9933-7a3617978efb\",\"type\":\"ColumnDataSource\"},{\"attributes\":{\"data_source\":{\"id\":\"4178b993-004d-427d-bdbb-e8383dc9488f\",\"type\":\"ColumnDataSource\"},\"glyph\":{\"id\":\"282b604b-d5b8-468a-880e-d4978a025aab\",\"type\":\"Rect\"},\"hover_glyph\":null,\"nonselection_glyph\":null,\"selection_glyph\":null},\"id\":\"8736946e-44e7-4621-ad2c-68b0c6f56e7c\",\"type\":\"GlyphRenderer\"},{\"attributes\":{\"callback\":null,\"column_names\":[\"line_color\",\"height\",\"x\",\"fill_alpha\",\"width\",\"label\",\"line_alpha\",\"color\",\"y\"],\"data\":{\"PercentageAmongstTop\":[6.837177926223305],\"QuestCreationYear\":[\"Oct'12-13\"],\"QuestTags\":[\"python\"],\"YearTagCount\":[8311],\"chart_index\":[{\"PercentageAmongstTop\":6.837177926223305,\"QuestCreationYear\":\"Oct'12-13\",\"QuestTags\":\"python\",\"YearTagCount\":8311}],\"color\":[\"#FFA07A\"],\"fill_alpha\":[0.8],\"height\":[6.837177926223305],\"label\":[{\"PercentageAmongstTop\":6.837177926223305,\"QuestCreationYear\":\"Oct'12-13\",\"QuestTags\":\"python\",\"YearTagCount\":8311}],\"line_alpha\":[1.0],\"line_color\":[\"#FFF0F5\"],\"width\":[1.0],\"x\":[\"Oct'12-13\"],\"y\":[96.58141103688834]}},\"id\":\"6f3e767b-6973-4c3e-a78c-49fd44487f1e\",\"type\":\"ColumnDataSource\"},{\"attributes\":{\"data_source\":{\"id\":\"0c6e4ab0-75d5-43c1-a8c5-0e04ae04726b\",\"type\":\"ColumnDataSource\"},\"glyph\":{\"id\":\"f3e1e55d-54ae-4f68-b4ec-9a25d6e1da01\",\"type\":\"Rect\"},\"hover_glyph\":null,\"nonselection_glyph\":null,\"selection_glyph\":null},\"id\":\"754f6ed6-0783-4c81-ac89-f950c5dcf485\",\"type\":\"GlyphRenderer\"},{\"attributes\":{\"data_source\":{\"id\":\"b278da96-afee-46ca-9e80-f6b67021b04b\",\"type\":\"ColumnDataSource\"},\"glyph\":{\"id\":\"f3e68ba2-516c-4eb1-a472-6502f273ad76\",\"type\":\"Rect\"},\"hover_glyph\":null,\"nonselection_glyph\":null,\"selection_glyph\":null},\"id\":\"1748ac92-60f8-40e5-9927-b63ba47c2766\",\"type\":\"GlyphRenderer\"},{\"attributes\":{\"data_source\":{\"id\":\"9ac13afe-cc7e-4829-a0fc-ff692f10d473\",\"type\":\"ColumnDataSource\"},\"glyph\":{\"id\":\"d31bf7b5-3eec-493d-9254-acc88ddc886a\",\"type\":\"Rect\"},\"hover_glyph\":null,\"nonselection_glyph\":null,\"selection_glyph\":null},\"id\":\"02541ba4-0ce5-46b3-827b-fd9d9cb25d00\",\"type\":\"GlyphRenderer\"},{\"attributes\":{\"callback\":null,\"column_names\":[\"line_color\",\"height\",\"x\",\"fill_alpha\",\"width\",\"label\",\"line_alpha\",\"color\",\"y\"],\"data\":{\"PercentageAmongstTop\":[6.247709783803591],\"QuestCreationYear\":[\"Oct'08-09\"],\"QuestTags\":[\"python\"],\"YearTagCount\":[1023],\"chart_index\":[{\"PercentageAmongstTop\":6.247709783803591,\"QuestCreationYear\":\"Oct'08-09\",\"QuestTags\":\"python\",\"YearTagCount\":1023}],\"color\":[\"#FFA07A\"],\"fill_alpha\":[0.8],\"height\":[6.247709783803591],\"label\":[{\"PercentageAmongstTop\":6.247709783803591,\"QuestCreationYear\":\"Oct'08-09\",\"QuestTags\":\"python\",\"YearTagCount\":1023}],\"line_alpha\":[1.0],\"line_color\":[\"#F0E68C\"],\"width\":[1.0],\"x\":[\"Oct'08-09\"],\"y\":[96.87614510809821]}},\"id\":\"7920fd73-4dea-43c0-884a-470b9158a8b7\",\"type\":\"ColumnDataSource\"},{\"attributes\":{\"fill_alpha\":{\"field\":\"fill_alpha\"},\"fill_color\":{\"field\":\"color\"},\"height\":{\"field\":\"height\",\"units\":\"data\"},\"line_color\":{\"field\":\"line_color\"},\"width\":{\"field\":\"width\",\"units\":\"data\"},\"x\":{\"field\":\"x\"},\"y\":{\"field\":\"y\"}},\"id\":\"a7268fcb-c1c4-4567-a7b6-c0db8973f837\",\"type\":\"Rect\"},{\"attributes\":{\"fill_alpha\":{\"field\":\"fill_alpha\"},\"fill_color\":{\"field\":\"color\"},\"height\":{\"field\":\"height\",\"units\":\"data\"},\"line_color\":{\"field\":\"line_color\"},\"width\":{\"field\":\"width\",\"units\":\"data\"},\"x\":{\"field\":\"x\"},\"y\":{\"field\":\"y\"}},\"id\":\"d8cb5f1d-bcb2-4569-9de3-1bf7d91e393c\",\"type\":\"Rect\"},{\"attributes\":{\"data_source\":{\"id\":\"cc930d16-cdc3-4bed-a84f-4e233fba3c92\",\"type\":\"ColumnDataSource\"},\"glyph\":{\"id\":\"3f2e810e-e5bc-4d0e-90a5-c4fd48de4a65\",\"type\":\"Rect\"},\"hover_glyph\":null,\"nonselection_glyph\":null,\"selection_glyph\":null},\"id\":\"0e908344-9e59-463b-a818-ea259b5da46f\",\"type\":\"GlyphRenderer\"},{\"attributes\":{\"fill_alpha\":{\"field\":\"fill_alpha\"},\"fill_color\":{\"field\":\"color\"},\"height\":{\"field\":\"height\",\"units\":\"data\"},\"line_color\":{\"field\":\"line_color\"},\"width\":{\"field\":\"width\",\"units\":\"data\"},\"x\":{\"field\":\"x\"},\"y\":{\"field\":\"y\"}},\"id\":\"49573712-a1ff-4d11-b238-b1491de629eb\",\"type\":\"Rect\"},{\"attributes\":{\"fill_alpha\":{\"field\":\"fill_alpha\"},\"fill_color\":{\"field\":\"color\"},\"height\":{\"field\":\"height\",\"units\":\"data\"},\"line_color\":{\"field\":\"line_color\"},\"width\":{\"field\":\"width\",\"units\":\"data\"},\"x\":{\"field\":\"x\"},\"y\":{\"field\":\"y\"}},\"id\":\"fe4dd1a7-bd49-4213-9517-873cca6d1722\",\"type\":\"Rect\"},{\"attributes\":{\"data_source\":{\"id\":\"5ad0294b-caa4-4506-ba19-6d4bbbc19202\",\"type\":\"ColumnDataSource\"},\"glyph\":{\"id\":\"0a52c7b8-8132-4edf-ac6f-8af85a9ac097\",\"type\":\"Rect\"},\"hover_glyph\":null,\"nonselection_glyph\":null,\"selection_glyph\":null},\"id\":\"109ada0b-ecd0-43f1-bd63-7d217fd0ef29\",\"type\":\"GlyphRenderer\"},{\"attributes\":{\"callback\":null,\"column_names\":[\"line_color\",\"height\",\"x\",\"fill_alpha\",\"width\",\"label\",\"line_alpha\",\"color\",\"y\"],\"data\":{\"PercentageAmongstTop\":[5.96066935385367],\"QuestCreationYear\":[\"Oct'08-09\"],\"QuestTags\":[\"jquery\"],\"YearTagCount\":[976],\"chart_index\":[{\"PercentageAmongstTop\":5.96066935385367,\"QuestCreationYear\":\"Oct'08-09\",\"QuestTags\":\"jquery\",\"YearTagCount\":976}],\"color\":[\"#87CEFA\"],\"fill_alpha\":[0.8],\"height\":[5.96066935385367],\"label\":[{\"PercentageAmongstTop\":5.96066935385367,\"QuestCreationYear\":\"Oct'08-09\",\"QuestTags\":\"jquery\",\"YearTagCount\":976}],\"line_alpha\":[1.0],\"line_color\":[\"#4B0082\"],\"width\":[1.0],\"x\":[\"Oct'08-09\"],\"y\":[81.80652253572737]}},\"id\":\"cf42ef23-14a1-4873-8b23-b7fcdee627e6\",\"type\":\"ColumnDataSource\"},{\"attributes\":{\"callback\":null,\"column_names\":[\"line_color\",\"height\",\"x\",\"fill_alpha\",\"width\",\"label\",\"line_alpha\",\"color\",\"y\"],\"data\":{\"PercentageAmongstTop\":[13.51640396195992],\"QuestCreationYear\":[\"Oct'12-13\"],\"QuestTags\":[\"java\"],\"YearTagCount\":[16430],\"chart_index\":[{\"PercentageAmongstTop\":13.51640396195992,\"QuestCreationYear\":\"Oct'12-13\",\"QuestTags\":\"java\",\"YearTagCount\":16430}],\"color\":[\"#D3D3D3\"],\"fill_alpha\":[0.8],\"height\":[13.51640396195992],\"label\":[{\"PercentageAmongstTop\":13.51640396195992,\"QuestCreationYear\":\"Oct'12-13\",\"QuestTags\":\"java\",\"YearTagCount\":16430}],\"line_alpha\":[1.0],\"line_color\":[\"#90EE90\"],\"width\":[1.0],\"x\":[\"Oct'12-13\"],\"y\":[49.68656421731548]}},\"id\":\"17a466cc-00ce-4d5e-af28-6c4be804f253\",\"type\":\"ColumnDataSource\"},{\"attributes\":{\"data_source\":{\"id\":\"ce7ab87e-33cf-45e5-9c9b-6daf98a05372\",\"type\":\"ColumnDataSource\"},\"glyph\":{\"id\":\"393b465d-1a95-48d1-a1bf-ccc1092aa84e\",\"type\":\"Rect\"},\"hover_glyph\":null,\"nonselection_glyph\":null,\"selection_glyph\":null},\"id\":\"47bc5eac-a600-4a61-8a74-26bc824b5f7e\",\"type\":\"GlyphRenderer\"},{\"attributes\":{\"data_source\":{\"id\":\"481f2bcb-2d84-4ed6-b98f-99f32a9633f1\",\"type\":\"ColumnDataSource\"},\"glyph\":{\"id\":\"0d5a9245-92fa-4747-b503-3b27e809953b\",\"type\":\"Rect\"},\"hover_glyph\":null,\"nonselection_glyph\":null,\"selection_glyph\":null},\"id\":\"8092a313-fd9e-45f4-bd54-897c2c92fe46\",\"type\":\"GlyphRenderer\"},{\"attributes\":{\"fill_alpha\":{\"field\":\"fill_alpha\"},\"fill_color\":{\"field\":\"color\"},\"height\":{\"field\":\"height\",\"units\":\"data\"},\"line_color\":{\"field\":\"line_color\"},\"width\":{\"field\":\"width\",\"units\":\"data\"},\"x\":{\"field\":\"x\"},\"y\":{\"field\":\"y\"}},\"id\":\"542a22ea-fcc2-4391-833a-cd5693583081\",\"type\":\"Rect\"},{\"attributes\":{\"data_source\":{\"id\":\"cf42ef23-14a1-4873-8b23-b7fcdee627e6\",\"type\":\"ColumnDataSource\"},\"glyph\":{\"id\":\"b8c8b998-1cc2-432b-b6e5-f79134ed1680\",\"type\":\"Rect\"},\"hover_glyph\":null,\"nonselection_glyph\":null,\"selection_glyph\":null},\"id\":\"36a36262-1a81-4c8c-b899-3dfce9c3fe70\",\"type\":\"GlyphRenderer\"},{\"attributes\":{\"data_source\":{\"id\":\"1179ad66-3f65-410d-a026-dd0f8384857f\",\"type\":\"ColumnDataSource\"},\"glyph\":{\"id\":\"d20441b4-23b4-4a3e-ac55-9073fa5736fe\",\"type\":\"Rect\"},\"hover_glyph\":null,\"nonselection_glyph\":null,\"selection_glyph\":null},\"id\":\"faf17272-f486-439d-aa2d-aa70abda39e9\",\"type\":\"GlyphRenderer\"},{\"attributes\":{\"data_source\":{\"id\":\"8c4aa786-88a9-48c7-b668-098c239a2075\",\"type\":\"ColumnDataSource\"},\"glyph\":{\"id\":\"542a22ea-fcc2-4391-833a-cd5693583081\",\"type\":\"Rect\"},\"hover_glyph\":null,\"nonselection_glyph\":null,\"selection_glyph\":null},\"id\":\"59eca912-f1ba-4d6e-83f1-8ca6107c41f1\",\"type\":\"GlyphRenderer\"},{\"attributes\":{\"fill_alpha\":{\"field\":\"fill_alpha\"},\"fill_color\":{\"field\":\"color\"},\"height\":{\"field\":\"height\",\"units\":\"data\"},\"line_color\":{\"field\":\"line_color\"},\"width\":{\"field\":\"width\",\"units\":\"data\"},\"x\":{\"field\":\"x\"},\"y\":{\"field\":\"y\"}},\"id\":\"d20441b4-23b4-4a3e-ac55-9073fa5736fe\",\"type\":\"Rect\"},{\"attributes\":{\"callback\":null,\"column_names\":[\"line_color\",\"height\",\"x\",\"fill_alpha\",\"width\",\"label\",\"line_alpha\",\"color\",\"y\"],\"data\":{\"PercentageAmongstTop\":[16.429142983279068],\"QuestCreationYear\":[\"Oct'14-15\"],\"QuestTags\":[\"javascript\"],\"YearTagCount\":[23817],\"chart_index\":[{\"PercentageAmongstTop\":16.429142983279068,\"QuestCreationYear\":\"Oct'14-15\",\"QuestTags\":\"javascript\",\"YearTagCount\":23817}],\"color\":[\"#FFB6C1\"],\"fill_alpha\":[0.8],\"height\":[16.429142983279068],\"label\":[{\"PercentageAmongstTop\":16.429142983279068,\"QuestCreationYear\":\"Oct'14-15\",\"QuestTags\":\"javascript\",\"YearTagCount\":23817}],\"line_alpha\":[1.0],\"line_color\":[\"#9370DB\"],\"width\":[1.0],\"x\":[\"Oct'14-15\"],\"y\":[63.58817118260582]}},\"id\":\"a95ea457-6cee-4fa7-8583-feee328dcdd3\",\"type\":\"ColumnDataSource\"},{\"attributes\":{\"data_source\":{\"id\":\"59c5a87e-279d-4a8e-a791-977757d80f21\",\"type\":\"ColumnDataSource\"},\"glyph\":{\"id\":\"716ad50d-c20b-4b8c-9959-a655f3afe21f\",\"type\":\"Rect\"},\"hover_glyph\":null,\"nonselection_glyph\":null,\"selection_glyph\":null},\"id\":\"0c9d26e1-d83a-4943-abaf-135932b2ed7a\",\"type\":\"GlyphRenderer\"},{\"attributes\":{\"callback\":null,\"column_names\":[\"line_color\",\"height\",\"x\",\"fill_alpha\",\"width\",\"label\",\"line_alpha\",\"color\",\"y\"],\"data\":{\"PercentageAmongstTop\":[6.625600132443022],\"QuestCreationYear\":[\"Oct'14-15\"],\"QuestTags\":[\"ios\"],\"YearTagCount\":[9605],\"chart_index\":[{\"PercentageAmongstTop\":6.625600132443022,\"QuestCreationYear\":\"Oct'14-15\",\"QuestTags\":\"ios\",\"YearTagCount\":9605}],\"color\":[\"#F08080\"],\"fill_alpha\":[0.8],\"height\":[6.625600132443022],\"label\":[{\"PercentageAmongstTop\":6.625600132443022,\"QuestCreationYear\":\"Oct'14-15\",\"QuestTags\":\"ios\",\"YearTagCount\":9605}],\"line_alpha\":[1.0],\"line_color\":[\"#FFB6C1\"],\"width\":[1.0],\"x\":[\"Oct'14-15\"],\"y\":[37.865942828762215]}},\"id\":\"f2cb74e2-927e-450a-bd24-5441239b6038\",\"type\":\"ColumnDataSource\"},{\"attributes\":{\"data_source\":{\"id\":\"de3fef40-0c86-4965-8ca4-45f0a71f9908\",\"type\":\"ColumnDataSource\"},\"glyph\":{\"id\":\"e9c2d804-72e7-4ec2-b320-d40af34d2fd7\",\"type\":\"Rect\"},\"hover_glyph\":null,\"nonselection_glyph\":null,\"selection_glyph\":null},\"id\":\"864ed817-c396-48fa-8114-6954049f5686\",\"type\":\"GlyphRenderer\"},{\"attributes\":{\"fill_alpha\":{\"field\":\"fill_alpha\"},\"fill_color\":{\"field\":\"color\"},\"height\":{\"field\":\"height\",\"units\":\"data\"},\"line_color\":{\"field\":\"line_color\"},\"width\":{\"field\":\"width\",\"units\":\"data\"},\"x\":{\"field\":\"x\"},\"y\":{\"field\":\"y\"}},\"id\":\"055b69ef-a7e4-4794-82d3-bef587804639\",\"type\":\"Rect\"},{\"attributes\":{\"data_source\":{\"id\":\"00ff5452-1a5b-4921-bc2f-10fb20120850\",\"type\":\"ColumnDataSource\"},\"glyph\":{\"id\":\"cbdf8fc0-8418-4f6d-8551-b2d74d1b6985\",\"type\":\"Rect\"},\"hover_glyph\":null,\"nonselection_glyph\":null,\"selection_glyph\":null},\"id\":\"3cd989eb-aa40-4b19-a35b-9a4bcc1753cb\",\"type\":\"GlyphRenderer\"},{\"attributes\":{\"fill_alpha\":{\"field\":\"fill_alpha\"},\"fill_color\":{\"field\":\"color\"},\"height\":{\"field\":\"height\",\"units\":\"data\"},\"line_color\":{\"field\":\"line_color\"},\"width\":{\"field\":\"width\",\"units\":\"data\"},\"x\":{\"field\":\"x\"},\"y\":{\"field\":\"y\"}},\"id\":\"06630a02-db08-4ff2-bcce-1e6b1f4eaf2a\",\"type\":\"Rect\"},{\"attributes\":{\"data_source\":{\"id\":\"17b04554-8c7a-4025-b60c-bee30dd457d5\",\"type\":\"ColumnDataSource\"},\"glyph\":{\"id\":\"9d133dea-6399-4211-b270-51c0db771570\",\"type\":\"Rect\"},\"hover_glyph\":null,\"nonselection_glyph\":null,\"selection_glyph\":null},\"id\":\"532374a2-a830-42d5-995b-1576ee016957\",\"type\":\"GlyphRenderer\"},{\"attributes\":{\"callback\":null,\"column_names\":[\"line_color\",\"height\",\"x\",\"fill_alpha\",\"width\",\"label\",\"line_alpha\",\"color\",\"y\"],\"data\":{\"PercentageAmongstTop\":[7.404697049775718],\"QuestCreationYear\":[\"Oct'13-14\"],\"QuestTags\":[\"python\"],\"YearTagCount\":[10928],\"chart_index\":[{\"PercentageAmongstTop\":7.404697049775718,\"QuestCreationYear\":\"Oct'13-14\",\"QuestTags\":\"python\",\"YearTagCount\":10928}],\"color\":[\"#FFA07A\"],\"fill_alpha\":[0.8],\"height\":[7.404697049775718],\"label\":[{\"PercentageAmongstTop\":7.404697049775718,\"QuestCreationYear\":\"Oct'13-14\",\"QuestTags\":\"python\",\"YearTagCount\":10928}],\"line_alpha\":[1.0],\"line_color\":[\"#778899\"],\"width\":[1.0],\"x\":[\"Oct'13-14\"],\"y\":[96.29765147511213]}},\"id\":\"3cd36000-757a-4c12-a0a3-fe2d275c6579\",\"type\":\"ColumnDataSource\"},{\"attributes\":{\"data_source\":{\"id\":\"c655f6de-47e8-4481-aa88-46e03b65ed97\",\"type\":\"ColumnDataSource\"},\"glyph\":{\"id\":\"cfaa09f8-29e7-4766-9199-21eb089aa7e9\",\"type\":\"Rect\"},\"hover_glyph\":null,\"nonselection_glyph\":null,\"selection_glyph\":null},\"id\":\"90de3e99-2e39-4265-8608-4dc1a6da282e\",\"type\":\"GlyphRenderer\"},{\"attributes\":{\"data_source\":{\"id\":\"047812cb-1fa5-4f2c-8a7e-2a0c35897873\",\"type\":\"ColumnDataSource\"},\"glyph\":{\"id\":\"8e67d4bd-f8e9-4212-b5df-df063e30b8b9\",\"type\":\"Rect\"},\"hover_glyph\":null,\"nonselection_glyph\":null,\"selection_glyph\":null},\"id\":\"a387949b-a30e-4efe-8c6d-d52e10a87526\",\"type\":\"GlyphRenderer\"},{\"attributes\":{\"plot\":{\"id\":\"347d030e-cc91-46aa-b20a-db951d02a0ca\",\"subtype\":\"Chart\",\"type\":\"Plot\"}},\"id\":\"c00dbebc-7d95-40a2-a7ca-e43d4e9cd443\",\"type\":\"PanTool\"},{\"attributes\":{\"callback\":null,\"column_names\":[\"line_color\",\"height\",\"x\",\"fill_alpha\",\"width\",\"label\",\"line_alpha\",\"color\",\"y\"],\"data\":{\"PercentageAmongstTop\":[8.9654330035422],\"QuestCreationYear\":[\"Oct'08-09\"],\"QuestTags\":[\"php\"],\"YearTagCount\":[1468],\"chart_index\":[{\"PercentageAmongstTop\":8.9654330035422,\"QuestCreationYear\":\"Oct'08-09\",\"QuestTags\":\"php\",\"YearTagCount\":1468}],\"color\":[\"#20B2AA\"],\"fill_alpha\":[0.8],\"height\":[8.9654330035422],\"label\":[{\"PercentageAmongstTop\":8.9654330035422,\"QuestCreationYear\":\"Oct'08-09\",\"QuestTags\":\"php\",\"YearTagCount\":1468}],\"line_alpha\":[1.0],\"line_color\":[\"#90EE90\"],\"width\":[1.0],\"x\":[\"Oct'08-09\"],\"y\":[89.2695737144253]}},\"id\":\"4e68adcf-0219-44e6-a930-433de4bcb2dc\",\"type\":\"ColumnDataSource\"},{\"attributes\":{\"callback\":null,\"column_names\":[\"line_color\",\"height\",\"x\",\"fill_alpha\",\"width\",\"label\",\"line_alpha\",\"color\",\"y\"],\"data\":{\"PercentageAmongstTop\":[13.233209655229917],\"QuestCreationYear\":[\"Oct'11-12\"],\"QuestTags\":[\"c#\"],\"YearTagCount\":[12697],\"chart_index\":[{\"PercentageAmongstTop\":13.233209655229917,\"QuestCreationYear\":\"Oct'11-12\",\"QuestTags\":\"c#\",\"YearTagCount\":12697}],\"color\":[\"#E6E6FA\"],\"fill_alpha\":[0.8],\"height\":[13.233209655229917],\"label\":[{\"PercentageAmongstTop\":13.233209655229917,\"QuestCreationYear\":\"Oct'11-12\",\"QuestTags\":\"c#\",\"YearTagCount\":12697}],\"line_alpha\":[1.0],\"line_color\":[\"#F08080\"],\"width\":[1.0],\"x\":[\"Oct'11-12\"],\"y\":[19.31410764163922]}},\"id\":\"1de14ecc-6580-4bbd-9067-7d741a5b1012\",\"type\":\"ColumnDataSource\"},{\"attributes\":{\"callback\":null,\"column_names\":[\"line_color\",\"height\",\"x\",\"fill_alpha\",\"width\",\"label\",\"line_alpha\",\"color\",\"y\"],\"data\":{\"PercentageAmongstTop\":[9.936741508972933],\"QuestCreationYear\":[\"Oct'09-10\"],\"QuestTags\":[\"javascript\"],\"YearTagCount\":[3660],\"chart_index\":[{\"PercentageAmongstTop\":9.936741508972933,\"QuestCreationYear\":\"Oct'09-10\",\"QuestTags\":\"javascript\",\"YearTagCount\":3660}],\"color\":[\"#FFB6C1\"],\"fill_alpha\":[0.8],\"height\":[9.936741508972933],\"label\":[{\"PercentageAmongstTop\":9.936741508972933,\"QuestCreationYear\":\"Oct'09-10\",\"QuestTags\":\"javascript\",\"YearTagCount\":3660}],\"line_alpha\":[1.0],\"line_color\":[\"#40E0D0\"],\"width\":[1.0],\"x\":[\"Oct'09-10\"],\"y\":[67.29563163467543]}},\"id\":\"fcdb748c-66a4-427f-a077-3cf8f727bfdd\",\"type\":\"ColumnDataSource\"},{\"attributes\":{\"data_source\":{\"id\":\"17985e6a-a9ca-45b5-95cc-174c3dbee89b\",\"type\":\"ColumnDataSource\"},\"glyph\":{\"id\":\"fe4dd1a7-bd49-4213-9517-873cca6d1722\",\"type\":\"Rect\"},\"hover_glyph\":null,\"nonselection_glyph\":null,\"selection_glyph\":null},\"id\":\"53351ed5-5a97-4396-ba81-225c2031c672\",\"type\":\"GlyphRenderer\"},{\"attributes\":{},\"id\":\"32394bb5-fee8-48d4-b736-c9006814a59b\",\"type\":\"CategoricalTicker\"},{\"attributes\":{\"callback\":null,\"column_names\":[\"line_color\",\"height\",\"x\",\"fill_alpha\",\"width\",\"label\",\"line_alpha\",\"color\",\"y\"],\"data\":{\"PercentageAmongstTop\":[10.998289277633685],\"QuestCreationYear\":[\"Oct'14-15\"],\"QuestTags\":[\"php\"],\"YearTagCount\":[15944],\"chart_index\":[{\"PercentageAmongstTop\":10.998289277633685,\"QuestCreationYear\":\"Oct'14-15\",\"QuestTags\":\"php\",\"YearTagCount\":15944}],\"color\":[\"#20B2AA\"],\"fill_alpha\":[0.8],\"height\":[10.998289277633685],\"label\":[{\"PercentageAmongstTop\":10.998289277633685,\"QuestCreationYear\":\"Oct'14-15\",\"QuestTags\":\"php\",\"YearTagCount\":15944}],\"line_alpha\":[1.0],\"line_color\":[\"#FF6347\"],\"width\":[1.0],\"x\":[\"Oct'14-15\"],\"y\":[85.8982672037967]}},\"id\":\"df897f7f-e777-48b0-8b9c-4b798c7638ed\",\"type\":\"ColumnDataSource\"},{\"attributes\":{\"callback\":null,\"column_names\":[\"line_color\",\"height\",\"x\",\"fill_alpha\",\"width\",\"label\",\"line_alpha\",\"color\",\"y\"],\"data\":{\"PercentageAmongstTop\":[11.273970929522413],\"QuestCreationYear\":[\"Oct'08-09\"],\"QuestTags\":[\"java\"],\"YearTagCount\":[1846],\"chart_index\":[{\"PercentageAmongstTop\":11.273970929522413,\"QuestCreationYear\":\"Oct'08-09\",\"QuestTags\":\"java\",\"YearTagCount\":1846}],\"color\":[\"#D3D3D3\"],\"fill_alpha\":[0.8],\"height\":[11.273970929522413],\"label\":[{\"PercentageAmongstTop\":11.273970929522413,\"QuestCreationYear\":\"Oct'08-09\",\"QuestTags\":\"java\",\"YearTagCount\":1846}],\"line_alpha\":[1.0],\"line_color\":[\"#F08080\"],\"width\":[1.0],\"x\":[\"Oct'08-09\"],\"y\":[64.74899230487358]}},\"id\":\"8101d1f8-1a3e-41d4-b8c6-2f82aae526ec\",\"type\":\"ColumnDataSource\"},{\"attributes\":{\"callback\":null,\"column_names\":[\"line_color\",\"height\",\"x\",\"fill_alpha\",\"width\",\"label\",\"line_alpha\",\"color\",\"y\"],\"data\":{\"PercentageAmongstTop\":[10.701851979173828],\"QuestCreationYear\":[\"Oct'15-16\"],\"QuestTags\":[\"php\"],\"YearTagCount\":[17122],\"chart_index\":[{\"PercentageAmongstTop\":10.701851979173828,\"QuestCreationYear\":\"Oct'15-16\",\"QuestTags\":\"php\",\"YearTagCount\":17122}],\"color\":[\"#20B2AA\"],\"fill_alpha\":[0.8],\"height\":[10.701851979173828],\"label\":[{\"PercentageAmongstTop\":10.701851979173828,\"QuestCreationYear\":\"Oct'15-16\",\"QuestTags\":\"php\",\"YearTagCount\":17122}],\"line_alpha\":[1.0],\"line_color\":[\"#F08080\"],\"width\":[1.0],\"x\":[\"Oct'15-16\"],\"y\":[84.83414692076428]}},\"id\":\"5e82c1c7-e731-403a-b117-ff4b92bfdb14\",\"type\":\"ColumnDataSource\"},{\"attributes\":{\"fill_alpha\":{\"field\":\"fill_alpha\"},\"fill_color\":{\"field\":\"color\"},\"height\":{\"field\":\"height\",\"units\":\"data\"},\"line_color\":{\"field\":\"line_color\"},\"width\":{\"field\":\"width\",\"units\":\"data\"},\"x\":{\"field\":\"x\"},\"y\":{\"field\":\"y\"}},\"id\":\"3091deda-7577-47f5-8883-a6fe6481787c\",\"type\":\"Rect\"},{\"attributes\":{\"dimension\":1,\"plot\":{\"id\":\"347d030e-cc91-46aa-b20a-db951d02a0ca\",\"subtype\":\"Chart\",\"type\":\"Plot\"},\"ticker\":{\"id\":\"cafb1e6f-9ab4-4b20-9890-2907a3f10638\",\"type\":\"BasicTicker\"}},\"id\":\"fc5430a5-c332-405b-974d-2d879ab373ce\",\"type\":\"Grid\"},{\"attributes\":{\"data_source\":{\"id\":\"1acc8a96-9f7b-42dd-9d24-a0716e7ef294\",\"type\":\"ColumnDataSource\"},\"glyph\":{\"id\":\"0c00002e-be63-4274-8803-4b1808c0d4be\",\"type\":\"Rect\"},\"hover_glyph\":null,\"nonselection_glyph\":null,\"selection_glyph\":null},\"id\":\"b9c5a0f0-14e6-4ff1-af9c-edf6e2ae284c\",\"type\":\"GlyphRenderer\"},{\"attributes\":{\"data_source\":{\"id\":\"f193b59d-2e1b-44b5-89d9-ce737da962b1\",\"type\":\"ColumnDataSource\"},\"glyph\":{\"id\":\"7498075d-374c-4575-a71f-cc91980ccf62\",\"type\":\"Rect\"},\"hover_glyph\":null,\"nonselection_glyph\":null,\"selection_glyph\":null},\"id\":\"c340a16f-91bb-4b68-8e3f-74c89afadc93\",\"type\":\"GlyphRenderer\"},{\"attributes\":{\"callback\":null,\"column_names\":[\"line_color\",\"height\",\"x\",\"fill_alpha\",\"width\",\"label\",\"line_alpha\",\"color\",\"y\"],\"data\":{\"PercentageAmongstTop\":[12.697502814024263],\"QuestCreationYear\":[\"Oct'11-12\"],\"QuestTags\":[\"android\"],\"YearTagCount\":[12183],\"chart_index\":[{\"PercentageAmongstTop\":12.697502814024263,\"QuestCreationYear\":\"Oct'11-12\",\"QuestTags\":\"android\",\"YearTagCount\":12183}],\"color\":[\"#FF6347\"],\"fill_alpha\":[0.8],\"height\":[12.697502814024263],\"label\":[{\"PercentageAmongstTop\":12.697502814024263,\"QuestCreationYear\":\"Oct'11-12\",\"QuestTags\":\"android\",\"YearTagCount\":12183}],\"line_alpha\":[1.0],\"line_color\":[\"#F0E68C\"],\"width\":[1.0],\"x\":[\"Oct'11-12\"],\"y\":[6.348751407012132]}},\"id\":\"0397c450-bcf7-41ee-904f-83a95225af43\",\"type\":\"ColumnDataSource\"},{\"attributes\":{\"fill_alpha\":{\"field\":\"fill_alpha\"},\"fill_color\":{\"field\":\"color\"},\"height\":{\"field\":\"height\",\"units\":\"data\"},\"line_color\":{\"field\":\"line_color\"},\"width\":{\"field\":\"width\",\"units\":\"data\"},\"x\":{\"field\":\"x\"},\"y\":{\"field\":\"y\"}},\"id\":\"95246f7c-f7c3-47e2-a547-fbce93ad26c5\",\"type\":\"Rect\"},{\"attributes\":{\"callback\":null,\"column_names\":[\"line_color\",\"height\",\"x\",\"fill_alpha\",\"width\",\"label\",\"line_alpha\",\"color\",\"y\"],\"data\":{\"PercentageAmongstTop\":[12.195585480411587],\"QuestCreationYear\":[\"Oct'09-10\"],\"QuestTags\":[\"java\"],\"YearTagCount\":[4492],\"chart_index\":[{\"PercentageAmongstTop\":12.195585480411587,\"QuestCreationYear\":\"Oct'09-10\",\"QuestTags\":\"java\",\"YearTagCount\":4492}],\"color\":[\"#D3D3D3\"],\"fill_alpha\":[0.8],\"height\":[12.195585480411587],\"label\":[{\"PercentageAmongstTop\":12.195585480411587,\"QuestCreationYear\":\"Oct'09-10\",\"QuestTags\":\"java\",\"YearTagCount\":4492}],\"line_alpha\":[1.0],\"line_color\":[\"#90EE90\"],\"width\":[1.0],\"x\":[\"Oct'09-10\"],\"y\":[56.22946813998317]}},\"id\":\"12c6a15a-91f3-4be1-bfe5-2578550ac392\",\"type\":\"ColumnDataSource\"},{\"attributes\":{\"fill_alpha\":{\"field\":\"fill_alpha\"},\"fill_color\":{\"field\":\"color\"},\"height\":{\"field\":\"height\",\"units\":\"data\"},\"line_color\":{\"field\":\"line_color\"},\"width\":{\"field\":\"width\",\"units\":\"data\"},\"x\":{\"field\":\"x\"},\"y\":{\"field\":\"y\"}},\"id\":\"42cb141b-d693-4664-95f0-ddd01a24f2c9\",\"type\":\"Rect\"},{\"attributes\":{\"callback\":null,\"column_names\":[\"line_color\",\"height\",\"x\",\"fill_alpha\",\"width\",\"label\",\"line_alpha\",\"color\",\"y\"],\"data\":{\"PercentageAmongstTop\":[7.343957863872071],\"QuestCreationYear\":[\"Oct'09-10\"],\"QuestTags\":[\"c++\"],\"YearTagCount\":[2705],\"chart_index\":[{\"PercentageAmongstTop\":7.343957863872071,\"QuestCreationYear\":\"Oct'09-10\",\"QuestTags\":\"c++\",\"YearTagCount\":2705}],\"color\":[\"#FFF0F5\"],\"fill_alpha\":[0.8],\"height\":[7.343957863872071],\"label\":[{\"PercentageAmongstTop\":7.343957863872071,\"QuestCreationYear\":\"Oct'09-10\",\"QuestTags\":\"c++\",\"YearTagCount\":2705}],\"line_alpha\":[1.0],\"line_color\":[\"#87CEFA\"],\"width\":[1.0],\"x\":[\"Oct'09-10\"],\"y\":[37.63880216110553]}},\"id\":\"8c4aa786-88a9-48c7-b668-098c239a2075\",\"type\":\"ColumnDataSource\"},{\"attributes\":{\"callback\":null,\"column_names\":[\"line_color\",\"height\",\"x\",\"fill_alpha\",\"width\",\"label\",\"line_alpha\",\"color\",\"y\"],\"data\":{\"PercentageAmongstTop\":[7.794640675481226],\"QuestCreationYear\":[\"Oct'09-10\"],\"QuestTags\":[\"asp.net\"],\"YearTagCount\":[2871],\"chart_index\":[{\"PercentageAmongstTop\":7.794640675481226,\"QuestCreationYear\":\"Oct'09-10\",\"QuestTags\":\"asp.net\",\"YearTagCount\":2871}],\"color\":[\"#F0E68C\"],\"fill_alpha\":[0.8],\"height\":[7.794640675481226],\"label\":[{\"PercentageAmongstTop\":7.794640675481226,\"QuestCreationYear\":\"Oct'09-10\",\"QuestTags\":\"asp.net\",\"YearTagCount\":2871}],\"line_alpha\":[1.0],\"line_color\":[\"#20B2AA\"],\"width\":[1.0],\"x\":[\"Oct'09-10\"],\"y\":[11.800559281079467]}},\"id\":\"0c6e4ab0-75d5-43c1-a8c5-0e04ae04726b\",\"type\":\"ColumnDataSource\"},{\"attributes\":{\"bottom_units\":\"screen\",\"fill_alpha\":{\"value\":0.5},\"fill_color\":{\"value\":\"lightgrey\"},\"left_units\":\"screen\",\"level\":\"overlay\",\"line_alpha\":{\"value\":1.0},\"line_color\":{\"value\":\"black\"},\"line_dash\":[4,4],\"line_width\":{\"value\":2},\"plot\":null,\"render_mode\":\"css\",\"right_units\":\"screen\",\"top_units\":\"screen\"},\"id\":\"22b8f045-549d-4327-84e7-0981292e2291\",\"type\":\"BoxAnnotation\"},{\"attributes\":{\"data_source\":{\"id\":\"a5e88f9f-aec5-4520-ace6-99a132d0615e\",\"type\":\"ColumnDataSource\"},\"glyph\":{\"id\":\"95246f7c-f7c3-47e2-a547-fbce93ad26c5\",\"type\":\"Rect\"},\"hover_glyph\":null,\"nonselection_glyph\":null,\"selection_glyph\":null},\"id\":\"0b269006-6cc7-455a-97e8-e616bbb23d0c\",\"type\":\"GlyphRenderer\"},{\"attributes\":{\"data_source\":{\"id\":\"7093144b-00d5-401d-80f1-6ecb0bda43d6\",\"type\":\"ColumnDataSource\"},\"glyph\":{\"id\":\"c1de6d55-8e84-48d1-b281-47afb6f494f9\",\"type\":\"Rect\"},\"hover_glyph\":null,\"nonselection_glyph\":null,\"selection_glyph\":null},\"id\":\"084ff394-f8d1-40c8-ae06-1763f7374858\",\"type\":\"GlyphRenderer\"},{\"attributes\":{\"fill_alpha\":{\"field\":\"fill_alpha\"},\"fill_color\":{\"field\":\"color\"},\"height\":{\"field\":\"height\",\"units\":\"data\"},\"line_color\":{\"field\":\"line_color\"},\"width\":{\"field\":\"width\",\"units\":\"data\"},\"x\":{\"field\":\"x\"},\"y\":{\"field\":\"y\"}},\"id\":\"9d133dea-6399-4211-b270-51c0db771570\",\"type\":\"Rect\"},{\"attributes\":{\"fill_alpha\":{\"field\":\"fill_alpha\"},\"fill_color\":{\"field\":\"color\"},\"height\":{\"field\":\"height\",\"units\":\"data\"},\"line_color\":{\"field\":\"line_color\"},\"width\":{\"field\":\"width\",\"units\":\"data\"},\"x\":{\"field\":\"x\"},\"y\":{\"field\":\"y\"}},\"id\":\"556c68f8-e4b2-4651-95c8-fab66c7ce55e\",\"type\":\"Rect\"},{\"attributes\":{\"fill_alpha\":{\"field\":\"fill_alpha\"},\"fill_color\":{\"field\":\"color\"},\"height\":{\"field\":\"height\",\"units\":\"data\"},\"line_color\":{\"field\":\"line_color\"},\"width\":{\"field\":\"width\",\"units\":\"data\"},\"x\":{\"field\":\"x\"},\"y\":{\"field\":\"y\"}},\"id\":\"cbdf8fc0-8418-4f6d-8551-b2d74d1b6985\",\"type\":\"Rect\"},{\"attributes\":{\"data_source\":{\"id\":\"a1e1759a-b9d2-4b65-93b5-0272d19103d3\",\"type\":\"ColumnDataSource\"},\"glyph\":{\"id\":\"721eef42-33f3-4cb7-b23e-2f8183c0cb1f\",\"type\":\"Rect\"},\"hover_glyph\":null,\"nonselection_glyph\":null,\"selection_glyph\":null},\"id\":\"c44950ce-34f9-4590-b0df-ac0ec57b6718\",\"type\":\"GlyphRenderer\"},{\"attributes\":{\"active_drag\":\"auto\",\"active_scroll\":\"auto\",\"active_tap\":\"auto\",\"tools\":[{\"id\":\"c00dbebc-7d95-40a2-a7ca-e43d4e9cd443\",\"type\":\"PanTool\"},{\"id\":\"b74d131f-91b2-404a-bc96-f20307994b56\",\"type\":\"WheelZoomTool\"},{\"id\":\"8ecce8dc-4b38-443f-94df-52f8a39b2d15\",\"type\":\"BoxZoomTool\"},{\"id\":\"b2513029-a6fc-4d8f-8d02-8064d1393667\",\"type\":\"SaveTool\"},{\"id\":\"67cae6eb-e2fe-453f-b13e-b5baebd051eb\",\"type\":\"ResetTool\"},{\"id\":\"29841a0c-a586-4e62-a542-68f3baa1cf0f\",\"type\":\"HelpTool\"}]},\"id\":\"b749c347-ed51-467c-9c7e-ff4b7a1f6608\",\"type\":\"Toolbar\"},{\"attributes\":{\"data_source\":{\"id\":\"11b23d6a-bc8a-4aa0-8040-c0bfca4f1008\",\"type\":\"ColumnDataSource\"},\"glyph\":{\"id\":\"e2886c3e-b5f9-4f00-a153-566f244b1c3d\",\"type\":\"Rect\"},\"hover_glyph\":null,\"nonselection_glyph\":null,\"selection_glyph\":null},\"id\":\"42ab2bd1-fc80-42a6-b939-aba60a6442eb\",\"type\":\"GlyphRenderer\"},{\"attributes\":{\"fill_alpha\":{\"field\":\"fill_alpha\"},\"fill_color\":{\"field\":\"color\"},\"height\":{\"field\":\"height\",\"units\":\"data\"},\"line_color\":{\"field\":\"line_color\"},\"width\":{\"field\":\"width\",\"units\":\"data\"},\"x\":{\"field\":\"x\"},\"y\":{\"field\":\"y\"}},\"id\":\"aab6abb4-d607-4299-ab59-23fc3a58a753\",\"type\":\"Rect\"},{\"attributes\":{\"fill_alpha\":{\"field\":\"fill_alpha\"},\"fill_color\":{\"field\":\"color\"},\"height\":{\"field\":\"height\",\"units\":\"data\"},\"line_color\":{\"field\":\"line_color\"},\"width\":{\"field\":\"width\",\"units\":\"data\"},\"x\":{\"field\":\"x\"},\"y\":{\"field\":\"y\"}},\"id\":\"d5b6ef9a-e3d8-4368-b8dc-3659a22e8c0b\",\"type\":\"Rect\"},{\"attributes\":{\"data_source\":{\"id\":\"d0e0c63f-72b0-453b-a23b-c28d039f80b1\",\"type\":\"ColumnDataSource\"},\"glyph\":{\"id\":\"089682d9-d7cc-4d23-a312-d2874f4f2f33\",\"type\":\"Rect\"},\"hover_glyph\":null,\"nonselection_glyph\":null,\"selection_glyph\":null},\"id\":\"8d396a85-ed1e-401a-a768-7141ffd33ff9\",\"type\":\"GlyphRenderer\"},{\"attributes\":{\"fill_alpha\":{\"field\":\"fill_alpha\"},\"fill_color\":{\"field\":\"color\"},\"height\":{\"field\":\"height\",\"units\":\"data\"},\"line_color\":{\"field\":\"line_color\"},\"width\":{\"field\":\"width\",\"units\":\"data\"},\"x\":{\"field\":\"x\"},\"y\":{\"field\":\"y\"}},\"id\":\"4821e676-ee21-43b0-aa26-269897053dcc\",\"type\":\"Rect\"},{\"attributes\":{\"callback\":null,\"column_names\":[\"line_color\",\"height\",\"x\",\"fill_alpha\",\"width\",\"label\",\"line_alpha\",\"color\",\"y\"],\"data\":{\"PercentageAmongstTop\":[7.903238943338854],\"QuestCreationYear\":[\"Oct'09-10\"],\"QuestTags\":[\".net\"],\"YearTagCount\":[2911],\"chart_index\":[{\"PercentageAmongstTop\":7.903238943338854,\"QuestCreationYear\":\"Oct'09-10\",\"QuestTags\":\".net\",\"YearTagCount\":2911}],\"color\":[\"#4B0082\"],\"fill_alpha\":[0.8],\"height\":[7.903238943338854],\"label\":[{\"PercentageAmongstTop\":7.903238943338854,\"QuestCreationYear\":\"Oct'09-10\",\"QuestTags\":\".net\",\"YearTagCount\":2911}],\"line_alpha\":[1.0],\"line_color\":[\"#FFA07A\"],\"width\":[1.0],\"x\":[\"Oct'09-10\"],\"y\":[3.951619471669427]}},\"id\":\"e045a88d-b456-4bb5-9f76-efb583eab104\",\"type\":\"ColumnDataSource\"},{\"attributes\":{},\"id\":\"35c48668-5617-43b1-805e-a686831300bd\",\"type\":\"ToolEvents\"},{\"attributes\":{\"fill_alpha\":{\"field\":\"fill_alpha\"},\"fill_color\":{\"field\":\"color\"},\"height\":{\"field\":\"height\",\"units\":\"data\"},\"line_color\":{\"field\":\"line_color\"},\"width\":{\"field\":\"width\",\"units\":\"data\"},\"x\":{\"field\":\"x\"},\"y\":{\"field\":\"y\"}},\"id\":\"26abe02d-618d-405b-98fc-d884dbe5ef0b\",\"type\":\"Rect\"},{\"attributes\":{\"callback\":null,\"column_names\":[\"line_color\",\"height\",\"x\",\"fill_alpha\",\"width\",\"label\",\"line_alpha\",\"color\",\"y\"],\"data\":{\"PercentageAmongstTop\":[11.702646664227345],\"QuestCreationYear\":[\"Oct'13-14\"],\"QuestTags\":[\"php\"],\"YearTagCount\":[17271],\"chart_index\":[{\"PercentageAmongstTop\":11.702646664227345,\"QuestCreationYear\":\"Oct'13-14\",\"QuestTags\":\"php\",\"YearTagCount\":17271}],\"color\":[\"#20B2AA\"],\"fill_alpha\":[0.8],\"height\":[11.702646664227345],\"label\":[{\"PercentageAmongstTop\":11.702646664227345,\"QuestCreationYear\":\"Oct'13-14\",\"QuestTags\":\"php\",\"YearTagCount\":17271}],\"line_alpha\":[1.0],\"line_color\":[\"#D3D3D3\"],\"width\":[1.0],\"x\":[\"Oct'13-14\"],\"y\":[86.74397961811061]}},\"id\":\"f06fb612-e2ad-4a29-ba81-b36348240f48\",\"type\":\"ColumnDataSource\"},{\"attributes\":{\"data_source\":{\"id\":\"2a99da80-3812-42ab-8ace-a632617eae5c\",\"type\":\"ColumnDataSource\"},\"glyph\":{\"id\":\"97cf4fc8-a840-4b69-b9c1-e6ed3f1bca0f\",\"type\":\"Rect\"},\"hover_glyph\":null,\"nonselection_glyph\":null,\"selection_glyph\":null},\"id\":\"7e74692a-6544-4f11-b8f0-3593d7521532\",\"type\":\"GlyphRenderer\"},{\"attributes\":{\"data_source\":{\"id\":\"0cfee314-eda8-4509-825c-cde3d71de63b\",\"type\":\"ColumnDataSource\"},\"glyph\":{\"id\":\"e8fb8399-7542-4e9d-8c22-713778710148\",\"type\":\"Rect\"},\"hover_glyph\":null,\"nonselection_glyph\":null,\"selection_glyph\":null},\"id\":\"21240885-c9da-4e4c-b00a-d5fe1dd0d051\",\"type\":\"GlyphRenderer\"},{\"attributes\":{\"data_source\":{\"id\":\"8101d1f8-1a3e-41d4-b8c6-2f82aae526ec\",\"type\":\"ColumnDataSource\"},\"glyph\":{\"id\":\"00b1aaec-07a0-4107-9c5e-c7f066f3334e\",\"type\":\"Rect\"},\"hover_glyph\":null,\"nonselection_glyph\":null,\"selection_glyph\":null},\"id\":\"88d70e0b-b245-4e89-b940-1c36d3ef0710\",\"type\":\"GlyphRenderer\"},{\"attributes\":{\"fill_alpha\":{\"field\":\"fill_alpha\"},\"fill_color\":{\"field\":\"color\"},\"height\":{\"field\":\"height\",\"units\":\"data\"},\"line_color\":{\"field\":\"line_color\"},\"width\":{\"field\":\"width\",\"units\":\"data\"},\"x\":{\"field\":\"x\"},\"y\":{\"field\":\"y\"}},\"id\":\"b8c8b998-1cc2-432b-b6e5-f79134ed1680\",\"type\":\"Rect\"},{\"attributes\":{\"data_source\":{\"id\":\"465e7fbe-35f4-4ccb-8f4c-3ea1b5088b8c\",\"type\":\"ColumnDataSource\"},\"glyph\":{\"id\":\"a9e4efc7-844e-49bc-997a-2429093a8397\",\"type\":\"Rect\"},\"hover_glyph\":null,\"nonselection_glyph\":null,\"selection_glyph\":null},\"id\":\"dd3dcf2e-02d4-4b8c-b4b2-524ed41bc1b8\",\"type\":\"GlyphRenderer\"},{\"attributes\":{\"fill_alpha\":{\"field\":\"fill_alpha\"},\"fill_color\":{\"field\":\"color\"},\"height\":{\"field\":\"height\",\"units\":\"data\"},\"line_color\":{\"field\":\"line_color\"},\"width\":{\"field\":\"width\",\"units\":\"data\"},\"x\":{\"field\":\"x\"},\"y\":{\"field\":\"y\"}},\"id\":\"abb2d5fd-4a98-46e9-a36f-5d8377f8e739\",\"type\":\"Rect\"},{\"attributes\":{\"fill_alpha\":{\"field\":\"fill_alpha\"},\"fill_color\":{\"field\":\"color\"},\"height\":{\"field\":\"height\",\"units\":\"data\"},\"line_color\":{\"field\":\"line_color\"},\"width\":{\"field\":\"width\",\"units\":\"data\"},\"x\":{\"field\":\"x\"},\"y\":{\"field\":\"y\"}},\"id\":\"d7eaa5fb-060d-464b-972a-67ec6350de5b\",\"type\":\"Rect\"},{\"attributes\":{\"callback\":null,\"column_names\":[\"line_color\",\"height\",\"x\",\"fill_alpha\",\"width\",\"label\",\"line_alpha\",\"color\",\"y\"],\"data\":{\"PercentageAmongstTop\":[11.89821975056764],\"QuestCreationYear\":[\"Oct'12-13\"],\"QuestTags\":[\"php\"],\"YearTagCount\":[14463],\"chart_index\":[{\"PercentageAmongstTop\":11.89821975056764,\"QuestCreationYear\":\"Oct'12-13\",\"QuestTags\":\"php\",\"YearTagCount\":14463}],\"color\":[\"#20B2AA\"],\"fill_alpha\":[0.8],\"height\":[11.89821975056764],\"label\":[{\"PercentageAmongstTop\":11.89821975056764,\"QuestCreationYear\":\"Oct'12-13\",\"QuestTags\":\"php\",\"YearTagCount\":14463}],\"line_alpha\":[1.0],\"line_color\":[\"#20B2AA\"],\"width\":[1.0],\"x\":[\"Oct'12-13\"],\"y\":[87.21371219849289]}},\"id\":\"17b04554-8c7a-4025-b60c-bee30dd457d5\",\"type\":\"ColumnDataSource\"},{\"attributes\":{\"fill_alpha\":{\"field\":\"fill_alpha\"},\"fill_color\":{\"field\":\"color\"},\"height\":{\"field\":\"height\",\"units\":\"data\"},\"line_color\":{\"field\":\"line_color\"},\"width\":{\"field\":\"width\",\"units\":\"data\"},\"x\":{\"field\":\"x\"},\"y\":{\"field\":\"y\"}},\"id\":\"716ad50d-c20b-4b8c-9959-a655f3afe21f\",\"type\":\"Rect\"},{\"attributes\":{\"fill_alpha\":{\"field\":\"fill_alpha\"},\"fill_color\":{\"field\":\"color\"},\"height\":{\"field\":\"height\",\"units\":\"data\"},\"line_color\":{\"field\":\"line_color\"},\"width\":{\"field\":\"width\",\"units\":\"data\"},\"x\":{\"field\":\"x\"},\"y\":{\"field\":\"y\"}},\"id\":\"4a19a4c7-254e-454b-850f-f77595f32c66\",\"type\":\"Rect\"},{\"attributes\":{\"callback\":null,\"column_names\":[\"line_color\",\"height\",\"x\",\"fill_alpha\",\"width\",\"label\",\"line_alpha\",\"color\",\"y\"],\"data\":{\"PercentageAmongstTop\":[7.604802770155821],\"QuestCreationYear\":[\"Oct'15-16\"],\"QuestTags\":[\"html\"],\"YearTagCount\":[12167],\"chart_index\":[{\"PercentageAmongstTop\":7.604802770155821,\"QuestCreationYear\":\"Oct'15-16\",\"QuestTags\":\"html\",\"YearTagCount\":12167}],\"color\":[\"#ADD8E6\"],\"fill_alpha\":[0.8],\"height\":[7.604802770155821],\"label\":[{\"PercentageAmongstTop\":7.604802770155821,\"QuestCreationYear\":\"Oct'15-16\",\"QuestTags\":\"html\",\"YearTagCount\":12167}],\"line_alpha\":[1.0],\"line_color\":[\"#FF6347\"],\"width\":[1.0],\"x\":[\"Oct'15-16\"],\"y\":[30.73329124763268]}},\"id\":\"88cbc48a-74cb-45f6-b5da-e0f6e3344bbb\",\"type\":\"ColumnDataSource\"},{\"attributes\":{\"callback\":null,\"column_names\":[\"line_color\",\"height\",\"x\",\"fill_alpha\",\"width\",\"label\",\"line_alpha\",\"color\",\"y\"],\"data\":{\"PercentageAmongstTop\":[6.7549113165948205],\"QuestCreationYear\":[\"Oct'12-13\"],\"QuestTags\":[\"html\"],\"YearTagCount\":[8211],\"chart_index\":[{\"PercentageAmongstTop\":6.7549113165948205,\"QuestCreationYear\":\"Oct'12-13\",\"QuestTags\":\"html\",\"YearTagCount\":8211}],\"color\":[\"#ADD8E6\"],\"fill_alpha\":[0.8],\"height\":[6.7549113165948205],\"label\":[{\"PercentageAmongstTop\":6.7549113165948205,\"QuestCreationYear\":\"Oct'12-13\",\"QuestTags\":\"html\",\"YearTagCount\":8211}],\"line_alpha\":[1.0],\"line_color\":[\"#F0E68C\"],\"width\":[1.0],\"x\":[\"Oct'12-13\"],\"y\":[33.370216196650105]}},\"id\":\"11b23d6a-bc8a-4aa0-8040-c0bfca4f1008\",\"type\":\"ColumnDataSource\"},{\"attributes\":{\"data_source\":{\"id\":\"a4f12f34-e87b-4f58-84ea-ec3ae760e2fb\",\"type\":\"ColumnDataSource\"},\"glyph\":{\"id\":\"3bfe6df2-7a0b-4ba9-bb99-e1e865710f53\",\"type\":\"Rect\"},\"hover_glyph\":null,\"nonselection_glyph\":null,\"selection_glyph\":null},\"id\":\"1c99599b-6303-4318-aa41-52d798877804\",\"type\":\"GlyphRenderer\"},{\"attributes\":{\"callback\":null,\"column_names\":[\"line_color\",\"height\",\"x\",\"fill_alpha\",\"width\",\"label\",\"line_alpha\",\"color\",\"y\"],\"data\":{\"PercentageAmongstTop\":[10.966139063476916],\"QuestCreationYear\":[\"Oct'12-13\"],\"QuestTags\":[\"jquery\"],\"YearTagCount\":[13330],\"chart_index\":[{\"PercentageAmongstTop\":10.966139063476916,\"QuestCreationYear\":\"Oct'12-13\",\"QuestTags\":\"jquery\",\"YearTagCount\":13330}],\"color\":[\"#87CEFA\"],\"fill_alpha\":[0.8],\"height\":[10.966139063476916],\"label\":[{\"PercentageAmongstTop\":10.966139063476916,\"QuestCreationYear\":\"Oct'12-13\",\"QuestTags\":\"jquery\",\"YearTagCount\":13330}],\"line_alpha\":[1.0],\"line_color\":[\"#FFB6C1\"],\"width\":[1.0],\"x\":[\"Oct'12-13\"],\"y\":[75.7815327914706]}},\"id\":\"0988b9f5-aff0-4c50-ac13-e1518f282480\",\"type\":\"ColumnDataSource\"},{\"attributes\":{\"fill_alpha\":{\"field\":\"fill_alpha\"},\"fill_color\":{\"field\":\"color\"},\"height\":{\"field\":\"height\",\"units\":\"data\"},\"line_color\":{\"field\":\"line_color\"},\"width\":{\"field\":\"width\",\"units\":\"data\"},\"x\":{\"field\":\"x\"},\"y\":{\"field\":\"y\"}},\"id\":\"cd15438d-34ea-474a-9526-d7dd6390081b\",\"type\":\"Rect\"},{\"attributes\":{\"data_source\":{\"id\":\"970ef92f-6a68-416b-b650-d4e7e1478768\",\"type\":\"ColumnDataSource\"},\"glyph\":{\"id\":\"e8a89ce9-b086-4104-a751-dae81c5678bd\",\"type\":\"Rect\"},\"hover_glyph\":null,\"nonselection_glyph\":null,\"selection_glyph\":null},\"id\":\"aeac1dc3-23f3-498e-9479-2f46bbe20ed8\",\"type\":\"GlyphRenderer\"},{\"attributes\":{\"fill_alpha\":{\"field\":\"fill_alpha\"},\"fill_color\":{\"field\":\"color\"},\"height\":{\"field\":\"height\",\"units\":\"data\"},\"line_color\":{\"field\":\"line_color\"},\"width\":{\"field\":\"width\",\"units\":\"data\"},\"x\":{\"field\":\"x\"},\"y\":{\"field\":\"y\"}},\"id\":\"393b465d-1a95-48d1-a1bf-ccc1092aa84e\",\"type\":\"Rect\"},{\"attributes\":{},\"id\":\"865b1019-13ee-4c99-9be8-e5ce8ae68f4c\",\"type\":\"CategoricalTickFormatter\"},{\"attributes\":{\"data_source\":{\"id\":\"f2cb74e2-927e-450a-bd24-5441239b6038\",\"type\":\"ColumnDataSource\"},\"glyph\":{\"id\":\"e082394d-5386-441d-b145-411b4ff1f89e\",\"type\":\"Rect\"},\"hover_glyph\":null,\"nonselection_glyph\":null,\"selection_glyph\":null},\"id\":\"003d2d4c-8056-4021-bdb7-a7f55ea688b2\",\"type\":\"GlyphRenderer\"},{\"attributes\":{\"callback\":null,\"column_names\":[\"line_color\",\"height\",\"x\",\"fill_alpha\",\"width\",\"label\",\"line_alpha\",\"color\",\"y\"],\"data\":{\"PercentageAmongstTop\":[12.741341523414787],\"QuestCreationYear\":[\"Oct'10-11\"],\"QuestTags\":[\"php\"],\"YearTagCount\":[8546],\"chart_index\":[{\"PercentageAmongstTop\":12.741341523414787,\"QuestCreationYear\":\"Oct'10-11\",\"QuestTags\":\"php\",\"YearTagCount\":8546}],\"color\":[\"#20B2AA\"],\"fill_alpha\":[0.8],\"height\":[12.741341523414787],\"label\":[{\"PercentageAmongstTop\":12.741341523414787,\"QuestCreationYear\":\"Oct'10-11\",\"QuestTags\":\"php\",\"YearTagCount\":8546}],\"line_alpha\":[1.0],\"line_color\":[\"#ADD8E6\"],\"width\":[1.0],\"x\":[\"Oct'10-11\"],\"y\":[87.78047798667122]}},\"id\":\"ef15782e-fbc7-450e-82b5-bd180855c9f7\",\"type\":\"ColumnDataSource\"},{\"attributes\":{\"data_source\":{\"id\":\"6941a787-bd08-4cc8-9933-7a3617978efb\",\"type\":\"ColumnDataSource\"},\"glyph\":{\"id\":\"f9e8a83f-ab67-4c0f-8bf0-9403f4f6b3cb\",\"type\":\"Rect\"},\"hover_glyph\":null,\"nonselection_glyph\":null,\"selection_glyph\":null},\"id\":\"dc9e1916-870a-4de6-9617-2d1a51738d00\",\"type\":\"GlyphRenderer\"},{\"attributes\":{\"fill_alpha\":{\"field\":\"fill_alpha\"},\"fill_color\":{\"field\":\"color\"},\"height\":{\"field\":\"height\",\"units\":\"data\"},\"line_color\":{\"field\":\"line_color\"},\"width\":{\"field\":\"width\",\"units\":\"data\"},\"x\":{\"field\":\"x\"},\"y\":{\"field\":\"y\"}},\"id\":\"97cf4fc8-a840-4b69-b9c1-e6ed3f1bca0f\",\"type\":\"Rect\"},{\"attributes\":{\"data_source\":{\"id\":\"5bc6e97c-c192-4d6b-bf5f-bc649849f8dc\",\"type\":\"ColumnDataSource\"},\"glyph\":{\"id\":\"48162a49-4a30-43fb-ab52-b79a04739b0e\",\"type\":\"Rect\"},\"hover_glyph\":null,\"nonselection_glyph\":null,\"selection_glyph\":null},\"id\":\"f8d08713-7748-4dbd-a3c6-bf07d806d7bf\",\"type\":\"GlyphRenderer\"},{\"attributes\":{\"callback\":null,\"column_names\":[\"line_color\",\"height\",\"x\",\"fill_alpha\",\"width\",\"label\",\"line_alpha\",\"color\",\"y\"],\"data\":{\"PercentageAmongstTop\":[6.033956272138757],\"QuestCreationYear\":[\"Oct'08-09\"],\"QuestTags\":[\"ios\"],\"YearTagCount\":[988],\"chart_index\":[{\"PercentageAmongstTop\":6.033956272138757,\"QuestCreationYear\":\"Oct'08-09\",\"QuestTags\":\"ios\",\"YearTagCount\":988}],\"color\":[\"#F08080\"],\"fill_alpha\":[0.8],\"height\":[6.033956272138757],\"label\":[{\"PercentageAmongstTop\":6.033956272138757,\"QuestCreationYear\":\"Oct'08-09\",\"QuestTags\":\"ios\",\"YearTagCount\":988}],\"line_alpha\":[1.0],\"line_color\":[\"#FF6347\"],\"width\":[1.0],\"x\":[\"Oct'08-09\"],\"y\":[56.095028704042996]}},\"id\":\"c655f6de-47e8-4481-aa88-46e03b65ed97\",\"type\":\"ColumnDataSource\"},{\"attributes\":{\"callback\":null,\"column_names\":[\"line_color\",\"height\",\"x\",\"fill_alpha\",\"width\",\"label\",\"line_alpha\",\"color\",\"y\"],\"data\":{\"PercentageAmongstTop\":[5.848851251621368],\"QuestCreationYear\":[\"Oct'10-11\"],\"QuestTags\":[\"python\"],\"YearTagCount\":[3923],\"chart_index\":[{\"PercentageAmongstTop\":5.848851251621368,\"QuestCreationYear\":\"Oct'10-11\",\"QuestTags\":\"python\",\"YearTagCount\":3923}],\"color\":[\"#FFA07A\"],\"fill_alpha\":[0.8],\"height\":[5.848851251621368],\"label\":[{\"PercentageAmongstTop\":5.848851251621368,\"QuestCreationYear\":\"Oct'10-11\",\"QuestTags\":\"python\",\"YearTagCount\":3923}],\"line_alpha\":[1.0],\"line_color\":[\"#FF6347\"],\"width\":[1.0],\"x\":[\"Oct'10-11\"],\"y\":[97.0755743741893]}},\"id\":\"112cd3d5-dd3d-4cca-9a3e-2ab3c8e5eb3f\",\"type\":\"ColumnDataSource\"},{\"attributes\":{\"callback\":null,\"column_names\":[\"line_color\",\"height\",\"x\",\"fill_alpha\",\"width\",\"label\",\"line_alpha\",\"color\",\"y\"],\"data\":{\"PercentageAmongstTop\":[10.263644390486176],\"QuestCreationYear\":[\"Oct'14-15\"],\"QuestTags\":[\"c#\"],\"YearTagCount\":[14879],\"chart_index\":[{\"PercentageAmongstTop\":10.263644390486176,\"QuestCreationYear\":\"Oct'14-15\",\"QuestTags\":\"c#\",\"YearTagCount\":14879}],\"color\":[\"#E6E6FA\"],\"fill_alpha\":[0.8],\"height\":[10.263644390486176],\"label\":[{\"PercentageAmongstTop\":10.263644390486176,\"QuestCreationYear\":\"Oct'14-15\",\"QuestTags\":\"c#\",\"YearTagCount\":14879}],\"line_alpha\":[1.0],\"line_color\":[\"#778899\"],\"width\":[1.0],\"x\":[\"Oct'14-15\"],\"y\":[16.146666850615308]}},\"id\":\"e88e8bd6-23d5-40f1-b6bd-e170769ae96c\",\"type\":\"ColumnDataSource\"},{\"attributes\":{\"fill_alpha\":{\"field\":\"fill_alpha\"},\"fill_color\":{\"field\":\"color\"},\"height\":{\"field\":\"height\",\"units\":\"data\"},\"line_color\":{\"field\":\"line_color\"},\"width\":{\"field\":\"width\",\"units\":\"data\"},\"x\":{\"field\":\"x\"},\"y\":{\"field\":\"y\"}},\"id\":\"0d5a9245-92fa-4747-b503-3b27e809953b\",\"type\":\"Rect\"},{\"attributes\":{\"callback\":null,\"column_names\":[\"line_color\",\"height\",\"x\",\"fill_alpha\",\"width\",\"label\",\"line_alpha\",\"color\",\"y\"],\"data\":{\"PercentageAmongstTop\":[7.859359542491632],\"QuestCreationYear\":[\"Oct'13-14\"],\"QuestTags\":[\"html\"],\"YearTagCount\":[11599],\"chart_index\":[{\"PercentageAmongstTop\":7.859359542491632,\"QuestCreationYear\":\"Oct'13-14\",\"QuestTags\":\"html\",\"YearTagCount\":11599}],\"color\":[\"#ADD8E6\"],\"fill_alpha\":[0.8],\"height\":[7.859359542491632],\"label\":[{\"PercentageAmongstTop\":7.859359542491632,\"QuestCreationYear\":\"Oct'13-14\",\"QuestTags\":\"html\",\"YearTagCount\":11599}],\"line_alpha\":[1.0],\"line_color\":[\"#40E0D0\"],\"width\":[1.0],\"x\":[\"Oct'13-14\"],\"y\":[31.675610846851242]}},\"id\":\"1179ad66-3f65-410d-a026-dd0f8384857f\",\"type\":\"ColumnDataSource\"},{\"attributes\":{\"plot\":{\"id\":\"347d030e-cc91-46aa-b20a-db951d02a0ca\",\"subtype\":\"Chart\",\"type\":\"Plot\"}},\"id\":\"29841a0c-a586-4e62-a542-68f3baa1cf0f\",\"type\":\"HelpTool\"},{\"attributes\":{\"fill_alpha\":{\"field\":\"fill_alpha\"},\"fill_color\":{\"field\":\"color\"},\"height\":{\"field\":\"height\",\"units\":\"data\"},\"line_color\":{\"field\":\"line_color\"},\"width\":{\"field\":\"width\",\"units\":\"data\"},\"x\":{\"field\":\"x\"},\"y\":{\"field\":\"y\"}},\"id\":\"69a4ba51-259b-40bc-b57e-4b3908087f1e\",\"type\":\"Rect\"},{\"attributes\":{\"callback\":null,\"column_names\":[\"line_color\",\"height\",\"x\",\"fill_alpha\",\"width\",\"label\",\"line_alpha\",\"color\",\"y\"],\"data\":{\"PercentageAmongstTop\":[12.467169716930004],\"QuestCreationYear\":[\"Oct'11-12\"],\"QuestTags\":[\"php\"],\"YearTagCount\":[11962],\"chart_index\":[{\"PercentageAmongstTop\":12.467169716930004,\"QuestCreationYear\":\"Oct'11-12\",\"QuestTags\":\"php\",\"YearTagCount\":11962}],\"color\":[\"#20B2AA\"],\"fill_alpha\":[0.8],\"height\":[12.467169716930004],\"label\":[{\"PercentageAmongstTop\":12.467169716930004,\"QuestCreationYear\":\"Oct'11-12\",\"QuestTags\":\"php\",\"YearTagCount\":11962}],\"line_alpha\":[1.0],\"line_color\":[\"#4B0082\"],\"width\":[1.0],\"x\":[\"Oct'11-12\"],\"y\":[87.95493392254139]}},\"id\":\"a4f12f34-e87b-4f58-84ea-ec3ae760e2fb\",\"type\":\"ColumnDataSource\"},{\"attributes\":{\"fill_alpha\":{\"field\":\"fill_alpha\"},\"fill_color\":{\"field\":\"color\"},\"height\":{\"field\":\"height\",\"units\":\"data\"},\"line_color\":{\"field\":\"line_color\"},\"width\":{\"field\":\"width\",\"units\":\"data\"},\"x\":{\"field\":\"x\"},\"y\":{\"field\":\"y\"}},\"id\":\"648415b4-0dbe-4174-8bd1-279023c9af45\",\"type\":\"Rect\"},{\"attributes\":{\"overlay\":{\"id\":\"22b8f045-549d-4327-84e7-0981292e2291\",\"type\":\"BoxAnnotation\"},\"plot\":{\"id\":\"347d030e-cc91-46aa-b20a-db951d02a0ca\",\"subtype\":\"Chart\",\"type\":\"Plot\"}},\"id\":\"8ecce8dc-4b38-443f-94df-52f8a39b2d15\",\"type\":\"BoxZoomTool\"},{\"attributes\":{\"callback\":null,\"column_names\":[\"line_color\",\"height\",\"x\",\"fill_alpha\",\"width\",\"label\",\"line_alpha\",\"color\",\"y\"],\"data\":{\"PercentageAmongstTop\":[9.437189476827845],\"QuestCreationYear\":[\"Oct'09-10\"],\"QuestTags\":[\"jquery\"],\"YearTagCount\":[3476],\"chart_index\":[{\"PercentageAmongstTop\":9.437189476827845,\"QuestCreationYear\":\"Oct'09-10\",\"QuestTags\":\"jquery\",\"YearTagCount\":3476}],\"color\":[\"#87CEFA\"],\"fill_alpha\":[0.8],\"height\":[9.437189476827845],\"label\":[{\"PercentageAmongstTop\":9.437189476827845,\"QuestCreationYear\":\"Oct'09-10\",\"QuestTags\":\"jquery\",\"YearTagCount\":3476}],\"line_alpha\":[1.0],\"line_color\":[\"#9370DB\"],\"width\":[1.0],\"x\":[\"Oct'09-10\"],\"y\":[76.98259712757581]}},\"id\":\"00ff5452-1a5b-4921-bc2f-10fb20120850\",\"type\":\"ColumnDataSource\"},{\"attributes\":{\"callback\":null,\"column_names\":[\"line_color\",\"height\",\"x\",\"fill_alpha\",\"width\",\"label\",\"line_alpha\",\"color\",\"y\"],\"data\":{\"PercentageAmongstTop\":[11.811017144361447],\"QuestCreationYear\":[\"Oct'12-13\"],\"QuestTags\":[\"android\"],\"YearTagCount\":[14357],\"chart_index\":[{\"PercentageAmongstTop\":11.811017144361447,\"QuestCreationYear\":\"Oct'12-13\",\"QuestTags\":\"android\",\"YearTagCount\":14357}],\"color\":[\"#FF6347\"],\"fill_alpha\":[0.8],\"height\":[11.811017144361447],\"label\":[{\"PercentageAmongstTop\":11.811017144361447,\"QuestCreationYear\":\"Oct'12-13\",\"QuestTags\":\"android\",\"YearTagCount\":14357}],\"line_alpha\":[1.0],\"line_color\":[\"#87CEFA\"],\"width\":[1.0],\"x\":[\"Oct'12-13\"],\"y\":[5.9055085721807234]}},\"id\":\"5bc6e97c-c192-4d6b-bf5f-bc649849f8dc\",\"type\":\"ColumnDataSource\"},{\"attributes\":{\"data_source\":{\"id\":\"f7db14c5-8bac-422d-80b2-9eb2c652a688\",\"type\":\"ColumnDataSource\"},\"glyph\":{\"id\":\"5ba075ab-823c-43d4-bb98-f8d5432464c3\",\"type\":\"Rect\"},\"hover_glyph\":null,\"nonselection_glyph\":null,\"selection_glyph\":null},\"id\":\"c6b04923-c1cc-4f93-aa68-3d2128427287\",\"type\":\"GlyphRenderer\"},{\"attributes\":{\"fill_alpha\":{\"field\":\"fill_alpha\"},\"fill_color\":{\"field\":\"color\"},\"height\":{\"field\":\"height\",\"units\":\"data\"},\"line_color\":{\"field\":\"line_color\"},\"width\":{\"field\":\"width\",\"units\":\"data\"},\"x\":{\"field\":\"x\"},\"y\":{\"field\":\"y\"}},\"id\":\"00b1aaec-07a0-4107-9c5e-c7f066f3334e\",\"type\":\"Rect\"},{\"attributes\":{\"callback\":null,\"column_names\":[\"line_color\",\"height\",\"x\",\"fill_alpha\",\"width\",\"label\",\"line_alpha\",\"color\",\"y\"],\"data\":{\"PercentageAmongstTop\":[8.820894306735807],\"QuestCreationYear\":[\"Oct'09-10\"],\"QuestTags\":[\"ios\"],\"YearTagCount\":[3249],\"chart_index\":[{\"PercentageAmongstTop\":8.820894306735807,\"QuestCreationYear\":\"Oct'09-10\",\"QuestTags\":\"ios\",\"YearTagCount\":3249}],\"color\":[\"#F08080\"],\"fill_alpha\":[0.8],\"height\":[8.820894306735807],\"label\":[{\"PercentageAmongstTop\":8.820894306735807,\"QuestCreationYear\":\"Oct'09-10\",\"QuestTags\":\"ios\",\"YearTagCount\":3249}],\"line_alpha\":[1.0],\"line_color\":[\"#778899\"],\"width\":[1.0],\"x\":[\"Oct'09-10\"],\"y\":[45.72122824640947]}},\"id\":\"f7db14c5-8bac-422d-80b2-9eb2c652a688\",\"type\":\"ColumnDataSource\"},{\"attributes\":{\"data_source\":{\"id\":\"3cd36000-757a-4c12-a0a3-fe2d275c6579\",\"type\":\"ColumnDataSource\"},\"glyph\":{\"id\":\"726dc07e-d9d0-4b37-8419-10569f3f18f6\",\"type\":\"Rect\"},\"hover_glyph\":null,\"nonselection_glyph\":null,\"selection_glyph\":null},\"id\":\"2685edd9-0ba2-4ac8-a5d0-5a8464ed8b63\",\"type\":\"GlyphRenderer\"},{\"attributes\":{\"data_source\":{\"id\":\"a54bc7a9-965d-4d5c-96b9-9be93f1df08f\",\"type\":\"ColumnDataSource\"},\"glyph\":{\"id\":\"86f71f2e-4e58-4408-b5c1-ef95fc6a29b5\",\"type\":\"Rect\"},\"hover_glyph\":null,\"nonselection_glyph\":null,\"selection_glyph\":null},\"id\":\"af900ccb-d874-4dd1-afc3-8708bf9293e1\",\"type\":\"GlyphRenderer\"},{\"attributes\":{\"fill_alpha\":{\"field\":\"fill_alpha\"},\"fill_color\":{\"field\":\"color\"},\"height\":{\"field\":\"height\",\"units\":\"data\"},\"line_color\":{\"field\":\"line_color\"},\"width\":{\"field\":\"width\",\"units\":\"data\"},\"x\":{\"field\":\"x\"},\"y\":{\"field\":\"y\"}},\"id\":\"fa6b3c79-92c4-4298-a7a6-4ab8305fd9ec\",\"type\":\"Rect\"},{\"attributes\":{\"fill_alpha\":{\"field\":\"fill_alpha\"},\"fill_color\":{\"field\":\"color\"},\"height\":{\"field\":\"height\",\"units\":\"data\"},\"line_color\":{\"field\":\"line_color\"},\"width\":{\"field\":\"width\",\"units\":\"data\"},\"x\":{\"field\":\"x\"},\"y\":{\"field\":\"y\"}},\"id\":\"e082394d-5386-441d-b145-411b4ff1f89e\",\"type\":\"Rect\"},{\"attributes\":{\"fill_alpha\":{\"field\":\"fill_alpha\"},\"fill_color\":{\"field\":\"color\"},\"height\":{\"field\":\"height\",\"units\":\"data\"},\"line_color\":{\"field\":\"line_color\"},\"width\":{\"field\":\"width\",\"units\":\"data\"},\"x\":{\"field\":\"x\"},\"y\":{\"field\":\"y\"}},\"id\":\"de2f08b3-a55a-4243-9c02-19dc6d036368\",\"type\":\"Rect\"},{\"attributes\":{\"fill_alpha\":{\"field\":\"fill_alpha\"},\"fill_color\":{\"field\":\"color\"},\"height\":{\"field\":\"height\",\"units\":\"data\"},\"line_color\":{\"field\":\"line_color\"},\"width\":{\"field\":\"width\",\"units\":\"data\"},\"x\":{\"field\":\"x\"},\"y\":{\"field\":\"y\"}},\"id\":\"cfaa09f8-29e7-4766-9199-21eb089aa7e9\",\"type\":\"Rect\"},{\"attributes\":{\"data_source\":{\"id\":\"7adfdbf0-d7dc-4da7-a58e-d8c23ad35e43\",\"type\":\"ColumnDataSource\"},\"glyph\":{\"id\":\"f129906b-0822-4ebe-9a8c-c56e7e436440\",\"type\":\"Rect\"},\"hover_glyph\":null,\"nonselection_glyph\":null,\"selection_glyph\":null},\"id\":\"c27a60cf-4984-4545-88f9-ee591e4aae39\",\"type\":\"GlyphRenderer\"},{\"attributes\":{\"below\":[{\"id\":\"549b25e8-4008-43c8-8ac9-8eecf78bc38c\",\"type\":\"CategoricalAxis\"}],\"left\":[{\"id\":\"de46e74d-8d9d-4737-a3c3-c30e2964347c\",\"type\":\"LinearAxis\"}],\"renderers\":[{\"id\":\"22b8f045-549d-4327-84e7-0981292e2291\",\"type\":\"BoxAnnotation\"},{\"id\":\"b9c5a0f0-14e6-4ff1-af9c-edf6e2ae284c\",\"type\":\"GlyphRenderer\"},{\"id\":\"c04d5fcd-0917-4cc6-9fde-857f22008783\",\"type\":\"GlyphRenderer\"},{\"id\":\"f7b3f309-d35c-4de0-93a0-3dc20f0a2a07\",\"type\":\"GlyphRenderer\"},{\"id\":\"02541ba4-0ce5-46b3-827b-fd9d9cb25d00\",\"type\":\"GlyphRenderer\"},{\"id\":\"90de3e99-2e39-4265-8608-4dc1a6da282e\",\"type\":\"GlyphRenderer\"},{\"id\":\"88d70e0b-b245-4e89-b940-1c36d3ef0710\",\"type\":\"GlyphRenderer\"},{\"id\":\"864ed817-c396-48fa-8114-6954049f5686\",\"type\":\"GlyphRenderer\"},{\"id\":\"36a36262-1a81-4c8c-b899-3dfce9c3fe70\",\"type\":\"GlyphRenderer\"},{\"id\":\"728e33e5-6020-44a3-99b5-042d15fb1e89\",\"type\":\"GlyphRenderer\"},{\"id\":\"2901b3fa-7b4f-4334-8d5d-c7391f29c2e5\",\"type\":\"GlyphRenderer\"},{\"id\":\"eff22373-82c7-4aeb-b1ea-b1fa27ec13f1\",\"type\":\"GlyphRenderer\"},{\"id\":\"754f6ed6-0783-4c81-ac89-f950c5dcf485\",\"type\":\"GlyphRenderer\"},{\"id\":\"e8b777a2-b6ea-4530-b88e-1992b88d10cd\",\"type\":\"GlyphRenderer\"},{\"id\":\"59eca912-f1ba-4d6e-83f1-8ca6107c41f1\",\"type\":\"GlyphRenderer\"},{\"id\":\"c6b04923-c1cc-4f93-aa68-3d2128427287\",\"type\":\"GlyphRenderer\"},{\"id\":\"a914711a-b009-47ee-a8a1-894b0a26eb16\",\"type\":\"GlyphRenderer\"},{\"id\":\"720d2fff-b4ee-4898-9851-ce73b64f41ac\",\"type\":\"GlyphRenderer\"},{\"id\":\"3cd989eb-aa40-4b19-a35b-9a4bcc1753cb\",\"type\":\"GlyphRenderer\"},{\"id\":\"dd3dcf2e-02d4-4b8c-b4b2-524ed41bc1b8\",\"type\":\"GlyphRenderer\"},{\"id\":\"72e86562-da51-4a58-8362-fccee9bcc7c3\",\"type\":\"GlyphRenderer\"},{\"id\":\"7e74692a-6544-4f11-b8f0-3593d7521532\",\"type\":\"GlyphRenderer\"},{\"id\":\"aeac1dc3-23f3-498e-9479-2f46bbe20ed8\",\"type\":\"GlyphRenderer\"},{\"id\":\"cc260a52-e741-4eaf-bb32-59fbe40b5c44\",\"type\":\"GlyphRenderer\"},{\"id\":\"86a172f0-c905-4de3-81b5-da146ec35103\",\"type\":\"GlyphRenderer\"},{\"id\":\"8736946e-44e7-4621-ad2c-68b0c6f56e7c\",\"type\":\"GlyphRenderer\"},{\"id\":\"0c9d26e1-d83a-4943-abaf-135932b2ed7a\",\"type\":\"GlyphRenderer\"},{\"id\":\"15d8f455-4a6c-45f1-aba5-46c7692cd83e\",\"type\":\"GlyphRenderer\"},{\"id\":\"a51670f7-d681-4834-88b3-9e0938fcb0ff\",\"type\":\"GlyphRenderer\"},{\"id\":\"94195d89-e34b-4292-b8e2-563c25d3ce67\",\"type\":\"GlyphRenderer\"},{\"id\":\"8b335691-7f3c-46cc-b471-49bdca56b23a\",\"type\":\"GlyphRenderer\"},{\"id\":\"dfc4e160-76af-4454-bc6c-1c4f72b2b39d\",\"type\":\"GlyphRenderer\"},{\"id\":\"c24e938c-11d5-41cf-9395-4fbb754f901a\",\"type\":\"GlyphRenderer\"},{\"id\":\"8d396a85-ed1e-401a-a768-7141ffd33ff9\",\"type\":\"GlyphRenderer\"},{\"id\":\"47bc5eac-a600-4a61-8a74-26bc824b5f7e\",\"type\":\"GlyphRenderer\"},{\"id\":\"0e908344-9e59-463b-a818-ea259b5da46f\",\"type\":\"GlyphRenderer\"},{\"id\":\"dc9e1916-870a-4de6-9617-2d1a51738d00\",\"type\":\"GlyphRenderer\"},{\"id\":\"054970fa-592e-44cb-8752-f65c587edc11\",\"type\":\"GlyphRenderer\"},{\"id\":\"af900ccb-d874-4dd1-afc3-8708bf9293e1\",\"type\":\"GlyphRenderer\"},{\"id\":\"1c99599b-6303-4318-aa41-52d798877804\",\"type\":\"GlyphRenderer\"},{\"id\":\"c1de0742-837b-471d-baf6-faa7ec6f6b14\",\"type\":\"GlyphRenderer\"},{\"id\":\"f8d08713-7748-4dbd-a3c6-bf07d806d7bf\",\"type\":\"GlyphRenderer\"},{\"id\":\"8092a313-fd9e-45f4-bd54-897c2c92fe46\",\"type\":\"GlyphRenderer\"},{\"id\":\"1748ac92-60f8-40e5-9927-b63ba47c2766\",\"type\":\"GlyphRenderer\"},{\"id\":\"42ab2bd1-fc80-42a6-b939-aba60a6442eb\",\"type\":\"GlyphRenderer\"},{\"id\":\"c340a16f-91bb-4b68-8e3f-74c89afadc93\",\"type\":\"GlyphRenderer\"},{\"id\":\"d5e9abb7-f1e4-49ec-96fc-f3e986357719\",\"type\":\"GlyphRenderer\"},{\"id\":\"ff503b42-647e-42d6-bb2b-c141452ec27b\",\"type\":\"GlyphRenderer\"},{\"id\":\"7128a370-6d83-469e-92a7-08a9b0ce4463\",\"type\":\"GlyphRenderer\"},{\"id\":\"532374a2-a830-42d5-995b-1576ee016957\",\"type\":\"GlyphRenderer\"},{\"id\":\"b0161087-54fc-4a75-b973-9adf161d4d51\",\"type\":\"GlyphRenderer\"},{\"id\":\"b0507516-1adb-48d5-a4d7-74e90fa3af10\",\"type\":\"GlyphRenderer\"},{\"id\":\"6a539de5-068d-4415-b47b-2e4b85e3c2a1\",\"type\":\"GlyphRenderer\"},{\"id\":\"66572756-7fe4-4a71-b6b7-0db74c1585ed\",\"type\":\"GlyphRenderer\"},{\"id\":\"faf17272-f486-439d-aa2d-aa70abda39e9\",\"type\":\"GlyphRenderer\"},{\"id\":\"72caa279-f275-404b-b661-23307db67b24\",\"type\":\"GlyphRenderer\"},{\"id\":\"7c13645d-b583-48dc-ab28-fa3a70618ec4\",\"type\":\"GlyphRenderer\"},{\"id\":\"084ff394-f8d1-40c8-ae06-1763f7374858\",\"type\":\"GlyphRenderer\"},{\"id\":\"53351ed5-5a97-4396-ba81-225c2031c672\",\"type\":\"GlyphRenderer\"},{\"id\":\"0387657e-4f1b-41ec-8909-54db4a3121f3\",\"type\":\"GlyphRenderer\"},{\"id\":\"2685edd9-0ba2-4ac8-a5d0-5a8464ed8b63\",\"type\":\"GlyphRenderer\"},{\"id\":\"6b804f1e-ae57-40d3-9de4-30875fe7fea6\",\"type\":\"GlyphRenderer\"},{\"id\":\"131f07bd-6382-4663-b4f9-150fd774f0e9\",\"type\":\"GlyphRenderer\"},{\"id\":\"2951eee1-63ba-4046-bb90-9ec890a51a51\",\"type\":\"GlyphRenderer\"},{\"id\":\"c44950ce-34f9-4590-b0df-ac0ec57b6718\",\"type\":\"GlyphRenderer\"},{\"id\":\"003d2d4c-8056-4021-bdb7-a7f55ea688b2\",\"type\":\"GlyphRenderer\"},{\"id\":\"21240885-c9da-4e4c-b00a-d5fe1dd0d051\",\"type\":\"GlyphRenderer\"},{\"id\":\"c3c81369-c7ee-4e57-b91f-d23c15bc4336\",\"type\":\"GlyphRenderer\"},{\"id\":\"a387949b-a30e-4efe-8c6d-d52e10a87526\",\"type\":\"GlyphRenderer\"},{\"id\":\"1d60c25f-a340-4c74-aabb-27fe6c14fdf2\",\"type\":\"GlyphRenderer\"},{\"id\":\"109ada0b-ecd0-43f1-bd63-7d217fd0ef29\",\"type\":\"GlyphRenderer\"},{\"id\":\"ef32d872-78a9-4ba2-bab5-fbd8e9e49f47\",\"type\":\"GlyphRenderer\"},{\"id\":\"b9e672a7-f5d6-4f99-91e4-8beebfea0274\",\"type\":\"GlyphRenderer\"},{\"id\":\"15abdae9-d0d8-4a16-90df-ad96e9eadd31\",\"type\":\"GlyphRenderer\"},{\"id\":\"29bffa14-ee11-4e0f-b09f-b59dbaf71456\",\"type\":\"GlyphRenderer\"},{\"id\":\"4f5cb602-432a-4f00-9da9-0b1dbcd700e9\",\"type\":\"GlyphRenderer\"},{\"id\":\"0b269006-6cc7-455a-97e8-e616bbb23d0c\",\"type\":\"GlyphRenderer\"},{\"id\":\"c27a60cf-4984-4545-88f9-ee591e4aae39\",\"type\":\"GlyphRenderer\"},{\"id\":\"c9d72327-f222-4fe7-97da-fa50704321e1\",\"type\":\"GlyphRenderer\"},{\"id\":\"05a237ca-3a04-46fe-9676-dfe68987cb0a\",\"type\":\"GlyphRenderer\"},{\"id\":\"62c5f3e6-78ee-4ac8-997f-4a08c1bac74f\",\"type\":\"GlyphRenderer\"},{\"id\":\"549b25e8-4008-43c8-8ac9-8eecf78bc38c\",\"type\":\"CategoricalAxis\"},{\"id\":\"de46e74d-8d9d-4737-a3c3-c30e2964347c\",\"type\":\"LinearAxis\"},{\"id\":\"fc5430a5-c332-405b-974d-2d879ab373ce\",\"type\":\"Grid\"}],\"title\":{\"id\":\"46b69c9d-7df4-4755-8f52-45c0942d04a6\",\"type\":\"Title\"},\"tool_events\":{\"id\":\"35c48668-5617-43b1-805e-a686831300bd\",\"type\":\"ToolEvents\"},\"toolbar\":{\"id\":\"b749c347-ed51-467c-9c7e-ff4b7a1f6608\",\"type\":\"Toolbar\"},\"x_mapper_type\":\"auto\",\"x_range\":{\"id\":\"9fd2a46b-35f6-45fd-b3b9-d059825cea5c\",\"type\":\"FactorRange\"},\"y_mapper_type\":\"auto\",\"y_range\":{\"id\":\"f2248792-b79c-46c5-8d4c-1347acfc60a8\",\"type\":\"Range1d\"}},\"id\":\"347d030e-cc91-46aa-b20a-db951d02a0ca\",\"subtype\":\"Chart\",\"type\":\"Plot\"},{\"attributes\":{\"callback\":null,\"column_names\":[\"line_color\",\"height\",\"x\",\"fill_alpha\",\"width\",\"label\",\"line_alpha\",\"color\",\"y\"],\"data\":{\"PercentageAmongstTop\":[5.811481218993621],\"QuestCreationYear\":[\"Oct'11-12\"],\"QuestTags\":[\"python\"],\"YearTagCount\":[5576],\"chart_index\":[{\"PercentageAmongstTop\":5.811481218993621,\"QuestCreationYear\":\"Oct'11-12\",\"QuestTags\":\"python\",\"YearTagCount\":5576}],\"color\":[\"#FFA07A\"],\"fill_alpha\":[0.8],\"height\":[5.811481218993621],\"label\":[{\"PercentageAmongstTop\":5.811481218993621,\"QuestCreationYear\":\"Oct'11-12\",\"QuestTags\":\"python\",\"YearTagCount\":5576}],\"line_alpha\":[1.0],\"line_color\":[\"#F08080\"],\"width\":[1.0],\"x\":[\"Oct'11-12\"],\"y\":[97.0942593905032]}},\"id\":\"5521b432-a566-41da-9f4e-379e398c0bef\",\"type\":\"ColumnDataSource\"},{\"attributes\":{\"fill_alpha\":{\"field\":\"fill_alpha\"},\"fill_color\":{\"field\":\"color\"},\"height\":{\"field\":\"height\",\"units\":\"data\"},\"line_color\":{\"field\":\"line_color\"},\"width\":{\"field\":\"width\",\"units\":\"data\"},\"x\":{\"field\":\"x\"},\"y\":{\"field\":\"y\"}},\"id\":\"968ce777-8076-4237-828c-4d79d687f84d\",\"type\":\"Rect\"},{\"attributes\":{\"fill_alpha\":{\"field\":\"fill_alpha\"},\"fill_color\":{\"field\":\"color\"},\"height\":{\"field\":\"height\",\"units\":\"data\"},\"line_color\":{\"field\":\"line_color\"},\"width\":{\"field\":\"width\",\"units\":\"data\"},\"x\":{\"field\":\"x\"},\"y\":{\"field\":\"y\"}},\"id\":\"2436d6a8-3663-4178-b69f-fa93e2be572f\",\"type\":\"Rect\"},{\"attributes\":{\"callback\":null,\"column_names\":[\"line_color\",\"height\",\"x\",\"fill_alpha\",\"width\",\"label\",\"line_alpha\",\"color\",\"y\"],\"data\":{\"PercentageAmongstTop\":[7.764674310080062],\"QuestCreationYear\":[\"Oct'10-11\"],\"QuestTags\":[\"ios\"],\"YearTagCount\":[5208],\"chart_index\":[{\"PercentageAmongstTop\":7.764674310080062,\"QuestCreationYear\":\"Oct'10-11\",\"QuestTags\":\"ios\",\"YearTagCount\":5208}],\"color\":[\"#F08080\"],\"fill_alpha\":[0.8],\"height\":[7.764674310080062],\"label\":[{\"PercentageAmongstTop\":7.764674310080062,\"QuestCreationYear\":\"Oct'10-11\",\"QuestTags\":\"ios\",\"YearTagCount\":5208}],\"line_alpha\":[1.0],\"line_color\":[\"#ADD8E6\"],\"width\":[1.0],\"x\":[\"Oct'10-11\"],\"y\":[42.43734438596753]}},\"id\":\"4178b993-004d-427d-bdbb-e8383dc9488f\",\"type\":\"ColumnDataSource\"},{\"attributes\":{\"fill_alpha\":{\"field\":\"fill_alpha\"},\"fill_color\":{\"field\":\"color\"},\"height\":{\"field\":\"height\",\"units\":\"data\"},\"line_color\":{\"field\":\"line_color\"},\"width\":{\"field\":\"width\",\"units\":\"data\"},\"x\":{\"field\":\"x\"},\"y\":{\"field\":\"y\"}},\"id\":\"f129906b-0822-4ebe-9a8c-c56e7e436440\",\"type\":\"Rect\"},{\"attributes\":{\"data_source\":{\"id\":\"0b57bb74-254e-4ffd-9520-b6c1b08d21c9\",\"type\":\"ColumnDataSource\"},\"glyph\":{\"id\":\"42cb141b-d693-4664-95f0-ddd01a24f2c9\",\"type\":\"Rect\"},\"hover_glyph\":null,\"nonselection_glyph\":null,\"selection_glyph\":null},\"id\":\"ef32d872-78a9-4ba2-bab5-fbd8e9e49f47\",\"type\":\"GlyphRenderer\"},{\"attributes\":{\"data_source\":{\"id\":\"bec4f644-d2f0-42cf-9f79-5568c70818c0\",\"type\":\"ColumnDataSource\"},\"glyph\":{\"id\":\"80544cdc-0f96-47a4-8f74-d6bc93280264\",\"type\":\"Rect\"},\"hover_glyph\":null,\"nonselection_glyph\":null,\"selection_glyph\":null},\"id\":\"72e86562-da51-4a58-8362-fccee9bcc7c3\",\"type\":\"GlyphRenderer\"},{\"attributes\":{\"callback\":null,\"column_names\":[\"line_color\",\"height\",\"x\",\"fill_alpha\",\"width\",\"label\",\"line_alpha\",\"color\",\"y\"],\"data\":{\"PercentageAmongstTop\":[13.899391524711685],\"QuestCreationYear\":[\"Oct'13-14\"],\"QuestTags\":[\"java\"],\"YearTagCount\":[20513],\"chart_index\":[{\"PercentageAmongstTop\":13.899391524711685,\"QuestCreationYear\":\"Oct'13-14\",\"QuestTags\":\"java\",\"YearTagCount\":20513}],\"color\":[\"#D3D3D3\"],\"fill_alpha\":[0.8],\"height\":[13.899391524711685],\"label\":[{\"PercentageAmongstTop\":13.899391524711685,\"QuestCreationYear\":\"Oct'13-14\",\"QuestTags\":\"java\",\"YearTagCount\":20513}],\"line_alpha\":[1.0],\"line_color\":[\"#87CEFA\"],\"width\":[1.0],\"x\":[\"Oct'13-14\"],\"y\":[48.51574040194604]}},\"id\":\"28d847ab-b21f-409e-9dc7-4c10750e3cfb\",\"type\":\"ColumnDataSource\"},{\"attributes\":{\"data_source\":{\"id\":\"4e68adcf-0219-44e6-a930-433de4bcb2dc\",\"type\":\"ColumnDataSource\"},\"glyph\":{\"id\":\"fa6b3c79-92c4-4298-a7a6-4ab8305fd9ec\",\"type\":\"Rect\"},\"hover_glyph\":null,\"nonselection_glyph\":null,\"selection_glyph\":null},\"id\":\"728e33e5-6020-44a3-99b5-042d15fb1e89\",\"type\":\"GlyphRenderer\"},{\"attributes\":{\"data_source\":{\"id\":\"2445f0e5-3c99-4b28-9787-6a9849965783\",\"type\":\"ColumnDataSource\"},\"glyph\":{\"id\":\"b7b9727d-a3e1-47c0-8ee8-d50a60aa023c\",\"type\":\"Rect\"},\"hover_glyph\":null,\"nonselection_glyph\":null,\"selection_glyph\":null},\"id\":\"ff503b42-647e-42d6-bb2b-c141452ec27b\",\"type\":\"GlyphRenderer\"},{\"attributes\":{\"fill_alpha\":{\"field\":\"fill_alpha\"},\"fill_color\":{\"field\":\"color\"},\"height\":{\"field\":\"height\",\"units\":\"data\"},\"line_color\":{\"field\":\"line_color\"},\"width\":{\"field\":\"width\",\"units\":\"data\"},\"x\":{\"field\":\"x\"},\"y\":{\"field\":\"y\"}},\"id\":\"7d47c542-afd5-4492-8b55-50c2a4ea947e\",\"type\":\"Rect\"},{\"attributes\":{\"callback\":null,\"column_names\":[\"line_color\",\"height\",\"x\",\"fill_alpha\",\"width\",\"label\",\"line_alpha\",\"color\",\"y\"],\"data\":{\"PercentageAmongstTop\":[11.01484465537222],\"QuestCreationYear\":[\"Oct'14-15\"],\"QuestTags\":[\"android\"],\"YearTagCount\":[15968],\"chart_index\":[{\"PercentageAmongstTop\":11.01484465537222,\"QuestCreationYear\":\"Oct'14-15\",\"QuestTags\":\"android\",\"YearTagCount\":15968}],\"color\":[\"#FF6347\"],\"fill_alpha\":[0.8],\"height\":[11.01484465537222],\"label\":[{\"PercentageAmongstTop\":11.01484465537222,\"QuestCreationYear\":\"Oct'14-15\",\"QuestTags\":\"android\",\"YearTagCount\":15968}],\"line_alpha\":[1.0],\"line_color\":[\"#F0E68C\"],\"width\":[1.0],\"x\":[\"Oct'14-15\"],\"y\":[5.50742232768611]}},\"id\":\"57abafaa-2868-4b6b-8b4a-66b472f09135\",\"type\":\"ColumnDataSource\"},{\"attributes\":{\"fill_alpha\":{\"field\":\"fill_alpha\"},\"fill_color\":{\"field\":\"color\"},\"height\":{\"field\":\"height\",\"units\":\"data\"},\"line_color\":{\"field\":\"line_color\"},\"width\":{\"field\":\"width\",\"units\":\"data\"},\"x\":{\"field\":\"x\"},\"y\":{\"field\":\"y\"}},\"id\":\"b7b9727d-a3e1-47c0-8ee8-d50a60aa023c\",\"type\":\"Rect\"},{\"attributes\":{\"fill_alpha\":{\"field\":\"fill_alpha\"},\"fill_color\":{\"field\":\"color\"},\"height\":{\"field\":\"height\",\"units\":\"data\"},\"line_color\":{\"field\":\"line_color\"},\"width\":{\"field\":\"width\",\"units\":\"data\"},\"x\":{\"field\":\"x\"},\"y\":{\"field\":\"y\"}},\"id\":\"33580b06-05e2-4e22-ae04-3917d722d59f\",\"type\":\"Rect\"},{\"attributes\":{\"data_source\":{\"id\":\"fcdb748c-66a4-427f-a077-3cf8f727bfdd\",\"type\":\"ColumnDataSource\"},\"glyph\":{\"id\":\"d7eaa5fb-060d-464b-972a-67ec6350de5b\",\"type\":\"Rect\"},\"hover_glyph\":null,\"nonselection_glyph\":null,\"selection_glyph\":null},\"id\":\"720d2fff-b4ee-4898-9851-ce73b64f41ac\",\"type\":\"GlyphRenderer\"},{\"attributes\":{\"callback\":null,\"column_names\":[\"line_color\",\"height\",\"x\",\"fill_alpha\",\"width\",\"label\",\"line_alpha\",\"color\",\"y\"],\"data\":{\"PercentageAmongstTop\":[10.867264025762974],\"QuestCreationYear\":[\"Oct'10-11\"],\"QuestTags\":[\"android\"],\"YearTagCount\":[7289],\"chart_index\":[{\"PercentageAmongstTop\":10.867264025762974,\"QuestCreationYear\":\"Oct'10-11\",\"QuestTags\":\"android\",\"YearTagCount\":7289}],\"color\":[\"#FF6347\"],\"fill_alpha\":[0.8],\"height\":[10.867264025762974],\"label\":[{\"PercentageAmongstTop\":10.867264025762974,\"QuestCreationYear\":\"Oct'10-11\",\"QuestTags\":\"android\",\"YearTagCount\":7289}],\"line_alpha\":[1.0],\"line_color\":[\"#9370DB\"],\"width\":[1.0],\"x\":[\"Oct'10-11\"],\"y\":[5.433632012881487]}},\"id\":\"2a99da80-3812-42ab-8ace-a632617eae5c\",\"type\":\"ColumnDataSource\"},{\"attributes\":{\"callback\":null,\"column_names\":[\"line_color\",\"height\",\"x\",\"fill_alpha\",\"width\",\"label\",\"line_alpha\",\"color\",\"y\"],\"data\":{\"PercentageAmongstTop\":[7.847807499694638],\"QuestCreationYear\":[\"Oct'08-09\"],\"QuestTags\":[\"c++\"],\"YearTagCount\":[1285],\"chart_index\":[{\"PercentageAmongstTop\":7.847807499694638,\"QuestCreationYear\":\"Oct'08-09\",\"QuestTags\":\"c++\",\"YearTagCount\":1285}],\"color\":[\"#FFF0F5\"],\"fill_alpha\":[0.8],\"height\":[7.847807499694638],\"label\":[{\"PercentageAmongstTop\":7.847807499694638,\"QuestCreationYear\":\"Oct'08-09\",\"QuestTags\":\"c++\",\"YearTagCount\":1285}],\"line_alpha\":[1.0],\"line_color\":[\"#E6E6FA\"],\"width\":[1.0],\"x\":[\"Oct'08-09\"],\"y\":[49.1541468181263]}},\"id\":\"9ac13afe-cc7e-4829-a0fc-ff692f10d473\",\"type\":\"ColumnDataSource\"},{\"attributes\":{\"fill_alpha\":{\"field\":\"fill_alpha\"},\"fill_color\":{\"field\":\"color\"},\"height\":{\"field\":\"height\",\"units\":\"data\"},\"line_color\":{\"field\":\"line_color\"},\"width\":{\"field\":\"width\",\"units\":\"data\"},\"x\":{\"field\":\"x\"},\"y\":{\"field\":\"y\"}},\"id\":\"089682d9-d7cc-4d23-a312-d2874f4f2f33\",\"type\":\"Rect\"},{\"attributes\":{\"fill_alpha\":{\"field\":\"fill_alpha\"},\"fill_color\":{\"field\":\"color\"},\"height\":{\"field\":\"height\",\"units\":\"data\"},\"line_color\":{\"field\":\"line_color\"},\"width\":{\"field\":\"width\",\"units\":\"data\"},\"x\":{\"field\":\"x\"},\"y\":{\"field\":\"y\"}},\"id\":\"d0bb6c4e-0131-422d-a733-b46a51cf41a8\",\"type\":\"Rect\"},{\"attributes\":{},\"id\":\"cafb1e6f-9ab4-4b20-9890-2907a3f10638\",\"type\":\"BasicTicker\"},{\"attributes\":{\"fill_alpha\":{\"field\":\"fill_alpha\"},\"fill_color\":{\"field\":\"color\"},\"height\":{\"field\":\"height\",\"units\":\"data\"},\"line_color\":{\"field\":\"line_color\"},\"width\":{\"field\":\"width\",\"units\":\"data\"},\"x\":{\"field\":\"x\"},\"y\":{\"field\":\"y\"}},\"id\":\"e2886c3e-b5f9-4f00-a153-566f244b1c3d\",\"type\":\"Rect\"},{\"attributes\":{\"callback\":null,\"column_names\":[\"line_color\",\"height\",\"x\",\"fill_alpha\",\"width\",\"label\",\"line_alpha\",\"color\",\"y\"],\"data\":{\"PercentageAmongstTop\":[5.194667200030001],\"QuestCreationYear\":[\"Oct'15-16\"],\"QuestTags\":[\"css\"],\"YearTagCount\":[8311],\"chart_index\":[{\"PercentageAmongstTop\":5.194667200030001,\"QuestCreationYear\":\"Oct'15-16\",\"QuestTags\":\"css\",\"YearTagCount\":8311}],\"color\":[\"#90EE90\"],\"fill_alpha\":[0.8],\"height\":[5.194667200030001],\"label\":[{\"PercentageAmongstTop\":5.194667200030001,\"QuestCreationYear\":\"Oct'15-16\",\"QuestTags\":\"css\",\"YearTagCount\":8311}],\"line_alpha\":[1.0],\"line_color\":[\"#E6E6FA\"],\"width\":[1.0],\"x\":[\"Oct'15-16\"],\"y\":[24.33355626253977]}},\"id\":\"d3df631d-18b9-43b9-836b-ea5df7e94e95\",\"type\":\"ColumnDataSource\"},{\"attributes\":{\"fill_alpha\":{\"field\":\"fill_alpha\"},\"fill_color\":{\"field\":\"color\"},\"height\":{\"field\":\"height\",\"units\":\"data\"},\"line_color\":{\"field\":\"line_color\"},\"width\":{\"field\":\"width\",\"units\":\"data\"},\"x\":{\"field\":\"x\"},\"y\":{\"field\":\"y\"}},\"id\":\"f3e68ba2-516c-4eb1-a472-6502f273ad76\",\"type\":\"Rect\"},{\"attributes\":{\"callback\":null,\"column_names\":[\"line_color\",\"height\",\"x\",\"fill_alpha\",\"width\",\"label\",\"line_alpha\",\"color\",\"y\"],\"data\":{\"PercentageAmongstTop\":[8.44021008916575],\"QuestCreationYear\":[\"Oct'08-09\"],\"QuestTags\":[\"javascript\"],\"YearTagCount\":[1382],\"chart_index\":[{\"PercentageAmongstTop\":8.44021008916575,\"QuestCreationYear\":\"Oct'08-09\",\"QuestTags\":\"javascript\",\"YearTagCount\":1382}],\"color\":[\"#FFB6C1\"],\"fill_alpha\":[0.8],\"height\":[8.44021008916575],\"label\":[{\"PercentageAmongstTop\":8.44021008916575,\"QuestCreationYear\":\"Oct'08-09\",\"QuestTags\":\"javascript\",\"YearTagCount\":1382}],\"line_alpha\":[1.0],\"line_color\":[\"#FFF0F5\"],\"width\":[1.0],\"x\":[\"Oct'08-09\"],\"y\":[74.60608281421767]}},\"id\":\"de3fef40-0c86-4965-8ca4-45f0a71f9908\",\"type\":\"ColumnDataSource\"},{\"attributes\":{\"callback\":null,\"column_names\":[\"line_color\",\"height\",\"x\",\"fill_alpha\",\"width\",\"label\",\"line_alpha\",\"color\",\"y\"],\"data\":{\"PercentageAmongstTop\":[11.000664037619764],\"QuestCreationYear\":[\"Oct'13-14\"],\"QuestTags\":[\"c#\"],\"YearTagCount\":[16235],\"chart_index\":[{\"PercentageAmongstTop\":11.000664037619764,\"QuestCreationYear\":\"Oct'13-14\",\"QuestTags\":\"c#\",\"YearTagCount\":16235}],\"color\":[\"#E6E6FA\"],\"fill_alpha\":[0.8],\"height\":[11.000664037619764],\"label\":[{\"PercentageAmongstTop\":11.000664037619764,\"QuestCreationYear\":\"Oct'13-14\",\"QuestTags\":\"c#\",\"YearTagCount\":16235}],\"line_alpha\":[1.0],\"line_color\":[\"#FFF0F5\"],\"width\":[1.0],\"x\":[\"Oct'13-14\"],\"y\":[16.449499261427547]}},\"id\":\"70e584b2-0960-4715-8b14-73a83191a090\",\"type\":\"ColumnDataSource\"},{\"attributes\":{\"fill_alpha\":{\"field\":\"fill_alpha\"},\"fill_color\":{\"field\":\"color\"},\"height\":{\"field\":\"height\",\"units\":\"data\"},\"line_color\":{\"field\":\"line_color\"},\"width\":{\"field\":\"width\",\"units\":\"data\"},\"x\":{\"field\":\"x\"},\"y\":{\"field\":\"y\"}},\"id\":\"282b604b-d5b8-468a-880e-d4978a025aab\",\"type\":\"Rect\"},{\"attributes\":{\"data_source\":{\"id\":\"70e584b2-0960-4715-8b14-73a83191a090\",\"type\":\"ColumnDataSource\"},\"glyph\":{\"id\":\"4cb59ab1-7a0b-4caf-be98-f2d11239b6fb\",\"type\":\"Rect\"},\"hover_glyph\":null,\"nonselection_glyph\":null,\"selection_glyph\":null},\"id\":\"6a539de5-068d-4415-b47b-2e4b85e3c2a1\",\"type\":\"GlyphRenderer\"},{\"attributes\":{\"callback\":null,\"column_names\":[\"line_color\",\"height\",\"x\",\"fill_alpha\",\"width\",\"label\",\"line_alpha\",\"color\",\"y\"],\"data\":{\"PercentageAmongstTop\":[18.268943610349414],\"QuestCreationYear\":[\"Oct'09-10\"],\"QuestTags\":[\"c#\"],\"YearTagCount\":[6729],\"chart_index\":[{\"PercentageAmongstTop\":18.268943610349414,\"QuestCreationYear\":\"Oct'09-10\",\"QuestTags\":\"c#\",\"YearTagCount\":6729}],\"color\":[\"#E6E6FA\"],\"fill_alpha\":[0.8],\"height\":[18.268943610349414],\"label\":[{\"PercentageAmongstTop\":18.268943610349414,\"QuestCreationYear\":\"Oct'09-10\",\"QuestTags\":\"c#\",\"YearTagCount\":6729}],\"line_alpha\":[1.0],\"line_color\":[\"#20B2AA\"],\"width\":[1.0],\"x\":[\"Oct'09-10\"],\"y\":[24.832351423994787]}},\"id\":\"13db5f2e-935f-48de-9311-faba9dd3e1c2\",\"type\":\"ColumnDataSource\"},{\"attributes\":{\"callback\":null,\"column_names\":[\"line_color\",\"height\",\"x\",\"fill_alpha\",\"width\",\"label\",\"line_alpha\",\"color\",\"y\"],\"data\":{\"PercentageAmongstTop\":[10.949167242617664],\"QuestCreationYear\":[\"Oct'13-14\"],\"QuestTags\":[\"android\"],\"YearTagCount\":[16159],\"chart_index\":[{\"PercentageAmongstTop\":10.949167242617664,\"QuestCreationYear\":\"Oct'13-14\",\"QuestTags\":\"android\",\"YearTagCount\":16159}],\"color\":[\"#FF6347\"],\"fill_alpha\":[0.8],\"height\":[10.949167242617664],\"label\":[{\"PercentageAmongstTop\":10.949167242617664,\"QuestCreationYear\":\"Oct'13-14\",\"QuestTags\":\"android\",\"YearTagCount\":16159}],\"line_alpha\":[1.0],\"line_color\":[\"#E6E6FA\"],\"width\":[1.0],\"x\":[\"Oct'13-14\"],\"y\":[5.474583621308832]}},\"id\":\"32f5653d-b460-48fa-adbc-90d78345bd9a\",\"type\":\"ColumnDataSource\"},{\"attributes\":{\"data_source\":{\"id\":\"5521b432-a566-41da-9f4e-379e398c0bef\",\"type\":\"ColumnDataSource\"},\"glyph\":{\"id\":\"69a4ba51-259b-40bc-b57e-4b3908087f1e\",\"type\":\"Rect\"},\"hover_glyph\":null,\"nonselection_glyph\":null,\"selection_glyph\":null},\"id\":\"c1de0742-837b-471d-baf6-faa7ec6f6b14\",\"type\":\"GlyphRenderer\"},{\"attributes\":{\"callback\":null,\"column_names\":[\"line_color\",\"height\",\"x\",\"fill_alpha\",\"width\",\"label\",\"line_alpha\",\"color\",\"y\"],\"data\":{\"PercentageAmongstTop\":[7.779187579301336],\"QuestCreationYear\":[\"Oct'15-16\"],\"QuestTags\":[\"jquery\"],\"YearTagCount\":[12446],\"chart_index\":[{\"PercentageAmongstTop\":7.779187579301336,\"QuestCreationYear\":\"Oct'15-16\",\"QuestTags\":\"jquery\",\"YearTagCount\":12446}],\"color\":[\"#87CEFA\"],\"fill_alpha\":[0.8],\"height\":[7.779187579301336],\"label\":[{\"PercentageAmongstTop\":7.779187579301336,\"QuestCreationYear\":\"Oct'15-16\",\"QuestTags\":\"jquery\",\"YearTagCount\":12446}],\"line_alpha\":[1.0],\"line_color\":[\"#FFF0F5\"],\"width\":[1.0],\"x\":[\"Oct'15-16\"],\"y\":[75.5936271415267]}},\"id\":\"1f242e42-7d9a-49af-ad69-29f18b4afa79\",\"type\":\"ColumnDataSource\"},{\"attributes\":{\"callback\":null,\"column_names\":[\"line_color\",\"height\",\"x\",\"fill_alpha\",\"width\",\"label\",\"line_alpha\",\"color\",\"y\"],\"data\":{\"PercentageAmongstTop\":[8.602588157386458],\"QuestCreationYear\":[\"Oct'14-15\"],\"QuestTags\":[\"python\"],\"YearTagCount\":[12471],\"chart_index\":[{\"PercentageAmongstTop\":8.602588157386458,\"QuestCreationYear\":\"Oct'14-15\",\"QuestTags\":\"python\",\"YearTagCount\":12471}],\"color\":[\"#FFA07A\"],\"fill_alpha\":[0.8],\"height\":[8.602588157386458],\"label\":[{\"PercentageAmongstTop\":8.602588157386458,\"QuestCreationYear\":\"Oct'14-15\",\"QuestTags\":\"python\",\"YearTagCount\":12471}],\"line_alpha\":[1.0],\"line_color\":[\"#ADD8E6\"],\"width\":[1.0],\"x\":[\"Oct'14-15\"],\"y\":[95.69870592130678]}},\"id\":\"5ad0294b-caa4-4506-ba19-6d4bbbc19202\",\"type\":\"ColumnDataSource\"},{\"attributes\":{\"fill_alpha\":{\"field\":\"fill_alpha\"},\"fill_color\":{\"field\":\"color\"},\"height\":{\"field\":\"height\",\"units\":\"data\"},\"line_color\":{\"field\":\"line_color\"},\"width\":{\"field\":\"width\",\"units\":\"data\"},\"x\":{\"field\":\"x\"},\"y\":{\"field\":\"y\"}},\"id\":\"8e67d4bd-f8e9-4212-b5df-df063e30b8b9\",\"type\":\"Rect\"},{\"attributes\":{\"fill_alpha\":{\"field\":\"fill_alpha\"},\"fill_color\":{\"field\":\"color\"},\"height\":{\"field\":\"height\",\"units\":\"data\"},\"line_color\":{\"field\":\"line_color\"},\"width\":{\"field\":\"width\",\"units\":\"data\"},\"x\":{\"field\":\"x\"},\"y\":{\"field\":\"y\"}},\"id\":\"721eef42-33f3-4cb7-b23e-2f8183c0cb1f\",\"type\":\"Rect\"},{\"attributes\":{\"data_source\":{\"id\":\"d3df631d-18b9-43b9-836b-ea5df7e94e95\",\"type\":\"ColumnDataSource\"},\"glyph\":{\"id\":\"69cdbc6a-e222-44b3-88ff-e715e85af351\",\"type\":\"Rect\"},\"hover_glyph\":null,\"nonselection_glyph\":null,\"selection_glyph\":null},\"id\":\"15abdae9-d0d8-4a16-90df-ad96e9eadd31\",\"type\":\"GlyphRenderer\"},{\"attributes\":{\"fill_alpha\":{\"field\":\"fill_alpha\"},\"fill_color\":{\"field\":\"color\"},\"height\":{\"field\":\"height\",\"units\":\"data\"},\"line_color\":{\"field\":\"line_color\"},\"width\":{\"field\":\"width\",\"units\":\"data\"},\"x\":{\"field\":\"x\"},\"y\":{\"field\":\"y\"}},\"id\":\"d31bf7b5-3eec-493d-9254-acc88ddc886a\",\"type\":\"Rect\"},{\"attributes\":{\"data_source\":{\"id\":\"51c55c48-64e4-4570-9239-79c1a8d47cf2\",\"type\":\"ColumnDataSource\"},\"glyph\":{\"id\":\"556c68f8-e4b2-4651-95c8-fab66c7ce55e\",\"type\":\"Rect\"},\"hover_glyph\":null,\"nonselection_glyph\":null,\"selection_glyph\":null},\"id\":\"a51670f7-d681-4834-88b3-9e0938fcb0ff\",\"type\":\"GlyphRenderer\"},{\"attributes\":{\"callback\":null,\"column_names\":[\"line_color\",\"height\",\"x\",\"fill_alpha\",\"width\",\"label\",\"line_alpha\",\"color\",\"y\"],\"data\":{\"PercentageAmongstTop\":[9.94868461350951],\"QuestCreationYear\":[\"Oct'15-16\"],\"QuestTags\":[\"c#\"],\"YearTagCount\":[15917],\"chart_index\":[{\"PercentageAmongstTop\":9.94868461350951,\"QuestCreationYear\":\"Oct'15-16\",\"QuestTags\":\"c#\",\"YearTagCount\":15917}],\"color\":[\"#E6E6FA\"],\"fill_alpha\":[0.8],\"height\":[9.94868461350951],\"label\":[{\"PercentageAmongstTop\":9.94868461350951,\"QuestCreationYear\":\"Oct'15-16\",\"QuestTags\":\"c#\",\"YearTagCount\":15917}],\"line_alpha\":[1.0],\"line_color\":[\"#4B0082\"],\"width\":[1.0],\"x\":[\"Oct'15-16\"],\"y\":[16.76188035577001]}},\"id\":\"2f58590a-f4a9-484b-b0a4-9acc3ed6ce55\",\"type\":\"ColumnDataSource\"},{\"attributes\":{\"fill_alpha\":{\"field\":\"fill_alpha\"},\"fill_color\":{\"field\":\"color\"},\"height\":{\"field\":\"height\",\"units\":\"data\"},\"line_color\":{\"field\":\"line_color\"},\"width\":{\"field\":\"width\",\"units\":\"data\"},\"x\":{\"field\":\"x\"},\"y\":{\"field\":\"y\"}},\"id\":\"86f71f2e-4e58-4408-b5c1-ef95fc6a29b5\",\"type\":\"Rect\"},{\"attributes\":{\"callback\":null,\"column_names\":[\"line_color\",\"height\",\"x\",\"fill_alpha\",\"width\",\"label\",\"line_alpha\",\"color\",\"y\"],\"data\":{\"PercentageAmongstTop\":[22.48686942714059],\"QuestCreationYear\":[\"Oct'08-09\"],\"QuestTags\":[\"c#\"],\"YearTagCount\":[3682],\"chart_index\":[{\"PercentageAmongstTop\":22.48686942714059,\"QuestCreationYear\":\"Oct'08-09\",\"QuestTags\":\"c#\",\"YearTagCount\":3682}],\"color\":[\"#E6E6FA\"],\"fill_alpha\":[0.8],\"height\":[22.48686942714059],\"label\":[{\"PercentageAmongstTop\":22.48686942714059,\"QuestCreationYear\":\"Oct'08-09\",\"QuestTags\":\"c#\",\"YearTagCount\":3682}],\"line_alpha\":[1.0],\"line_color\":[\"#4B0082\"],\"width\":[1.0],\"x\":[\"Oct'08-09\"],\"y\":[33.986808354708685]}},\"id\":\"c9bcfb8f-7761-41fa-a611-e3c1529acad5\",\"type\":\"ColumnDataSource\"},{\"attributes\":{\"data_source\":{\"id\":\"32f5653d-b460-48fa-adbc-90d78345bd9a\",\"type\":\"ColumnDataSource\"},\"glyph\":{\"id\":\"7d47c542-afd5-4492-8b55-50c2a4ea947e\",\"type\":\"Rect\"},\"hover_glyph\":null,\"nonselection_glyph\":null,\"selection_glyph\":null},\"id\":\"b0507516-1adb-48d5-a4d7-74e90fa3af10\",\"type\":\"GlyphRenderer\"},{\"attributes\":{\"callback\":null,\"column_names\":[\"line_color\",\"height\",\"x\",\"fill_alpha\",\"width\",\"label\",\"line_alpha\",\"color\",\"y\"],\"data\":{\"PercentageAmongstTop\":[13.853697061436703],\"QuestCreationYear\":[\"Oct'12-13\"],\"QuestTags\":[\"javascript\"],\"YearTagCount\":[16840],\"chart_index\":[{\"PercentageAmongstTop\":13.853697061436703,\"QuestCreationYear\":\"Oct'12-13\",\"QuestTags\":\"javascript\",\"YearTagCount\":16840}],\"color\":[\"#FFB6C1\"],\"fill_alpha\":[0.8],\"height\":[13.853697061436703],\"label\":[{\"PercentageAmongstTop\":13.853697061436703,\"QuestCreationYear\":\"Oct'12-13\",\"QuestTags\":\"javascript\",\"YearTagCount\":16840}],\"line_alpha\":[1.0],\"line_color\":[\"#ADD8E6\"],\"width\":[1.0],\"x\":[\"Oct'12-13\"],\"y\":[63.37161472901379]}},\"id\":\"2445f0e5-3c99-4b28-9787-6a9849965783\",\"type\":\"ColumnDataSource\"},{\"attributes\":{\"axis_label\":\"Year in which Question was Created\",\"formatter\":{\"id\":\"865b1019-13ee-4c99-9be8-e5ce8ae68f4c\",\"type\":\"CategoricalTickFormatter\"},\"major_label_orientation\":0.7853981633974483,\"plot\":{\"id\":\"347d030e-cc91-46aa-b20a-db951d02a0ca\",\"subtype\":\"Chart\",\"type\":\"Plot\"},\"ticker\":{\"id\":\"32394bb5-fee8-48d4-b736-c9006814a59b\",\"type\":\"CategoricalTicker\"}},\"id\":\"549b25e8-4008-43c8-8ac9-8eecf78bc38c\",\"type\":\"CategoricalAxis\"},{\"attributes\":{\"data_source\":{\"id\":\"227a98a2-1871-414f-bfe6-42180b47d160\",\"type\":\"ColumnDataSource\"},\"glyph\":{\"id\":\"0857df33-32d5-4cf5-a7fc-d16a677c153a\",\"type\":\"Rect\"},\"hover_glyph\":null,\"nonselection_glyph\":null,\"selection_glyph\":null},\"id\":\"054970fa-592e-44cb-8752-f65c587edc11\",\"type\":\"GlyphRenderer\"},{\"attributes\":{\"axis_label\":\"Percentage of Top Tags Used in Questions Yearly (%)\",\"formatter\":{\"id\":\"8f2ceedd-44c2-467f-854c-0337b3bdf9d3\",\"type\":\"BasicTickFormatter\"},\"plot\":{\"id\":\"347d030e-cc91-46aa-b20a-db951d02a0ca\",\"subtype\":\"Chart\",\"type\":\"Plot\"},\"ticker\":{\"id\":\"cafb1e6f-9ab4-4b20-9890-2907a3f10638\",\"type\":\"BasicTicker\"}},\"id\":\"de46e74d-8d9d-4737-a3c3-c30e2964347c\",\"type\":\"LinearAxis\"},{\"attributes\":{\"data_source\":{\"id\":\"112cd3d5-dd3d-4cca-9a3e-2ab3c8e5eb3f\",\"type\":\"ColumnDataSource\"},\"glyph\":{\"id\":\"de2f08b3-a55a-4243-9c02-19dc6d036368\",\"type\":\"Rect\"},\"hover_glyph\":null,\"nonselection_glyph\":null,\"selection_glyph\":null},\"id\":\"8b335691-7f3c-46cc-b471-49bdca56b23a\",\"type\":\"GlyphRenderer\"},{\"attributes\":{\"data_source\":{\"id\":\"28d847ab-b21f-409e-9dc7-4c10750e3cfb\",\"type\":\"ColumnDataSource\"},\"glyph\":{\"id\":\"1b2716fa-1710-4fee-92da-268b11e70866\",\"type\":\"Rect\"},\"hover_glyph\":null,\"nonselection_glyph\":null,\"selection_glyph\":null},\"id\":\"7c13645d-b583-48dc-ab28-fa3a70618ec4\",\"type\":\"GlyphRenderer\"},{\"attributes\":{\"fill_alpha\":{\"field\":\"fill_alpha\"},\"fill_color\":{\"field\":\"color\"},\"height\":{\"field\":\"height\",\"units\":\"data\"},\"line_color\":{\"field\":\"line_color\"},\"width\":{\"field\":\"width\",\"units\":\"data\"},\"x\":{\"field\":\"x\"},\"y\":{\"field\":\"y\"}},\"id\":\"07a79020-48de-4c9e-be24-920c26dbdc9a\",\"type\":\"Rect\"},{\"attributes\":{\"callback\":null,\"column_names\":[\"line_color\",\"height\",\"x\",\"fill_alpha\",\"width\",\"label\",\"line_alpha\",\"color\",\"y\"],\"data\":{\"PercentageAmongstTop\":[11.787538049015257],\"QuestCreationYear\":[\"Oct'15-16\"],\"QuestTags\":[\"android\"],\"YearTagCount\":[18859],\"chart_index\":[{\"PercentageAmongstTop\":11.787538049015257,\"QuestCreationYear\":\"Oct'15-16\",\"QuestTags\":\"android\",\"YearTagCount\":18859}],\"color\":[\"#FF6347\"],\"fill_alpha\":[0.8],\"height\":[11.787538049015257],\"label\":[{\"PercentageAmongstTop\":11.787538049015257,\"QuestCreationYear\":\"Oct'15-16\",\"QuestTags\":\"android\",\"YearTagCount\":18859}],\"line_alpha\":[1.0],\"line_color\":[\"#FFB6C1\"],\"width\":[1.0],\"x\":[\"Oct'15-16\"],\"y\":[5.893769024507629]}},\"id\":\"0b57bb74-254e-4ffd-9520-b6c1b08d21c9\",\"type\":\"ColumnDataSource\"},{\"attributes\":{},\"id\":\"8f2ceedd-44c2-467f-854c-0337b3bdf9d3\",\"type\":\"BasicTickFormatter\"},{\"attributes\":{\"fill_alpha\":{\"field\":\"fill_alpha\"},\"fill_color\":{\"field\":\"color\"},\"height\":{\"field\":\"height\",\"units\":\"data\"},\"line_color\":{\"field\":\"line_color\"},\"width\":{\"field\":\"width\",\"units\":\"data\"},\"x\":{\"field\":\"x\"},\"y\":{\"field\":\"y\"}},\"id\":\"3b6f4cfa-a6fb-44b2-98ea-d9e9386b2afa\",\"type\":\"Rect\"},{\"attributes\":{\"data_source\":{\"id\":\"e88e8bd6-23d5-40f1-b6bd-e170769ae96c\",\"type\":\"ColumnDataSource\"},\"glyph\":{\"id\":\"a6a18a33-7a65-4804-8f81-f76e61801515\",\"type\":\"Rect\"},\"hover_glyph\":null,\"nonselection_glyph\":null,\"selection_glyph\":null},\"id\":\"131f07bd-6382-4663-b4f9-150fd774f0e9\",\"type\":\"GlyphRenderer\"},{\"attributes\":{\"fill_alpha\":{\"field\":\"fill_alpha\"},\"fill_color\":{\"field\":\"color\"},\"height\":{\"field\":\"height\",\"units\":\"data\"},\"line_color\":{\"field\":\"line_color\"},\"width\":{\"field\":\"width\",\"units\":\"data\"},\"x\":{\"field\":\"x\"},\"y\":{\"field\":\"y\"}},\"id\":\"f9e8a83f-ab67-4c0f-8bf0-9403f4f6b3cb\",\"type\":\"Rect\"},{\"attributes\":{\"callback\":null,\"column_names\":[\"line_color\",\"height\",\"x\",\"fill_alpha\",\"width\",\"label\",\"line_alpha\",\"color\",\"y\"],\"data\":{\"PercentageAmongstTop\":[13.337625241419829],\"QuestCreationYear\":[\"Oct'15-16\"],\"QuestTags\":[\"java\"],\"YearTagCount\":[21339],\"chart_index\":[{\"PercentageAmongstTop\":13.337625241419829,\"QuestCreationYear\":\"Oct'15-16\",\"QuestTags\":\"java\",\"YearTagCount\":21339}],\"color\":[\"#D3D3D3\"],\"fill_alpha\":[0.8],\"height\":[13.337625241419829],\"label\":[{\"PercentageAmongstTop\":13.337625241419829,\"QuestCreationYear\":\"Oct'15-16\",\"QuestTags\":\"java\",\"YearTagCount\":21339}],\"line_alpha\":[1.0],\"line_color\":[\"#FFA07A\"],\"width\":[1.0],\"x\":[\"Oct'15-16\"],\"y\":[47.388603108924876]}},\"id\":\"a5e88f9f-aec5-4520-ace6-99a132d0615e\",\"type\":\"ColumnDataSource\"},{\"attributes\":{\"fill_alpha\":{\"field\":\"fill_alpha\"},\"fill_color\":{\"field\":\"color\"},\"height\":{\"field\":\"height\",\"units\":\"data\"},\"line_color\":{\"field\":\"line_color\"},\"width\":{\"field\":\"width\",\"units\":\"data\"},\"x\":{\"field\":\"x\"},\"y\":{\"field\":\"y\"}},\"id\":\"0ea35228-01d9-4975-8cab-8f8903a63b45\",\"type\":\"Rect\"},{\"attributes\":{\"data_source\":{\"id\":\"e045a88d-b456-4bb5-9f76-efb583eab104\",\"type\":\"ColumnDataSource\"},\"glyph\":{\"id\":\"d0bb6c4e-0131-422d-a733-b46a51cf41a8\",\"type\":\"Rect\"},\"hover_glyph\":null,\"nonselection_glyph\":null,\"selection_glyph\":null},\"id\":\"eff22373-82c7-4aeb-b1ea-b1fa27ec13f1\",\"type\":\"GlyphRenderer\"},{\"attributes\":{\"callback\":null,\"column_names\":[\"line_color\",\"height\",\"x\",\"fill_alpha\",\"width\",\"label\",\"line_alpha\",\"color\",\"y\"],\"data\":{\"PercentageAmongstTop\":[5.893817484470755],\"QuestCreationYear\":[\"Oct'11-12\"],\"QuestTags\":[\"html\"],\"YearTagCount\":[5655],\"chart_index\":[{\"PercentageAmongstTop\":5.893817484470755,\"QuestCreationYear\":\"Oct'11-12\",\"QuestTags\":\"html\",\"YearTagCount\":5655}],\"color\":[\"#ADD8E6\"],\"fill_alpha\":[0.8],\"height\":[5.893817484470755],\"label\":[{\"PercentageAmongstTop\":5.893817484470755,\"QuestCreationYear\":\"Oct'11-12\",\"QuestTags\":\"html\",\"YearTagCount\":5655}],\"line_alpha\":[1.0],\"line_color\":[\"#FFB6C1\"],\"width\":[1.0],\"x\":[\"Oct'11-12\"],\"y\":[34.691186892900326]}},\"id\":\"ce7ab87e-33cf-45e5-9c9b-6daf98a05372\",\"type\":\"ColumnDataSource\"},{\"attributes\":{\"callback\":null,\"column_names\":[\"line_color\",\"height\",\"x\",\"fill_alpha\",\"width\",\"label\",\"line_alpha\",\"color\",\"y\"],\"data\":{\"PercentageAmongstTop\":[10.44338585562477],\"QuestCreationYear\":[\"Oct'08-09\"],\"QuestTags\":[\"asp.net\"],\"YearTagCount\":[1710],\"chart_index\":[{\"PercentageAmongstTop\":10.44338585562477,\"QuestCreationYear\":\"Oct'08-09\",\"QuestTags\":\"asp.net\",\"YearTagCount\":1710}],\"color\":[\"#F0E68C\"],\"fill_alpha\":[0.8],\"height\":[10.44338585562477],\"label\":[{\"PercentageAmongstTop\":10.44338585562477,\"QuestCreationYear\":\"Oct'08-09\",\"QuestTags\":\"asp.net\",\"YearTagCount\":1710}],\"line_alpha\":[1.0],\"line_color\":[\"#ADD8E6\"],\"width\":[1.0],\"x\":[\"Oct'08-09\"],\"y\":[17.521680713326003]}},\"id\":\"34df7372-fb7b-46b3-9a70-993f20737320\",\"type\":\"ColumnDataSource\"},{\"attributes\":{\"fill_alpha\":{\"field\":\"fill_alpha\"},\"fill_color\":{\"field\":\"color\"},\"height\":{\"field\":\"height\",\"units\":\"data\"},\"line_color\":{\"field\":\"line_color\"},\"width\":{\"field\":\"width\",\"units\":\"data\"},\"x\":{\"field\":\"x\"},\"y\":{\"field\":\"y\"}},\"id\":\"3f2e810e-e5bc-4d0e-90a5-c4fd48de4a65\",\"type\":\"Rect\"},{\"attributes\":{\"data_source\":{\"id\":\"c9bcfb8f-7761-41fa-a611-e3c1529acad5\",\"type\":\"ColumnDataSource\"},\"glyph\":{\"id\":\"26abe02d-618d-405b-98fc-d884dbe5ef0b\",\"type\":\"Rect\"},\"hover_glyph\":null,\"nonselection_glyph\":null,\"selection_glyph\":null},\"id\":\"f7b3f309-d35c-4de0-93a0-3dc20f0a2a07\",\"type\":\"GlyphRenderer\"},{\"attributes\":{\"data_source\":{\"id\":\"a19f95fd-dd55-4100-ac55-2d042af05767\",\"type\":\"ColumnDataSource\"},\"glyph\":{\"id\":\"0ea35228-01d9-4975-8cab-8f8903a63b45\",\"type\":\"Rect\"},\"hover_glyph\":null,\"nonselection_glyph\":null,\"selection_glyph\":null},\"id\":\"72caa279-f275-404b-b661-23307db67b24\",\"type\":\"GlyphRenderer\"},{\"attributes\":{\"callback\":null,\"column_names\":[\"line_color\",\"height\",\"x\",\"fill_alpha\",\"width\",\"label\",\"line_alpha\",\"color\",\"y\"],\"data\":{\"PercentageAmongstTop\":[6.184097855504372],\"QuestCreationYear\":[\"Oct'15-16\"],\"QuestTags\":[\"ios\"],\"YearTagCount\":[9894],\"chart_index\":[{\"PercentageAmongstTop\":6.184097855504372,\"QuestCreationYear\":\"Oct'15-16\",\"QuestTags\":\"ios\",\"YearTagCount\":9894}],\"color\":[\"#F08080\"],\"fill_alpha\":[0.8],\"height\":[6.184097855504372],\"label\":[{\"PercentageAmongstTop\":6.184097855504372,\"QuestCreationYear\":\"Oct'15-16\",\"QuestTags\":\"ios\",\"YearTagCount\":9894}],\"line_alpha\":[1.0],\"line_color\":[\"#87CEFA\"],\"width\":[1.0],\"x\":[\"Oct'15-16\"],\"y\":[37.62774156046278]}},\"id\":\"8f460bd9-77c5-41b5-a9eb-33542069f32e\",\"type\":\"ColumnDataSource\"},{\"attributes\":{\"fill_alpha\":{\"field\":\"fill_alpha\"},\"fill_color\":{\"field\":\"color\"},\"height\":{\"field\":\"height\",\"units\":\"data\"},\"line_color\":{\"field\":\"line_color\"},\"width\":{\"field\":\"width\",\"units\":\"data\"},\"x\":{\"field\":\"x\"},\"y\":{\"field\":\"y\"}},\"id\":\"0a52c7b8-8132-4edf-ac6f-8af85a9ac097\",\"type\":\"Rect\"},{\"attributes\":{\"callback\":null,\"column_names\":[\"line_color\",\"height\",\"x\",\"fill_alpha\",\"width\",\"label\",\"line_alpha\",\"color\",\"y\"],\"data\":{\"PercentageAmongstTop\":[12.705559614151746],\"QuestCreationYear\":[\"Oct'10-11\"],\"QuestTags\":[\"java\"],\"YearTagCount\":[8522],\"chart_index\":[{\"PercentageAmongstTop\":12.705559614151746,\"QuestCreationYear\":\"Oct'10-11\",\"QuestTags\":\"java\",\"YearTagCount\":8522}],\"color\":[\"#D3D3D3\"],\"fill_alpha\":[0.8],\"height\":[12.705559614151746],\"label\":[{\"PercentageAmongstTop\":12.705559614151746,\"QuestCreationYear\":\"Oct'10-11\",\"QuestTags\":\"java\",\"YearTagCount\":8522}],\"line_alpha\":[1.0],\"line_color\":[\"#90EE90\"],\"width\":[1.0],\"x\":[\"Oct'10-11\"],\"y\":[52.67246134808343]}},\"id\":\"59c5a87e-279d-4a8e-a791-977757d80f21\",\"type\":\"ColumnDataSource\"},{\"attributes\":{\"fill_alpha\":{\"field\":\"fill_alpha\"},\"fill_color\":{\"field\":\"color\"},\"height\":{\"field\":\"height\",\"units\":\"data\"},\"line_color\":{\"field\":\"line_color\"},\"width\":{\"field\":\"width\",\"units\":\"data\"},\"x\":{\"field\":\"x\"},\"y\":{\"field\":\"y\"}},\"id\":\"b48e8ecd-37af-42f1-a4a9-678b1fdefedd\",\"type\":\"Rect\"},{\"attributes\":{\"data_source\":{\"id\":\"12c6a15a-91f3-4be1-bfe5-2578550ac392\",\"type\":\"ColumnDataSource\"},\"glyph\":{\"id\":\"cd15438d-34ea-474a-9526-d7dd6390081b\",\"type\":\"Rect\"},\"hover_glyph\":null,\"nonselection_glyph\":null,\"selection_glyph\":null},\"id\":\"a914711a-b009-47ee-a8a1-894b0a26eb16\",\"type\":\"GlyphRenderer\"}],\"root_ids\":[\"347d030e-cc91-46aa-b20a-db951d02a0ca\"]},\"title\":\"Bokeh Application\",\"version\":\"0.12.2\"}};\n",
       "            var render_items = [{\"docid\":\"a3e1b086-ecb6-4306-bf77-277dbc637a26\",\"elementid\":\"e4342a64-88cb-473d-91ee-2e15defe20b3\",\"modelid\":\"347d030e-cc91-46aa-b20a-db951d02a0ca\"}];\n",
       "            \n",
       "            Bokeh.embed.embed_items(docs_json, render_items);\n",
       "        });\n",
       "      },\n",
       "      function(Bokeh) {\n",
       "      }\n",
       "    ];\n",
       "  \n",
       "    function run_inline_js() {\n",
       "      \n",
       "      if ((window.Bokeh !== undefined) || (force === \"1\")) {\n",
       "        for (var i = 0; i < inline_js.length; i++) {\n",
       "          inline_js[i](window.Bokeh);\n",
       "        }if (force === \"1\") {\n",
       "          display_loaded();\n",
       "        }} else if (Date.now() < window._bokeh_timeout) {\n",
       "        setTimeout(run_inline_js, 100);\n",
       "      } else if (!window._bokeh_failed_load) {\n",
       "        console.log(\"Bokeh: BokehJS failed to load within specified timeout.\");\n",
       "        window._bokeh_failed_load = true;\n",
       "      } else if (!force) {\n",
       "        var cell = $(\"#e4342a64-88cb-473d-91ee-2e15defe20b3\").parents('.cell').data().cell;\n",
       "        cell.output_area.append_execute_result(NB_LOAD_WARNING)\n",
       "      }\n",
       "  \n",
       "    }\n",
       "  \n",
       "    if (window._bokeh_is_loading === 0) {\n",
       "      console.log(\"Bokeh: BokehJS loaded, going straight to plotting\");\n",
       "      run_inline_js();\n",
       "    } else {\n",
       "      load_libs(js_urls, function() {\n",
       "        console.log(\"Bokeh: BokehJS plotting callback run at\", now());\n",
       "        run_inline_js();\n",
       "      });\n",
       "    }\n",
       "  }(this));\n",
       "</script>"
      ]
     },
     "metadata": {},
     "output_type": "display_data"
    }
   ],
   "source": [
    "from bokeh.charts import Bar, show, output_notebook\n",
    "from bokeh.models import HoverTool\n",
    "\n",
    "output_notebook()\n",
    "\n",
    "palette = ['#4B0082','#FF6347','#F0E68C','#E6E6FA','#FFF0F5','#90EE90','#ADD8E6','#F08080','#D3D3D3','#FFB6C1','#87CEFA','#20B2AA','#FFA07A','#778899','#9370DB','#40E0D0']\n",
    "\n",
    "bar = Bar(topYearQuestTag, values='PercentageAmongstTop', label='QuestCreationYear', stack='QuestTags',\n",
    "          title='Top 10 Tags Used Throughout the Years', legend=False, \n",
    "              bar_width=1.0, palette=palette, tools='hover', line_color=['YearTagCount', 'PercentageAmongstTop'])\n",
    "\n",
    "hover = bar.select(dict(type=HoverTool))\n",
    "hover.tooltips = [('Tag','@QuestTags'), ('Yearly Tag Count','@YearTagCount'), \n",
    "                      ('Percentage of Tag Used','@PercentageAmongstTop{1.11}%')]\n",
    "\n",
    "bar.xaxis.axis_label = 'Year in which Question was Created'\n",
    "bar.yaxis.axis_label = 'Percentage of Top Tags Used in Questions Yearly (%)'\n",
    "\n",
    "show(bar)"
   ]
  },
  {
   "cell_type": "code",
   "execution_count": 33,
   "metadata": {
    "collapsed": false
   },
   "outputs": [
    {
     "data": {
      "text/plain": [
       "QuestCreationYear  QuestTags         \n",
       "Oct'08-09          c#                    3682\n",
       "                   .net                  2014\n",
       "                   java                  1846\n",
       "                   asp.net               1710\n",
       "                   php                   1468\n",
       "                   javascript            1382\n",
       "                   c++                   1285\n",
       "                   python                1023\n",
       "                   iphone                 988\n",
       "                   jquery                 976\n",
       "                   sql                    957\n",
       "                   sql-server             781\n",
       "                   html                   713\n",
       "                   mysql                  664\n",
       "                   asp.net-mvc            609\n",
       "                   wpf                    513\n",
       "                   c                      505\n",
       "                   css                    487\n",
       "                   ruby-on-rails          486\n",
       "                   objective-c            468\n",
       "                   windows                462\n",
       "                   xml                    447\n",
       "                   ruby                   421\n",
       "                   vb.net                 421\n",
       "                   winforms               418\n",
       "                   visual-studio          414\n",
       "                   database               393\n",
       "                   regex                  359\n",
       "                   visual-studio-2008     327\n",
       "                   linux                  313\n",
       "                                         ... \n",
       "Oct'15-16          zend-studio              1\n",
       "                   zend-translate           1\n",
       "                   zend-validate            1\n",
       "                   zendesk-api              1\n",
       "                   zentyal                  1\n",
       "                   zephir                   1\n",
       "                   zerigo                   1\n",
       "                   zero-width-space         1\n",
       "                   zf3                      1\n",
       "                   zimlet                   1\n",
       "                   zinc                     1\n",
       "                   zinnia                   1\n",
       "                   zipalign                 1\n",
       "                   zipcode                  1\n",
       "                   zipmap                   1\n",
       "                   zipper                   1\n",
       "                   zomato-api               1\n",
       "                   zombie.js                1\n",
       "                   zombiejs                 1\n",
       "                   zone                     1\n",
       "                   zoneddatetime            1\n",
       "                   zoneminder               1\n",
       "                   zones                    1\n",
       "                   zpanel                   1\n",
       "                   ztree                    1\n",
       "                   zts                      1\n",
       "                   zumero                   1\n",
       "                   zurb-ink                 1\n",
       "                   zurb-joyride             1\n",
       "                   zurb-reveal              1\n",
       "Name: QuestTags, dtype: int64"
      ]
     },
     "execution_count": 33,
     "metadata": {},
     "output_type": "execute_result"
    }
   ],
   "source": [
    "stackQuestionsTags.groupby('QuestCreationYear').QuestTags.value_counts()"
   ]
  },
  {
   "cell_type": "code",
   "execution_count": 34,
   "metadata": {
    "collapsed": false
   },
   "outputs": [
    {
     "data": {
      "text/plain": [
       "javascript              116962\n",
       "java                    106687\n",
       "c#                       95458\n",
       "php                      91138\n",
       "android                  86828\n",
       "jquery                   75081\n",
       "python                   60313\n",
       "html                     55087\n",
       "ios                      44862\n",
       "c++                      43545\n",
       "mysql                    39764\n",
       "css                      39763\n",
       "sql                      33897\n",
       "asp.net                  28794\n",
       "objective-c              25682\n",
       "ruby-on-rails            25184\n",
       ".net                     22639\n",
       "c                        20935\n",
       "iphone                   20605\n",
       "angularjs                19827\n",
       "arrays                   18123\n",
       "sql-server               17233\n",
       "json                     16808\n",
       "ruby                     16280\n",
       "ajax                     15002\n",
       "r                        14604\n",
       "regex                    14248\n",
       "xml                      14160\n",
       "node.js                  13976\n",
       "asp.net-mvc              13784\n",
       "                         ...  \n",
       "gradle-ssh-plugin            1\n",
       "canoo-webtest                1\n",
       "idxbroker                    1\n",
       "ckcontainer                  1\n",
       "unwarp                       1\n",
       "views2                       1\n",
       "boost-parameter              1\n",
       "ocracoke                     1\n",
       "ibm-wxs                      1\n",
       "ng2-dragula                  1\n",
       "javascript-build             1\n",
       "rodf                         1\n",
       "dub                          1\n",
       "dynamics-nav-2015            1\n",
       "clojure-core                 1\n",
       "compile-mode                 1\n",
       "sips                         1\n",
       "quovolver                    1\n",
       "sql-domain                   1\n",
       "vmware-sdk                   1\n",
       "kdc                          1\n",
       "photo-tagging                1\n",
       "smd                          1\n",
       "session.socket.io            1\n",
       "multipoint                   1\n",
       "workday                      1\n",
       "imageareaselect              1\n",
       "disambiguation               1\n",
       "wheezy-web                   1\n",
       "sharepoint-documents         1\n",
       "Name: QuestTags, dtype: int64"
      ]
     },
     "execution_count": 34,
     "metadata": {},
     "output_type": "execute_result"
    }
   ],
   "source": [
    "stackQuestionsTags.QuestTags.value_counts() #java most tagged"
   ]
  },
  {
   "cell_type": "code",
   "execution_count": 35,
   "metadata": {
    "collapsed": true
   },
   "outputs": [],
   "source": [
    "#top 15 tags used\n",
    "topQuestTags = stackQuestionsTags.QuestTags.value_counts()[0:15]"
   ]
  },
  {
   "cell_type": "code",
   "execution_count": 36,
   "metadata": {
    "collapsed": false
   },
   "outputs": [],
   "source": [
    "topQuestTags = topQuestTags.reset_index()\n",
    "topQuestTags = topQuestTags.rename(columns= {'index':'QuestTags', 'QuestTags':'Count'})"
   ]
  },
  {
   "cell_type": "markdown",
   "metadata": {},
   "source": [
    "# Graph Plot 3: Frequency of Top 15 Tags Used (in Total for All the Years)"
   ]
  },
  {
   "cell_type": "code",
   "execution_count": 37,
   "metadata": {
    "collapsed": false,
    "scrolled": true
   },
   "outputs": [
    {
     "data": {
      "image/png": "[encoded data removed]",
      "text/plain": [
       "<matplotlib.figure.Figure at 0x10468b4a8>"
      ]
     },
     "metadata": {},
     "output_type": "display_data"
    }
   ],
   "source": [
    "%matplotlib inline\n",
    "import matplotlib.pyplot as plt\n",
    "plt.figure(figsize=(12,7))\n",
    "ax2 = sns.stripplot(x=\"QuestTags\", y=\"Count\", data=topQuestTags)"
   ]
  },
  {
   "cell_type": "code",
   "execution_count": 38,
   "metadata": {
    "collapsed": true
   },
   "outputs": [],
   "source": [
    "questTags = stackQuestionsTags[['QuestionId', 'QuestTags']].groupby('QuestionId').QuestTags.apply(list)"
   ]
  },
  {
   "cell_type": "code",
   "execution_count": 39,
   "metadata": {
    "collapsed": false
   },
   "outputs": [
    {
     "data": {
      "text/plain": [
       "3"
      ]
     },
     "execution_count": 39,
     "metadata": {},
     "output_type": "execute_result"
    }
   ],
   "source": [
    "questTags = questTags.reset_index()\n",
    "len(questTags.QuestTags[1])"
   ]
  },
  {
   "cell_type": "code",
   "execution_count": 40,
   "metadata": {
    "collapsed": false
   },
   "outputs": [
    {
     "data": {
      "text/html": [
       "<div>\n",
       "<table border=\"1\" class=\"dataframe\">\n",
       "  <thead>\n",
       "    <tr style=\"text-align: right;\">\n",
       "      <th></th>\n",
       "      <th>QuestionId</th>\n",
       "      <th>QuestTags</th>\n",
       "    </tr>\n",
       "  </thead>\n",
       "  <tbody>\n",
       "    <tr>\n",
       "      <th>0</th>\n",
       "      <td>203340</td>\n",
       "      <td>[jquery]</td>\n",
       "    </tr>\n",
       "    <tr>\n",
       "      <th>1</th>\n",
       "      <td>203520</td>\n",
       "      <td>[.net, winforms, data-binding]</td>\n",
       "    </tr>\n",
       "    <tr>\n",
       "      <th>2</th>\n",
       "      <td>203590</td>\n",
       "      <td>[visual-studio, include]</td>\n",
       "    </tr>\n",
       "    <tr>\n",
       "      <th>3</th>\n",
       "      <td>203620</td>\n",
       "      <td>[layout, internationalization]</td>\n",
       "    </tr>\n",
       "    <tr>\n",
       "      <th>4</th>\n",
       "      <td>203640</td>\n",
       "      <td>[xslt]</td>\n",
       "    </tr>\n",
       "  </tbody>\n",
       "</table>\n",
       "</div>"
      ],
      "text/plain": [
       "   QuestionId                       QuestTags\n",
       "0      203340                        [jquery]\n",
       "1      203520  [.net, winforms, data-binding]\n",
       "2      203590        [visual-studio, include]\n",
       "3      203620  [layout, internationalization]\n",
       "4      203640                          [xslt]"
      ]
     },
     "execution_count": 40,
     "metadata": {},
     "output_type": "execute_result"
    }
   ],
   "source": [
    "questTags.head()"
   ]
  },
  {
   "cell_type": "markdown",
   "metadata": {},
   "source": [
    "# Association Rules Between Question Tags + Network Visualisation (for Stackoverflow 10% Sample)"
   ]
  },
  {
   "cell_type": "code",
   "execution_count": 41,
   "metadata": {
    "collapsed": true
   },
   "outputs": [],
   "source": [
    "import pyfpgrowth as fp"
   ]
  },
  {
   "cell_type": "code",
   "execution_count": 42,
   "metadata": {
    "collapsed": false
   },
   "outputs": [],
   "source": [
    "questTagList = list(questTags.QuestTags)"
   ]
  },
  {
   "cell_type": "code",
   "execution_count": 43,
   "metadata": {
    "collapsed": false
   },
   "outputs": [],
   "source": [
    "#have 2 or more question tags in a question\n",
    "#filter out only 1 itemset situation\n",
    "questTagList2 = [tag for tag in questTagList if len(tag)>1]"
   ]
  },
  {
   "cell_type": "code",
   "execution_count": 44,
   "metadata": {
    "collapsed": true
   },
   "outputs": [],
   "source": [
    "#put support threshold as 1000\n",
    "patterns = fp.find_frequent_patterns(questTagList2, 1000)"
   ]
  },
  {
   "cell_type": "code",
   "execution_count": 45,
   "metadata": {
    "collapsed": false
   },
   "outputs": [
    {
     "data": {
      "text/plain": [
       "{('.htaccess', 'apache'): 1841,\n",
       " ('.htaccess', 'apache', 'mod-rewrite'): 1053,\n",
       " ('.htaccess', 'mod-rewrite'): 1992,\n",
       " ('.htaccess', 'php'): 1767,\n",
       " ('.net', 'asp.net'): 1899,\n",
       " ('.net', 'asp.net', 'c#'): 1067,\n",
       " ('.net', 'c#'): 13567,\n",
       " ('.net', 'c#', 'winforms'): 1026,\n",
       " ('.net', 'vb.net'): 1322,\n",
       " ('.net', 'winforms'): 1430,\n",
       " ('.net', 'wpf'): 1222,\n",
       " ('actionscript-3',): 3663,\n",
       " ('actionscript-3', 'flash'): 1671,\n",
       " ('activerecord',): 2199,\n",
       " ('activerecord', 'ruby-on-rails'): 1699,\n",
       " ('ajax', 'html'): 1335,\n",
       " ('ajax', 'javascript'): 6433,\n",
       " ('ajax', 'javascript', 'jquery'): 3860,\n",
       " ('ajax', 'javascript', 'jquery', 'php'): 1085,\n",
       " ('ajax', 'javascript', 'php'): 1783,\n",
       " ('ajax', 'jquery'): 8454,\n",
       " ('ajax', 'jquery', 'php'): 2400,\n",
       " ('ajax', 'json'): 1275,\n",
       " ('algorithm',): 5886,\n",
       " ('amazon-ec2',): 1390,\n",
       " ('amazon-s3',): 1492,\n",
       " ('amazon-web-services',): 3031,\n",
       " ('android', 'android-activity'): 2093,\n",
       " ('android', 'android-asynctask'): 1139,\n",
       " ('android', 'android-fragments'): 2759,\n",
       " ('android', 'android-intent'): 2214,\n",
       " ('android', 'android-layout'): 3811,\n",
       " ('android', 'android-listview'): 1391,\n",
       " ('android', 'android-studio'): 2413,\n",
       " ('android', 'cordova'): 1708,\n",
       " ('android', 'eclipse'): 2311,\n",
       " ('android', 'google-maps'): 1311,\n",
       " ('android', 'java'): 15290,\n",
       " ('android', 'javascript'): 1112,\n",
       " ('android', 'json'): 1565,\n",
       " ('android', 'listview'): 2633,\n",
       " ('android', 'sqlite'): 2055,\n",
       " ('android', 'webview'): 1027,\n",
       " ('android', 'xml'): 2004,\n",
       " ('android-activity',): 2178,\n",
       " ('android-asynctask',): 1161,\n",
       " ('android-fragments',): 2844,\n",
       " ('android-intent',): 2260,\n",
       " ('android-layout',): 3887,\n",
       " ('android-listview',): 1422,\n",
       " ('android-studio',): 2854,\n",
       " ('angular2',): 1810,\n",
       " ('angularjs', 'angularjs-directive'): 1374,\n",
       " ('angularjs', 'html'): 1302,\n",
       " ('angularjs', 'javascript'): 9046,\n",
       " ('angularjs', 'jquery'): 1132,\n",
       " ('angularjs-directive',): 1396,\n",
       " ('animation',): 2759,\n",
       " ('ant',): 1203,\n",
       " ('apache',): 6295,\n",
       " ('apache', 'mod-rewrite'): 1391,\n",
       " ('apache', 'php'): 1891,\n",
       " ('apache-spark',): 1745,\n",
       " ('api',): 4632,\n",
       " ('architecture',): 1036,\n",
       " ('arraylist',): 1782,\n",
       " ('arraylist', 'java'): 1364,\n",
       " ('arrays', 'c'): 1387,\n",
       " ('arrays', 'c++'): 1383,\n",
       " ('arrays', 'java'): 2580,\n",
       " ('arrays', 'javascript'): 2681,\n",
       " ('arrays', 'php'): 4355,\n",
       " ('asp.net', 'asp.net-mvc'): 2410,\n",
       " ('asp.net', 'asp.net-mvc', 'c#'): 1051,\n",
       " ('asp.net', 'c#'): 12633,\n",
       " ('asp.net', 'gridview'): 1271,\n",
       " ('asp.net', 'html'): 1029,\n",
       " ('asp.net', 'javascript'): 2632,\n",
       " ('asp.net', 'jquery'): 2060,\n",
       " ('asp.net', 'vb.net'): 1562,\n",
       " ('asp.net-mvc', 'asp.net-mvc-3'): 1056,\n",
       " ('asp.net-mvc', 'asp.net-mvc-4'): 1440,\n",
       " ('asp.net-mvc', 'c#'): 4819,\n",
       " ('asp.net-mvc', 'jquery'): 1509,\n",
       " ('asp.net-mvc', 'razor'): 1237,\n",
       " ('asp.net-mvc-3',): 3540,\n",
       " ('asp.net-mvc-4', 'c#'): 1334,\n",
       " ('asp.net-mvc-5',): 1024,\n",
       " ('asp.net-web-api',): 1865,\n",
       " ('assembly',): 2068,\n",
       " ('asynchronous',): 2250,\n",
       " ('audio',): 2303,\n",
       " ('authentication',): 2807,\n",
       " ('autocomplete',): 1154,\n",
       " ('awk',): 1419,\n",
       " ('azure',): 3254,\n",
       " ('backbone.js',): 1825,\n",
       " ('backbone.js', 'javascript'): 1112,\n",
       " ('background',): 1061,\n",
       " ('bash',): 6353,\n",
       " ('bash', 'linux'): 1704,\n",
       " ('bash', 'shell'): 1728,\n",
       " ('batch-file',): 2644,\n",
       " ('binding',): 1226,\n",
       " ('bitmap',): 1214,\n",
       " ('bluetooth',): 1066,\n",
       " ('boost',): 1956,\n",
       " ('boost', 'c++'): 1717,\n",
       " ('browser',): 1781,\n",
       " ('build',): 1207,\n",
       " ('button',): 2475,\n",
       " ('c',): 18913,\n",
       " ('c', 'c++'): 2718,\n",
       " ('c', 'linux'): 1700,\n",
       " ('c', 'pointers'): 1307,\n",
       " ('c#',): 91543,\n",
       " ('c#', 'datagridview'): 1066,\n",
       " ('c#', 'entity-framework'): 3159,\n",
       " ('c#', 'generics'): 1015,\n",
       " ('c#', 'javascript'): 1827,\n",
       " ('c#', 'jquery'): 1248,\n",
       " ('c#', 'json'): 1243,\n",
       " ('c#', 'linq'): 4152,\n",
       " ('c#', 'multithreading'): 1703,\n",
       " ('c#', 'regex'): 1153,\n",
       " ('c#', 'sql'): 2192,\n",
       " ('c#', 'sql-server'): 2049,\n",
       " ('c#', 'vb.net'): 1057,\n",
       " ('c#', 'visual-studio'): 1754,\n",
       " ('c#', 'visual-studio-2010'): 1256,\n",
       " ('c#', 'wcf'): 1798,\n",
       " ('c#', 'windows'): 1069,\n",
       " ('c#', 'winforms'): 5125,\n",
       " ('c#', 'wpf'): 6698,\n",
       " ('c#', 'wpf', 'xaml'): 1436,\n",
       " ('c#', 'xaml'): 2429,\n",
       " ('c#', 'xml'): 2065,\n",
       " ('c#-4.0',): 2159,\n",
       " ('c++',): 40280,\n",
       " ('c++', 'c++11'): 2506,\n",
       " ('c++', 'linux'): 1063,\n",
       " ('c++', 'opencv'): 1221,\n",
       " ('c++', 'pointers'): 1283,\n",
       " ('c++', 'qt'): 2610,\n",
       " ('c++', 'templates'): 1720,\n",
       " ('c++', 'vector'): 1066,\n",
       " ('c++', 'visual-c++'): 1049,\n",
       " ('c++', 'winapi'): 1088,\n",
       " ('c++', 'windows'): 1487,\n",
       " ('c++11',): 2877,\n",
       " ('caching',): 2476,\n",
       " ('cakephp',): 2401,\n",
       " ('cakephp', 'php'): 1170,\n",
       " ('callback',): 1002,\n",
       " ('canvas',): 2259,\n",
       " ('canvas', 'javascript'): 1268,\n",
       " ('casting',): 1202,\n",
       " ('character-encoding',): 1029,\n",
       " ('charts',): 1391,\n",
       " ('checkbox',): 1960,\n",
       " ('class',): 4115,\n",
       " ('cmd',): 1189,\n",
       " ('cocoa', 'objective-c'): 1714,\n",
       " ('cocoa', 'osx'): 1136,\n",
       " ('cocoa-touch', 'ios'): 1653,\n",
       " ('cocoa-touch', 'iphone'): 1497,\n",
       " ('cocoa-touch', 'objective-c'): 1685,\n",
       " ('codeigniter',): 4467,\n",
       " ('codeigniter', 'php'): 3392,\n",
       " ('coldfusion',): 1006,\n",
       " ('collections',): 1411,\n",
       " ('colors',): 1188,\n",
       " ('combobox',): 1275,\n",
       " ('command-line',): 1408,\n",
       " ('compilation',): 1003,\n",
       " ('concurrency',): 1215,\n",
       " ('configuration',): 1095,\n",
       " ('constructor',): 1153,\n",
       " ('cookies',): 2153,\n",
       " ('cordova', 'javascript'): 1036,\n",
       " ('core-data',): 2107,\n",
       " ('core-data', 'ios'): 1263,\n",
       " ('count',): 1078,\n",
       " ('css', 'css3'): 3375,\n",
       " ('css', 'css3', 'html'): 1843,\n",
       " ('css', 'html'): 23282,\n",
       " ('css', 'html', 'javascript'): 6449,\n",
       " ('css', 'html', 'javascript', 'jquery'): 3912,\n",
       " ('css', 'html', 'jquery'): 5704,\n",
       " ('css', 'html', 'twitter-bootstrap'): 1778,\n",
       " ('css', 'html5'): 1681,\n",
       " ('css', 'javascript'): 9925,\n",
       " ('css', 'javascript', 'jquery'): 5561,\n",
       " ('css', 'php'): 1291,\n",
       " ('css', 'twitter-bootstrap'): 2994,\n",
       " ('css3', 'html'): 2243,\n",
       " ('css3', 'html5'): 1348,\n",
       " ('csv',): 3621,\n",
       " ('curl',): 2489,\n",
       " ('curl', 'php'): 1499,\n",
       " ('d3.js',): 1998,\n",
       " ('d3.js', 'javascript'): 1461,\n",
       " ('data-binding',): 1647,\n",
       " ('data-structures',): 1616,\n",
       " ('database', 'mysql'): 3030,\n",
       " ('database', 'php'): 1644,\n",
       " ('database', 'sql'): 2456,\n",
       " ('database-design',): 1579,\n",
       " ('dataframe',): 1443,\n",
       " ('datagrid',): 1162,\n",
       " ('datagridview',): 1471,\n",
       " ('datatable',): 1221,\n",
       " ('date',): 3709,\n",
       " ('datetime',): 3169,\n",
       " ('debugging',): 3197,\n",
       " ('delphi',): 3251,\n",
       " ('dependency-injection',): 1356,\n",
       " ('deployment',): 1424,\n",
       " ('design',): 1600,\n",
       " ('design-patterns',): 2063,\n",
       " ('devise',): 1181,\n",
       " ('devise', 'ruby-on-rails'): 1000,\n",
       " ('dictionary',): 2599,\n",
       " ('dictionary', 'python'): 1314,\n",
       " ('django',): 11852,\n",
       " ('django', 'django-models'): 1418,\n",
       " ('django', 'python'): 6139,\n",
       " ('django-models',): 1477,\n",
       " ('dll',): 1737,\n",
       " ('docker',): 1367,\n",
       " ('doctrine2',): 1185,\n",
       " ('dom',): 2430,\n",
       " ('dom', 'javascript'): 1465,\n",
       " ('download',): 1072,\n",
       " ('drop-down-menu',): 1488,\n",
       " ('drupal',): 1552,\n",
       " ('dynamic',): 1769,\n",
       " ('eclipse', 'java'): 4220,\n",
       " ('elasticsearch',): 1562,\n",
       " ('emacs',): 1197,\n",
       " ('email',): 3758,\n",
       " ('email', 'php'): 1136,\n",
       " ('ember.js',): 1567,\n",
       " ('encoding',): 1487,\n",
       " ('encryption',): 1999,\n",
       " ('entity-framework',): 5692,\n",
       " ('enums',): 1166,\n",
       " ('error-handling',): 1238,\n",
       " ('events',): 2651,\n",
       " ('excel',): 9425,\n",
       " ('excel', 'excel-vba'): 3342,\n",
       " ('excel', 'excel-vba', 'vba'): 2422,\n",
       " ('excel', 'vba'): 3847,\n",
       " ('excel-vba', 'vba'): 3168,\n",
       " ('exception',): 2484,\n",
       " ('exception-handling',): 1094,\n",
       " ('express',): 2611,\n",
       " ('express', 'node.js'): 2286,\n",
       " ('extjs',): 1851,\n",
       " ('facebook',): 6986,\n",
       " ('facebook', 'facebook-graph-api'): 2061,\n",
       " ('facebook', 'php'): 1005,\n",
       " ('facebook-graph-api',): 2706,\n",
       " ('file',): 4554,\n",
       " ('file-io',): 1598,\n",
       " ('file-upload',): 1877,\n",
       " ('filter',): 1309,\n",
       " ('firebase',): 1276,\n",
       " ('firefox',): 2780,\n",
       " ('flash',): 3378,\n",
       " ('flask',): 1302,\n",
       " ('flask', 'python'): 1084,\n",
       " ('flex',): 2257,\n",
       " ('fonts',): 1284,\n",
       " ('for-loop',): 2498,\n",
       " ('foreach',): 1319,\n",
       " ('forms', 'html'): 1663,\n",
       " ('forms', 'javascript'): 1653,\n",
       " ('forms', 'jquery'): 1390,\n",
       " ('forms', 'php'): 2176,\n",
       " ('ftp',): 1036,\n",
       " ('function',): 4780,\n",
       " ('gcc',): 2256,\n",
       " ('generics', 'java'): 1091,\n",
       " ('ggplot2',): 1312,\n",
       " ('ggplot2', 'r'): 1298,\n",
       " ('git',): 6080,\n",
       " ('git', 'github'): 1258,\n",
       " ('github',): 1939,\n",
       " ('go',): 1362,\n",
       " ('google-analytics',): 1051,\n",
       " ('google-app-engine',): 3354,\n",
       " ('google-app-engine', 'python'): 1014,\n",
       " ('google-apps-script',): 1041,\n",
       " ('google-chrome',): 4086,\n",
       " ('google-chrome', 'javascript'): 1600,\n",
       " ('google-chrome-extension',): 1246,\n",
       " ('google-maps', 'google-maps-api-3'): 1160,\n",
       " ('google-maps', 'javascript'): 1445,\n",
       " ('google-maps-api-3',): 1833,\n",
       " ('gradle',): 1651,\n",
       " ('grails',): 2274,\n",
       " ('graph',): 1467,\n",
       " ('graphics',): 1367,\n",
       " ('gridview',): 2190,\n",
       " ('groovy',): 1350,\n",
       " ('gwt',): 1747,\n",
       " ('hadoop',): 2861,\n",
       " ('hash',): 1509,\n",
       " ('haskell',): 2351,\n",
       " ('heroku',): 2073,\n",
       " ('hibernate', 'java'): 3451,\n",
       " ('hibernate', 'jpa'): 1248,\n",
       " ('hibernate', 'spring'): 1319,\n",
       " ('highcharts',): 1172,\n",
       " ('html', 'html5'): 1962,\n",
       " ('html', 'javascript'): 21565,\n",
       " ('html', 'javascript', 'jquery'): 10501,\n",
       " ('html', 'javascript', 'php'): 1831,\n",
       " ('html', 'jquery'): 15109,\n",
       " ('html', 'jquery', 'php'): 1266,\n",
       " ('html', 'mysql'): 1072,\n",
       " ('html', 'twitter-bootstrap'): 2407,\n",
       " ('html5', 'javascript'): 3907,\n",
       " ('html5', 'javascript', 'jquery'): 1054,\n",
       " ('html5', 'jquery'): 1695,\n",
       " ('http',): 3616,\n",
       " ('https',): 1257,\n",
       " ('hyperlink',): 1291,\n",
       " ('if-statement',): 2477,\n",
       " ('iframe',): 2204,\n",
       " ('iframe', 'javascript'): 1067,\n",
       " ('iis',): 2374,\n",
       " ('image',): 7097,\n",
       " ('image-processing',): 2209,\n",
       " ('import',): 1309,\n",
       " ('indexing',): 1644,\n",
       " ('inheritance',): 2441,\n",
       " ('input',): 1711,\n",
       " ('intellij-idea',): 1691,\n",
       " ('interface',): 1138,\n",
       " ('internet-explorer',): 3342,\n",
       " ('internet-explorer', 'javascript'): 1075,\n",
       " ('io',): 1077,\n",
       " ('ionic-framework',): 1407,\n",
       " ('ios',): 44111,\n",
       " ('ios', 'ipad'): 1807,\n",
       " ('ios', 'iphone'): 8608,\n",
       " ('ios', 'iphone', 'objective-c'): 3305,\n",
       " ('ios', 'iphone', 'xcode'): 1188,\n",
       " ('ios', 'objective-c'): 14103,\n",
       " ('ios', 'objective-c', 'uitableview'): 1343,\n",
       " ('ios', 'objective-c', 'xcode'): 1564,\n",
       " ('ios', 'swift'): 7009,\n",
       " ('ios', 'uitableview'): 3310,\n",
       " ('ios', 'xcode'): 5195,\n",
       " ('ios4',): 1025,\n",
       " ('ios5',): 1142,\n",
       " ('ios7',): 1400,\n",
       " ('ipad', 'iphone'): 1718,\n",
       " ('iphone', 'objective-c'): 6950,\n",
       " ('iphone', 'objective-c', 'xcode'): 1005,\n",
       " ('iphone', 'uitableview'): 1285,\n",
       " ('jar',): 1236,\n",
       " ('java',): 101029,\n",
       " ('java', 'java-ee'): 1376,\n",
       " ('java', 'javascript'): 1304,\n",
       " ('java', 'jdbc'): 1379,\n",
       " ('java', 'jpa'): 1584,\n",
       " ('java', 'json'): 2015,\n",
       " ('java', 'jsp'): 2052,\n",
       " ('java', 'maven'): 2214,\n",
       " ('java', 'multithreading'): 2437,\n",
       " ('java', 'mysql'): 1716,\n",
       " ('java', 'netbeans'): 1003,\n",
       " ('java', 'regex'): 1442,\n",
       " ('java', 'servlets'): 1641,\n",
       " ('java', 'sockets'): 1024,\n",
       " ('java', 'spring'): 5604,\n",
       " ('java', 'spring', 'spring-mvc'): 1327,\n",
       " ('java', 'spring-mvc'): 1955,\n",
       " ('java', 'sql'): 1083,\n",
       " ('java', 'string'): 1863,\n",
       " ('java', 'swing'): 5948,\n",
       " ('java', 'tomcat'): 1553,\n",
       " ('java', 'web-services'): 1183,\n",
       " ('java', 'xml'): 2402,\n",
       " ('java-ee',): 2462,\n",
       " ('javafx',): 1437,\n",
       " ('javascript',): 111334,\n",
       " ('javascript', 'javascript-events'): 1025,\n",
       " ('javascript', 'jquery'): 39049,\n",
       " ('javascript', 'jquery', 'jquery-ui'): 1037,\n",
       " ('javascript', 'jquery', 'json'): 1332,\n",
       " ('javascript', 'jquery', 'php'): 3226,\n",
       " ('javascript', 'jquery', 'twitter-bootstrap'): 1169,\n",
       " ('javascript', 'jquery-ui'): 1172,\n",
       " ('javascript', 'json'): 3908,\n",
       " ('javascript', 'node.js'): 5034,\n",
       " ('javascript', 'php'): 7865,\n",
       " ('javascript', 'reactjs'): 1219,\n",
       " ('javascript', 'regex'): 1938,\n",
       " ('javascript', 'ruby-on-rails'): 1204,\n",
       " ('javascript', 'twitter-bootstrap'): 1911,\n",
       " ('javascript-events',): 1257,\n",
       " ('jboss',): 1088,\n",
       " ('jdbc',): 1964,\n",
       " ('jenkins',): 1677,\n",
       " ('join', 'mysql'): 1068,\n",
       " ('join', 'sql'): 1074,\n",
       " ('joomla',): 1237,\n",
       " ('jquery', 'jquery-mobile'): 1138,\n",
       " ('jquery', 'jquery-plugins'): 1033,\n",
       " ('jquery', 'jquery-ui'): 2714,\n",
       " ('jquery', 'json'): 2727,\n",
       " ('jquery', 'php'): 6747,\n",
       " ('jquery', 'twitter-bootstrap'): 2011,\n",
       " ('jquery-mobile',): 2044,\n",
       " ('jquery-plugins',): 1201,\n",
       " ('jsf',): 2611,\n",
       " ('jsf-2',): 1389,\n",
       " ('json', 'php'): 2506,\n",
       " ('jsp',): 3959,\n",
       " ('junit',): 1358,\n",
       " ('kendo-ui',): 1133,\n",
       " ('knockout.js',): 1389,\n",
       " ('lambda',): 1212,\n",
       " ('laravel',): 4683,\n",
       " ('laravel', 'php'): 3045,\n",
       " ('laravel-4',): 1381,\n",
       " ('laravel-5',): 1339,\n",
       " ('layout',): 1940,\n",
       " ('linq',): 5609,\n",
       " ('linq-to-sql',): 1216,\n",
       " ('linux', 'shell'): 1224,\n",
       " ('list',): 5283,\n",
       " ('list', 'python'): 1861,\n",
       " ('listview',): 3694,\n",
       " ('logging',): 2182,\n",
       " ('login',): 1496,\n",
       " ('loops',): 3787,\n",
       " ('machine-learning',): 1107,\n",
       " ('magento',): 2821,\n",
       " ('magento', 'php'): 1175,\n",
       " ('makefile',): 1290,\n",
       " ('math',): 2267,\n",
       " ('matlab',): 5114,\n",
       " ('matplotlib',): 1847,\n",
       " ('matplotlib', 'python'): 1628,\n",
       " ('matrix',): 2013,\n",
       " ('maven',): 4368,\n",
       " ('memory',): 2205,\n",
       " ('memory-leaks',): 1407,\n",
       " ('memory-management',): 1955,\n",
       " ('menu',): 1114,\n",
       " ('merge',): 1125,\n",
       " ('meteor',): 2002,\n",
       " ('methods',): 1721,\n",
       " ('mobile',): 1988,\n",
       " ('model',): 1120,\n",
       " ('model-view-controller',): 1958,\n",
       " ('module',): 1173,\n",
       " ('mongodb',): 6202,\n",
       " ('mongodb', 'node.js'): 1548,\n",
       " ('mongoose',): 1206,\n",
       " ('ms-access',): 2790,\n",
       " ('multidimensional-array',): 1826,\n",
       " ('mvvm',): 1753,\n",
       " ('mvvm', 'wpf'): 1196,\n",
       " ('mysql', 'php'): 15888,\n",
       " ('mysql', 'php', 'sql'): 1851,\n",
       " ('mysql', 'sql'): 7913,\n",
       " ('mysqli',): 1615,\n",
       " ('mysqli', 'php'): 1434,\n",
       " ('netbeans',): 1757,\n",
       " ('networking',): 2140,\n",
       " ('nginx',): 1889,\n",
       " ('nhibernate',): 1624,\n",
       " ('node.js',): 13435,\n",
       " ('npm',): 1025,\n",
       " ('numpy',): 2803,\n",
       " ('numpy', 'python'): 2569,\n",
       " ('oauth',): 1386,\n",
       " ('object',): 2901,\n",
       " ('objective-c',): 24966,\n",
       " ('objective-c', 'uitableview'): 1813,\n",
       " ('objective-c', 'xcode'): 3004,\n",
       " ('oop',): 3392,\n",
       " ('opencv',): 3119,\n",
       " ('opengl',): 2500,\n",
       " ('opengl-es',): 1183,\n",
       " ('optimization',): 2011,\n",
       " ('oracle',): 6951,\n",
       " ('oracle', 'sql'): 3070,\n",
       " ('oracle11g',): 1138,\n",
       " ('orm',): 1231,\n",
       " ('osx',): 6845,\n",
       " ('pagination',): 1036,\n",
       " ('pandas',): 2848,\n",
       " ('pandas', 'python'): 2605,\n",
       " ('parameters',): 1197,\n",
       " ('parse.com',): 1727,\n",
       " ('parsing',): 3513,\n",
       " ('path',): 1023,\n",
       " ('paypal',): 1412,\n",
       " ('pdf',): 2752,\n",
       " ('pdo',): 1436,\n",
       " ('pdo', 'php'): 1323,\n",
       " ('performance',): 6115,\n",
       " ('perl',): 4149,\n",
       " ('permissions',): 1059,\n",
       " ('php',): 85338,\n",
       " ('php', 'regex'): 2156,\n",
       " ('php', 'session'): 1420,\n",
       " ('php', 'sql'): 3207,\n",
       " ('php', 'symfony2'): 1883,\n",
       " ('php', 'wordpress'): 4189,\n",
       " ('php', 'xml'): 1326,\n",
       " ('php', 'zend-framework'): 1189,\n",
       " ('playframework',): 1271,\n",
       " ('plot',): 1520,\n",
       " ('plsql',): 1290,\n",
       " ('plugins',): 1758,\n",
       " ('post',): 2425,\n",
       " ('postgresql',): 5323,\n",
       " ('postgresql', 'sql'): 1532,\n",
       " ('powershell',): 3097,\n",
       " ('primefaces',): 1323,\n",
       " ('printing',): 1440,\n",
       " ('process',): 1146,\n",
       " ('properties',): 1171,\n",
       " ('proxy',): 1149,\n",
       " ('python',): 56031,\n",
       " ('python', 'python-2.7'): 3413,\n",
       " ('python', 'python-3.x'): 2555,\n",
       " ('python', 'regex'): 1359,\n",
       " ('python', 'string'): 1074,\n",
       " ('python', 'tkinter'): 1035,\n",
       " ('python-2.7',): 5186,\n",
       " ('python-3.x',): 3615,\n",
       " ('qt',): 4999,\n",
       " ('r',): 12049,\n",
       " ('random',): 1691,\n",
       " ('razor',): 2231,\n",
       " ('reactjs',): 2250,\n",
       " ('recursion',): 2114,\n",
       " ('redirect',): 2705,\n",
       " ('reference',): 1049,\n",
       " ('reflection',): 1611,\n",
       " ('replace',): 1483,\n",
       " ('reporting-services',): 1415,\n",
       " ('responsive-design',): 1145,\n",
       " ('rest',): 4664,\n",
       " ('rspec',): 1358,\n",
       " ('ruby',): 15203,\n",
       " ('ruby', 'ruby-on-rails'): 7841,\n",
       " ('ruby', 'ruby-on-rails', 'ruby-on-rails-3'): 1116,\n",
       " ('ruby', 'ruby-on-rails-3'): 1518,\n",
       " ('ruby-on-rails',): 23237,\n",
       " ('ruby-on-rails', 'ruby-on-rails-3'): 3358,\n",
       " ('ruby-on-rails', 'ruby-on-rails-4'): 2326,\n",
       " ('ruby-on-rails-4',): 3150,\n",
       " ('safari',): 1046,\n",
       " ('scala',): 4835,\n",
       " ('scroll',): 1335,\n",
       " ('search',): 2341,\n",
       " ('security',): 3602,\n",
       " ('sed',): 1335,\n",
       " ('select',): 2430,\n",
       " ('selenium',): 3163,\n",
       " ('selenium-webdriver',): 1668,\n",
       " ('serialization',): 2002,\n",
       " ('service',): 1542,\n",
       " ('servlets',): 2421,\n",
       " ('session',): 3215,\n",
       " ('sharepoint',): 1946,\n",
       " ('silverlight',): 2490,\n",
       " ('soap',): 1966,\n",
       " ('sockets',): 4220,\n",
       " ('solr',): 1224,\n",
       " ('sorting',): 3773,\n",
       " ('split',): 1072,\n",
       " ('spring',): 9485,\n",
       " ('spring', 'spring-mvc'): 2169,\n",
       " ('spring-boot',): 1221,\n",
       " ('spring-security',): 1333,\n",
       " ('sql', 'sql-server'): 7554,\n",
       " ('sql', 'sql-server', 'sql-server-2008'): 1170,\n",
       " ('sql', 'sql-server', 'tsql'): 1452,\n",
       " ('sql', 'sql-server-2008'): 2222,\n",
       " ('sql', 'tsql'): 2110,\n",
       " ('sql-server', 'sql-server-2008'): 1987,\n",
       " ('sql-server', 'tsql'): 2521,\n",
       " ('sql-server-2005',): 1626,\n",
       " ('sql-server-2012',): 1042,\n",
       " ('sqlite',): 4832,\n",
       " ('sqlite3',): 1111,\n",
       " ('ssh',): 1403,\n",
       " ('ssis',): 1013,\n",
       " ('ssl',): 2571,\n",
       " ('static',): 1061,\n",
       " ('stl',): 1024,\n",
       " ('stored-procedures',): 2230,\n",
       " ('struct',): 1384,\n",
       " ('svg',): 1964,\n",
       " ('svn',): 1963,\n",
       " ('swift',): 10672,\n",
       " ('swift', 'xcode'): 1273,\n",
       " ('swing',): 6071,\n",
       " ('symfony2',): 3911,\n",
       " ('syntax',): 1238,\n",
       " ('table',): 2318,\n",
       " ('tabs',): 1062,\n",
       " ('tcp',): 1394,\n",
       " ('templates',): 3103,\n",
       " ('terminal',): 1017,\n",
       " ('testing',): 2314,\n",
       " ('text',): 1807,\n",
       " ('tfs',): 1274,\n",
       " ('time',): 1520,\n",
       " ('timer',): 1249,\n",
       " ('tkinter',): 1182,\n",
       " ('tomcat',): 2877,\n",
       " ('transactions',): 1004,\n",
       " ('triggers',): 1153,\n",
       " ('twitter',): 1876,\n",
       " ('twitter-bootstrap-3',): 1564,\n",
       " ('types',): 1417,\n",
       " ('typescript',): 1473,\n",
       " ('ubuntu',): 2848,\n",
       " ('uiscrollview',): 1026,\n",
       " ('uiview',): 1467,\n",
       " ('uiviewcontroller',): 1234,\n",
       " ('unicode',): 1587,\n",
       " ('unit-testing',): 4220,\n",
       " ('unity3d',): 1815,\n",
       " ('unix',): 2820,\n",
       " ('url',): 2739,\n",
       " ('url-rewriting',): 1125,\n",
       " ('user-interface',): 3463,\n",
       " ('utf-8',): 1395,\n",
       " ('validation',): 4338,\n",
       " ('variables',): 2975,\n",
       " ('vba',): 6539,\n",
       " ('vbscript',): 1166,\n",
       " ('vector',): 1718,\n",
       " ('version-control',): 1173,\n",
       " ('video',): 2281,\n",
       " ('view',): 1486,\n",
       " ('vim',): 1336,\n",
       " ('visual-c++',): 2027,\n",
       " ('visual-studio',): 5632,\n",
       " ('visual-studio-2008',): 1429,\n",
       " ('visual-studio-2010',): 4327,\n",
       " ('visual-studio-2012',): 2115,\n",
       " ('visual-studio-2013',): 1627,\n",
       " ('visual-studio-2015',): 1221,\n",
       " ('wcf',): 4161,\n",
       " ('web',): 1777,\n",
       " ('web-applications',): 1589,\n",
       " ('web-services',): 5089,\n",
       " ('webforms',): 1045,\n",
       " ('websocket',): 1110,\n",
       " ('webview',): 1405,\n",
       " ('while-loop',): 1092,\n",
       " ('winapi',): 2540,\n",
       " ('windows-phone-7',): 1768,\n",
       " ('windows-phone-8',): 1714,\n",
       " ('wordpress',): 8836,\n",
       " ('wpf', 'xaml'): 2390,\n",
       " ('xamarin',): 1632,\n",
       " ('xml', 'xslt'): 1499,\n",
       " ('xpath',): 1987,\n",
       " ('xslt',): 2267,\n",
       " ('yii',): 1347,\n",
       " ('youtube',): 1066,\n",
       " ('zend-framework',): 1860}"
      ]
     },
     "execution_count": 45,
     "metadata": {},
     "output_type": "execute_result"
    }
   ],
   "source": [
    "patterns"
   ]
  },
  {
   "cell_type": "code",
   "execution_count": 46,
   "metadata": {
    "collapsed": false
   },
   "outputs": [],
   "source": [
    "rules = fp.generate_association_rules(patterns, 0.5)"
   ]
  },
  {
   "cell_type": "code",
   "execution_count": 47,
   "metadata": {
    "collapsed": false
   },
   "outputs": [
    {
     "data": {
      "text/plain": [
       "{('.htaccess', 'apache'): (('mod-rewrite',), 0.5719717544812601),\n",
       " ('.htaccess', 'mod-rewrite'): (('apache',), 0.5286144578313253),\n",
       " ('.net', 'asp.net'): (('c#',), 0.5618746708794102),\n",
       " ('.net', 'winforms'): (('c#',), 0.7174825174825175),\n",
       " ('activerecord',): (('ruby-on-rails',), 0.7726239199636198),\n",
       " ('ajax', 'javascript'): (('jquery',), 0.6000310896937665),\n",
       " ('ajax', 'javascript', 'php'): (('jquery',), 0.6085249579360628),\n",
       " ('android-activity',): (('android',), 0.9609733700642792),\n",
       " ('android-asynctask',): (('android',), 0.9810508182601206),\n",
       " ('android-fragments',): (('android',), 0.970112517580872),\n",
       " ('android-intent',): (('android',), 0.9796460176991151),\n",
       " ('android-layout',): (('android',), 0.9804476459994854),\n",
       " ('android-listview',): (('android',), 0.9781997187060478),\n",
       " ('android-studio',): (('android',), 0.8454800280308339),\n",
       " ('angularjs-directive',): (('angularjs',), 0.9842406876790831),\n",
       " ('apache', 'mod-rewrite'): (('.htaccess',), 0.7570093457943925),\n",
       " ('arraylist',): (('java',), 0.7654320987654321),\n",
       " ('backbone.js',): (('javascript',), 0.6093150684931506),\n",
       " ('boost',): (('c++',), 0.8778118609406953),\n",
       " ('c#', 'xaml'): (('wpf',), 0.5911897900370523),\n",
       " ('c++11',): (('c++',), 0.8710462287104623),\n",
       " ('canvas',): (('javascript',), 0.5613103142983621),\n",
       " ('codeigniter',): (('php',), 0.759346317438997),\n",
       " ('core-data',): (('ios',), 0.5994304698623636),\n",
       " ('css', 'css3'): (('html',), 0.546074074074074),\n",
       " ('css', 'html', 'javascript'): (('jquery',), 0.6066056752984959),\n",
       " ('css', 'html', 'jquery'): (('javascript',), 0.6858345021037868),\n",
       " ('css', 'javascript'): (('html',), 0.6497732997481108),\n",
       " ('css', 'javascript', 'jquery'): (('html',), 0.7034705988131631),\n",
       " ('css', 'twitter-bootstrap'): (('html',), 0.5938543754175016),\n",
       " ('css3', 'html'): (('css',), 0.8216674097191262),\n",
       " ('curl',): (('php',), 0.6022498995580554),\n",
       " ('d3.js',): (('javascript',), 0.7312312312312312),\n",
       " ('datagridview',): (('c#',), 0.7246770904146839),\n",
       " ('devise',): (('ruby-on-rails',), 0.8467400508044031),\n",
       " ('dictionary',): (('python',), 0.5055790688726434),\n",
       " ('django',): (('python',), 0.5179716503543705),\n",
       " ('django-models',): (('django',), 0.960054163845633),\n",
       " ('dom',): (('javascript',), 0.602880658436214),\n",
       " ('entity-framework',): (('c#',), 0.5549894588896697),\n",
       " ('excel', 'excel-vba'): (('vba',), 0.7247157390783961),\n",
       " ('excel', 'vba'): (('excel-vba',), 0.6295814920717442),\n",
       " ('excel-vba', 'vba'): (('excel',), 0.764520202020202),\n",
       " ('express',): (('node.js',), 0.875526618153964),\n",
       " ('facebook-graph-api',): (('facebook',), 0.761640798226164),\n",
       " ('flask',): (('python',), 0.8325652841781874),\n",
       " ('ggplot2',): (('r',), 0.989329268292683),\n",
       " ('github',): (('git',), 0.6487880350696236),\n",
       " ('google-maps-api-3',): (('google-maps',), 0.6328423349699945),\n",
       " ('gridview',): (('asp.net',), 0.580365296803653),\n",
       " ('html', 'jquery'): (('javascript',), 0.6950162155006949),\n",
       " ('html', 'twitter-bootstrap'): (('css',), 0.7386788533444121),\n",
       " ('html5', 'jquery'): (('javascript',), 0.6218289085545723),\n",
       " ('java', 'spring-mvc'): (('spring',), 0.6787723785166241),\n",
       " ('java-ee',): (('java',), 0.5588952071486596),\n",
       " ('javascript', 'jquery-ui'): (('jquery',), 0.8848122866894198),\n",
       " ('javascript', 'twitter-bootstrap'): (('jquery',), 0.6117216117216118),\n",
       " ('javascript-events',): (('javascript',), 0.8154335719968179),\n",
       " ('jdbc',): (('java',), 0.7021384928716904),\n",
       " ('jquery', 'twitter-bootstrap'): (('javascript',), 0.5813028344107409),\n",
       " ('jquery-mobile',): (('jquery',), 0.5567514677103719),\n",
       " ('jquery-plugins',): (('jquery',), 0.8601165695253955),\n",
       " ('jsp',): (('java',), 0.5183127052285931),\n",
       " ('laravel',): (('php',), 0.6502242152466368),\n",
       " ('linq',): (('c#',), 0.7402389017650205),\n",
       " ('listview',): (('android',), 0.712777476989713),\n",
       " ('matplotlib',): (('python',), 0.881429344883595),\n",
       " ('maven',): (('java',), 0.5068681318681318),\n",
       " ('mvvm',): (('wpf',), 0.6822589845978323),\n",
       " ('mysqli',): (('php',), 0.8879256965944272),\n",
       " ('netbeans',): (('java',), 0.5708594194649972),\n",
       " ('numpy',): (('python',), 0.9165180164109882),\n",
       " ('objective-c',): (('ios',), 0.5648882480173035),\n",
       " ('objective-c', 'uitableview'): (('ios',), 0.740761169332598),\n",
       " ('objective-c', 'xcode'): (('ios',), 0.5206391478029294),\n",
       " ('pandas',): (('python',), 0.9146769662921348),\n",
       " ('pdo',): (('php',), 0.9213091922005571),\n",
       " ('php', 'sql'): (('mysql',), 0.5771749298409729),\n",
       " ('python-2.7',): (('python',), 0.6581180100269958),\n",
       " ('python-3.x',): (('python',), 0.706777316735823),\n",
       " ('qt',): (('c++',), 0.5221044208841769),\n",
       " ('razor',): (('asp.net-mvc',), 0.5544598834603317),\n",
       " ('reactjs',): (('javascript',), 0.5417777777777778),\n",
       " ('ruby',): (('ruby-on-rails',), 0.5157534697099256),\n",
       " ('ruby', 'ruby-on-rails-3'): (('ruby-on-rails',), 0.7351778656126482),\n",
       " ('ruby-on-rails-4',): (('ruby-on-rails',), 0.7384126984126984),\n",
       " ('servlets',): (('java',), 0.677819083023544),\n",
       " ('spring',): (('java',), 0.5908276225619399),\n",
       " ('spring', 'spring-mvc'): (('java',), 0.611802674043338),\n",
       " ('sql', 'sql-server-2008'): (('sql-server',), 0.5265526552655265),\n",
       " ('sql', 'tsql'): (('sql-server',), 0.6881516587677725),\n",
       " ('sql-server', 'sql-server-2008'): (('sql',), 0.5888273779567187),\n",
       " ('sql-server', 'tsql'): (('sql',), 0.5759619198730662),\n",
       " ('swift',): (('ios',), 0.6567653673163418),\n",
       " ('swing',): (('java',), 0.9797397463350355),\n",
       " ('templates',): (('c++',), 0.5543022881082823),\n",
       " ('tkinter',): (('python',), 0.8756345177664975),\n",
       " ('tomcat',): (('java',), 0.5397984011122697),\n",
       " ('vba',): (('excel',), 0.588316256308304),\n",
       " ('vector',): (('c++',), 0.6204889406286379),\n",
       " ('visual-c++',): (('c++',), 0.517513566847558),\n",
       " ('webview',): (('android',), 0.7309608540925266),\n",
       " ('wpf', 'xaml'): (('c#',), 0.600836820083682),\n",
       " ('xslt',): (('xml',), 0.6612262902514336),\n",
       " ('zend-framework',): (('php',), 0.639247311827957)}"
      ]
     },
     "execution_count": 47,
     "metadata": {},
     "output_type": "execute_result"
    }
   ],
   "source": [
    "rules"
   ]
  },
  {
   "cell_type": "code",
   "execution_count": 48,
   "metadata": {
    "collapsed": false
   },
   "outputs": [
    {
     "data": {
      "text/plain": [
       "dict_keys([('android-listview',), ('android-asynctask',), ('css', 'javascript'), ('express',), ('canvas',), ('activerecord',), ('javascript', 'twitter-bootstrap'), ('android-intent',), ('github',), ('excel-vba', 'vba'), ('css', 'css3'), ('c#', 'xaml'), ('ruby-on-rails-4',), ('swing',), ('android-layout',), ('arraylist',), ('spring', 'spring-mvc'), ('numpy',), ('django-models',), ('sql-server', 'tsql'), ('apache', 'mod-rewrite'), ('devise',), ('objective-c', 'xcode'), ('angularjs-directive',), ('javascript-events',), ('c++11',), ('webview',), ('templates',), ('xslt',), ('python-2.7',), ('django',), ('maven',), ('servlets',), ('dictionary',), ('visual-c++',), ('razor',), ('google-maps-api-3',), ('excel', 'vba'), ('facebook-graph-api',), ('matplotlib',), ('sql', 'tsql'), ('datagridview',), ('tomcat',), ('java-ee',), ('gridview',), ('css', 'javascript', 'jquery'), ('sql', 'sql-server-2008'), ('.net', 'asp.net'), ('html', 'jquery'), ('objective-c',), ('java', 'spring-mvc'), ('tkinter',), ('css', 'twitter-bootstrap'), ('jquery', 'twitter-bootstrap'), ('css', 'html', 'jquery'), ('laravel',), ('qt',), ('ggplot2',), ('android-fragments',), ('dom',), ('css3', 'html'), ('ruby', 'ruby-on-rails-3'), ('android-studio',), ('codeigniter',), ('html', 'twitter-bootstrap'), ('html5', 'jquery'), ('linq',), ('ajax', 'javascript', 'php'), ('vba',), ('excel', 'excel-vba'), ('netbeans',), ('reactjs',), ('.htaccess', 'apache'), ('zend-framework',), ('d3.js',), ('jdbc',), ('ruby',), ('listview',), ('css', 'html', 'javascript'), ('mvvm',), ('objective-c', 'uitableview'), ('core-data',), ('ajax', 'javascript'), ('pdo',), ('vector',), ('wpf', 'xaml'), ('.htaccess', 'mod-rewrite'), ('sql-server', 'sql-server-2008'), ('mysqli',), ('.net', 'winforms'), ('spring',), ('flask',), ('python-3.x',), ('jquery-mobile',), ('php', 'sql'), ('boost',), ('backbone.js',), ('jquery-plugins',), ('pandas',), ('javascript', 'jquery-ui'), ('jsp',), ('curl',), ('android-activity',), ('swift',), ('entity-framework',)])"
      ]
     },
     "execution_count": 48,
     "metadata": {},
     "output_type": "execute_result"
    }
   ],
   "source": [
    "rules.keys() #dict cant be sorted"
   ]
  },
  {
   "cell_type": "code",
   "execution_count": 49,
   "metadata": {
    "collapsed": false
   },
   "outputs": [
    {
     "data": {
      "text/plain": [
       "dict_values([(('android',), 0.9781997187060478), (('android',), 0.9810508182601206), (('html',), 0.6497732997481108), (('node.js',), 0.875526618153964), (('javascript',), 0.5613103142983621), (('ruby-on-rails',), 0.7726239199636198), (('jquery',), 0.6117216117216118), (('android',), 0.9796460176991151), (('git',), 0.6487880350696236), (('excel',), 0.764520202020202), (('html',), 0.546074074074074), (('wpf',), 0.5911897900370523), (('ruby-on-rails',), 0.7384126984126984), (('java',), 0.9797397463350355), (('android',), 0.9804476459994854), (('java',), 0.7654320987654321), (('java',), 0.611802674043338), (('python',), 0.9165180164109882), (('django',), 0.960054163845633), (('sql',), 0.5759619198730662), (('.htaccess',), 0.7570093457943925), (('ruby-on-rails',), 0.8467400508044031), (('ios',), 0.5206391478029294), (('angularjs',), 0.9842406876790831), (('javascript',), 0.8154335719968179), (('c++',), 0.8710462287104623), (('android',), 0.7309608540925266), (('c++',), 0.5543022881082823), (('xml',), 0.6612262902514336), (('python',), 0.6581180100269958), (('python',), 0.5179716503543705), (('java',), 0.5068681318681318), (('java',), 0.677819083023544), (('python',), 0.5055790688726434), (('c++',), 0.517513566847558), (('asp.net-mvc',), 0.5544598834603317), (('google-maps',), 0.6328423349699945), (('excel-vba',), 0.6295814920717442), (('facebook',), 0.761640798226164), (('python',), 0.881429344883595), (('sql-server',), 0.6881516587677725), (('c#',), 0.7246770904146839), (('java',), 0.5397984011122697), (('java',), 0.5588952071486596), (('asp.net',), 0.580365296803653), (('html',), 0.7034705988131631), (('sql-server',), 0.5265526552655265), (('c#',), 0.5618746708794102), (('javascript',), 0.6950162155006949), (('ios',), 0.5648882480173035), (('spring',), 0.6787723785166241), (('python',), 0.8756345177664975), (('html',), 0.5938543754175016), (('javascript',), 0.5813028344107409), (('javascript',), 0.6858345021037868), (('php',), 0.6502242152466368), (('c++',), 0.5221044208841769), (('r',), 0.989329268292683), (('android',), 0.970112517580872), (('javascript',), 0.602880658436214), (('css',), 0.8216674097191262), (('ruby-on-rails',), 0.7351778656126482), (('android',), 0.8454800280308339), (('php',), 0.759346317438997), (('css',), 0.7386788533444121), (('javascript',), 0.6218289085545723), (('c#',), 0.7402389017650205), (('jquery',), 0.6085249579360628), (('excel',), 0.588316256308304), (('vba',), 0.7247157390783961), (('java',), 0.5708594194649972), (('javascript',), 0.5417777777777778), (('mod-rewrite',), 0.5719717544812601), (('php',), 0.639247311827957), (('javascript',), 0.7312312312312312), (('java',), 0.7021384928716904), (('ruby-on-rails',), 0.5157534697099256), (('android',), 0.712777476989713), (('jquery',), 0.6066056752984959), (('wpf',), 0.6822589845978323), (('ios',), 0.740761169332598), (('ios',), 0.5994304698623636), (('jquery',), 0.6000310896937665), (('php',), 0.9213091922005571), (('c++',), 0.6204889406286379), (('c#',), 0.600836820083682), (('apache',), 0.5286144578313253), (('sql',), 0.5888273779567187), (('php',), 0.8879256965944272), (('c#',), 0.7174825174825175), (('java',), 0.5908276225619399), (('python',), 0.8325652841781874), (('python',), 0.706777316735823), (('jquery',), 0.5567514677103719), (('mysql',), 0.5771749298409729), (('c++',), 0.8778118609406953), (('javascript',), 0.6093150684931506), (('jquery',), 0.8601165695253955), (('python',), 0.9146769662921348), (('jquery',), 0.8848122866894198), (('java',), 0.5183127052285931), (('php',), 0.6022498995580554), (('android',), 0.9609733700642792), (('ios',), 0.6567653673163418), (('c#',), 0.5549894588896697)])"
      ]
     },
     "execution_count": 49,
     "metadata": {},
     "output_type": "execute_result"
    }
   ],
   "source": [
    "rules.values()"
   ]
  },
  {
   "cell_type": "code",
   "execution_count": 50,
   "metadata": {
    "collapsed": false
   },
   "outputs": [
    {
     "data": {
      "text/plain": [
       "37035"
      ]
     },
     "execution_count": 50,
     "metadata": {},
     "output_type": "execute_result"
    }
   ],
   "source": [
    "stackSampleTags.QuestTags.nunique()"
   ]
  },
  {
   "cell_type": "code",
   "execution_count": 51,
   "metadata": {
    "collapsed": false
   },
   "outputs": [],
   "source": [
    "tag_count = stackSampleTags.QuestTags.value_counts()"
   ]
  },
  {
   "cell_type": "code",
   "execution_count": 52,
   "metadata": {
    "collapsed": false
   },
   "outputs": [
    {
     "data": {
      "text/plain": [
       "javascript              124155\n",
       "java                    115212\n",
       "c#                      101186\n",
       "php                      98808\n",
       "android                  90659\n",
       "jquery                   78542\n",
       "python                   64601\n",
       "html                     58976\n",
       "c++                      47591\n",
       "ios                      47009\n",
       "mysql                    42464\n",
       "css                      42308\n",
       "sql                      35782\n",
       "asp.net                  29970\n",
       "objective-c              26922\n",
       "ruby-on-rails            25789\n",
       ".net                     24059\n",
       "c                        23238\n",
       "iphone                   21539\n",
       "angularjs                20345\n",
       "arrays                   19799\n",
       "sql-server               18160\n",
       "json                     17669\n",
       "ruby                     17013\n",
       "r                        15701\n",
       "ajax                     15629\n",
       "regex                    15349\n",
       "xml                      14763\n",
       "node.js                  14525\n",
       "asp.net-mvc              14284\n",
       "                         ...  \n",
       "fakeroot                     1\n",
       "relative-addressing          1\n",
       "sourcelink                   1\n",
       "kdevelop4                    1\n",
       "gift                         1\n",
       "groovyc                      1\n",
       "sgen.exe                     1\n",
       "mathquill                    1\n",
       "cvcs                         1\n",
       "alfresco-wqs                 1\n",
       "uls                          1\n",
       "emacs-server                 1\n",
       "reflectionpermission         1\n",
       "video-game-consoles          1\n",
       "optional-binding             1\n",
       "truclient                    1\n",
       "gs-collections               1\n",
       "maniphest                    1\n",
       "ops4j                        1\n",
       "urlrewriting.net             1\n",
       "verbosegc                    1\n",
       "rowexpansion                 1\n",
       "tbar                         1\n",
       "graphengine                  1\n",
       "g++-5                        1\n",
       "mt4j                         1\n",
       "imx6                         1\n",
       "package-diagram              1\n",
       "okular                       1\n",
       "all-delete-orphan            1\n",
       "Name: QuestTags, dtype: int64"
      ]
     },
     "execution_count": 52,
     "metadata": {},
     "output_type": "execute_result"
    }
   ],
   "source": [
    "tag_count"
   ]
  },
  {
   "cell_type": "code",
   "execution_count": 53,
   "metadata": {
    "collapsed": false
   },
   "outputs": [],
   "source": [
    "toptags = tag_count[tag_count >= 10000]"
   ]
  },
  {
   "cell_type": "code",
   "execution_count": 54,
   "metadata": {
    "collapsed": false
   },
   "outputs": [],
   "source": [
    "test = list(rules.items())"
   ]
  },
  {
   "cell_type": "code",
   "execution_count": 55,
   "metadata": {
    "collapsed": false
   },
   "outputs": [],
   "source": [
    "#RHS of edges all only contain one element\n",
    "# tags_list = list()\n",
    "# for key,value in test:\n",
    "#     if len(key) > 1:\n",
    "#         tags_list.append([key, value[0][0], value[1]])\n",
    "#     else:\n",
    "#         tags_list.append([key[0], value[0][0], value[1]])\n",
    "        \n",
    "tags_list = list()\n",
    "for key,value in test:\n",
    "    if len(key) > 1:\n",
    "        for ele in key:\n",
    "            tags_list.append([ele, value[0][0], value[1]])\n",
    "    else:\n",
    "        tags_list.append([key[0], value[0][0], value[1]])"
   ]
  },
  {
   "cell_type": "code",
   "execution_count": 56,
   "metadata": {
    "collapsed": false
   },
   "outputs": [
    {
     "data": {
      "text/plain": [
       "javascript       124155\n",
       "java             115212\n",
       "c#               101186\n",
       "php               98808\n",
       "android           90659\n",
       "jquery            78542\n",
       "python            64601\n",
       "html              58976\n",
       "c++               47591\n",
       "ios               47009\n",
       "mysql             42464\n",
       "css               42308\n",
       "sql               35782\n",
       "asp.net           29970\n",
       "objective-c       26922\n",
       "ruby-on-rails     25789\n",
       ".net              24059\n",
       "c                 23238\n",
       "iphone            21539\n",
       "angularjs         20345\n",
       "arrays            19799\n",
       "sql-server        18160\n",
       "json              17669\n",
       "ruby              17013\n",
       "r                 15701\n",
       "ajax              15629\n",
       "regex             15349\n",
       "xml               14763\n",
       "node.js           14525\n",
       "asp.net-mvc       14284\n",
       "linux             13395\n",
       "django            12818\n",
       "wpf               12365\n",
       "database          11860\n",
       "swift             11832\n",
       "xcode             10633\n",
       "string            10427\n",
       "excel             10384\n",
       "vb.net            10286\n",
       "windows           10142\n",
       "Name: QuestTags, dtype: int64"
      ]
     },
     "execution_count": 56,
     "metadata": {},
     "output_type": "execute_result"
    }
   ],
   "source": [
    "toptags"
   ]
  },
  {
   "cell_type": "code",
   "execution_count": 57,
   "metadata": {
    "collapsed": false
   },
   "outputs": [
    {
     "data": {
      "text/plain": [
       "144"
      ]
     },
     "execution_count": 57,
     "metadata": {},
     "output_type": "execute_result"
    }
   ],
   "source": [
    "len(tags_list)"
   ]
  },
  {
   "cell_type": "code",
   "execution_count": 58,
   "metadata": {
    "collapsed": false
   },
   "outputs": [
    {
     "data": {
      "text/plain": [
       "(['sql-server', 'sql', 0.5759619198730662],\n",
       " ['tsql', 'sql', 0.5759619198730662],\n",
       " ['sql', 'sql-server', 0.6881516587677725],\n",
       " ['sql', 'sql-server', 0.5265526552655265],\n",
       " ['sql-server', 'sql', 0.5888273779567187],\n",
       " ['sql-server-2008', 'sql', 0.5888273779567187],\n",
       " ['sql', 'mysql', 0.5771749298409729])"
      ]
     },
     "execution_count": 58,
     "metadata": {},
     "output_type": "execute_result"
    }
   ],
   "source": [
    "tuple(list(filter(lambda x: \"sql\" in x, tags_list)))"
   ]
  },
  {
   "cell_type": "code",
   "execution_count": 59,
   "metadata": {
    "collapsed": true
   },
   "outputs": [],
   "source": [
    "import networkx as nx\n",
    "DG = nx.DiGraph()"
   ]
  },
  {
   "cell_type": "code",
   "execution_count": 60,
   "metadata": {
    "collapsed": false
   },
   "outputs": [],
   "source": [
    "items = list()\n",
    "for l in tags_list:\n",
    "    for ele in l[:-1]:\n",
    "        if ele not in items:\n",
    "            items.append(ele)\n",
    "DG.add_nodes_from(items)"
   ]
  },
  {
   "cell_type": "code",
   "execution_count": 61,
   "metadata": {
    "collapsed": false
   },
   "outputs": [
    {
     "name": "stdout",
     "output_type": "stream",
     "text": [
      "114\n",
      "['vector', 'pandas', 'numpy', 'mysql', 'c++', 'servlets', 'codeigniter', 'activerecord', 'angularjs-directive', 'boost', 'javascript-events', 'ggplot2', 'winforms', 'sql', 'java-ee', 'd3.js', 'css', 'jquery-ui', 'pdo', 'python-2.7', 'apache', 'android-intent', 'razor', 'linq', 'node.js', 'ruby-on-rails-3', 'asp.net-mvc', 'listview', 'html', 'netbeans', 'arraylist', 'dom', 'canvas', 'jdbc', 'facebook-graph-api', 'google-maps-api-3', 'excel-vba', 'r', 'twitter-bootstrap', 'ajax', 'jsp', 'jquery-plugins', 'android', 'qt', 'xcode', 'devise', 'webview', 'reactjs', 'dictionary', 'python-3.x', 'ruby-on-rails-4', 'vba', 'backbone.js', 'android-layout', 'facebook', 'maven', 'android-studio', 'angularjs', 'mvvm', 'html5', 'excel', 'jquery-mobile', 'tomcat', 'swift', 'ruby-on-rails', 'xslt', 'mod-rewrite', 'ruby', 'css3', 'android-fragments', 'xaml', 'express', 'objective-c', 'core-data', 'wpf', 'entity-framework', 'uitableview', 'spring-mvc', 'ios', 'datagridview', 'gridview', 'git', 'javascript', 'django-models', 'android-activity', 'tsql', 'github', 'tkinter', 'asp.net', '.htaccess', 'matplotlib', 'xml', 'swing', 'curl', 'spring', 'c++11', 'php', 'laravel', 'jquery', 'android-listview', 'java', 'android-asynctask', 'django', 'flask', 'google-maps', 'mysqli', 'sql-server-2008', 'zend-framework', 'c#', '.net', 'templates', 'python', 'sql-server', 'visual-c++']\n"
     ]
    }
   ],
   "source": [
    "print(DG.number_of_nodes())\n",
    "print(DG.nodes())"
   ]
  },
  {
   "cell_type": "code",
   "execution_count": 62,
   "metadata": {
    "collapsed": false
   },
   "outputs": [],
   "source": [
    "DG.add_weighted_edges_from(tags_list)"
   ]
  },
  {
   "cell_type": "code",
   "execution_count": 63,
   "metadata": {
    "collapsed": false
   },
   "outputs": [
    {
     "name": "stdout",
     "output_type": "stream",
     "text": [
      "122\n",
      "[('vector', 'c++'), ('pandas', 'python'), ('numpy', 'python'), ('servlets', 'java'), ('codeigniter', 'php'), ('activerecord', 'ruby-on-rails'), ('angularjs-directive', 'angularjs'), ('boost', 'c++'), ('javascript-events', 'javascript'), ('ggplot2', 'r'), ('winforms', 'c#'), ('sql', 'mysql'), ('sql', 'sql-server'), ('java-ee', 'java'), ('d3.js', 'javascript'), ('css', 'html'), ('css', 'javascript'), ('css', 'jquery'), ('jquery-ui', 'jquery'), ('pdo', 'php'), ('python-2.7', 'python'), ('apache', 'mod-rewrite'), ('apache', '.htaccess'), ('android-intent', 'android'), ('razor', 'asp.net-mvc'), ('linq', 'c#'), ('ruby-on-rails-3', 'ruby-on-rails'), ('listview', 'android'), ('html', 'css'), ('html', 'javascript'), ('html', 'jquery'), ('netbeans', 'java'), ('arraylist', 'java'), ('dom', 'javascript'), ('canvas', 'javascript'), ('jdbc', 'java'), ('facebook-graph-api', 'facebook'), ('google-maps-api-3', 'google-maps'), ('excel-vba', 'excel'), ('excel-vba', 'vba'), ('twitter-bootstrap', 'css'), ('twitter-bootstrap', 'html'), ('twitter-bootstrap', 'javascript'), ('twitter-bootstrap', 'jquery'), ('ajax', 'jquery'), ('jsp', 'java'), ('jquery-plugins', 'jquery'), ('qt', 'c++'), ('xcode', 'ios'), ('devise', 'ruby-on-rails'), ('webview', 'android'), ('reactjs', 'javascript'), ('dictionary', 'python'), ('python-3.x', 'python'), ('ruby-on-rails-4', 'ruby-on-rails'), ('vba', 'excel'), ('vba', 'excel-vba'), ('backbone.js', 'javascript'), ('android-layout', 'android'), ('maven', 'java'), ('android-studio', 'android'), ('mvvm', 'wpf'), ('html5', 'javascript'), ('excel', 'vba'), ('excel', 'excel-vba'), ('jquery-mobile', 'jquery'), ('tomcat', 'java'), ('swift', 'ios'), ('xslt', 'xml'), ('mod-rewrite', 'apache'), ('mod-rewrite', '.htaccess'), ('ruby', 'ruby-on-rails'), ('css3', 'css'), ('css3', 'html'), ('android-fragments', 'android'), ('xaml', 'c#'), ('xaml', 'wpf'), ('express', 'node.js'), ('objective-c', 'ios'), ('core-data', 'ios'), ('wpf', 'c#'), ('entity-framework', 'c#'), ('uitableview', 'ios'), ('spring-mvc', 'spring'), ('spring-mvc', 'java'), ('datagridview', 'c#'), ('gridview', 'asp.net'), ('javascript', 'html'), ('javascript', 'jquery'), ('django-models', 'django'), ('android-activity', 'android'), ('tsql', 'sql'), ('tsql', 'sql-server'), ('github', 'git'), ('tkinter', 'python'), ('asp.net', 'c#'), ('.htaccess', 'apache'), ('.htaccess', 'mod-rewrite'), ('matplotlib', 'python'), ('swing', 'java'), ('curl', 'php'), ('spring', 'java'), ('c++11', 'c++'), ('php', 'mysql'), ('php', 'jquery'), ('laravel', 'php'), ('jquery', 'html'), ('jquery', 'javascript'), ('android-listview', 'android'), ('java', 'spring'), ('android-asynctask', 'android'), ('django', 'python'), ('flask', 'python'), ('mysqli', 'php'), ('sql-server-2008', 'sql'), ('sql-server-2008', 'sql-server'), ('zend-framework', 'php'), ('c#', 'wpf'), ('.net', 'c#'), ('templates', 'c++'), ('sql-server', 'sql'), ('visual-c++', 'c++')]\n"
     ]
    }
   ],
   "source": [
    "print(DG.number_of_edges())\n",
    "print(DG.edges())"
   ]
  },
  {
   "cell_type": "code",
   "execution_count": 64,
   "metadata": {
    "collapsed": false
   },
   "outputs": [],
   "source": [
    "nx.write_gexf(DG, \"stack test.gexf\")"
   ]
  },
  {
   "cell_type": "code",
   "execution_count": 65,
   "metadata": {
    "collapsed": false
   },
   "outputs": [],
   "source": [
    "tagCount = stackQuestionsTags.groupby('QuestionId').QuestTags.size().reset_index()\n",
    "tagCount = tagCount.rename(columns={0:'TagCount'})"
   ]
  },
  {
   "cell_type": "code",
   "execution_count": 66,
   "metadata": {
    "collapsed": false
   },
   "outputs": [],
   "source": [
    "answerCount = stackSampleAnswers.groupby('QuestionId').AnswerId.size().reset_index()"
   ]
  },
  {
   "cell_type": "code",
   "execution_count": 67,
   "metadata": {
    "collapsed": true
   },
   "outputs": [],
   "source": [
    "answerCount = answerCount.rename(columns={0:'AnsCount'})"
   ]
  },
  {
   "cell_type": "code",
   "execution_count": 68,
   "metadata": {
    "collapsed": false
   },
   "outputs": [
    {
     "data": {
      "text/html": [
       "<div>\n",
       "<table border=\"1\" class=\"dataframe\">\n",
       "  <thead>\n",
       "    <tr style=\"text-align: right;\">\n",
       "      <th></th>\n",
       "      <th>QuestionId</th>\n",
       "      <th>AnsCount</th>\n",
       "    </tr>\n",
       "  </thead>\n",
       "  <tbody>\n",
       "    <tr>\n",
       "      <th>2587</th>\n",
       "      <td>203340</td>\n",
       "      <td>11</td>\n",
       "    </tr>\n",
       "  </tbody>\n",
       "</table>\n",
       "</div>"
      ],
      "text/plain": [
       "      QuestionId  AnsCount\n",
       "2587      203340        11"
      ]
     },
     "execution_count": 68,
     "metadata": {},
     "output_type": "execute_result"
    }
   ],
   "source": [
    "#to verify\n",
    "answerCount.loc[answerCount.QuestionId==203340, :]"
   ]
  },
  {
   "cell_type": "code",
   "execution_count": 69,
   "metadata": {
    "collapsed": true
   },
   "outputs": [],
   "source": [
    "answerstags = pd.merge(answerCount, tagCount, on='QuestionId')"
   ]
  },
  {
   "cell_type": "code",
   "execution_count": 70,
   "metadata": {
    "collapsed": false
   },
   "outputs": [
    {
     "data": {
      "text/html": [
       "<div>\n",
       "<table border=\"1\" class=\"dataframe\">\n",
       "  <thead>\n",
       "    <tr style=\"text-align: right;\">\n",
       "      <th></th>\n",
       "      <th>QuestionId</th>\n",
       "      <th>AnsCount</th>\n",
       "      <th>TagCount</th>\n",
       "    </tr>\n",
       "  </thead>\n",
       "  <tbody>\n",
       "    <tr>\n",
       "      <th>0</th>\n",
       "      <td>203340</td>\n",
       "      <td>11</td>\n",
       "      <td>1</td>\n",
       "    </tr>\n",
       "    <tr>\n",
       "      <th>1</th>\n",
       "      <td>203520</td>\n",
       "      <td>2</td>\n",
       "      <td>3</td>\n",
       "    </tr>\n",
       "    <tr>\n",
       "      <th>2</th>\n",
       "      <td>203590</td>\n",
       "      <td>2</td>\n",
       "      <td>2</td>\n",
       "    </tr>\n",
       "    <tr>\n",
       "      <th>3</th>\n",
       "      <td>203620</td>\n",
       "      <td>3</td>\n",
       "      <td>2</td>\n",
       "    </tr>\n",
       "    <tr>\n",
       "      <th>4</th>\n",
       "      <td>203640</td>\n",
       "      <td>1</td>\n",
       "      <td>1</td>\n",
       "    </tr>\n",
       "    <tr>\n",
       "      <th>5</th>\n",
       "      <td>203780</td>\n",
       "      <td>3</td>\n",
       "      <td>2</td>\n",
       "    </tr>\n",
       "    <tr>\n",
       "      <th>6</th>\n",
       "      <td>203800</td>\n",
       "      <td>3</td>\n",
       "      <td>3</td>\n",
       "    </tr>\n",
       "    <tr>\n",
       "      <th>7</th>\n",
       "      <td>203890</td>\n",
       "      <td>3</td>\n",
       "      <td>3</td>\n",
       "    </tr>\n",
       "    <tr>\n",
       "      <th>8</th>\n",
       "      <td>203930</td>\n",
       "      <td>6</td>\n",
       "      <td>2</td>\n",
       "    </tr>\n",
       "    <tr>\n",
       "      <th>9</th>\n",
       "      <td>203990</td>\n",
       "      <td>3</td>\n",
       "      <td>5</td>\n",
       "    </tr>\n",
       "    <tr>\n",
       "      <th>10</th>\n",
       "      <td>204010</td>\n",
       "      <td>5</td>\n",
       "      <td>2</td>\n",
       "    </tr>\n",
       "    <tr>\n",
       "      <th>11</th>\n",
       "      <td>204040</td>\n",
       "      <td>4</td>\n",
       "      <td>4</td>\n",
       "    </tr>\n",
       "  </tbody>\n",
       "</table>\n",
       "</div>"
      ],
      "text/plain": [
       "    QuestionId  AnsCount  TagCount\n",
       "0       203340        11         1\n",
       "1       203520         2         3\n",
       "2       203590         2         2\n",
       "3       203620         3         2\n",
       "4       203640         1         1\n",
       "5       203780         3         2\n",
       "6       203800         3         3\n",
       "7       203890         3         3\n",
       "8       203930         6         2\n",
       "9       203990         3         5\n",
       "10      204010         5         2\n",
       "11      204040         4         4"
      ]
     },
     "execution_count": 70,
     "metadata": {},
     "output_type": "execute_result"
    }
   ],
   "source": [
    "answerstags.head(12)"
   ]
  },
  {
   "cell_type": "markdown",
   "metadata": {},
   "source": [
    "# Graph Plot 4: Number of Answers Received Based on Number of Tags Used in Questions"
   ]
  },
  {
   "cell_type": "code",
   "execution_count": 71,
   "metadata": {
    "collapsed": false
   },
   "outputs": [
    {
     "data": {
      "text/plain": [
       "-0.026073317860373531"
      ]
     },
     "execution_count": 71,
     "metadata": {},
     "output_type": "execute_result"
    }
   ],
   "source": [
    "import numpy\n",
    "numpy.corrcoef(list(answerstags.TagCount), list(answerstags.AnsCount))[0,1]"
   ]
  },
  {
   "cell_type": "code",
   "execution_count": 72,
   "metadata": {
    "collapsed": false
   },
   "outputs": [
    {
     "data": {
      "text/plain": [
       "(0, 10)"
      ]
     },
     "execution_count": 72,
     "metadata": {},
     "output_type": "execute_result"
    },
    {
     "data": {
      "image/png": "[encoded data removed]",
      "text/plain": [
       "<matplotlib.figure.Figure at 0x1284249b0>"
      ]
     },
     "metadata": {},
     "output_type": "display_data"
    }
   ],
   "source": [
    "#scatterplot of AnswerCount against TagCount, one question with 408 answers\n",
    "%matplotlib inline\n",
    "ax3 = sns.boxplot(x=\"TagCount\", y=\"AnsCount\", data=answerstags)\n",
    "plt.ylim(0, 10)"
   ]
  },
  {
   "cell_type": "code",
   "execution_count": 73,
   "metadata": {
    "collapsed": false
   },
   "outputs": [
    {
     "data": {
      "text/plain": [
       "count    137482.000000\n",
       "mean         25.987053\n",
       "std         311.846054\n",
       "min           1.000000\n",
       "25%           1.000000\n",
       "50%           3.000000\n",
       "75%           8.000000\n",
       "max       28233.000000\n",
       "Name: YearTagCount, dtype: float64"
      ]
     },
     "execution_count": 73,
     "metadata": {},
     "output_type": "execute_result"
    }
   ],
   "source": [
    "yearQuestTag.YearTagCount.describe()"
   ]
  },
  {
   "cell_type": "code",
   "execution_count": 74,
   "metadata": {
    "collapsed": false
   },
   "outputs": [],
   "source": [
    "#remove noises by only including tags which were used in questions throughout a year within the 75% range\n",
    "yearQuestTag = yearQuestTag.loc[yearQuestTag.YearTagCount >= 8, :]"
   ]
  },
  {
   "cell_type": "code",
   "execution_count": 75,
   "metadata": {
    "collapsed": true
   },
   "outputs": [],
   "source": [
    "sumQuestTag = pd.DataFrame(yearQuestTag.groupby('QuestCreationYear').YearTagCount.sum()).reset_index()\n",
    "sumQuestTag = sumQuestTag.rename(columns={'YearTagCount':'SumYearTagCount'})"
   ]
  },
  {
   "cell_type": "code",
   "execution_count": 76,
   "metadata": {
    "collapsed": true
   },
   "outputs": [],
   "source": [
    "yearQuestTag = pd.merge(yearQuestTag, sumQuestTag, on='QuestCreationYear')"
   ]
  },
  {
   "cell_type": "code",
   "execution_count": 77,
   "metadata": {
    "collapsed": false
   },
   "outputs": [],
   "source": [
    "yearQuestTag['Proportion'] = yearQuestTag['YearTagCount'] / yearQuestTag['SumYearTagCount']"
   ]
  },
  {
   "cell_type": "code",
   "execution_count": 78,
   "metadata": {
    "collapsed": false
   },
   "outputs": [
    {
     "data": {
      "text/html": [
       "<div>\n",
       "<table border=\"1\" class=\"dataframe\">\n",
       "  <thead>\n",
       "    <tr style=\"text-align: right;\">\n",
       "      <th></th>\n",
       "      <th>QuestCreationYear</th>\n",
       "      <th>QuestTags</th>\n",
       "      <th>YearTagCount</th>\n",
       "      <th>SumYearTagCount</th>\n",
       "      <th>Proportion</th>\n",
       "    </tr>\n",
       "  </thead>\n",
       "  <tbody>\n",
       "    <tr>\n",
       "      <th>0</th>\n",
       "      <td>Oct'08-09</td>\n",
       "      <td>c#</td>\n",
       "      <td>3682</td>\n",
       "      <td>65430</td>\n",
       "      <td>0.056274</td>\n",
       "    </tr>\n",
       "    <tr>\n",
       "      <th>1</th>\n",
       "      <td>Oct'08-09</td>\n",
       "      <td>.net</td>\n",
       "      <td>2014</td>\n",
       "      <td>65430</td>\n",
       "      <td>0.030781</td>\n",
       "    </tr>\n",
       "    <tr>\n",
       "      <th>2</th>\n",
       "      <td>Oct'08-09</td>\n",
       "      <td>java</td>\n",
       "      <td>1846</td>\n",
       "      <td>65430</td>\n",
       "      <td>0.028213</td>\n",
       "    </tr>\n",
       "    <tr>\n",
       "      <th>3</th>\n",
       "      <td>Oct'08-09</td>\n",
       "      <td>asp.net</td>\n",
       "      <td>1710</td>\n",
       "      <td>65430</td>\n",
       "      <td>0.026135</td>\n",
       "    </tr>\n",
       "    <tr>\n",
       "      <th>4</th>\n",
       "      <td>Oct'08-09</td>\n",
       "      <td>php</td>\n",
       "      <td>1468</td>\n",
       "      <td>65430</td>\n",
       "      <td>0.022436</td>\n",
       "    </tr>\n",
       "    <tr>\n",
       "      <th>5</th>\n",
       "      <td>Oct'08-09</td>\n",
       "      <td>javascript</td>\n",
       "      <td>1382</td>\n",
       "      <td>65430</td>\n",
       "      <td>0.021122</td>\n",
       "    </tr>\n",
       "    <tr>\n",
       "      <th>6</th>\n",
       "      <td>Oct'08-09</td>\n",
       "      <td>c++</td>\n",
       "      <td>1285</td>\n",
       "      <td>65430</td>\n",
       "      <td>0.019639</td>\n",
       "    </tr>\n",
       "    <tr>\n",
       "      <th>7</th>\n",
       "      <td>Oct'08-09</td>\n",
       "      <td>python</td>\n",
       "      <td>1023</td>\n",
       "      <td>65430</td>\n",
       "      <td>0.015635</td>\n",
       "    </tr>\n",
       "    <tr>\n",
       "      <th>8</th>\n",
       "      <td>Oct'08-09</td>\n",
       "      <td>ios</td>\n",
       "      <td>988</td>\n",
       "      <td>65430</td>\n",
       "      <td>0.015100</td>\n",
       "    </tr>\n",
       "    <tr>\n",
       "      <th>9</th>\n",
       "      <td>Oct'08-09</td>\n",
       "      <td>jquery</td>\n",
       "      <td>976</td>\n",
       "      <td>65430</td>\n",
       "      <td>0.014917</td>\n",
       "    </tr>\n",
       "    <tr>\n",
       "      <th>10</th>\n",
       "      <td>Oct'08-09</td>\n",
       "      <td>sql</td>\n",
       "      <td>957</td>\n",
       "      <td>65430</td>\n",
       "      <td>0.014626</td>\n",
       "    </tr>\n",
       "    <tr>\n",
       "      <th>11</th>\n",
       "      <td>Oct'08-09</td>\n",
       "      <td>sql-server</td>\n",
       "      <td>781</td>\n",
       "      <td>65430</td>\n",
       "      <td>0.011936</td>\n",
       "    </tr>\n",
       "    <tr>\n",
       "      <th>12</th>\n",
       "      <td>Oct'08-09</td>\n",
       "      <td>html</td>\n",
       "      <td>713</td>\n",
       "      <td>65430</td>\n",
       "      <td>0.010897</td>\n",
       "    </tr>\n",
       "    <tr>\n",
       "      <th>13</th>\n",
       "      <td>Oct'08-09</td>\n",
       "      <td>mysql</td>\n",
       "      <td>664</td>\n",
       "      <td>65430</td>\n",
       "      <td>0.010148</td>\n",
       "    </tr>\n",
       "    <tr>\n",
       "      <th>14</th>\n",
       "      <td>Oct'08-09</td>\n",
       "      <td>asp.net-mvc</td>\n",
       "      <td>609</td>\n",
       "      <td>65430</td>\n",
       "      <td>0.009308</td>\n",
       "    </tr>\n",
       "    <tr>\n",
       "      <th>15</th>\n",
       "      <td>Oct'08-09</td>\n",
       "      <td>wpf</td>\n",
       "      <td>513</td>\n",
       "      <td>65430</td>\n",
       "      <td>0.007840</td>\n",
       "    </tr>\n",
       "    <tr>\n",
       "      <th>16</th>\n",
       "      <td>Oct'08-09</td>\n",
       "      <td>c</td>\n",
       "      <td>505</td>\n",
       "      <td>65430</td>\n",
       "      <td>0.007718</td>\n",
       "    </tr>\n",
       "    <tr>\n",
       "      <th>17</th>\n",
       "      <td>Oct'08-09</td>\n",
       "      <td>css</td>\n",
       "      <td>487</td>\n",
       "      <td>65430</td>\n",
       "      <td>0.007443</td>\n",
       "    </tr>\n",
       "    <tr>\n",
       "      <th>18</th>\n",
       "      <td>Oct'08-09</td>\n",
       "      <td>ruby-on-rails</td>\n",
       "      <td>486</td>\n",
       "      <td>65430</td>\n",
       "      <td>0.007428</td>\n",
       "    </tr>\n",
       "    <tr>\n",
       "      <th>19</th>\n",
       "      <td>Oct'08-09</td>\n",
       "      <td>objective-c</td>\n",
       "      <td>468</td>\n",
       "      <td>65430</td>\n",
       "      <td>0.007153</td>\n",
       "    </tr>\n",
       "    <tr>\n",
       "      <th>20</th>\n",
       "      <td>Oct'08-09</td>\n",
       "      <td>windows</td>\n",
       "      <td>462</td>\n",
       "      <td>65430</td>\n",
       "      <td>0.007061</td>\n",
       "    </tr>\n",
       "    <tr>\n",
       "      <th>21</th>\n",
       "      <td>Oct'08-09</td>\n",
       "      <td>xml</td>\n",
       "      <td>447</td>\n",
       "      <td>65430</td>\n",
       "      <td>0.006832</td>\n",
       "    </tr>\n",
       "    <tr>\n",
       "      <th>22</th>\n",
       "      <td>Oct'08-09</td>\n",
       "      <td>ruby</td>\n",
       "      <td>421</td>\n",
       "      <td>65430</td>\n",
       "      <td>0.006434</td>\n",
       "    </tr>\n",
       "    <tr>\n",
       "      <th>23</th>\n",
       "      <td>Oct'08-09</td>\n",
       "      <td>vb.net</td>\n",
       "      <td>421</td>\n",
       "      <td>65430</td>\n",
       "      <td>0.006434</td>\n",
       "    </tr>\n",
       "    <tr>\n",
       "      <th>24</th>\n",
       "      <td>Oct'08-09</td>\n",
       "      <td>winforms</td>\n",
       "      <td>418</td>\n",
       "      <td>65430</td>\n",
       "      <td>0.006389</td>\n",
       "    </tr>\n",
       "    <tr>\n",
       "      <th>25</th>\n",
       "      <td>Oct'08-09</td>\n",
       "      <td>visual-studio</td>\n",
       "      <td>414</td>\n",
       "      <td>65430</td>\n",
       "      <td>0.006327</td>\n",
       "    </tr>\n",
       "    <tr>\n",
       "      <th>26</th>\n",
       "      <td>Oct'08-09</td>\n",
       "      <td>database</td>\n",
       "      <td>393</td>\n",
       "      <td>65430</td>\n",
       "      <td>0.006006</td>\n",
       "    </tr>\n",
       "    <tr>\n",
       "      <th>27</th>\n",
       "      <td>Oct'08-09</td>\n",
       "      <td>regex</td>\n",
       "      <td>359</td>\n",
       "      <td>65430</td>\n",
       "      <td>0.005487</td>\n",
       "    </tr>\n",
       "    <tr>\n",
       "      <th>28</th>\n",
       "      <td>Oct'08-09</td>\n",
       "      <td>visual-studio-2008</td>\n",
       "      <td>327</td>\n",
       "      <td>65430</td>\n",
       "      <td>0.004998</td>\n",
       "    </tr>\n",
       "    <tr>\n",
       "      <th>29</th>\n",
       "      <td>Oct'08-09</td>\n",
       "      <td>linux</td>\n",
       "      <td>313</td>\n",
       "      <td>65430</td>\n",
       "      <td>0.004784</td>\n",
       "    </tr>\n",
       "    <tr>\n",
       "      <th>...</th>\n",
       "      <td>...</td>\n",
       "      <td>...</td>\n",
       "      <td>...</td>\n",
       "      <td>...</td>\n",
       "      <td>...</td>\n",
       "    </tr>\n",
       "    <tr>\n",
       "      <th>35897</th>\n",
       "      <td>Oct'15-16</td>\n",
       "      <td>virtual-functions</td>\n",
       "      <td>8</td>\n",
       "      <td>689919</td>\n",
       "      <td>0.000012</td>\n",
       "    </tr>\n",
       "    <tr>\n",
       "      <th>35898</th>\n",
       "      <td>Oct'15-16</td>\n",
       "      <td>vk</td>\n",
       "      <td>8</td>\n",
       "      <td>689919</td>\n",
       "      <td>0.000012</td>\n",
       "    </tr>\n",
       "    <tr>\n",
       "      <th>35899</th>\n",
       "      <td>Oct'15-16</td>\n",
       "      <td>voting</td>\n",
       "      <td>8</td>\n",
       "      <td>689919</td>\n",
       "      <td>0.000012</td>\n",
       "    </tr>\n",
       "    <tr>\n",
       "      <th>35900</th>\n",
       "      <td>Oct'15-16</td>\n",
       "      <td>vue-router</td>\n",
       "      <td>8</td>\n",
       "      <td>689919</td>\n",
       "      <td>0.000012</td>\n",
       "    </tr>\n",
       "    <tr>\n",
       "      <th>35901</th>\n",
       "      <td>Oct'15-16</td>\n",
       "      <td>w2ui</td>\n",
       "      <td>8</td>\n",
       "      <td>689919</td>\n",
       "      <td>0.000012</td>\n",
       "    </tr>\n",
       "    <tr>\n",
       "      <th>35902</th>\n",
       "      <td>Oct'15-16</td>\n",
       "      <td>wakanda</td>\n",
       "      <td>8</td>\n",
       "      <td>689919</td>\n",
       "      <td>0.000012</td>\n",
       "    </tr>\n",
       "    <tr>\n",
       "      <th>35903</th>\n",
       "      <td>Oct'15-16</td>\n",
       "      <td>wave</td>\n",
       "      <td>8</td>\n",
       "      <td>689919</td>\n",
       "      <td>0.000012</td>\n",
       "    </tr>\n",
       "    <tr>\n",
       "      <th>35904</th>\n",
       "      <td>Oct'15-16</td>\n",
       "      <td>web-parts</td>\n",
       "      <td>8</td>\n",
       "      <td>689919</td>\n",
       "      <td>0.000012</td>\n",
       "    </tr>\n",
       "    <tr>\n",
       "      <th>35905</th>\n",
       "      <td>Oct'15-16</td>\n",
       "      <td>web-push</td>\n",
       "      <td>8</td>\n",
       "      <td>689919</td>\n",
       "      <td>0.000012</td>\n",
       "    </tr>\n",
       "    <tr>\n",
       "      <th>35906</th>\n",
       "      <td>Oct'15-16</td>\n",
       "      <td>web.py</td>\n",
       "      <td>8</td>\n",
       "      <td>689919</td>\n",
       "      <td>0.000012</td>\n",
       "    </tr>\n",
       "    <tr>\n",
       "      <th>35907</th>\n",
       "      <td>Oct'15-16</td>\n",
       "      <td>where-in</td>\n",
       "      <td>8</td>\n",
       "      <td>689919</td>\n",
       "      <td>0.000012</td>\n",
       "    </tr>\n",
       "    <tr>\n",
       "      <th>35908</th>\n",
       "      <td>Oct'15-16</td>\n",
       "      <td>wifimanager</td>\n",
       "      <td>8</td>\n",
       "      <td>689919</td>\n",
       "      <td>0.000012</td>\n",
       "    </tr>\n",
       "    <tr>\n",
       "      <th>35909</th>\n",
       "      <td>Oct'15-16</td>\n",
       "      <td>win32com</td>\n",
       "      <td>8</td>\n",
       "      <td>689919</td>\n",
       "      <td>0.000012</td>\n",
       "    </tr>\n",
       "    <tr>\n",
       "      <th>35910</th>\n",
       "      <td>Oct'15-16</td>\n",
       "      <td>windows-phone-7</td>\n",
       "      <td>8</td>\n",
       "      <td>689919</td>\n",
       "      <td>0.000012</td>\n",
       "    </tr>\n",
       "    <tr>\n",
       "      <th>35911</th>\n",
       "      <td>Oct'15-16</td>\n",
       "      <td>windows-store</td>\n",
       "      <td>8</td>\n",
       "      <td>689919</td>\n",
       "      <td>0.000012</td>\n",
       "    </tr>\n",
       "    <tr>\n",
       "      <th>35912</th>\n",
       "      <td>Oct'15-16</td>\n",
       "      <td>with-statement</td>\n",
       "      <td>8</td>\n",
       "      <td>689919</td>\n",
       "      <td>0.000012</td>\n",
       "    </tr>\n",
       "    <tr>\n",
       "      <th>35913</th>\n",
       "      <td>Oct'15-16</td>\n",
       "      <td>worker</td>\n",
       "      <td>8</td>\n",
       "      <td>689919</td>\n",
       "      <td>0.000012</td>\n",
       "    </tr>\n",
       "    <tr>\n",
       "      <th>35914</th>\n",
       "      <td>Oct'15-16</td>\n",
       "      <td>wso2-emm</td>\n",
       "      <td>8</td>\n",
       "      <td>689919</td>\n",
       "      <td>0.000012</td>\n",
       "    </tr>\n",
       "    <tr>\n",
       "      <th>35915</th>\n",
       "      <td>Oct'15-16</td>\n",
       "      <td>x3dom</td>\n",
       "      <td>8</td>\n",
       "      <td>689919</td>\n",
       "      <td>0.000012</td>\n",
       "    </tr>\n",
       "    <tr>\n",
       "      <th>35916</th>\n",
       "      <td>Oct'15-16</td>\n",
       "      <td>x509certificate2</td>\n",
       "      <td>8</td>\n",
       "      <td>689919</td>\n",
       "      <td>0.000012</td>\n",
       "    </tr>\n",
       "    <tr>\n",
       "      <th>35917</th>\n",
       "      <td>Oct'15-16</td>\n",
       "      <td>xen</td>\n",
       "      <td>8</td>\n",
       "      <td>689919</td>\n",
       "      <td>0.000012</td>\n",
       "    </tr>\n",
       "    <tr>\n",
       "      <th>35918</th>\n",
       "      <td>Oct'15-16</td>\n",
       "      <td>xvfb</td>\n",
       "      <td>8</td>\n",
       "      <td>689919</td>\n",
       "      <td>0.000012</td>\n",
       "    </tr>\n",
       "    <tr>\n",
       "      <th>35919</th>\n",
       "      <td>Oct'15-16</td>\n",
       "      <td>yahoo-api</td>\n",
       "      <td>8</td>\n",
       "      <td>689919</td>\n",
       "      <td>0.000012</td>\n",
       "    </tr>\n",
       "    <tr>\n",
       "      <th>35920</th>\n",
       "      <td>Oct'15-16</td>\n",
       "      <td>yelp</td>\n",
       "      <td>8</td>\n",
       "      <td>689919</td>\n",
       "      <td>0.000012</td>\n",
       "    </tr>\n",
       "    <tr>\n",
       "      <th>35921</th>\n",
       "      <td>Oct'15-16</td>\n",
       "      <td>yosemite</td>\n",
       "      <td>8</td>\n",
       "      <td>689919</td>\n",
       "      <td>0.000012</td>\n",
       "    </tr>\n",
       "    <tr>\n",
       "      <th>35922</th>\n",
       "      <td>Oct'15-16</td>\n",
       "      <td>youtube-api-v3</td>\n",
       "      <td>8</td>\n",
       "      <td>689919</td>\n",
       "      <td>0.000012</td>\n",
       "    </tr>\n",
       "    <tr>\n",
       "      <th>35923</th>\n",
       "      <td>Oct'15-16</td>\n",
       "      <td>youtube-dl</td>\n",
       "      <td>8</td>\n",
       "      <td>689919</td>\n",
       "      <td>0.000012</td>\n",
       "    </tr>\n",
       "    <tr>\n",
       "      <th>35924</th>\n",
       "      <td>Oct'15-16</td>\n",
       "      <td>zendesk</td>\n",
       "      <td>8</td>\n",
       "      <td>689919</td>\n",
       "      <td>0.000012</td>\n",
       "    </tr>\n",
       "    <tr>\n",
       "      <th>35925</th>\n",
       "      <td>Oct'15-16</td>\n",
       "      <td>ziparchive</td>\n",
       "      <td>8</td>\n",
       "      <td>689919</td>\n",
       "      <td>0.000012</td>\n",
       "    </tr>\n",
       "    <tr>\n",
       "      <th>35926</th>\n",
       "      <td>Oct'15-16</td>\n",
       "      <td>zoho</td>\n",
       "      <td>8</td>\n",
       "      <td>689919</td>\n",
       "      <td>0.000012</td>\n",
       "    </tr>\n",
       "  </tbody>\n",
       "</table>\n",
       "<p>35927 rows × 5 columns</p>\n",
       "</div>"
      ],
      "text/plain": [
       "      QuestCreationYear           QuestTags  YearTagCount  SumYearTagCount  \\\n",
       "0             Oct'08-09                  c#          3682            65430   \n",
       "1             Oct'08-09                .net          2014            65430   \n",
       "2             Oct'08-09                java          1846            65430   \n",
       "3             Oct'08-09             asp.net          1710            65430   \n",
       "4             Oct'08-09                 php          1468            65430   \n",
       "5             Oct'08-09          javascript          1382            65430   \n",
       "6             Oct'08-09                 c++          1285            65430   \n",
       "7             Oct'08-09              python          1023            65430   \n",
       "8             Oct'08-09                 ios           988            65430   \n",
       "9             Oct'08-09              jquery           976            65430   \n",
       "10            Oct'08-09                 sql           957            65430   \n",
       "11            Oct'08-09          sql-server           781            65430   \n",
       "12            Oct'08-09                html           713            65430   \n",
       "13            Oct'08-09               mysql           664            65430   \n",
       "14            Oct'08-09         asp.net-mvc           609            65430   \n",
       "15            Oct'08-09                 wpf           513            65430   \n",
       "16            Oct'08-09                   c           505            65430   \n",
       "17            Oct'08-09                 css           487            65430   \n",
       "18            Oct'08-09       ruby-on-rails           486            65430   \n",
       "19            Oct'08-09         objective-c           468            65430   \n",
       "20            Oct'08-09             windows           462            65430   \n",
       "21            Oct'08-09                 xml           447            65430   \n",
       "22            Oct'08-09                ruby           421            65430   \n",
       "23            Oct'08-09              vb.net           421            65430   \n",
       "24            Oct'08-09            winforms           418            65430   \n",
       "25            Oct'08-09       visual-studio           414            65430   \n",
       "26            Oct'08-09            database           393            65430   \n",
       "27            Oct'08-09               regex           359            65430   \n",
       "28            Oct'08-09  visual-studio-2008           327            65430   \n",
       "29            Oct'08-09               linux           313            65430   \n",
       "...                 ...                 ...           ...              ...   \n",
       "35897         Oct'15-16   virtual-functions             8           689919   \n",
       "35898         Oct'15-16                  vk             8           689919   \n",
       "35899         Oct'15-16              voting             8           689919   \n",
       "35900         Oct'15-16          vue-router             8           689919   \n",
       "35901         Oct'15-16                w2ui             8           689919   \n",
       "35902         Oct'15-16             wakanda             8           689919   \n",
       "35903         Oct'15-16                wave             8           689919   \n",
       "35904         Oct'15-16           web-parts             8           689919   \n",
       "35905         Oct'15-16            web-push             8           689919   \n",
       "35906         Oct'15-16              web.py             8           689919   \n",
       "35907         Oct'15-16            where-in             8           689919   \n",
       "35908         Oct'15-16         wifimanager             8           689919   \n",
       "35909         Oct'15-16            win32com             8           689919   \n",
       "35910         Oct'15-16     windows-phone-7             8           689919   \n",
       "35911         Oct'15-16       windows-store             8           689919   \n",
       "35912         Oct'15-16      with-statement             8           689919   \n",
       "35913         Oct'15-16              worker             8           689919   \n",
       "35914         Oct'15-16            wso2-emm             8           689919   \n",
       "35915         Oct'15-16               x3dom             8           689919   \n",
       "35916         Oct'15-16    x509certificate2             8           689919   \n",
       "35917         Oct'15-16                 xen             8           689919   \n",
       "35918         Oct'15-16                xvfb             8           689919   \n",
       "35919         Oct'15-16           yahoo-api             8           689919   \n",
       "35920         Oct'15-16                yelp             8           689919   \n",
       "35921         Oct'15-16            yosemite             8           689919   \n",
       "35922         Oct'15-16      youtube-api-v3             8           689919   \n",
       "35923         Oct'15-16          youtube-dl             8           689919   \n",
       "35924         Oct'15-16             zendesk             8           689919   \n",
       "35925         Oct'15-16          ziparchive             8           689919   \n",
       "35926         Oct'15-16                zoho             8           689919   \n",
       "\n",
       "       Proportion  \n",
       "0        0.056274  \n",
       "1        0.030781  \n",
       "2        0.028213  \n",
       "3        0.026135  \n",
       "4        0.022436  \n",
       "5        0.021122  \n",
       "6        0.019639  \n",
       "7        0.015635  \n",
       "8        0.015100  \n",
       "9        0.014917  \n",
       "10       0.014626  \n",
       "11       0.011936  \n",
       "12       0.010897  \n",
       "13       0.010148  \n",
       "14       0.009308  \n",
       "15       0.007840  \n",
       "16       0.007718  \n",
       "17       0.007443  \n",
       "18       0.007428  \n",
       "19       0.007153  \n",
       "20       0.007061  \n",
       "21       0.006832  \n",
       "22       0.006434  \n",
       "23       0.006434  \n",
       "24       0.006389  \n",
       "25       0.006327  \n",
       "26       0.006006  \n",
       "27       0.005487  \n",
       "28       0.004998  \n",
       "29       0.004784  \n",
       "...           ...  \n",
       "35897    0.000012  \n",
       "35898    0.000012  \n",
       "35899    0.000012  \n",
       "35900    0.000012  \n",
       "35901    0.000012  \n",
       "35902    0.000012  \n",
       "35903    0.000012  \n",
       "35904    0.000012  \n",
       "35905    0.000012  \n",
       "35906    0.000012  \n",
       "35907    0.000012  \n",
       "35908    0.000012  \n",
       "35909    0.000012  \n",
       "35910    0.000012  \n",
       "35911    0.000012  \n",
       "35912    0.000012  \n",
       "35913    0.000012  \n",
       "35914    0.000012  \n",
       "35915    0.000012  \n",
       "35916    0.000012  \n",
       "35917    0.000012  \n",
       "35918    0.000012  \n",
       "35919    0.000012  \n",
       "35920    0.000012  \n",
       "35921    0.000012  \n",
       "35922    0.000012  \n",
       "35923    0.000012  \n",
       "35924    0.000012  \n",
       "35925    0.000012  \n",
       "35926    0.000012  \n",
       "\n",
       "[35927 rows x 5 columns]"
      ]
     },
     "execution_count": 78,
     "metadata": {},
     "output_type": "execute_result"
    }
   ],
   "source": [
    "yearQuestTag"
   ]
  },
  {
   "cell_type": "code",
   "execution_count": 79,
   "metadata": {
    "collapsed": false
   },
   "outputs": [
    {
     "data": {
      "text/html": [
       "\n",
       "    <div class=\"bk-root\">\n",
       "        <a href=\"http://bokeh.pydata.org\" target=\"_blank\" class=\"bk-logo bk-logo-small bk-logo-notebook\"></a>\n",
       "        <span id=\"f899a759-4475-4320-8959-43ff762d8e39\">Loading BokehJS ...</span>\n",
       "    </div>"
      ]
     },
     "metadata": {},
     "output_type": "display_data"
    },
    {
     "data": {
      "application/javascript": [
       "\n",
       "(function(global) {\n",
       "  function now() {\n",
       "    return new Date();\n",
       "  }\n",
       "\n",
       "  var force = \"1\";\n",
       "\n",
       "  if (typeof (window._bokeh_onload_callbacks) === \"undefined\" || force !== \"\") {\n",
       "    window._bokeh_onload_callbacks = [];\n",
       "    window._bokeh_is_loading = undefined;\n",
       "  }\n",
       "\n",
       "\n",
       "  \n",
       "  if (typeof (window._bokeh_timeout) === \"undefined\" || force !== \"\") {\n",
       "    window._bokeh_timeout = Date.now() + 5000;\n",
       "    window._bokeh_failed_load = false;\n",
       "  }\n",
       "\n",
       "  var NB_LOAD_WARNING = {'data': {'text/html':\n",
       "     \"<div style='background-color: #fdd'>\\n\"+\n",
       "     \"<p>\\n\"+\n",
       "     \"BokehJS does not appear to have successfully loaded. If loading BokehJS from CDN, this \\n\"+\n",
       "     \"may be due to a slow or bad network connection. Possible fixes:\\n\"+\n",
       "     \"</p>\\n\"+\n",
       "     \"<ul>\\n\"+\n",
       "     \"<li>re-rerun `output_notebook()` to attempt to load from CDN again, or</li>\\n\"+\n",
       "     \"<li>use INLINE resources instead, as so:</li>\\n\"+\n",
       "     \"</ul>\\n\"+\n",
       "     \"<code>\\n\"+\n",
       "     \"from bokeh.resources import INLINE\\n\"+\n",
       "     \"output_notebook(resources=INLINE)\\n\"+\n",
       "     \"</code>\\n\"+\n",
       "     \"</div>\"}};\n",
       "\n",
       "  function display_loaded() {\n",
       "    if (window.Bokeh !== undefined) {\n",
       "      Bokeh.$(\"#f899a759-4475-4320-8959-43ff762d8e39\").text(\"BokehJS successfully loaded.\");\n",
       "    } else if (Date.now() < window._bokeh_timeout) {\n",
       "      setTimeout(display_loaded, 100)\n",
       "    }\n",
       "  }\n",
       "\n",
       "  function run_callbacks() {\n",
       "    window._bokeh_onload_callbacks.forEach(function(callback) { callback() });\n",
       "    delete window._bokeh_onload_callbacks\n",
       "    console.info(\"Bokeh: all callbacks have finished\");\n",
       "  }\n",
       "\n",
       "  function load_libs(js_urls, callback) {\n",
       "    window._bokeh_onload_callbacks.push(callback);\n",
       "    if (window._bokeh_is_loading > 0) {\n",
       "      console.log(\"Bokeh: BokehJS is being loaded, scheduling callback at\", now());\n",
       "      return null;\n",
       "    }\n",
       "    if (js_urls == null || js_urls.length === 0) {\n",
       "      run_callbacks();\n",
       "      return null;\n",
       "    }\n",
       "    console.log(\"Bokeh: BokehJS not loaded, scheduling load and callback at\", now());\n",
       "    window._bokeh_is_loading = js_urls.length;\n",
       "    for (var i = 0; i < js_urls.length; i++) {\n",
       "      var url = js_urls[i];\n",
       "      var s = document.createElement('script');\n",
       "      s.src = url;\n",
       "      s.async = false;\n",
       "      s.onreadystatechange = s.onload = function() {\n",
       "        window._bokeh_is_loading--;\n",
       "        if (window._bokeh_is_loading === 0) {\n",
       "          console.log(\"Bokeh: all BokehJS libraries loaded\");\n",
       "          run_callbacks()\n",
       "        }\n",
       "      };\n",
       "      s.onerror = function() {\n",
       "        console.warn(\"failed to load library \" + url);\n",
       "      };\n",
       "      console.log(\"Bokeh: injecting script tag for BokehJS library: \", url);\n",
       "      document.getElementsByTagName(\"head\")[0].appendChild(s);\n",
       "    }\n",
       "  };var element = document.getElementById(\"f899a759-4475-4320-8959-43ff762d8e39\");\n",
       "  if (element == null) {\n",
       "    console.log(\"Bokeh: ERROR: autoload.js configured with elementid 'f899a759-4475-4320-8959-43ff762d8e39' but no matching script tag was found. \")\n",
       "    return false;\n",
       "  }\n",
       "\n",
       "  var js_urls = ['https://cdn.pydata.org/bokeh/release/bokeh-0.12.2.min.js', 'https://cdn.pydata.org/bokeh/release/bokeh-widgets-0.12.2.min.js', 'https://cdn.pydata.org/bokeh/release/bokeh-compiler-0.12.2.min.js'];\n",
       "\n",
       "  var inline_js = [\n",
       "    function(Bokeh) {\n",
       "      Bokeh.set_log_level(\"info\");\n",
       "    },\n",
       "    \n",
       "    function(Bokeh) {\n",
       "      \n",
       "      Bokeh.$(\"#f899a759-4475-4320-8959-43ff762d8e39\").text(\"BokehJS is loading...\");\n",
       "    },\n",
       "    function(Bokeh) {\n",
       "      console.log(\"Bokeh: injecting CSS: https://cdn.pydata.org/bokeh/release/bokeh-0.12.2.min.css\");\n",
       "      Bokeh.embed.inject_css(\"https://cdn.pydata.org/bokeh/release/bokeh-0.12.2.min.css\");\n",
       "      console.log(\"Bokeh: injecting CSS: https://cdn.pydata.org/bokeh/release/bokeh-widgets-0.12.2.min.css\");\n",
       "      Bokeh.embed.inject_css(\"https://cdn.pydata.org/bokeh/release/bokeh-widgets-0.12.2.min.css\");\n",
       "    }\n",
       "  ];\n",
       "\n",
       "  function run_inline_js() {\n",
       "    \n",
       "    if ((window.Bokeh !== undefined) || (force === \"1\")) {\n",
       "      for (var i = 0; i < inline_js.length; i++) {\n",
       "        inline_js[i](window.Bokeh);\n",
       "      }if (force === \"1\") {\n",
       "        display_loaded();\n",
       "      }} else if (Date.now() < window._bokeh_timeout) {\n",
       "      setTimeout(run_inline_js, 100);\n",
       "    } else if (!window._bokeh_failed_load) {\n",
       "      console.log(\"Bokeh: BokehJS failed to load within specified timeout.\");\n",
       "      window._bokeh_failed_load = true;\n",
       "    } else if (!force) {\n",
       "      var cell = $(\"#f899a759-4475-4320-8959-43ff762d8e39\").parents('.cell').data().cell;\n",
       "      cell.output_area.append_execute_result(NB_LOAD_WARNING)\n",
       "    }\n",
       "\n",
       "  }\n",
       "\n",
       "  if (window._bokeh_is_loading === 0) {\n",
       "    console.log(\"Bokeh: BokehJS loaded, going straight to plotting\");\n",
       "    run_inline_js();\n",
       "  } else {\n",
       "    load_libs(js_urls, function() {\n",
       "      console.log(\"Bokeh: BokehJS plotting callback run at\", now());\n",
       "      run_inline_js();\n",
       "    });\n",
       "  }\n",
       "}(this));"
      ]
     },
     "metadata": {},
     "output_type": "display_data"
    }
   ],
   "source": [
    "%matplotlib inline\n",
    "from bokeh.charts import Bar, show, output_notebook\n",
    "from bokeh.models import HoverTool\n",
    "output_notebook()\n",
    "\n",
    "def plot_percentage_change(df, creationyear1, creationyear2):\n",
    "    newdf = df[(df.QuestCreationYear == creationyear1) | (df.QuestCreationYear == creationyear2)]\n",
    "    newdf = newdf.copy()\n",
    "    newdf['pct_ch'] = newdf.sort_values(['QuestTags','QuestCreationYear']).Proportion.pct_change()\n",
    "    newdf = newdf.sort_values(['QuestTags','QuestCreationYear']).groupby('QuestTags').nth(1).reset_index()\n",
    "    bar = Bar(newdf.sort_values('pct_ch',ascending=False).head(30), values='pct_ch', label='QuestTags', \n",
    "              title=\"Percentage Increase of Tags Used from \" + creationyear1 + \" to \" + creationyear2, legend=False, \n",
    "                  bar_width=1.0)\n",
    "    bar.xaxis.axis_label = 'Question Tags'\n",
    "    bar.yaxis.axis_label = 'Percentage Increase (%)'\n",
    "    show(bar)"
   ]
  },
  {
   "cell_type": "markdown",
   "metadata": {},
   "source": [
    "# Graph Plot 5: Percentage Increase of Tags Used Based on Year"
   ]
  },
  {
   "cell_type": "code",
   "execution_count": 80,
   "metadata": {
    "collapsed": false
   },
   "outputs": [
    {
     "data": {
      "text/html": [
       "\n",
       "\n",
       "    <div class=\"bk-root\">\n",
       "        <div class=\"plotdiv\" id=\"b2a64c38-ca73-4eb2-815e-e3a10bf956f5\"></div>\n",
       "    </div>\n",
       "<script type=\"text/javascript\">\n",
       "  \n",
       "  (function(global) {\n",
       "    function now() {\n",
       "      return new Date();\n",
       "    }\n",
       "  \n",
       "    var force = \"\";\n",
       "  \n",
       "    if (typeof (window._bokeh_onload_callbacks) === \"undefined\" || force !== \"\") {\n",
       "      window._bokeh_onload_callbacks = [];\n",
       "      window._bokeh_is_loading = undefined;\n",
       "    }\n",
       "  \n",
       "  \n",
       "    \n",
       "    if (typeof (window._bokeh_timeout) === \"undefined\" || force !== \"\") {\n",
       "      window._bokeh_timeout = Date.now() + 0;\n",
       "      window._bokeh_failed_load = false;\n",
       "    }\n",
       "  \n",
       "    var NB_LOAD_WARNING = {'data': {'text/html':\n",
       "       \"<div style='background-color: #fdd'>\\n\"+\n",
       "       \"<p>\\n\"+\n",
       "       \"BokehJS does not appear to have successfully loaded. If loading BokehJS from CDN, this \\n\"+\n",
       "       \"may be due to a slow or bad network connection. Possible fixes:\\n\"+\n",
       "       \"</p>\\n\"+\n",
       "       \"<ul>\\n\"+\n",
       "       \"<li>re-rerun `output_notebook()` to attempt to load from CDN again, or</li>\\n\"+\n",
       "       \"<li>use INLINE resources instead, as so:</li>\\n\"+\n",
       "       \"</ul>\\n\"+\n",
       "       \"<code>\\n\"+\n",
       "       \"from bokeh.resources import INLINE\\n\"+\n",
       "       \"output_notebook(resources=INLINE)\\n\"+\n",
       "       \"</code>\\n\"+\n",
       "       \"</div>\"}};\n",
       "  \n",
       "    function display_loaded() {\n",
       "      if (window.Bokeh !== undefined) {\n",
       "        Bokeh.$(\"#b2a64c38-ca73-4eb2-815e-e3a10bf956f5\").text(\"BokehJS successfully loaded.\");\n",
       "      } else if (Date.now() < window._bokeh_timeout) {\n",
       "        setTimeout(display_loaded, 100)\n",
       "      }\n",
       "    }\n",
       "  \n",
       "    function run_callbacks() {\n",
       "      window._bokeh_onload_callbacks.forEach(function(callback) { callback() });\n",
       "      delete window._bokeh_onload_callbacks\n",
       "      console.info(\"Bokeh: all callbacks have finished\");\n",
       "    }\n",
       "  \n",
       "    function load_libs(js_urls, callback) {\n",
       "      window._bokeh_onload_callbacks.push(callback);\n",
       "      if (window._bokeh_is_loading > 0) {\n",
       "        console.log(\"Bokeh: BokehJS is being loaded, scheduling callback at\", now());\n",
       "        return null;\n",
       "      }\n",
       "      if (js_urls == null || js_urls.length === 0) {\n",
       "        run_callbacks();\n",
       "        return null;\n",
       "      }\n",
       "      console.log(\"Bokeh: BokehJS not loaded, scheduling load and callback at\", now());\n",
       "      window._bokeh_is_loading = js_urls.length;\n",
       "      for (var i = 0; i < js_urls.length; i++) {\n",
       "        var url = js_urls[i];\n",
       "        var s = document.createElement('script');\n",
       "        s.src = url;\n",
       "        s.async = false;\n",
       "        s.onreadystatechange = s.onload = function() {\n",
       "          window._bokeh_is_loading--;\n",
       "          if (window._bokeh_is_loading === 0) {\n",
       "            console.log(\"Bokeh: all BokehJS libraries loaded\");\n",
       "            run_callbacks()\n",
       "          }\n",
       "        };\n",
       "        s.onerror = function() {\n",
       "          console.warn(\"failed to load library \" + url);\n",
       "        };\n",
       "        console.log(\"Bokeh: injecting script tag for BokehJS library: \", url);\n",
       "        document.getElementsByTagName(\"head\")[0].appendChild(s);\n",
       "      }\n",
       "    };var element = document.getElementById(\"b2a64c38-ca73-4eb2-815e-e3a10bf956f5\");\n",
       "    if (element == null) {\n",
       "      console.log(\"Bokeh: ERROR: autoload.js configured with elementid 'b2a64c38-ca73-4eb2-815e-e3a10bf956f5' but no matching script tag was found. \")\n",
       "      return false;\n",
       "    }\n",
       "  \n",
       "    var js_urls = [];\n",
       "  \n",
       "    var inline_js = [\n",
       "      function(Bokeh) {\n",
       "        Bokeh.$(function() {\n",
       "            var docs_json = {\"49303e44-d115-4b2d-819f-0b7deaed07fe\":{\"roots\":{\"references\":[{\"attributes\":{\"fill_alpha\":{\"field\":\"fill_alpha\"},\"fill_color\":{\"field\":\"color\"},\"height\":{\"field\":\"height\",\"units\":\"data\"},\"line_color\":{\"field\":\"line_color\"},\"width\":{\"field\":\"width\",\"units\":\"data\"},\"x\":{\"field\":\"x\"},\"y\":{\"field\":\"y\"}},\"id\":\"576e177e-718f-4db0-8ac9-d630b4a6412d\",\"type\":\"Rect\"},{\"attributes\":{\"callback\":null,\"column_names\":[\"line_color\",\"height\",\"x\",\"fill_alpha\",\"width\",\"label\",\"line_alpha\",\"color\",\"y\"],\"data\":{\"QuestTags\":[\"selenium\"],\"chart_index\":[{\"QuestTags\":\"selenium\"}],\"color\":[\"#f22c40\"],\"fill_alpha\":[0.8],\"height\":[4.470610165449628],\"label\":[{\"QuestTags\":\"selenium\"}],\"line_alpha\":[1.0],\"line_color\":[\"white\"],\"width\":[1.0],\"x\":[\"selenium\"],\"y\":[2.235305082724814]}},\"id\":\"32b10739-2aee-46ea-a06d-75c66a49ab36\",\"type\":\"ColumnDataSource\"},{\"attributes\":{\"data_source\":{\"id\":\"43689dbb-02a3-4753-a3d0-7d2bc44ad073\",\"type\":\"ColumnDataSource\"},\"glyph\":{\"id\":\"070fb46f-6a06-487a-baaf-99a45a011fd3\",\"type\":\"Rect\"},\"hover_glyph\":null,\"nonselection_glyph\":null,\"selection_glyph\":null},\"id\":\"0f624167-51b6-4a9d-9d27-7d848f68c71f\",\"type\":\"GlyphRenderer\"},{\"attributes\":{\"data_source\":{\"id\":\"daf755a9-b37f-4e27-bcc3-34d18bcf4bd2\",\"type\":\"ColumnDataSource\"},\"glyph\":{\"id\":\"5c32e64d-46ae-4a1e-9c03-659a77731453\",\"type\":\"Rect\"},\"hover_glyph\":null,\"nonselection_glyph\":null,\"selection_glyph\":null},\"id\":\"55bb5c9c-5762-4dcb-a7bf-223543255ec6\",\"type\":\"GlyphRenderer\"},{\"attributes\":{\"fill_alpha\":{\"field\":\"fill_alpha\"},\"fill_color\":{\"field\":\"color\"},\"height\":{\"field\":\"height\",\"units\":\"data\"},\"line_color\":{\"field\":\"line_color\"},\"width\":{\"field\":\"width\",\"units\":\"data\"},\"x\":{\"field\":\"x\"},\"y\":{\"field\":\"y\"}},\"id\":\"c03033c4-cb3c-479e-b73f-d3c119e0ec90\",\"type\":\"Rect\"},{\"attributes\":{\"callback\":null,\"column_names\":[\"line_color\",\"height\",\"x\",\"fill_alpha\",\"width\",\"label\",\"line_alpha\",\"color\",\"y\"],\"data\":{\"QuestTags\":[\"svg\"],\"chart_index\":[{\"QuestTags\":\"svg\"}],\"color\":[\"#f22c40\"],\"fill_alpha\":[0.8],\"height\":[3.346705917651202],\"label\":[{\"QuestTags\":\"svg\"}],\"line_alpha\":[1.0],\"line_color\":[\"white\"],\"width\":[1.0],\"x\":[\"svg\"],\"y\":[1.673352958825601]}},\"id\":\"bb13b450-63e5-4428-bcb2-1b21c556582a\",\"type\":\"ColumnDataSource\"},{\"attributes\":{},\"id\":\"5a2ef0d9-84c0-4d2a-80d6-4f809823a6bd\",\"type\":\"BasicTicker\"},{\"attributes\":{\"fill_alpha\":{\"field\":\"fill_alpha\"},\"fill_color\":{\"field\":\"color\"},\"height\":{\"field\":\"height\",\"units\":\"data\"},\"line_color\":{\"field\":\"line_color\"},\"width\":{\"field\":\"width\",\"units\":\"data\"},\"x\":{\"field\":\"x\"},\"y\":{\"field\":\"y\"}},\"id\":\"883cf093-dd3c-4c35-82b7-2a4d9396a311\",\"type\":\"Rect\"},{\"attributes\":{},\"id\":\"85489f3c-6a86-4bfa-8836-2f768b0989df\",\"type\":\"BasicTickFormatter\"},{\"attributes\":{\"data_source\":{\"id\":\"f4d03288-1a2d-4633-9acf-67cc4c054b3d\",\"type\":\"ColumnDataSource\"},\"glyph\":{\"id\":\"bf7cfc51-2161-43a1-8ea7-79445c06937a\",\"type\":\"Rect\"},\"hover_glyph\":null,\"nonselection_glyph\":null,\"selection_glyph\":null},\"id\":\"3f8e4e79-d180-4ae3-99c7-b028636bb485\",\"type\":\"GlyphRenderer\"},{\"attributes\":{\"fill_alpha\":{\"field\":\"fill_alpha\"},\"fill_color\":{\"field\":\"color\"},\"height\":{\"field\":\"height\",\"units\":\"data\"},\"line_color\":{\"field\":\"line_color\"},\"width\":{\"field\":\"width\",\"units\":\"data\"},\"x\":{\"field\":\"x\"},\"y\":{\"field\":\"y\"}},\"id\":\"db3c528f-460a-4a6f-9494-e52232cb6510\",\"type\":\"Rect\"},{\"attributes\":{\"data_source\":{\"id\":\"aa0999fb-e53e-4dcf-b30c-ea43bf778c26\",\"type\":\"ColumnDataSource\"},\"glyph\":{\"id\":\"f3699080-33cc-48af-bb85-1b68092c63b0\",\"type\":\"Rect\"},\"hover_glyph\":null,\"nonselection_glyph\":null,\"selection_glyph\":null},\"id\":\"d65b6cef-e3c4-4434-84ee-ed7388e2262d\",\"type\":\"GlyphRenderer\"},{\"attributes\":{\"plot\":null,\"text\":\"Percentage Increase of Tags Used from Oct'08-09 to Oct'15-16\"},\"id\":\"f389cdd2-4616-4266-982b-b3afe664e4eb\",\"type\":\"Title\"},{\"attributes\":{\"data_source\":{\"id\":\"cf824a68-c4ae-445c-8c29-65bd0f198f52\",\"type\":\"ColumnDataSource\"},\"glyph\":{\"id\":\"4dc783a0-7f7b-4fc3-a426-e61036693294\",\"type\":\"Rect\"},\"hover_glyph\":null,\"nonselection_glyph\":null,\"selection_glyph\":null},\"id\":\"2286228a-ccd6-49ff-89b5-bf73f02f4a39\",\"type\":\"GlyphRenderer\"},{\"attributes\":{\"callback\":null,\"column_names\":[\"line_color\",\"height\",\"x\",\"fill_alpha\",\"width\",\"label\",\"line_alpha\",\"color\",\"y\"],\"data\":{\"QuestTags\":[\"nginx\"],\"chart_index\":[{\"QuestTags\":\"nginx\"}],\"color\":[\"#f22c40\"],\"fill_alpha\":[0.8],\"height\":[4.819556683136321],\"label\":[{\"QuestTags\":\"nginx\"}],\"line_alpha\":[1.0],\"line_color\":[\"white\"],\"width\":[1.0],\"x\":[\"nginx\"],\"y\":[2.4097783415681606]}},\"id\":\"6fdd9966-dde0-4b5c-b3e5-5a95ec7dc8c1\",\"type\":\"ColumnDataSource\"},{\"attributes\":{\"fill_alpha\":{\"field\":\"fill_alpha\"},\"fill_color\":{\"field\":\"color\"},\"height\":{\"field\":\"height\",\"units\":\"data\"},\"line_color\":{\"field\":\"line_color\"},\"width\":{\"field\":\"width\",\"units\":\"data\"},\"x\":{\"field\":\"x\"},\"y\":{\"field\":\"y\"}},\"id\":\"bc43be48-8bfa-4e83-aaa8-648ca2077c48\",\"type\":\"Rect\"},{\"attributes\":{\"callback\":null,\"column_names\":[\"line_color\",\"height\",\"x\",\"fill_alpha\",\"width\",\"label\",\"line_alpha\",\"color\",\"y\"],\"data\":{\"QuestTags\":[\"tkinter\"],\"chart_index\":[{\"QuestTags\":\"tkinter\"}],\"color\":[\"#f22c40\"],\"fill_alpha\":[0.8],\"height\":[2.995017893404878],\"label\":[{\"QuestTags\":\"tkinter\"}],\"line_alpha\":[1.0],\"line_color\":[\"white\"],\"width\":[1.0],\"x\":[\"tkinter\"],\"y\":[1.497508946702439]}},\"id\":\"aa0999fb-e53e-4dcf-b30c-ea43bf778c26\",\"type\":\"ColumnDataSource\"},{\"attributes\":{},\"id\":\"8b8deaaa-4eab-4e65-aa9b-95d33dfbcd66\",\"type\":\"CategoricalTickFormatter\"},{\"attributes\":{\"data_source\":{\"id\":\"b268f6d2-096e-459e-9466-0124b3640c04\",\"type\":\"ColumnDataSource\"},\"glyph\":{\"id\":\"bc43be48-8bfa-4e83-aaa8-648ca2077c48\",\"type\":\"Rect\"},\"hover_glyph\":null,\"nonselection_glyph\":null,\"selection_glyph\":null},\"id\":\"7bf1184a-f335-4321-922b-313eed11b6f6\",\"type\":\"GlyphRenderer\"},{\"attributes\":{\"data_source\":{\"id\":\"53bcc4cc-d1f6-40b0-bba2-fa516ef3f2bb\",\"type\":\"ColumnDataSource\"},\"glyph\":{\"id\":\"746d1039-1cda-4dc0-8953-7bb00c295a1b\",\"type\":\"Rect\"},\"hover_glyph\":null,\"nonselection_glyph\":null,\"selection_glyph\":null},\"id\":\"e9e03709-8e28-4f2e-8cf4-38df565912d2\",\"type\":\"GlyphRenderer\"},{\"attributes\":{\"data_source\":{\"id\":\"3529cea9-6852-4361-936b-c67ea1b806c5\",\"type\":\"ColumnDataSource\"},\"glyph\":{\"id\":\"3d789197-ef1d-4500-869d-23bba4d4bb5d\",\"type\":\"Rect\"},\"hover_glyph\":null,\"nonselection_glyph\":null,\"selection_glyph\":null},\"id\":\"7b7665ca-e916-4476-b9de-5d5a892f6b91\",\"type\":\"GlyphRenderer\"},{\"attributes\":{\"callback\":null,\"column_names\":[\"line_color\",\"height\",\"x\",\"fill_alpha\",\"width\",\"label\",\"line_alpha\",\"color\",\"y\"],\"data\":{\"QuestTags\":[\"c++11\"],\"chart_index\":[{\"QuestTags\":\"c++11\"}],\"color\":[\"#f22c40\"],\"fill_alpha\":[0.8],\"height\":[6.10330777960891],\"label\":[{\"QuestTags\":\"c++11\"}],\"line_alpha\":[1.0],\"line_color\":[\"white\"],\"width\":[1.0],\"x\":[\"c++11\"],\"y\":[3.051653889804455]}},\"id\":\"daf755a9-b37f-4e27-bcc3-34d18bcf4bd2\",\"type\":\"ColumnDataSource\"},{\"attributes\":{\"callback\":null,\"column_names\":[\"line_color\",\"height\",\"x\",\"fill_alpha\",\"width\",\"label\",\"line_alpha\",\"color\",\"y\"],\"data\":{\"QuestTags\":[\"codeigniter\"],\"chart_index\":[{\"QuestTags\":\"codeigniter\"}],\"color\":[\"#f22c40\"],\"fill_alpha\":[0.8],\"height\":[2.519919896951114],\"label\":[{\"QuestTags\":\"codeigniter\"}],\"line_alpha\":[1.0],\"line_color\":[\"white\"],\"width\":[1.0],\"x\":[\"codeigniter\"],\"y\":[1.259959948475557]}},\"id\":\"554b86e1-6f7c-4114-8853-4b85310bfecd\",\"type\":\"ColumnDataSource\"},{\"attributes\":{\"dimension\":1,\"plot\":{\"id\":\"20ca55b1-07d0-4bcf-8d5c-54fad6b2642a\",\"subtype\":\"Chart\",\"type\":\"Plot\"},\"ticker\":{\"id\":\"5a2ef0d9-84c0-4d2a-80d6-4f809823a6bd\",\"type\":\"BasicTicker\"}},\"id\":\"33a3eece-d634-409f-b21e-ca4517ccce2c\",\"type\":\"Grid\"},{\"attributes\":{\"callback\":null,\"column_names\":[\"line_color\",\"height\",\"x\",\"fill_alpha\",\"width\",\"label\",\"line_alpha\",\"color\",\"y\"],\"data\":{\"QuestTags\":[\"github\"],\"chart_index\":[{\"QuestTags\":\"github\"}],\"color\":[\"#f22c40\"],\"fill_alpha\":[0.8],\"height\":[3.9832648338559906],\"label\":[{\"QuestTags\":\"github\"}],\"line_alpha\":[1.0],\"line_color\":[\"white\"],\"width\":[1.0],\"x\":[\"github\"],\"y\":[1.9916324169279953]}},\"id\":\"d37d09a4-601b-49c7-89e2-d1458b855651\",\"type\":\"ColumnDataSource\"},{\"attributes\":{\"data_source\":{\"id\":\"506429d5-f8d7-47a4-9c4e-833d40fe1d6f\",\"type\":\"ColumnDataSource\"},\"glyph\":{\"id\":\"1e11e758-5dbc-458c-8afb-edb1f507314d\",\"type\":\"Rect\"},\"hover_glyph\":null,\"nonselection_glyph\":null,\"selection_glyph\":null},\"id\":\"4e10e64a-aeb5-4702-85d9-7a8a547f3763\",\"type\":\"GlyphRenderer\"},{\"attributes\":{\"callback\":null,\"column_names\":[\"line_color\",\"height\",\"x\",\"fill_alpha\",\"width\",\"label\",\"line_alpha\",\"color\",\"y\"],\"data\":{\"QuestTags\":[\"spring-mvc\"],\"chart_index\":[{\"QuestTags\":\"spring-mvc\"}],\"color\":[\"#f22c40\"],\"fill_alpha\":[0.8],\"height\":[3.666989511583396],\"label\":[{\"QuestTags\":\"spring-mvc\"}],\"line_alpha\":[1.0],\"line_color\":[\"white\"],\"width\":[1.0],\"x\":[\"spring-mvc\"],\"y\":[1.833494755791698]}},\"id\":\"bcde21f5-e882-45b6-bcf2-7876b149e442\",\"type\":\"ColumnDataSource\"},{\"attributes\":{\"fill_alpha\":{\"field\":\"fill_alpha\"},\"fill_color\":{\"field\":\"color\"},\"height\":{\"field\":\"height\",\"units\":\"data\"},\"line_color\":{\"field\":\"line_color\"},\"width\":{\"field\":\"width\",\"units\":\"data\"},\"x\":{\"field\":\"x\"},\"y\":{\"field\":\"y\"}},\"id\":\"6bf99ac8-841e-4087-b050-a40bef83f6ee\",\"type\":\"Rect\"},{\"attributes\":{\"overlay\":{\"id\":\"17204134-878c-488d-81b6-e6308cb92215\",\"type\":\"BoxAnnotation\"},\"plot\":{\"id\":\"20ca55b1-07d0-4bcf-8d5c-54fad6b2642a\",\"subtype\":\"Chart\",\"type\":\"Plot\"}},\"id\":\"41daf25c-9f0d-4726-bd7a-a817a87961f4\",\"type\":\"BoxZoomTool\"},{\"attributes\":{\"axis_label\":\"Question Tags\",\"formatter\":{\"id\":\"8b8deaaa-4eab-4e65-aa9b-95d33dfbcd66\",\"type\":\"CategoricalTickFormatter\"},\"major_label_orientation\":0.7853981633974483,\"plot\":{\"id\":\"20ca55b1-07d0-4bcf-8d5c-54fad6b2642a\",\"subtype\":\"Chart\",\"type\":\"Plot\"},\"ticker\":{\"id\":\"82c5c162-6c19-407f-98cc-6c16f08e4266\",\"type\":\"CategoricalTicker\"}},\"id\":\"86a37896-8624-4140-8d96-7a070fef38ee\",\"type\":\"CategoricalAxis\"},{\"attributes\":{\"callback\":null,\"column_names\":[\"line_color\",\"height\",\"x\",\"fill_alpha\",\"width\",\"label\",\"line_alpha\",\"color\",\"y\"],\"data\":{\"QuestTags\":[\"json\"],\"chart_index\":[{\"QuestTags\":\"json\"}],\"color\":[\"#f22c40\"],\"fill_alpha\":[0.8],\"height\":[2.675955493995003],\"label\":[{\"QuestTags\":\"json\"}],\"line_alpha\":[1.0],\"line_color\":[\"white\"],\"width\":[1.0],\"x\":[\"json\"],\"y\":[1.3379777469975016]}},\"id\":\"0741a1f1-b768-43d3-af3c-6790a42edc59\",\"type\":\"ColumnDataSource\"},{\"attributes\":{},\"id\":\"82c5c162-6c19-407f-98cc-6c16f08e4266\",\"type\":\"CategoricalTicker\"},{\"attributes\":{\"data_source\":{\"id\":\"bb13b450-63e5-4428-bcb2-1b21c556582a\",\"type\":\"ColumnDataSource\"},\"glyph\":{\"id\":\"c03033c4-cb3c-479e-b73f-d3c119e0ec90\",\"type\":\"Rect\"},\"hover_glyph\":null,\"nonselection_glyph\":null,\"selection_glyph\":null},\"id\":\"9bb5ab19-7ad3-48eb-88e4-a344bf8311e2\",\"type\":\"GlyphRenderer\"},{\"attributes\":{\"callback\":null,\"column_names\":[\"line_color\",\"height\",\"x\",\"fill_alpha\",\"width\",\"label\",\"line_alpha\",\"color\",\"y\"],\"data\":{\"QuestTags\":[\"html5\"],\"chart_index\":[{\"QuestTags\":\"html5\"}],\"color\":[\"#f22c40\"],\"fill_alpha\":[0.8],\"height\":[13.044530128635655],\"label\":[{\"QuestTags\":\"html5\"}],\"line_alpha\":[1.0],\"line_color\":[\"white\"],\"width\":[1.0],\"x\":[\"html5\"],\"y\":[6.5222650643178275]}},\"id\":\"43689dbb-02a3-4753-a3d0-7d2bc44ad073\",\"type\":\"ColumnDataSource\"},{\"attributes\":{\"fill_alpha\":{\"field\":\"fill_alpha\"},\"fill_color\":{\"field\":\"color\"},\"height\":{\"field\":\"height\",\"units\":\"data\"},\"line_color\":{\"field\":\"line_color\"},\"width\":{\"field\":\"width\",\"units\":\"data\"},\"x\":{\"field\":\"x\"},\"y\":{\"field\":\"y\"}},\"id\":\"3d789197-ef1d-4500-869d-23bba4d4bb5d\",\"type\":\"Rect\"},{\"attributes\":{\"data_source\":{\"id\":\"8a40c417-0d05-4727-a424-f2b15f5fec17\",\"type\":\"ColumnDataSource\"},\"glyph\":{\"id\":\"db3c528f-460a-4a6f-9494-e52232cb6510\",\"type\":\"Rect\"},\"hover_glyph\":null,\"nonselection_glyph\":null,\"selection_glyph\":null},\"id\":\"6963b351-e116-4aa9-aba2-edbbfdb20b63\",\"type\":\"GlyphRenderer\"},{\"attributes\":{\"data_source\":{\"id\":\"c5f8a5e7-f317-4af4-b21a-4311a16e3529\",\"type\":\"ColumnDataSource\"},\"glyph\":{\"id\":\"d2cc5abc-0c50-4345-9c7a-b61f86b377ff\",\"type\":\"Rect\"},\"hover_glyph\":null,\"nonselection_glyph\":null,\"selection_glyph\":null},\"id\":\"c2c0c9e9-bb77-4b18-b4c0-60793c2bdeb4\",\"type\":\"GlyphRenderer\"},{\"attributes\":{\"callback\":null,\"column_names\":[\"line_color\",\"height\",\"x\",\"fill_alpha\",\"width\",\"label\",\"line_alpha\",\"color\",\"y\"],\"data\":{\"QuestTags\":[\"ffmpeg\"],\"chart_index\":[{\"QuestTags\":\"ffmpeg\"}],\"color\":[\"#f22c40\"],\"fill_alpha\":[0.8],\"height\":[2.4497038782813636],\"label\":[{\"QuestTags\":\"ffmpeg\"}],\"line_alpha\":[1.0],\"line_color\":[\"white\"],\"width\":[1.0],\"x\":[\"ffmpeg\"],\"y\":[1.2248519391406818]}},\"id\":\"fa55668c-5591-4be1-8d97-1f60b413b49e\",\"type\":\"ColumnDataSource\"},{\"attributes\":{\"fill_alpha\":{\"field\":\"fill_alpha\"},\"fill_color\":{\"field\":\"color\"},\"height\":{\"field\":\"height\",\"units\":\"data\"},\"line_color\":{\"field\":\"line_color\"},\"width\":{\"field\":\"width\",\"units\":\"data\"},\"x\":{\"field\":\"x\"},\"y\":{\"field\":\"y\"}},\"id\":\"22019bf7-eb3a-4174-8b21-c57226cc7240\",\"type\":\"Rect\"},{\"attributes\":{\"axis_label\":\"Percentage Increase (%)\",\"formatter\":{\"id\":\"85489f3c-6a86-4bfa-8836-2f768b0989df\",\"type\":\"BasicTickFormatter\"},\"plot\":{\"id\":\"20ca55b1-07d0-4bcf-8d5c-54fad6b2642a\",\"subtype\":\"Chart\",\"type\":\"Plot\"},\"ticker\":{\"id\":\"5a2ef0d9-84c0-4d2a-80d6-4f809823a6bd\",\"type\":\"BasicTicker\"}},\"id\":\"cca6baff-4ab3-4ca8-a7db-1f1750126821\",\"type\":\"LinearAxis\"},{\"attributes\":{\"data_source\":{\"id\":\"053152a8-73ee-4c91-9605-cae120c228c3\",\"type\":\"ColumnDataSource\"},\"glyph\":{\"id\":\"6940be90-9987-4d54-8dc2-fd30b35fefb9\",\"type\":\"Rect\"},\"hover_glyph\":null,\"nonselection_glyph\":null,\"selection_glyph\":null},\"id\":\"79613e93-2ddd-4595-b3d5-c77d89d0c85a\",\"type\":\"GlyphRenderer\"},{\"attributes\":{\"data_source\":{\"id\":\"d37d09a4-601b-49c7-89e2-d1458b855651\",\"type\":\"ColumnDataSource\"},\"glyph\":{\"id\":\"02c2861a-da35-406d-acc8-52d8883eabf7\",\"type\":\"Rect\"},\"hover_glyph\":null,\"nonselection_glyph\":null,\"selection_glyph\":null},\"id\":\"0b3a6875-bc1a-46eb-a85a-bafbe4f5651b\",\"type\":\"GlyphRenderer\"},{\"attributes\":{\"data_source\":{\"id\":\"bcde21f5-e882-45b6-bcf2-7876b149e442\",\"type\":\"ColumnDataSource\"},\"glyph\":{\"id\":\"855f93bd-cba2-4afb-8faf-a4cd3b44d680\",\"type\":\"Rect\"},\"hover_glyph\":null,\"nonselection_glyph\":null,\"selection_glyph\":null},\"id\":\"e484a5a3-f905-4cd5-b1d4-96f54449c4c1\",\"type\":\"GlyphRenderer\"},{\"attributes\":{\"callback\":null,\"column_names\":[\"line_color\",\"height\",\"x\",\"fill_alpha\",\"width\",\"label\",\"line_alpha\",\"color\",\"y\"],\"data\":{\"QuestTags\":[\"android\"],\"chart_index\":[{\"QuestTags\":\"android\"}],\"color\":[\"#f22c40\"],\"fill_alpha\":[0.8],\"height\":[15.259410294410056],\"label\":[{\"QuestTags\":\"android\"}],\"line_alpha\":[1.0],\"line_color\":[\"white\"],\"width\":[1.0],\"x\":[\"android\"],\"y\":[7.629705147205028]}},\"id\":\"c5f8a5e7-f317-4af4-b21a-4311a16e3529\",\"type\":\"ColumnDataSource\"},{\"attributes\":{\"data_source\":{\"id\":\"fa55668c-5591-4be1-8d97-1f60b413b49e\",\"type\":\"ColumnDataSource\"},\"glyph\":{\"id\":\"7b46d550-a586-446c-8c20-0796fae0bf96\",\"type\":\"Rect\"},\"hover_glyph\":null,\"nonselection_glyph\":null,\"selection_glyph\":null},\"id\":\"d2d4a067-12e4-420c-a545-8de1c13a4b2b\",\"type\":\"GlyphRenderer\"},{\"attributes\":{\"fill_alpha\":{\"field\":\"fill_alpha\"},\"fill_color\":{\"field\":\"color\"},\"height\":{\"field\":\"height\",\"units\":\"data\"},\"line_color\":{\"field\":\"line_color\"},\"width\":{\"field\":\"width\",\"units\":\"data\"},\"x\":{\"field\":\"x\"},\"y\":{\"field\":\"y\"}},\"id\":\"b65268ca-a433-435f-a8e6-73ca304eb286\",\"type\":\"Rect\"},{\"attributes\":{\"bottom_units\":\"screen\",\"fill_alpha\":{\"value\":0.5},\"fill_color\":{\"value\":\"lightgrey\"},\"left_units\":\"screen\",\"level\":\"overlay\",\"line_alpha\":{\"value\":1.0},\"line_color\":{\"value\":\"black\"},\"line_dash\":[4,4],\"line_width\":{\"value\":2},\"plot\":null,\"render_mode\":\"css\",\"right_units\":\"screen\",\"top_units\":\"screen\"},\"id\":\"17204134-878c-488d-81b6-e6308cb92215\",\"type\":\"BoxAnnotation\"},{\"attributes\":{\"callback\":null,\"column_names\":[\"line_color\",\"height\",\"x\",\"fill_alpha\",\"width\",\"label\",\"line_alpha\",\"color\",\"y\"],\"data\":{\"QuestTags\":[\"matlab\"],\"chart_index\":[{\"QuestTags\":\"matlab\"}],\"color\":[\"#f22c40\"],\"fill_alpha\":[0.8],\"height\":[3.681165180260291],\"label\":[{\"QuestTags\":\"matlab\"}],\"line_alpha\":[1.0],\"line_color\":[\"white\"],\"width\":[1.0],\"x\":[\"matlab\"],\"y\":[1.8405825901301456]}},\"id\":\"e7e6d617-a5e0-413e-931e-737b974fc2ac\",\"type\":\"ColumnDataSource\"},{\"attributes\":{\"fill_alpha\":{\"field\":\"fill_alpha\"},\"fill_color\":{\"field\":\"color\"},\"height\":{\"field\":\"height\",\"units\":\"data\"},\"line_color\":{\"field\":\"line_color\"},\"width\":{\"field\":\"width\",\"units\":\"data\"},\"x\":{\"field\":\"x\"},\"y\":{\"field\":\"y\"}},\"id\":\"d639724e-0720-42f3-a668-a5315679e1de\",\"type\":\"Rect\"},{\"attributes\":{\"plot\":{\"id\":\"20ca55b1-07d0-4bcf-8d5c-54fad6b2642a\",\"subtype\":\"Chart\",\"type\":\"Plot\"}},\"id\":\"b4396e87-b68a-4792-955a-db8cbf0dddbf\",\"type\":\"ResetTool\"},{\"attributes\":{\"callback\":null,\"column_names\":[\"line_color\",\"height\",\"x\",\"fill_alpha\",\"width\",\"label\",\"line_alpha\",\"color\",\"y\"],\"data\":{\"QuestTags\":[\"google-chrome\"],\"chart_index\":[{\"QuestTags\":\"google-chrome\"}],\"color\":[\"#f22c40\"],\"fill_alpha\":[0.8],\"height\":[5.899407756562727],\"label\":[{\"QuestTags\":\"google-chrome\"}],\"line_alpha\":[1.0],\"line_color\":[\"white\"],\"width\":[1.0],\"x\":[\"google-chrome\"],\"y\":[2.9497038782813636]}},\"id\":\"91b33eb5-047e-474d-8a3a-3f6947726353\",\"type\":\"ColumnDataSource\"},{\"attributes\":{\"fill_alpha\":{\"field\":\"fill_alpha\"},\"fill_color\":{\"field\":\"color\"},\"height\":{\"field\":\"height\",\"units\":\"data\"},\"line_color\":{\"field\":\"line_color\"},\"width\":{\"field\":\"width\",\"units\":\"data\"},\"x\":{\"field\":\"x\"},\"y\":{\"field\":\"y\"}},\"id\":\"d2cc5abc-0c50-4345-9c7a-b61f86b377ff\",\"type\":\"Rect\"},{\"attributes\":{\"fill_alpha\":{\"field\":\"fill_alpha\"},\"fill_color\":{\"field\":\"color\"},\"height\":{\"field\":\"height\",\"units\":\"data\"},\"line_color\":{\"field\":\"line_color\"},\"width\":{\"field\":\"width\",\"units\":\"data\"},\"x\":{\"field\":\"x\"},\"y\":{\"field\":\"y\"}},\"id\":\"070fb46f-6a06-487a-baaf-99a45a011fd3\",\"type\":\"Rect\"},{\"attributes\":{\"fill_alpha\":{\"field\":\"fill_alpha\"},\"fill_color\":{\"field\":\"color\"},\"height\":{\"field\":\"height\",\"units\":\"data\"},\"line_color\":{\"field\":\"line_color\"},\"width\":{\"field\":\"width\",\"units\":\"data\"},\"x\":{\"field\":\"x\"},\"y\":{\"field\":\"y\"}},\"id\":\"4dc783a0-7f7b-4fc3-a426-e61036693294\",\"type\":\"Rect\"},{\"attributes\":{\"callback\":null,\"end\":18.272671243637483},\"id\":\"f3948616-e954-4519-b92a-74261620a758\",\"type\":\"Range1d\"},{\"attributes\":{\"callback\":null,\"column_names\":[\"line_color\",\"height\",\"x\",\"fill_alpha\",\"width\",\"label\",\"line_alpha\",\"color\",\"y\"],\"data\":{\"QuestTags\":[\"javafx\"],\"chart_index\":[{\"QuestTags\":\"javafx\"}],\"color\":[\"#f22c40\"],\"fill_alpha\":[0.8],\"height\":[6.231338026637911],\"label\":[{\"QuestTags\":\"javafx\"}],\"line_alpha\":[1.0],\"line_color\":[\"white\"],\"width\":[1.0],\"x\":[\"javafx\"],\"y\":[3.1156690133189553]}},\"id\":\"8f3b9165-cadc-476f-8ca7-e1a02ef30bb4\",\"type\":\"ColumnDataSource\"},{\"attributes\":{\"callback\":null,\"column_names\":[\"line_color\",\"height\",\"x\",\"fill_alpha\",\"width\",\"label\",\"line_alpha\",\"color\",\"y\"],\"data\":{\"QuestTags\":[\"intellij-idea\"],\"chart_index\":[{\"QuestTags\":\"intellij-idea\"}],\"color\":[\"#f22c40\"],\"fill_alpha\":[0.8],\"height\":[4.519526205250182],\"label\":[{\"QuestTags\":\"intellij-idea\"}],\"line_alpha\":[1.0],\"line_color\":[\"white\"],\"width\":[1.0],\"x\":[\"intellij-idea\"],\"y\":[2.259763102625091]}},\"id\":\"8d6c1b5b-0542-404d-b949-0f9c1bb6d94b\",\"type\":\"ColumnDataSource\"},{\"attributes\":{\"fill_alpha\":{\"field\":\"fill_alpha\"},\"fill_color\":{\"field\":\"color\"},\"height\":{\"field\":\"height\",\"units\":\"data\"},\"line_color\":{\"field\":\"line_color\"},\"width\":{\"field\":\"width\",\"units\":\"data\"},\"x\":{\"field\":\"x\"},\"y\":{\"field\":\"y\"}},\"id\":\"746d1039-1cda-4dc0-8953-7bb00c295a1b\",\"type\":\"Rect\"},{\"attributes\":{\"callback\":null,\"column_names\":[\"line_color\",\"height\",\"x\",\"fill_alpha\",\"width\",\"label\",\"line_alpha\",\"color\",\"y\"],\"data\":{\"QuestTags\":[\"amazon-ec2\"],\"chart_index\":[{\"QuestTags\":\"amazon-ec2\"}],\"color\":[\"#f22c40\"],\"fill_alpha\":[0.8],\"height\":[2.5693280989902765],\"label\":[{\"QuestTags\":\"amazon-ec2\"}],\"line_alpha\":[1.0],\"line_color\":[\"white\"],\"width\":[1.0],\"x\":[\"amazon-ec2\"],\"y\":[1.2846640494951382]}},\"id\":\"506429d5-f8d7-47a4-9c4e-833d40fe1d6f\",\"type\":\"ColumnDataSource\"},{\"attributes\":{},\"id\":\"4bfd1921-5520-40c1-979d-7ecb8299b82a\",\"type\":\"ToolEvents\"},{\"attributes\":{\"callback\":null,\"column_names\":[\"line_color\",\"height\",\"x\",\"fill_alpha\",\"width\",\"label\",\"line_alpha\",\"color\",\"y\"],\"data\":{\"QuestTags\":[\"magento\"],\"chart_index\":[{\"QuestTags\":\"magento\"}],\"color\":[\"#f22c40\"],\"fill_alpha\":[0.8],\"height\":[2.295593395746457],\"label\":[{\"QuestTags\":\"magento\"}],\"line_alpha\":[1.0],\"line_color\":[\"white\"],\"width\":[1.0],\"x\":[\"magento\"],\"y\":[1.1477966978732286]}},\"id\":\"cf824a68-c4ae-445c-8c29-65bd0f198f52\",\"type\":\"ColumnDataSource\"},{\"attributes\":{\"data_source\":{\"id\":\"8d6c1b5b-0542-404d-b949-0f9c1bb6d94b\",\"type\":\"ColumnDataSource\"},\"glyph\":{\"id\":\"14bf9a51-39f7-4a06-a340-2538ee53e35d\",\"type\":\"Rect\"},\"hover_glyph\":null,\"nonselection_glyph\":null,\"selection_glyph\":null},\"id\":\"4635cf78-f2b3-45e7-83ba-897d1d10e5f5\",\"type\":\"GlyphRenderer\"},{\"attributes\":{\"fill_alpha\":{\"field\":\"fill_alpha\"},\"fill_color\":{\"field\":\"color\"},\"height\":{\"field\":\"height\",\"units\":\"data\"},\"line_color\":{\"field\":\"line_color\"},\"width\":{\"field\":\"width\",\"units\":\"data\"},\"x\":{\"field\":\"x\"},\"y\":{\"field\":\"y\"}},\"id\":\"5c32e64d-46ae-4a1e-9c03-659a77731453\",\"type\":\"Rect\"},{\"attributes\":{\"fill_alpha\":{\"field\":\"fill_alpha\"},\"fill_color\":{\"field\":\"color\"},\"height\":{\"field\":\"height\",\"units\":\"data\"},\"line_color\":{\"field\":\"line_color\"},\"width\":{\"field\":\"width\",\"units\":\"data\"},\"x\":{\"field\":\"x\"},\"y\":{\"field\":\"y\"}},\"id\":\"bf7cfc51-2161-43a1-8ea7-79445c06937a\",\"type\":\"Rect\"},{\"attributes\":{\"fill_alpha\":{\"field\":\"fill_alpha\"},\"fill_color\":{\"field\":\"color\"},\"height\":{\"field\":\"height\",\"units\":\"data\"},\"line_color\":{\"field\":\"line_color\"},\"width\":{\"field\":\"width\",\"units\":\"data\"},\"x\":{\"field\":\"x\"},\"y\":{\"field\":\"y\"}},\"id\":\"556c8c20-43d9-4bfb-844a-9508cd83979e\",\"type\":\"Rect\"},{\"attributes\":{\"plot\":{\"id\":\"20ca55b1-07d0-4bcf-8d5c-54fad6b2642a\",\"subtype\":\"Chart\",\"type\":\"Plot\"}},\"id\":\"6719b255-6946-4b6e-8064-d7e62be25edf\",\"type\":\"SaveTool\"},{\"attributes\":{\"fill_alpha\":{\"field\":\"fill_alpha\"},\"fill_color\":{\"field\":\"color\"},\"height\":{\"field\":\"height\",\"units\":\"data\"},\"line_color\":{\"field\":\"line_color\"},\"width\":{\"field\":\"width\",\"units\":\"data\"},\"x\":{\"field\":\"x\"},\"y\":{\"field\":\"y\"}},\"id\":\"d9fe631a-fa98-4cc6-a362-e5c98ae90b66\",\"type\":\"Rect\"},{\"attributes\":{\"below\":[{\"id\":\"86a37896-8624-4140-8d96-7a070fef38ee\",\"type\":\"CategoricalAxis\"}],\"left\":[{\"id\":\"cca6baff-4ab3-4ca8-a7db-1f1750126821\",\"type\":\"LinearAxis\"}],\"renderers\":[{\"id\":\"17204134-878c-488d-81b6-e6308cb92215\",\"type\":\"BoxAnnotation\"},{\"id\":\"317234cf-3b41-48cc-9652-84ff80f2f0e6\",\"type\":\"GlyphRenderer\"},{\"id\":\"c2c0c9e9-bb77-4b18-b4c0-60793c2bdeb4\",\"type\":\"GlyphRenderer\"},{\"id\":\"0f624167-51b6-4a9d-9d27-7d848f68c71f\",\"type\":\"GlyphRenderer\"},{\"id\":\"79613e93-2ddd-4595-b3d5-c77d89d0c85a\",\"type\":\"GlyphRenderer\"},{\"id\":\"e9e03709-8e28-4f2e-8cf4-38df565912d2\",\"type\":\"GlyphRenderer\"},{\"id\":\"d759df62-b76a-4297-9ffd-c68f39a3d058\",\"type\":\"GlyphRenderer\"},{\"id\":\"25da796d-d670-4ef6-a343-91972644b855\",\"type\":\"GlyphRenderer\"},{\"id\":\"55bb5c9c-5762-4dcb-a7bf-223543255ec6\",\"type\":\"GlyphRenderer\"},{\"id\":\"1333a558-9911-4281-994a-e21f1aa05203\",\"type\":\"GlyphRenderer\"},{\"id\":\"7b7665ca-e916-4476-b9de-5d5a892f6b91\",\"type\":\"GlyphRenderer\"},{\"id\":\"e6e0dc77-5fc2-417b-9046-84ef07b85a85\",\"type\":\"GlyphRenderer\"},{\"id\":\"7bf1184a-f335-4321-922b-313eed11b6f6\",\"type\":\"GlyphRenderer\"},{\"id\":\"4635cf78-f2b3-45e7-83ba-897d1d10e5f5\",\"type\":\"GlyphRenderer\"},{\"id\":\"f746e455-adf1-4e31-b0ae-85062c123a47\",\"type\":\"GlyphRenderer\"},{\"id\":\"4ec66f17-792a-41b1-9367-71bd7601c283\",\"type\":\"GlyphRenderer\"},{\"id\":\"0b3a6875-bc1a-46eb-a85a-bafbe4f5651b\",\"type\":\"GlyphRenderer\"},{\"id\":\"7572440d-9d2b-47fb-a32d-1417dcf6e91d\",\"type\":\"GlyphRenderer\"},{\"id\":\"e484a5a3-f905-4cd5-b1d4-96f54449c4c1\",\"type\":\"GlyphRenderer\"},{\"id\":\"9bb5ab19-7ad3-48eb-88e4-a344bf8311e2\",\"type\":\"GlyphRenderer\"},{\"id\":\"21616fb5-b2c0-433f-83eb-d650e45d2070\",\"type\":\"GlyphRenderer\"},{\"id\":\"3f8e4e79-d180-4ae3-99c7-b028636bb485\",\"type\":\"GlyphRenderer\"},{\"id\":\"d65b6cef-e3c4-4434-84ee-ed7388e2262d\",\"type\":\"GlyphRenderer\"},{\"id\":\"bd80367c-e05d-4a4f-948c-28a0c44b690d\",\"type\":\"GlyphRenderer\"},{\"id\":\"4e10e64a-aeb5-4702-85d9-7a8a547f3763\",\"type\":\"GlyphRenderer\"},{\"id\":\"16eb837f-9837-4b0d-9a33-fff079608e64\",\"type\":\"GlyphRenderer\"},{\"id\":\"d2d4a067-12e4-420c-a545-8de1c13a4b2b\",\"type\":\"GlyphRenderer\"},{\"id\":\"6963b351-e116-4aa9-aba2-edbbfdb20b63\",\"type\":\"GlyphRenderer\"},{\"id\":\"2286228a-ccd6-49ff-89b5-bf73f02f4a39\",\"type\":\"GlyphRenderer\"},{\"id\":\"7060150d-ce92-4f08-bb11-3ff14d1d269d\",\"type\":\"GlyphRenderer\"},{\"id\":\"aaf98efa-9541-4b1b-a649-b6267291ce1a\",\"type\":\"GlyphRenderer\"},{\"id\":\"86a37896-8624-4140-8d96-7a070fef38ee\",\"type\":\"CategoricalAxis\"},{\"id\":\"cca6baff-4ab3-4ca8-a7db-1f1750126821\",\"type\":\"LinearAxis\"},{\"id\":\"33a3eece-d634-409f-b21e-ca4517ccce2c\",\"type\":\"Grid\"}],\"title\":{\"id\":\"f389cdd2-4616-4266-982b-b3afe664e4eb\",\"type\":\"Title\"},\"tool_events\":{\"id\":\"4bfd1921-5520-40c1-979d-7ecb8299b82a\",\"type\":\"ToolEvents\"},\"toolbar\":{\"id\":\"4bd84a18-ab80-48a6-bbe9-bd54397f0bfa\",\"type\":\"Toolbar\"},\"x_mapper_type\":\"auto\",\"x_range\":{\"id\":\"fc369548-e6a9-42bb-b4b8-b0cafca7a132\",\"type\":\"FactorRange\"},\"y_mapper_type\":\"auto\",\"y_range\":{\"id\":\"f3948616-e954-4519-b92a-74261620a758\",\"type\":\"Range1d\"}},\"id\":\"20ca55b1-07d0-4bcf-8d5c-54fad6b2642a\",\"subtype\":\"Chart\",\"type\":\"Plot\"},{\"attributes\":{\"fill_alpha\":{\"field\":\"fill_alpha\"},\"fill_color\":{\"field\":\"color\"},\"height\":{\"field\":\"height\",\"units\":\"data\"},\"line_color\":{\"field\":\"line_color\"},\"width\":{\"field\":\"width\",\"units\":\"data\"},\"x\":{\"field\":\"x\"},\"y\":{\"field\":\"y\"}},\"id\":\"7a02c220-4a12-465f-87c2-8f79e8ca8fe5\",\"type\":\"Rect\"},{\"attributes\":{\"fill_alpha\":{\"field\":\"fill_alpha\"},\"fill_color\":{\"field\":\"color\"},\"height\":{\"field\":\"height\",\"units\":\"data\"},\"line_color\":{\"field\":\"line_color\"},\"width\":{\"field\":\"width\",\"units\":\"data\"},\"x\":{\"field\":\"x\"},\"y\":{\"field\":\"y\"}},\"id\":\"f3699080-33cc-48af-bb85-1b68092c63b0\",\"type\":\"Rect\"},{\"attributes\":{\"plot\":{\"id\":\"20ca55b1-07d0-4bcf-8d5c-54fad6b2642a\",\"subtype\":\"Chart\",\"type\":\"Plot\"}},\"id\":\"7ae6ba17-648d-4788-a754-a4897d916a43\",\"type\":\"PanTool\"},{\"attributes\":{\"callback\":null,\"column_names\":[\"line_color\",\"height\",\"x\",\"fill_alpha\",\"width\",\"label\",\"line_alpha\",\"color\",\"y\"],\"data\":{\"QuestTags\":[\"numpy\"],\"chart_index\":[{\"QuestTags\":\"numpy\"}],\"color\":[\"#f22c40\"],\"fill_alpha\":[0.8],\"height\":[4.9544225999201155],\"label\":[{\"QuestTags\":\"numpy\"}],\"line_alpha\":[1.0],\"line_color\":[\"white\"],\"width\":[1.0],\"x\":[\"numpy\"],\"y\":[2.4772112999600577]}},\"id\":\"3529cea9-6852-4361-936b-c67ea1b806c5\",\"type\":\"ColumnDataSource\"},{\"attributes\":{\"plot\":{\"id\":\"20ca55b1-07d0-4bcf-8d5c-54fad6b2642a\",\"subtype\":\"Chart\",\"type\":\"Plot\"}},\"id\":\"09cd09a6-b237-46a2-9075-f69092a14c0e\",\"type\":\"HelpTool\"},{\"attributes\":{\"data_source\":{\"id\":\"6fdd9966-dde0-4b5c-b3e5-5a95ec7dc8c1\",\"type\":\"ColumnDataSource\"},\"glyph\":{\"id\":\"22019bf7-eb3a-4174-8b21-c57226cc7240\",\"type\":\"Rect\"},\"hover_glyph\":null,\"nonselection_glyph\":null,\"selection_glyph\":null},\"id\":\"e6e0dc77-5fc2-417b-9046-84ef07b85a85\",\"type\":\"GlyphRenderer\"},{\"attributes\":{\"data_source\":{\"id\":\"01a50348-dfcd-4ec8-ba84-42b8addf3f53\",\"type\":\"ColumnDataSource\"},\"glyph\":{\"id\":\"6bf99ac8-841e-4087-b050-a40bef83f6ee\",\"type\":\"Rect\"},\"hover_glyph\":null,\"nonselection_glyph\":null,\"selection_glyph\":null},\"id\":\"317234cf-3b41-48cc-9652-84ff80f2f0e6\",\"type\":\"GlyphRenderer\"},{\"attributes\":{\"callback\":null,\"column_names\":[\"line_color\",\"height\",\"x\",\"fill_alpha\",\"width\",\"label\",\"line_alpha\",\"color\",\"y\"],\"data\":{\"QuestTags\":[\"scala\"],\"chart_index\":[{\"QuestTags\":\"scala\"}],\"color\":[\"#f22c40\"],\"fill_alpha\":[0.8],\"height\":[3.987129673543386],\"label\":[{\"QuestTags\":\"scala\"}],\"line_alpha\":[1.0],\"line_color\":[\"white\"],\"width\":[1.0],\"x\":[\"scala\"],\"y\":[1.993564836771693]}},\"id\":\"9a6382cd-3f29-4b20-8e7e-a6e9eee04040\",\"type\":\"ColumnDataSource\"},{\"attributes\":{\"fill_alpha\":{\"field\":\"fill_alpha\"},\"fill_color\":{\"field\":\"color\"},\"height\":{\"field\":\"height\",\"units\":\"data\"},\"line_color\":{\"field\":\"line_color\"},\"width\":{\"field\":\"width\",\"units\":\"data\"},\"x\":{\"field\":\"x\"},\"y\":{\"field\":\"y\"}},\"id\":\"6940be90-9987-4d54-8dc2-fd30b35fefb9\",\"type\":\"Rect\"},{\"attributes\":{\"callback\":null,\"column_names\":[\"line_color\",\"height\",\"x\",\"fill_alpha\",\"width\",\"label\",\"line_alpha\",\"color\",\"y\"],\"data\":{\"QuestTags\":[\"azure\"],\"chart_index\":[{\"QuestTags\":\"azure\"}],\"color\":[\"#f22c40\"],\"fill_alpha\":[0.8],\"height\":[9.839894248455254],\"label\":[{\"QuestTags\":\"azure\"}],\"line_alpha\":[1.0],\"line_color\":[\"white\"],\"width\":[1.0],\"x\":[\"azure\"],\"y\":[4.919947124227627]}},\"id\":\"053152a8-73ee-4c91-9605-cae120c228c3\",\"type\":\"ColumnDataSource\"},{\"attributes\":{\"callback\":null,\"column_names\":[\"line_color\",\"height\",\"x\",\"fill_alpha\",\"width\",\"label\",\"line_alpha\",\"color\",\"y\"],\"data\":{\"QuestTags\":[\"wordpress\"],\"chart_index\":[{\"QuestTags\":\"wordpress\"}],\"color\":[\"#f22c40\"],\"fill_alpha\":[0.8],\"height\":[4.534429196967842],\"label\":[{\"QuestTags\":\"wordpress\"}],\"line_alpha\":[1.0],\"line_color\":[\"white\"],\"width\":[1.0],\"x\":[\"wordpress\"],\"y\":[2.267214598483921]}},\"id\":\"b268f6d2-096e-459e-9466-0124b3640c04\",\"type\":\"ColumnDataSource\"},{\"attributes\":{\"plot\":{\"id\":\"20ca55b1-07d0-4bcf-8d5c-54fad6b2642a\",\"subtype\":\"Chart\",\"type\":\"Plot\"}},\"id\":\"2ed0a9f7-eae9-4f90-bf72-9072cca24749\",\"type\":\"WheelZoomTool\"},{\"attributes\":{\"callback\":null,\"column_names\":[\"line_color\",\"height\",\"x\",\"fill_alpha\",\"width\",\"label\",\"line_alpha\",\"color\",\"y\"],\"data\":{\"QuestTags\":[\"r\"],\"chart_index\":[{\"QuestTags\":\"r\"}],\"color\":[\"#f22c40\"],\"fill_alpha\":[0.8],\"height\":[17.40254404155951],\"label\":[{\"QuestTags\":\"r\"}],\"line_alpha\":[1.0],\"line_color\":[\"white\"],\"width\":[1.0],\"x\":[\"r\"],\"y\":[8.701272020779754]}},\"id\":\"01a50348-dfcd-4ec8-ba84-42b8addf3f53\",\"type\":\"ColumnDataSource\"},{\"attributes\":{\"fill_alpha\":{\"field\":\"fill_alpha\"},\"fill_color\":{\"field\":\"color\"},\"height\":{\"field\":\"height\",\"units\":\"data\"},\"line_color\":{\"field\":\"line_color\"},\"width\":{\"field\":\"width\",\"units\":\"data\"},\"x\":{\"field\":\"x\"},\"y\":{\"field\":\"y\"}},\"id\":\"afc05ea8-2b9d-447e-b45c-f423630fe193\",\"type\":\"Rect\"},{\"attributes\":{\"callback\":null,\"column_names\":[\"line_color\",\"height\",\"x\",\"fill_alpha\",\"width\",\"label\",\"line_alpha\",\"color\",\"y\"],\"data\":{\"QuestTags\":[\"for-loop\"],\"chart_index\":[{\"QuestTags\":\"for-loop\"}],\"color\":[\"#f22c40\"],\"fill_alpha\":[0.8],\"height\":[3.220256290955895],\"label\":[{\"QuestTags\":\"for-loop\"}],\"line_alpha\":[1.0],\"line_color\":[\"white\"],\"width\":[1.0],\"x\":[\"for-loop\"],\"y\":[1.6101281454779475]}},\"id\":\"44ccaa87-57c4-4520-9915-bf9c14ac3787\",\"type\":\"ColumnDataSource\"},{\"attributes\":{\"callback\":null,\"column_names\":[\"line_color\",\"height\",\"x\",\"fill_alpha\",\"width\",\"label\",\"line_alpha\",\"color\",\"y\"],\"data\":{\"QuestTags\":[\"ubuntu\"],\"chart_index\":[{\"QuestTags\":\"ubuntu\"}],\"color\":[\"#f22c40\"],\"fill_alpha\":[0.8],\"height\":[2.3193027007518277],\"label\":[{\"QuestTags\":\"ubuntu\"}],\"line_alpha\":[1.0],\"line_color\":[\"white\"],\"width\":[1.0],\"x\":[\"ubuntu\"],\"y\":[1.1596513503759138]}},\"id\":\"8a40c417-0d05-4727-a424-f2b15f5fec17\",\"type\":\"ColumnDataSource\"},{\"attributes\":{\"fill_alpha\":{\"field\":\"fill_alpha\"},\"fill_color\":{\"field\":\"color\"},\"height\":{\"field\":\"height\",\"units\":\"data\"},\"line_color\":{\"field\":\"line_color\"},\"width\":{\"field\":\"width\",\"units\":\"data\"},\"x\":{\"field\":\"x\"},\"y\":{\"field\":\"y\"}},\"id\":\"85e9baa6-f982-4235-b872-8690bf6cd52e\",\"type\":\"Rect\"},{\"attributes\":{\"fill_alpha\":{\"field\":\"fill_alpha\"},\"fill_color\":{\"field\":\"color\"},\"height\":{\"field\":\"height\",\"units\":\"data\"},\"line_color\":{\"field\":\"line_color\"},\"width\":{\"field\":\"width\",\"units\":\"data\"},\"x\":{\"field\":\"x\"},\"y\":{\"field\":\"y\"}},\"id\":\"78e0bd4d-1771-43de-abd9-41c985f8bd40\",\"type\":\"Rect\"},{\"attributes\":{\"callback\":null,\"factors\":[\"amazon-ec2\",\"amazon-web-services\",\"android\",\"arraylist\",\"azure\",\"c++11\",\"codeigniter\",\"ffmpeg\",\"for-loop\",\"github\",\"google-chrome\",\"html5\",\"if-statement\",\"intellij-idea\",\"javafx\",\"json\",\"magento\",\"matlab\",\"nginx\",\"numpy\",\"paypal\",\"python-3.x\",\"r\",\"scala\",\"selenium\",\"spring-mvc\",\"svg\",\"tkinter\",\"ubuntu\",\"wordpress\"]},\"id\":\"fc369548-e6a9-42bb-b4b8-b0cafca7a132\",\"type\":\"FactorRange\"},{\"attributes\":{\"fill_alpha\":{\"field\":\"fill_alpha\"},\"fill_color\":{\"field\":\"color\"},\"height\":{\"field\":\"height\",\"units\":\"data\"},\"line_color\":{\"field\":\"line_color\"},\"width\":{\"field\":\"width\",\"units\":\"data\"},\"x\":{\"field\":\"x\"},\"y\":{\"field\":\"y\"}},\"id\":\"7b46d550-a586-446c-8c20-0796fae0bf96\",\"type\":\"Rect\"},{\"attributes\":{\"data_source\":{\"id\":\"0741a1f1-b768-43d3-af3c-6790a42edc59\",\"type\":\"ColumnDataSource\"},\"glyph\":{\"id\":\"85e9baa6-f982-4235-b872-8690bf6cd52e\",\"type\":\"Rect\"},\"hover_glyph\":null,\"nonselection_glyph\":null,\"selection_glyph\":null},\"id\":\"bd80367c-e05d-4a4f-948c-28a0c44b690d\",\"type\":\"GlyphRenderer\"},{\"attributes\":{\"fill_alpha\":{\"field\":\"fill_alpha\"},\"fill_color\":{\"field\":\"color\"},\"height\":{\"field\":\"height\",\"units\":\"data\"},\"line_color\":{\"field\":\"line_color\"},\"width\":{\"field\":\"width\",\"units\":\"data\"},\"x\":{\"field\":\"x\"},\"y\":{\"field\":\"y\"}},\"id\":\"445c311c-889a-4bd4-aa5f-623181bd21d5\",\"type\":\"Rect\"},{\"attributes\":{\"fill_alpha\":{\"field\":\"fill_alpha\"},\"fill_color\":{\"field\":\"color\"},\"height\":{\"field\":\"height\",\"units\":\"data\"},\"line_color\":{\"field\":\"line_color\"},\"width\":{\"field\":\"width\",\"units\":\"data\"},\"x\":{\"field\":\"x\"},\"y\":{\"field\":\"y\"}},\"id\":\"1e11e758-5dbc-458c-8afb-edb1f507314d\",\"type\":\"Rect\"},{\"attributes\":{\"callback\":null,\"column_names\":[\"line_color\",\"height\",\"x\",\"fill_alpha\",\"width\",\"label\",\"line_alpha\",\"color\",\"y\"],\"data\":{\"QuestTags\":[\"paypal\"],\"chart_index\":[{\"QuestTags\":\"paypal\"}],\"color\":[\"#f22c40\"],\"fill_alpha\":[0.8],\"height\":[3.0990753987062254],\"label\":[{\"QuestTags\":\"paypal\"}],\"line_alpha\":[1.0],\"line_color\":[\"white\"],\"width\":[1.0],\"x\":[\"paypal\"],\"y\":[1.5495376993531127]}},\"id\":\"f4d03288-1a2d-4633-9acf-67cc4c054b3d\",\"type\":\"ColumnDataSource\"},{\"attributes\":{\"callback\":null,\"column_names\":[\"line_color\",\"height\",\"x\",\"fill_alpha\",\"width\",\"label\",\"line_alpha\",\"color\",\"y\"],\"data\":{\"QuestTags\":[\"python-3.x\"],\"chart_index\":[{\"QuestTags\":\"python-3.x\"}],\"color\":[\"#f22c40\"],\"fill_alpha\":[0.8],\"height\":[8.238260962092479],\"label\":[{\"QuestTags\":\"python-3.x\"}],\"line_alpha\":[1.0],\"line_color\":[\"white\"],\"width\":[1.0],\"x\":[\"python-3.x\"],\"y\":[4.1191304810462395]}},\"id\":\"53bcc4cc-d1f6-40b0-bba2-fa516ef3f2bb\",\"type\":\"ColumnDataSource\"},{\"attributes\":{\"callback\":null,\"column_names\":[\"line_color\",\"height\",\"x\",\"fill_alpha\",\"width\",\"label\",\"line_alpha\",\"color\",\"y\"],\"data\":{\"QuestTags\":[\"if-statement\"],\"chart_index\":[{\"QuestTags\":\"if-statement\"}],\"color\":[\"#f22c40\"],\"fill_alpha\":[0.8],\"height\":[2.0682630006949663],\"label\":[{\"QuestTags\":\"if-statement\"}],\"line_alpha\":[1.0],\"line_color\":[\"white\"],\"width\":[1.0],\"x\":[\"if-statement\"],\"y\":[1.0341315003474831]}},\"id\":\"2e1a8b39-55a0-4fd8-9c67-507b4dbc4041\",\"type\":\"ColumnDataSource\"},{\"attributes\":{\"active_drag\":\"auto\",\"active_scroll\":\"auto\",\"active_tap\":\"auto\",\"tools\":[{\"id\":\"7ae6ba17-648d-4788-a754-a4897d916a43\",\"type\":\"PanTool\"},{\"id\":\"2ed0a9f7-eae9-4f90-bf72-9072cca24749\",\"type\":\"WheelZoomTool\"},{\"id\":\"41daf25c-9f0d-4726-bd7a-a817a87961f4\",\"type\":\"BoxZoomTool\"},{\"id\":\"6719b255-6946-4b6e-8064-d7e62be25edf\",\"type\":\"SaveTool\"},{\"id\":\"b4396e87-b68a-4792-955a-db8cbf0dddbf\",\"type\":\"ResetTool\"},{\"id\":\"09cd09a6-b237-46a2-9075-f69092a14c0e\",\"type\":\"HelpTool\"}]},\"id\":\"4bd84a18-ab80-48a6-bbe9-bd54397f0bfa\",\"type\":\"Toolbar\"},{\"attributes\":{\"data_source\":{\"id\":\"91b33eb5-047e-474d-8a3a-3f6947726353\",\"type\":\"ColumnDataSource\"},\"glyph\":{\"id\":\"afc05ea8-2b9d-447e-b45c-f423630fe193\",\"type\":\"Rect\"},\"hover_glyph\":null,\"nonselection_glyph\":null,\"selection_glyph\":null},\"id\":\"1333a558-9911-4281-994a-e21f1aa05203\",\"type\":\"GlyphRenderer\"},{\"attributes\":{\"data_source\":{\"id\":\"2e1a8b39-55a0-4fd8-9c67-507b4dbc4041\",\"type\":\"ColumnDataSource\"},\"glyph\":{\"id\":\"576e177e-718f-4db0-8ac9-d630b4a6412d\",\"type\":\"Rect\"},\"hover_glyph\":null,\"nonselection_glyph\":null,\"selection_glyph\":null},\"id\":\"aaf98efa-9541-4b1b-a649-b6267291ce1a\",\"type\":\"GlyphRenderer\"},{\"attributes\":{\"data_source\":{\"id\":\"c0fc52a7-cb37-494b-9c42-bccdfd41e9c8\",\"type\":\"ColumnDataSource\"},\"glyph\":{\"id\":\"d9fe631a-fa98-4cc6-a362-e5c98ae90b66\",\"type\":\"Rect\"},\"hover_glyph\":null,\"nonselection_glyph\":null,\"selection_glyph\":null},\"id\":\"d759df62-b76a-4297-9ffd-c68f39a3d058\",\"type\":\"GlyphRenderer\"},{\"attributes\":{\"data_source\":{\"id\":\"e7e6d617-a5e0-413e-931e-737b974fc2ac\",\"type\":\"ColumnDataSource\"},\"glyph\":{\"id\":\"78e0bd4d-1771-43de-abd9-41c985f8bd40\",\"type\":\"Rect\"},\"hover_glyph\":null,\"nonselection_glyph\":null,\"selection_glyph\":null},\"id\":\"7572440d-9d2b-47fb-a32d-1417dcf6e91d\",\"type\":\"GlyphRenderer\"},{\"attributes\":{\"data_source\":{\"id\":\"a5837df7-5e61-4255-801f-68f0936f6935\",\"type\":\"ColumnDataSource\"},\"glyph\":{\"id\":\"556c8c20-43d9-4bfb-844a-9508cd83979e\",\"type\":\"Rect\"},\"hover_glyph\":null,\"nonselection_glyph\":null,\"selection_glyph\":null},\"id\":\"7060150d-ce92-4f08-bb11-3ff14d1d269d\",\"type\":\"GlyphRenderer\"},{\"attributes\":{\"data_source\":{\"id\":\"32b10739-2aee-46ea-a06d-75c66a49ab36\",\"type\":\"ColumnDataSource\"},\"glyph\":{\"id\":\"445c311c-889a-4bd4-aa5f-623181bd21d5\",\"type\":\"Rect\"},\"hover_glyph\":null,\"nonselection_glyph\":null,\"selection_glyph\":null},\"id\":\"f746e455-adf1-4e31-b0ae-85062c123a47\",\"type\":\"GlyphRenderer\"},{\"attributes\":{\"data_source\":{\"id\":\"44ccaa87-57c4-4520-9915-bf9c14ac3787\",\"type\":\"ColumnDataSource\"},\"glyph\":{\"id\":\"d639724e-0720-42f3-a668-a5315679e1de\",\"type\":\"Rect\"},\"hover_glyph\":null,\"nonselection_glyph\":null,\"selection_glyph\":null},\"id\":\"21616fb5-b2c0-433f-83eb-d650e45d2070\",\"type\":\"GlyphRenderer\"},{\"attributes\":{\"fill_alpha\":{\"field\":\"fill_alpha\"},\"fill_color\":{\"field\":\"color\"},\"height\":{\"field\":\"height\",\"units\":\"data\"},\"line_color\":{\"field\":\"line_color\"},\"width\":{\"field\":\"width\",\"units\":\"data\"},\"x\":{\"field\":\"x\"},\"y\":{\"field\":\"y\"}},\"id\":\"855f93bd-cba2-4afb-8faf-a4cd3b44d680\",\"type\":\"Rect\"},{\"attributes\":{\"callback\":null,\"column_names\":[\"line_color\",\"height\",\"x\",\"fill_alpha\",\"width\",\"label\",\"line_alpha\",\"color\",\"y\"],\"data\":{\"QuestTags\":[\"arraylist\"],\"chart_index\":[{\"QuestTags\":\"arraylist\"}],\"color\":[\"#f22c40\"],\"fill_alpha\":[0.8],\"height\":[2.1138220573719524],\"label\":[{\"QuestTags\":\"arraylist\"}],\"line_alpha\":[1.0],\"line_color\":[\"white\"],\"width\":[1.0],\"x\":[\"arraylist\"],\"y\":[1.0569110286859762]}},\"id\":\"a5837df7-5e61-4255-801f-68f0936f6935\",\"type\":\"ColumnDataSource\"},{\"attributes\":{\"callback\":null,\"column_names\":[\"line_color\",\"height\",\"x\",\"fill_alpha\",\"width\",\"label\",\"line_alpha\",\"color\",\"y\"],\"data\":{\"QuestTags\":[\"amazon-web-services\"],\"chart_index\":[{\"QuestTags\":\"amazon-web-services\"}],\"color\":[\"#f22c40\"],\"fill_alpha\":[0.8],\"height\":[7.718250154831841],\"label\":[{\"QuestTags\":\"amazon-web-services\"}],\"line_alpha\":[1.0],\"line_color\":[\"white\"],\"width\":[1.0],\"x\":[\"amazon-web-services\"],\"y\":[3.8591250774159205]}},\"id\":\"c0fc52a7-cb37-494b-9c42-bccdfd41e9c8\",\"type\":\"ColumnDataSource\"},{\"attributes\":{\"fill_alpha\":{\"field\":\"fill_alpha\"},\"fill_color\":{\"field\":\"color\"},\"height\":{\"field\":\"height\",\"units\":\"data\"},\"line_color\":{\"field\":\"line_color\"},\"width\":{\"field\":\"width\",\"units\":\"data\"},\"x\":{\"field\":\"x\"},\"y\":{\"field\":\"y\"}},\"id\":\"02c2861a-da35-406d-acc8-52d8883eabf7\",\"type\":\"Rect\"},{\"attributes\":{\"fill_alpha\":{\"field\":\"fill_alpha\"},\"fill_color\":{\"field\":\"color\"},\"height\":{\"field\":\"height\",\"units\":\"data\"},\"line_color\":{\"field\":\"line_color\"},\"width\":{\"field\":\"width\",\"units\":\"data\"},\"x\":{\"field\":\"x\"},\"y\":{\"field\":\"y\"}},\"id\":\"14bf9a51-39f7-4a06-a340-2538ee53e35d\",\"type\":\"Rect\"},{\"attributes\":{\"data_source\":{\"id\":\"554b86e1-6f7c-4114-8853-4b85310bfecd\",\"type\":\"ColumnDataSource\"},\"glyph\":{\"id\":\"b65268ca-a433-435f-a8e6-73ca304eb286\",\"type\":\"Rect\"},\"hover_glyph\":null,\"nonselection_glyph\":null,\"selection_glyph\":null},\"id\":\"16eb837f-9837-4b0d-9a33-fff079608e64\",\"type\":\"GlyphRenderer\"},{\"attributes\":{\"data_source\":{\"id\":\"8f3b9165-cadc-476f-8ca7-e1a02ef30bb4\",\"type\":\"ColumnDataSource\"},\"glyph\":{\"id\":\"7a02c220-4a12-465f-87c2-8f79e8ca8fe5\",\"type\":\"Rect\"},\"hover_glyph\":null,\"nonselection_glyph\":null,\"selection_glyph\":null},\"id\":\"25da796d-d670-4ef6-a343-91972644b855\",\"type\":\"GlyphRenderer\"},{\"attributes\":{\"data_source\":{\"id\":\"9a6382cd-3f29-4b20-8e7e-a6e9eee04040\",\"type\":\"ColumnDataSource\"},\"glyph\":{\"id\":\"883cf093-dd3c-4c35-82b7-2a4d9396a311\",\"type\":\"Rect\"},\"hover_glyph\":null,\"nonselection_glyph\":null,\"selection_glyph\":null},\"id\":\"4ec66f17-792a-41b1-9367-71bd7601c283\",\"type\":\"GlyphRenderer\"}],\"root_ids\":[\"20ca55b1-07d0-4bcf-8d5c-54fad6b2642a\"]},\"title\":\"Bokeh Application\",\"version\":\"0.12.2\"}};\n",
       "            var render_items = [{\"docid\":\"49303e44-d115-4b2d-819f-0b7deaed07fe\",\"elementid\":\"b2a64c38-ca73-4eb2-815e-e3a10bf956f5\",\"modelid\":\"20ca55b1-07d0-4bcf-8d5c-54fad6b2642a\"}];\n",
       "            \n",
       "            Bokeh.embed.embed_items(docs_json, render_items);\n",
       "        });\n",
       "      },\n",
       "      function(Bokeh) {\n",
       "      }\n",
       "    ];\n",
       "  \n",
       "    function run_inline_js() {\n",
       "      \n",
       "      if ((window.Bokeh !== undefined) || (force === \"1\")) {\n",
       "        for (var i = 0; i < inline_js.length; i++) {\n",
       "          inline_js[i](window.Bokeh);\n",
       "        }if (force === \"1\") {\n",
       "          display_loaded();\n",
       "        }} else if (Date.now() < window._bokeh_timeout) {\n",
       "        setTimeout(run_inline_js, 100);\n",
       "      } else if (!window._bokeh_failed_load) {\n",
       "        console.log(\"Bokeh: BokehJS failed to load within specified timeout.\");\n",
       "        window._bokeh_failed_load = true;\n",
       "      } else if (!force) {\n",
       "        var cell = $(\"#b2a64c38-ca73-4eb2-815e-e3a10bf956f5\").parents('.cell').data().cell;\n",
       "        cell.output_area.append_execute_result(NB_LOAD_WARNING)\n",
       "      }\n",
       "  \n",
       "    }\n",
       "  \n",
       "    if (window._bokeh_is_loading === 0) {\n",
       "      console.log(\"Bokeh: BokehJS loaded, going straight to plotting\");\n",
       "      run_inline_js();\n",
       "    } else {\n",
       "      load_libs(js_urls, function() {\n",
       "        console.log(\"Bokeh: BokehJS plotting callback run at\", now());\n",
       "        run_inline_js();\n",
       "      });\n",
       "    }\n",
       "  }(this));\n",
       "</script>"
      ]
     },
     "metadata": {},
     "output_type": "display_data"
    }
   ],
   "source": [
    "plot_percentage_change(yearQuestTag, \"Oct'08-09\", \"Oct'15-16\")"
   ]
  },
  {
   "cell_type": "markdown",
   "metadata": {},
   "source": [
    "# Below are done for Python Questions and Tags"
   ]
  },
  {
   "cell_type": "code",
   "execution_count": 81,
   "metadata": {
    "collapsed": false
   },
   "outputs": [],
   "source": [
    "import pandas as pd\n",
    "pythonquestions = pd.read_csv(\"Python Questions New.csv\", encoding='latin1')"
   ]
  },
  {
   "cell_type": "code",
   "execution_count": 82,
   "metadata": {
    "collapsed": true
   },
   "outputs": [],
   "source": [
    "pythonquestions.drop('Unnamed: 0', axis=1, inplace=True)\n",
    "pythonquestions.rename(columns={'Id':'QuestionId', 'Tags':'QuestTags'}, inplace=True)"
   ]
  },
  {
   "cell_type": "code",
   "execution_count": 83,
   "metadata": {
    "collapsed": true
   },
   "outputs": [],
   "source": [
    "pythonquestions[\"CreationDate\"] = pd.to_datetime(pythonquestions[\"CreationDate\"])"
   ]
  },
  {
   "cell_type": "code",
   "execution_count": 84,
   "metadata": {
    "collapsed": true
   },
   "outputs": [],
   "source": [
    "from datetime import datetime"
   ]
  },
  {
   "cell_type": "code",
   "execution_count": 85,
   "metadata": {
    "collapsed": true
   },
   "outputs": [],
   "source": [
    "mask4 = (pythonquestions['CreationDate'] >= datetime.strptime('2008-10-15', '%Y-%m-%d')) & (pythonquestions['CreationDate'] <= datetime.strptime('2016-10-12', '%Y-%m-%d'))"
   ]
  },
  {
   "cell_type": "code",
   "execution_count": 86,
   "metadata": {
    "collapsed": true
   },
   "outputs": [],
   "source": [
    "pythonquestions = pythonquestions.loc[mask4, :]"
   ]
  },
  {
   "cell_type": "code",
   "execution_count": 87,
   "metadata": {
    "collapsed": true
   },
   "outputs": [],
   "source": [
    "pythontags = pd.read_csv(\"Python Tags.csv\")\n",
    "pythontags.rename(columns={'Id':'QuestionId', 'Tag':'QuestTags'}, inplace=True)"
   ]
  },
  {
   "cell_type": "code",
   "execution_count": 88,
   "metadata": {
    "collapsed": true
   },
   "outputs": [],
   "source": [
    "pythonquestionstags = pd.merge(pythonquestions, pythontags, on='QuestionId')"
   ]
  },
  {
   "cell_type": "code",
   "execution_count": 89,
   "metadata": {
    "collapsed": true
   },
   "outputs": [],
   "source": [
    "pythonquestionstags.ix[(pythonquestionstags['CreationDate'] >= datetime.strptime('2008-10-15', '%Y-%m-%d')) & (pythonquestionstags['CreationDate'] < datetime.strptime('2009-10-15', '%Y-%m-%d')), 'QuestCreationYear'] = \"Oct'08-09\"\n",
    "pythonquestionstags.ix[(pythonquestionstags['CreationDate'] >= datetime.strptime('2009-10-15', '%Y-%m-%d')) & (pythonquestionstags['CreationDate'] < datetime.strptime('2010-10-15', '%Y-%m-%d')), 'QuestCreationYear'] = \"Oct'09-10\"\n",
    "pythonquestionstags.ix[(pythonquestionstags['CreationDate'] >= datetime.strptime('2010-10-15', '%Y-%m-%d')) & (pythonquestionstags['CreationDate'] < datetime.strptime('2011-10-15', '%Y-%m-%d')), 'QuestCreationYear'] = \"Oct'10-11\"\n",
    "pythonquestionstags.ix[(pythonquestionstags['CreationDate'] >= datetime.strptime('2011-10-15', '%Y-%m-%d')) & (pythonquestionstags['CreationDate'] < datetime.strptime('2012-10-15', '%Y-%m-%d')), 'QuestCreationYear'] = \"Oct'11-12\"\n",
    "pythonquestionstags.ix[(pythonquestionstags['CreationDate'] >= datetime.strptime('2012-10-15', '%Y-%m-%d')) & (pythonquestionstags['CreationDate'] < datetime.strptime('2013-10-15', '%Y-%m-%d')), 'QuestCreationYear'] = \"Oct'12-13\"\n",
    "pythonquestionstags.ix[(pythonquestionstags['CreationDate'] >= datetime.strptime('2013-10-15', '%Y-%m-%d')) & (pythonquestionstags['CreationDate'] < datetime.strptime('2014-10-15', '%Y-%m-%d')), 'QuestCreationYear'] = \"Oct'13-14\"\n",
    "pythonquestionstags.ix[(pythonquestionstags['CreationDate'] >= datetime.strptime('2014-10-15', '%Y-%m-%d')) & (pythonquestionstags['CreationDate'] < datetime.strptime('2015-10-15', '%Y-%m-%d')), 'QuestCreationYear'] = \"Oct'14-15\"\n",
    "pythonquestionstags.ix[(pythonquestionstags['CreationDate'] >= datetime.strptime('2015-10-15', '%Y-%m-%d')) & (pythonquestionstags['CreationDate'] < datetime.strptime('2016-10-15', '%Y-%m-%d')), 'QuestCreationYear'] = \"Oct'15-16\""
   ]
  },
  {
   "cell_type": "code",
   "execution_count": 90,
   "metadata": {
    "collapsed": true
   },
   "outputs": [],
   "source": [
    "pythonquestionstags.rename(columns={'QuestTags_x':'QuestTagsList', 'QuestTags_y':'QuestTags'}, inplace=True)"
   ]
  },
  {
   "cell_type": "markdown",
   "metadata": {},
   "source": [
    "# Graph Plot 1: Number of Python Questions Created Every Year"
   ]
  },
  {
   "cell_type": "code",
   "execution_count": 91,
   "metadata": {
    "collapsed": false
   },
   "outputs": [
    {
     "data": {
      "image/png": "[encoded data removed]",
      "text/plain": [
       "<matplotlib.figure.Figure at 0x1ce10ccc0>"
      ]
     },
     "metadata": {},
     "output_type": "display_data"
    }
   ],
   "source": [
    "#number of tags used over the years\n",
    "%matplotlib inline\n",
    "import seaborn as sns\n",
    "ax = sns.countplot(x=\"QuestCreationYear\", data=pythonquestionstags)"
   ]
  },
  {
   "cell_type": "code",
   "execution_count": 92,
   "metadata": {
    "collapsed": true
   },
   "outputs": [],
   "source": [
    "pythonquestionstags.QuestTagsList = pythonquestionstags.QuestTagsList.apply(lambda x: x.replace('[', '').replace(']', ''))"
   ]
  },
  {
   "cell_type": "code",
   "execution_count": 93,
   "metadata": {
    "collapsed": true
   },
   "outputs": [],
   "source": [
    "pythonquestionstags.QuestTagsList = pythonquestionstags.QuestTagsList.apply(lambda x: x.split(\",\"))"
   ]
  },
  {
   "cell_type": "code",
   "execution_count": 94,
   "metadata": {
    "collapsed": true
   },
   "outputs": [],
   "source": [
    "pythonquestionstags['TagCount'] = pythonquestionstags.QuestTagsList.apply(len)"
   ]
  },
  {
   "cell_type": "code",
   "execution_count": 95,
   "metadata": {
    "collapsed": true
   },
   "outputs": [],
   "source": [
    "pythonYearQuestTag = pd.DataFrame(pythonquestionstags.groupby('QuestCreationYear').QuestTags.value_counts().rename('YearTagCount')).reset_index()"
   ]
  },
  {
   "cell_type": "code",
   "execution_count": 96,
   "metadata": {
    "collapsed": true
   },
   "outputs": [],
   "source": [
    "pythonTopYearQuestTag = pythonYearQuestTag.groupby('QuestCreationYear').head(10)"
   ]
  },
  {
   "cell_type": "code",
   "execution_count": 97,
   "metadata": {
    "collapsed": true
   },
   "outputs": [],
   "source": [
    "pythonYearCount = pythonYearQuestTag.groupby('QuestCreationYear').YearTagCount.agg('sum').rename('TotalYearCount').reset_index()"
   ]
  },
  {
   "cell_type": "code",
   "execution_count": 98,
   "metadata": {
    "collapsed": true
   },
   "outputs": [],
   "source": [
    "pythonTopYearQuestTag = pd.merge(pythonTopYearQuestTag, pythonYearCount, on='QuestCreationYear')"
   ]
  },
  {
   "cell_type": "code",
   "execution_count": 99,
   "metadata": {
    "collapsed": true
   },
   "outputs": [],
   "source": [
    "pythonTopYearQuestTag['Percentage'] = pythonTopYearQuestTag.YearTagCount * 100 / pythonTopYearQuestTag.TotalYearCount"
   ]
  },
  {
   "cell_type": "code",
   "execution_count": 100,
   "metadata": {
    "collapsed": true
   },
   "outputs": [],
   "source": [
    "pythonTomerge = pythonTopYearQuestTag.groupby('QuestCreationYear').YearTagCount.agg('sum').rename('TopTagTotalCount').reset_index()"
   ]
  },
  {
   "cell_type": "code",
   "execution_count": 101,
   "metadata": {
    "collapsed": true
   },
   "outputs": [],
   "source": [
    "pythonTopYearQuestTag = pd.merge(pythonTopYearQuestTag, pythonTomerge, on='QuestCreationYear')"
   ]
  },
  {
   "cell_type": "code",
   "execution_count": 102,
   "metadata": {
    "collapsed": true
   },
   "outputs": [],
   "source": [
    "pythonTopYearQuestTag['PercentageAmongstTop'] = pythonTopYearQuestTag.YearTagCount * 100 / pythonTopYearQuestTag.TopTagTotalCount"
   ]
  },
  {
   "cell_type": "code",
   "execution_count": 103,
   "metadata": {
    "collapsed": true
   },
   "outputs": [],
   "source": [
    "pythonTopYearQuestTag.sort_values(['QuestCreationYear', 'QuestTags'], inplace=True)"
   ]
  },
  {
   "cell_type": "markdown",
   "metadata": {},
   "source": [
    "# Graph Plot 2: Change in Top 10 Python Tags Used Over the Years"
   ]
  },
  {
   "cell_type": "code",
   "execution_count": 104,
   "metadata": {
    "collapsed": false
   },
   "outputs": [
    {
     "data": {
      "text/html": [
       "\n",
       "    <div class=\"bk-root\">\n",
       "        <a href=\"http://bokeh.pydata.org\" target=\"_blank\" class=\"bk-logo bk-logo-small bk-logo-notebook\"></a>\n",
       "        <span id=\"56ff0b7a-92fd-408b-9050-3bd1c53262e3\">Loading BokehJS ...</span>\n",
       "    </div>"
      ]
     },
     "metadata": {},
     "output_type": "display_data"
    },
    {
     "data": {
      "application/javascript": [
       "\n",
       "(function(global) {\n",
       "  function now() {\n",
       "    return new Date();\n",
       "  }\n",
       "\n",
       "  var force = \"1\";\n",
       "\n",
       "  if (typeof (window._bokeh_onload_callbacks) === \"undefined\" || force !== \"\") {\n",
       "    window._bokeh_onload_callbacks = [];\n",
       "    window._bokeh_is_loading = undefined;\n",
       "  }\n",
       "\n",
       "\n",
       "  \n",
       "  if (typeof (window._bokeh_timeout) === \"undefined\" || force !== \"\") {\n",
       "    window._bokeh_timeout = Date.now() + 5000;\n",
       "    window._bokeh_failed_load = false;\n",
       "  }\n",
       "\n",
       "  var NB_LOAD_WARNING = {'data': {'text/html':\n",
       "     \"<div style='background-color: #fdd'>\\n\"+\n",
       "     \"<p>\\n\"+\n",
       "     \"BokehJS does not appear to have successfully loaded. If loading BokehJS from CDN, this \\n\"+\n",
       "     \"may be due to a slow or bad network connection. Possible fixes:\\n\"+\n",
       "     \"</p>\\n\"+\n",
       "     \"<ul>\\n\"+\n",
       "     \"<li>re-rerun `output_notebook()` to attempt to load from CDN again, or</li>\\n\"+\n",
       "     \"<li>use INLINE resources instead, as so:</li>\\n\"+\n",
       "     \"</ul>\\n\"+\n",
       "     \"<code>\\n\"+\n",
       "     \"from bokeh.resources import INLINE\\n\"+\n",
       "     \"output_notebook(resources=INLINE)\\n\"+\n",
       "     \"</code>\\n\"+\n",
       "     \"</div>\"}};\n",
       "\n",
       "  function display_loaded() {\n",
       "    if (window.Bokeh !== undefined) {\n",
       "      Bokeh.$(\"#56ff0b7a-92fd-408b-9050-3bd1c53262e3\").text(\"BokehJS successfully loaded.\");\n",
       "    } else if (Date.now() < window._bokeh_timeout) {\n",
       "      setTimeout(display_loaded, 100)\n",
       "    }\n",
       "  }\n",
       "\n",
       "  function run_callbacks() {\n",
       "    window._bokeh_onload_callbacks.forEach(function(callback) { callback() });\n",
       "    delete window._bokeh_onload_callbacks\n",
       "    console.info(\"Bokeh: all callbacks have finished\");\n",
       "  }\n",
       "\n",
       "  function load_libs(js_urls, callback) {\n",
       "    window._bokeh_onload_callbacks.push(callback);\n",
       "    if (window._bokeh_is_loading > 0) {\n",
       "      console.log(\"Bokeh: BokehJS is being loaded, scheduling callback at\", now());\n",
       "      return null;\n",
       "    }\n",
       "    if (js_urls == null || js_urls.length === 0) {\n",
       "      run_callbacks();\n",
       "      return null;\n",
       "    }\n",
       "    console.log(\"Bokeh: BokehJS not loaded, scheduling load and callback at\", now());\n",
       "    window._bokeh_is_loading = js_urls.length;\n",
       "    for (var i = 0; i < js_urls.length; i++) {\n",
       "      var url = js_urls[i];\n",
       "      var s = document.createElement('script');\n",
       "      s.src = url;\n",
       "      s.async = false;\n",
       "      s.onreadystatechange = s.onload = function() {\n",
       "        window._bokeh_is_loading--;\n",
       "        if (window._bokeh_is_loading === 0) {\n",
       "          console.log(\"Bokeh: all BokehJS libraries loaded\");\n",
       "          run_callbacks()\n",
       "        }\n",
       "      };\n",
       "      s.onerror = function() {\n",
       "        console.warn(\"failed to load library \" + url);\n",
       "      };\n",
       "      console.log(\"Bokeh: injecting script tag for BokehJS library: \", url);\n",
       "      document.getElementsByTagName(\"head\")[0].appendChild(s);\n",
       "    }\n",
       "  };var element = document.getElementById(\"56ff0b7a-92fd-408b-9050-3bd1c53262e3\");\n",
       "  if (element == null) {\n",
       "    console.log(\"Bokeh: ERROR: autoload.js configured with elementid '56ff0b7a-92fd-408b-9050-3bd1c53262e3' but no matching script tag was found. \")\n",
       "    return false;\n",
       "  }\n",
       "\n",
       "  var js_urls = ['https://cdn.pydata.org/bokeh/release/bokeh-0.12.2.min.js', 'https://cdn.pydata.org/bokeh/release/bokeh-widgets-0.12.2.min.js', 'https://cdn.pydata.org/bokeh/release/bokeh-compiler-0.12.2.min.js'];\n",
       "\n",
       "  var inline_js = [\n",
       "    function(Bokeh) {\n",
       "      Bokeh.set_log_level(\"info\");\n",
       "    },\n",
       "    \n",
       "    function(Bokeh) {\n",
       "      \n",
       "      Bokeh.$(\"#56ff0b7a-92fd-408b-9050-3bd1c53262e3\").text(\"BokehJS is loading...\");\n",
       "    },\n",
       "    function(Bokeh) {\n",
       "      console.log(\"Bokeh: injecting CSS: https://cdn.pydata.org/bokeh/release/bokeh-0.12.2.min.css\");\n",
       "      Bokeh.embed.inject_css(\"https://cdn.pydata.org/bokeh/release/bokeh-0.12.2.min.css\");\n",
       "      console.log(\"Bokeh: injecting CSS: https://cdn.pydata.org/bokeh/release/bokeh-widgets-0.12.2.min.css\");\n",
       "      Bokeh.embed.inject_css(\"https://cdn.pydata.org/bokeh/release/bokeh-widgets-0.12.2.min.css\");\n",
       "    }\n",
       "  ];\n",
       "\n",
       "  function run_inline_js() {\n",
       "    \n",
       "    if ((window.Bokeh !== undefined) || (force === \"1\")) {\n",
       "      for (var i = 0; i < inline_js.length; i++) {\n",
       "        inline_js[i](window.Bokeh);\n",
       "      }if (force === \"1\") {\n",
       "        display_loaded();\n",
       "      }} else if (Date.now() < window._bokeh_timeout) {\n",
       "      setTimeout(run_inline_js, 100);\n",
       "    } else if (!window._bokeh_failed_load) {\n",
       "      console.log(\"Bokeh: BokehJS failed to load within specified timeout.\");\n",
       "      window._bokeh_failed_load = true;\n",
       "    } else if (!force) {\n",
       "      var cell = $(\"#56ff0b7a-92fd-408b-9050-3bd1c53262e3\").parents('.cell').data().cell;\n",
       "      cell.output_area.append_execute_result(NB_LOAD_WARNING)\n",
       "    }\n",
       "\n",
       "  }\n",
       "\n",
       "  if (window._bokeh_is_loading === 0) {\n",
       "    console.log(\"Bokeh: BokehJS loaded, going straight to plotting\");\n",
       "    run_inline_js();\n",
       "  } else {\n",
       "    load_libs(js_urls, function() {\n",
       "      console.log(\"Bokeh: BokehJS plotting callback run at\", now());\n",
       "      run_inline_js();\n",
       "    });\n",
       "  }\n",
       "}(this));"
      ]
     },
     "metadata": {},
     "output_type": "display_data"
    },
    {
     "data": {
      "text/html": [
       "\n",
       "\n",
       "    <div class=\"bk-root\">\n",
       "        <div class=\"plotdiv\" id=\"0f770ebd-0f15-477d-99a9-3dd35b905cee\"></div>\n",
       "    </div>\n",
       "<script type=\"text/javascript\">\n",
       "  \n",
       "  (function(global) {\n",
       "    function now() {\n",
       "      return new Date();\n",
       "    }\n",
       "  \n",
       "    var force = \"\";\n",
       "  \n",
       "    if (typeof (window._bokeh_onload_callbacks) === \"undefined\" || force !== \"\") {\n",
       "      window._bokeh_onload_callbacks = [];\n",
       "      window._bokeh_is_loading = undefined;\n",
       "    }\n",
       "  \n",
       "  \n",
       "    \n",
       "    if (typeof (window._bokeh_timeout) === \"undefined\" || force !== \"\") {\n",
       "      window._bokeh_timeout = Date.now() + 0;\n",
       "      window._bokeh_failed_load = false;\n",
       "    }\n",
       "  \n",
       "    var NB_LOAD_WARNING = {'data': {'text/html':\n",
       "       \"<div style='background-color: #fdd'>\\n\"+\n",
       "       \"<p>\\n\"+\n",
       "       \"BokehJS does not appear to have successfully loaded. If loading BokehJS from CDN, this \\n\"+\n",
       "       \"may be due to a slow or bad network connection. Possible fixes:\\n\"+\n",
       "       \"</p>\\n\"+\n",
       "       \"<ul>\\n\"+\n",
       "       \"<li>re-rerun `output_notebook()` to attempt to load from CDN again, or</li>\\n\"+\n",
       "       \"<li>use INLINE resources instead, as so:</li>\\n\"+\n",
       "       \"</ul>\\n\"+\n",
       "       \"<code>\\n\"+\n",
       "       \"from bokeh.resources import INLINE\\n\"+\n",
       "       \"output_notebook(resources=INLINE)\\n\"+\n",
       "       \"</code>\\n\"+\n",
       "       \"</div>\"}};\n",
       "  \n",
       "    function display_loaded() {\n",
       "      if (window.Bokeh !== undefined) {\n",
       "        Bokeh.$(\"#0f770ebd-0f15-477d-99a9-3dd35b905cee\").text(\"BokehJS successfully loaded.\");\n",
       "      } else if (Date.now() < window._bokeh_timeout) {\n",
       "        setTimeout(display_loaded, 100)\n",
       "      }\n",
       "    }\n",
       "  \n",
       "    function run_callbacks() {\n",
       "      window._bokeh_onload_callbacks.forEach(function(callback) { callback() });\n",
       "      delete window._bokeh_onload_callbacks\n",
       "      console.info(\"Bokeh: all callbacks have finished\");\n",
       "    }\n",
       "  \n",
       "    function load_libs(js_urls, callback) {\n",
       "      window._bokeh_onload_callbacks.push(callback);\n",
       "      if (window._bokeh_is_loading > 0) {\n",
       "        console.log(\"Bokeh: BokehJS is being loaded, scheduling callback at\", now());\n",
       "        return null;\n",
       "      }\n",
       "      if (js_urls == null || js_urls.length === 0) {\n",
       "        run_callbacks();\n",
       "        return null;\n",
       "      }\n",
       "      console.log(\"Bokeh: BokehJS not loaded, scheduling load and callback at\", now());\n",
       "      window._bokeh_is_loading = js_urls.length;\n",
       "      for (var i = 0; i < js_urls.length; i++) {\n",
       "        var url = js_urls[i];\n",
       "        var s = document.createElement('script');\n",
       "        s.src = url;\n",
       "        s.async = false;\n",
       "        s.onreadystatechange = s.onload = function() {\n",
       "          window._bokeh_is_loading--;\n",
       "          if (window._bokeh_is_loading === 0) {\n",
       "            console.log(\"Bokeh: all BokehJS libraries loaded\");\n",
       "            run_callbacks()\n",
       "          }\n",
       "        };\n",
       "        s.onerror = function() {\n",
       "          console.warn(\"failed to load library \" + url);\n",
       "        };\n",
       "        console.log(\"Bokeh: injecting script tag for BokehJS library: \", url);\n",
       "        document.getElementsByTagName(\"head\")[0].appendChild(s);\n",
       "      }\n",
       "    };var element = document.getElementById(\"0f770ebd-0f15-477d-99a9-3dd35b905cee\");\n",
       "    if (element == null) {\n",
       "      console.log(\"Bokeh: ERROR: autoload.js configured with elementid '0f770ebd-0f15-477d-99a9-3dd35b905cee' but no matching script tag was found. \")\n",
       "      return false;\n",
       "    }\n",
       "  \n",
       "    var js_urls = [];\n",
       "  \n",
       "    var inline_js = [\n",
       "      function(Bokeh) {\n",
       "        Bokeh.$(function() {\n",
       "            var docs_json = {\"9b629626-b123-4194-ad7f-03568a71fbdd\":{\"roots\":{\"references\":[{\"attributes\":{\"fill_alpha\":{\"field\":\"fill_alpha\"},\"fill_color\":{\"field\":\"color\"},\"height\":{\"field\":\"height\",\"units\":\"data\"},\"line_color\":{\"field\":\"line_color\"},\"width\":{\"field\":\"width\",\"units\":\"data\"},\"x\":{\"field\":\"x\"},\"y\":{\"field\":\"y\"}},\"id\":\"865dcb71-9ce3-44be-92fd-6cf6c9246ef3\",\"type\":\"Rect\"},{\"attributes\":{\"callback\":null,\"column_names\":[\"line_color\",\"height\",\"x\",\"fill_alpha\",\"width\",\"label\",\"line_alpha\",\"color\",\"y\"],\"data\":{\"PercentageAmongstTop\":[2.2820810353894228],\"QuestCreationYear\":[\"Oct'15-16\"],\"QuestTags\":[\"matplotlib\"],\"YearTagCount\":[5251],\"chart_index\":[{\"PercentageAmongstTop\":2.2820810353894228,\"QuestCreationYear\":\"Oct'15-16\",\"QuestTags\":\"matplotlib\",\"YearTagCount\":5251}],\"color\":[\"#ADD8E6\"],\"fill_alpha\":[0.8],\"height\":[2.2820810353894228],\"label\":[{\"PercentageAmongstTop\":2.2820810353894228,\"QuestCreationYear\":\"Oct'15-16\",\"QuestTags\":\"matplotlib\",\"YearTagCount\":5251}],\"line_alpha\":[1.0],\"line_color\":[\"#D3D3D3\"],\"width\":[1.0],\"x\":[\"Oct'15-16\"],\"y\":[12.295032095159868]}},\"id\":\"30d522f1-4389-4524-9e0a-0006a79e5eb8\",\"type\":\"ColumnDataSource\"},{\"attributes\":{\"data_source\":{\"id\":\"5250c375-a549-4234-a82f-cc9e66e24582\",\"type\":\"ColumnDataSource\"},\"glyph\":{\"id\":\"41e9f7df-047e-493b-b451-f6c55cdf4136\",\"type\":\"Rect\"},\"hover_glyph\":null,\"nonselection_glyph\":null,\"selection_glyph\":null},\"id\":\"67f6a00a-63af-49ba-b8c8-94c39f5bbef9\",\"type\":\"GlyphRenderer\"},{\"attributes\":{\"callback\":null,\"column_names\":[\"line_color\",\"height\",\"x\",\"fill_alpha\",\"width\",\"label\",\"line_alpha\",\"color\",\"y\"],\"data\":{\"PercentageAmongstTop\":[1.9096294171588504],\"QuestCreationYear\":[\"Oct'15-16\"],\"QuestTags\":[\"list\"],\"YearTagCount\":[4394],\"chart_index\":[{\"PercentageAmongstTop\":1.9096294171588504,\"QuestCreationYear\":\"Oct'15-16\",\"QuestTags\":\"list\",\"YearTagCount\":4394}],\"color\":[\"#90EE90\"],\"fill_alpha\":[0.8],\"height\":[1.9096294171588504],\"label\":[{\"PercentageAmongstTop\":1.9096294171588504,\"QuestCreationYear\":\"Oct'15-16\",\"QuestTags\":\"list\",\"YearTagCount\":4394}],\"line_alpha\":[1.0],\"line_color\":[\"#E6E6FA\"],\"width\":[1.0],\"x\":[\"Oct'15-16\"],\"y\":[10.199176868885731]}},\"id\":\"5aefcb1b-c760-4dfd-8b94-0ecc694c0736\",\"type\":\"ColumnDataSource\"},{\"attributes\":{\"callback\":null,\"column_names\":[\"line_color\",\"height\",\"x\",\"fill_alpha\",\"width\",\"label\",\"line_alpha\",\"color\",\"y\"],\"data\":{\"PercentageAmongstTop\":[2.4069424735290905],\"QuestCreationYear\":[\"Oct'11-12\"],\"QuestTags\":[\"google-app-engine\"],\"YearTagCount\":[1764],\"chart_index\":[{\"PercentageAmongstTop\":2.4069424735290905,\"QuestCreationYear\":\"Oct'11-12\",\"QuestTags\":\"google-app-engine\",\"YearTagCount\":1764}],\"color\":[\"#FFF0F5\"],\"fill_alpha\":[0.8],\"height\":[2.4069424735290905],\"label\":[{\"PercentageAmongstTop\":2.4069424735290905,\"QuestCreationYear\":\"Oct'11-12\",\"QuestTags\":\"google-app-engine\",\"YearTagCount\":1764}],\"line_alpha\":[1.0],\"line_color\":[\"#40E0D0\"],\"width\":[1.0],\"x\":[\"Oct'11-12\"],\"y\":[9.726012444056327]}},\"id\":\"aab417a2-0c2f-43db-9a6b-b2e97d833fc3\",\"type\":\"ColumnDataSource\"},{\"attributes\":{\"callback\":null,\"column_names\":[\"line_color\",\"height\",\"x\",\"fill_alpha\",\"width\",\"label\",\"line_alpha\",\"color\",\"y\"],\"data\":{\"PercentageAmongstTop\":[1.7560855801768367],\"QuestCreationYear\":[\"Oct'11-12\"],\"QuestTags\":[\"python-2.7\"],\"YearTagCount\":[1287],\"chart_index\":[{\"PercentageAmongstTop\":1.7560855801768367,\"QuestCreationYear\":\"Oct'11-12\",\"QuestTags\":\"python-2.7\",\"YearTagCount\":1287}],\"color\":[\"#FFA07A\"],\"fill_alpha\":[0.8],\"height\":[1.7560855801768367],\"label\":[{\"PercentageAmongstTop\":1.7560855801768367,\"QuestCreationYear\":\"Oct'11-12\",\"QuestTags\":\"python-2.7\",\"YearTagCount\":1287}],\"line_alpha\":[1.0],\"line_color\":[\"#20B2AA\"],\"width\":[1.0],\"x\":[\"Oct'11-12\"],\"y\":[94.23711931011897]}},\"id\":\"77ef099c-7137-49ec-bb77-f52b1ce9960d\",\"type\":\"ColumnDataSource\"},{\"attributes\":{\"fill_alpha\":{\"field\":\"fill_alpha\"},\"fill_color\":{\"field\":\"color\"},\"height\":{\"field\":\"height\",\"units\":\"data\"},\"line_color\":{\"field\":\"line_color\"},\"width\":{\"field\":\"width\",\"units\":\"data\"},\"x\":{\"field\":\"x\"},\"y\":{\"field\":\"y\"}},\"id\":\"90c8dc7f-9b15-4eb8-b66a-6792e5eb561a\",\"type\":\"Rect\"},{\"attributes\":{\"callback\":null,\"column_names\":[\"line_color\",\"height\",\"x\",\"fill_alpha\",\"width\",\"label\",\"line_alpha\",\"color\",\"y\"],\"data\":{\"PercentageAmongstTop\":[1.8294131622713234],\"QuestCreationYear\":[\"Oct'08-09\"],\"QuestTags\":[\"windows\"],\"YearTagCount\":[231],\"chart_index\":[{\"PercentageAmongstTop\":1.8294131622713234,\"QuestCreationYear\":\"Oct'08-09\",\"QuestTags\":\"windows\",\"YearTagCount\":231}],\"color\":[\"#4B0082\"],\"fill_alpha\":[0.8],\"height\":[1.8294131622713234],\"label\":[{\"PercentageAmongstTop\":1.8294131622713234,\"QuestCreationYear\":\"Oct'08-09\",\"QuestTags\":\"windows\",\"YearTagCount\":231}],\"line_alpha\":[1.0],\"line_color\":[\"#90EE90\"],\"width\":[1.0],\"x\":[\"Oct'08-09\"],\"y\":[97.8656846440168]}},\"id\":\"74cb373c-0321-470a-bca6-01c05d737cd9\",\"type\":\"ColumnDataSource\"},{\"attributes\":{\"callback\":null,\"column_names\":[\"line_color\",\"height\",\"x\",\"fill_alpha\",\"width\",\"label\",\"line_alpha\",\"color\",\"y\"],\"data\":{\"PercentageAmongstTop\":[1.8778560339610395],\"QuestCreationYear\":[\"Oct'12-13\"],\"QuestTags\":[\"regex\"],\"YearTagCount\":[2141],\"chart_index\":[{\"PercentageAmongstTop\":1.8778560339610395,\"QuestCreationYear\":\"Oct'12-13\",\"QuestTags\":\"regex\",\"YearTagCount\":2141}],\"color\":[\"#9370DB\"],\"fill_alpha\":[0.8],\"height\":[1.8778560339610395],\"label\":[{\"PercentageAmongstTop\":1.8778560339610395,\"QuestCreationYear\":\"Oct'12-13\",\"QuestTags\":\"regex\",\"YearTagCount\":2141}],\"line_alpha\":[1.0],\"line_color\":[\"#FFF0F5\"],\"width\":[1.0],\"x\":[\"Oct'12-13\"],\"y\":[99.06107198301949]}},\"id\":\"87dfc5e8-78a1-4eb7-b89b-f31cf054a9c6\",\"type\":\"ColumnDataSource\"},{\"attributes\":{\"callback\":null,\"column_names\":[\"line_color\",\"height\",\"x\",\"fill_alpha\",\"width\",\"label\",\"line_alpha\",\"color\",\"y\"],\"data\":{\"PercentageAmongstTop\":[1.1519814080217974],\"QuestCreationYear\":[\"Oct'10-11\"],\"QuestTags\":[\"python-3.x\"],\"YearTagCount\":[575],\"chart_index\":[{\"PercentageAmongstTop\":1.1519814080217974,\"QuestCreationYear\":\"Oct'10-11\",\"QuestTags\":\"python-3.x\",\"YearTagCount\":575}],\"color\":[\"#778899\"],\"fill_alpha\":[0.8],\"height\":[1.1519814080217974],\"label\":[{\"PercentageAmongstTop\":1.1519814080217974,\"QuestCreationYear\":\"Oct'10-11\",\"QuestTags\":\"python-3.x\",\"YearTagCount\":575}],\"line_alpha\":[1.0],\"line_color\":[\"#4B0082\"],\"width\":[1.0],\"x\":[\"Oct'10-11\"],\"y\":[96.08426493568939]}},\"id\":\"64aeeee2-bd4a-44a2-9f41-f61a6383b993\",\"type\":\"ColumnDataSource\"},{\"attributes\":{\"fill_alpha\":{\"field\":\"fill_alpha\"},\"fill_color\":{\"field\":\"color\"},\"height\":{\"field\":\"height\",\"units\":\"data\"},\"line_color\":{\"field\":\"line_color\"},\"width\":{\"field\":\"width\",\"units\":\"data\"},\"x\":{\"field\":\"x\"},\"y\":{\"field\":\"y\"}},\"id\":\"2b4c9b60-7692-4c0f-80b8-0e959edc3bb7\",\"type\":\"Rect\"},{\"attributes\":{\"callback\":null,\"column_names\":[\"line_color\",\"height\",\"x\",\"fill_alpha\",\"width\",\"label\",\"line_alpha\",\"color\",\"y\"],\"data\":{\"PercentageAmongstTop\":[1.7689135197834773],\"QuestCreationYear\":[\"Oct'09-10\"],\"QuestTags\":[\"regex\"],\"YearTagCount\":[549],\"chart_index\":[{\"PercentageAmongstTop\":1.7689135197834773,\"QuestCreationYear\":\"Oct'09-10\",\"QuestTags\":\"regex\",\"YearTagCount\":549}],\"color\":[\"#9370DB\"],\"fill_alpha\":[0.8],\"height\":[1.7689135197834773],\"label\":[{\"PercentageAmongstTop\":1.7689135197834773,\"QuestCreationYear\":\"Oct'09-10\",\"QuestTags\":\"regex\",\"YearTagCount\":549}],\"line_alpha\":[1.0],\"line_color\":[\"#9370DB\"],\"width\":[1.0],\"x\":[\"Oct'09-10\"],\"y\":[96.3026807578296]}},\"id\":\"2855a0ab-c517-4294-92a7-7367f8cb1af9\",\"type\":\"ColumnDataSource\"},{\"attributes\":{\"data_source\":{\"id\":\"7e9bb818-3b93-4317-bf9d-0ac748cd2f6b\",\"type\":\"ColumnDataSource\"},\"glyph\":{\"id\":\"0fd6deff-271c-4e4c-81e8-fb49b4b11aee\",\"type\":\"Rect\"},\"hover_glyph\":null,\"nonselection_glyph\":null,\"selection_glyph\":null},\"id\":\"549eab0f-25e7-4e89-ac2b-987ed155080d\",\"type\":\"GlyphRenderer\"},{\"attributes\":{\"axis_label\":\"Percentage of Top Tags Used in Questions Yearly (%)\",\"formatter\":{\"id\":\"feed7ab9-30d7-457d-a64b-2444b7fbc31d\",\"type\":\"BasicTickFormatter\"},\"plot\":{\"id\":\"1b78b77b-5f82-4602-b1cb-463026b3d4b9\",\"subtype\":\"Chart\",\"type\":\"Plot\"},\"ticker\":{\"id\":\"7ec7da00-04cf-4ac1-b216-a69b5a636d09\",\"type\":\"BasicTicker\"}},\"id\":\"c2e5617a-8dba-414c-9b10-3fd3eccd5bf0\",\"type\":\"LinearAxis\"},{\"attributes\":{\"fill_alpha\":{\"field\":\"fill_alpha\"},\"fill_color\":{\"field\":\"color\"},\"height\":{\"field\":\"height\",\"units\":\"data\"},\"line_color\":{\"field\":\"line_color\"},\"width\":{\"field\":\"width\",\"units\":\"data\"},\"x\":{\"field\":\"x\"},\"y\":{\"field\":\"y\"}},\"id\":\"4154ab95-0c10-4b4f-82e7-f9c14f18bebb\",\"type\":\"Rect\"},{\"attributes\":{\"fill_alpha\":{\"field\":\"fill_alpha\"},\"fill_color\":{\"field\":\"color\"},\"height\":{\"field\":\"height\",\"units\":\"data\"},\"line_color\":{\"field\":\"line_color\"},\"width\":{\"field\":\"width\",\"units\":\"data\"},\"x\":{\"field\":\"x\"},\"y\":{\"field\":\"y\"}},\"id\":\"e4a9c499-afa6-4ce1-b110-d4b0eab42f17\",\"type\":\"Rect\"},{\"attributes\":{\"data_source\":{\"id\":\"92d6bf81-9803-4677-a76e-9d65e8cf27e8\",\"type\":\"ColumnDataSource\"},\"glyph\":{\"id\":\"865dcb71-9ce3-44be-92fd-6cf6c9246ef3\",\"type\":\"Rect\"},\"hover_glyph\":null,\"nonselection_glyph\":null,\"selection_glyph\":null},\"id\":\"c05bcbd4-3fb2-4f93-9798-8660a03a48db\",\"type\":\"GlyphRenderer\"},{\"attributes\":{\"data_source\":{\"id\":\"95a87a2f-b974-4c28-bbe9-2c955f14b7f2\",\"type\":\"ColumnDataSource\"},\"glyph\":{\"id\":\"0782d6e7-4581-48f2-9bbb-4f781b7bd0e8\",\"type\":\"Rect\"},\"hover_glyph\":null,\"nonselection_glyph\":null,\"selection_glyph\":null},\"id\":\"14f32203-ca18-4762-bf2a-e73c7c7e07b6\",\"type\":\"GlyphRenderer\"},{\"attributes\":{\"fill_alpha\":{\"field\":\"fill_alpha\"},\"fill_color\":{\"field\":\"color\"},\"height\":{\"field\":\"height\",\"units\":\"data\"},\"line_color\":{\"field\":\"line_color\"},\"width\":{\"field\":\"width\",\"units\":\"data\"},\"x\":{\"field\":\"x\"},\"y\":{\"field\":\"y\"}},\"id\":\"01f2026a-87eb-491d-b339-c17d44434380\",\"type\":\"Rect\"},{\"attributes\":{\"fill_alpha\":{\"field\":\"fill_alpha\"},\"fill_color\":{\"field\":\"color\"},\"height\":{\"field\":\"height\",\"units\":\"data\"},\"line_color\":{\"field\":\"line_color\"},\"width\":{\"field\":\"width\",\"units\":\"data\"},\"x\":{\"field\":\"x\"},\"y\":{\"field\":\"y\"}},\"id\":\"e20efd2f-27fd-49f4-bc02-04dd12c11baa\",\"type\":\"Rect\"},{\"attributes\":{\"data_source\":{\"id\":\"12125e17-7160-41e9-936a-8223b254e0bd\",\"type\":\"ColumnDataSource\"},\"glyph\":{\"id\":\"d6fa136d-1adf-4171-a9a6-c0b63e9d3432\",\"type\":\"Rect\"},\"hover_glyph\":null,\"nonselection_glyph\":null,\"selection_glyph\":null},\"id\":\"b078e380-9a4c-4b48-bb94-a8f10ab3c748\",\"type\":\"GlyphRenderer\"},{\"attributes\":{\"callback\":null,\"column_names\":[\"line_color\",\"height\",\"x\",\"fill_alpha\",\"width\",\"label\",\"line_alpha\",\"color\",\"y\"],\"data\":{\"PercentageAmongstTop\":[1.1459710702408141],\"QuestCreationYear\":[\"Oct'10-11\"],\"QuestTags\":[\"matplotlib\"],\"YearTagCount\":[572],\"chart_index\":[{\"PercentageAmongstTop\":1.1459710702408141,\"QuestCreationYear\":\"Oct'10-11\",\"QuestTags\":\"matplotlib\",\"YearTagCount\":572}],\"color\":[\"#ADD8E6\"],\"fill_alpha\":[0.8],\"height\":[1.1459710702408141],\"label\":[{\"PercentageAmongstTop\":1.1459710702408141,\"QuestCreationYear\":\"Oct'10-11\",\"QuestTags\":\"matplotlib\",\"YearTagCount\":572}],\"line_alpha\":[1.0],\"line_color\":[\"#40E0D0\"],\"width\":[1.0],\"x\":[\"Oct'10-11\"],\"y\":[16.53644268141203]}},\"id\":\"f42055c0-7ee3-4cd8-a39c-f5e252c3e973\",\"type\":\"ColumnDataSource\"},{\"attributes\":{\"data_source\":{\"id\":\"741372fd-5a5a-4f1a-bb6d-e48005b11b88\",\"type\":\"ColumnDataSource\"},\"glyph\":{\"id\":\"faebd6bd-6da6-4944-8025-c5b8c48079c3\",\"type\":\"Rect\"},\"hover_glyph\":null,\"nonselection_glyph\":null,\"selection_glyph\":null},\"id\":\"3005cea1-91df-4786-8c9e-9e8ecc606955\",\"type\":\"GlyphRenderer\"},{\"attributes\":{\"callback\":null,\"column_names\":[\"line_color\",\"height\",\"x\",\"fill_alpha\",\"width\",\"label\",\"line_alpha\",\"color\",\"y\"],\"data\":{\"PercentageAmongstTop\":[76.43346556076452],\"QuestCreationYear\":[\"Oct'10-11\"],\"QuestTags\":[\"python\"],\"YearTagCount\":[38151],\"chart_index\":[{\"PercentageAmongstTop\":76.43346556076452,\"QuestCreationYear\":\"Oct'10-11\",\"QuestTags\":\"python\",\"YearTagCount\":38151}],\"color\":[\"#20B2AA\"],\"fill_alpha\":[0.8],\"height\":[76.43346556076452],\"label\":[{\"PercentageAmongstTop\":76.43346556076452,\"QuestCreationYear\":\"Oct'10-11\",\"QuestTags\":\"python\",\"YearTagCount\":38151}],\"line_alpha\":[1.0],\"line_color\":[\"#87CEFA\"],\"width\":[1.0],\"x\":[\"Oct'10-11\"],\"y\":[57.291541451296226]}},\"id\":\"24ef0f37-6f87-4125-9dca-f32ce781632e\",\"type\":\"ColumnDataSource\"},{\"attributes\":{\"fill_alpha\":{\"field\":\"fill_alpha\"},\"fill_color\":{\"field\":\"color\"},\"height\":{\"field\":\"height\",\"units\":\"data\"},\"line_color\":{\"field\":\"line_color\"},\"width\":{\"field\":\"width\",\"units\":\"data\"},\"x\":{\"field\":\"x\"},\"y\":{\"field\":\"y\"}},\"id\":\"380a0116-f0e2-4991-9593-f235132aaee4\",\"type\":\"Rect\"},{\"attributes\":{\"data_source\":{\"id\":\"7ae07cd3-a62d-471e-af55-261e485773bc\",\"type\":\"ColumnDataSource\"},\"glyph\":{\"id\":\"4bce40c7-ddec-4e4b-bd52-bacaac68c1e6\",\"type\":\"Rect\"},\"hover_glyph\":null,\"nonselection_glyph\":null,\"selection_glyph\":null},\"id\":\"e49502c5-0234-4cd4-b615-6787143dbc9a\",\"type\":\"GlyphRenderer\"},{\"attributes\":{\"data_source\":{\"id\":\"91ede8ee-d15a-420b-a386-ad56adfb4945\",\"type\":\"ColumnDataSource\"},\"glyph\":{\"id\":\"67850b72-c216-424b-ab87-ce0a00755c6d\",\"type\":\"Rect\"},\"hover_glyph\":null,\"nonselection_glyph\":null,\"selection_glyph\":null},\"id\":\"8ddffeb6-cd75-434c-8e8d-66331e9acd05\",\"type\":\"GlyphRenderer\"},{\"attributes\":{\"callback\":null,\"column_names\":[\"line_color\",\"height\",\"x\",\"fill_alpha\",\"width\",\"label\",\"line_alpha\",\"color\",\"y\"],\"data\":{\"PercentageAmongstTop\":[9.875663261265542],\"QuestCreationYear\":[\"Oct'08-09\"],\"QuestTags\":[\"django\"],\"YearTagCount\":[1247],\"chart_index\":[{\"PercentageAmongstTop\":9.875663261265542,\"QuestCreationYear\":\"Oct'08-09\",\"QuestTags\":\"django\",\"YearTagCount\":1247}],\"color\":[\"#FF6347\"],\"fill_alpha\":[0.8],\"height\":[9.875663261265542],\"label\":[{\"PercentageAmongstTop\":9.875663261265542,\"QuestCreationYear\":\"Oct'08-09\",\"QuestTags\":\"django\",\"YearTagCount\":1247}],\"line_alpha\":[1.0],\"line_color\":[\"#87CEFA\"],\"width\":[1.0],\"x\":[\"Oct'08-09\"],\"y\":[4.937831630632771]}},\"id\":\"cfe43a47-c718-4656-b72a-c3ff208beeb3\",\"type\":\"ColumnDataSource\"},{\"attributes\":{\"data_source\":{\"id\":\"74cb373c-0321-470a-bca6-01c05d737cd9\",\"type\":\"ColumnDataSource\"},\"glyph\":{\"id\":\"da889532-7317-4083-803d-cd5a70d53736\",\"type\":\"Rect\"},\"hover_glyph\":null,\"nonselection_glyph\":null,\"selection_glyph\":null},\"id\":\"7a40f6da-d956-4b32-8c17-ec512f492fbf\",\"type\":\"GlyphRenderer\"},{\"attributes\":{\"data_source\":{\"id\":\"87dfc5e8-78a1-4eb7-b89b-f31cf054a9c6\",\"type\":\"ColumnDataSource\"},\"glyph\":{\"id\":\"7d5a8717-bf8a-4ad8-80de-2311d9cb9bce\",\"type\":\"Rect\"},\"hover_glyph\":null,\"nonselection_glyph\":null,\"selection_glyph\":null},\"id\":\"87001043-ab7f-42c1-b4a8-f212845b05b4\",\"type\":\"GlyphRenderer\"},{\"attributes\":{\"data_source\":{\"id\":\"64aeeee2-bd4a-44a2-9f41-f61a6383b993\",\"type\":\"ColumnDataSource\"},\"glyph\":{\"id\":\"5a9d95de-e349-4f4c-9830-68bd1e49b70b\",\"type\":\"Rect\"},\"hover_glyph\":null,\"nonselection_glyph\":null,\"selection_glyph\":null},\"id\":\"88371662-49f9-4367-b75e-fe1ed774df51\",\"type\":\"GlyphRenderer\"},{\"attributes\":{\"callback\":null,\"column_names\":[\"line_color\",\"height\",\"x\",\"fill_alpha\",\"width\",\"label\",\"line_alpha\",\"color\",\"y\"],\"data\":{\"PercentageAmongstTop\":[1.852420338031628],\"QuestCreationYear\":[\"Oct'12-13\"],\"QuestTags\":[\"matplotlib\"],\"YearTagCount\":[2112],\"chart_index\":[{\"PercentageAmongstTop\":1.852420338031628,\"QuestCreationYear\":\"Oct'12-13\",\"QuestTags\":\"matplotlib\",\"YearTagCount\":2112}],\"color\":[\"#ADD8E6\"],\"fill_alpha\":[0.8],\"height\":[1.852420338031628],\"label\":[{\"PercentageAmongstTop\":1.852420338031628,\"QuestCreationYear\":\"Oct'12-13\",\"QuestTags\":\"matplotlib\",\"YearTagCount\":2112}],\"line_alpha\":[1.0],\"line_color\":[\"#E6E6FA\"],\"width\":[1.0],\"x\":[\"Oct'12-13\"],\"y\":[12.15913974722181]}},\"id\":\"eba5caa4-bbc4-478c-a904-e9aaf1ef8199\",\"type\":\"ColumnDataSource\"},{\"attributes\":{\"fill_alpha\":{\"field\":\"fill_alpha\"},\"fill_color\":{\"field\":\"color\"},\"height\":{\"field\":\"height\",\"units\":\"data\"},\"line_color\":{\"field\":\"line_color\"},\"width\":{\"field\":\"width\",\"units\":\"data\"},\"x\":{\"field\":\"x\"},\"y\":{\"field\":\"y\"}},\"id\":\"2bda6547-63c1-44b9-9b1b-e95b029dbc33\",\"type\":\"Rect\"},{\"attributes\":{\"callback\":null,\"column_names\":[\"line_color\",\"height\",\"x\",\"fill_alpha\",\"width\",\"label\",\"line_alpha\",\"color\",\"y\"],\"data\":{\"PercentageAmongstTop\":[1.3808536186005895],\"QuestCreationYear\":[\"Oct'11-12\"],\"QuestTags\":[\"string\"],\"YearTagCount\":[1012],\"chart_index\":[{\"PercentageAmongstTop\":1.3808536186005895,\"QuestCreationYear\":\"Oct'11-12\",\"QuestTags\":\"string\",\"YearTagCount\":1012}],\"color\":[\"#40E0D0\"],\"fill_alpha\":[0.8],\"height\":[1.3808536186005895],\"label\":[{\"PercentageAmongstTop\":1.3808536186005895,\"QuestCreationYear\":\"Oct'11-12\",\"QuestTags\":\"string\",\"YearTagCount\":1012}],\"line_alpha\":[1.0],\"line_color\":[\"#ADD8E6\"],\"width\":[1.0],\"x\":[\"Oct'11-12\"],\"y\":[99.30957319069968]}},\"id\":\"84e30a10-0352-471a-b07e-dce343ba307b\",\"type\":\"ColumnDataSource\"},{\"attributes\":{\"callback\":null,\"column_names\":[\"line_color\",\"height\",\"x\",\"fill_alpha\",\"width\",\"label\",\"line_alpha\",\"color\",\"y\"],\"data\":{\"PercentageAmongstTop\":[2.0950737107857975],\"QuestCreationYear\":[\"Oct'13-14\"],\"QuestTags\":[\"matplotlib\"],\"YearTagCount\":[3253],\"chart_index\":[{\"PercentageAmongstTop\":2.0950737107857975,\"QuestCreationYear\":\"Oct'13-14\",\"QuestTags\":\"matplotlib\",\"YearTagCount\":3253}],\"color\":[\"#ADD8E6\"],\"fill_alpha\":[0.8],\"height\":[2.0950737107857975],\"label\":[{\"PercentageAmongstTop\":2.0950737107857975,\"QuestCreationYear\":\"Oct'13-14\",\"QuestTags\":\"matplotlib\",\"YearTagCount\":3253}],\"line_alpha\":[1.0],\"line_color\":[\"#778899\"],\"width\":[1.0],\"x\":[\"Oct'13-14\"],\"y\":[12.702149173370085]}},\"id\":\"c7e52b88-0261-4c2a-b40a-acb74c31ae24\",\"type\":\"ColumnDataSource\"},{\"attributes\":{\"fill_alpha\":{\"field\":\"fill_alpha\"},\"fill_color\":{\"field\":\"color\"},\"height\":{\"field\":\"height\",\"units\":\"data\"},\"line_color\":{\"field\":\"line_color\"},\"width\":{\"field\":\"width\",\"units\":\"data\"},\"x\":{\"field\":\"x\"},\"y\":{\"field\":\"y\"}},\"id\":\"aede82c3-e67e-4de4-8696-e3c902cee87b\",\"type\":\"Rect\"},{\"attributes\":{\"fill_alpha\":{\"field\":\"fill_alpha\"},\"fill_color\":{\"field\":\"color\"},\"height\":{\"field\":\"height\",\"units\":\"data\"},\"line_color\":{\"field\":\"line_color\"},\"width\":{\"field\":\"width\",\"units\":\"data\"},\"x\":{\"field\":\"x\"},\"y\":{\"field\":\"y\"}},\"id\":\"cfaa39f3-5edb-41d9-aae7-2e056b401da7\",\"type\":\"Rect\"},{\"attributes\":{\"callback\":null,\"end\":105.0},\"id\":\"51970b7b-afdf-4b96-9688-018a7401f58e\",\"type\":\"Range1d\"},{\"attributes\":{\"data_source\":{\"id\":\"cfe43a47-c718-4656-b72a-c3ff208beeb3\",\"type\":\"ColumnDataSource\"},\"glyph\":{\"id\":\"a5513ee8-288a-4e70-acb3-3438003c185d\",\"type\":\"Rect\"},\"hover_glyph\":null,\"nonselection_glyph\":null,\"selection_glyph\":null},\"id\":\"08524809-e0a0-430b-a97a-0d39e726d984\",\"type\":\"GlyphRenderer\"},{\"attributes\":{\"fill_alpha\":{\"field\":\"fill_alpha\"},\"fill_color\":{\"field\":\"color\"},\"height\":{\"field\":\"height\",\"units\":\"data\"},\"line_color\":{\"field\":\"line_color\"},\"width\":{\"field\":\"width\",\"units\":\"data\"},\"x\":{\"field\":\"x\"},\"y\":{\"field\":\"y\"}},\"id\":\"a0a04e84-1c19-4abd-9f47-f61ca02609d7\",\"type\":\"Rect\"},{\"attributes\":{\"callback\":null,\"column_names\":[\"line_color\",\"height\",\"x\",\"fill_alpha\",\"width\",\"label\",\"line_alpha\",\"color\",\"y\"],\"data\":{\"PercentageAmongstTop\":[1.5601488873049814],\"QuestCreationYear\":[\"Oct'08-09\"],\"QuestTags\":[\"django-models\"],\"YearTagCount\":[197],\"chart_index\":[{\"PercentageAmongstTop\":1.5601488873049814,\"QuestCreationYear\":\"Oct'08-09\",\"QuestTags\":\"django-models\",\"YearTagCount\":197}],\"color\":[\"#F0E68C\"],\"fill_alpha\":[0.8],\"height\":[1.5601488873049814],\"label\":[{\"PercentageAmongstTop\":1.5601488873049814,\"QuestCreationYear\":\"Oct'08-09\",\"QuestTags\":\"django-models\",\"YearTagCount\":197}],\"line_alpha\":[1.0],\"line_color\":[\"#E6E6FA\"],\"width\":[1.0],\"x\":[\"Oct'08-09\"],\"y\":[10.655737704918032]}},\"id\":\"91ede8ee-d15a-420b-a386-ad56adfb4945\",\"type\":\"ColumnDataSource\"},{\"attributes\":{\"fill_alpha\":{\"field\":\"fill_alpha\"},\"fill_color\":{\"field\":\"color\"},\"height\":{\"field\":\"height\",\"units\":\"data\"},\"line_color\":{\"field\":\"line_color\"},\"width\":{\"field\":\"width\",\"units\":\"data\"},\"x\":{\"field\":\"x\"},\"y\":{\"field\":\"y\"}},\"id\":\"d9c73b01-490b-42b1-9472-d0e52d131e64\",\"type\":\"Rect\"},{\"attributes\":{\"data_source\":{\"id\":\"9810f2c0-0657-4a79-a59e-c8b453b74d1e\",\"type\":\"ColumnDataSource\"},\"glyph\":{\"id\":\"a9ea1542-18dd-4842-bbfb-d45f4b901e2b\",\"type\":\"Rect\"},\"hover_glyph\":null,\"nonselection_glyph\":null,\"selection_glyph\":null},\"id\":\"1fb7c6a4-108c-4d7d-91cc-da7f0587cda8\",\"type\":\"GlyphRenderer\"},{\"attributes\":{\"data_source\":{\"id\":\"09d3da21-ecd5-44c5-a100-71b387c26a52\",\"type\":\"ColumnDataSource\"},\"glyph\":{\"id\":\"15874fdc-094e-4500-b427-901189ad3d29\",\"type\":\"Rect\"},\"hover_glyph\":null,\"nonselection_glyph\":null,\"selection_glyph\":null},\"id\":\"1d7ccb7a-11a9-4d14-9a75-d541dfceba5d\",\"type\":\"GlyphRenderer\"},{\"attributes\":{\"data_source\":{\"id\":\"e2916b7c-2eaa-45f2-9082-5a429e210226\",\"type\":\"ColumnDataSource\"},\"glyph\":{\"id\":\"d4a5ed1f-0313-45d7-9c84-835024a254b1\",\"type\":\"Rect\"},\"hover_glyph\":null,\"nonselection_glyph\":null,\"selection_glyph\":null},\"id\":\"15aca9b1-0234-409b-a7aa-5ddc98e9de88\",\"type\":\"GlyphRenderer\"},{\"attributes\":{\"callback\":null,\"column_names\":[\"line_color\",\"height\",\"x\",\"fill_alpha\",\"width\",\"label\",\"line_alpha\",\"color\",\"y\"],\"data\":{\"PercentageAmongstTop\":[76.60781028483052],\"QuestCreationYear\":[\"Oct'09-10\"],\"QuestTags\":[\"python\"],\"YearTagCount\":[23776],\"chart_index\":[{\"PercentageAmongstTop\":76.60781028483052,\"QuestCreationYear\":\"Oct'09-10\",\"QuestTags\":\"python\",\"YearTagCount\":23776}],\"color\":[\"#20B2AA\"],\"fill_alpha\":[0.8],\"height\":[76.60781028483052],\"label\":[{\"PercentageAmongstTop\":76.60781028483052,\"QuestCreationYear\":\"Oct'09-10\",\"QuestTags\":\"python\",\"YearTagCount\":23776}],\"line_alpha\":[1.0],\"line_color\":[\"#FFB6C1\"],\"width\":[1.0],\"x\":[\"Oct'09-10\"],\"y\":[57.11431885552262]}},\"id\":\"8c31daa8-1a82-4ac7-b8de-c83127347a13\",\"type\":\"ColumnDataSource\"},{\"attributes\":{\"data_source\":{\"id\":\"f42055c0-7ee3-4cd8-a39c-f5e252c3e973\",\"type\":\"ColumnDataSource\"},\"glyph\":{\"id\":\"f6639d10-5a6d-4a1e-8afa-c2cc61411fe9\",\"type\":\"Rect\"},\"hover_glyph\":null,\"nonselection_glyph\":null,\"selection_glyph\":null},\"id\":\"dc2a39bb-6c01-449e-ad18-57fe975f54db\",\"type\":\"GlyphRenderer\"},{\"attributes\":{\"data_source\":{\"id\":\"8fc5a083-c864-4ceb-8a60-4d778134e4cc\",\"type\":\"ColumnDataSource\"},\"glyph\":{\"id\":\"8e6cef0d-8fe9-4b11-9056-d5d6bb953caa\",\"type\":\"Rect\"},\"hover_glyph\":null,\"nonselection_glyph\":null,\"selection_glyph\":null},\"id\":\"53d97d40-2b36-4124-a386-6a07f54c016b\",\"type\":\"GlyphRenderer\"},{\"attributes\":{\"fill_alpha\":{\"field\":\"fill_alpha\"},\"fill_color\":{\"field\":\"color\"},\"height\":{\"field\":\"height\",\"units\":\"data\"},\"line_color\":{\"field\":\"line_color\"},\"width\":{\"field\":\"width\",\"units\":\"data\"},\"x\":{\"field\":\"x\"},\"y\":{\"field\":\"y\"}},\"id\":\"15874fdc-094e-4500-b427-901189ad3d29\",\"type\":\"Rect\"},{\"attributes\":{\"fill_alpha\":{\"field\":\"fill_alpha\"},\"fill_color\":{\"field\":\"color\"},\"height\":{\"field\":\"height\",\"units\":\"data\"},\"line_color\":{\"field\":\"line_color\"},\"width\":{\"field\":\"width\",\"units\":\"data\"},\"x\":{\"field\":\"x\"},\"y\":{\"field\":\"y\"}},\"id\":\"79ef7ac3-f0d7-48cd-aa39-b8c9118ed4bf\",\"type\":\"Rect\"},{\"attributes\":{\"fill_alpha\":{\"field\":\"fill_alpha\"},\"fill_color\":{\"field\":\"color\"},\"height\":{\"field\":\"height\",\"units\":\"data\"},\"line_color\":{\"field\":\"line_color\"},\"width\":{\"field\":\"width\",\"units\":\"data\"},\"x\":{\"field\":\"x\"},\"y\":{\"field\":\"y\"}},\"id\":\"8e6cef0d-8fe9-4b11-9056-d5d6bb953caa\",\"type\":\"Rect\"},{\"attributes\":{\"data_source\":{\"id\":\"07ed1623-324f-4df7-b667-1abe8686027f\",\"type\":\"ColumnDataSource\"},\"glyph\":{\"id\":\"3bb64b92-7a79-4add-a94a-4c9ffb0ab530\",\"type\":\"Rect\"},\"hover_glyph\":null,\"nonselection_glyph\":null,\"selection_glyph\":null},\"id\":\"78e194b8-3036-42fa-8565-6f5c243141dc\",\"type\":\"GlyphRenderer\"},{\"attributes\":{\"data_source\":{\"id\":\"6feb33f7-dda9-4b61-a7b3-090d0911204c\",\"type\":\"ColumnDataSource\"},\"glyph\":{\"id\":\"3bc16c02-aa34-4ec5-9b74-9b48b4b089ed\",\"type\":\"Rect\"},\"hover_glyph\":null,\"nonselection_glyph\":null,\"selection_glyph\":null},\"id\":\"331a9d53-464a-4a81-819e-eafac8086e06\",\"type\":\"GlyphRenderer\"},{\"attributes\":{\"fill_alpha\":{\"field\":\"fill_alpha\"},\"fill_color\":{\"field\":\"color\"},\"height\":{\"field\":\"height\",\"units\":\"data\"},\"line_color\":{\"field\":\"line_color\"},\"width\":{\"field\":\"width\",\"units\":\"data\"},\"x\":{\"field\":\"x\"},\"y\":{\"field\":\"y\"}},\"id\":\"ba1b0c02-fdf6-4c57-bba1-637329d25aea\",\"type\":\"Rect\"},{\"attributes\":{\"fill_alpha\":{\"field\":\"fill_alpha\"},\"fill_color\":{\"field\":\"color\"},\"height\":{\"field\":\"height\",\"units\":\"data\"},\"line_color\":{\"field\":\"line_color\"},\"width\":{\"field\":\"width\",\"units\":\"data\"},\"x\":{\"field\":\"x\"},\"y\":{\"field\":\"y\"}},\"id\":\"3bc16c02-aa34-4ec5-9b74-9b48b4b089ed\",\"type\":\"Rect\"},{\"attributes\":{\"fill_alpha\":{\"field\":\"fill_alpha\"},\"fill_color\":{\"field\":\"color\"},\"height\":{\"field\":\"height\",\"units\":\"data\"},\"line_color\":{\"field\":\"line_color\"},\"width\":{\"field\":\"width\",\"units\":\"data\"},\"x\":{\"field\":\"x\"},\"y\":{\"field\":\"y\"}},\"id\":\"4cf5a7b7-6542-4a63-9369-026bd18ef516\",\"type\":\"Rect\"},{\"attributes\":{\"data_source\":{\"id\":\"30d522f1-4389-4524-9e0a-0006a79e5eb8\",\"type\":\"ColumnDataSource\"},\"glyph\":{\"id\":\"e20efd2f-27fd-49f4-bc02-04dd12c11baa\",\"type\":\"Rect\"},\"hover_glyph\":null,\"nonselection_glyph\":null,\"selection_glyph\":null},\"id\":\"652a1365-8ca8-4381-891c-244eed938149\",\"type\":\"GlyphRenderer\"},{\"attributes\":{\"data_source\":{\"id\":\"c7e52b88-0261-4c2a-b40a-acb74c31ae24\",\"type\":\"ColumnDataSource\"},\"glyph\":{\"id\":\"f8a04ab9-4293-4824-ab70-6b3a18bbae10\",\"type\":\"Rect\"},\"hover_glyph\":null,\"nonselection_glyph\":null,\"selection_glyph\":null},\"id\":\"0511988c-3532-456f-aaf9-1e26e93c0b1e\",\"type\":\"GlyphRenderer\"},{\"attributes\":{\"callback\":null,\"column_names\":[\"line_color\",\"height\",\"x\",\"fill_alpha\",\"width\",\"label\",\"line_alpha\",\"color\",\"y\"],\"data\":{\"PercentageAmongstTop\":[3.48730702402034],\"QuestCreationYear\":[\"Oct'14-15\"],\"QuestTags\":[\"python-3.x\"],\"YearTagCount\":[6282],\"chart_index\":[{\"PercentageAmongstTop\":3.48730702402034,\"QuestCreationYear\":\"Oct'14-15\",\"QuestTags\":\"python-3.x\",\"YearTagCount\":6282}],\"color\":[\"#778899\"],\"fill_alpha\":[0.8],\"height\":[3.48730702402034],\"label\":[{\"PercentageAmongstTop\":3.48730702402034,\"QuestCreationYear\":\"Oct'14-15\",\"QuestTags\":\"python-3.x\",\"YearTagCount\":6282}],\"line_alpha\":[1.0],\"line_color\":[\"#FFA07A\"],\"width\":[1.0],\"x\":[\"Oct'14-15\"],\"y\":[96.59096586524849]}},\"id\":\"94bb1f3b-4c65-4d1c-a154-cd4339c83b4f\",\"type\":\"ColumnDataSource\"},{\"attributes\":{\"callback\":null,\"column_names\":[\"line_color\",\"height\",\"x\",\"fill_alpha\",\"width\",\"label\",\"line_alpha\",\"color\",\"y\"],\"data\":{\"PercentageAmongstTop\":[2.3509623124365073],\"QuestCreationYear\":[\"Oct'14-15\"],\"QuestTags\":[\"list\"],\"YearTagCount\":[4235],\"chart_index\":[{\"PercentageAmongstTop\":2.3509623124365073,\"QuestCreationYear\":\"Oct'14-15\",\"QuestTags\":\"list\",\"YearTagCount\":4235}],\"color\":[\"#90EE90\"],\"fill_alpha\":[0.8],\"height\":[2.3509623124365073],\"label\":[{\"PercentageAmongstTop\":2.3509623124365073,\"QuestCreationYear\":\"Oct'14-15\",\"QuestTags\":\"list\",\"YearTagCount\":4235}],\"line_alpha\":[1.0],\"line_color\":[\"#F0E68C\"],\"width\":[1.0],\"x\":[\"Oct'14-15\"],\"y\":[10.079716219141885]}},\"id\":\"4753f2bd-7495-4e74-94a7-4177a42b2001\",\"type\":\"ColumnDataSource\"},{\"attributes\":{\"callback\":null,\"column_names\":[\"line_color\",\"height\",\"x\",\"fill_alpha\",\"width\",\"label\",\"line_alpha\",\"color\",\"y\"],\"data\":{\"PercentageAmongstTop\":[1.4809535123148807],\"QuestCreationYear\":[\"Oct'08-09\"],\"QuestTags\":[\"string\"],\"YearTagCount\":[187],\"chart_index\":[{\"PercentageAmongstTop\":1.4809535123148807,\"QuestCreationYear\":\"Oct'08-09\",\"QuestTags\":\"string\",\"YearTagCount\":187}],\"color\":[\"#40E0D0\"],\"fill_alpha\":[0.8],\"height\":[1.4809535123148807],\"label\":[{\"PercentageAmongstTop\":1.4809535123148807,\"QuestCreationYear\":\"Oct'08-09\",\"QuestTags\":\"string\",\"YearTagCount\":187}],\"line_alpha\":[1.0],\"line_color\":[\"#F0E68C\"],\"width\":[1.0],\"x\":[\"Oct'08-09\"],\"y\":[96.21050130672369]}},\"id\":\"7d0cbdfd-f632-454b-b002-4455823b10f2\",\"type\":\"ColumnDataSource\"},{\"attributes\":{\"data_source\":{\"id\":\"117780f9-1d26-44fb-9c13-ccca955d62e0\",\"type\":\"ColumnDataSource\"},\"glyph\":{\"id\":\"b68f4891-89fd-4c11-bcd8-23d10698105b\",\"type\":\"Rect\"},\"hover_glyph\":null,\"nonselection_glyph\":null,\"selection_glyph\":null},\"id\":\"6b124dc2-e085-453b-8c21-a6a3c22cd656\",\"type\":\"GlyphRenderer\"},{\"attributes\":{\"fill_alpha\":{\"field\":\"fill_alpha\"},\"fill_color\":{\"field\":\"color\"},\"height\":{\"field\":\"height\",\"units\":\"data\"},\"line_color\":{\"field\":\"line_color\"},\"width\":{\"field\":\"width\",\"units\":\"data\"},\"x\":{\"field\":\"x\"},\"y\":{\"field\":\"y\"}},\"id\":\"13bc5b19-7cb2-4616-be8c-c9a163cb1c3c\",\"type\":\"Rect\"},{\"attributes\":{\"callback\":null,\"column_names\":[\"line_color\",\"height\",\"x\",\"fill_alpha\",\"width\",\"label\",\"line_alpha\",\"color\",\"y\"],\"data\":{\"PercentageAmongstTop\":[2.95580328559024],\"QuestCreationYear\":[\"Oct'12-13\"],\"QuestTags\":[\"numpy\"],\"YearTagCount\":[3370],\"chart_index\":[{\"PercentageAmongstTop\":2.95580328559024,\"QuestCreationYear\":\"Oct'12-13\",\"QuestTags\":\"numpy\",\"YearTagCount\":3370}],\"color\":[\"#FFB6C1\"],\"fill_alpha\":[0.8],\"height\":[2.95580328559024],\"label\":[{\"PercentageAmongstTop\":2.95580328559024,\"QuestCreationYear\":\"Oct'12-13\",\"QuestTags\":\"numpy\",\"YearTagCount\":3370}],\"line_alpha\":[1.0],\"line_color\":[\"#9370DB\"],\"width\":[1.0],\"x\":[\"Oct'12-13\"],\"y\":[14.563251559032743]}},\"id\":\"d4dc43b6-2ffd-41c8-9df4-43a5b97523bc\",\"type\":\"ColumnDataSource\"},{\"attributes\":{\"fill_alpha\":{\"field\":\"fill_alpha\"},\"fill_color\":{\"field\":\"color\"},\"height\":{\"field\":\"height\",\"units\":\"data\"},\"line_color\":{\"field\":\"line_color\"},\"width\":{\"field\":\"width\",\"units\":\"data\"},\"x\":{\"field\":\"x\"},\"y\":{\"field\":\"y\"}},\"id\":\"0fd6deff-271c-4e4c-81e8-fb49b4b11aee\",\"type\":\"Rect\"},{\"attributes\":{\"callback\":null,\"column_names\":[\"line_color\",\"height\",\"x\",\"fill_alpha\",\"width\",\"label\",\"line_alpha\",\"color\",\"y\"],\"data\":{\"PercentageAmongstTop\":[2.060075830331022],\"QuestCreationYear\":[\"Oct'14-15\"],\"QuestTags\":[\"matplotlib\"],\"YearTagCount\":[3711],\"chart_index\":[{\"PercentageAmongstTop\":2.060075830331022,\"QuestCreationYear\":\"Oct'14-15\",\"QuestTags\":\"matplotlib\",\"YearTagCount\":3711}],\"color\":[\"#ADD8E6\"],\"fill_alpha\":[0.8],\"height\":[2.060075830331022],\"label\":[{\"PercentageAmongstTop\":2.060075830331022,\"QuestCreationYear\":\"Oct'14-15\",\"QuestTags\":\"matplotlib\",\"YearTagCount\":3711}],\"line_alpha\":[1.0],\"line_color\":[\"#4B0082\"],\"width\":[1.0],\"x\":[\"Oct'14-15\"],\"y\":[12.28523529052565]}},\"id\":\"fb315d42-b6ed-4457-8252-a4448db19cef\",\"type\":\"ColumnDataSource\"},{\"attributes\":{\"fill_alpha\":{\"field\":\"fill_alpha\"},\"fill_color\":{\"field\":\"color\"},\"height\":{\"field\":\"height\",\"units\":\"data\"},\"line_color\":{\"field\":\"line_color\"},\"width\":{\"field\":\"width\",\"units\":\"data\"},\"x\":{\"field\":\"x\"},\"y\":{\"field\":\"y\"}},\"id\":\"805bdc62-497c-4e3b-9c79-a3b2e4fa7eff\",\"type\":\"Rect\"},{\"attributes\":{\"callback\":null,\"column_names\":[\"line_color\",\"height\",\"x\",\"fill_alpha\",\"width\",\"label\",\"line_alpha\",\"color\",\"y\"],\"data\":{\"PercentageAmongstTop\":[2.605527837174309],\"QuestCreationYear\":[\"Oct'08-09\"],\"QuestTags\":[\"google-app-engine\"],\"YearTagCount\":[329],\"chart_index\":[{\"PercentageAmongstTop\":2.605527837174309,\"QuestCreationYear\":\"Oct'08-09\",\"QuestTags\":\"google-app-engine\",\"YearTagCount\":329}],\"color\":[\"#FFF0F5\"],\"fill_alpha\":[0.8],\"height\":[2.605527837174309],\"label\":[{\"PercentageAmongstTop\":2.605527837174309,\"QuestCreationYear\":\"Oct'08-09\",\"QuestTags\":\"google-app-engine\",\"YearTagCount\":329}],\"line_alpha\":[1.0],\"line_color\":[\"#F08080\"],\"width\":[1.0],\"x\":[\"Oct'08-09\"],\"y\":[12.738576067157677]}},\"id\":\"e70d9f44-8acc-4b54-836c-7dc436086a54\",\"type\":\"ColumnDataSource\"},{\"attributes\":{\"fill_alpha\":{\"field\":\"fill_alpha\"},\"fill_color\":{\"field\":\"color\"},\"height\":{\"field\":\"height\",\"units\":\"data\"},\"line_color\":{\"field\":\"line_color\"},\"width\":{\"field\":\"width\",\"units\":\"data\"},\"x\":{\"field\":\"x\"},\"y\":{\"field\":\"y\"}},\"id\":\"2ff2dabf-fc45-41f9-8b82-f007f25b0472\",\"type\":\"Rect\"},{\"attributes\":{\"fill_alpha\":{\"field\":\"fill_alpha\"},\"fill_color\":{\"field\":\"color\"},\"height\":{\"field\":\"height\",\"units\":\"data\"},\"line_color\":{\"field\":\"line_color\"},\"width\":{\"field\":\"width\",\"units\":\"data\"},\"x\":{\"field\":\"x\"},\"y\":{\"field\":\"y\"}},\"id\":\"f6639d10-5a6d-4a1e-8afa-c2cc61411fe9\",\"type\":\"Rect\"},{\"attributes\":{\"fill_alpha\":{\"field\":\"fill_alpha\"},\"fill_color\":{\"field\":\"color\"},\"height\":{\"field\":\"height\",\"units\":\"data\"},\"line_color\":{\"field\":\"line_color\"},\"width\":{\"field\":\"width\",\"units\":\"data\"},\"x\":{\"field\":\"x\"},\"y\":{\"field\":\"y\"}},\"id\":\"faebd6bd-6da6-4944-8025-c5b8c48079c3\",\"type\":\"Rect\"},{\"attributes\":{},\"id\":\"990169e6-179b-4797-8616-99dbec1476a9\",\"type\":\"CategoricalTickFormatter\"},{\"attributes\":{\"callback\":null,\"column_names\":[\"line_color\",\"height\",\"x\",\"fill_alpha\",\"width\",\"label\",\"line_alpha\",\"color\",\"y\"],\"data\":{\"PercentageAmongstTop\":[1.6947810247881523],\"QuestCreationYear\":[\"Oct'08-09\"],\"QuestTags\":[\"list\"],\"YearTagCount\":[214],\"chart_index\":[{\"PercentageAmongstTop\":1.6947810247881523,\"QuestCreationYear\":\"Oct'08-09\",\"QuestTags\":\"list\",\"YearTagCount\":214}],\"color\":[\"#90EE90\"],\"fill_alpha\":[0.8],\"height\":[1.6947810247881523],\"label\":[{\"PercentageAmongstTop\":1.6947810247881523,\"QuestCreationYear\":\"Oct'08-09\",\"QuestTags\":\"list\",\"YearTagCount\":214}],\"line_alpha\":[1.0],\"line_color\":[\"#FFF0F5\"],\"width\":[1.0],\"x\":[\"Oct'08-09\"],\"y\":[14.888730498138909]}},\"id\":\"1f544c96-8d83-46ac-922c-71be0883314e\",\"type\":\"ColumnDataSource\"},{\"attributes\":{\"data_source\":{\"id\":\"d48e0e42-c95e-44a4-b566-0a98ca555544\",\"type\":\"ColumnDataSource\"},\"glyph\":{\"id\":\"496842d1-6e2f-41e0-93f3-7e8d57245d45\",\"type\":\"Rect\"},\"hover_glyph\":null,\"nonselection_glyph\":null,\"selection_glyph\":null},\"id\":\"39551d44-fefb-4c07-84e9-9e5815831617\",\"type\":\"GlyphRenderer\"},{\"attributes\":{\"fill_alpha\":{\"field\":\"fill_alpha\"},\"fill_color\":{\"field\":\"color\"},\"height\":{\"field\":\"height\",\"units\":\"data\"},\"line_color\":{\"field\":\"line_color\"},\"width\":{\"field\":\"width\",\"units\":\"data\"},\"x\":{\"field\":\"x\"},\"y\":{\"field\":\"y\"}},\"id\":\"41e9f7df-047e-493b-b451-f6c55cdf4136\",\"type\":\"Rect\"},{\"attributes\":{\"fill_alpha\":{\"field\":\"fill_alpha\"},\"fill_color\":{\"field\":\"color\"},\"height\":{\"field\":\"height\",\"units\":\"data\"},\"line_color\":{\"field\":\"line_color\"},\"width\":{\"field\":\"width\",\"units\":\"data\"},\"x\":{\"field\":\"x\"},\"y\":{\"field\":\"y\"}},\"id\":\"b4e48412-483a-47a6-b72e-335b7b96fb2b\",\"type\":\"Rect\"},{\"attributes\":{\"callback\":null,\"column_names\":[\"line_color\",\"height\",\"x\",\"fill_alpha\",\"width\",\"label\",\"line_alpha\",\"color\",\"y\"],\"data\":{\"PercentageAmongstTop\":[2.846028505368103],\"QuestCreationYear\":[\"Oct'13-14\"],\"QuestTags\":[\"python-3.x\"],\"YearTagCount\":[4419],\"chart_index\":[{\"PercentageAmongstTop\":2.846028505368103,\"QuestCreationYear\":\"Oct'13-14\",\"QuestTags\":\"python-3.x\",\"YearTagCount\":4419}],\"color\":[\"#778899\"],\"fill_alpha\":[0.8],\"height\":[2.846028505368103],\"label\":[{\"PercentageAmongstTop\":2.846028505368103,\"QuestCreationYear\":\"Oct'13-14\",\"QuestTags\":\"python-3.x\",\"YearTagCount\":4419}],\"line_alpha\":[1.0],\"line_color\":[\"#FFF0F5\"],\"width\":[1.0],\"x\":[\"Oct'13-14\"],\"y\":[96.80264573095725]}},\"id\":\"a96356a7-5dda-4973-9327-a9e62a09b302\",\"type\":\"ColumnDataSource\"},{\"attributes\":{\"fill_alpha\":{\"field\":\"fill_alpha\"},\"fill_color\":{\"field\":\"color\"},\"height\":{\"field\":\"height\",\"units\":\"data\"},\"line_color\":{\"field\":\"line_color\"},\"width\":{\"field\":\"width\",\"units\":\"data\"},\"x\":{\"field\":\"x\"},\"y\":{\"field\":\"y\"}},\"id\":\"12d2331c-0871-453f-8a11-8b945a2a33bf\",\"type\":\"Rect\"},{\"attributes\":{\"data_source\":{\"id\":\"c3e42ce0-52f7-4109-9089-d3ebdad2ea41\",\"type\":\"ColumnDataSource\"},\"glyph\":{\"id\":\"a8adff1b-7f2b-44d8-8eda-5901325777ea\",\"type\":\"Rect\"},\"hover_glyph\":null,\"nonselection_glyph\":null,\"selection_glyph\":null},\"id\":\"8305c0d7-c906-48e9-9dd1-3e7263992fa5\",\"type\":\"GlyphRenderer\"},{\"attributes\":{\"fill_alpha\":{\"field\":\"fill_alpha\"},\"fill_color\":{\"field\":\"color\"},\"height\":{\"field\":\"height\",\"units\":\"data\"},\"line_color\":{\"field\":\"line_color\"},\"width\":{\"field\":\"width\",\"units\":\"data\"},\"x\":{\"field\":\"x\"},\"y\":{\"field\":\"y\"}},\"id\":\"6eddbafa-9911-4c4b-bfba-c2d3bdd0bfd5\",\"type\":\"Rect\"},{\"attributes\":{\"data_source\":{\"id\":\"f7622d21-b7d7-4ef9-86d9-cbabfe72e762\",\"type\":\"ColumnDataSource\"},\"glyph\":{\"id\":\"1ab37ce5-4d18-4324-8aa9-df0a16a22f49\",\"type\":\"Rect\"},\"hover_glyph\":null,\"nonselection_glyph\":null,\"selection_glyph\":null},\"id\":\"b0149148-9f35-42db-b748-45255e2918e0\",\"type\":\"GlyphRenderer\"},{\"attributes\":{\"callback\":null,\"column_names\":[\"line_color\",\"height\",\"x\",\"fill_alpha\",\"width\",\"label\",\"line_alpha\",\"color\",\"y\"],\"data\":{\"PercentageAmongstTop\":[8.52254120729178],\"QuestCreationYear\":[\"Oct'11-12\"],\"QuestTags\":[\"django\"],\"YearTagCount\":[6246],\"chart_index\":[{\"PercentageAmongstTop\":8.52254120729178,\"QuestCreationYear\":\"Oct'11-12\",\"QuestTags\":\"django\",\"YearTagCount\":6246}],\"color\":[\"#FF6347\"],\"fill_alpha\":[0.8],\"height\":[8.52254120729178],\"label\":[{\"PercentageAmongstTop\":8.52254120729178,\"QuestCreationYear\":\"Oct'11-12\",\"QuestTags\":\"django\",\"YearTagCount\":6246}],\"line_alpha\":[1.0],\"line_color\":[\"#20B2AA\"],\"width\":[1.0],\"x\":[\"Oct'11-12\"],\"y\":[4.26127060364589]}},\"id\":\"bcd3a0b4-03c0-4152-88f3-d14756b91471\",\"type\":\"ColumnDataSource\"},{\"attributes\":{\"callback\":null,\"column_names\":[\"line_color\",\"height\",\"x\",\"fill_alpha\",\"width\",\"label\",\"line_alpha\",\"color\",\"y\"],\"data\":{\"PercentageAmongstTop\":[9.875628302616317],\"QuestCreationYear\":[\"Oct'09-10\"],\"QuestTags\":[\"django\"],\"YearTagCount\":[3065],\"chart_index\":[{\"PercentageAmongstTop\":9.875628302616317,\"QuestCreationYear\":\"Oct'09-10\",\"QuestTags\":\"django\",\"YearTagCount\":3065}],\"color\":[\"#FF6347\"],\"fill_alpha\":[0.8],\"height\":[9.875628302616317],\"label\":[{\"PercentageAmongstTop\":9.875628302616317,\"QuestCreationYear\":\"Oct'09-10\",\"QuestTags\":\"django\",\"YearTagCount\":3065}],\"line_alpha\":[1.0],\"line_color\":[\"#FFB6C1\"],\"width\":[1.0],\"x\":[\"Oct'09-10\"],\"y\":[4.937814151308158]}},\"id\":\"e46b9bad-0dc4-4937-80d7-a50f7723e6ec\",\"type\":\"ColumnDataSource\"},{\"attributes\":{\"fill_alpha\":{\"field\":\"fill_alpha\"},\"fill_color\":{\"field\":\"color\"},\"height\":{\"field\":\"height\",\"units\":\"data\"},\"line_color\":{\"field\":\"line_color\"},\"width\":{\"field\":\"width\",\"units\":\"data\"},\"x\":{\"field\":\"x\"},\"y\":{\"field\":\"y\"}},\"id\":\"d45f9221-e7b6-4b4a-8694-7d8f4ba6bd37\",\"type\":\"Rect\"},{\"attributes\":{},\"id\":\"feed7ab9-30d7-457d-a64b-2444b7fbc31d\",\"type\":\"BasicTickFormatter\"},{\"attributes\":{\"data_source\":{\"id\":\"0f40a225-204b-4f54-ad4d-2a269755e7df\",\"type\":\"ColumnDataSource\"},\"glyph\":{\"id\":\"aba85b52-1e2f-49b9-93b3-aff2087306bc\",\"type\":\"Rect\"},\"hover_glyph\":null,\"nonselection_glyph\":null,\"selection_glyph\":null},\"id\":\"40c91f80-e64c-4f6a-97a4-9ccd0203b7f1\",\"type\":\"GlyphRenderer\"},{\"attributes\":{\"callback\":null,\"column_names\":[\"line_color\",\"height\",\"x\",\"fill_alpha\",\"width\",\"label\",\"line_alpha\",\"color\",\"y\"],\"data\":{\"PercentageAmongstTop\":[4.896219030859503],\"QuestCreationYear\":[\"Oct'14-15\"],\"QuestTags\":[\"python-2.7\"],\"YearTagCount\":[8820],\"chart_index\":[{\"PercentageAmongstTop\":4.896219030859503,\"QuestCreationYear\":\"Oct'14-15\",\"QuestTags\":\"python-2.7\",\"YearTagCount\":8820}],\"color\":[\"#FFA07A\"],\"fill_alpha\":[0.8],\"height\":[4.896219030859503],\"label\":[{\"PercentageAmongstTop\":4.896219030859503,\"QuestCreationYear\":\"Oct'14-15\",\"QuestTags\":\"python-2.7\",\"YearTagCount\":8820}],\"line_alpha\":[1.0],\"line_color\":[\"#FF6347\"],\"width\":[1.0],\"x\":[\"Oct'14-15\"],\"y\":[92.39920283780857]}},\"id\":\"8fc5a083-c864-4ceb-8a60-4d778134e4cc\",\"type\":\"ColumnDataSource\"},{\"attributes\":{\"callback\":null,\"factors\":[\"Oct'08-09\",\"Oct'09-10\",\"Oct'10-11\",\"Oct'11-12\",\"Oct'12-13\",\"Oct'13-14\",\"Oct'14-15\",\"Oct'15-16\"]},\"id\":\"b9567911-13c7-4e11-b2e0-c4c2b7af5f9a\",\"type\":\"FactorRange\"},{\"attributes\":{\"data_source\":{\"id\":\"4753f2bd-7495-4e74-94a7-4177a42b2001\",\"type\":\"ColumnDataSource\"},\"glyph\":{\"id\":\"9a302701-bf04-4e66-9a18-94cff739732f\",\"type\":\"Rect\"},\"hover_glyph\":null,\"nonselection_glyph\":null,\"selection_glyph\":null},\"id\":\"ed3c422c-e107-4ffd-8241-f89baaca2b77\",\"type\":\"GlyphRenderer\"},{\"attributes\":{\"callback\":null,\"column_names\":[\"line_color\",\"height\",\"x\",\"fill_alpha\",\"width\",\"label\",\"line_alpha\",\"color\",\"y\"],\"data\":{\"PercentageAmongstTop\":[7.1622469315362025],\"QuestCreationYear\":[\"Oct'14-15\"],\"QuestTags\":[\"django\"],\"YearTagCount\":[12902],\"chart_index\":[{\"PercentageAmongstTop\":7.1622469315362025,\"QuestCreationYear\":\"Oct'14-15\",\"QuestTags\":\"django\",\"YearTagCount\":12902}],\"color\":[\"#FF6347\"],\"fill_alpha\":[0.8],\"height\":[7.1622469315362025],\"label\":[{\"PercentageAmongstTop\":7.1622469315362025,\"QuestCreationYear\":\"Oct'14-15\",\"QuestTags\":\"django\",\"YearTagCount\":12902}],\"line_alpha\":[1.0],\"line_color\":[\"#F08080\"],\"width\":[1.0],\"x\":[\"Oct'14-15\"],\"y\":[5.323111597155529]}},\"id\":\"02648f8d-9e09-4c15-9750-1e9c21f25fd0\",\"type\":\"ColumnDataSource\"},{\"attributes\":{\"callback\":null,\"column_names\":[\"line_color\",\"height\",\"x\",\"fill_alpha\",\"width\",\"label\",\"line_alpha\",\"color\",\"y\"],\"data\":{\"PercentageAmongstTop\":[2.438325510315468],\"QuestCreationYear\":[\"Oct'11-12\"],\"QuestTags\":[\"numpy\"],\"YearTagCount\":[1787],\"chart_index\":[{\"PercentageAmongstTop\":2.438325510315468,\"QuestCreationYear\":\"Oct'11-12\",\"QuestTags\":\"numpy\",\"YearTagCount\":1787}],\"color\":[\"#FFB6C1\"],\"fill_alpha\":[0.8],\"height\":[2.438325510315468],\"label\":[{\"PercentageAmongstTop\":2.438325510315468,\"QuestCreationYear\":\"Oct'11-12\",\"QuestTags\":\"numpy\",\"YearTagCount\":1787}],\"line_alpha\":[1.0],\"line_color\":[\"#4B0082\"],\"width\":[1.0],\"x\":[\"Oct'11-12\"],\"y\":[15.922797729505513]}},\"id\":\"cbec63bb-d906-4bbf-be5b-64242761a3bc\",\"type\":\"ColumnDataSource\"},{\"attributes\":{\"fill_alpha\":{\"field\":\"fill_alpha\"},\"fill_color\":{\"field\":\"color\"},\"height\":{\"field\":\"height\",\"units\":\"data\"},\"line_color\":{\"field\":\"line_color\"},\"width\":{\"field\":\"width\",\"units\":\"data\"},\"x\":{\"field\":\"x\"},\"y\":{\"field\":\"y\"}},\"id\":\"a9ea1542-18dd-4842-bbfb-d45f4b901e2b\",\"type\":\"Rect\"},{\"attributes\":{\"callback\":null,\"column_names\":[\"line_color\",\"height\",\"x\",\"fill_alpha\",\"width\",\"label\",\"line_alpha\",\"color\",\"y\"],\"data\":{\"PercentageAmongstTop\":[1.456505188924951],\"QuestCreationYear\":[\"Oct'10-11\"],\"QuestTags\":[\"string\"],\"YearTagCount\":[727],\"chart_index\":[{\"PercentageAmongstTop\":1.456505188924951,\"QuestCreationYear\":\"Oct'10-11\",\"QuestTags\":\"string\",\"YearTagCount\":727}],\"color\":[\"#40E0D0\"],\"fill_alpha\":[0.8],\"height\":[1.456505188924951],\"label\":[{\"PercentageAmongstTop\":1.456505188924951,\"QuestCreationYear\":\"Oct'10-11\",\"QuestTags\":\"string\",\"YearTagCount\":727}],\"line_alpha\":[1.0],\"line_color\":[\"#F0E68C\"],\"width\":[1.0],\"x\":[\"Oct'10-11\"],\"y\":[99.27174740553752]}},\"id\":\"0fcb57a1-427e-42a1-95ed-f49981a54946\",\"type\":\"ColumnDataSource\"},{\"attributes\":{},\"id\":\"ac75d2e5-0a33-455f-94d3-53f903b03545\",\"type\":\"ToolEvents\"},{\"attributes\":{\"callback\":null,\"column_names\":[\"line_color\",\"height\",\"x\",\"fill_alpha\",\"width\",\"label\",\"line_alpha\",\"color\",\"y\"],\"data\":{\"PercentageAmongstTop\":[1.6155441545682785],\"QuestCreationYear\":[\"Oct'11-12\"],\"QuestTags\":[\"matplotlib\"],\"YearTagCount\":[1184],\"chart_index\":[{\"PercentageAmongstTop\":1.6155441545682785,\"QuestCreationYear\":\"Oct'11-12\",\"QuestTags\":\"matplotlib\",\"YearTagCount\":1184}],\"color\":[\"#ADD8E6\"],\"fill_alpha\":[0.8],\"height\":[1.6155441545682785],\"label\":[{\"PercentageAmongstTop\":1.6155441545682785,\"QuestCreationYear\":\"Oct'11-12\",\"QuestTags\":\"matplotlib\",\"YearTagCount\":1184}],\"line_alpha\":[1.0],\"line_color\":[\"#D3D3D3\"],\"width\":[1.0],\"x\":[\"Oct'11-12\"],\"y\":[13.89586289706364]}},\"id\":\"95a87a2f-b974-4c28-bbe9-2c955f14b7f2\",\"type\":\"ColumnDataSource\"},{\"attributes\":{\"callback\":null,\"column_names\":[\"line_color\",\"height\",\"x\",\"fill_alpha\",\"width\",\"label\",\"line_alpha\",\"color\",\"y\"],\"data\":{\"PercentageAmongstTop\":[1.1483329373564584],\"QuestCreationYear\":[\"Oct'08-09\"],\"QuestTags\":[\"multithreading\"],\"YearTagCount\":[145],\"chart_index\":[{\"PercentageAmongstTop\":1.1483329373564584,\"QuestCreationYear\":\"Oct'08-09\",\"QuestTags\":\"multithreading\",\"YearTagCount\":145}],\"color\":[\"#F08080\"],\"fill_alpha\":[0.8],\"height\":[1.1483329373564584],\"label\":[{\"PercentageAmongstTop\":1.1483329373564584,\"QuestCreationYear\":\"Oct'08-09\",\"QuestTags\":\"multithreading\",\"YearTagCount\":145}],\"line_alpha\":[1.0],\"line_color\":[\"#4B0082\"],\"width\":[1.0],\"x\":[\"Oct'08-09\"],\"y\":[16.310287479211215]}},\"id\":\"25d6d0fd-d038-490d-afbc-dbec94dbfc84\",\"type\":\"ColumnDataSource\"},{\"attributes\":{\"fill_alpha\":{\"field\":\"fill_alpha\"},\"fill_color\":{\"field\":\"color\"},\"height\":{\"field\":\"height\",\"units\":\"data\"},\"line_color\":{\"field\":\"line_color\"},\"width\":{\"field\":\"width\",\"units\":\"data\"},\"x\":{\"field\":\"x\"},\"y\":{\"field\":\"y\"}},\"id\":\"b68f4891-89fd-4c11-bcd8-23d10698105b\",\"type\":\"Rect\"},{\"attributes\":{\"data_source\":{\"id\":\"e46b9bad-0dc4-4937-80d7-a50f7723e6ec\",\"type\":\"ColumnDataSource\"},\"glyph\":{\"id\":\"af1a140f-b449-416c-bc19-47b428f37164\",\"type\":\"Rect\"},\"hover_glyph\":null,\"nonselection_glyph\":null,\"selection_glyph\":null},\"id\":\"ca690b73-6062-49fb-b587-13d30647565a\",\"type\":\"GlyphRenderer\"},{\"attributes\":{\"fill_alpha\":{\"field\":\"fill_alpha\"},\"fill_color\":{\"field\":\"color\"},\"height\":{\"field\":\"height\",\"units\":\"data\"},\"line_color\":{\"field\":\"line_color\"},\"width\":{\"field\":\"width\",\"units\":\"data\"},\"x\":{\"field\":\"x\"},\"y\":{\"field\":\"y\"}},\"id\":\"496842d1-6e2f-41e0-93f3-7e8d57245d45\",\"type\":\"Rect\"},{\"attributes\":{\"data_source\":{\"id\":\"cbec63bb-d906-4bbf-be5b-64242761a3bc\",\"type\":\"ColumnDataSource\"},\"glyph\":{\"id\":\"72f0179e-9b3a-45f2-9e30-b22d1870df8b\",\"type\":\"Rect\"},\"hover_glyph\":null,\"nonselection_glyph\":null,\"selection_glyph\":null},\"id\":\"ca2ffb3a-435e-4068-a867-ca2be8f6907f\",\"type\":\"GlyphRenderer\"},{\"attributes\":{\"fill_alpha\":{\"field\":\"fill_alpha\"},\"fill_color\":{\"field\":\"color\"},\"height\":{\"field\":\"height\",\"units\":\"data\"},\"line_color\":{\"field\":\"line_color\"},\"width\":{\"field\":\"width\",\"units\":\"data\"},\"x\":{\"field\":\"x\"},\"y\":{\"field\":\"y\"}},\"id\":\"7d5a8717-bf8a-4ad8-80de-2311d9cb9bce\",\"type\":\"Rect\"},{\"attributes\":{\"data_source\":{\"id\":\"e0900c0a-155b-4bee-850d-87dfe8467cf5\",\"type\":\"ColumnDataSource\"},\"glyph\":{\"id\":\"13a3696a-efe3-4e04-b291-cd636cba9936\",\"type\":\"Rect\"},\"hover_glyph\":null,\"nonselection_glyph\":null,\"selection_glyph\":null},\"id\":\"8ef1f419-b8fa-454f-abc3-594b3e24524c\",\"type\":\"GlyphRenderer\"},{\"attributes\":{\"fill_alpha\":{\"field\":\"fill_alpha\"},\"fill_color\":{\"field\":\"color\"},\"height\":{\"field\":\"height\",\"units\":\"data\"},\"line_color\":{\"field\":\"line_color\"},\"width\":{\"field\":\"width\",\"units\":\"data\"},\"x\":{\"field\":\"x\"},\"y\":{\"field\":\"y\"}},\"id\":\"0eb8daff-47a6-4476-8dbe-931724b38320\",\"type\":\"Rect\"},{\"attributes\":{\"fill_alpha\":{\"field\":\"fill_alpha\"},\"fill_color\":{\"field\":\"color\"},\"height\":{\"field\":\"height\",\"units\":\"data\"},\"line_color\":{\"field\":\"line_color\"},\"width\":{\"field\":\"width\",\"units\":\"data\"},\"x\":{\"field\":\"x\"},\"y\":{\"field\":\"y\"}},\"id\":\"da9a6325-7669-4944-aeb8-fc191beab1d6\",\"type\":\"Rect\"},{\"attributes\":{\"fill_alpha\":{\"field\":\"fill_alpha\"},\"fill_color\":{\"field\":\"color\"},\"height\":{\"field\":\"height\",\"units\":\"data\"},\"line_color\":{\"field\":\"line_color\"},\"width\":{\"field\":\"width\",\"units\":\"data\"},\"x\":{\"field\":\"x\"},\"y\":{\"field\":\"y\"}},\"id\":\"9a302701-bf04-4e66-9a18-94cff739732f\",\"type\":\"Rect\"},{\"attributes\":{\"data_source\":{\"id\":\"868f6497-0dd1-4e5f-be2c-04f00242eab1\",\"type\":\"ColumnDataSource\"},\"glyph\":{\"id\":\"51c07b14-4369-45f2-b03b-e0c67fc121c3\",\"type\":\"Rect\"},\"hover_glyph\":null,\"nonselection_glyph\":null,\"selection_glyph\":null},\"id\":\"9b9fd51b-f54c-4a9d-ac42-5233f16d4840\",\"type\":\"GlyphRenderer\"},{\"attributes\":{\"callback\":null,\"column_names\":[\"line_color\",\"height\",\"x\",\"fill_alpha\",\"width\",\"label\",\"line_alpha\",\"color\",\"y\"],\"data\":{\"PercentageAmongstTop\":[1.3520384881158816],\"QuestCreationYear\":[\"Oct'15-16\"],\"QuestTags\":[\"flask\"],\"YearTagCount\":[3111],\"chart_index\":[{\"PercentageAmongstTop\":1.3520384881158816,\"QuestCreationYear\":\"Oct'15-16\",\"QuestTags\":\"flask\",\"YearTagCount\":3111}],\"color\":[\"#E6E6FA\"],\"fill_alpha\":[0.8],\"height\":[1.3520384881158816],\"label\":[{\"PercentageAmongstTop\":1.3520384881158816,\"QuestCreationYear\":\"Oct'15-16\",\"QuestTags\":\"flask\",\"YearTagCount\":3111}],\"line_alpha\":[1.0],\"line_color\":[\"#20B2AA\"],\"width\":[1.0],\"x\":[\"Oct'15-16\"],\"y\":[8.568342916248364]}},\"id\":\"117780f9-1d26-44fb-9c13-ccca955d62e0\",\"type\":\"ColumnDataSource\"},{\"attributes\":{\"fill_alpha\":{\"field\":\"fill_alpha\"},\"fill_color\":{\"field\":\"color\"},\"height\":{\"field\":\"height\",\"units\":\"data\"},\"line_color\":{\"field\":\"line_color\"},\"width\":{\"field\":\"width\",\"units\":\"data\"},\"x\":{\"field\":\"x\"},\"y\":{\"field\":\"y\"}},\"id\":\"1de4f6be-a0c9-41c5-b829-3a7ec16c9d8e\",\"type\":\"Rect\"},{\"attributes\":{\"data_source\":{\"id\":\"bcd3a0b4-03c0-4152-88f3-d14756b91471\",\"type\":\"ColumnDataSource\"},\"glyph\":{\"id\":\"2ff2dabf-fc45-41f9-8b82-f007f25b0472\",\"type\":\"Rect\"},\"hover_glyph\":null,\"nonselection_glyph\":null,\"selection_glyph\":null},\"id\":\"377f1ab6-fed3-4c7d-89a8-321417e64139\",\"type\":\"GlyphRenderer\"},{\"attributes\":{\"callback\":null,\"column_names\":[\"line_color\",\"height\",\"x\",\"fill_alpha\",\"width\",\"label\",\"line_alpha\",\"color\",\"y\"],\"data\":{\"PercentageAmongstTop\":[5.373820606092213],\"QuestCreationYear\":[\"Oct'15-16\"],\"QuestTags\":[\"pandas\"],\"YearTagCount\":[12365],\"chart_index\":[{\"PercentageAmongstTop\":5.373820606092213,\"QuestCreationYear\":\"Oct'15-16\",\"QuestTags\":\"pandas\",\"YearTagCount\":12365}],\"color\":[\"#87CEFA\"],\"fill_alpha\":[0.8],\"height\":[5.373820606092213],\"label\":[{\"PercentageAmongstTop\":5.373820606092213,\"QuestCreationYear\":\"Oct'15-16\",\"QuestTags\":\"pandas\",\"YearTagCount\":12365}],\"line_alpha\":[1.0],\"line_color\":[\"#ADD8E6\"],\"width\":[1.0],\"x\":[\"Oct'15-16\"],\"y\":[19.53676058357997]}},\"id\":\"abba73d8-d759-4e26-a394-faebfe002db1\",\"type\":\"ColumnDataSource\"},{\"attributes\":{\"data_source\":{\"id\":\"a0cfb2d7-1eb1-4397-a65b-415886a46bf0\",\"type\":\"ColumnDataSource\"},\"glyph\":{\"id\":\"f2826ade-fd74-4406-996d-f0abdb223ae6\",\"type\":\"Rect\"},\"hover_glyph\":null,\"nonselection_glyph\":null,\"selection_glyph\":null},\"id\":\"9bbdcd95-ad2d-4fc1-816f-2c3477dd5dcd\",\"type\":\"GlyphRenderer\"},{\"attributes\":{\"callback\":null,\"column_names\":[\"line_color\",\"height\",\"x\",\"fill_alpha\",\"width\",\"label\",\"line_alpha\",\"color\",\"y\"],\"data\":{\"PercentageAmongstTop\":[1.7112237471742588],\"QuestCreationYear\":[\"Oct'13-14\"],\"QuestTags\":[\"dictionary\"],\"YearTagCount\":[2657],\"chart_index\":[{\"PercentageAmongstTop\":1.7112237471742588,\"QuestCreationYear\":\"Oct'13-14\",\"QuestTags\":\"dictionary\",\"YearTagCount\":2657}],\"color\":[\"#4B0082\"],\"fill_alpha\":[0.8],\"height\":[1.7112237471742588],\"label\":[{\"PercentageAmongstTop\":1.7112237471742588,\"QuestCreationYear\":\"Oct'13-14\",\"QuestTags\":\"dictionary\",\"YearTagCount\":2657}],\"line_alpha\":[1.0],\"line_color\":[\"#90EE90\"],\"width\":[1.0],\"x\":[\"Oct'13-14\"],\"y\":[0.8556118735871294]}},\"id\":\"8134b264-bed9-44d7-9347-388366b2a2b5\",\"type\":\"ColumnDataSource\"},{\"attributes\":{\"fill_alpha\":{\"field\":\"fill_alpha\"},\"fill_color\":{\"field\":\"color\"},\"height\":{\"field\":\"height\",\"units\":\"data\"},\"line_color\":{\"field\":\"line_color\"},\"width\":{\"field\":\"width\",\"units\":\"data\"},\"x\":{\"field\":\"x\"},\"y\":{\"field\":\"y\"}},\"id\":\"9ba08088-44fe-44c1-94f6-565a56c25186\",\"type\":\"Rect\"},{\"attributes\":{\"fill_alpha\":{\"field\":\"fill_alpha\"},\"fill_color\":{\"field\":\"color\"},\"height\":{\"field\":\"height\",\"units\":\"data\"},\"line_color\":{\"field\":\"line_color\"},\"width\":{\"field\":\"width\",\"units\":\"data\"},\"x\":{\"field\":\"x\"},\"y\":{\"field\":\"y\"}},\"id\":\"5a9d95de-e349-4f4c-9830-68bd1e49b70b\",\"type\":\"Rect\"},{\"attributes\":{\"callback\":null,\"column_names\":[\"line_color\",\"height\",\"x\",\"fill_alpha\",\"width\",\"label\",\"line_alpha\",\"color\",\"y\"],\"data\":{\"PercentageAmongstTop\":[6.9992018454035945],\"QuestCreationYear\":[\"Oct'12-13\"],\"QuestTags\":[\"django\"],\"YearTagCount\":[7980],\"chart_index\":[{\"PercentageAmongstTop\":6.9992018454035945,\"QuestCreationYear\":\"Oct'12-13\",\"QuestTags\":\"django\",\"YearTagCount\":7980}],\"color\":[\"#FF6347\"],\"fill_alpha\":[0.8],\"height\":[6.9992018454035945],\"label\":[{\"PercentageAmongstTop\":6.9992018454035945,\"QuestCreationYear\":\"Oct'12-13\",\"QuestTags\":\"django\",\"YearTagCount\":7980}],\"line_alpha\":[1.0],\"line_color\":[\"#4B0082\"],\"width\":[1.0],\"x\":[\"Oct'12-13\"],\"y\":[5.082753721066896]}},\"id\":\"868f6497-0dd1-4e5f-be2c-04f00242eab1\",\"type\":\"ColumnDataSource\"},{\"attributes\":{\"callback\":null,\"plot\":{\"id\":\"1b78b77b-5f82-4602-b1cb-463026b3d4b9\",\"subtype\":\"Chart\",\"type\":\"Plot\"},\"tooltips\":[[\"Tag\",\"@QuestTags\"],[\"Yearly Tag Count\",\"@YearTagCount\"],[\"Percentage of Tag Used\",\"@PercentageAmongstTop{1.11}%\"]]},\"id\":\"e7e10983-9a4c-4483-88b0-576935ba9587\",\"type\":\"HoverTool\"},{\"attributes\":{\"fill_alpha\":{\"field\":\"fill_alpha\"},\"fill_color\":{\"field\":\"color\"},\"height\":{\"field\":\"height\",\"units\":\"data\"},\"line_color\":{\"field\":\"line_color\"},\"width\":{\"field\":\"width\",\"units\":\"data\"},\"x\":{\"field\":\"x\"},\"y\":{\"field\":\"y\"}},\"id\":\"42ae7a37-f379-47bd-a4f4-7b48db757c28\",\"type\":\"Rect\"},{\"attributes\":{\"fill_alpha\":{\"field\":\"fill_alpha\"},\"fill_color\":{\"field\":\"color\"},\"height\":{\"field\":\"height\",\"units\":\"data\"},\"line_color\":{\"field\":\"line_color\"},\"width\":{\"field\":\"width\",\"units\":\"data\"},\"x\":{\"field\":\"x\"},\"y\":{\"field\":\"y\"}},\"id\":\"a5513ee8-288a-4e70-acb3-3438003c185d\",\"type\":\"Rect\"},{\"attributes\":{\"data_source\":{\"id\":\"4439db8b-c5df-435a-b3a1-525ea8a7d9b5\",\"type\":\"ColumnDataSource\"},\"glyph\":{\"id\":\"f8c26216-da0c-48b4-9554-b38d0d280d7f\",\"type\":\"Rect\"},\"hover_glyph\":null,\"nonselection_glyph\":null,\"selection_glyph\":null},\"id\":\"198bb0c6-af71-419e-a7c3-13b42558212b\",\"type\":\"GlyphRenderer\"},{\"attributes\":{\"data_source\":{\"id\":\"aab417a2-0c2f-43db-9a6b-b2e97d833fc3\",\"type\":\"ColumnDataSource\"},\"glyph\":{\"id\":\"ba1b0c02-fdf6-4c57-bba1-637329d25aea\",\"type\":\"Rect\"},\"hover_glyph\":null,\"nonselection_glyph\":null,\"selection_glyph\":null},\"id\":\"2699f3e1-f5eb-42d5-8c32-5bb041cda3bc\",\"type\":\"GlyphRenderer\"},{\"attributes\":{\"data_source\":{\"id\":\"94bb1f3b-4c65-4d1c-a154-cd4339c83b4f\",\"type\":\"ColumnDataSource\"},\"glyph\":{\"id\":\"9ce274cf-e604-4a11-b650-26dbe0ec7fe2\",\"type\":\"Rect\"},\"hover_glyph\":null,\"nonselection_glyph\":null,\"selection_glyph\":null},\"id\":\"12829232-644b-4edd-83b4-613da338ac29\",\"type\":\"GlyphRenderer\"},{\"attributes\":{\"callback\":null,\"column_names\":[\"line_color\",\"height\",\"x\",\"fill_alpha\",\"width\",\"label\",\"line_alpha\",\"color\",\"y\"],\"data\":{\"PercentageAmongstTop\":[1.5723675731408686],\"QuestCreationYear\":[\"Oct'09-10\"],\"QuestTags\":[\"string\"],\"YearTagCount\":[488],\"chart_index\":[{\"PercentageAmongstTop\":1.5723675731408686,\"QuestCreationYear\":\"Oct'09-10\",\"QuestTags\":\"string\",\"YearTagCount\":488}],\"color\":[\"#40E0D0\"],\"fill_alpha\":[0.8],\"height\":[1.5723675731408686],\"label\":[{\"PercentageAmongstTop\":1.5723675731408686,\"QuestCreationYear\":\"Oct'09-10\",\"QuestTags\":\"string\",\"YearTagCount\":488}],\"line_alpha\":[1.0],\"line_color\":[\"#FFA07A\"],\"width\":[1.0],\"x\":[\"Oct'09-10\"],\"y\":[97.97332130429179]}},\"id\":\"c1676cc3-1b3a-4acf-b536-0dc1e4ca5637\",\"type\":\"ColumnDataSource\"},{\"attributes\":{\"data_source\":{\"id\":\"d4dc43b6-2ffd-41c8-9df4-43a5b97523bc\",\"type\":\"ColumnDataSource\"},\"glyph\":{\"id\":\"b4e48412-483a-47a6-b72e-335b7b96fb2b\",\"type\":\"Rect\"},\"hover_glyph\":null,\"nonselection_glyph\":null,\"selection_glyph\":null},\"id\":\"7b67c54f-c321-4606-bf62-07af64410e14\",\"type\":\"GlyphRenderer\"},{\"attributes\":{},\"id\":\"7ec7da00-04cf-4ac1-b216-a69b5a636d09\",\"type\":\"BasicTicker\"},{\"attributes\":{\"fill_alpha\":{\"field\":\"fill_alpha\"},\"fill_color\":{\"field\":\"color\"},\"height\":{\"field\":\"height\",\"units\":\"data\"},\"line_color\":{\"field\":\"line_color\"},\"width\":{\"field\":\"width\",\"units\":\"data\"},\"x\":{\"field\":\"x\"},\"y\":{\"field\":\"y\"}},\"id\":\"298fd34a-51ae-4b90-96e8-6f558b07b509\",\"type\":\"Rect\"},{\"attributes\":{\"fill_alpha\":{\"field\":\"fill_alpha\"},\"fill_color\":{\"field\":\"color\"},\"height\":{\"field\":\"height\",\"units\":\"data\"},\"line_color\":{\"field\":\"line_color\"},\"width\":{\"field\":\"width\",\"units\":\"data\"},\"x\":{\"field\":\"x\"},\"y\":{\"field\":\"y\"}},\"id\":\"a8adff1b-7f2b-44d8-8eda-5901325777ea\",\"type\":\"Rect\"},{\"attributes\":{\"data_source\":{\"id\":\"1f544c96-8d83-46ac-922c-71be0883314e\",\"type\":\"ColumnDataSource\"},\"glyph\":{\"id\":\"effd934a-f89d-41ce-ba9e-053d30f5dbcf\",\"type\":\"Rect\"},\"hover_glyph\":null,\"nonselection_glyph\":null,\"selection_glyph\":null},\"id\":\"603cd91d-377b-4058-92d4-c58f96fdae61\",\"type\":\"GlyphRenderer\"},{\"attributes\":{\"data_source\":{\"id\":\"a7eeff4e-5145-487c-b7ca-fc0a5e3c350e\",\"type\":\"ColumnDataSource\"},\"glyph\":{\"id\":\"4ed1751c-528c-4bfa-aa12-bfff44964b3b\",\"type\":\"Rect\"},\"hover_glyph\":null,\"nonselection_glyph\":null,\"selection_glyph\":null},\"id\":\"c552630e-df96-48dc-b6ea-fe045b320e8d\",\"type\":\"GlyphRenderer\"},{\"attributes\":{\"callback\":null,\"column_names\":[\"line_color\",\"height\",\"x\",\"fill_alpha\",\"width\",\"label\",\"line_alpha\",\"color\",\"y\"],\"data\":{\"PercentageAmongstTop\":[3.3586871816009634],\"QuestCreationYear\":[\"Oct'13-14\"],\"QuestTags\":[\"numpy\"],\"YearTagCount\":[5215],\"chart_index\":[{\"PercentageAmongstTop\":3.3586871816009634,\"QuestCreationYear\":\"Oct'13-14\",\"QuestTags\":\"numpy\",\"YearTagCount\":5215}],\"color\":[\"#FFB6C1\"],\"fill_alpha\":[0.8],\"height\":[3.3586871816009634],\"label\":[{\"PercentageAmongstTop\":3.3586871816009634,\"QuestCreationYear\":\"Oct'13-14\",\"QuestTags\":\"numpy\",\"YearTagCount\":5215}],\"line_alpha\":[1.0],\"line_color\":[\"#F08080\"],\"width\":[1.0],\"x\":[\"Oct'13-14\"],\"y\":[15.429029619563465]}},\"id\":\"abca1b41-753b-4775-9cfe-5ca169f55c57\",\"type\":\"ColumnDataSource\"},{\"attributes\":{\"fill_alpha\":{\"field\":\"fill_alpha\"},\"fill_color\":{\"field\":\"color\"},\"height\":{\"field\":\"height\",\"units\":\"data\"},\"line_color\":{\"field\":\"line_color\"},\"width\":{\"field\":\"width\",\"units\":\"data\"},\"x\":{\"field\":\"x\"},\"y\":{\"field\":\"y\"}},\"id\":\"76e4553a-bfbc-4fd4-a6fb-32ab2c74b329\",\"type\":\"Rect\"},{\"attributes\":{\"data_source\":{\"id\":\"2855a0ab-c517-4294-92a7-7367f8cb1af9\",\"type\":\"ColumnDataSource\"},\"glyph\":{\"id\":\"805bdc62-497c-4e3b-9c79-a3b2e4fa7eff\",\"type\":\"Rect\"},\"hover_glyph\":null,\"nonselection_glyph\":null,\"selection_glyph\":null},\"id\":\"54396117-d7f8-4028-8ea7-0e23d10e84a1\",\"type\":\"GlyphRenderer\"},{\"attributes\":{\"callback\":null,\"column_names\":[\"line_color\",\"height\",\"x\",\"fill_alpha\",\"width\",\"label\",\"line_alpha\",\"color\",\"y\"],\"data\":{\"PercentageAmongstTop\":[3.072087796018523],\"QuestCreationYear\":[\"Oct'13-14\"],\"QuestTags\":[\"pandas\"],\"YearTagCount\":[4770],\"chart_index\":[{\"PercentageAmongstTop\":3.072087796018523,\"QuestCreationYear\":\"Oct'13-14\",\"QuestTags\":\"pandas\",\"YearTagCount\":4770}],\"color\":[\"#87CEFA\"],\"fill_alpha\":[0.8],\"height\":[3.072087796018523],\"label\":[{\"PercentageAmongstTop\":3.072087796018523,\"QuestCreationYear\":\"Oct'13-14\",\"QuestTags\":\"pandas\",\"YearTagCount\":4770}],\"line_alpha\":[1.0],\"line_color\":[\"#90EE90\"],\"width\":[1.0],\"x\":[\"Oct'13-14\"],\"y\":[18.644417108373208]}},\"id\":\"c98e3ccc-e384-44b7-98f2-0b1784c3da5e\",\"type\":\"ColumnDataSource\"},{\"attributes\":{\"data_source\":{\"id\":\"0fcb57a1-427e-42a1-95ed-f49981a54946\",\"type\":\"ColumnDataSource\"},\"glyph\":{\"id\":\"79728db9-865e-40a1-888a-cdd7cc9510ec\",\"type\":\"Rect\"},\"hover_glyph\":null,\"nonselection_glyph\":null,\"selection_glyph\":null},\"id\":\"b114c2e2-36e4-41e4-81de-a5c493de9559\",\"type\":\"GlyphRenderer\"},{\"attributes\":{\"data_source\":{\"id\":\"dcb0f3b8-fcac-4534-9242-93a32eef42ef\",\"type\":\"ColumnDataSource\"},\"glyph\":{\"id\":\"13bc5b19-7cb2-4616-be8c-c9a163cb1c3c\",\"type\":\"Rect\"},\"hover_glyph\":null,\"nonselection_glyph\":null,\"selection_glyph\":null},\"id\":\"96e7e2eb-714d-48e8-a038-0cc61522aae0\",\"type\":\"GlyphRenderer\"},{\"attributes\":{\"data_source\":{\"id\":\"5fc760c2-4ed6-46ce-aaef-06e0c7c8dd4d\",\"type\":\"ColumnDataSource\"},\"glyph\":{\"id\":\"a0a04e84-1c19-4abd-9f47-f61ca02609d7\",\"type\":\"Rect\"},\"hover_glyph\":null,\"nonselection_glyph\":null,\"selection_glyph\":null},\"id\":\"c5d25f55-6019-4968-adc0-ca403464788c\",\"type\":\"GlyphRenderer\"},{\"attributes\":{\"callback\":null,\"column_names\":[\"line_color\",\"height\",\"x\",\"fill_alpha\",\"width\",\"label\",\"line_alpha\",\"color\",\"y\"],\"data\":{\"PercentageAmongstTop\":[1.2962295147653964],\"QuestCreationYear\":[\"Oct'10-11\"],\"QuestTags\":[\"dictionary\"],\"YearTagCount\":[647],\"chart_index\":[{\"PercentageAmongstTop\":1.2962295147653964,\"QuestCreationYear\":\"Oct'10-11\",\"QuestTags\":\"dictionary\",\"YearTagCount\":647}],\"color\":[\"#4B0082\"],\"fill_alpha\":[0.8],\"height\":[1.2962295147653964],\"label\":[{\"PercentageAmongstTop\":1.2962295147653964,\"QuestCreationYear\":\"Oct'10-11\",\"QuestTags\":\"dictionary\",\"YearTagCount\":647}],\"line_alpha\":[1.0],\"line_color\":[\"#FF6347\"],\"width\":[1.0],\"x\":[\"Oct'10-11\"],\"y\":[0.6481147573826982]}},\"id\":\"e2916b7c-2eaa-45f2-9082-5a429e210226\",\"type\":\"ColumnDataSource\"},{\"attributes\":{\"fill_alpha\":{\"field\":\"fill_alpha\"},\"fill_color\":{\"field\":\"color\"},\"height\":{\"field\":\"height\",\"units\":\"data\"},\"line_color\":{\"field\":\"line_color\"},\"width\":{\"field\":\"width\",\"units\":\"data\"},\"x\":{\"field\":\"x\"},\"y\":{\"field\":\"y\"}},\"id\":\"b2d9d460-2143-4596-aa56-3ac7640af8fd\",\"type\":\"Rect\"},{\"attributes\":{\"callback\":null,\"column_names\":[\"line_color\",\"height\",\"x\",\"fill_alpha\",\"width\",\"label\",\"line_alpha\",\"color\",\"y\"],\"data\":{\"PercentageAmongstTop\":[1.7603255769078965],\"QuestCreationYear\":[\"Oct'12-13\"],\"QuestTags\":[\"pandas\"],\"YearTagCount\":[2007],\"chart_index\":[{\"PercentageAmongstTop\":1.7603255769078965,\"QuestCreationYear\":\"Oct'12-13\",\"QuestTags\":\"pandas\",\"YearTagCount\":2007}],\"color\":[\"#87CEFA\"],\"fill_alpha\":[0.8],\"height\":[1.7603255769078965],\"label\":[{\"PercentageAmongstTop\":1.7603255769078965,\"QuestCreationYear\":\"Oct'12-13\",\"QuestTags\":\"pandas\",\"YearTagCount\":2007}],\"line_alpha\":[1.0],\"line_color\":[\"#F0E68C\"],\"width\":[1.0],\"x\":[\"Oct'12-13\"],\"y\":[16.921315990281812]}},\"id\":\"e0900c0a-155b-4bee-850d-87dfe8467cf5\",\"type\":\"ColumnDataSource\"},{\"attributes\":{\"callback\":null,\"column_names\":[\"line_color\",\"height\",\"x\",\"fill_alpha\",\"width\",\"label\",\"line_alpha\",\"color\",\"y\"],\"data\":{\"PercentageAmongstTop\":[1.5831527983650988],\"QuestCreationYear\":[\"Oct'12-13\"],\"QuestTags\":[\"dictionary\"],\"YearTagCount\":[1805],\"chart_index\":[{\"PercentageAmongstTop\":1.5831527983650988,\"QuestCreationYear\":\"Oct'12-13\",\"QuestTags\":\"dictionary\",\"YearTagCount\":1805}],\"color\":[\"#4B0082\"],\"fill_alpha\":[0.8],\"height\":[1.5831527983650988],\"label\":[{\"PercentageAmongstTop\":1.5831527983650988,\"QuestCreationYear\":\"Oct'12-13\",\"QuestTags\":\"dictionary\",\"YearTagCount\":1805}],\"line_alpha\":[1.0],\"line_color\":[\"#FF6347\"],\"width\":[1.0],\"x\":[\"Oct'12-13\"],\"y\":[0.7915763991825494]}},\"id\":\"e8baa2dc-c815-422c-9596-c4cccaa103e6\",\"type\":\"ColumnDataSource\"},{\"attributes\":{\"fill_alpha\":{\"field\":\"fill_alpha\"},\"fill_color\":{\"field\":\"color\"},\"height\":{\"field\":\"height\",\"units\":\"data\"},\"line_color\":{\"field\":\"line_color\"},\"width\":{\"field\":\"width\",\"units\":\"data\"},\"x\":{\"field\":\"x\"},\"y\":{\"field\":\"y\"}},\"id\":\"bc2fe0e0-8b6d-4fd4-87ac-a1870798edc1\",\"type\":\"Rect\"},{\"attributes\":{\"data_source\":{\"id\":\"1019aefc-c9cb-43b9-80ed-19cbe4d6100f\",\"type\":\"ColumnDataSource\"},\"glyph\":{\"id\":\"5f13abf5-c56d-4d6a-ba46-1bebbe5cf901\",\"type\":\"Rect\"},\"hover_glyph\":null,\"nonselection_glyph\":null,\"selection_glyph\":null},\"id\":\"8fc26b79-f220-458c-bd4e-a8699943b088\",\"type\":\"GlyphRenderer\"},{\"attributes\":{\"fill_alpha\":{\"field\":\"fill_alpha\"},\"fill_color\":{\"field\":\"color\"},\"height\":{\"field\":\"height\",\"units\":\"data\"},\"line_color\":{\"field\":\"line_color\"},\"width\":{\"field\":\"width\",\"units\":\"data\"},\"x\":{\"field\":\"x\"},\"y\":{\"field\":\"y\"}},\"id\":\"5f13abf5-c56d-4d6a-ba46-1bebbe5cf901\",\"type\":\"Rect\"},{\"attributes\":{\"fill_alpha\":{\"field\":\"fill_alpha\"},\"fill_color\":{\"field\":\"color\"},\"height\":{\"field\":\"height\",\"units\":\"data\"},\"line_color\":{\"field\":\"line_color\"},\"width\":{\"field\":\"width\",\"units\":\"data\"},\"x\":{\"field\":\"x\"},\"y\":{\"field\":\"y\"}},\"id\":\"99756ebd-7c26-426a-b606-9f8cdbf9f324\",\"type\":\"Rect\"},{\"attributes\":{\"fill_alpha\":{\"field\":\"fill_alpha\"},\"fill_color\":{\"field\":\"color\"},\"height\":{\"field\":\"height\",\"units\":\"data\"},\"line_color\":{\"field\":\"line_color\"},\"width\":{\"field\":\"width\",\"units\":\"data\"},\"x\":{\"field\":\"x\"},\"y\":{\"field\":\"y\"}},\"id\":\"effd934a-f89d-41ce-ba9e-053d30f5dbcf\",\"type\":\"Rect\"},{\"attributes\":{\"data_source\":{\"id\":\"135d46c7-e5f3-4720-a1a4-2743f7966509\",\"type\":\"ColumnDataSource\"},\"glyph\":{\"id\":\"99756ebd-7c26-426a-b606-9f8cdbf9f324\",\"type\":\"Rect\"},\"hover_glyph\":null,\"nonselection_glyph\":null,\"selection_glyph\":null},\"id\":\"be59f702-8168-4a49-9155-3fee5c74dbec\",\"type\":\"GlyphRenderer\"},{\"attributes\":{\"data_source\":{\"id\":\"deec132f-6bc3-4d05-a69a-2fd27f3c205e\",\"type\":\"ColumnDataSource\"},\"glyph\":{\"id\":\"9ba08088-44fe-44c1-94f6-565a56c25186\",\"type\":\"Rect\"},\"hover_glyph\":null,\"nonselection_glyph\":null,\"selection_glyph\":null},\"id\":\"353d09d1-2253-4bdb-93a9-96ea9f9216b6\",\"type\":\"GlyphRenderer\"},{\"attributes\":{\"callback\":null,\"column_names\":[\"line_color\",\"height\",\"x\",\"fill_alpha\",\"width\",\"label\",\"line_alpha\",\"color\",\"y\"],\"data\":{\"PercentageAmongstTop\":[2.727759115188619],\"QuestCreationYear\":[\"Oct'12-13\"],\"QuestTags\":[\"python-3.x\"],\"YearTagCount\":[3110],\"chart_index\":[{\"PercentageAmongstTop\":2.727759115188619,\"QuestCreationYear\":\"Oct'12-13\",\"QuestTags\":\"python-3.x\",\"YearTagCount\":3110}],\"color\":[\"#778899\"],\"fill_alpha\":[0.8],\"height\":[2.727759115188619],\"label\":[{\"PercentageAmongstTop\":2.727759115188619,\"QuestCreationYear\":\"Oct'12-13\",\"QuestTags\":\"python-3.x\",\"YearTagCount\":3110}],\"line_alpha\":[1.0],\"line_color\":[\"#87CEFA\"],\"width\":[1.0],\"x\":[\"Oct'12-13\"],\"y\":[96.75826440844466]}},\"id\":\"5250c375-a549-4234-a82f-cc9e66e24582\",\"type\":\"ColumnDataSource\"},{\"attributes\":{\"callback\":null,\"column_names\":[\"line_color\",\"height\",\"x\",\"fill_alpha\",\"width\",\"label\",\"line_alpha\",\"color\",\"y\"],\"data\":{\"PercentageAmongstTop\":[76.73239882790845],\"QuestCreationYear\":[\"Oct'08-09\"],\"QuestTags\":[\"python\"],\"YearTagCount\":[9689],\"chart_index\":[{\"PercentageAmongstTop\":76.73239882790845,\"QuestCreationYear\":\"Oct'08-09\",\"QuestTags\":\"python\",\"YearTagCount\":9689}],\"color\":[\"#20B2AA\"],\"fill_alpha\":[0.8],\"height\":[76.73239882790845],\"label\":[{\"PercentageAmongstTop\":76.73239882790845,\"QuestCreationYear\":\"Oct'08-09\",\"QuestTags\":\"python\",\"YearTagCount\":9689}],\"line_alpha\":[1.0],\"line_color\":[\"#F0E68C\"],\"width\":[1.0],\"x\":[\"Oct'08-09\"],\"y\":[55.250653361843675]}},\"id\":\"135d46c7-e5f3-4720-a1a4-2743f7966509\",\"type\":\"ColumnDataSource\"},{\"attributes\":{\"data_source\":{\"id\":\"fb315d42-b6ed-4457-8252-a4448db19cef\",\"type\":\"ColumnDataSource\"},\"glyph\":{\"id\":\"d45f9221-e7b6-4b4a-8694-7d8f4ba6bd37\",\"type\":\"Rect\"},\"hover_glyph\":null,\"nonselection_glyph\":null,\"selection_glyph\":null},\"id\":\"95649d4f-01d4-49d7-aa55-72dd54347d0d\",\"type\":\"GlyphRenderer\"},{\"attributes\":{\"fill_alpha\":{\"field\":\"fill_alpha\"},\"fill_color\":{\"field\":\"color\"},\"height\":{\"field\":\"height\",\"units\":\"data\"},\"line_color\":{\"field\":\"line_color\"},\"width\":{\"field\":\"width\",\"units\":\"data\"},\"x\":{\"field\":\"x\"},\"y\":{\"field\":\"y\"}},\"id\":\"d6fa136d-1adf-4171-a9a6-c0b63e9d3432\",\"type\":\"Rect\"},{\"attributes\":{\"fill_alpha\":{\"field\":\"fill_alpha\"},\"fill_color\":{\"field\":\"color\"},\"height\":{\"field\":\"height\",\"units\":\"data\"},\"line_color\":{\"field\":\"line_color\"},\"width\":{\"field\":\"width\",\"units\":\"data\"},\"x\":{\"field\":\"x\"},\"y\":{\"field\":\"y\"}},\"id\":\"13a3696a-efe3-4e04-b291-cd636cba9936\",\"type\":\"Rect\"},{\"attributes\":{\"callback\":null,\"column_names\":[\"line_color\",\"height\",\"x\",\"fill_alpha\",\"width\",\"label\",\"line_alpha\",\"color\",\"y\"],\"data\":{\"PercentageAmongstTop\":[1.565426754803409],\"QuestCreationYear\":[\"Oct'15-16\"],\"QuestTags\":[\"dictionary\"],\"YearTagCount\":[3602],\"chart_index\":[{\"PercentageAmongstTop\":1.565426754803409,\"QuestCreationYear\":\"Oct'15-16\",\"QuestTags\":\"dictionary\",\"YearTagCount\":3602}],\"color\":[\"#4B0082\"],\"fill_alpha\":[0.8],\"height\":[1.565426754803409],\"label\":[{\"PercentageAmongstTop\":1.565426754803409,\"QuestCreationYear\":\"Oct'15-16\",\"QuestTags\":\"dictionary\",\"YearTagCount\":3602}],\"line_alpha\":[1.0],\"line_color\":[\"#40E0D0\"],\"width\":[1.0],\"x\":[\"Oct'15-16\"],\"y\":[0.7827133774017045]}},\"id\":\"7e9bb818-3b93-4317-bf9d-0ac748cd2f6b\",\"type\":\"ColumnDataSource\"},{\"attributes\":{\"data_source\":{\"id\":\"3d112137-b2dd-41bd-b9d8-2df4412e27f0\",\"type\":\"ColumnDataSource\"},\"glyph\":{\"id\":\"9cbe9536-0e1d-4f55-984b-d2b22c61ae8e\",\"type\":\"Rect\"},\"hover_glyph\":null,\"nonselection_glyph\":null,\"selection_glyph\":null},\"id\":\"b9529f8c-2f85-48f5-ab51-e1c0b8ae44f6\",\"type\":\"GlyphRenderer\"},{\"attributes\":{\"data_source\":{\"id\":\"eba5caa4-bbc4-478c-a904-e9aaf1ef8199\",\"type\":\"ColumnDataSource\"},\"glyph\":{\"id\":\"01f2026a-87eb-491d-b339-c17d44434380\",\"type\":\"Rect\"},\"hover_glyph\":null,\"nonselection_glyph\":null,\"selection_glyph\":null},\"id\":\"020deba5-4934-49fa-ab20-33752bc1c277\",\"type\":\"GlyphRenderer\"},{\"attributes\":{\"data_source\":{\"id\":\"e8baa2dc-c815-422c-9596-c4cccaa103e6\",\"type\":\"ColumnDataSource\"},\"glyph\":{\"id\":\"2b4c9b60-7692-4c0f-80b8-0e959edc3bb7\",\"type\":\"Rect\"},\"hover_glyph\":null,\"nonselection_glyph\":null,\"selection_glyph\":null},\"id\":\"a9200e54-47f1-4bc8-9664-2bd9582df561\",\"type\":\"GlyphRenderer\"},{\"attributes\":{\"fill_alpha\":{\"field\":\"fill_alpha\"},\"fill_color\":{\"field\":\"color\"},\"height\":{\"field\":\"height\",\"units\":\"data\"},\"line_color\":{\"field\":\"line_color\"},\"width\":{\"field\":\"width\",\"units\":\"data\"},\"x\":{\"field\":\"x\"},\"y\":{\"field\":\"y\"}},\"id\":\"9cbe9536-0e1d-4f55-984b-d2b22c61ae8e\",\"type\":\"Rect\"},{\"attributes\":{\"fill_alpha\":{\"field\":\"fill_alpha\"},\"fill_color\":{\"field\":\"color\"},\"height\":{\"field\":\"height\",\"units\":\"data\"},\"line_color\":{\"field\":\"line_color\"},\"width\":{\"field\":\"width\",\"units\":\"data\"},\"x\":{\"field\":\"x\"},\"y\":{\"field\":\"y\"}},\"id\":\"ad84b578-8dda-4a7d-bc3f-c3dba72d0b92\",\"type\":\"Rect\"},{\"attributes\":{\"callback\":null,\"column_names\":[\"line_color\",\"height\",\"x\",\"fill_alpha\",\"width\",\"label\",\"line_alpha\",\"color\",\"y\"],\"data\":{\"PercentageAmongstTop\":[3.2824652074231566],\"QuestCreationYear\":[\"Oct'14-15\"],\"QuestTags\":[\"numpy\"],\"YearTagCount\":[5913],\"chart_index\":[{\"PercentageAmongstTop\":3.2824652074231566,\"QuestCreationYear\":\"Oct'14-15\",\"QuestTags\":\"numpy\",\"YearTagCount\":5913}],\"color\":[\"#FFB6C1\"],\"fill_alpha\":[0.8],\"height\":[3.2824652074231566],\"label\":[{\"PercentageAmongstTop\":3.2824652074231566,\"QuestCreationYear\":\"Oct'14-15\",\"QuestTags\":\"numpy\",\"YearTagCount\":5913}],\"line_alpha\":[1.0],\"line_color\":[\"#87CEFA\"],\"width\":[1.0],\"x\":[\"Oct'14-15\"],\"y\":[14.956505809402739]}},\"id\":\"58b8fe62-8676-481d-a77a-c9b449f1ef77\",\"type\":\"ColumnDataSource\"},{\"attributes\":{\"callback\":null,\"column_names\":[\"line_color\",\"height\",\"x\",\"fill_alpha\",\"width\",\"label\",\"line_alpha\",\"color\",\"y\"],\"data\":{\"PercentageAmongstTop\":[6.326896917387015],\"QuestCreationYear\":[\"Oct'15-16\"],\"QuestTags\":[\"django\"],\"YearTagCount\":[14558],\"chart_index\":[{\"PercentageAmongstTop\":6.326896917387015,\"QuestCreationYear\":\"Oct'15-16\",\"QuestTags\":\"django\",\"YearTagCount\":14558}],\"color\":[\"#FF6347\"],\"fill_alpha\":[0.8],\"height\":[6.326896917387015],\"label\":[{\"PercentageAmongstTop\":6.326896917387015,\"QuestCreationYear\":\"Oct'15-16\",\"QuestTags\":\"django\",\"YearTagCount\":14558}],\"line_alpha\":[1.0],\"line_color\":[\"#D3D3D3\"],\"width\":[1.0],\"x\":[\"Oct'15-16\"],\"y\":[4.7288752134969165]}},\"id\":\"aefaf431-f798-4cbc-b2dc-9c9db7439676\",\"type\":\"ColumnDataSource\"},{\"attributes\":{\"fill_alpha\":{\"field\":\"fill_alpha\"},\"fill_color\":{\"field\":\"color\"},\"height\":{\"field\":\"height\",\"units\":\"data\"},\"line_color\":{\"field\":\"line_color\"},\"width\":{\"field\":\"width\",\"units\":\"data\"},\"x\":{\"field\":\"x\"},\"y\":{\"field\":\"y\"}},\"id\":\"514d24d1-01f0-4058-b87f-a9c6913f9520\",\"type\":\"Rect\"},{\"attributes\":{\"fill_alpha\":{\"field\":\"fill_alpha\"},\"fill_color\":{\"field\":\"color\"},\"height\":{\"field\":\"height\",\"units\":\"data\"},\"line_color\":{\"field\":\"line_color\"},\"width\":{\"field\":\"width\",\"units\":\"data\"},\"x\":{\"field\":\"x\"},\"y\":{\"field\":\"y\"}},\"id\":\"f5126c8b-a54a-4fe3-a225-0d074d8d6b48\",\"type\":\"Rect\"},{\"attributes\":{\"fill_alpha\":{\"field\":\"fill_alpha\"},\"fill_color\":{\"field\":\"color\"},\"height\":{\"field\":\"height\",\"units\":\"data\"},\"line_color\":{\"field\":\"line_color\"},\"width\":{\"field\":\"width\",\"units\":\"data\"},\"x\":{\"field\":\"x\"},\"y\":{\"field\":\"y\"}},\"id\":\"e825b7e5-e007-4d89-8c75-18b64e64afaa\",\"type\":\"Rect\"},{\"attributes\":{\"data_source\":{\"id\":\"25d6d0fd-d038-490d-afbc-dbec94dbfc84\",\"type\":\"ColumnDataSource\"},\"glyph\":{\"id\":\"c1bc486d-ff04-4eaf-a516-b221e91e6136\",\"type\":\"Rect\"},\"hover_glyph\":null,\"nonselection_glyph\":null,\"selection_glyph\":null},\"id\":\"7a3ac5e2-aadc-4562-a6df-8161b6da8d82\",\"type\":\"GlyphRenderer\"},{\"attributes\":{\"data_source\":{\"id\":\"0e2efbf3-dfaa-42f0-bf3f-6cd1c7fbb8f5\",\"type\":\"ColumnDataSource\"},\"glyph\":{\"id\":\"76e4553a-bfbc-4fd4-a6fb-32ab2c74b329\",\"type\":\"Rect\"},\"hover_glyph\":null,\"nonselection_glyph\":null,\"selection_glyph\":null},\"id\":\"2050a02c-5a0b-46e8-929f-70bea2584821\",\"type\":\"GlyphRenderer\"},{\"attributes\":{\"data_source\":{\"id\":\"77ef099c-7137-49ec-bb77-f52b1ce9960d\",\"type\":\"ColumnDataSource\"},\"glyph\":{\"id\":\"aede82c3-e67e-4de4-8696-e3c902cee87b\",\"type\":\"Rect\"},\"hover_glyph\":null,\"nonselection_glyph\":null,\"selection_glyph\":null},\"id\":\"55c80037-14ea-4c62-af3f-9e156513319a\",\"type\":\"GlyphRenderer\"},{\"attributes\":{\"fill_alpha\":{\"field\":\"fill_alpha\"},\"fill_color\":{\"field\":\"color\"},\"height\":{\"field\":\"height\",\"units\":\"data\"},\"line_color\":{\"field\":\"line_color\"},\"width\":{\"field\":\"width\",\"units\":\"data\"},\"x\":{\"field\":\"x\"},\"y\":{\"field\":\"y\"}},\"id\":\"aba85b52-1e2f-49b9-93b3-aff2087306bc\",\"type\":\"Rect\"},{\"attributes\":{\"callback\":null,\"column_names\":[\"line_color\",\"height\",\"x\",\"fill_alpha\",\"width\",\"label\",\"line_alpha\",\"color\",\"y\"],\"data\":{\"PercentageAmongstTop\":[72.87326883776412],\"QuestCreationYear\":[\"Oct'12-13\"],\"QuestTags\":[\"python\"],\"YearTagCount\":[83085],\"chart_index\":[{\"PercentageAmongstTop\":72.87326883776412,\"QuestCreationYear\":\"Oct'12-13\",\"QuestTags\":\"python\",\"YearTagCount\":83085}],\"color\":[\"#20B2AA\"],\"fill_alpha\":[0.8],\"height\":[72.87326883776412],\"label\":[{\"PercentageAmongstTop\":72.87326883776412,\"QuestCreationYear\":\"Oct'12-13\",\"QuestTags\":\"python\",\"YearTagCount\":83085}],\"line_alpha\":[1.0],\"line_color\":[\"#FFA07A\"],\"width\":[1.0],\"x\":[\"Oct'12-13\"],\"y\":[54.23811319761782]}},\"id\":\"63128499-f857-4262-99ad-e121168a9d57\",\"type\":\"ColumnDataSource\"},{\"attributes\":{\"callback\":null,\"column_names\":[\"line_color\",\"height\",\"x\",\"fill_alpha\",\"width\",\"label\",\"line_alpha\",\"color\",\"y\"],\"data\":{\"PercentageAmongstTop\":[2.650574934437301],\"QuestCreationYear\":[\"Oct'12-13\"],\"QuestTags\":[\"list\"],\"YearTagCount\":[3022],\"chart_index\":[{\"PercentageAmongstTop\":2.650574934437301,\"QuestCreationYear\":\"Oct'12-13\",\"QuestTags\":\"list\",\"YearTagCount\":3022}],\"color\":[\"#90EE90\"],\"fill_alpha\":[0.8],\"height\":[2.650574934437301],\"label\":[{\"PercentageAmongstTop\":2.650574934437301,\"QuestCreationYear\":\"Oct'12-13\",\"QuestTags\":\"list\",\"YearTagCount\":3022}],\"line_alpha\":[1.0],\"line_color\":[\"#D3D3D3\"],\"width\":[1.0],\"x\":[\"Oct'12-13\"],\"y\":[9.907642110987345]}},\"id\":\"7cb118d2-8a66-4cf0-8f8d-4d6977653893\",\"type\":\"ColumnDataSource\"},{\"attributes\":{\"fill_alpha\":{\"field\":\"fill_alpha\"},\"fill_color\":{\"field\":\"color\"},\"height\":{\"field\":\"height\",\"units\":\"data\"},\"line_color\":{\"field\":\"line_color\"},\"width\":{\"field\":\"width\",\"units\":\"data\"},\"x\":{\"field\":\"x\"},\"y\":{\"field\":\"y\"}},\"id\":\"3bb64b92-7a79-4add-a94a-4c9ffb0ab530\",\"type\":\"Rect\"},{\"attributes\":{\"axis_label\":\"Year in which Question was Created\",\"formatter\":{\"id\":\"990169e6-179b-4797-8616-99dbec1476a9\",\"type\":\"CategoricalTickFormatter\"},\"major_label_orientation\":0.7853981633974483,\"plot\":{\"id\":\"1b78b77b-5f82-4602-b1cb-463026b3d4b9\",\"subtype\":\"Chart\",\"type\":\"Plot\"},\"ticker\":{\"id\":\"a3cd2c67-0a32-40ce-9636-ba1e272f556d\",\"type\":\"CategoricalTicker\"}},\"id\":\"255fcc3c-96c3-465e-ab4b-c3d849faf79b\",\"type\":\"CategoricalAxis\"},{\"attributes\":{\"data_source\":{\"id\":\"7ac7e1fb-3b36-443f-9517-aa15b341f32e\",\"type\":\"ColumnDataSource\"},\"glyph\":{\"id\":\"356a2236-c71e-42df-86e3-69a0899cbb6b\",\"type\":\"Rect\"},\"hover_glyph\":null,\"nonselection_glyph\":null,\"selection_glyph\":null},\"id\":\"faf28d18-7573-4e88-8907-7f397132c0f2\",\"type\":\"GlyphRenderer\"},{\"attributes\":{\"callback\":null,\"column_names\":[\"line_color\",\"height\",\"x\",\"fill_alpha\",\"width\",\"label\",\"line_alpha\",\"color\",\"y\"],\"data\":{\"PercentageAmongstTop\":[1.2196087748475488],\"QuestCreationYear\":[\"Oct'08-09\"],\"QuestTags\":[\"wxpython\"],\"YearTagCount\":[154],\"chart_index\":[{\"PercentageAmongstTop\":1.2196087748475488,\"QuestCreationYear\":\"Oct'08-09\",\"QuestTags\":\"wxpython\",\"YearTagCount\":154}],\"color\":[\"#FF6347\"],\"fill_alpha\":[0.8],\"height\":[1.2196087748475488],\"label\":[{\"PercentageAmongstTop\":1.2196087748475488,\"QuestCreationYear\":\"Oct'08-09\",\"QuestTags\":\"wxpython\",\"YearTagCount\":154}],\"line_alpha\":[1.0],\"line_color\":[\"#FF6347\"],\"width\":[1.0],\"x\":[\"Oct'08-09\"],\"y\":[99.39019561257624]}},\"id\":\"d48e0e42-c95e-44a4-b566-0a98ca555544\",\"type\":\"ColumnDataSource\"},{\"attributes\":{\"fill_alpha\":{\"field\":\"fill_alpha\"},\"fill_color\":{\"field\":\"color\"},\"height\":{\"field\":\"height\",\"units\":\"data\"},\"line_color\":{\"field\":\"line_color\"},\"width\":{\"field\":\"width\",\"units\":\"data\"},\"x\":{\"field\":\"x\"},\"y\":{\"field\":\"y\"}},\"id\":\"79728db9-865e-40a1-888a-cdd7cc9510ec\",\"type\":\"Rect\"},{\"attributes\":{\"fill_alpha\":{\"field\":\"fill_alpha\"},\"fill_color\":{\"field\":\"color\"},\"height\":{\"field\":\"height\",\"units\":\"data\"},\"line_color\":{\"field\":\"line_color\"},\"width\":{\"field\":\"width\",\"units\":\"data\"},\"x\":{\"field\":\"x\"},\"y\":{\"field\":\"y\"}},\"id\":\"4ed1751c-528c-4bfa-aa12-bfff44964b3b\",\"type\":\"Rect\"},{\"attributes\":{\"data_source\":{\"id\":\"7cb118d2-8a66-4cf0-8f8d-4d6977653893\",\"type\":\"ColumnDataSource\"},\"glyph\":{\"id\":\"f5126c8b-a54a-4fe3-a225-0d074d8d6b48\",\"type\":\"Rect\"},\"hover_glyph\":null,\"nonselection_glyph\":null,\"selection_glyph\":null},\"id\":\"47684e5a-60e7-4cbf-9fb2-1b21d0d7460c\",\"type\":\"GlyphRenderer\"},{\"attributes\":{\"callback\":null,\"column_names\":[\"line_color\",\"height\",\"x\",\"fill_alpha\",\"width\",\"label\",\"line_alpha\",\"color\",\"y\"],\"data\":{\"PercentageAmongstTop\":[4.9739484378723375],\"QuestCreationYear\":[\"Oct'13-14\"],\"QuestTags\":[\"python-2.7\"],\"YearTagCount\":[7723],\"chart_index\":[{\"PercentageAmongstTop\":4.9739484378723375,\"QuestCreationYear\":\"Oct'13-14\",\"QuestTags\":\"python-2.7\",\"YearTagCount\":7723}],\"color\":[\"#FFA07A\"],\"fill_alpha\":[0.8],\"height\":[4.9739484378723375],\"label\":[{\"PercentageAmongstTop\":4.9739484378723375,\"QuestCreationYear\":\"Oct'13-14\",\"QuestTags\":\"python-2.7\",\"YearTagCount\":7723}],\"line_alpha\":[1.0],\"line_color\":[\"#9370DB\"],\"width\":[1.0],\"x\":[\"Oct'13-14\"],\"y\":[92.89265725933703]}},\"id\":\"9810f2c0-0657-4a79-a59e-c8b453b74d1e\",\"type\":\"ColumnDataSource\"},{\"attributes\":{\"fill_alpha\":{\"field\":\"fill_alpha\"},\"fill_color\":{\"field\":\"color\"},\"height\":{\"field\":\"height\",\"units\":\"data\"},\"line_color\":{\"field\":\"line_color\"},\"width\":{\"field\":\"width\",\"units\":\"data\"},\"x\":{\"field\":\"x\"},\"y\":{\"field\":\"y\"}},\"id\":\"4bce40c7-ddec-4e4b-bd52-bacaac68c1e6\",\"type\":\"Rect\"},{\"attributes\":{\"active_drag\":\"auto\",\"active_scroll\":\"auto\",\"active_tap\":\"auto\",\"tools\":[{\"id\":\"e7e10983-9a4c-4483-88b0-576935ba9587\",\"type\":\"HoverTool\"}]},\"id\":\"05c6570d-32c9-4054-a35b-db5b24db8bbb\",\"type\":\"Toolbar\"},{\"attributes\":{\"data_source\":{\"id\":\"a96356a7-5dda-4973-9327-a9e62a09b302\",\"type\":\"ColumnDataSource\"},\"glyph\":{\"id\":\"79ef7ac3-f0d7-48cd-aa39-b8c9118ed4bf\",\"type\":\"Rect\"},\"hover_glyph\":null,\"nonselection_glyph\":null,\"selection_glyph\":null},\"id\":\"146e3a9e-b7e3-489c-8719-e920a9e2ffe7\",\"type\":\"GlyphRenderer\"},{\"attributes\":{\"data_source\":{\"id\":\"abca1b41-753b-4775-9cfe-5ca169f55c57\",\"type\":\"ColumnDataSource\"},\"glyph\":{\"id\":\"380a0116-f0e2-4991-9593-f235132aaee4\",\"type\":\"Rect\"},\"hover_glyph\":null,\"nonselection_glyph\":null,\"selection_glyph\":null},\"id\":\"94a85ae1-e158-4506-9310-8a7bb072f2f3\",\"type\":\"GlyphRenderer\"},{\"attributes\":{\"callback\":null,\"column_names\":[\"line_color\",\"height\",\"x\",\"fill_alpha\",\"width\",\"label\",\"line_alpha\",\"color\",\"y\"],\"data\":{\"PercentageAmongstTop\":[1.9653804543815363],\"QuestCreationYear\":[\"Oct'10-11\"],\"QuestTags\":[\"numpy\"],\"YearTagCount\":[981],\"chart_index\":[{\"PercentageAmongstTop\":1.9653804543815363,\"QuestCreationYear\":\"Oct'10-11\",\"QuestTags\":\"numpy\",\"YearTagCount\":981}],\"color\":[\"#FFB6C1\"],\"fill_alpha\":[0.8],\"height\":[1.9653804543815363],\"label\":[{\"PercentageAmongstTop\":1.9653804543815363,\"QuestCreationYear\":\"Oct'10-11\",\"QuestTags\":\"numpy\",\"YearTagCount\":981}],\"line_alpha\":[1.0],\"line_color\":[\"#FFF0F5\"],\"width\":[1.0],\"x\":[\"Oct'10-11\"],\"y\":[18.092118443723205]}},\"id\":\"38288fdb-de2a-41d6-9717-303ab4719b8a\",\"type\":\"ColumnDataSource\"},{\"attributes\":{\"callback\":null,\"column_names\":[\"line_color\",\"height\",\"x\",\"fill_alpha\",\"width\",\"label\",\"line_alpha\",\"color\",\"y\"],\"data\":{\"PercentageAmongstTop\":[1.7419881313874286],\"QuestCreationYear\":[\"Oct'14-15\"],\"QuestTags\":[\"dictionary\"],\"YearTagCount\":[3138],\"chart_index\":[{\"PercentageAmongstTop\":1.7419881313874286,\"QuestCreationYear\":\"Oct'14-15\",\"QuestTags\":\"dictionary\",\"YearTagCount\":3138}],\"color\":[\"#4B0082\"],\"fill_alpha\":[0.8],\"height\":[1.7419881313874286],\"label\":[{\"PercentageAmongstTop\":1.7419881313874286,\"QuestCreationYear\":\"Oct'14-15\",\"QuestTags\":\"dictionary\",\"YearTagCount\":3138}],\"line_alpha\":[1.0],\"line_color\":[\"#FFA07A\"],\"width\":[1.0],\"x\":[\"Oct'14-15\"],\"y\":[0.8709940656937143]}},\"id\":\"a0cfb2d7-1eb1-4397-a65b-415886a46bf0\",\"type\":\"ColumnDataSource\"},{\"attributes\":{\"callback\":null,\"column_names\":[\"line_color\",\"height\",\"x\",\"fill_alpha\",\"width\",\"label\",\"line_alpha\",\"color\",\"y\"],\"data\":{\"PercentageAmongstTop\":[68.42896691395369],\"QuestCreationYear\":[\"Oct'15-16\"],\"QuestTags\":[\"python\"],\"YearTagCount\":[157453],\"chart_index\":[{\"PercentageAmongstTop\":68.42896691395369,\"QuestCreationYear\":\"Oct'15-16\",\"QuestTags\":\"python\",\"YearTagCount\":157453}],\"color\":[\"#20B2AA\"],\"fill_alpha\":[0.8],\"height\":[68.42896691395369],\"label\":[{\"PercentageAmongstTop\":68.42896691395369,\"QuestCreationYear\":\"Oct'15-16\",\"QuestTags\":\"python\",\"YearTagCount\":157453}],\"line_alpha\":[1.0],\"line_color\":[\"#40E0D0\"],\"width\":[1.0],\"x\":[\"Oct'15-16\"],\"y\":[56.43815434360292]}},\"id\":\"0e2efbf3-dfaa-42f0-bf3f-6cd1c7fbb8f5\",\"type\":\"ColumnDataSource\"},{\"attributes\":{\"callback\":null,\"column_names\":[\"line_color\",\"height\",\"x\",\"fill_alpha\",\"width\",\"label\",\"line_alpha\",\"color\",\"y\"],\"data\":{\"PercentageAmongstTop\":[1.6653806227413275],\"QuestCreationYear\":[\"Oct'14-15\"],\"QuestTags\":[\"regex\"],\"YearTagCount\":[3000],\"chart_index\":[{\"PercentageAmongstTop\":1.6653806227413275,\"QuestCreationYear\":\"Oct'14-15\",\"QuestTags\":\"regex\",\"YearTagCount\":3000}],\"color\":[\"#9370DB\"],\"fill_alpha\":[0.8],\"height\":[1.6653806227413275],\"label\":[{\"PercentageAmongstTop\":1.6653806227413275,\"QuestCreationYear\":\"Oct'14-15\",\"QuestTags\":\"regex\",\"YearTagCount\":3000}],\"line_alpha\":[1.0],\"line_color\":[\"#F08080\"],\"width\":[1.0],\"x\":[\"Oct'14-15\"],\"y\":[99.16730968862933]}},\"id\":\"741372fd-5a5a-4f1a-bb6d-e48005b11b88\",\"type\":\"ColumnDataSource\"},{\"attributes\":{\"callback\":null,\"column_names\":[\"line_color\",\"height\",\"x\",\"fill_alpha\",\"width\",\"label\",\"line_alpha\",\"color\",\"y\"],\"data\":{\"PercentageAmongstTop\":[4.7196372343504684],\"QuestCreationYear\":[\"Oct'12-13\"],\"QuestTags\":[\"python-2.7\"],\"YearTagCount\":[5381],\"chart_index\":[{\"PercentageAmongstTop\":4.7196372343504684,\"QuestCreationYear\":\"Oct'12-13\",\"QuestTags\":\"python-2.7\",\"YearTagCount\":5381}],\"color\":[\"#FFA07A\"],\"fill_alpha\":[0.8],\"height\":[4.7196372343504684],\"label\":[{\"PercentageAmongstTop\":4.7196372343504684,\"QuestCreationYear\":\"Oct'12-13\",\"QuestTags\":\"python-2.7\",\"YearTagCount\":5381}],\"line_alpha\":[1.0],\"line_color\":[\"#FFB6C1\"],\"width\":[1.0],\"x\":[\"Oct'12-13\"],\"y\":[93.03456623367511]}},\"id\":\"a7eeff4e-5145-487c-b7ca-fc0a5e3c350e\",\"type\":\"ColumnDataSource\"},{\"attributes\":{\"callback\":null,\"column_names\":[\"line_color\",\"height\",\"x\",\"fill_alpha\",\"width\",\"label\",\"line_alpha\",\"color\",\"y\"],\"data\":{\"PercentageAmongstTop\":[1.8531717747683536],\"QuestCreationYear\":[\"Oct'08-09\"],\"QuestTags\":[\"regex\"],\"YearTagCount\":[234],\"chart_index\":[{\"PercentageAmongstTop\":1.8531717747683536,\"QuestCreationYear\":\"Oct'08-09\",\"QuestTags\":\"regex\",\"YearTagCount\":234}],\"color\":[\"#9370DB\"],\"fill_alpha\":[0.8],\"height\":[1.8531717747683536],\"label\":[{\"PercentageAmongstTop\":1.8531717747683536,\"QuestCreationYear\":\"Oct'08-09\",\"QuestTags\":\"regex\",\"YearTagCount\":234}],\"line_alpha\":[1.0],\"line_color\":[\"#ADD8E6\"],\"width\":[1.0],\"x\":[\"Oct'08-09\"],\"y\":[94.54343866318207]}},\"id\":\"f823b894-7014-48e7-b5e9-bdf32ceb73fc\",\"type\":\"ColumnDataSource\"},{\"attributes\":{\"callback\":null,\"column_names\":[\"line_color\",\"height\",\"x\",\"fill_alpha\",\"width\",\"label\",\"line_alpha\",\"color\",\"y\"],\"data\":{\"PercentageAmongstTop\":[2.489228371407042],\"QuestCreationYear\":[\"Oct'13-14\"],\"QuestTags\":[\"list\"],\"YearTagCount\":[3865],\"chart_index\":[{\"PercentageAmongstTop\":2.489228371407042,\"QuestCreationYear\":\"Oct'13-14\",\"QuestTags\":\"list\",\"YearTagCount\":3865}],\"color\":[\"#90EE90\"],\"fill_alpha\":[0.8],\"height\":[2.489228371407042],\"label\":[{\"PercentageAmongstTop\":2.489228371407042,\"QuestCreationYear\":\"Oct'13-14\",\"QuestTags\":\"list\",\"YearTagCount\":3865}],\"line_alpha\":[1.0],\"line_color\":[\"#FF6347\"],\"width\":[1.0],\"x\":[\"Oct'13-14\"],\"y\":[10.409998132273666]}},\"id\":\"e73d017c-23ae-4789-b98f-5e7681f82fc4\",\"type\":\"ColumnDataSource\"},{\"attributes\":{\"fill_alpha\":{\"field\":\"fill_alpha\"},\"fill_color\":{\"field\":\"color\"},\"height\":{\"field\":\"height\",\"units\":\"data\"},\"line_color\":{\"field\":\"line_color\"},\"width\":{\"field\":\"width\",\"units\":\"data\"},\"x\":{\"field\":\"x\"},\"y\":{\"field\":\"y\"}},\"id\":\"72f0179e-9b3a-45f2-9e30-b22d1870df8b\",\"type\":\"Rect\"},{\"attributes\":{\"data_source\":{\"id\":\"8c31daa8-1a82-4ac7-b8de-c83127347a13\",\"type\":\"ColumnDataSource\"},\"glyph\":{\"id\":\"d9c73b01-490b-42b1-9472-d0e52d131e64\",\"type\":\"Rect\"},\"hover_glyph\":null,\"nonselection_glyph\":null,\"selection_glyph\":null},\"id\":\"bfce7e4e-5dd1-4798-ad31-7986f86868d5\",\"type\":\"GlyphRenderer\"},{\"attributes\":{\"callback\":null,\"column_names\":[\"line_color\",\"height\",\"x\",\"fill_alpha\",\"width\",\"label\",\"line_alpha\",\"color\",\"y\"],\"data\":{\"PercentageAmongstTop\":[76.21711603536731],\"QuestCreationYear\":[\"Oct'11-12\"],\"QuestTags\":[\"python\"],\"YearTagCount\":[55858],\"chart_index\":[{\"PercentageAmongstTop\":76.21711603536731,\"QuestCreationYear\":\"Oct'11-12\",\"QuestTags\":\"python\",\"YearTagCount\":55858}],\"color\":[\"#20B2AA\"],\"fill_alpha\":[0.8],\"height\":[76.21711603536731],\"label\":[{\"PercentageAmongstTop\":76.21711603536731,\"QuestCreationYear\":\"Oct'11-12\",\"QuestTags\":\"python\",\"YearTagCount\":55858}],\"line_alpha\":[1.0],\"line_color\":[\"#20B2AA\"],\"width\":[1.0],\"x\":[\"Oct'11-12\"],\"y\":[55.25051850234691]}},\"id\":\"5fc760c2-4ed6-46ce-aaef-06e0c7c8dd4d\",\"type\":\"ColumnDataSource\"},{\"attributes\":{\"callback\":null,\"column_names\":[\"line_color\",\"height\",\"x\",\"fill_alpha\",\"width\",\"label\",\"line_alpha\",\"color\",\"y\"],\"data\":{\"PercentageAmongstTop\":[3.865348425382621],\"QuestCreationYear\":[\"Oct'14-15\"],\"QuestTags\":[\"pandas\"],\"YearTagCount\":[6963],\"chart_index\":[{\"PercentageAmongstTop\":3.865348425382621,\"QuestCreationYear\":\"Oct'14-15\",\"QuestTags\":\"pandas\",\"YearTagCount\":6963}],\"color\":[\"#87CEFA\"],\"fill_alpha\":[0.8],\"height\":[3.865348425382621],\"label\":[{\"PercentageAmongstTop\":3.865348425382621,\"QuestCreationYear\":\"Oct'14-15\",\"QuestTags\":\"pandas\",\"YearTagCount\":6963}],\"line_alpha\":[1.0],\"line_color\":[\"#778899\"],\"width\":[1.0],\"x\":[\"Oct'14-15\"],\"y\":[18.530412625805628]}},\"id\":\"1019aefc-c9cb-43b9-80ed-19cbe4d6100f\",\"type\":\"ColumnDataSource\"},{\"attributes\":{\"data_source\":{\"id\":\"24ef0f37-6f87-4125-9dca-f32ce781632e\",\"type\":\"ColumnDataSource\"},\"glyph\":{\"id\":\"42ae7a37-f379-47bd-a4f4-7b48db757c28\",\"type\":\"Rect\"},\"hover_glyph\":null,\"nonselection_glyph\":null,\"selection_glyph\":null},\"id\":\"e52b166f-f085-4530-acea-58f96bb74f02\",\"type\":\"GlyphRenderer\"},{\"attributes\":{\"fill_alpha\":{\"field\":\"fill_alpha\"},\"fill_color\":{\"field\":\"color\"},\"height\":{\"field\":\"height\",\"units\":\"data\"},\"line_color\":{\"field\":\"line_color\"},\"width\":{\"field\":\"width\",\"units\":\"data\"},\"x\":{\"field\":\"x\"},\"y\":{\"field\":\"y\"}},\"id\":\"356a2236-c71e-42df-86e3-69a0899cbb6b\",\"type\":\"Rect\"},{\"attributes\":{\"callback\":null,\"column_names\":[\"line_color\",\"height\",\"x\",\"fill_alpha\",\"width\",\"label\",\"line_alpha\",\"color\",\"y\"],\"data\":{\"PercentageAmongstTop\":[1.9774011299435028],\"QuestCreationYear\":[\"Oct'10-11\"],\"QuestTags\":[\"list\"],\"YearTagCount\":[987],\"chart_index\":[{\"PercentageAmongstTop\":1.9774011299435028,\"QuestCreationYear\":\"Oct'10-11\",\"QuestTags\":\"list\",\"YearTagCount\":987}],\"color\":[\"#90EE90\"],\"fill_alpha\":[0.8],\"height\":[1.9774011299435028],\"label\":[{\"PercentageAmongstTop\":1.9774011299435028,\"QuestCreationYear\":\"Oct'10-11\",\"QuestTags\":\"list\",\"YearTagCount\":987}],\"line_alpha\":[1.0],\"line_color\":[\"#90EE90\"],\"width\":[1.0],\"x\":[\"Oct'10-11\"],\"y\":[14.97475658131987]}},\"id\":\"4439db8b-c5df-435a-b3a1-525ea8a7d9b5\",\"type\":\"ColumnDataSource\"},{\"attributes\":{\"callback\":null,\"column_names\":[\"line_color\",\"height\",\"x\",\"fill_alpha\",\"width\",\"label\",\"line_alpha\",\"color\",\"y\"],\"data\":{\"PercentageAmongstTop\":[1.188941873952829],\"QuestCreationYear\":[\"Oct'09-10\"],\"QuestTags\":[\"django-models\"],\"YearTagCount\":[369],\"chart_index\":[{\"PercentageAmongstTop\":1.188941873952829,\"QuestCreationYear\":\"Oct'09-10\",\"QuestTags\":\"django-models\",\"YearTagCount\":369}],\"color\":[\"#F0E68C\"],\"fill_alpha\":[0.8],\"height\":[1.188941873952829],\"label\":[{\"PercentageAmongstTop\":1.188941873952829,\"QuestCreationYear\":\"Oct'09-10\",\"QuestTags\":\"django-models\",\"YearTagCount\":369}],\"line_alpha\":[1.0],\"line_color\":[\"#FFB6C1\"],\"width\":[1.0],\"x\":[\"Oct'09-10\"],\"y\":[10.47009923959273]}},\"id\":\"f7622d21-b7d7-4ef9-86d9-cbabfe72e762\",\"type\":\"ColumnDataSource\"},{\"attributes\":{\"data_source\":{\"id\":\"8134b264-bed9-44d7-9347-388366b2a2b5\",\"type\":\"ColumnDataSource\"},\"glyph\":{\"id\":\"4154ab95-0c10-4b4f-82e7-f9c14f18bebb\",\"type\":\"Rect\"},\"hover_glyph\":null,\"nonselection_glyph\":null,\"selection_glyph\":null},\"id\":\"d6c82e44-16cf-4ef0-a409-e53f27f70cb2\",\"type\":\"GlyphRenderer\"},{\"attributes\":{\"callback\":null,\"column_names\":[\"line_color\",\"height\",\"x\",\"fill_alpha\",\"width\",\"label\",\"line_alpha\",\"color\",\"y\"],\"data\":{\"PercentageAmongstTop\":[2.158607138958629],\"QuestCreationYear\":[\"Oct'11-12\"],\"QuestTags\":[\"list\"],\"YearTagCount\":[1582],\"chart_index\":[{\"PercentageAmongstTop\":2.158607138958629,\"QuestCreationYear\":\"Oct'11-12\",\"QuestTags\":\"list\",\"YearTagCount\":1582}],\"color\":[\"#90EE90\"],\"fill_alpha\":[0.8],\"height\":[2.158607138958629],\"label\":[{\"PercentageAmongstTop\":2.158607138958629,\"QuestCreationYear\":\"Oct'11-12\",\"QuestTags\":\"list\",\"YearTagCount\":1582}],\"line_alpha\":[1.0],\"line_color\":[\"#9370DB\"],\"width\":[1.0],\"x\":[\"Oct'11-12\"],\"y\":[12.008787250300186]}},\"id\":\"c3e42ce0-52f7-4109-9089-d3ebdad2ea41\",\"type\":\"ColumnDataSource\"},{\"attributes\":{\"callback\":null,\"column_names\":[\"line_color\",\"height\",\"x\",\"fill_alpha\",\"width\",\"label\",\"line_alpha\",\"color\",\"y\"],\"data\":{\"PercentageAmongstTop\":[7.454160199395887],\"QuestCreationYear\":[\"Oct'13-14\"],\"QuestTags\":[\"django\"],\"YearTagCount\":[11574],\"chart_index\":[{\"PercentageAmongstTop\":7.454160199395887,\"QuestCreationYear\":\"Oct'13-14\",\"QuestTags\":\"django\",\"YearTagCount\":11574}],\"color\":[\"#FF6347\"],\"fill_alpha\":[0.8],\"height\":[7.454160199395887],\"label\":[{\"PercentageAmongstTop\":7.454160199395887,\"QuestCreationYear\":\"Oct'13-14\",\"QuestTags\":\"django\",\"YearTagCount\":11574}],\"line_alpha\":[1.0],\"line_color\":[\"#90EE90\"],\"width\":[1.0],\"x\":[\"Oct'13-14\"],\"y\":[5.438303846872202]}},\"id\":\"4ad90616-edb5-4f54-b99a-3d043f4c4f0c\",\"type\":\"ColumnDataSource\"},{\"attributes\":{\"callback\":null,\"column_names\":[\"line_color\",\"height\",\"x\",\"fill_alpha\",\"width\",\"label\",\"line_alpha\",\"color\",\"y\"],\"data\":{\"PercentageAmongstTop\":[1.2404949091377755],\"QuestCreationYear\":[\"Oct'09-10\"],\"QuestTags\":[\"windows\"],\"YearTagCount\":[385],\"chart_index\":[{\"PercentageAmongstTop\":1.2404949091377755,\"QuestCreationYear\":\"Oct'09-10\",\"QuestTags\":\"windows\",\"YearTagCount\":385}],\"color\":[\"#4B0082\"],\"fill_alpha\":[0.8],\"height\":[1.2404949091377755],\"label\":[{\"PercentageAmongstTop\":1.2404949091377755,\"QuestCreationYear\":\"Oct'09-10\",\"QuestTags\":\"windows\",\"YearTagCount\":385}],\"line_alpha\":[1.0],\"line_color\":[\"#87CEFA\"],\"width\":[1.0],\"x\":[\"Oct'09-10\"],\"y\":[99.3797525454311]}},\"id\":\"6feb33f7-dda9-4b61-a7b3-090d0911204c\",\"type\":\"ColumnDataSource\"},{\"attributes\":{\"callback\":null,\"column_names\":[\"line_color\",\"height\",\"x\",\"fill_alpha\",\"width\",\"label\",\"line_alpha\",\"color\",\"y\"],\"data\":{\"PercentageAmongstTop\":[1.169609485758474],\"QuestCreationYear\":[\"Oct'09-10\"],\"QuestTags\":[\"mysql\"],\"YearTagCount\":[363],\"chart_index\":[{\"PercentageAmongstTop\":1.169609485758474,\"QuestCreationYear\":\"Oct'09-10\",\"QuestTags\":\"mysql\",\"YearTagCount\":363}],\"color\":[\"#D3D3D3\"],\"fill_alpha\":[0.8],\"height\":[1.169609485758474],\"label\":[{\"PercentageAmongstTop\":1.169609485758474,\"QuestCreationYear\":\"Oct'09-10\",\"QuestTags\":\"mysql\",\"YearTagCount\":363}],\"line_alpha\":[1.0],\"line_color\":[\"#D3D3D3\"],\"width\":[1.0],\"x\":[\"Oct'09-10\"],\"y\":[16.836899084933624]}},\"id\":\"0f40a225-204b-4f54-ad4d-2a269755e7df\",\"type\":\"ColumnDataSource\"},{\"attributes\":{\"dimension\":1,\"plot\":{\"id\":\"1b78b77b-5f82-4602-b1cb-463026b3d4b9\",\"subtype\":\"Chart\",\"type\":\"Plot\"},\"ticker\":{\"id\":\"7ec7da00-04cf-4ac1-b216-a69b5a636d09\",\"type\":\"BasicTicker\"}},\"id\":\"c9e3829c-e292-4665-bbbe-e963ddf828b0\",\"type\":\"Grid\"},{\"attributes\":{\"data_source\":{\"id\":\"63128499-f857-4262-99ad-e121168a9d57\",\"type\":\"ColumnDataSource\"},\"glyph\":{\"id\":\"da9a6325-7669-4944-aeb8-fc191beab1d6\",\"type\":\"Rect\"},\"hover_glyph\":null,\"nonselection_glyph\":null,\"selection_glyph\":null},\"id\":\"5654ca1e-db0b-4d8b-8bbc-1f2aba956584\",\"type\":\"GlyphRenderer\"},{\"attributes\":{\"fill_alpha\":{\"field\":\"fill_alpha\"},\"fill_color\":{\"field\":\"color\"},\"height\":{\"field\":\"height\",\"units\":\"data\"},\"line_color\":{\"field\":\"line_color\"},\"width\":{\"field\":\"width\",\"units\":\"data\"},\"x\":{\"field\":\"x\"},\"y\":{\"field\":\"y\"}},\"id\":\"9ce274cf-e604-4a11-b650-26dbe0ec7fe2\",\"type\":\"Rect\"},{\"attributes\":{\"fill_alpha\":{\"field\":\"fill_alpha\"},\"fill_color\":{\"field\":\"color\"},\"height\":{\"field\":\"height\",\"units\":\"data\"},\"line_color\":{\"field\":\"line_color\"},\"width\":{\"field\":\"width\",\"units\":\"data\"},\"x\":{\"field\":\"x\"},\"y\":{\"field\":\"y\"}},\"id\":\"f8c26216-da0c-48b4-9554-b38d0d280d7f\",\"type\":\"Rect\"},{\"attributes\":{\"data_source\":{\"id\":\"4ad90616-edb5-4f54-b99a-3d043f4c4f0c\",\"type\":\"ColumnDataSource\"},\"glyph\":{\"id\":\"bc2fe0e0-8b6d-4fd4-87ac-a1870798edc1\",\"type\":\"Rect\"},\"hover_glyph\":null,\"nonselection_glyph\":null,\"selection_glyph\":null},\"id\":\"9531784a-0ef9-4222-bdd3-06455d16afd1\",\"type\":\"GlyphRenderer\"},{\"attributes\":{\"fill_alpha\":{\"field\":\"fill_alpha\"},\"fill_color\":{\"field\":\"color\"},\"height\":{\"field\":\"height\",\"units\":\"data\"},\"line_color\":{\"field\":\"line_color\"},\"width\":{\"field\":\"width\",\"units\":\"data\"},\"x\":{\"field\":\"x\"},\"y\":{\"field\":\"y\"}},\"id\":\"35dea783-d12b-4e2f-a40e-683c0264e539\",\"type\":\"Rect\"},{\"attributes\":{\"fill_alpha\":{\"field\":\"fill_alpha\"},\"fill_color\":{\"field\":\"color\"},\"height\":{\"field\":\"height\",\"units\":\"data\"},\"line_color\":{\"field\":\"line_color\"},\"width\":{\"field\":\"width\",\"units\":\"data\"},\"x\":{\"field\":\"x\"},\"y\":{\"field\":\"y\"}},\"id\":\"c1bc486d-ff04-4eaf-a516-b221e91e6136\",\"type\":\"Rect\"},{\"attributes\":{\"callback\":null,\"column_names\":[\"line_color\",\"height\",\"x\",\"fill_alpha\",\"width\",\"label\",\"line_alpha\",\"color\",\"y\"],\"data\":{\"PercentageAmongstTop\":[69.48800648388189],\"QuestCreationYear\":[\"Oct'14-15\"],\"QuestTags\":[\"python\"],\"YearTagCount\":[125175],\"chart_index\":[{\"PercentageAmongstTop\":69.48800648388189,\"QuestCreationYear\":\"Oct'14-15\",\"QuestTags\":\"python\",\"YearTagCount\":125175}],\"color\":[\"#20B2AA\"],\"fill_alpha\":[0.8],\"height\":[69.48800648388189],\"label\":[{\"PercentageAmongstTop\":69.48800648388189,\"QuestCreationYear\":\"Oct'14-15\",\"QuestTags\":\"python\",\"YearTagCount\":125175}],\"line_alpha\":[1.0],\"line_color\":[\"#9370DB\"],\"width\":[1.0],\"x\":[\"Oct'14-15\"],\"y\":[55.20709008043788]}},\"id\":\"92d6bf81-9803-4677-a76e-9d65e8cf27e8\",\"type\":\"ColumnDataSource\"},{\"attributes\":{\"data_source\":{\"id\":\"c1676cc3-1b3a-4acf-b536-0dc1e4ca5637\",\"type\":\"ColumnDataSource\"},\"glyph\":{\"id\":\"90c8dc7f-9b15-4eb8-b66a-6792e5eb561a\",\"type\":\"Rect\"},\"hover_glyph\":null,\"nonselection_glyph\":null,\"selection_glyph\":null},\"id\":\"dcd4e752-c6cb-4b37-896f-673ca7324eb8\",\"type\":\"GlyphRenderer\"},{\"attributes\":{\"callback\":null,\"column_names\":[\"line_color\",\"height\",\"x\",\"fill_alpha\",\"width\",\"label\",\"line_alpha\",\"color\",\"y\"],\"data\":{\"PercentageAmongstTop\":[2.9851344312217014],\"QuestCreationYear\":[\"Oct'10-11\"],\"QuestTags\":[\"google-app-engine\"],\"YearTagCount\":[1490],\"chart_index\":[{\"PercentageAmongstTop\":2.9851344312217014,\"QuestCreationYear\":\"Oct'10-11\",\"QuestTags\":\"google-app-engine\",\"YearTagCount\":1490}],\"color\":[\"#FFF0F5\"],\"fill_alpha\":[0.8],\"height\":[2.9851344312217014],\"label\":[{\"PercentageAmongstTop\":2.9851344312217014,\"QuestCreationYear\":\"Oct'10-11\",\"QuestTags\":\"google-app-engine\",\"YearTagCount\":1490}],\"line_alpha\":[1.0],\"line_color\":[\"#778899\"],\"width\":[1.0],\"x\":[\"Oct'10-11\"],\"y\":[12.49348880073727]}},\"id\":\"34c4ceef-3273-430c-b587-5e5c854d9cab\",\"type\":\"ColumnDataSource\"},{\"attributes\":{\"data_source\":{\"id\":\"e73d017c-23ae-4789-b98f-5e7681f82fc4\",\"type\":\"ColumnDataSource\"},\"glyph\":{\"id\":\"2bda6547-63c1-44b9-9b1b-e95b029dbc33\",\"type\":\"Rect\"},\"hover_glyph\":null,\"nonselection_glyph\":null,\"selection_glyph\":null},\"id\":\"eb26e0dc-167f-4db7-bd1b-087c8d9d01b4\",\"type\":\"GlyphRenderer\"},{\"attributes\":{\"data_source\":{\"id\":\"95df1d7e-75e6-4126-8c8e-306ad737c864\",\"type\":\"ColumnDataSource\"},\"glyph\":{\"id\":\"298fd34a-51ae-4b90-96e8-6f558b07b509\",\"type\":\"Rect\"},\"hover_glyph\":null,\"nonselection_glyph\":null,\"selection_glyph\":null},\"id\":\"a5550df5-bf0b-4a2d-9c9b-41208fd6b202\",\"type\":\"GlyphRenderer\"},{\"attributes\":{\"callback\":null,\"column_names\":[\"line_color\",\"height\",\"x\",\"fill_alpha\",\"width\",\"label\",\"line_alpha\",\"color\",\"y\"],\"data\":{\"PercentageAmongstTop\":[1.7743400163587064],\"QuestCreationYear\":[\"Oct'13-14\"],\"QuestTags\":[\"regex\"],\"YearTagCount\":[2755],\"chart_index\":[{\"PercentageAmongstTop\":1.7743400163587064,\"QuestCreationYear\":\"Oct'13-14\",\"QuestTags\":\"regex\",\"YearTagCount\":2755}],\"color\":[\"#9370DB\"],\"fill_alpha\":[0.8],\"height\":[1.7743400163587064],\"label\":[{\"PercentageAmongstTop\":1.7743400163587064,\"QuestCreationYear\":\"Oct'13-14\",\"QuestTags\":\"regex\",\"YearTagCount\":2755}],\"line_alpha\":[1.0],\"line_color\":[\"#ADD8E6\"],\"width\":[1.0],\"x\":[\"Oct'13-14\"],\"y\":[99.11282999182065]}},\"id\":\"deec132f-6bc3-4d05-a69a-2fd27f3c205e\",\"type\":\"ColumnDataSource\"},{\"attributes\":{\"fill_alpha\":{\"field\":\"fill_alpha\"},\"fill_color\":{\"field\":\"color\"},\"height\":{\"field\":\"height\",\"units\":\"data\"},\"line_color\":{\"field\":\"line_color\"},\"width\":{\"field\":\"width\",\"units\":\"data\"},\"x\":{\"field\":\"x\"},\"y\":{\"field\":\"y\"}},\"id\":\"176dfdd0-26f7-4674-968b-3113502bf591\",\"type\":\"Rect\"},{\"attributes\":{\"fill_alpha\":{\"field\":\"fill_alpha\"},\"fill_color\":{\"field\":\"color\"},\"height\":{\"field\":\"height\",\"units\":\"data\"},\"line_color\":{\"field\":\"line_color\"},\"width\":{\"field\":\"width\",\"units\":\"data\"},\"x\":{\"field\":\"x\"},\"y\":{\"field\":\"y\"}},\"id\":\"af1a140f-b449-416c-bc19-47b428f37164\",\"type\":\"Rect\"},{\"attributes\":{\"data_source\":{\"id\":\"4e179c54-8c83-4553-a8f4-591dd11924e3\",\"type\":\"ColumnDataSource\"},\"glyph\":{\"id\":\"176dfdd0-26f7-4674-968b-3113502bf591\",\"type\":\"Rect\"},\"hover_glyph\":null,\"nonselection_glyph\":null,\"selection_glyph\":null},\"id\":\"424cc4b8-1cd6-4956-8a49-8f6ad676c0f6\",\"type\":\"GlyphRenderer\"},{\"attributes\":{\"data_source\":{\"id\":\"98923bbe-c17c-4b0e-b132-95f034162050\",\"type\":\"ColumnDataSource\"},\"glyph\":{\"id\":\"cfaa39f3-5edb-41d9-aae7-2e056b401da7\",\"type\":\"Rect\"},\"hover_glyph\":null,\"nonselection_glyph\":null,\"selection_glyph\":null},\"id\":\"4113f52c-fd55-4a94-95b1-19ac5f906da1\",\"type\":\"GlyphRenderer\"},{\"attributes\":{\"data_source\":{\"id\":\"02648f8d-9e09-4c15-9750-1e9c21f25fd0\",\"type\":\"ColumnDataSource\"},\"glyph\":{\"id\":\"35dea783-d12b-4e2f-a40e-683c0264e539\",\"type\":\"Rect\"},\"hover_glyph\":null,\"nonselection_glyph\":null,\"selection_glyph\":null},\"id\":\"402e27ab-cfc1-4fbc-8d2d-8879cc7aeb56\",\"type\":\"GlyphRenderer\"},{\"attributes\":{\"fill_alpha\":{\"field\":\"fill_alpha\"},\"fill_color\":{\"field\":\"color\"},\"height\":{\"field\":\"height\",\"units\":\"data\"},\"line_color\":{\"field\":\"line_color\"},\"width\":{\"field\":\"width\",\"units\":\"data\"},\"x\":{\"field\":\"x\"},\"y\":{\"field\":\"y\"}},\"id\":\"1ab37ce5-4d18-4324-8aa9-df0a16a22f49\",\"type\":\"Rect\"},{\"attributes\":{\"fill_alpha\":{\"field\":\"fill_alpha\"},\"fill_color\":{\"field\":\"color\"},\"height\":{\"field\":\"height\",\"units\":\"data\"},\"line_color\":{\"field\":\"line_color\"},\"width\":{\"field\":\"width\",\"units\":\"data\"},\"x\":{\"field\":\"x\"},\"y\":{\"field\":\"y\"}},\"id\":\"0782d6e7-4581-48f2-9bbb-4f781b7bd0e8\",\"type\":\"Rect\"},{\"attributes\":{\"callback\":null,\"column_names\":[\"line_color\",\"height\",\"x\",\"fill_alpha\",\"width\",\"label\",\"line_alpha\",\"color\",\"y\"],\"data\":{\"PercentageAmongstTop\":[1.3887098852944968],\"QuestCreationYear\":[\"Oct'09-10\"],\"QuestTags\":[\"numpy\"],\"YearTagCount\":[431],\"chart_index\":[{\"PercentageAmongstTop\":1.3887098852944968,\"QuestCreationYear\":\"Oct'09-10\",\"QuestTags\":\"numpy\",\"YearTagCount\":431}],\"color\":[\"#FFB6C1\"],\"fill_alpha\":[0.8],\"height\":[1.3887098852944968],\"label\":[{\"PercentageAmongstTop\":1.3887098852944968,\"QuestCreationYear\":\"Oct'09-10\",\"QuestTags\":\"numpy\",\"YearTagCount\":431}],\"line_alpha\":[1.0],\"line_color\":[\"#20B2AA\"],\"width\":[1.0],\"x\":[\"Oct'09-10\"],\"y\":[18.11605877046011]}},\"id\":\"98923bbe-c17c-4b0e-b132-95f034162050\",\"type\":\"ColumnDataSource\"},{\"attributes\":{\"fill_alpha\":{\"field\":\"fill_alpha\"},\"fill_color\":{\"field\":\"color\"},\"height\":{\"field\":\"height\",\"units\":\"data\"},\"line_color\":{\"field\":\"line_color\"},\"width\":{\"field\":\"width\",\"units\":\"data\"},\"x\":{\"field\":\"x\"},\"y\":{\"field\":\"y\"}},\"id\":\"67850b72-c216-424b-ab87-ce0a00755c6d\",\"type\":\"Rect\"},{\"attributes\":{\"data_source\":{\"id\":\"84e30a10-0352-471a-b07e-dce343ba307b\",\"type\":\"ColumnDataSource\"},\"glyph\":{\"id\":\"ad84b578-8dda-4a7d-bc3f-c3dba72d0b92\",\"type\":\"Rect\"},\"hover_glyph\":null,\"nonselection_glyph\":null,\"selection_glyph\":null},\"id\":\"d8c29bb8-57e8-4f5c-b8f8-c0bee5195e19\",\"type\":\"GlyphRenderer\"},{\"attributes\":{\"callback\":null,\"column_names\":[\"line_color\",\"height\",\"x\",\"fill_alpha\",\"width\",\"label\",\"line_alpha\",\"color\",\"y\"],\"data\":{\"PercentageAmongstTop\":[4.764077758510541],\"QuestCreationYear\":[\"Oct'15-16\"],\"QuestTags\":[\"python-2.7\"],\"YearTagCount\":[10962],\"chart_index\":[{\"PercentageAmongstTop\":4.764077758510541,\"QuestCreationYear\":\"Oct'15-16\",\"QuestTags\":\"python-2.7\",\"YearTagCount\":10962}],\"color\":[\"#FFA07A\"],\"fill_alpha\":[0.8],\"height\":[4.764077758510541],\"label\":[{\"PercentageAmongstTop\":4.764077758510541,\"QuestCreationYear\":\"Oct'15-16\",\"QuestTags\":\"python-2.7\",\"YearTagCount\":10962}],\"line_alpha\":[1.0],\"line_color\":[\"#FFF0F5\"],\"width\":[1.0],\"x\":[\"Oct'15-16\"],\"y\":[93.03467667983503]}},\"id\":\"07ed1623-324f-4df7-b667-1abe8686027f\",\"type\":\"ColumnDataSource\"},{\"attributes\":{\"plot\":null,\"text\":\"Top 10 Tags Used Throughout the Years for Python\"},\"id\":\"421a134e-c2c3-4e31-bc8a-f1c0d82c2614\",\"type\":\"Title\"},{\"attributes\":{\"callback\":null,\"column_names\":[\"line_color\",\"height\",\"x\",\"fill_alpha\",\"width\",\"label\",\"line_alpha\",\"color\",\"y\"],\"data\":{\"PercentageAmongstTop\":[1.8802532474620675],\"QuestCreationYear\":[\"Oct'11-12\"],\"QuestTags\":[\"regex\"],\"YearTagCount\":[1378],\"chart_index\":[{\"PercentageAmongstTop\":1.8802532474620675,\"QuestCreationYear\":\"Oct'11-12\",\"QuestTags\":\"regex\",\"YearTagCount\":1378}],\"color\":[\"#9370DB\"],\"fill_alpha\":[0.8],\"height\":[1.8802532474620675],\"label\":[{\"PercentageAmongstTop\":1.8802532474620675,\"QuestCreationYear\":\"Oct'11-12\",\"QuestTags\":\"regex\",\"YearTagCount\":1378}],\"line_alpha\":[1.0],\"line_color\":[\"#FFA07A\"],\"width\":[1.0],\"x\":[\"Oct'11-12\"],\"y\":[97.67901975766836]}},\"id\":\"4e179c54-8c83-4553-a8f4-591dd11924e3\",\"type\":\"ColumnDataSource\"},{\"attributes\":{\"fill_alpha\":{\"field\":\"fill_alpha\"},\"fill_color\":{\"field\":\"color\"},\"height\":{\"field\":\"height\",\"units\":\"data\"},\"line_color\":{\"field\":\"line_color\"},\"width\":{\"field\":\"width\",\"units\":\"data\"},\"x\":{\"field\":\"x\"},\"y\":{\"field\":\"y\"}},\"id\":\"51c07b14-4369-45f2-b03b-e0c67fc121c3\",\"type\":\"Rect\"},{\"attributes\":{\"data_source\":{\"id\":\"c98e3ccc-e384-44b7-98f2-0b1784c3da5e\",\"type\":\"ColumnDataSource\"},\"glyph\":{\"id\":\"6eddbafa-9911-4c4b-bfba-c2d3bdd0bfd5\",\"type\":\"Rect\"},\"hover_glyph\":null,\"nonselection_glyph\":null,\"selection_glyph\":null},\"id\":\"351a7e58-f7ca-4890-97fa-0b009e3b6627\",\"type\":\"GlyphRenderer\"},{\"attributes\":{\"callback\":null,\"column_names\":[\"line_color\",\"height\",\"x\",\"fill_alpha\",\"width\",\"label\",\"line_alpha\",\"color\",\"y\"],\"data\":{\"PercentageAmongstTop\":[1.8832391713747645],\"QuestCreationYear\":[\"Oct'10-11\"],\"QuestTags\":[\"regex\"],\"YearTagCount\":[940],\"chart_index\":[{\"PercentageAmongstTop\":1.8832391713747645,\"QuestCreationYear\":\"Oct'10-11\",\"QuestTags\":\"regex\",\"YearTagCount\":940}],\"color\":[\"#9370DB\"],\"fill_alpha\":[0.8],\"height\":[1.8832391713747645],\"label\":[{\"PercentageAmongstTop\":1.8832391713747645,\"QuestCreationYear\":\"Oct'10-11\",\"QuestTags\":\"regex\",\"YearTagCount\":940}],\"line_alpha\":[1.0],\"line_color\":[\"#E6E6FA\"],\"width\":[1.0],\"x\":[\"Oct'10-11\"],\"y\":[97.60187522538766]}},\"id\":\"12125e17-7160-41e9-936a-8223b254e0bd\",\"type\":\"ColumnDataSource\"},{\"attributes\":{\"data_source\":{\"id\":\"e70d9f44-8acc-4b54-836c-7dc436086a54\",\"type\":\"ColumnDataSource\"},\"glyph\":{\"id\":\"0eb8daff-47a6-4476-8dbe-931724b38320\",\"type\":\"Rect\"},\"hover_glyph\":null,\"nonselection_glyph\":null,\"selection_glyph\":null},\"id\":\"be4d6861-19b9-4819-bb7f-9b4bc5d65900\",\"type\":\"GlyphRenderer\"},{\"attributes\":{\"fill_alpha\":{\"field\":\"fill_alpha\"},\"fill_color\":{\"field\":\"color\"},\"height\":{\"field\":\"height\",\"units\":\"data\"},\"line_color\":{\"field\":\"line_color\"},\"width\":{\"field\":\"width\",\"units\":\"data\"},\"x\":{\"field\":\"x\"},\"y\":{\"field\":\"y\"}},\"id\":\"f8a04ab9-4293-4824-ab70-6b3a18bbae10\",\"type\":\"Rect\"},{\"attributes\":{\"data_source\":{\"id\":\"7d0cbdfd-f632-454b-b002-4455823b10f2\",\"type\":\"ColumnDataSource\"},\"glyph\":{\"id\":\"4cf5a7b7-6542-4a63-9369-026bd18ef516\",\"type\":\"Rect\"},\"hover_glyph\":null,\"nonselection_glyph\":null,\"selection_glyph\":null},\"id\":\"518a671f-2c27-4168-8808-9c45da456429\",\"type\":\"GlyphRenderer\"},{\"attributes\":{\"callback\":null,\"column_names\":[\"line_color\",\"height\",\"x\",\"fill_alpha\",\"width\",\"label\",\"line_alpha\",\"color\",\"y\"],\"data\":{\"PercentageAmongstTop\":[3.466941616187653],\"QuestCreationYear\":[\"Oct'09-10\"],\"QuestTags\":[\"google-app-engine\"],\"YearTagCount\":[1076],\"chart_index\":[{\"PercentageAmongstTop\":3.466941616187653,\"QuestCreationYear\":\"Oct'09-10\",\"QuestTags\":\"google-app-engine\",\"YearTagCount\":1076}],\"color\":[\"#FFF0F5\"],\"fill_alpha\":[0.8],\"height\":[3.466941616187653],\"label\":[{\"PercentageAmongstTop\":3.466941616187653,\"QuestCreationYear\":\"Oct'09-10\",\"QuestTags\":\"google-app-engine\",\"YearTagCount\":1076}],\"line_alpha\":[1.0],\"line_color\":[\"#F08080\"],\"width\":[1.0],\"x\":[\"Oct'09-10\"],\"y\":[12.798040984662972]}},\"id\":\"7ac7e1fb-3b36-443f-9517-aa15b341f32e\",\"type\":\"ColumnDataSource\"},{\"attributes\":{\"data_source\":{\"id\":\"aefaf431-f798-4cbc-b2dc-9c9db7439676\",\"type\":\"ColumnDataSource\"},\"glyph\":{\"id\":\"1de4f6be-a0c9-41c5-b829-3a7ec16c9d8e\",\"type\":\"Rect\"},\"hover_glyph\":null,\"nonselection_glyph\":null,\"selection_glyph\":null},\"id\":\"8cbdfa29-029a-4a52-b377-e02461b69079\",\"type\":\"GlyphRenderer\"},{\"attributes\":{\"data_source\":{\"id\":\"22df55be-b901-4e42-ab66-e95199b707da\",\"type\":\"ColumnDataSource\"},\"glyph\":{\"id\":\"b2d9d460-2143-4596-aa56-3ac7640af8fd\",\"type\":\"Rect\"},\"hover_glyph\":null,\"nonselection_glyph\":null,\"selection_glyph\":null},\"id\":\"9ddd1448-c303-432f-9193-dbefda12ed35\",\"type\":\"GlyphRenderer\"},{\"attributes\":{\"callback\":null,\"column_names\":[\"line_color\",\"height\",\"x\",\"fill_alpha\",\"width\",\"label\",\"line_alpha\",\"color\",\"y\"],\"data\":{\"PercentageAmongstTop\":[4.583284440909703],\"QuestCreationYear\":[\"Oct'15-16\"],\"QuestTags\":[\"python-3.x\"],\"YearTagCount\":[10546],\"chart_index\":[{\"PercentageAmongstTop\":4.583284440909703,\"QuestCreationYear\":\"Oct'15-16\",\"QuestTags\":\"python-3.x\",\"YearTagCount\":10546}],\"color\":[\"#778899\"],\"fill_alpha\":[0.8],\"height\":[4.583284440909703],\"label\":[{\"PercentageAmongstTop\":4.583284440909703,\"QuestCreationYear\":\"Oct'15-16\",\"QuestTags\":\"python-3.x\",\"YearTagCount\":10546}],\"line_alpha\":[1.0],\"line_color\":[\"#E6E6FA\"],\"width\":[1.0],\"x\":[\"Oct'15-16\"],\"y\":[97.70835777954514]}},\"id\":\"22df55be-b901-4e42-ab66-e95199b707da\",\"type\":\"ColumnDataSource\"},{\"attributes\":{\"fill_alpha\":{\"field\":\"fill_alpha\"},\"fill_color\":{\"field\":\"color\"},\"height\":{\"field\":\"height\",\"units\":\"data\"},\"line_color\":{\"field\":\"line_color\"},\"width\":{\"field\":\"width\",\"units\":\"data\"},\"x\":{\"field\":\"x\"},\"y\":{\"field\":\"y\"}},\"id\":\"d4a5ed1f-0313-45d7-9c84-835024a254b1\",\"type\":\"Rect\"},{\"attributes\":{\"callback\":null,\"column_names\":[\"line_color\",\"height\",\"x\",\"fill_alpha\",\"width\",\"label\",\"line_alpha\",\"color\",\"y\"],\"data\":{\"PercentageAmongstTop\":[1.6237310337299422],\"QuestCreationYear\":[\"Oct'11-12\"],\"QuestTags\":[\"python-3.x\"],\"YearTagCount\":[1190],\"chart_index\":[{\"PercentageAmongstTop\":1.6237310337299422,\"QuestCreationYear\":\"Oct'11-12\",\"QuestTags\":\"python-3.x\",\"YearTagCount\":1190}],\"color\":[\"#778899\"],\"fill_alpha\":[0.8],\"height\":[1.6237310337299422],\"label\":[{\"PercentageAmongstTop\":1.6237310337299422,\"QuestCreationYear\":\"Oct'11-12\",\"QuestTags\":\"python-3.x\",\"YearTagCount\":1190}],\"line_alpha\":[1.0],\"line_color\":[\"#FFB6C1\"],\"width\":[1.0],\"x\":[\"Oct'11-12\"],\"y\":[95.92702761707235]}},\"id\":\"dcb0f3b8-fcac-4534-9242-93a32eef42ef\",\"type\":\"ColumnDataSource\"},{\"attributes\":{\"fill_alpha\":{\"field\":\"fill_alpha\"},\"fill_color\":{\"field\":\"color\"},\"height\":{\"field\":\"height\",\"units\":\"data\"},\"line_color\":{\"field\":\"line_color\"},\"width\":{\"field\":\"width\",\"units\":\"data\"},\"x\":{\"field\":\"x\"},\"y\":{\"field\":\"y\"}},\"id\":\"29eb50a1-8ce2-40b2-bd90-5c2824333116\",\"type\":\"Rect\"},{\"attributes\":{\"callback\":null,\"column_names\":[\"line_color\",\"height\",\"x\",\"fill_alpha\",\"width\",\"label\",\"line_alpha\",\"color\",\"y\"],\"data\":{\"PercentageAmongstTop\":[1.72058254929759],\"QuestCreationYear\":[\"Oct'09-10\"],\"QuestTags\":[\"list\"],\"YearTagCount\":[534],\"chart_index\":[{\"PercentageAmongstTop\":1.72058254929759,\"QuestCreationYear\":\"Oct'09-10\",\"QuestTags\":\"list\",\"YearTagCount\":534}],\"color\":[\"#90EE90\"],\"fill_alpha\":[0.8],\"height\":[1.72058254929759],\"label\":[{\"PercentageAmongstTop\":1.72058254929759,\"QuestCreationYear\":\"Oct'09-10\",\"QuestTags\":\"list\",\"YearTagCount\":534}],\"line_alpha\":[1.0],\"line_color\":[\"#778899\"],\"width\":[1.0],\"x\":[\"Oct'09-10\"],\"y\":[15.391803067405593]}},\"id\":\"7ae07cd3-a62d-471e-af55-261e485773bc\",\"type\":\"ColumnDataSource\"},{\"attributes\":{\"data_source\":{\"id\":\"38288fdb-de2a-41d6-9717-303ab4719b8a\",\"type\":\"ColumnDataSource\"},\"glyph\":{\"id\":\"e4a9c499-afa6-4ce1-b110-d4b0eab42f17\",\"type\":\"Rect\"},\"hover_glyph\":null,\"nonselection_glyph\":null,\"selection_glyph\":null},\"id\":\"0c6b9b4a-c274-4d62-a77a-978d391eba5c\",\"type\":\"GlyphRenderer\"},{\"attributes\":{},\"id\":\"a3cd2c67-0a32-40ce-9636-ba1e272f556d\",\"type\":\"CategoricalTicker\"},{\"attributes\":{\"data_source\":{\"id\":\"5aefcb1b-c760-4dfd-8b94-0ecc694c0736\",\"type\":\"ColumnDataSource\"},\"glyph\":{\"id\":\"12d2331c-0871-453f-8a11-8b945a2a33bf\",\"type\":\"Rect\"},\"hover_glyph\":null,\"nonselection_glyph\":null,\"selection_glyph\":null},\"id\":\"0ed9f1ef-905c-454d-b914-bf4fb957e6bb\",\"type\":\"GlyphRenderer\"},{\"attributes\":{\"data_source\":{\"id\":\"abba73d8-d759-4e26-a394-faebfe002db1\",\"type\":\"ColumnDataSource\"},\"glyph\":{\"id\":\"514d24d1-01f0-4058-b87f-a9c6913f9520\",\"type\":\"Rect\"},\"hover_glyph\":null,\"nonselection_glyph\":null,\"selection_glyph\":null},\"id\":\"61ce4953-b198-4694-b65e-6c533c67d66b\",\"type\":\"GlyphRenderer\"},{\"attributes\":{\"data_source\":{\"id\":\"34c4ceef-3273-430c-b587-5e5c854d9cab\",\"type\":\"ColumnDataSource\"},\"glyph\":{\"id\":\"e825b7e5-e007-4d89-8c75-18b64e64afaa\",\"type\":\"Rect\"},\"hover_glyph\":null,\"nonselection_glyph\":null,\"selection_glyph\":null},\"id\":\"aca1aa40-7cbb-438c-be86-076a61718096\",\"type\":\"GlyphRenderer\"},{\"attributes\":{\"fill_alpha\":{\"field\":\"fill_alpha\"},\"fill_color\":{\"field\":\"color\"},\"height\":{\"field\":\"height\",\"units\":\"data\"},\"line_color\":{\"field\":\"line_color\"},\"width\":{\"field\":\"width\",\"units\":\"data\"},\"x\":{\"field\":\"x\"},\"y\":{\"field\":\"y\"}},\"id\":\"8c4bdacc-78f4-4752-8aa1-863ceed38654\",\"type\":\"Rect\"},{\"attributes\":{\"callback\":null,\"column_names\":[\"line_color\",\"height\",\"x\",\"fill_alpha\",\"width\",\"label\",\"line_alpha\",\"color\",\"y\"],\"data\":{\"PercentageAmongstTop\":[70.22522203401839],\"QuestCreationYear\":[\"Oct'13-14\"],\"QuestTags\":[\"python\"],\"YearTagCount\":[109038],\"chart_index\":[{\"PercentageAmongstTop\":70.22522203401839,\"QuestCreationYear\":\"Oct'13-14\",\"QuestTags\":\"python\",\"YearTagCount\":109038}],\"color\":[\"#20B2AA\"],\"fill_alpha\":[0.8],\"height\":[70.22522203401839],\"label\":[{\"PercentageAmongstTop\":70.22522203401839,\"QuestCreationYear\":\"Oct'13-14\",\"QuestTags\":\"python\",\"YearTagCount\":109038}],\"line_alpha\":[1.0],\"line_color\":[\"#778899\"],\"width\":[1.0],\"x\":[\"Oct'13-14\"],\"y\":[55.29307202339166]}},\"id\":\"09d3da21-ecd5-44c5-a100-71b387c26a52\",\"type\":\"ColumnDataSource\"},{\"attributes\":{\"callback\":null,\"column_names\":[\"line_color\",\"height\",\"x\",\"fill_alpha\",\"width\",\"label\",\"line_alpha\",\"color\",\"y\"],\"data\":{\"PercentageAmongstTop\":[3.413777667679283],\"QuestCreationYear\":[\"Oct'15-16\"],\"QuestTags\":[\"numpy\"],\"YearTagCount\":[7855],\"chart_index\":[{\"PercentageAmongstTop\":3.413777667679283,\"QuestCreationYear\":\"Oct'15-16\",\"QuestTags\":\"numpy\",\"YearTagCount\":7855}],\"color\":[\"#FFB6C1\"],\"fill_alpha\":[0.8],\"height\":[3.413777667679283],\"label\":[{\"PercentageAmongstTop\":3.413777667679283,\"QuestCreationYear\":\"Oct'15-16\",\"QuestTags\":\"numpy\",\"YearTagCount\":7855}],\"line_alpha\":[1.0],\"line_color\":[\"#40E0D0\"],\"width\":[1.0],\"x\":[\"Oct'15-16\"],\"y\":[15.14296144669422]}},\"id\":\"95df1d7e-75e6-4126-8c8e-306ad737c864\",\"type\":\"ColumnDataSource\"},{\"attributes\":{\"fill_alpha\":{\"field\":\"fill_alpha\"},\"fill_color\":{\"field\":\"color\"},\"height\":{\"field\":\"height\",\"units\":\"data\"},\"line_color\":{\"field\":\"line_color\"},\"width\":{\"field\":\"width\",\"units\":\"data\"},\"x\":{\"field\":\"x\"},\"y\":{\"field\":\"y\"}},\"id\":\"da889532-7317-4083-803d-cd5a70d53736\",\"type\":\"Rect\"},{\"attributes\":{\"fill_alpha\":{\"field\":\"fill_alpha\"},\"fill_color\":{\"field\":\"color\"},\"height\":{\"field\":\"height\",\"units\":\"data\"},\"line_color\":{\"field\":\"line_color\"},\"width\":{\"field\":\"width\",\"units\":\"data\"},\"x\":{\"field\":\"x\"},\"y\":{\"field\":\"y\"}},\"id\":\"f2826ade-fd74-4406-996d-f0abdb223ae6\",\"type\":\"Rect\"},{\"attributes\":{\"data_source\":{\"id\":\"f823b894-7014-48e7-b5e9-bdf32ceb73fc\",\"type\":\"ColumnDataSource\"},\"glyph\":{\"id\":\"8c4bdacc-78f4-4752-8aa1-863ceed38654\",\"type\":\"Rect\"},\"hover_glyph\":null,\"nonselection_glyph\":null,\"selection_glyph\":null},\"id\":\"9fff28a7-3841-4a15-b868-5fcd5aec6071\",\"type\":\"GlyphRenderer\"},{\"attributes\":{\"callback\":null,\"column_names\":[\"line_color\",\"height\",\"x\",\"fill_alpha\",\"width\",\"label\",\"line_alpha\",\"color\",\"y\"],\"data\":{\"PercentageAmongstTop\":[9.704692070361022],\"QuestCreationYear\":[\"Oct'10-11\"],\"QuestTags\":[\"django\"],\"YearTagCount\":[4844],\"chart_index\":[{\"PercentageAmongstTop\":9.704692070361022,\"QuestCreationYear\":\"Oct'10-11\",\"QuestTags\":\"django\",\"YearTagCount\":4844}],\"color\":[\"#FF6347\"],\"fill_alpha\":[0.8],\"height\":[9.704692070361022],\"label\":[{\"PercentageAmongstTop\":9.704692070361022,\"QuestCreationYear\":\"Oct'10-11\",\"QuestTags\":\"django\",\"YearTagCount\":4844}],\"line_alpha\":[1.0],\"line_color\":[\"#ADD8E6\"],\"width\":[1.0],\"x\":[\"Oct'10-11\"],\"y\":[6.148575549945907]}},\"id\":\"3d112137-b2dd-41bd-b9d8-2df4412e27f0\",\"type\":\"ColumnDataSource\"},{\"attributes\":{\"below\":[{\"id\":\"255fcc3c-96c3-465e-ab4b-c3d849faf79b\",\"type\":\"CategoricalAxis\"}],\"left\":[{\"id\":\"c2e5617a-8dba-414c-9b10-3fd3eccd5bf0\",\"type\":\"LinearAxis\"}],\"renderers\":[{\"id\":\"08524809-e0a0-430b-a97a-0d39e726d984\",\"type\":\"GlyphRenderer\"},{\"id\":\"8ddffeb6-cd75-434c-8e8d-66331e9acd05\",\"type\":\"GlyphRenderer\"},{\"id\":\"be4d6861-19b9-4819-bb7f-9b4bc5d65900\",\"type\":\"GlyphRenderer\"},{\"id\":\"603cd91d-377b-4058-92d4-c58f96fdae61\",\"type\":\"GlyphRenderer\"},{\"id\":\"7a3ac5e2-aadc-4562-a6df-8161b6da8d82\",\"type\":\"GlyphRenderer\"},{\"id\":\"be59f702-8168-4a49-9155-3fee5c74dbec\",\"type\":\"GlyphRenderer\"},{\"id\":\"9fff28a7-3841-4a15-b868-5fcd5aec6071\",\"type\":\"GlyphRenderer\"},{\"id\":\"518a671f-2c27-4168-8808-9c45da456429\",\"type\":\"GlyphRenderer\"},{\"id\":\"7a40f6da-d956-4b32-8c17-ec512f492fbf\",\"type\":\"GlyphRenderer\"},{\"id\":\"39551d44-fefb-4c07-84e9-9e5815831617\",\"type\":\"GlyphRenderer\"},{\"id\":\"ca690b73-6062-49fb-b587-13d30647565a\",\"type\":\"GlyphRenderer\"},{\"id\":\"b0149148-9f35-42db-b748-45255e2918e0\",\"type\":\"GlyphRenderer\"},{\"id\":\"faf28d18-7573-4e88-8907-7f397132c0f2\",\"type\":\"GlyphRenderer\"},{\"id\":\"e49502c5-0234-4cd4-b615-6787143dbc9a\",\"type\":\"GlyphRenderer\"},{\"id\":\"40c91f80-e64c-4f6a-97a4-9ccd0203b7f1\",\"type\":\"GlyphRenderer\"},{\"id\":\"4113f52c-fd55-4a94-95b1-19ac5f906da1\",\"type\":\"GlyphRenderer\"},{\"id\":\"bfce7e4e-5dd1-4798-ad31-7986f86868d5\",\"type\":\"GlyphRenderer\"},{\"id\":\"54396117-d7f8-4028-8ea7-0e23d10e84a1\",\"type\":\"GlyphRenderer\"},{\"id\":\"dcd4e752-c6cb-4b37-896f-673ca7324eb8\",\"type\":\"GlyphRenderer\"},{\"id\":\"331a9d53-464a-4a81-819e-eafac8086e06\",\"type\":\"GlyphRenderer\"},{\"id\":\"15aca9b1-0234-409b-a7aa-5ddc98e9de88\",\"type\":\"GlyphRenderer\"},{\"id\":\"b9529f8c-2f85-48f5-ab51-e1c0b8ae44f6\",\"type\":\"GlyphRenderer\"},{\"id\":\"aca1aa40-7cbb-438c-be86-076a61718096\",\"type\":\"GlyphRenderer\"},{\"id\":\"198bb0c6-af71-419e-a7c3-13b42558212b\",\"type\":\"GlyphRenderer\"},{\"id\":\"dc2a39bb-6c01-449e-ad18-57fe975f54db\",\"type\":\"GlyphRenderer\"},{\"id\":\"0c6b9b4a-c274-4d62-a77a-978d391eba5c\",\"type\":\"GlyphRenderer\"},{\"id\":\"e52b166f-f085-4530-acea-58f96bb74f02\",\"type\":\"GlyphRenderer\"},{\"id\":\"88371662-49f9-4367-b75e-fe1ed774df51\",\"type\":\"GlyphRenderer\"},{\"id\":\"b078e380-9a4c-4b48-bb94-a8f10ab3c748\",\"type\":\"GlyphRenderer\"},{\"id\":\"b114c2e2-36e4-41e4-81de-a5c493de9559\",\"type\":\"GlyphRenderer\"},{\"id\":\"377f1ab6-fed3-4c7d-89a8-321417e64139\",\"type\":\"GlyphRenderer\"},{\"id\":\"2699f3e1-f5eb-42d5-8c32-5bb041cda3bc\",\"type\":\"GlyphRenderer\"},{\"id\":\"8305c0d7-c906-48e9-9dd1-3e7263992fa5\",\"type\":\"GlyphRenderer\"},{\"id\":\"14f32203-ca18-4762-bf2a-e73c7c7e07b6\",\"type\":\"GlyphRenderer\"},{\"id\":\"ca2ffb3a-435e-4068-a867-ca2be8f6907f\",\"type\":\"GlyphRenderer\"},{\"id\":\"c5d25f55-6019-4968-adc0-ca403464788c\",\"type\":\"GlyphRenderer\"},{\"id\":\"55c80037-14ea-4c62-af3f-9e156513319a\",\"type\":\"GlyphRenderer\"},{\"id\":\"96e7e2eb-714d-48e8-a038-0cc61522aae0\",\"type\":\"GlyphRenderer\"},{\"id\":\"424cc4b8-1cd6-4956-8a49-8f6ad676c0f6\",\"type\":\"GlyphRenderer\"},{\"id\":\"d8c29bb8-57e8-4f5c-b8f8-c0bee5195e19\",\"type\":\"GlyphRenderer\"},{\"id\":\"a9200e54-47f1-4bc8-9664-2bd9582df561\",\"type\":\"GlyphRenderer\"},{\"id\":\"9b9fd51b-f54c-4a9d-ac42-5233f16d4840\",\"type\":\"GlyphRenderer\"},{\"id\":\"47684e5a-60e7-4cbf-9fb2-1b21d0d7460c\",\"type\":\"GlyphRenderer\"},{\"id\":\"020deba5-4934-49fa-ab20-33752bc1c277\",\"type\":\"GlyphRenderer\"},{\"id\":\"7b67c54f-c321-4606-bf62-07af64410e14\",\"type\":\"GlyphRenderer\"},{\"id\":\"8ef1f419-b8fa-454f-abc3-594b3e24524c\",\"type\":\"GlyphRenderer\"},{\"id\":\"5654ca1e-db0b-4d8b-8bbc-1f2aba956584\",\"type\":\"GlyphRenderer\"},{\"id\":\"c552630e-df96-48dc-b6ea-fe045b320e8d\",\"type\":\"GlyphRenderer\"},{\"id\":\"67f6a00a-63af-49ba-b8c8-94c39f5bbef9\",\"type\":\"GlyphRenderer\"},{\"id\":\"87001043-ab7f-42c1-b4a8-f212845b05b4\",\"type\":\"GlyphRenderer\"},{\"id\":\"d6c82e44-16cf-4ef0-a409-e53f27f70cb2\",\"type\":\"GlyphRenderer\"},{\"id\":\"9531784a-0ef9-4222-bdd3-06455d16afd1\",\"type\":\"GlyphRenderer\"},{\"id\":\"eb26e0dc-167f-4db7-bd1b-087c8d9d01b4\",\"type\":\"GlyphRenderer\"},{\"id\":\"0511988c-3532-456f-aaf9-1e26e93c0b1e\",\"type\":\"GlyphRenderer\"},{\"id\":\"94a85ae1-e158-4506-9310-8a7bb072f2f3\",\"type\":\"GlyphRenderer\"},{\"id\":\"351a7e58-f7ca-4890-97fa-0b009e3b6627\",\"type\":\"GlyphRenderer\"},{\"id\":\"1d7ccb7a-11a9-4d14-9a75-d541dfceba5d\",\"type\":\"GlyphRenderer\"},{\"id\":\"1fb7c6a4-108c-4d7d-91cc-da7f0587cda8\",\"type\":\"GlyphRenderer\"},{\"id\":\"146e3a9e-b7e3-489c-8719-e920a9e2ffe7\",\"type\":\"GlyphRenderer\"},{\"id\":\"353d09d1-2253-4bdb-93a9-96ea9f9216b6\",\"type\":\"GlyphRenderer\"},{\"id\":\"9bbdcd95-ad2d-4fc1-816f-2c3477dd5dcd\",\"type\":\"GlyphRenderer\"},{\"id\":\"402e27ab-cfc1-4fbc-8d2d-8879cc7aeb56\",\"type\":\"GlyphRenderer\"},{\"id\":\"ed3c422c-e107-4ffd-8241-f89baaca2b77\",\"type\":\"GlyphRenderer\"},{\"id\":\"95649d4f-01d4-49d7-aa55-72dd54347d0d\",\"type\":\"GlyphRenderer\"},{\"id\":\"2f11c180-db04-49c9-9b2e-db8a9af68938\",\"type\":\"GlyphRenderer\"},{\"id\":\"8fc26b79-f220-458c-bd4e-a8699943b088\",\"type\":\"GlyphRenderer\"},{\"id\":\"c05bcbd4-3fb2-4f93-9798-8660a03a48db\",\"type\":\"GlyphRenderer\"},{\"id\":\"53d97d40-2b36-4124-a386-6a07f54c016b\",\"type\":\"GlyphRenderer\"},{\"id\":\"12829232-644b-4edd-83b4-613da338ac29\",\"type\":\"GlyphRenderer\"},{\"id\":\"3005cea1-91df-4786-8c9e-9e8ecc606955\",\"type\":\"GlyphRenderer\"},{\"id\":\"549eab0f-25e7-4e89-ac2b-987ed155080d\",\"type\":\"GlyphRenderer\"},{\"id\":\"8cbdfa29-029a-4a52-b377-e02461b69079\",\"type\":\"GlyphRenderer\"},{\"id\":\"6b124dc2-e085-453b-8c21-a6a3c22cd656\",\"type\":\"GlyphRenderer\"},{\"id\":\"0ed9f1ef-905c-454d-b914-bf4fb957e6bb\",\"type\":\"GlyphRenderer\"},{\"id\":\"652a1365-8ca8-4381-891c-244eed938149\",\"type\":\"GlyphRenderer\"},{\"id\":\"a5550df5-bf0b-4a2d-9c9b-41208fd6b202\",\"type\":\"GlyphRenderer\"},{\"id\":\"61ce4953-b198-4694-b65e-6c533c67d66b\",\"type\":\"GlyphRenderer\"},{\"id\":\"2050a02c-5a0b-46e8-929f-70bea2584821\",\"type\":\"GlyphRenderer\"},{\"id\":\"78e194b8-3036-42fa-8565-6f5c243141dc\",\"type\":\"GlyphRenderer\"},{\"id\":\"9ddd1448-c303-432f-9193-dbefda12ed35\",\"type\":\"GlyphRenderer\"},{\"id\":\"255fcc3c-96c3-465e-ab4b-c3d849faf79b\",\"type\":\"CategoricalAxis\"},{\"id\":\"c2e5617a-8dba-414c-9b10-3fd3eccd5bf0\",\"type\":\"LinearAxis\"},{\"id\":\"c9e3829c-e292-4665-bbbe-e963ddf828b0\",\"type\":\"Grid\"}],\"title\":{\"id\":\"421a134e-c2c3-4e31-bc8a-f1c0d82c2614\",\"type\":\"Title\"},\"tool_events\":{\"id\":\"ac75d2e5-0a33-455f-94d3-53f903b03545\",\"type\":\"ToolEvents\"},\"toolbar\":{\"id\":\"05c6570d-32c9-4054-a35b-db5b24db8bbb\",\"type\":\"Toolbar\"},\"x_mapper_type\":\"auto\",\"x_range\":{\"id\":\"b9567911-13c7-4e11-b2e0-c4c2b7af5f9a\",\"type\":\"FactorRange\"},\"y_mapper_type\":\"auto\",\"y_range\":{\"id\":\"51970b7b-afdf-4b96-9688-018a7401f58e\",\"type\":\"Range1d\"}},\"id\":\"1b78b77b-5f82-4602-b1cb-463026b3d4b9\",\"subtype\":\"Chart\",\"type\":\"Plot\"},{\"attributes\":{\"data_source\":{\"id\":\"58b8fe62-8676-481d-a77a-c9b449f1ef77\",\"type\":\"ColumnDataSource\"},\"glyph\":{\"id\":\"29eb50a1-8ce2-40b2-bd90-5c2824333116\",\"type\":\"Rect\"},\"hover_glyph\":null,\"nonselection_glyph\":null,\"selection_glyph\":null},\"id\":\"2f11c180-db04-49c9-9b2e-db8a9af68938\",\"type\":\"GlyphRenderer\"}],\"root_ids\":[\"1b78b77b-5f82-4602-b1cb-463026b3d4b9\"]},\"title\":\"Bokeh Application\",\"version\":\"0.12.2\"}};\n",
       "            var render_items = [{\"docid\":\"9b629626-b123-4194-ad7f-03568a71fbdd\",\"elementid\":\"0f770ebd-0f15-477d-99a9-3dd35b905cee\",\"modelid\":\"1b78b77b-5f82-4602-b1cb-463026b3d4b9\"}];\n",
       "            \n",
       "            Bokeh.embed.embed_items(docs_json, render_items);\n",
       "        });\n",
       "      },\n",
       "      function(Bokeh) {\n",
       "      }\n",
       "    ];\n",
       "  \n",
       "    function run_inline_js() {\n",
       "      \n",
       "      if ((window.Bokeh !== undefined) || (force === \"1\")) {\n",
       "        for (var i = 0; i < inline_js.length; i++) {\n",
       "          inline_js[i](window.Bokeh);\n",
       "        }if (force === \"1\") {\n",
       "          display_loaded();\n",
       "        }} else if (Date.now() < window._bokeh_timeout) {\n",
       "        setTimeout(run_inline_js, 100);\n",
       "      } else if (!window._bokeh_failed_load) {\n",
       "        console.log(\"Bokeh: BokehJS failed to load within specified timeout.\");\n",
       "        window._bokeh_failed_load = true;\n",
       "      } else if (!force) {\n",
       "        var cell = $(\"#0f770ebd-0f15-477d-99a9-3dd35b905cee\").parents('.cell').data().cell;\n",
       "        cell.output_area.append_execute_result(NB_LOAD_WARNING)\n",
       "      }\n",
       "  \n",
       "    }\n",
       "  \n",
       "    if (window._bokeh_is_loading === 0) {\n",
       "      console.log(\"Bokeh: BokehJS loaded, going straight to plotting\");\n",
       "      run_inline_js();\n",
       "    } else {\n",
       "      load_libs(js_urls, function() {\n",
       "        console.log(\"Bokeh: BokehJS plotting callback run at\", now());\n",
       "        run_inline_js();\n",
       "      });\n",
       "    }\n",
       "  }(this));\n",
       "</script>"
      ]
     },
     "metadata": {},
     "output_type": "display_data"
    }
   ],
   "source": [
    "from bokeh.charts import Bar, show, output_notebook\n",
    "from bokeh.models import HoverTool\n",
    "\n",
    "output_notebook()\n",
    "\n",
    "palette = ['#4B0082','#FF6347','#F0E68C','#E6E6FA','#FFF0F5','#90EE90','#ADD8E6','#F08080','#D3D3D3','#FFB6C1','#87CEFA','#20B2AA','#FFA07A','#778899','#9370DB','#40E0D0']\n",
    "\n",
    "bar = Bar(pythonTopYearQuestTag, values='PercentageAmongstTop', label='QuestCreationYear', stack='QuestTags',\n",
    "          title='Top 10 Tags Used Throughout the Years for Python', legend=False, \n",
    "              bar_width=1.0, palette=palette, tools='hover', line_color=['YearTagCount', 'PercentageAmongstTop'])\n",
    "\n",
    "hover = bar.select(dict(type=HoverTool))\n",
    "hover.tooltips = [('Tag','@QuestTags'), ('Yearly Tag Count','@YearTagCount'), \n",
    "                      ('Percentage of Tag Used','@PercentageAmongstTop{1.11}%')]\n",
    "\n",
    "bar.xaxis.axis_label = 'Year in which Question was Created'\n",
    "bar.yaxis.axis_label = 'Percentage of Top Tags Used in Questions Yearly (%)'\n",
    "\n",
    "show(bar)"
   ]
  },
  {
   "cell_type": "code",
   "execution_count": 105,
   "metadata": {
    "collapsed": true
   },
   "outputs": [],
   "source": [
    "pythonTopQuestTags = pythonquestionstags.QuestTags.value_counts()[0:15]"
   ]
  },
  {
   "cell_type": "code",
   "execution_count": 106,
   "metadata": {
    "collapsed": true
   },
   "outputs": [],
   "source": [
    "pythonTopQuestTags = pythonTopQuestTags.reset_index()\n",
    "pythonTopQuestTags = pythonTopQuestTags.rename(columns= {'index':'QuestTags', 'QuestTags':'Count'})"
   ]
  },
  {
   "cell_type": "markdown",
   "metadata": {},
   "source": [
    "# Graph Plot 3: Frequency of Top 15 Tags Used (in Total for All the Years)"
   ]
  },
  {
   "cell_type": "code",
   "execution_count": 107,
   "metadata": {
    "collapsed": false
   },
   "outputs": [
    {
     "data": {
      "image/png": "[encoded data removed]",
      "text/plain": [
       "<matplotlib.figure.Figure at 0x23c705128>"
      ]
     },
     "metadata": {},
     "output_type": "display_data"
    }
   ],
   "source": [
    "%matplotlib inline\n",
    "import matplotlib.pyplot as plt\n",
    "plt.figure(figsize=(12,7))\n",
    "ax2 = sns.stripplot(x=\"QuestTags\", y=\"Count\", data=pythonTopQuestTags)"
   ]
  },
  {
   "cell_type": "code",
   "execution_count": 108,
   "metadata": {
    "collapsed": true
   },
   "outputs": [],
   "source": [
    "pythonQuestTags = pd.DataFrame(pythonquestionstags[['QuestionId', 'QuestTags']].groupby('QuestionId').QuestTags.apply(list)).reset_index()"
   ]
  },
  {
   "cell_type": "code",
   "execution_count": 109,
   "metadata": {
    "collapsed": false
   },
   "outputs": [],
   "source": [
    "pythonQuestTagList = list(pythonQuestTags.QuestTags)"
   ]
  },
  {
   "cell_type": "code",
   "execution_count": 110,
   "metadata": {
    "collapsed": true
   },
   "outputs": [],
   "source": [
    "pythonQuestTagList2 = [tag for tag in pythonQuestTagList if len(tag)>1]"
   ]
  },
  {
   "cell_type": "code",
   "execution_count": 111,
   "metadata": {
    "collapsed": false
   },
   "outputs": [],
   "source": [
    "import pyfpgrowth as fp\n",
    "pythonPatterns = fp.find_frequent_patterns(pythonQuestTagList2, 1000)"
   ]
  },
  {
   "cell_type": "code",
   "execution_count": 112,
   "metadata": {
    "collapsed": true
   },
   "outputs": [],
   "source": [
    "pythonRules = fp.generate_association_rules(pythonPatterns, 0.5)"
   ]
  },
  {
   "cell_type": "code",
   "execution_count": 113,
   "metadata": {
    "collapsed": true
   },
   "outputs": [],
   "source": [
    "pythonTest = list(pythonRules.items())"
   ]
  },
  {
   "cell_type": "code",
   "execution_count": 114,
   "metadata": {
    "collapsed": true
   },
   "outputs": [],
   "source": [
    "#RHS of edges all only contain one element\n",
    "# pythonTags_list = list()\n",
    "# for key,value in pythonTest:\n",
    "#     if len(key) > 1:\n",
    "#         pythonTags_list.append([key, value[0][0], value[1]])\n",
    "#     else:\n",
    "#         pythonTags_list.append([key[0], value[0][0], value[1]])\n",
    "        \n",
    "pythonTags_list = list()\n",
    "for key,value in pythonTest:\n",
    "    if len(key) > 1:\n",
    "        for ele in key:\n",
    "            pythonTags_list.append([ele, value[0][0], value[1]])\n",
    "    else:\n",
    "        pythonTags_list.append([key[0], value[0][0], value[1]])"
   ]
  },
  {
   "cell_type": "code",
   "execution_count": 115,
   "metadata": {
    "collapsed": true
   },
   "outputs": [],
   "source": [
    "import networkx as nx\n",
    "DG2 = nx.DiGraph()"
   ]
  },
  {
   "cell_type": "code",
   "execution_count": 116,
   "metadata": {
    "collapsed": true
   },
   "outputs": [],
   "source": [
    "items = list()\n",
    "for l in pythonTags_list:\n",
    "    for ele in l[:-1]:\n",
    "        if ele not in items:\n",
    "            items.append(ele)\n",
    "DG2.add_nodes_from(items)"
   ]
  },
  {
   "cell_type": "code",
   "execution_count": 117,
   "metadata": {
    "collapsed": true
   },
   "outputs": [],
   "source": [
    "DG2.add_weighted_edges_from(pythonTags_list)"
   ]
  },
  {
   "cell_type": "code",
   "execution_count": 118,
   "metadata": {
    "collapsed": true
   },
   "outputs": [],
   "source": [
    "nx.write_gexf(DG2, \"python_test.gexf\")"
   ]
  },
  {
   "cell_type": "code",
   "execution_count": 119,
   "metadata": {
    "collapsed": true
   },
   "outputs": [],
   "source": [
    "pythonTagCount = pythonquestionstags.groupby('QuestionId').QuestTags.size().reset_index()\n",
    "pythonTagCount = pythonTagCount.rename(columns={0:'TagCount'})"
   ]
  },
  {
   "cell_type": "code",
   "execution_count": 120,
   "metadata": {
    "collapsed": true
   },
   "outputs": [],
   "source": [
    "pythonanswers = pd.read_csv(\"Python Answers.csv\", encoding='latin1')"
   ]
  },
  {
   "cell_type": "code",
   "execution_count": 121,
   "metadata": {
    "collapsed": true
   },
   "outputs": [],
   "source": [
    "pythonanswers.rename(columns={'Id':'AnswerId', 'ParentId':'QuestionId'}, inplace=True)"
   ]
  },
  {
   "cell_type": "code",
   "execution_count": 122,
   "metadata": {
    "collapsed": true
   },
   "outputs": [],
   "source": [
    "pythonAnswerCount = pythonanswers.groupby('QuestionId').AnswerId.size().reset_index()"
   ]
  },
  {
   "cell_type": "code",
   "execution_count": 123,
   "metadata": {
    "collapsed": true
   },
   "outputs": [],
   "source": [
    "pythonAnswerCount = pythonAnswerCount.rename(columns={0:'AnsCount'})"
   ]
  },
  {
   "cell_type": "code",
   "execution_count": 124,
   "metadata": {
    "collapsed": true
   },
   "outputs": [],
   "source": [
    "pythonAnswerstags = pd.merge(pythonAnswerCount, pythonTagCount, on='QuestionId')"
   ]
  },
  {
   "cell_type": "markdown",
   "metadata": {},
   "source": [
    "# Graph Plot 4: Number of Answers Against Number of Python Tags Used in Python Questions"
   ]
  },
  {
   "cell_type": "code",
   "execution_count": 125,
   "metadata": {
    "collapsed": false
   },
   "outputs": [
    {
     "data": {
      "text/plain": [
       "-0.099691138487314354"
      ]
     },
     "execution_count": 125,
     "metadata": {},
     "output_type": "execute_result"
    }
   ],
   "source": [
    "import numpy\n",
    "numpy.corrcoef(list(pythonAnswerstags.TagCount), list(pythonAnswerstags.AnsCount))[0,1]"
   ]
  },
  {
   "cell_type": "code",
   "execution_count": 126,
   "metadata": {
    "collapsed": false
   },
   "outputs": [
    {
     "data": {
      "text/plain": [
       "(0, 10)"
      ]
     },
     "execution_count": 126,
     "metadata": {},
     "output_type": "execute_result"
    },
    {
     "data": {
      "image/png": "[encoded data removed]",
      "text/plain": [
       "<matplotlib.figure.Figure at 0x295919080>"
      ]
     },
     "metadata": {},
     "output_type": "display_data"
    }
   ],
   "source": [
    "#scatterplot of AnswerCount against TagCount, one question with 408 answers\n",
    "%matplotlib inline\n",
    "ax4 = sns.boxplot(x=\"TagCount\", y=\"AnsCount\", data=pythonAnswerstags)\n",
    "plt.ylim(0, 10)"
   ]
  },
  {
   "cell_type": "code",
   "execution_count": 127,
   "metadata": {
    "collapsed": false
   },
   "outputs": [
    {
     "data": {
      "text/plain": [
       "count     57072.000000\n",
       "mean         32.746583\n",
       "std        1079.978650\n",
       "min           1.000000\n",
       "25%           1.000000\n",
       "50%           2.000000\n",
       "75%           8.000000\n",
       "max      157453.000000\n",
       "Name: YearTagCount, dtype: float64"
      ]
     },
     "execution_count": 127,
     "metadata": {},
     "output_type": "execute_result"
    }
   ],
   "source": [
    "pythonYearQuestTag.YearTagCount.describe()"
   ]
  },
  {
   "cell_type": "code",
   "execution_count": 128,
   "metadata": {
    "collapsed": false
   },
   "outputs": [],
   "source": [
    "#remove noises by only including tags which were used in questions throughout a year within the 75% range\n",
    "pythonYearQuestTag = pythonYearQuestTag.loc[pythonYearQuestTag.YearTagCount >= 8, :]\n",
    "pythonSumQuestTag = pd.DataFrame(pythonYearQuestTag.groupby('QuestCreationYear').YearTagCount.sum()).reset_index()\n",
    "pythonSumQuestTag = pythonSumQuestTag.rename(columns={'YearTagCount':'SumYearTagCount'})\n",
    "pythonYearQuestTag = pd.merge(pythonYearQuestTag, pythonSumQuestTag, on='QuestCreationYear')\n",
    "pythonYearQuestTag['Proportion'] = pythonYearQuestTag['YearTagCount'] / pythonYearQuestTag['SumYearTagCount']"
   ]
  },
  {
   "cell_type": "markdown",
   "metadata": {},
   "source": [
    "# Percentage Change of Top 30 Common Python Tags from Oct'08-09 to Oct'15-16"
   ]
  },
  {
   "cell_type": "code",
   "execution_count": 129,
   "metadata": {
    "collapsed": false
   },
   "outputs": [
    {
     "data": {
      "text/html": [
       "\n",
       "\n",
       "    <div class=\"bk-root\">\n",
       "        <div class=\"plotdiv\" id=\"aa4fe389-9017-4ed6-a995-b5c9b9412f60\"></div>\n",
       "    </div>\n",
       "<script type=\"text/javascript\">\n",
       "  \n",
       "  (function(global) {\n",
       "    function now() {\n",
       "      return new Date();\n",
       "    }\n",
       "  \n",
       "    var force = \"\";\n",
       "  \n",
       "    if (typeof (window._bokeh_onload_callbacks) === \"undefined\" || force !== \"\") {\n",
       "      window._bokeh_onload_callbacks = [];\n",
       "      window._bokeh_is_loading = undefined;\n",
       "    }\n",
       "  \n",
       "  \n",
       "    \n",
       "    if (typeof (window._bokeh_timeout) === \"undefined\" || force !== \"\") {\n",
       "      window._bokeh_timeout = Date.now() + 0;\n",
       "      window._bokeh_failed_load = false;\n",
       "    }\n",
       "  \n",
       "    var NB_LOAD_WARNING = {'data': {'text/html':\n",
       "       \"<div style='background-color: #fdd'>\\n\"+\n",
       "       \"<p>\\n\"+\n",
       "       \"BokehJS does not appear to have successfully loaded. If loading BokehJS from CDN, this \\n\"+\n",
       "       \"may be due to a slow or bad network connection. Possible fixes:\\n\"+\n",
       "       \"</p>\\n\"+\n",
       "       \"<ul>\\n\"+\n",
       "       \"<li>re-rerun `output_notebook()` to attempt to load from CDN again, or</li>\\n\"+\n",
       "       \"<li>use INLINE resources instead, as so:</li>\\n\"+\n",
       "       \"</ul>\\n\"+\n",
       "       \"<code>\\n\"+\n",
       "       \"from bokeh.resources import INLINE\\n\"+\n",
       "       \"output_notebook(resources=INLINE)\\n\"+\n",
       "       \"</code>\\n\"+\n",
       "       \"</div>\"}};\n",
       "  \n",
       "    function display_loaded() {\n",
       "      if (window.Bokeh !== undefined) {\n",
       "        Bokeh.$(\"#aa4fe389-9017-4ed6-a995-b5c9b9412f60\").text(\"BokehJS successfully loaded.\");\n",
       "      } else if (Date.now() < window._bokeh_timeout) {\n",
       "        setTimeout(display_loaded, 100)\n",
       "      }\n",
       "    }\n",
       "  \n",
       "    function run_callbacks() {\n",
       "      window._bokeh_onload_callbacks.forEach(function(callback) { callback() });\n",
       "      delete window._bokeh_onload_callbacks\n",
       "      console.info(\"Bokeh: all callbacks have finished\");\n",
       "    }\n",
       "  \n",
       "    function load_libs(js_urls, callback) {\n",
       "      window._bokeh_onload_callbacks.push(callback);\n",
       "      if (window._bokeh_is_loading > 0) {\n",
       "        console.log(\"Bokeh: BokehJS is being loaded, scheduling callback at\", now());\n",
       "        return null;\n",
       "      }\n",
       "      if (js_urls == null || js_urls.length === 0) {\n",
       "        run_callbacks();\n",
       "        return null;\n",
       "      }\n",
       "      console.log(\"Bokeh: BokehJS not loaded, scheduling load and callback at\", now());\n",
       "      window._bokeh_is_loading = js_urls.length;\n",
       "      for (var i = 0; i < js_urls.length; i++) {\n",
       "        var url = js_urls[i];\n",
       "        var s = document.createElement('script');\n",
       "        s.src = url;\n",
       "        s.async = false;\n",
       "        s.onreadystatechange = s.onload = function() {\n",
       "          window._bokeh_is_loading--;\n",
       "          if (window._bokeh_is_loading === 0) {\n",
       "            console.log(\"Bokeh: all BokehJS libraries loaded\");\n",
       "            run_callbacks()\n",
       "          }\n",
       "        };\n",
       "        s.onerror = function() {\n",
       "          console.warn(\"failed to load library \" + url);\n",
       "        };\n",
       "        console.log(\"Bokeh: injecting script tag for BokehJS library: \", url);\n",
       "        document.getElementsByTagName(\"head\")[0].appendChild(s);\n",
       "      }\n",
       "    };var element = document.getElementById(\"aa4fe389-9017-4ed6-a995-b5c9b9412f60\");\n",
       "    if (element == null) {\n",
       "      console.log(\"Bokeh: ERROR: autoload.js configured with elementid 'aa4fe389-9017-4ed6-a995-b5c9b9412f60' but no matching script tag was found. \")\n",
       "      return false;\n",
       "    }\n",
       "  \n",
       "    var js_urls = [];\n",
       "  \n",
       "    var inline_js = [\n",
       "      function(Bokeh) {\n",
       "        Bokeh.$(function() {\n",
       "            var docs_json = {\"15b7cefd-3fca-4aaf-b45f-10660325ad21\":{\"roots\":{\"references\":[{\"attributes\":{\"callback\":null,\"column_names\":[\"line_color\",\"height\",\"x\",\"fill_alpha\",\"width\",\"label\",\"line_alpha\",\"color\",\"y\"],\"data\":{\"QuestTags\":[\"jquery\"],\"chart_index\":[{\"QuestTags\":\"jquery\"}],\"color\":[\"#f22c40\"],\"fill_alpha\":[0.8],\"height\":[0.9797227360588614],\"label\":[{\"QuestTags\":\"jquery\"}],\"line_alpha\":[1.0],\"line_color\":[\"white\"],\"width\":[1.0],\"x\":[\"jquery\"],\"y\":[0.4898613680294307]}},\"id\":\"533b7fb4-1f61-4da1-9f73-d42b614ce358\",\"type\":\"ColumnDataSource\"},{\"attributes\":{\"plot\":null,\"text\":\"Percentage Increase of Tags Used from Oct'08-09 to Oct'15-16\"},\"id\":\"e1676ae2-bd1b-4245-85c3-5301d7df5a70\",\"type\":\"Title\"},{\"attributes\":{\"callback\":null,\"column_names\":[\"line_color\",\"height\",\"x\",\"fill_alpha\",\"width\",\"label\",\"line_alpha\",\"color\",\"y\"],\"data\":{\"QuestTags\":[\"matrix\"],\"chart_index\":[{\"QuestTags\":\"matrix\"}],\"color\":[\"#f22c40\"],\"fill_alpha\":[0.8],\"height\":[2.603370096534106],\"label\":[{\"QuestTags\":\"matrix\"}],\"line_alpha\":[1.0],\"line_color\":[\"white\"],\"width\":[1.0],\"x\":[\"matrix\"],\"y\":[1.301685048267053]}},\"id\":\"97cc96c2-0a48-411f-8444-fabacd8d9a0c\",\"type\":\"ColumnDataSource\"},{\"attributes\":{\"fill_alpha\":{\"field\":\"fill_alpha\"},\"fill_color\":{\"field\":\"color\"},\"height\":{\"field\":\"height\",\"units\":\"data\"},\"line_color\":{\"field\":\"line_color\"},\"width\":{\"field\":\"width\",\"units\":\"data\"},\"x\":{\"field\":\"x\"},\"y\":{\"field\":\"y\"}},\"id\":\"7b418d0c-03b6-4ea8-b5fe-fea504ceb7f0\",\"type\":\"Rect\"},{\"attributes\":{\"callback\":null,\"column_names\":[\"line_color\",\"height\",\"x\",\"fill_alpha\",\"width\",\"label\",\"line_alpha\",\"color\",\"y\"],\"data\":{\"QuestTags\":[\"ubuntu\"],\"chart_index\":[{\"QuestTags\":\"ubuntu\"}],\"color\":[\"#f22c40\"],\"fill_alpha\":[0.8],\"height\":[1.0278445370383538],\"label\":[{\"QuestTags\":\"ubuntu\"}],\"line_alpha\":[1.0],\"line_color\":[\"white\"],\"width\":[1.0],\"x\":[\"ubuntu\"],\"y\":[0.5139222685191769]}},\"id\":\"d76da683-d7ae-40e0-a636-339e1c8bb71f\",\"type\":\"ColumnDataSource\"},{\"attributes\":{\"callback\":null,\"factors\":[\"arrays\",\"beautifulsoup\",\"csv\",\"cython\",\"django-views\",\"excel\",\"for-loop\",\"indexing\",\"jinja2\",\"jquery\",\"json\",\"loops\",\"matlab\",\"matplotlib\",\"matrix\",\"multidimensional-array\",\"numpy\",\"pip\",\"plot\",\"python-3.x\",\"scipy\",\"selenium\",\"sqlite3\",\"ssl\",\"tkinter\",\"twitter\",\"ubuntu\",\"web-crawler\",\"while-loop\",\"xpath\"]},\"id\":\"85e9f2e4-33cb-4626-be43-b8ed76453248\",\"type\":\"FactorRange\"},{\"attributes\":{\"fill_alpha\":{\"field\":\"fill_alpha\"},\"fill_color\":{\"field\":\"color\"},\"height\":{\"field\":\"height\",\"units\":\"data\"},\"line_color\":{\"field\":\"line_color\"},\"width\":{\"field\":\"width\",\"units\":\"data\"},\"x\":{\"field\":\"x\"},\"y\":{\"field\":\"y\"}},\"id\":\"6f57c55d-6ef7-46cf-80bc-034fa93bcbfd\",\"type\":\"Rect\"},{\"attributes\":{\"data_source\":{\"id\":\"272a7e62-5723-4a90-a453-233c5e82a1d8\",\"type\":\"ColumnDataSource\"},\"glyph\":{\"id\":\"a7143416-d115-4802-95e8-89897856cb89\",\"type\":\"Rect\"},\"hover_glyph\":null,\"nonselection_glyph\":null,\"selection_glyph\":null},\"id\":\"c8696418-9d3b-4d9e-ab6d-c0c05ff234b8\",\"type\":\"GlyphRenderer\"},{\"attributes\":{\"fill_alpha\":{\"field\":\"fill_alpha\"},\"fill_color\":{\"field\":\"color\"},\"height\":{\"field\":\"height\",\"units\":\"data\"},\"line_color\":{\"field\":\"line_color\"},\"width\":{\"field\":\"width\",\"units\":\"data\"},\"x\":{\"field\":\"x\"},\"y\":{\"field\":\"y\"}},\"id\":\"6b30992a-bc9e-42f0-a5b0-551d6a7bfa0e\",\"type\":\"Rect\"},{\"attributes\":{\"data_source\":{\"id\":\"a7f5c45e-dabb-4b83-8819-d16db5ffcf6e\",\"type\":\"ColumnDataSource\"},\"glyph\":{\"id\":\"6f57c55d-6ef7-46cf-80bc-034fa93bcbfd\",\"type\":\"Rect\"},\"hover_glyph\":null,\"nonselection_glyph\":null,\"selection_glyph\":null},\"id\":\"8582e1eb-6a72-45c0-a95e-2b6ec4a30ea5\",\"type\":\"GlyphRenderer\"},{\"attributes\":{\"fill_alpha\":{\"field\":\"fill_alpha\"},\"fill_color\":{\"field\":\"color\"},\"height\":{\"field\":\"height\",\"units\":\"data\"},\"line_color\":{\"field\":\"line_color\"},\"width\":{\"field\":\"width\",\"units\":\"data\"},\"x\":{\"field\":\"x\"},\"y\":{\"field\":\"y\"}},\"id\":\"613659dd-54d4-40b2-9c8c-23a348f3f9ef\",\"type\":\"Rect\"},{\"attributes\":{\"callback\":null,\"column_names\":[\"line_color\",\"height\",\"x\",\"fill_alpha\",\"width\",\"label\",\"line_alpha\",\"color\",\"y\"],\"data\":{\"QuestTags\":[\"sqlite3\"],\"chart_index\":[{\"QuestTags\":\"sqlite3\"}],\"color\":[\"#f22c40\"],\"fill_alpha\":[0.8],\"height\":[1.2114711011765862],\"label\":[{\"QuestTags\":\"sqlite3\"}],\"line_alpha\":[1.0],\"line_color\":[\"white\"],\"width\":[1.0],\"x\":[\"sqlite3\"],\"y\":[0.6057355505882931]}},\"id\":\"a3516bf0-24ac-46da-b6aa-a93cfda4c9d2\",\"type\":\"ColumnDataSource\"},{\"attributes\":{\"plot\":{\"id\":\"5a928e4e-c778-47df-8050-a01597b72825\",\"subtype\":\"Chart\",\"type\":\"Plot\"}},\"id\":\"f1ab57fc-729d-4acd-9110-48e00b6d6e7f\",\"type\":\"HelpTool\"},{\"attributes\":{\"fill_alpha\":{\"field\":\"fill_alpha\"},\"fill_color\":{\"field\":\"color\"},\"height\":{\"field\":\"height\",\"units\":\"data\"},\"line_color\":{\"field\":\"line_color\"},\"width\":{\"field\":\"width\",\"units\":\"data\"},\"x\":{\"field\":\"x\"},\"y\":{\"field\":\"y\"}},\"id\":\"fe8d4645-0b84-47c8-ae5c-459712bc2d01\",\"type\":\"Rect\"},{\"attributes\":{\"callback\":null,\"column_names\":[\"line_color\",\"height\",\"x\",\"fill_alpha\",\"width\",\"label\",\"line_alpha\",\"color\",\"y\"],\"data\":{\"QuestTags\":[\"plot\"],\"chart_index\":[{\"QuestTags\":\"plot\"}],\"color\":[\"#f22c40\"],\"fill_alpha\":[0.8],\"height\":[5.502650935182683],\"label\":[{\"QuestTags\":\"plot\"}],\"line_alpha\":[1.0],\"line_color\":[\"white\"],\"width\":[1.0],\"x\":[\"plot\"],\"y\":[2.7513254675913417]}},\"id\":\"fa0b985e-0a69-4e58-852c-4ee8ce21ed3b\",\"type\":\"ColumnDataSource\"},{\"attributes\":{\"data_source\":{\"id\":\"a917ea98-b304-4433-80aa-427f10797775\",\"type\":\"ColumnDataSource\"},\"glyph\":{\"id\":\"74e4eb2c-62f7-4b21-8dd6-9e443e3ea959\",\"type\":\"Rect\"},\"hover_glyph\":null,\"nonselection_glyph\":null,\"selection_glyph\":null},\"id\":\"5c3b184f-a201-4299-a95e-58fd6b5c2dc8\",\"type\":\"GlyphRenderer\"},{\"attributes\":{\"fill_alpha\":{\"field\":\"fill_alpha\"},\"fill_color\":{\"field\":\"color\"},\"height\":{\"field\":\"height\",\"units\":\"data\"},\"line_color\":{\"field\":\"line_color\"},\"width\":{\"field\":\"width\",\"units\":\"data\"},\"x\":{\"field\":\"x\"},\"y\":{\"field\":\"y\"}},\"id\":\"22a02403-0696-413e-aff4-5e3cd03480b9\",\"type\":\"Rect\"},{\"attributes\":{\"callback\":null,\"column_names\":[\"line_color\",\"height\",\"x\",\"fill_alpha\",\"width\",\"label\",\"line_alpha\",\"color\",\"y\"],\"data\":{\"QuestTags\":[\"excel\"],\"chart_index\":[{\"QuestTags\":\"excel\"}],\"color\":[\"#f22c40\"],\"fill_alpha\":[0.8],\"height\":[1.0691524813113573],\"label\":[{\"QuestTags\":\"excel\"}],\"line_alpha\":[1.0],\"line_color\":[\"white\"],\"width\":[1.0],\"x\":[\"excel\"],\"y\":[0.5345762406556787]}},\"id\":\"f22b56d1-bcb6-43ad-a8b1-ade58f1d0096\",\"type\":\"ColumnDataSource\"},{\"attributes\":{\"fill_alpha\":{\"field\":\"fill_alpha\"},\"fill_color\":{\"field\":\"color\"},\"height\":{\"field\":\"height\",\"units\":\"data\"},\"line_color\":{\"field\":\"line_color\"},\"width\":{\"field\":\"width\",\"units\":\"data\"},\"x\":{\"field\":\"x\"},\"y\":{\"field\":\"y\"}},\"id\":\"2e1e0f3b-06de-4813-8671-870c525df50b\",\"type\":\"Rect\"},{\"attributes\":{\"fill_alpha\":{\"field\":\"fill_alpha\"},\"fill_color\":{\"field\":\"color\"},\"height\":{\"field\":\"height\",\"units\":\"data\"},\"line_color\":{\"field\":\"line_color\"},\"width\":{\"field\":\"width\",\"units\":\"data\"},\"x\":{\"field\":\"x\"},\"y\":{\"field\":\"y\"}},\"id\":\"a3a34b90-b950-4edf-a519-a8523a3666b1\",\"type\":\"Rect\"},{\"attributes\":{\"plot\":{\"id\":\"5a928e4e-c778-47df-8050-a01597b72825\",\"subtype\":\"Chart\",\"type\":\"Plot\"}},\"id\":\"ccfa8bde-c5f4-49c5-ad28-c1b96bf752a6\",\"type\":\"PanTool\"},{\"attributes\":{\"fill_alpha\":{\"field\":\"fill_alpha\"},\"fill_color\":{\"field\":\"color\"},\"height\":{\"field\":\"height\",\"units\":\"data\"},\"line_color\":{\"field\":\"line_color\"},\"width\":{\"field\":\"width\",\"units\":\"data\"},\"x\":{\"field\":\"x\"},\"y\":{\"field\":\"y\"}},\"id\":\"bb171f81-c71d-47db-9bdb-b8cb82c15234\",\"type\":\"Rect\"},{\"attributes\":{\"fill_alpha\":{\"field\":\"fill_alpha\"},\"fill_color\":{\"field\":\"color\"},\"height\":{\"field\":\"height\",\"units\":\"data\"},\"line_color\":{\"field\":\"line_color\"},\"width\":{\"field\":\"width\",\"units\":\"data\"},\"x\":{\"field\":\"x\"},\"y\":{\"field\":\"y\"}},\"id\":\"13e2020a-947f-4a48-b3c5-f42e350ee5c5\",\"type\":\"Rect\"},{\"attributes\":{\"callback\":null,\"column_names\":[\"line_color\",\"height\",\"x\",\"fill_alpha\",\"width\",\"label\",\"line_alpha\",\"color\",\"y\"],\"data\":{\"QuestTags\":[\"arrays\"],\"chart_index\":[{\"QuestTags\":\"arrays\"}],\"color\":[\"#f22c40\"],\"fill_alpha\":[0.8],\"height\":[2.2966028837414947],\"label\":[{\"QuestTags\":\"arrays\"}],\"line_alpha\":[1.0],\"line_color\":[\"white\"],\"width\":[1.0],\"x\":[\"arrays\"],\"y\":[1.1483014418707473]}},\"id\":\"8439fe08-4319-41b5-a266-3b288192bedb\",\"type\":\"ColumnDataSource\"},{\"attributes\":{\"fill_alpha\":{\"field\":\"fill_alpha\"},\"fill_color\":{\"field\":\"color\"},\"height\":{\"field\":\"height\",\"units\":\"data\"},\"line_color\":{\"field\":\"line_color\"},\"width\":{\"field\":\"width\",\"units\":\"data\"},\"x\":{\"field\":\"x\"},\"y\":{\"field\":\"y\"}},\"id\":\"641a67ca-e02d-4962-a30b-bbd7ed8f9d4d\",\"type\":\"Rect\"},{\"attributes\":{\"callback\":null,\"column_names\":[\"line_color\",\"height\",\"x\",\"fill_alpha\",\"width\",\"label\",\"line_alpha\",\"color\",\"y\"],\"data\":{\"QuestTags\":[\"numpy\"],\"chart_index\":[{\"QuestTags\":\"numpy\"}],\"color\":[\"#f22c40\"],\"fill_alpha\":[0.8],\"height\":[3.7097052276733438],\"label\":[{\"QuestTags\":\"numpy\"}],\"line_alpha\":[1.0],\"line_color\":[\"white\"],\"width\":[1.0],\"x\":[\"numpy\"],\"y\":[1.8548526138366719]}},\"id\":\"d113402e-c3ec-4d5e-8660-22bf9b5720ca\",\"type\":\"ColumnDataSource\"},{\"attributes\":{\"fill_alpha\":{\"field\":\"fill_alpha\"},\"fill_color\":{\"field\":\"color\"},\"height\":{\"field\":\"height\",\"units\":\"data\"},\"line_color\":{\"field\":\"line_color\"},\"width\":{\"field\":\"width\",\"units\":\"data\"},\"x\":{\"field\":\"x\"},\"y\":{\"field\":\"y\"}},\"id\":\"a7143416-d115-4802-95e8-89897856cb89\",\"type\":\"Rect\"},{\"attributes\":{\"fill_alpha\":{\"field\":\"fill_alpha\"},\"fill_color\":{\"field\":\"color\"},\"height\":{\"field\":\"height\",\"units\":\"data\"},\"line_color\":{\"field\":\"line_color\"},\"width\":{\"field\":\"width\",\"units\":\"data\"},\"x\":{\"field\":\"x\"},\"y\":{\"field\":\"y\"}},\"id\":\"74e4eb2c-62f7-4b21-8dd6-9e443e3ea959\",\"type\":\"Rect\"},{\"attributes\":{},\"id\":\"020b4a51-907b-44f0-965a-c7b6cf71a19e\",\"type\":\"BasicTickFormatter\"},{\"attributes\":{\"overlay\":{\"id\":\"ff61ecd2-cc9f-48c0-95f7-f314c582a8d9\",\"type\":\"BoxAnnotation\"},\"plot\":{\"id\":\"5a928e4e-c778-47df-8050-a01597b72825\",\"subtype\":\"Chart\",\"type\":\"Plot\"}},\"id\":\"17215136-68b3-4381-a395-e8fedec73767\",\"type\":\"BoxZoomTool\"},{\"attributes\":{\"callback\":null,\"column_names\":[\"line_color\",\"height\",\"x\",\"fill_alpha\",\"width\",\"label\",\"line_alpha\",\"color\",\"y\"],\"data\":{\"QuestTags\":[\"python-3.x\"],\"chart_index\":[{\"QuestTags\":\"python-3.x\"}],\"color\":[\"#f22c40\"],\"fill_alpha\":[0.8],\"height\":[4.311468251823832],\"label\":[{\"QuestTags\":\"python-3.x\"}],\"line_alpha\":[1.0],\"line_color\":[\"white\"],\"width\":[1.0],\"x\":[\"python-3.x\"],\"y\":[2.155734125911916]}},\"id\":\"7d4715b5-a668-4473-a96f-80193f347f45\",\"type\":\"ColumnDataSource\"},{\"attributes\":{\"data_source\":{\"id\":\"87f7aa8f-7cc1-469f-bcbf-5465a33813f1\",\"type\":\"ColumnDataSource\"},\"glyph\":{\"id\":\"72740190-638d-415a-ac03-e90b796272ba\",\"type\":\"Rect\"},\"hover_glyph\":null,\"nonselection_glyph\":null,\"selection_glyph\":null},\"id\":\"20a5ac25-deab-4828-8e99-99c5844399f4\",\"type\":\"GlyphRenderer\"},{\"attributes\":{\"data_source\":{\"id\":\"7224ecd4-fb41-476d-b051-38c90d6e3b9a\",\"type\":\"ColumnDataSource\"},\"glyph\":{\"id\":\"2e1e0f3b-06de-4813-8671-870c525df50b\",\"type\":\"Rect\"},\"hover_glyph\":null,\"nonselection_glyph\":null,\"selection_glyph\":null},\"id\":\"5091134d-7c28-4767-8b10-5d97115cfb7b\",\"type\":\"GlyphRenderer\"},{\"attributes\":{\"callback\":null,\"column_names\":[\"line_color\",\"height\",\"x\",\"fill_alpha\",\"width\",\"label\",\"line_alpha\",\"color\",\"y\"],\"data\":{\"QuestTags\":[\"indexing\"],\"chart_index\":[{\"QuestTags\":\"indexing\"}],\"color\":[\"#f22c40\"],\"fill_alpha\":[0.8],\"height\":[2.228941127022727],\"label\":[{\"QuestTags\":\"indexing\"}],\"line_alpha\":[1.0],\"line_color\":[\"white\"],\"width\":[1.0],\"x\":[\"indexing\"],\"y\":[1.1144705635113634]}},\"id\":\"c458a83b-ffbe-4d69-8ecf-4b4ce4b09686\",\"type\":\"ColumnDataSource\"},{\"attributes\":{\"callback\":null,\"column_names\":[\"line_color\",\"height\",\"x\",\"fill_alpha\",\"width\",\"label\",\"line_alpha\",\"color\",\"y\"],\"data\":{\"QuestTags\":[\"matlab\"],\"chart_index\":[{\"QuestTags\":\"matlab\"}],\"color\":[\"#f22c40\"],\"fill_alpha\":[0.8],\"height\":[0.9047038883839749],\"label\":[{\"QuestTags\":\"matlab\"}],\"line_alpha\":[1.0],\"line_color\":[\"white\"],\"width\":[1.0],\"x\":[\"matlab\"],\"y\":[0.45235194419198743]}},\"id\":\"1fc77e31-ec33-4413-8d4f-5eec9b8434c2\",\"type\":\"ColumnDataSource\"},{\"attributes\":{\"fill_alpha\":{\"field\":\"fill_alpha\"},\"fill_color\":{\"field\":\"color\"},\"height\":{\"field\":\"height\",\"units\":\"data\"},\"line_color\":{\"field\":\"line_color\"},\"width\":{\"field\":\"width\",\"units\":\"data\"},\"x\":{\"field\":\"x\"},\"y\":{\"field\":\"y\"}},\"id\":\"cd289908-d579-4356-8963-ea6fe49c31e4\",\"type\":\"Rect\"},{\"attributes\":{\"fill_alpha\":{\"field\":\"fill_alpha\"},\"fill_color\":{\"field\":\"color\"},\"height\":{\"field\":\"height\",\"units\":\"data\"},\"line_color\":{\"field\":\"line_color\"},\"width\":{\"field\":\"width\",\"units\":\"data\"},\"x\":{\"field\":\"x\"},\"y\":{\"field\":\"y\"}},\"id\":\"848826f9-34ca-4842-b761-b94cc14f4755\",\"type\":\"Rect\"},{\"attributes\":{\"data_source\":{\"id\":\"010635ef-81fd-4f37-811d-30e3819a50c9\",\"type\":\"ColumnDataSource\"},\"glyph\":{\"id\":\"b66c72b3-f33c-45e9-b9e9-117b6fd77a8a\",\"type\":\"Rect\"},\"hover_glyph\":null,\"nonselection_glyph\":null,\"selection_glyph\":null},\"id\":\"daface22-afe5-4005-b234-67f8fbe91bd4\",\"type\":\"GlyphRenderer\"},{\"attributes\":{\"data_source\":{\"id\":\"fa0b985e-0a69-4e58-852c-4ee8ce21ed3b\",\"type\":\"ColumnDataSource\"},\"glyph\":{\"id\":\"fe8d4645-0b84-47c8-ae5c-459712bc2d01\",\"type\":\"Rect\"},\"hover_glyph\":null,\"nonselection_glyph\":null,\"selection_glyph\":null},\"id\":\"dfa7a261-636c-48ca-8388-898a17e6f76f\",\"type\":\"GlyphRenderer\"},{\"attributes\":{\"callback\":null,\"column_names\":[\"line_color\",\"height\",\"x\",\"fill_alpha\",\"width\",\"label\",\"line_alpha\",\"color\",\"y\"],\"data\":{\"QuestTags\":[\"loops\"],\"chart_index\":[{\"QuestTags\":\"loops\"}],\"color\":[\"#f22c40\"],\"fill_alpha\":[0.8],\"height\":[0.7152800401435906],\"label\":[{\"QuestTags\":\"loops\"}],\"line_alpha\":[1.0],\"line_color\":[\"white\"],\"width\":[1.0],\"x\":[\"loops\"],\"y\":[0.3576400200717953]}},\"id\":\"3f152e6e-2af3-48d6-a4bc-df375a8d7c6b\",\"type\":\"ColumnDataSource\"},{\"attributes\":{\"axis_label\":\"Question Tags\",\"formatter\":{\"id\":\"9b571f86-5f0a-4ab1-b5a6-b7aa56cbabba\",\"type\":\"CategoricalTickFormatter\"},\"major_label_orientation\":0.7853981633974483,\"plot\":{\"id\":\"5a928e4e-c778-47df-8050-a01597b72825\",\"subtype\":\"Chart\",\"type\":\"Plot\"},\"ticker\":{\"id\":\"66fc3832-028d-456a-bad4-eb5c1950e9b1\",\"type\":\"CategoricalTicker\"}},\"id\":\"f211ec20-ab90-486e-986b-51fe6cef9870\",\"type\":\"CategoricalAxis\"},{\"attributes\":{\"data_source\":{\"id\":\"2291904d-3ee3-452b-9642-5b2b635fac38\",\"type\":\"ColumnDataSource\"},\"glyph\":{\"id\":\"cd289908-d579-4356-8963-ea6fe49c31e4\",\"type\":\"Rect\"},\"hover_glyph\":null,\"nonselection_glyph\":null,\"selection_glyph\":null},\"id\":\"bc661aeb-e560-4046-9a61-edac8d6f42f9\",\"type\":\"GlyphRenderer\"},{\"attributes\":{\"data_source\":{\"id\":\"595a89dc-5b6b-4d33-a411-466cc95b08e1\",\"type\":\"ColumnDataSource\"},\"glyph\":{\"id\":\"7b418d0c-03b6-4ea8-b5fe-fea504ceb7f0\",\"type\":\"Rect\"},\"hover_glyph\":null,\"nonselection_glyph\":null,\"selection_glyph\":null},\"id\":\"ca95db0c-62ee-4779-9c19-706a6f132b2f\",\"type\":\"GlyphRenderer\"},{\"attributes\":{\"data_source\":{\"id\":\"99811c8f-419a-4396-93d7-bf929613147f\",\"type\":\"ColumnDataSource\"},\"glyph\":{\"id\":\"fa953fbb-2067-49d5-8afa-0cada011ee71\",\"type\":\"Rect\"},\"hover_glyph\":null,\"nonselection_glyph\":null,\"selection_glyph\":null},\"id\":\"a2a6d156-c179-4255-b8cc-0ab23c9ba6c1\",\"type\":\"GlyphRenderer\"},{\"attributes\":{\"data_source\":{\"id\":\"c458a83b-ffbe-4d69-8ecf-4b4ce4b09686\",\"type\":\"ColumnDataSource\"},\"glyph\":{\"id\":\"641a67ca-e02d-4962-a30b-bbd7ed8f9d4d\",\"type\":\"Rect\"},\"hover_glyph\":null,\"nonselection_glyph\":null,\"selection_glyph\":null},\"id\":\"dabd15ae-8e0e-45cd-bb97-244b44d0e252\",\"type\":\"GlyphRenderer\"},{\"attributes\":{\"active_drag\":\"auto\",\"active_scroll\":\"auto\",\"active_tap\":\"auto\",\"tools\":[{\"id\":\"ccfa8bde-c5f4-49c5-ad28-c1b96bf752a6\",\"type\":\"PanTool\"},{\"id\":\"dc69658f-3cc8-47f0-9fe7-6e7e94c95d31\",\"type\":\"WheelZoomTool\"},{\"id\":\"17215136-68b3-4381-a395-e8fedec73767\",\"type\":\"BoxZoomTool\"},{\"id\":\"cdaee4d6-fe2b-4b5d-9382-5fe35926295a\",\"type\":\"SaveTool\"},{\"id\":\"cabf6535-06cc-4e21-9935-f52ded15c876\",\"type\":\"ResetTool\"},{\"id\":\"f1ab57fc-729d-4acd-9110-48e00b6d6e7f\",\"type\":\"HelpTool\"}]},\"id\":\"06facd2c-b2fa-480e-9455-a87342bc3ab5\",\"type\":\"Toolbar\"},{\"attributes\":{\"data_source\":{\"id\":\"7d4715b5-a668-4473-a96f-80193f347f45\",\"type\":\"ColumnDataSource\"},\"glyph\":{\"id\":\"bb171f81-c71d-47db-9bdb-b8cb82c15234\",\"type\":\"Rect\"},\"hover_glyph\":null,\"nonselection_glyph\":null,\"selection_glyph\":null},\"id\":\"2aaa285f-6fc9-42b1-9f20-2e2433aa11a9\",\"type\":\"GlyphRenderer\"},{\"attributes\":{\"data_source\":{\"id\":\"4241e98d-cbff-477e-8e5e-20c99250e51b\",\"type\":\"ColumnDataSource\"},\"glyph\":{\"id\":\"090c3c70-f148-4d10-84b1-3e7d85d1628e\",\"type\":\"Rect\"},\"hover_glyph\":null,\"nonselection_glyph\":null,\"selection_glyph\":null},\"id\":\"4770c2d1-7d28-4128-afad-14845f874676\",\"type\":\"GlyphRenderer\"},{\"attributes\":{\"callback\":null,\"column_names\":[\"line_color\",\"height\",\"x\",\"fill_alpha\",\"width\",\"label\",\"line_alpha\",\"color\",\"y\"],\"data\":{\"QuestTags\":[\"scipy\"],\"chart_index\":[{\"QuestTags\":\"scipy\"}],\"color\":[\"#f22c40\"],\"fill_alpha\":[0.8],\"height\":[2.176453707758388],\"label\":[{\"QuestTags\":\"scipy\"}],\"line_alpha\":[1.0],\"line_color\":[\"white\"],\"width\":[1.0],\"x\":[\"scipy\"],\"y\":[1.088226853879194]}},\"id\":\"f7d0c0b3-af91-4299-a0f1-552b63b234f9\",\"type\":\"ColumnDataSource\"},{\"attributes\":{\"callback\":null,\"column_names\":[\"line_color\",\"height\",\"x\",\"fill_alpha\",\"width\",\"label\",\"line_alpha\",\"color\",\"y\"],\"data\":{\"QuestTags\":[\"selenium\"],\"chart_index\":[{\"QuestTags\":\"selenium\"}],\"color\":[\"#f22c40\"],\"fill_alpha\":[0.8],\"height\":[13.360253985409347],\"label\":[{\"QuestTags\":\"selenium\"}],\"line_alpha\":[1.0],\"line_color\":[\"white\"],\"width\":[1.0],\"x\":[\"selenium\"],\"y\":[6.680126992704674]}},\"id\":\"d0d5745c-f60d-40be-8f6c-a4182f367194\",\"type\":\"ColumnDataSource\"},{\"attributes\":{\"bottom_units\":\"screen\",\"fill_alpha\":{\"value\":0.5},\"fill_color\":{\"value\":\"lightgrey\"},\"left_units\":\"screen\",\"level\":\"overlay\",\"line_alpha\":{\"value\":1.0},\"line_color\":{\"value\":\"black\"},\"line_dash\":[4,4],\"line_width\":{\"value\":2},\"plot\":null,\"render_mode\":\"css\",\"right_units\":\"screen\",\"top_units\":\"screen\"},\"id\":\"ff61ecd2-cc9f-48c0-95f7-f314c582a8d9\",\"type\":\"BoxAnnotation\"},{\"attributes\":{\"callback\":null,\"column_names\":[\"line_color\",\"height\",\"x\",\"fill_alpha\",\"width\",\"label\",\"line_alpha\",\"color\",\"y\"],\"data\":{\"QuestTags\":[\"while-loop\"],\"chart_index\":[{\"QuestTags\":\"while-loop\"}],\"color\":[\"#f22c40\"],\"fill_alpha\":[0.8],\"height\":[1.2790056741421236],\"label\":[{\"QuestTags\":\"while-loop\"}],\"line_alpha\":[1.0],\"line_color\":[\"white\"],\"width\":[1.0],\"x\":[\"while-loop\"],\"y\":[0.6395028370710618]}},\"id\":\"a7f5c45e-dabb-4b83-8819-d16db5ffcf6e\",\"type\":\"ColumnDataSource\"},{\"attributes\":{\"data_source\":{\"id\":\"3f152e6e-2af3-48d6-a4bc-df375a8d7c6b\",\"type\":\"ColumnDataSource\"},\"glyph\":{\"id\":\"06e5a28f-02af-4380-aa63-a5eb63fb2a8d\",\"type\":\"Rect\"},\"hover_glyph\":null,\"nonselection_glyph\":null,\"selection_glyph\":null},\"id\":\"8abb39ec-bd9e-4119-b863-84ba55790b9b\",\"type\":\"GlyphRenderer\"},{\"attributes\":{\"data_source\":{\"id\":\"d0d5745c-f60d-40be-8f6c-a4182f367194\",\"type\":\"ColumnDataSource\"},\"glyph\":{\"id\":\"13e2020a-947f-4a48-b3c5-f42e350ee5c5\",\"type\":\"Rect\"},\"hover_glyph\":null,\"nonselection_glyph\":null,\"selection_glyph\":null},\"id\":\"06080a04-0933-4bd6-b48b-6f6c3f77defe\",\"type\":\"GlyphRenderer\"},{\"attributes\":{\"callback\":null,\"column_names\":[\"line_color\",\"height\",\"x\",\"fill_alpha\",\"width\",\"label\",\"line_alpha\",\"color\",\"y\"],\"data\":{\"QuestTags\":[\"json\"],\"chart_index\":[{\"QuestTags\":\"json\"}],\"color\":[\"#f22c40\"],\"fill_alpha\":[0.8],\"height\":[1.9513753039718993],\"label\":[{\"QuestTags\":\"json\"}],\"line_alpha\":[1.0],\"line_color\":[\"white\"],\"width\":[1.0],\"x\":[\"json\"],\"y\":[0.9756876519859496]}},\"id\":\"4241e98d-cbff-477e-8e5e-20c99250e51b\",\"type\":\"ColumnDataSource\"},{\"attributes\":{},\"id\":\"cfb1bda2-e26a-401b-9dea-66bbfdfd9d8a\",\"type\":\"BasicTicker\"},{\"attributes\":{\"callback\":null,\"column_names\":[\"line_color\",\"height\",\"x\",\"fill_alpha\",\"width\",\"label\",\"line_alpha\",\"color\",\"y\"],\"data\":{\"QuestTags\":[\"matplotlib\"],\"chart_index\":[{\"QuestTags\":\"matplotlib\"}],\"color\":[\"#f22c40\"],\"fill_alpha\":[0.8],\"height\":[4.185595837902846],\"label\":[{\"QuestTags\":\"matplotlib\"}],\"line_alpha\":[1.0],\"line_color\":[\"white\"],\"width\":[1.0],\"x\":[\"matplotlib\"],\"y\":[2.092797918951423]}},\"id\":\"1dc75b37-fa60-4174-a9bf-270e5bf00db0\",\"type\":\"ColumnDataSource\"},{\"attributes\":{\"callback\":null,\"column_names\":[\"line_color\",\"height\",\"x\",\"fill_alpha\",\"width\",\"label\",\"line_alpha\",\"color\",\"y\"],\"data\":{\"QuestTags\":[\"beautifulsoup\"],\"chart_index\":[{\"QuestTags\":\"beautifulsoup\"}],\"color\":[\"#f22c40\"],\"fill_alpha\":[0.8],\"height\":[0.5566443503757741],\"label\":[{\"QuestTags\":\"beautifulsoup\"}],\"line_alpha\":[1.0],\"line_color\":[\"white\"],\"width\":[1.0],\"x\":[\"beautifulsoup\"],\"y\":[0.27832217518788704]}},\"id\":\"87ad4051-72df-4d0c-8f29-ae1142961d43\",\"type\":\"ColumnDataSource\"},{\"attributes\":{\"callback\":null,\"column_names\":[\"line_color\",\"height\",\"x\",\"fill_alpha\",\"width\",\"label\",\"line_alpha\",\"color\",\"y\"],\"data\":{\"QuestTags\":[\"ssl\"],\"chart_index\":[{\"QuestTags\":\"ssl\"}],\"color\":[\"#f22c40\"],\"fill_alpha\":[0.8],\"height\":[0.6483014418707473],\"label\":[{\"QuestTags\":\"ssl\"}],\"line_alpha\":[1.0],\"line_color\":[\"white\"],\"width\":[1.0],\"x\":[\"ssl\"],\"y\":[0.32415072093537367]}},\"id\":\"595a89dc-5b6b-4d33-a411-466cc95b08e1\",\"type\":\"ColumnDataSource\"},{\"attributes\":{\"fill_alpha\":{\"field\":\"fill_alpha\"},\"fill_color\":{\"field\":\"color\"},\"height\":{\"field\":\"height\",\"units\":\"data\"},\"line_color\":{\"field\":\"line_color\"},\"width\":{\"field\":\"width\",\"units\":\"data\"},\"x\":{\"field\":\"x\"},\"y\":{\"field\":\"y\"}},\"id\":\"e3de0424-4ad0-4f83-9dde-7853fbaabef1\",\"type\":\"Rect\"},{\"attributes\":{\"data_source\":{\"id\":\"c6440df8-eb19-4571-900e-e881d58cc370\",\"type\":\"ColumnDataSource\"},\"glyph\":{\"id\":\"ebd15e36-0b6a-4589-89eb-aa4256b85246\",\"type\":\"Rect\"},\"hover_glyph\":null,\"nonselection_glyph\":null,\"selection_glyph\":null},\"id\":\"0fb5fe07-6e74-423a-932b-a78a19033685\",\"type\":\"GlyphRenderer\"},{\"attributes\":{\"fill_alpha\":{\"field\":\"fill_alpha\"},\"fill_color\":{\"field\":\"color\"},\"height\":{\"field\":\"height\",\"units\":\"data\"},\"line_color\":{\"field\":\"line_color\"},\"width\":{\"field\":\"width\",\"units\":\"data\"},\"x\":{\"field\":\"x\"},\"y\":{\"field\":\"y\"}},\"id\":\"a0d93676-6624-4c36-8648-11549f89b406\",\"type\":\"Rect\"},{\"attributes\":{\"callback\":null,\"column_names\":[\"line_color\",\"height\",\"x\",\"fill_alpha\",\"width\",\"label\",\"line_alpha\",\"color\",\"y\"],\"data\":{\"QuestTags\":[\"twitter\"],\"chart_index\":[{\"QuestTags\":\"twitter\"}],\"color\":[\"#f22c40\"],\"fill_alpha\":[0.8],\"height\":[0.5140907862739799],\"label\":[{\"QuestTags\":\"twitter\"}],\"line_alpha\":[1.0],\"line_color\":[\"white\"],\"width\":[1.0],\"x\":[\"twitter\"],\"y\":[0.25704539313698993]}},\"id\":\"99811c8f-419a-4396-93d7-bf929613147f\",\"type\":\"ColumnDataSource\"},{\"attributes\":{\"data_source\":{\"id\":\"1dc75b37-fa60-4174-a9bf-270e5bf00db0\",\"type\":\"ColumnDataSource\"},\"glyph\":{\"id\":\"613659dd-54d4-40b2-9c8c-23a348f3f9ef\",\"type\":\"Rect\"},\"hover_glyph\":null,\"nonselection_glyph\":null,\"selection_glyph\":null},\"id\":\"76a4adac-669b-47ee-be99-074932b5590a\",\"type\":\"GlyphRenderer\"},{\"attributes\":{\"callback\":null,\"column_names\":[\"line_color\",\"height\",\"x\",\"fill_alpha\",\"width\",\"label\",\"line_alpha\",\"color\",\"y\"],\"data\":{\"QuestTags\":[\"csv\"],\"chart_index\":[{\"QuestTags\":\"csv\"}],\"color\":[\"#f22c40\"],\"fill_alpha\":[0.8],\"height\":[2.905787624966225],\"label\":[{\"QuestTags\":\"csv\"}],\"line_alpha\":[1.0],\"line_color\":[\"white\"],\"width\":[1.0],\"x\":[\"csv\"],\"y\":[1.4528938124831126]}},\"id\":\"340801e4-9425-4eee-bc45-962214e2aaec\",\"type\":\"ColumnDataSource\"},{\"attributes\":{\"data_source\":{\"id\":\"f7d0c0b3-af91-4299-a0f1-552b63b234f9\",\"type\":\"ColumnDataSource\"},\"glyph\":{\"id\":\"a0d93676-6624-4c36-8648-11549f89b406\",\"type\":\"Rect\"},\"hover_glyph\":null,\"nonselection_glyph\":null,\"selection_glyph\":null},\"id\":\"483ecad5-e253-4b99-88db-778f9c0f1eb7\",\"type\":\"GlyphRenderer\"},{\"attributes\":{\"data_source\":{\"id\":\"87ad4051-72df-4d0c-8f29-ae1142961d43\",\"type\":\"ColumnDataSource\"},\"glyph\":{\"id\":\"93189915-00a1-4f4b-9d05-e1793a4e7172\",\"type\":\"Rect\"},\"hover_glyph\":null,\"nonselection_glyph\":null,\"selection_glyph\":null},\"id\":\"9ff65ba0-97b3-46d1-9ef0-21e10a41acaf\",\"type\":\"GlyphRenderer\"},{\"attributes\":{\"callback\":null,\"column_names\":[\"line_color\",\"height\",\"x\",\"fill_alpha\",\"width\",\"label\",\"line_alpha\",\"color\",\"y\"],\"data\":{\"QuestTags\":[\"multidimensional-array\"],\"chart_index\":[{\"QuestTags\":\"multidimensional-array\"}],\"color\":[\"#f22c40\"],\"fill_alpha\":[0.8],\"height\":[0.6228646912245939],\"label\":[{\"QuestTags\":\"multidimensional-array\"}],\"line_alpha\":[1.0],\"line_color\":[\"white\"],\"width\":[1.0],\"x\":[\"multidimensional-array\"],\"y\":[0.31143234561229693]}},\"id\":\"2291904d-3ee3-452b-9642-5b2b635fac38\",\"type\":\"ColumnDataSource\"},{\"attributes\":{\"plot\":{\"id\":\"5a928e4e-c778-47df-8050-a01597b72825\",\"subtype\":\"Chart\",\"type\":\"Plot\"}},\"id\":\"dc69658f-3cc8-47f0-9fe7-6e7e94c95d31\",\"type\":\"WheelZoomTool\"},{\"attributes\":{\"below\":[{\"id\":\"f211ec20-ab90-486e-986b-51fe6cef9870\",\"type\":\"CategoricalAxis\"}],\"left\":[{\"id\":\"101344d5-3d54-4559-838d-ebe1d7b6db0d\",\"type\":\"LinearAxis\"}],\"renderers\":[{\"id\":\"ff61ecd2-cc9f-48c0-95f7-f314c582a8d9\",\"type\":\"BoxAnnotation\"},{\"id\":\"06080a04-0933-4bd6-b48b-6f6c3f77defe\",\"type\":\"GlyphRenderer\"},{\"id\":\"4e2161b7-e4d1-4a86-b9b7-994b7831b431\",\"type\":\"GlyphRenderer\"},{\"id\":\"dfa7a261-636c-48ca-8388-898a17e6f76f\",\"type\":\"GlyphRenderer\"},{\"id\":\"2aaa285f-6fc9-42b1-9f20-2e2433aa11a9\",\"type\":\"GlyphRenderer\"},{\"id\":\"76a4adac-669b-47ee-be99-074932b5590a\",\"type\":\"GlyphRenderer\"},{\"id\":\"d2dc90c3-eed7-40cc-8b77-f9d8a09fd5b0\",\"type\":\"GlyphRenderer\"},{\"id\":\"81266755-859c-4701-ae2d-8cbe11f486fb\",\"type\":\"GlyphRenderer\"},{\"id\":\"84098d2b-846f-4dee-8bd7-0fb5528af832\",\"type\":\"GlyphRenderer\"},{\"id\":\"c21be20d-a4e5-4576-b86d-f65dc7d4f05e\",\"type\":\"GlyphRenderer\"},{\"id\":\"dabd15ae-8e0e-45cd-bb97-244b44d0e252\",\"type\":\"GlyphRenderer\"},{\"id\":\"483ecad5-e253-4b99-88db-778f9c0f1eb7\",\"type\":\"GlyphRenderer\"},{\"id\":\"4770c2d1-7d28-4128-afad-14845f874676\",\"type\":\"GlyphRenderer\"},{\"id\":\"ddbaa77c-840e-40dd-b9f3-fac6d30d0640\",\"type\":\"GlyphRenderer\"},{\"id\":\"20a5ac25-deab-4828-8e99-99c5844399f4\",\"type\":\"GlyphRenderer\"},{\"id\":\"0fb5fe07-6e74-423a-932b-a78a19033685\",\"type\":\"GlyphRenderer\"},{\"id\":\"5091134d-7c28-4767-8b10-5d97115cfb7b\",\"type\":\"GlyphRenderer\"},{\"id\":\"8582e1eb-6a72-45c0-a95e-2b6ec4a30ea5\",\"type\":\"GlyphRenderer\"},{\"id\":\"440b4d8c-1b84-412a-bddb-b32ec5d7a148\",\"type\":\"GlyphRenderer\"},{\"id\":\"5d0bf438-bb74-41a7-aa40-925048095549\",\"type\":\"GlyphRenderer\"},{\"id\":\"16e6a0ff-4417-43dd-92a3-a052013a78ca\",\"type\":\"GlyphRenderer\"},{\"id\":\"f2a7ca8d-756a-462d-be94-b5949dd11064\",\"type\":\"GlyphRenderer\"},{\"id\":\"70bbeada-ff2e-4079-b01e-ce47dfc6caef\",\"type\":\"GlyphRenderer\"},{\"id\":\"c8696418-9d3b-4d9e-ab6d-c0c05ff234b8\",\"type\":\"GlyphRenderer\"},{\"id\":\"5c3b184f-a201-4299-a95e-58fd6b5c2dc8\",\"type\":\"GlyphRenderer\"},{\"id\":\"8abb39ec-bd9e-4119-b863-84ba55790b9b\",\"type\":\"GlyphRenderer\"},{\"id\":\"ca95db0c-62ee-4779-9c19-706a6f132b2f\",\"type\":\"GlyphRenderer\"},{\"id\":\"bc661aeb-e560-4046-9a61-edac8d6f42f9\",\"type\":\"GlyphRenderer\"},{\"id\":\"daface22-afe5-4005-b234-67f8fbe91bd4\",\"type\":\"GlyphRenderer\"},{\"id\":\"9ff65ba0-97b3-46d1-9ef0-21e10a41acaf\",\"type\":\"GlyphRenderer\"},{\"id\":\"a2a6d156-c179-4255-b8cc-0ab23c9ba6c1\",\"type\":\"GlyphRenderer\"},{\"id\":\"f211ec20-ab90-486e-986b-51fe6cef9870\",\"type\":\"CategoricalAxis\"},{\"id\":\"101344d5-3d54-4559-838d-ebe1d7b6db0d\",\"type\":\"LinearAxis\"},{\"id\":\"8715236b-edf3-4c60-99c7-cf1fc039bdb8\",\"type\":\"Grid\"}],\"title\":{\"id\":\"e1676ae2-bd1b-4245-85c3-5301d7df5a70\",\"type\":\"Title\"},\"tool_events\":{\"id\":\"cc2d55a0-18af-41a3-80e4-bd85c40ed28d\",\"type\":\"ToolEvents\"},\"toolbar\":{\"id\":\"06facd2c-b2fa-480e-9455-a87342bc3ab5\",\"type\":\"Toolbar\"},\"x_mapper_type\":\"auto\",\"x_range\":{\"id\":\"85e9f2e4-33cb-4626-be43-b8ed76453248\",\"type\":\"FactorRange\"},\"y_mapper_type\":\"auto\",\"y_range\":{\"id\":\"ed7c8878-b192-46e9-bf79-9489813cc035\",\"type\":\"Range1d\"}},\"id\":\"5a928e4e-c778-47df-8050-a01597b72825\",\"subtype\":\"Chart\",\"type\":\"Plot\"},{\"attributes\":{\"plot\":{\"id\":\"5a928e4e-c778-47df-8050-a01597b72825\",\"subtype\":\"Chart\",\"type\":\"Plot\"}},\"id\":\"cdaee4d6-fe2b-4b5d-9382-5fe35926295a\",\"type\":\"SaveTool\"},{\"attributes\":{\"fill_alpha\":{\"field\":\"fill_alpha\"},\"fill_color\":{\"field\":\"color\"},\"height\":{\"field\":\"height\",\"units\":\"data\"},\"line_color\":{\"field\":\"line_color\"},\"width\":{\"field\":\"width\",\"units\":\"data\"},\"x\":{\"field\":\"x\"},\"y\":{\"field\":\"y\"}},\"id\":\"06e5a28f-02af-4380-aa63-a5eb63fb2a8d\",\"type\":\"Rect\"},{\"attributes\":{\"data_source\":{\"id\":\"d113402e-c3ec-4d5e-8660-22bf9b5720ca\",\"type\":\"ColumnDataSource\"},\"glyph\":{\"id\":\"5a72dd56-128d-49b4-b976-4b7cb0705ec5\",\"type\":\"Rect\"},\"hover_glyph\":null,\"nonselection_glyph\":null,\"selection_glyph\":null},\"id\":\"d2dc90c3-eed7-40cc-8b77-f9d8a09fd5b0\",\"type\":\"GlyphRenderer\"},{\"attributes\":{\"callback\":null,\"end\":14.028266684679814},\"id\":\"ed7c8878-b192-46e9-bf79-9489813cc035\",\"type\":\"Range1d\"},{\"attributes\":{\"fill_alpha\":{\"field\":\"fill_alpha\"},\"fill_color\":{\"field\":\"color\"},\"height\":{\"field\":\"height\",\"units\":\"data\"},\"line_color\":{\"field\":\"line_color\"},\"width\":{\"field\":\"width\",\"units\":\"data\"},\"x\":{\"field\":\"x\"},\"y\":{\"field\":\"y\"}},\"id\":\"090c3c70-f148-4d10-84b1-3e7d85d1628e\",\"type\":\"Rect\"},{\"attributes\":{\"fill_alpha\":{\"field\":\"fill_alpha\"},\"fill_color\":{\"field\":\"color\"},\"height\":{\"field\":\"height\",\"units\":\"data\"},\"line_color\":{\"field\":\"line_color\"},\"width\":{\"field\":\"width\",\"units\":\"data\"},\"x\":{\"field\":\"x\"},\"y\":{\"field\":\"y\"}},\"id\":\"b66c72b3-f33c-45e9-b9e9-117b6fd77a8a\",\"type\":\"Rect\"},{\"attributes\":{\"callback\":null,\"column_names\":[\"line_color\",\"height\",\"x\",\"fill_alpha\",\"width\",\"label\",\"line_alpha\",\"color\",\"y\"],\"data\":{\"QuestTags\":[\"cython\"],\"chart_index\":[{\"QuestTags\":\"cython\"}],\"color\":[\"#f22c40\"],\"fill_alpha\":[0.8],\"height\":[1.7385841664415023],\"label\":[{\"QuestTags\":\"cython\"}],\"line_alpha\":[1.0],\"line_color\":[\"white\"],\"width\":[1.0],\"x\":[\"cython\"],\"y\":[0.8692920832207511]}},\"id\":\"87f7aa8f-7cc1-469f-bcbf-5465a33813f1\",\"type\":\"ColumnDataSource\"},{\"attributes\":{\"fill_alpha\":{\"field\":\"fill_alpha\"},\"fill_color\":{\"field\":\"color\"},\"height\":{\"field\":\"height\",\"units\":\"data\"},\"line_color\":{\"field\":\"line_color\"},\"width\":{\"field\":\"width\",\"units\":\"data\"},\"x\":{\"field\":\"x\"},\"y\":{\"field\":\"y\"}},\"id\":\"451961e1-f323-46cc-8786-65a3831c19dd\",\"type\":\"Rect\"},{\"attributes\":{\"fill_alpha\":{\"field\":\"fill_alpha\"},\"fill_color\":{\"field\":\"color\"},\"height\":{\"field\":\"height\",\"units\":\"data\"},\"line_color\":{\"field\":\"line_color\"},\"width\":{\"field\":\"width\",\"units\":\"data\"},\"x\":{\"field\":\"x\"},\"y\":{\"field\":\"y\"}},\"id\":\"72740190-638d-415a-ac03-e90b796272ba\",\"type\":\"Rect\"},{\"attributes\":{\"data_source\":{\"id\":\"f22b56d1-bcb6-43ad-a8b1-ade58f1d0096\",\"type\":\"ColumnDataSource\"},\"glyph\":{\"id\":\"6b24687a-8aa3-481e-8e77-2730af970a29\",\"type\":\"Rect\"},\"hover_glyph\":null,\"nonselection_glyph\":null,\"selection_glyph\":null},\"id\":\"5d0bf438-bb74-41a7-aa40-925048095549\",\"type\":\"GlyphRenderer\"},{\"attributes\":{\"data_source\":{\"id\":\"d628e65d-ef30-4500-82c1-1159742b66d0\",\"type\":\"ColumnDataSource\"},\"glyph\":{\"id\":\"247f1bd0-a955-463a-8bd5-843cde8005b9\",\"type\":\"Rect\"},\"hover_glyph\":null,\"nonselection_glyph\":null,\"selection_glyph\":null},\"id\":\"4e2161b7-e4d1-4a86-b9b7-994b7831b431\",\"type\":\"GlyphRenderer\"},{\"attributes\":{\"callback\":null,\"column_names\":[\"line_color\",\"height\",\"x\",\"fill_alpha\",\"width\",\"label\",\"line_alpha\",\"color\",\"y\"],\"data\":{\"QuestTags\":[\"xpath\"],\"chart_index\":[{\"QuestTags\":\"xpath\"}],\"color\":[\"#f22c40\"],\"fill_alpha\":[0.8],\"height\":[1.8153904350175627],\"label\":[{\"QuestTags\":\"xpath\"}],\"line_alpha\":[1.0],\"line_color\":[\"white\"],\"width\":[1.0],\"x\":[\"xpath\"],\"y\":[0.9076952175087813]}},\"id\":\"ff372c84-3a11-4930-8daf-7c9b733d7ec3\",\"type\":\"ColumnDataSource\"},{\"attributes\":{\"callback\":null,\"column_names\":[\"line_color\",\"height\",\"x\",\"fill_alpha\",\"width\",\"label\",\"line_alpha\",\"color\",\"y\"],\"data\":{\"QuestTags\":[\"web-crawler\"],\"chart_index\":[{\"QuestTags\":\"web-crawler\"}],\"color\":[\"#f22c40\"],\"fill_alpha\":[0.8],\"height\":[1.700810591731964],\"label\":[{\"QuestTags\":\"web-crawler\"}],\"line_alpha\":[1.0],\"line_color\":[\"white\"],\"width\":[1.0],\"x\":[\"web-crawler\"],\"y\":[0.850405295865982]}},\"id\":\"c6440df8-eb19-4571-900e-e881d58cc370\",\"type\":\"ColumnDataSource\"},{\"attributes\":{},\"id\":\"cc2d55a0-18af-41a3-80e4-bd85c40ed28d\",\"type\":\"ToolEvents\"},{\"attributes\":{\"data_source\":{\"id\":\"97cc96c2-0a48-411f-8444-fabacd8d9a0c\",\"type\":\"ColumnDataSource\"},\"glyph\":{\"id\":\"451961e1-f323-46cc-8786-65a3831c19dd\",\"type\":\"Rect\"},\"hover_glyph\":null,\"nonselection_glyph\":null,\"selection_glyph\":null},\"id\":\"84098d2b-846f-4dee-8bd7-0fb5528af832\",\"type\":\"GlyphRenderer\"},{\"attributes\":{\"fill_alpha\":{\"field\":\"fill_alpha\"},\"fill_color\":{\"field\":\"color\"},\"height\":{\"field\":\"height\",\"units\":\"data\"},\"line_color\":{\"field\":\"line_color\"},\"width\":{\"field\":\"width\",\"units\":\"data\"},\"x\":{\"field\":\"x\"},\"y\":{\"field\":\"y\"}},\"id\":\"37a9c012-1488-46d0-a3f9-afbfc714bee7\",\"type\":\"Rect\"},{\"attributes\":{},\"id\":\"66fc3832-028d-456a-bad4-eb5c1950e9b1\",\"type\":\"CategoricalTicker\"},{\"attributes\":{\"data_source\":{\"id\":\"533b7fb4-1f61-4da1-9f73-d42b614ce358\",\"type\":\"ColumnDataSource\"},\"glyph\":{\"id\":\"e3de0424-4ad0-4f83-9dde-7853fbaabef1\",\"type\":\"Rect\"},\"hover_glyph\":null,\"nonselection_glyph\":null,\"selection_glyph\":null},\"id\":\"f2a7ca8d-756a-462d-be94-b5949dd11064\",\"type\":\"GlyphRenderer\"},{\"attributes\":{\"fill_alpha\":{\"field\":\"fill_alpha\"},\"fill_color\":{\"field\":\"color\"},\"height\":{\"field\":\"height\",\"units\":\"data\"},\"line_color\":{\"field\":\"line_color\"},\"width\":{\"field\":\"width\",\"units\":\"data\"},\"x\":{\"field\":\"x\"},\"y\":{\"field\":\"y\"}},\"id\":\"93189915-00a1-4f4b-9d05-e1793a4e7172\",\"type\":\"Rect\"},{\"attributes\":{\"axis_label\":\"Percentage Increase (%)\",\"formatter\":{\"id\":\"020b4a51-907b-44f0-965a-c7b6cf71a19e\",\"type\":\"BasicTickFormatter\"},\"plot\":{\"id\":\"5a928e4e-c778-47df-8050-a01597b72825\",\"subtype\":\"Chart\",\"type\":\"Plot\"},\"ticker\":{\"id\":\"cfb1bda2-e26a-401b-9dea-66bbfdfd9d8a\",\"type\":\"BasicTicker\"}},\"id\":\"101344d5-3d54-4559-838d-ebe1d7b6db0d\",\"type\":\"LinearAxis\"},{\"attributes\":{\"fill_alpha\":{\"field\":\"fill_alpha\"},\"fill_color\":{\"field\":\"color\"},\"height\":{\"field\":\"height\",\"units\":\"data\"},\"line_color\":{\"field\":\"line_color\"},\"width\":{\"field\":\"width\",\"units\":\"data\"},\"x\":{\"field\":\"x\"},\"y\":{\"field\":\"y\"}},\"id\":\"fa953fbb-2067-49d5-8afa-0cada011ee71\",\"type\":\"Rect\"},{\"attributes\":{\"data_source\":{\"id\":\"d76da683-d7ae-40e0-a636-339e1c8bb71f\",\"type\":\"ColumnDataSource\"},\"glyph\":{\"id\":\"a3a34b90-b950-4edf-a519-a8523a3666b1\",\"type\":\"Rect\"},\"hover_glyph\":null,\"nonselection_glyph\":null,\"selection_glyph\":null},\"id\":\"16e6a0ff-4417-43dd-92a3-a052013a78ca\",\"type\":\"GlyphRenderer\"},{\"attributes\":{\"fill_alpha\":{\"field\":\"fill_alpha\"},\"fill_color\":{\"field\":\"color\"},\"height\":{\"field\":\"height\",\"units\":\"data\"},\"line_color\":{\"field\":\"line_color\"},\"width\":{\"field\":\"width\",\"units\":\"data\"},\"x\":{\"field\":\"x\"},\"y\":{\"field\":\"y\"}},\"id\":\"ebd15e36-0b6a-4589-89eb-aa4256b85246\",\"type\":\"Rect\"},{\"attributes\":{},\"id\":\"9b571f86-5f0a-4ab1-b5a6-b7aa56cbabba\",\"type\":\"CategoricalTickFormatter\"},{\"attributes\":{\"dimension\":1,\"plot\":{\"id\":\"5a928e4e-c778-47df-8050-a01597b72825\",\"subtype\":\"Chart\",\"type\":\"Plot\"},\"ticker\":{\"id\":\"cfb1bda2-e26a-401b-9dea-66bbfdfd9d8a\",\"type\":\"BasicTicker\"}},\"id\":\"8715236b-edf3-4c60-99c7-cf1fc039bdb8\",\"type\":\"Grid\"},{\"attributes\":{\"plot\":{\"id\":\"5a928e4e-c778-47df-8050-a01597b72825\",\"subtype\":\"Chart\",\"type\":\"Plot\"}},\"id\":\"cabf6535-06cc-4e21-9935-f52ded15c876\",\"type\":\"ResetTool\"},{\"attributes\":{\"fill_alpha\":{\"field\":\"fill_alpha\"},\"fill_color\":{\"field\":\"color\"},\"height\":{\"field\":\"height\",\"units\":\"data\"},\"line_color\":{\"field\":\"line_color\"},\"width\":{\"field\":\"width\",\"units\":\"data\"},\"x\":{\"field\":\"x\"},\"y\":{\"field\":\"y\"}},\"id\":\"d7d8be62-3ff7-4e21-9cbe-a3d288be62cc\",\"type\":\"Rect\"},{\"attributes\":{\"callback\":null,\"column_names\":[\"line_color\",\"height\",\"x\",\"fill_alpha\",\"width\",\"label\",\"line_alpha\",\"color\",\"y\"],\"data\":{\"QuestTags\":[\"tkinter\"],\"chart_index\":[{\"QuestTags\":\"tkinter\"}],\"color\":[\"#f22c40\"],\"fill_alpha\":[0.8],\"height\":[1.5712538574211803],\"label\":[{\"QuestTags\":\"tkinter\"}],\"line_alpha\":[1.0],\"line_color\":[\"white\"],\"width\":[1.0],\"x\":[\"tkinter\"],\"y\":[0.7856269287105901]}},\"id\":\"7224ecd4-fb41-476d-b051-38c90d6e3b9a\",\"type\":\"ColumnDataSource\"},{\"attributes\":{\"fill_alpha\":{\"field\":\"fill_alpha\"},\"fill_color\":{\"field\":\"color\"},\"height\":{\"field\":\"height\",\"units\":\"data\"},\"line_color\":{\"field\":\"line_color\"},\"width\":{\"field\":\"width\",\"units\":\"data\"},\"x\":{\"field\":\"x\"},\"y\":{\"field\":\"y\"}},\"id\":\"6b24687a-8aa3-481e-8e77-2730af970a29\",\"type\":\"Rect\"},{\"attributes\":{\"data_source\":{\"id\":\"1fc77e31-ec33-4413-8d4f-5eec9b8434c2\",\"type\":\"ColumnDataSource\"},\"glyph\":{\"id\":\"37a9c012-1488-46d0-a3f9-afbfc714bee7\",\"type\":\"Rect\"},\"hover_glyph\":null,\"nonselection_glyph\":null,\"selection_glyph\":null},\"id\":\"70bbeada-ff2e-4079-b01e-ce47dfc6caef\",\"type\":\"GlyphRenderer\"},{\"attributes\":{\"data_source\":{\"id\":\"ff372c84-3a11-4930-8daf-7c9b733d7ec3\",\"type\":\"ColumnDataSource\"},\"glyph\":{\"id\":\"22a02403-0696-413e-aff4-5e3cd03480b9\",\"type\":\"Rect\"},\"hover_glyph\":null,\"nonselection_glyph\":null,\"selection_glyph\":null},\"id\":\"ddbaa77c-840e-40dd-b9f3-fac6d30d0640\",\"type\":\"GlyphRenderer\"},{\"attributes\":{\"callback\":null,\"column_names\":[\"line_color\",\"height\",\"x\",\"fill_alpha\",\"width\",\"label\",\"line_alpha\",\"color\",\"y\"],\"data\":{\"QuestTags\":[\"pip\"],\"chart_index\":[{\"QuestTags\":\"pip\"}],\"color\":[\"#f22c40\"],\"fill_alpha\":[0.8],\"height\":[8.273412591191569],\"label\":[{\"QuestTags\":\"pip\"}],\"line_alpha\":[1.0],\"line_color\":[\"white\"],\"width\":[1.0],\"x\":[\"pip\"],\"y\":[4.1367062955957845]}},\"id\":\"d628e65d-ef30-4500-82c1-1159742b66d0\",\"type\":\"ColumnDataSource\"},{\"attributes\":{\"data_source\":{\"id\":\"a3516bf0-24ac-46da-b6aa-a93cfda4c9d2\",\"type\":\"ColumnDataSource\"},\"glyph\":{\"id\":\"d7d8be62-3ff7-4e21-9cbe-a3d288be62cc\",\"type\":\"Rect\"},\"hover_glyph\":null,\"nonselection_glyph\":null,\"selection_glyph\":null},\"id\":\"440b4d8c-1b84-412a-bddb-b32ec5d7a148\",\"type\":\"GlyphRenderer\"},{\"attributes\":{\"callback\":null,\"column_names\":[\"line_color\",\"height\",\"x\",\"fill_alpha\",\"width\",\"label\",\"line_alpha\",\"color\",\"y\"],\"data\":{\"QuestTags\":[\"jinja2\"],\"chart_index\":[{\"QuestTags\":\"jinja2\"}],\"color\":[\"#f22c40\"],\"fill_alpha\":[0.8],\"height\":[0.5651819674516243],\"label\":[{\"QuestTags\":\"jinja2\"}],\"line_alpha\":[1.0],\"line_color\":[\"white\"],\"width\":[1.0],\"x\":[\"jinja2\"],\"y\":[0.28259098372581215]}},\"id\":\"010635ef-81fd-4f37-811d-30e3819a50c9\",\"type\":\"ColumnDataSource\"},{\"attributes\":{\"data_source\":{\"id\":\"8439fe08-4319-41b5-a266-3b288192bedb\",\"type\":\"ColumnDataSource\"},\"glyph\":{\"id\":\"6b30992a-bc9e-42f0-a5b0-551d6a7bfa0e\",\"type\":\"Rect\"},\"hover_glyph\":null,\"nonselection_glyph\":null,\"selection_glyph\":null},\"id\":\"c21be20d-a4e5-4576-b86d-f65dc7d4f05e\",\"type\":\"GlyphRenderer\"},{\"attributes\":{\"fill_alpha\":{\"field\":\"fill_alpha\"},\"fill_color\":{\"field\":\"color\"},\"height\":{\"field\":\"height\",\"units\":\"data\"},\"line_color\":{\"field\":\"line_color\"},\"width\":{\"field\":\"width\",\"units\":\"data\"},\"x\":{\"field\":\"x\"},\"y\":{\"field\":\"y\"}},\"id\":\"247f1bd0-a955-463a-8bd5-843cde8005b9\",\"type\":\"Rect\"},{\"attributes\":{\"fill_alpha\":{\"field\":\"fill_alpha\"},\"fill_color\":{\"field\":\"color\"},\"height\":{\"field\":\"height\",\"units\":\"data\"},\"line_color\":{\"field\":\"line_color\"},\"width\":{\"field\":\"width\",\"units\":\"data\"},\"x\":{\"field\":\"x\"},\"y\":{\"field\":\"y\"}},\"id\":\"5a72dd56-128d-49b4-b976-4b7cb0705ec5\",\"type\":\"Rect\"},{\"attributes\":{\"callback\":null,\"column_names\":[\"line_color\",\"height\",\"x\",\"fill_alpha\",\"width\",\"label\",\"line_alpha\",\"color\",\"y\"],\"data\":{\"QuestTags\":[\"for-loop\"],\"chart_index\":[{\"QuestTags\":\"for-loop\"}],\"color\":[\"#f22c40\"],\"fill_alpha\":[0.8],\"height\":[0.8957298027560121],\"label\":[{\"QuestTags\":\"for-loop\"}],\"line_alpha\":[1.0],\"line_color\":[\"white\"],\"width\":[1.0],\"x\":[\"for-loop\"],\"y\":[0.44786490137800605]}},\"id\":\"272a7e62-5723-4a90-a453-233c5e82a1d8\",\"type\":\"ColumnDataSource\"},{\"attributes\":{\"data_source\":{\"id\":\"340801e4-9425-4eee-bc45-962214e2aaec\",\"type\":\"ColumnDataSource\"},\"glyph\":{\"id\":\"848826f9-34ca-4842-b761-b94cc14f4755\",\"type\":\"Rect\"},\"hover_glyph\":null,\"nonselection_glyph\":null,\"selection_glyph\":null},\"id\":\"81266755-859c-4701-ae2d-8cbe11f486fb\",\"type\":\"GlyphRenderer\"},{\"attributes\":{\"callback\":null,\"column_names\":[\"line_color\",\"height\",\"x\",\"fill_alpha\",\"width\",\"label\",\"line_alpha\",\"color\",\"y\"],\"data\":{\"QuestTags\":[\"django-views\"],\"chart_index\":[{\"QuestTags\":\"django-views\"}],\"color\":[\"#f22c40\"],\"fill_alpha\":[0.8],\"height\":[0.7594091686931463],\"label\":[{\"QuestTags\":\"django-views\"}],\"line_alpha\":[1.0],\"line_color\":[\"white\"],\"width\":[1.0],\"x\":[\"django-views\"],\"y\":[0.37970458434657317]}},\"id\":\"a917ea98-b304-4433-80aa-427f10797775\",\"type\":\"ColumnDataSource\"}],\"root_ids\":[\"5a928e4e-c778-47df-8050-a01597b72825\"]},\"title\":\"Bokeh Application\",\"version\":\"0.12.2\"}};\n",
       "            var render_items = [{\"docid\":\"15b7cefd-3fca-4aaf-b45f-10660325ad21\",\"elementid\":\"aa4fe389-9017-4ed6-a995-b5c9b9412f60\",\"modelid\":\"5a928e4e-c778-47df-8050-a01597b72825\"}];\n",
       "            \n",
       "            Bokeh.embed.embed_items(docs_json, render_items);\n",
       "        });\n",
       "      },\n",
       "      function(Bokeh) {\n",
       "      }\n",
       "    ];\n",
       "  \n",
       "    function run_inline_js() {\n",
       "      \n",
       "      if ((window.Bokeh !== undefined) || (force === \"1\")) {\n",
       "        for (var i = 0; i < inline_js.length; i++) {\n",
       "          inline_js[i](window.Bokeh);\n",
       "        }if (force === \"1\") {\n",
       "          display_loaded();\n",
       "        }} else if (Date.now() < window._bokeh_timeout) {\n",
       "        setTimeout(run_inline_js, 100);\n",
       "      } else if (!window._bokeh_failed_load) {\n",
       "        console.log(\"Bokeh: BokehJS failed to load within specified timeout.\");\n",
       "        window._bokeh_failed_load = true;\n",
       "      } else if (!force) {\n",
       "        var cell = $(\"#aa4fe389-9017-4ed6-a995-b5c9b9412f60\").parents('.cell').data().cell;\n",
       "        cell.output_area.append_execute_result(NB_LOAD_WARNING)\n",
       "      }\n",
       "  \n",
       "    }\n",
       "  \n",
       "    if (window._bokeh_is_loading === 0) {\n",
       "      console.log(\"Bokeh: BokehJS loaded, going straight to plotting\");\n",
       "      run_inline_js();\n",
       "    } else {\n",
       "      load_libs(js_urls, function() {\n",
       "        console.log(\"Bokeh: BokehJS plotting callback run at\", now());\n",
       "        run_inline_js();\n",
       "      });\n",
       "    }\n",
       "  }(this));\n",
       "</script>"
      ]
     },
     "metadata": {},
     "output_type": "display_data"
    }
   ],
   "source": [
    "plot_percentage_change(pythonYearQuestTag, \"Oct'08-09\", \"Oct'15-16\")"
   ]
  },
  {
   "cell_type": "markdown",
   "metadata": {},
   "source": [
    "# Stack Overflow 10% Sample: Finding more trends about Answers"
   ]
  },
  {
   "cell_type": "code",
   "execution_count": 130,
   "metadata": {
    "collapsed": true
   },
   "outputs": [],
   "source": [
    "sample = pd.merge(stackSampleAnswers, stackSampleQuestions[['QuestionId','QuestCreationDate']])"
   ]
  },
  {
   "cell_type": "code",
   "execution_count": 131,
   "metadata": {
    "collapsed": true
   },
   "outputs": [],
   "source": [
    "sample = sample.drop_duplicates(subset=['AnswerId'])"
   ]
  },
  {
   "cell_type": "code",
   "execution_count": 132,
   "metadata": {
    "collapsed": true
   },
   "outputs": [],
   "source": [
    "sample[\"AnsCreationDate\"] = pd.to_datetime(sample[\"AnsCreationDate\"])"
   ]
  },
  {
   "cell_type": "code",
   "execution_count": 133,
   "metadata": {
    "collapsed": true
   },
   "outputs": [],
   "source": [
    "sample[\"QuestCreationDate\"] = pd.to_datetime(sample[\"QuestCreationDate\"])"
   ]
  },
  {
   "cell_type": "code",
   "execution_count": 134,
   "metadata": {
    "collapsed": false
   },
   "outputs": [],
   "source": [
    "sample['DayGap']=(sample.AnsCreationDate - sample.QuestCreationDate).astype(pd.Timedelta).apply(lambda x:x.days)"
   ]
  },
  {
   "cell_type": "code",
   "execution_count": 135,
   "metadata": {
    "collapsed": false
   },
   "outputs": [],
   "source": [
    "sample = sample.loc[sample.DayGap >= 0, :]"
   ]
  },
  {
   "cell_type": "code",
   "execution_count": 136,
   "metadata": {
    "collapsed": true
   },
   "outputs": [],
   "source": [
    "FirstWeekCount = sample[sample.DayGap <= 7].groupby('QuestionId').AnswerId.count().rename('FirstWeekAnsCount').reset_index()"
   ]
  },
  {
   "cell_type": "code",
   "execution_count": 137,
   "metadata": {
    "collapsed": true
   },
   "outputs": [],
   "source": [
    "FirstMonthCount = sample[(7 < sample.DayGap) & (sample.DayGap <= 31)].groupby('QuestionId').AnswerId.count().rename('FirstMonthAnsCount').reset_index()"
   ]
  },
  {
   "cell_type": "code",
   "execution_count": 138,
   "metadata": {
    "collapsed": true
   },
   "outputs": [],
   "source": [
    "SixMonthsCount = sample[(31 < sample.DayGap) & (sample.DayGap <= 186)].groupby('QuestionId').AnswerId.count().rename('SixMonthsAnsCount').reset_index()"
   ]
  },
  {
   "cell_type": "code",
   "execution_count": 139,
   "metadata": {
    "collapsed": true
   },
   "outputs": [],
   "source": [
    "MoreMonthsCount = sample[186 < sample.DayGap].groupby('QuestionId').AnswerId.count().rename('MoreMonthsAnsCount').reset_index()"
   ]
  },
  {
   "cell_type": "code",
   "execution_count": 140,
   "metadata": {
    "collapsed": true
   },
   "outputs": [],
   "source": [
    "#QuestionId is unique\n",
    "ansCount = pd.merge(FirstWeekCount, FirstMonthCount, on='QuestionId', how='outer')\n",
    "ansCount = pd.merge(ansCount, SixMonthsCount, on='QuestionId', how='outer')\n",
    "ansCount = pd.merge(ansCount, MoreMonthsCount, on='QuestionId', how='outer')"
   ]
  },
  {
   "cell_type": "code",
   "execution_count": 141,
   "metadata": {
    "collapsed": true
   },
   "outputs": [],
   "source": [
    "ansCount = ansCount.fillna(0)"
   ]
  },
  {
   "cell_type": "code",
   "execution_count": 142,
   "metadata": {
    "collapsed": false
   },
   "outputs": [],
   "source": [
    "tagcount = pd.DataFrame(stackQuestionsTags.QuestionId.value_counts()).reset_index()"
   ]
  },
  {
   "cell_type": "code",
   "execution_count": 143,
   "metadata": {
    "collapsed": false
   },
   "outputs": [],
   "source": [
    "tagcount.rename(columns={'index':'QuestionId', 'QuestionId':'TagCount'}, inplace=True)"
   ]
  },
  {
   "cell_type": "code",
   "execution_count": 144,
   "metadata": {
    "collapsed": false
   },
   "outputs": [],
   "source": [
    "ansCount = pd.merge(ansCount, tagcount, on='QuestionId').drop_duplicates('QuestionId')"
   ]
  },
  {
   "cell_type": "code",
   "execution_count": 145,
   "metadata": {
    "collapsed": true
   },
   "outputs": [],
   "source": [
    "import numpy as np\n",
    "ansCount['<= 7 Days'] = list(np.where(ansCount['FirstWeekAnsCount']>0, 1, 0))"
   ]
  },
  {
   "cell_type": "code",
   "execution_count": 146,
   "metadata": {
    "collapsed": true
   },
   "outputs": [],
   "source": [
    "ansCount['8 - 31 Days'] = list(np.where(ansCount['FirstMonthAnsCount']>0, 1, 0))"
   ]
  },
  {
   "cell_type": "code",
   "execution_count": 147,
   "metadata": {
    "collapsed": true
   },
   "outputs": [],
   "source": [
    "ansCount['32 - 186 Days'] = list(np.where(ansCount['SixMonthsAnsCount']>0, 1, 0))"
   ]
  },
  {
   "cell_type": "code",
   "execution_count": 148,
   "metadata": {
    "collapsed": true
   },
   "outputs": [],
   "source": [
    "ansCount['> 186 Days'] = list(np.where(ansCount['MoreMonthsAnsCount']>0, 1, 0))"
   ]
  },
  {
   "cell_type": "code",
   "execution_count": 149,
   "metadata": {
    "collapsed": true
   },
   "outputs": [],
   "source": [
    "ansCount['total'] = ansCount['<= 7 Days']+ansCount['8 - 31 Days']+ansCount['32 - 186 Days']+ansCount['> 186 Days']"
   ]
  },
  {
   "cell_type": "code",
   "execution_count": 150,
   "metadata": {
    "collapsed": true
   },
   "outputs": [],
   "source": [
    "ansCount.loc[ansCount.TagCount == 1,'<= 7 Days (%)'] = ansCount[ansCount.TagCount == 1]['<= 7 Days']/ansCount[ansCount.TagCount == 1]['<= 7 Days'].count() * 100\n",
    "ansCount.loc[ansCount.TagCount == 2,'<= 7 Days (%)'] = ansCount[ansCount.TagCount == 2]['<= 7 Days']/ansCount[ansCount.TagCount == 2]['<= 7 Days'].count() * 100\n",
    "ansCount.loc[ansCount.TagCount == 3,'<= 7 Days (%)'] = ansCount[ansCount.TagCount == 3]['<= 7 Days']/ansCount[ansCount.TagCount == 3]['<= 7 Days'].count() * 100\n",
    "ansCount.loc[ansCount.TagCount == 4,'<= 7 Days (%)'] = ansCount[ansCount.TagCount == 4]['<= 7 Days']/ansCount[ansCount.TagCount == 4]['<= 7 Days'].count() * 100\n",
    "ansCount.loc[ansCount.TagCount == 5,'<= 7 Days (%)'] = ansCount[ansCount.TagCount == 5]['<= 7 Days']/ansCount[ansCount.TagCount == 5]['<= 7 Days'].count() * 100"
   ]
  },
  {
   "cell_type": "code",
   "execution_count": 151,
   "metadata": {
    "collapsed": true
   },
   "outputs": [],
   "source": [
    "ansCount.loc[ansCount.TagCount == 1,'8 - 31 Days (%)'] = ansCount[ansCount.TagCount == 1]['8 - 31 Days']/ansCount[ansCount.TagCount == 1]['8 - 31 Days'].count() * 100\n",
    "ansCount.loc[ansCount.TagCount == 2,'8 - 31 Days (%)'] = ansCount[ansCount.TagCount == 2]['8 - 31 Days']/ansCount[ansCount.TagCount == 2]['8 - 31 Days'].count() * 100\n",
    "ansCount.loc[ansCount.TagCount == 3,'8 - 31 Days (%)'] = ansCount[ansCount.TagCount == 3]['8 - 31 Days']/ansCount[ansCount.TagCount == 3]['8 - 31 Days'].count() * 100\n",
    "ansCount.loc[ansCount.TagCount == 4,'8 - 31 Days (%)'] = ansCount[ansCount.TagCount == 4]['8 - 31 Days']/ansCount[ansCount.TagCount == 4]['8 - 31 Days'].count() * 100\n",
    "ansCount.loc[ansCount.TagCount == 5,'8 - 31 Days (%)'] = ansCount[ansCount.TagCount == 5]['8 - 31 Days']/ansCount[ansCount.TagCount == 5]['8 - 31 Days'].count() * 100"
   ]
  },
  {
   "cell_type": "code",
   "execution_count": 152,
   "metadata": {
    "collapsed": true
   },
   "outputs": [],
   "source": [
    "ansCount.loc[ansCount.TagCount == 1,'32 - 186 Days (%)'] = ansCount[ansCount.TagCount == 1]['32 - 186 Days']/ansCount[ansCount.TagCount == 1]['32 - 186 Days'].count() * 100\n",
    "ansCount.loc[ansCount.TagCount == 2,'32 - 186 Days (%)'] = ansCount[ansCount.TagCount == 2]['32 - 186 Days']/ansCount[ansCount.TagCount == 2]['32 - 186 Days'].count() * 100\n",
    "ansCount.loc[ansCount.TagCount == 3,'32 - 186 Days (%)'] = ansCount[ansCount.TagCount == 3]['32 - 186 Days']/ansCount[ansCount.TagCount == 3]['32 - 186 Days'].count() * 100\n",
    "ansCount.loc[ansCount.TagCount == 4,'32 - 186 Days (%)'] = ansCount[ansCount.TagCount == 4]['32 - 186 Days']/ansCount[ansCount.TagCount == 4]['32 - 186 Days'].count() * 100\n",
    "ansCount.loc[ansCount.TagCount == 5,'32 - 186 Days (%)'] = ansCount[ansCount.TagCount == 5]['32 - 186 Days']/ansCount[ansCount.TagCount == 5]['32 - 186 Days'].count() * 100"
   ]
  },
  {
   "cell_type": "code",
   "execution_count": 153,
   "metadata": {
    "collapsed": true
   },
   "outputs": [],
   "source": [
    "ansCount.loc[ansCount.TagCount == 1,'> 186 Days (%)'] = ansCount[ansCount.TagCount == 1]['> 186 Days']/ansCount[ansCount.TagCount == 1]['> 186 Days'].count() * 100\n",
    "ansCount.loc[ansCount.TagCount == 2,'> 186 Days (%)'] = ansCount[ansCount.TagCount == 2]['> 186 Days']/ansCount[ansCount.TagCount == 2]['> 186 Days'].count() * 100\n",
    "ansCount.loc[ansCount.TagCount == 3,'> 186 Days (%)'] = ansCount[ansCount.TagCount == 3]['> 186 Days']/ansCount[ansCount.TagCount == 3]['> 186 Days'].count() * 100\n",
    "ansCount.loc[ansCount.TagCount == 4,'> 186 Days (%)'] = ansCount[ansCount.TagCount == 4]['> 186 Days']/ansCount[ansCount.TagCount == 4]['> 186 Days'].count() * 100\n",
    "ansCount.loc[ansCount.TagCount == 5,'> 186 Days (%)'] = ansCount[ansCount.TagCount == 5]['> 186 Days']/ansCount[ansCount.TagCount == 5]['> 186 Days'].count() * 100"
   ]
  },
  {
   "cell_type": "code",
   "execution_count": 171,
   "metadata": {
    "collapsed": false
   },
   "outputs": [
    {
     "data": {
      "text/html": [
       "<div>\n",
       "<table border=\"1\" class=\"dataframe\">\n",
       "  <thead>\n",
       "    <tr style=\"text-align: right;\">\n",
       "      <th></th>\n",
       "      <th>QuestionId</th>\n",
       "      <th>FirstWeekAnsCount</th>\n",
       "      <th>FirstMonthAnsCount</th>\n",
       "      <th>SixMonthsAnsCount</th>\n",
       "      <th>MoreMonthsAnsCount</th>\n",
       "      <th>TagCount</th>\n",
       "      <th>&lt;= 7 Days</th>\n",
       "      <th>8 - 31 Days</th>\n",
       "      <th>32 - 186 Days</th>\n",
       "      <th>&gt; 186 Days</th>\n",
       "      <th>total</th>\n",
       "      <th>&lt;= 7 Days (%)</th>\n",
       "      <th>8 - 31 Days (%)</th>\n",
       "      <th>32 - 186 Days (%)</th>\n",
       "      <th>&gt; 186 Days (%)</th>\n",
       "      <th>total number of questions for each tag count</th>\n",
       "    </tr>\n",
       "  </thead>\n",
       "  <tbody>\n",
       "    <tr>\n",
       "      <th>0</th>\n",
       "      <td>203340.0</td>\n",
       "      <td>4.0</td>\n",
       "      <td>0.0</td>\n",
       "      <td>5.0</td>\n",
       "      <td>2.0</td>\n",
       "      <td>1</td>\n",
       "      <td>1</td>\n",
       "      <td>0</td>\n",
       "      <td>1</td>\n",
       "      <td>1</td>\n",
       "      <td>3</td>\n",
       "      <td>0.00081</td>\n",
       "      <td>0.0</td>\n",
       "      <td>0.00081</td>\n",
       "      <td>0.00081</td>\n",
       "      <td>123497.0</td>\n",
       "    </tr>\n",
       "    <tr>\n",
       "      <th>642538</th>\n",
       "      <td>26650590.0</td>\n",
       "      <td>1.0</td>\n",
       "      <td>0.0</td>\n",
       "      <td>0.0</td>\n",
       "      <td>0.0</td>\n",
       "      <td>1</td>\n",
       "      <td>1</td>\n",
       "      <td>0</td>\n",
       "      <td>0</td>\n",
       "      <td>0</td>\n",
       "      <td>1</td>\n",
       "      <td>0.00081</td>\n",
       "      <td>0.0</td>\n",
       "      <td>0.00000</td>\n",
       "      <td>0.00000</td>\n",
       "      <td>123497.0</td>\n",
       "    </tr>\n",
       "    <tr>\n",
       "      <th>642547</th>\n",
       "      <td>26650870.0</td>\n",
       "      <td>5.0</td>\n",
       "      <td>0.0</td>\n",
       "      <td>0.0</td>\n",
       "      <td>0.0</td>\n",
       "      <td>1</td>\n",
       "      <td>1</td>\n",
       "      <td>0</td>\n",
       "      <td>0</td>\n",
       "      <td>0</td>\n",
       "      <td>1</td>\n",
       "      <td>0.00081</td>\n",
       "      <td>0.0</td>\n",
       "      <td>0.00000</td>\n",
       "      <td>0.00000</td>\n",
       "      <td>123497.0</td>\n",
       "    </tr>\n",
       "    <tr>\n",
       "      <th>644924</th>\n",
       "      <td>26745150.0</td>\n",
       "      <td>1.0</td>\n",
       "      <td>0.0</td>\n",
       "      <td>0.0</td>\n",
       "      <td>0.0</td>\n",
       "      <td>1</td>\n",
       "      <td>1</td>\n",
       "      <td>0</td>\n",
       "      <td>0</td>\n",
       "      <td>0</td>\n",
       "      <td>1</td>\n",
       "      <td>0.00081</td>\n",
       "      <td>0.0</td>\n",
       "      <td>0.00000</td>\n",
       "      <td>0.00000</td>\n",
       "      <td>123497.0</td>\n",
       "    </tr>\n",
       "    <tr>\n",
       "      <th>644904</th>\n",
       "      <td>26744200.0</td>\n",
       "      <td>1.0</td>\n",
       "      <td>0.0</td>\n",
       "      <td>0.0</td>\n",
       "      <td>0.0</td>\n",
       "      <td>1</td>\n",
       "      <td>1</td>\n",
       "      <td>0</td>\n",
       "      <td>0</td>\n",
       "      <td>0</td>\n",
       "      <td>1</td>\n",
       "      <td>0.00081</td>\n",
       "      <td>0.0</td>\n",
       "      <td>0.00000</td>\n",
       "      <td>0.00000</td>\n",
       "      <td>123497.0</td>\n",
       "    </tr>\n",
       "  </tbody>\n",
       "</table>\n",
       "</div>"
      ],
      "text/plain": [
       "        QuestionId  FirstWeekAnsCount  FirstMonthAnsCount  SixMonthsAnsCount  \\\n",
       "0         203340.0                4.0                 0.0                5.0   \n",
       "642538  26650590.0                1.0                 0.0                0.0   \n",
       "642547  26650870.0                5.0                 0.0                0.0   \n",
       "644924  26745150.0                1.0                 0.0                0.0   \n",
       "644904  26744200.0                1.0                 0.0                0.0   \n",
       "\n",
       "        MoreMonthsAnsCount  TagCount  <= 7 Days  8 - 31 Days  32 - 186 Days  \\\n",
       "0                      2.0         1          1            0              1   \n",
       "642538                 0.0         1          1            0              0   \n",
       "642547                 0.0         1          1            0              0   \n",
       "644924                 0.0         1          1            0              0   \n",
       "644904                 0.0         1          1            0              0   \n",
       "\n",
       "        > 186 Days  total  <= 7 Days (%)  8 - 31 Days (%)  32 - 186 Days (%)  \\\n",
       "0                1      3        0.00081              0.0            0.00081   \n",
       "642538           0      1        0.00081              0.0            0.00000   \n",
       "642547           0      1        0.00081              0.0            0.00000   \n",
       "644924           0      1        0.00081              0.0            0.00000   \n",
       "644904           0      1        0.00081              0.0            0.00000   \n",
       "\n",
       "        > 186 Days (%)  total number of questions for each tag count  \n",
       "0              0.00081                                      123497.0  \n",
       "642538         0.00000                                      123497.0  \n",
       "642547         0.00000                                      123497.0  \n",
       "644924         0.00000                                      123497.0  \n",
       "644904         0.00000                                      123497.0  "
      ]
     },
     "execution_count": 171,
     "metadata": {},
     "output_type": "execute_result"
    }
   ],
   "source": [
    "ansCount.head()"
   ]
  },
  {
   "cell_type": "code",
   "execution_count": 168,
   "metadata": {
    "collapsed": false
   },
   "outputs": [],
   "source": [
    "#number of answers in first 7 days for tag count 1/ total number of questions asked with tag count 1\n",
    "#each column is tag count,\n",
    "ansCount.loc[ansCount.TagCount == 1, 'total number of questions for each tag count'] = len(ansCount[ansCount.TagCount == 1])\n",
    "ansCount.loc[ansCount.TagCount == 2, 'total number of questions for each tag count'] = len(ansCount[ansCount.TagCount == 2])\n",
    "ansCount.loc[ansCount.TagCount == 3, 'total number of questions for each tag count'] = len(ansCount[ansCount.TagCount == 3])\n",
    "ansCount.loc[ansCount.TagCount == 4, 'total number of questions for each tag count'] = len(ansCount[ansCount.TagCount == 4])\n",
    "ansCount.loc[ansCount.TagCount == 5, 'total number of questions for each tag count'] = len(ansCount[ansCount.TagCount == 5])"
   ]
  },
  {
   "cell_type": "code",
   "execution_count": 172,
   "metadata": {
    "collapsed": true
   },
   "outputs": [],
   "source": [
    "ansCount['Avg_FirstWeekCount'] = ansCount['FirstWeekAnsCount'] / ansCount['total number of questions for each tag count']\n",
    "ansCount['Avg_FirstMonthCount'] = ansCount['FirstMonthAnsCount'] / ansCount['total number of questions for each tag count']\n",
    "ansCount['Avg_SixMonthsCount'] = ansCount['SixMonthsAnsCount'] / ansCount['total number of questions for each tag count']\n",
    "ansCount['Avg_MoreMonthsCount'] = ansCount['MoreMonthsAnsCount'] / ansCount['total number of questions for each tag count']"
   ]
  },
  {
   "cell_type": "code",
   "execution_count": 155,
   "metadata": {
    "collapsed": false
   },
   "outputs": [
    {
     "data": {
      "text/html": [
       "\n",
       "    <div class=\"bk-root\">\n",
       "        <a href=\"http://bokeh.pydata.org\" target=\"_blank\" class=\"bk-logo bk-logo-small bk-logo-notebook\"></a>\n",
       "        <span id=\"8b1768c0-5d00-4c6d-a8e8-f435bcd964e8\">Loading BokehJS ...</span>\n",
       "    </div>"
      ]
     },
     "metadata": {},
     "output_type": "display_data"
    },
    {
     "data": {
      "application/javascript": [
       "\n",
       "(function(global) {\n",
       "  function now() {\n",
       "    return new Date();\n",
       "  }\n",
       "\n",
       "  var force = \"1\";\n",
       "\n",
       "  if (typeof (window._bokeh_onload_callbacks) === \"undefined\" || force !== \"\") {\n",
       "    window._bokeh_onload_callbacks = [];\n",
       "    window._bokeh_is_loading = undefined;\n",
       "  }\n",
       "\n",
       "\n",
       "  \n",
       "  if (typeof (window._bokeh_timeout) === \"undefined\" || force !== \"\") {\n",
       "    window._bokeh_timeout = Date.now() + 5000;\n",
       "    window._bokeh_failed_load = false;\n",
       "  }\n",
       "\n",
       "  var NB_LOAD_WARNING = {'data': {'text/html':\n",
       "     \"<div style='background-color: #fdd'>\\n\"+\n",
       "     \"<p>\\n\"+\n",
       "     \"BokehJS does not appear to have successfully loaded. If loading BokehJS from CDN, this \\n\"+\n",
       "     \"may be due to a slow or bad network connection. Possible fixes:\\n\"+\n",
       "     \"</p>\\n\"+\n",
       "     \"<ul>\\n\"+\n",
       "     \"<li>re-rerun `output_notebook()` to attempt to load from CDN again, or</li>\\n\"+\n",
       "     \"<li>use INLINE resources instead, as so:</li>\\n\"+\n",
       "     \"</ul>\\n\"+\n",
       "     \"<code>\\n\"+\n",
       "     \"from bokeh.resources import INLINE\\n\"+\n",
       "     \"output_notebook(resources=INLINE)\\n\"+\n",
       "     \"</code>\\n\"+\n",
       "     \"</div>\"}};\n",
       "\n",
       "  function display_loaded() {\n",
       "    if (window.Bokeh !== undefined) {\n",
       "      Bokeh.$(\"#8b1768c0-5d00-4c6d-a8e8-f435bcd964e8\").text(\"BokehJS successfully loaded.\");\n",
       "    } else if (Date.now() < window._bokeh_timeout) {\n",
       "      setTimeout(display_loaded, 100)\n",
       "    }\n",
       "  }\n",
       "\n",
       "  function run_callbacks() {\n",
       "    window._bokeh_onload_callbacks.forEach(function(callback) { callback() });\n",
       "    delete window._bokeh_onload_callbacks\n",
       "    console.info(\"Bokeh: all callbacks have finished\");\n",
       "  }\n",
       "\n",
       "  function load_libs(js_urls, callback) {\n",
       "    window._bokeh_onload_callbacks.push(callback);\n",
       "    if (window._bokeh_is_loading > 0) {\n",
       "      console.log(\"Bokeh: BokehJS is being loaded, scheduling callback at\", now());\n",
       "      return null;\n",
       "    }\n",
       "    if (js_urls == null || js_urls.length === 0) {\n",
       "      run_callbacks();\n",
       "      return null;\n",
       "    }\n",
       "    console.log(\"Bokeh: BokehJS not loaded, scheduling load and callback at\", now());\n",
       "    window._bokeh_is_loading = js_urls.length;\n",
       "    for (var i = 0; i < js_urls.length; i++) {\n",
       "      var url = js_urls[i];\n",
       "      var s = document.createElement('script');\n",
       "      s.src = url;\n",
       "      s.async = false;\n",
       "      s.onreadystatechange = s.onload = function() {\n",
       "        window._bokeh_is_loading--;\n",
       "        if (window._bokeh_is_loading === 0) {\n",
       "          console.log(\"Bokeh: all BokehJS libraries loaded\");\n",
       "          run_callbacks()\n",
       "        }\n",
       "      };\n",
       "      s.onerror = function() {\n",
       "        console.warn(\"failed to load library \" + url);\n",
       "      };\n",
       "      console.log(\"Bokeh: injecting script tag for BokehJS library: \", url);\n",
       "      document.getElementsByTagName(\"head\")[0].appendChild(s);\n",
       "    }\n",
       "  };var element = document.getElementById(\"8b1768c0-5d00-4c6d-a8e8-f435bcd964e8\");\n",
       "  if (element == null) {\n",
       "    console.log(\"Bokeh: ERROR: autoload.js configured with elementid '8b1768c0-5d00-4c6d-a8e8-f435bcd964e8' but no matching script tag was found. \")\n",
       "    return false;\n",
       "  }\n",
       "\n",
       "  var js_urls = ['https://cdn.pydata.org/bokeh/release/bokeh-0.12.2.min.js', 'https://cdn.pydata.org/bokeh/release/bokeh-widgets-0.12.2.min.js', 'https://cdn.pydata.org/bokeh/release/bokeh-compiler-0.12.2.min.js'];\n",
       "\n",
       "  var inline_js = [\n",
       "    function(Bokeh) {\n",
       "      Bokeh.set_log_level(\"info\");\n",
       "    },\n",
       "    \n",
       "    function(Bokeh) {\n",
       "      \n",
       "      Bokeh.$(\"#8b1768c0-5d00-4c6d-a8e8-f435bcd964e8\").text(\"BokehJS is loading...\");\n",
       "    },\n",
       "    function(Bokeh) {\n",
       "      console.log(\"Bokeh: injecting CSS: https://cdn.pydata.org/bokeh/release/bokeh-0.12.2.min.css\");\n",
       "      Bokeh.embed.inject_css(\"https://cdn.pydata.org/bokeh/release/bokeh-0.12.2.min.css\");\n",
       "      console.log(\"Bokeh: injecting CSS: https://cdn.pydata.org/bokeh/release/bokeh-widgets-0.12.2.min.css\");\n",
       "      Bokeh.embed.inject_css(\"https://cdn.pydata.org/bokeh/release/bokeh-widgets-0.12.2.min.css\");\n",
       "    }\n",
       "  ];\n",
       "\n",
       "  function run_inline_js() {\n",
       "    \n",
       "    if ((window.Bokeh !== undefined) || (force === \"1\")) {\n",
       "      for (var i = 0; i < inline_js.length; i++) {\n",
       "        inline_js[i](window.Bokeh);\n",
       "      }if (force === \"1\") {\n",
       "        display_loaded();\n",
       "      }} else if (Date.now() < window._bokeh_timeout) {\n",
       "      setTimeout(run_inline_js, 100);\n",
       "    } else if (!window._bokeh_failed_load) {\n",
       "      console.log(\"Bokeh: BokehJS failed to load within specified timeout.\");\n",
       "      window._bokeh_failed_load = true;\n",
       "    } else if (!force) {\n",
       "      var cell = $(\"#8b1768c0-5d00-4c6d-a8e8-f435bcd964e8\").parents('.cell').data().cell;\n",
       "      cell.output_area.append_execute_result(NB_LOAD_WARNING)\n",
       "    }\n",
       "\n",
       "  }\n",
       "\n",
       "  if (window._bokeh_is_loading === 0) {\n",
       "    console.log(\"Bokeh: BokehJS loaded, going straight to plotting\");\n",
       "    run_inline_js();\n",
       "  } else {\n",
       "    load_libs(js_urls, function() {\n",
       "      console.log(\"Bokeh: BokehJS plotting callback run at\", now());\n",
       "      run_inline_js();\n",
       "    });\n",
       "  }\n",
       "}(this));"
      ]
     },
     "metadata": {},
     "output_type": "display_data"
    },
    {
     "data": {
      "text/html": [
       "\n",
       "\n",
       "    <div class=\"bk-root\">\n",
       "        <div class=\"plotdiv\" id=\"a409f918-0668-4ca2-b482-af5d0f10bafd\"></div>\n",
       "    </div>\n",
       "<script type=\"text/javascript\">\n",
       "  \n",
       "  (function(global) {\n",
       "    function now() {\n",
       "      return new Date();\n",
       "    }\n",
       "  \n",
       "    var force = \"\";\n",
       "  \n",
       "    if (typeof (window._bokeh_onload_callbacks) === \"undefined\" || force !== \"\") {\n",
       "      window._bokeh_onload_callbacks = [];\n",
       "      window._bokeh_is_loading = undefined;\n",
       "    }\n",
       "  \n",
       "  \n",
       "    \n",
       "    if (typeof (window._bokeh_timeout) === \"undefined\" || force !== \"\") {\n",
       "      window._bokeh_timeout = Date.now() + 0;\n",
       "      window._bokeh_failed_load = false;\n",
       "    }\n",
       "  \n",
       "    var NB_LOAD_WARNING = {'data': {'text/html':\n",
       "       \"<div style='background-color: #fdd'>\\n\"+\n",
       "       \"<p>\\n\"+\n",
       "       \"BokehJS does not appear to have successfully loaded. If loading BokehJS from CDN, this \\n\"+\n",
       "       \"may be due to a slow or bad network connection. Possible fixes:\\n\"+\n",
       "       \"</p>\\n\"+\n",
       "       \"<ul>\\n\"+\n",
       "       \"<li>re-rerun `output_notebook()` to attempt to load from CDN again, or</li>\\n\"+\n",
       "       \"<li>use INLINE resources instead, as so:</li>\\n\"+\n",
       "       \"</ul>\\n\"+\n",
       "       \"<code>\\n\"+\n",
       "       \"from bokeh.resources import INLINE\\n\"+\n",
       "       \"output_notebook(resources=INLINE)\\n\"+\n",
       "       \"</code>\\n\"+\n",
       "       \"</div>\"}};\n",
       "  \n",
       "    function display_loaded() {\n",
       "      if (window.Bokeh !== undefined) {\n",
       "        Bokeh.$(\"#a409f918-0668-4ca2-b482-af5d0f10bafd\").text(\"BokehJS successfully loaded.\");\n",
       "      } else if (Date.now() < window._bokeh_timeout) {\n",
       "        setTimeout(display_loaded, 100)\n",
       "      }\n",
       "    }\n",
       "  \n",
       "    function run_callbacks() {\n",
       "      window._bokeh_onload_callbacks.forEach(function(callback) { callback() });\n",
       "      delete window._bokeh_onload_callbacks\n",
       "      console.info(\"Bokeh: all callbacks have finished\");\n",
       "    }\n",
       "  \n",
       "    function load_libs(js_urls, callback) {\n",
       "      window._bokeh_onload_callbacks.push(callback);\n",
       "      if (window._bokeh_is_loading > 0) {\n",
       "        console.log(\"Bokeh: BokehJS is being loaded, scheduling callback at\", now());\n",
       "        return null;\n",
       "      }\n",
       "      if (js_urls == null || js_urls.length === 0) {\n",
       "        run_callbacks();\n",
       "        return null;\n",
       "      }\n",
       "      console.log(\"Bokeh: BokehJS not loaded, scheduling load and callback at\", now());\n",
       "      window._bokeh_is_loading = js_urls.length;\n",
       "      for (var i = 0; i < js_urls.length; i++) {\n",
       "        var url = js_urls[i];\n",
       "        var s = document.createElement('script');\n",
       "        s.src = url;\n",
       "        s.async = false;\n",
       "        s.onreadystatechange = s.onload = function() {\n",
       "          window._bokeh_is_loading--;\n",
       "          if (window._bokeh_is_loading === 0) {\n",
       "            console.log(\"Bokeh: all BokehJS libraries loaded\");\n",
       "            run_callbacks()\n",
       "          }\n",
       "        };\n",
       "        s.onerror = function() {\n",
       "          console.warn(\"failed to load library \" + url);\n",
       "        };\n",
       "        console.log(\"Bokeh: injecting script tag for BokehJS library: \", url);\n",
       "        document.getElementsByTagName(\"head\")[0].appendChild(s);\n",
       "      }\n",
       "    };var element = document.getElementById(\"a409f918-0668-4ca2-b482-af5d0f10bafd\");\n",
       "    if (element == null) {\n",
       "      console.log(\"Bokeh: ERROR: autoload.js configured with elementid 'a409f918-0668-4ca2-b482-af5d0f10bafd' but no matching script tag was found. \")\n",
       "      return false;\n",
       "    }\n",
       "  \n",
       "    var js_urls = [];\n",
       "  \n",
       "    var inline_js = [\n",
       "      function(Bokeh) {\n",
       "        Bokeh.$(function() {\n",
       "            var docs_json = {\"c157e055-5f4b-4f43-a2ef-91ee7573f2d1\":{\"roots\":{\"references\":[{\"attributes\":{\"fill_alpha\":{\"field\":\"fill_alpha\"},\"fill_color\":{\"field\":\"color\"},\"height\":{\"field\":\"height\",\"units\":\"data\"},\"line_color\":{\"field\":\"line_color\"},\"width\":{\"field\":\"width\",\"units\":\"data\"},\"x\":{\"field\":\"x\"},\"y\":{\"field\":\"y\"}},\"id\":\"3beefdfe-ae4b-491b-a2a9-02360f52452d\",\"type\":\"Rect\"},{\"attributes\":{\"data_source\":{\"id\":\"8e54fd3f-d32b-4eec-a316-5bd64926e607\",\"type\":\"ColumnDataSource\"},\"glyph\":{\"id\":\"515a1cf9-53e5-4e97-80de-b38854dbbc17\",\"type\":\"Rect\"},\"hover_glyph\":null,\"nonselection_glyph\":null,\"selection_glyph\":null},\"id\":\"ee405e0b-ef1f-4347-9985-fccf9f0c7a33\",\"type\":\"GlyphRenderer\"},{\"attributes\":{\"data_source\":{\"id\":\"84000fae-3828-419d-893c-d05b68f38c52\",\"type\":\"ColumnDataSource\"},\"glyph\":{\"id\":\"3beefdfe-ae4b-491b-a2a9-02360f52452d\",\"type\":\"Rect\"},\"hover_glyph\":null,\"nonselection_glyph\":null,\"selection_glyph\":null},\"id\":\"aeafa39f-8c2a-4e7c-b130-b67fed81c2e7\",\"type\":\"GlyphRenderer\"},{\"attributes\":{\"fill_alpha\":{\"field\":\"fill_alpha\"},\"fill_color\":{\"field\":\"color\"},\"height\":{\"field\":\"height\",\"units\":\"data\"},\"line_color\":{\"field\":\"line_color\"},\"width\":{\"field\":\"width\",\"units\":\"data\"},\"x\":{\"field\":\"x\"},\"y\":{\"field\":\"y\"}},\"id\":\"aeb5eeb1-5c24-4fc5-ba62-17136aaee9ba\",\"type\":\"Rect\"},{\"attributes\":{\"callback\":null,\"column_names\":[\"line_color\",\"height\",\"x\",\"fill_alpha\",\"width\",\"label\",\"line_alpha\",\"color\",\"y\"],\"data\":{\"TagCount\":[5],\"anscount\":[\"> 186 Days (%)\"],\"chart_index\":[{\"TagCount\":5,\"anscount\":\"> 186 Days (%)\"}],\"color\":[\"Gold\"],\"fill_alpha\":[0.8],\"height\":[10.2222975662253],\"label\":[{\"TagCount\":5,\"anscount\":\"> 186 Days (%)\"}],\"line_alpha\":[1.0],\"line_color\":[\"white\"],\"width\":[0.2],\"x\":[\"5:0.8\"],\"y\":[5.11114878311265]}},\"id\":\"b78a2a2a-3582-4e52-842a-fb77782f8c28\",\"type\":\"ColumnDataSource\"},{\"attributes\":{\"fill_alpha\":{\"field\":\"fill_alpha\"},\"fill_color\":{\"field\":\"color\"},\"height\":{\"field\":\"height\",\"units\":\"data\"},\"line_color\":{\"field\":\"line_color\"},\"width\":{\"field\":\"width\",\"units\":\"data\"},\"x\":{\"field\":\"x\"},\"y\":{\"field\":\"y\"}},\"id\":\"408c48cd-a5ba-4c5c-9d5d-80f264c8e519\",\"type\":\"Rect\"},{\"attributes\":{\"callback\":null,\"column_names\":[\"line_color\",\"height\",\"x\",\"fill_alpha\",\"width\",\"label\",\"line_alpha\",\"color\",\"y\"],\"data\":{\"TagCount\":[5],\"anscount\":[\"<= 7 Days (%)\"],\"chart_index\":[{\"TagCount\":5,\"anscount\":\"<= 7 Days (%)\"}],\"color\":[\"Turquoise\"],\"fill_alpha\":[0.8],\"height\":[90.80663944461504],\"label\":[{\"TagCount\":5,\"anscount\":\"<= 7 Days (%)\"}],\"line_alpha\":[1.0],\"line_color\":[\"white\"],\"width\":[0.2],\"x\":[\"5:0.2\"],\"y\":[45.40331972230752]}},\"id\":\"21896480-836e-48d0-a21f-32331078c9b1\",\"type\":\"ColumnDataSource\"},{\"attributes\":{\"callback\":null,\"column_names\":[\"line_color\",\"height\",\"x\",\"fill_alpha\",\"width\",\"label\",\"line_alpha\",\"color\",\"y\"],\"data\":{\"TagCount\":[4],\"anscount\":[\"> 186 Days (%)\"],\"chart_index\":[{\"TagCount\":4,\"anscount\":\"> 186 Days (%)\"}],\"color\":[\"Gold\"],\"fill_alpha\":[0.8],\"height\":[10.356371132854685],\"label\":[{\"TagCount\":4,\"anscount\":\"> 186 Days (%)\"}],\"line_alpha\":[1.0],\"line_color\":[\"white\"],\"width\":[0.2],\"x\":[\"4:0.8\"],\"y\":[5.178185566427342]}},\"id\":\"a5771fbe-8e6a-4038-bc78-3580565206f4\",\"type\":\"ColumnDataSource\"},{\"attributes\":{\"plot\":{\"id\":\"649d21e8-b3b7-4f33-a1af-2898092ecba5\",\"subtype\":\"Chart\",\"type\":\"Plot\"}},\"id\":\"8c751d6b-9fb6-4e5d-8829-3450703570d7\",\"type\":\"WheelZoomTool\"},{\"attributes\":{\"fill_alpha\":{\"field\":\"fill_alpha\"},\"fill_color\":{\"field\":\"color\"},\"height\":{\"field\":\"height\",\"units\":\"data\"},\"line_color\":{\"field\":\"line_color\"},\"width\":{\"field\":\"width\",\"units\":\"data\"},\"x\":{\"field\":\"x\"},\"y\":{\"field\":\"y\"}},\"id\":\"c3de8868-0fc4-4db6-97bd-9245960aff19\",\"type\":\"Rect\"},{\"attributes\":{\"data_source\":{\"id\":\"7734e372-f944-40e1-ac4f-69fc19e63521\",\"type\":\"ColumnDataSource\"},\"glyph\":{\"id\":\"91633b60-dfb7-4141-b6db-2862c2ca6424\",\"type\":\"Rect\"},\"hover_glyph\":null,\"nonselection_glyph\":null,\"selection_glyph\":null},\"id\":\"3a860e0a-d3f2-4719-a7b7-dfd1a75c0164\",\"type\":\"GlyphRenderer\"},{\"attributes\":{\"data_source\":{\"id\":\"e23f8ca1-82e7-4190-8de3-9a6d02d10d31\",\"type\":\"ColumnDataSource\"},\"glyph\":{\"id\":\"3a8001af-b609-4287-8843-87592af4a1c9\",\"type\":\"Rect\"},\"hover_glyph\":null,\"nonselection_glyph\":null,\"selection_glyph\":null},\"id\":\"14265bee-c111-4c26-9ef6-65ead461ed43\",\"type\":\"GlyphRenderer\"},{\"attributes\":{\"data_source\":{\"id\":\"b78a2a2a-3582-4e52-842a-fb77782f8c28\",\"type\":\"ColumnDataSource\"},\"glyph\":{\"id\":\"72502087-f90b-4e2a-9dbf-3c0faa1053d5\",\"type\":\"Rect\"},\"hover_glyph\":null,\"nonselection_glyph\":null,\"selection_glyph\":null},\"id\":\"f7f5f7b6-3327-4c0c-8e85-00e63b48a37d\",\"type\":\"GlyphRenderer\"},{\"attributes\":{\"callback\":null,\"column_names\":[\"line_color\",\"height\",\"x\",\"fill_alpha\",\"width\",\"label\",\"line_alpha\",\"color\",\"y\"],\"data\":{\"TagCount\":[3],\"anscount\":[\"> 186 Days (%)\"],\"chart_index\":[{\"TagCount\":3,\"anscount\":\"> 186 Days (%)\"}],\"color\":[\"Gold\"],\"fill_alpha\":[0.8],\"height\":[9.675617587398468],\"label\":[{\"TagCount\":3,\"anscount\":\"> 186 Days (%)\"}],\"line_alpha\":[1.0],\"line_color\":[\"white\"],\"width\":[0.2],\"x\":[\"3:0.8\"],\"y\":[4.837808793699234]}},\"id\":\"7734e372-f944-40e1-ac4f-69fc19e63521\",\"type\":\"ColumnDataSource\"},{\"attributes\":{\"plot\":null,\"text\":\"Percentage of Questions Answered vs No. of Tags Used\"},\"id\":\"af5e6fb1-4e82-4e7f-905f-39926304f96a\",\"type\":\"Title\"},{\"attributes\":{\"data_source\":{\"id\":\"6960084c-2612-4fc8-bb74-4f793d33f23a\",\"type\":\"ColumnDataSource\"},\"glyph\":{\"id\":\"cbdf6dff-8431-4bed-9aca-f41283042a74\",\"type\":\"Rect\"},\"hover_glyph\":null,\"nonselection_glyph\":null,\"selection_glyph\":null},\"id\":\"d17630e8-8cd2-4f4b-a584-40649fb80464\",\"type\":\"GlyphRenderer\"},{\"attributes\":{\"fill_alpha\":{\"field\":\"fill_alpha\"},\"fill_color\":{\"field\":\"color\"},\"height\":{\"field\":\"height\",\"units\":\"data\"},\"line_color\":{\"field\":\"line_color\"},\"width\":{\"field\":\"width\",\"units\":\"data\"},\"x\":{\"field\":\"x\"},\"y\":{\"field\":\"y\"}},\"id\":\"43d8520a-743e-4263-b57d-12c5f32733b0\",\"type\":\"Rect\"},{\"attributes\":{\"data_source\":{\"id\":\"bc15a880-e410-4a23-8c69-13dbf4649110\",\"type\":\"ColumnDataSource\"},\"glyph\":{\"id\":\"e26a22eb-1d4b-42a4-a2ea-298facbbcfb1\",\"type\":\"Rect\"},\"hover_glyph\":null,\"nonselection_glyph\":null,\"selection_glyph\":null},\"id\":\"c36322ab-f067-40da-bead-38102fbbb488\",\"type\":\"GlyphRenderer\"},{\"attributes\":{\"bottom_units\":\"screen\",\"fill_alpha\":{\"value\":0.5},\"fill_color\":{\"value\":\"lightgrey\"},\"left_units\":\"screen\",\"level\":\"overlay\",\"line_alpha\":{\"value\":1.0},\"line_color\":{\"value\":\"black\"},\"line_dash\":[4,4],\"line_width\":{\"value\":2},\"plot\":null,\"render_mode\":\"css\",\"right_units\":\"screen\",\"top_units\":\"screen\"},\"id\":\"aad1d586-b0b9-4474-a145-27d03f20b6e3\",\"type\":\"BoxAnnotation\"},{\"attributes\":{\"fill_alpha\":{\"field\":\"fill_alpha\"},\"fill_color\":{\"field\":\"color\"},\"height\":{\"field\":\"height\",\"units\":\"data\"},\"line_color\":{\"field\":\"line_color\"},\"width\":{\"field\":\"width\",\"units\":\"data\"},\"x\":{\"field\":\"x\"},\"y\":{\"field\":\"y\"}},\"id\":\"3a8001af-b609-4287-8843-87592af4a1c9\",\"type\":\"Rect\"},{\"attributes\":{\"axis_label\":\"No. of Tags Used in Questions\",\"formatter\":{\"id\":\"69cbba24-5d77-4d0d-8812-ab39cef207b4\",\"type\":\"CategoricalTickFormatter\"},\"major_label_orientation\":0.7853981633974483,\"plot\":{\"id\":\"649d21e8-b3b7-4f33-a1af-2898092ecba5\",\"subtype\":\"Chart\",\"type\":\"Plot\"},\"ticker\":{\"id\":\"6686680f-6a1e-444d-ba63-ab94638ef692\",\"type\":\"CategoricalTicker\"}},\"id\":\"5cd7325e-9edd-4a6b-ad74-c394a66fbc5a\",\"type\":\"CategoricalAxis\"},{\"attributes\":{\"data_source\":{\"id\":\"21896480-836e-48d0-a21f-32331078c9b1\",\"type\":\"ColumnDataSource\"},\"glyph\":{\"id\":\"43d8520a-743e-4263-b57d-12c5f32733b0\",\"type\":\"Rect\"},\"hover_glyph\":null,\"nonselection_glyph\":null,\"selection_glyph\":null},\"id\":\"713a0ccb-6875-46d8-b018-66fbca330747\",\"type\":\"GlyphRenderer\"},{\"attributes\":{\"callback\":null,\"factors\":[\"1\",\"2\",\"3\",\"4\",\"5\"]},\"id\":\"5784cff5-31d6-499e-8e7f-8ee71637b1fb\",\"type\":\"FactorRange\"},{\"attributes\":{\"callback\":null,\"end\":98.43202668876354},\"id\":\"cd3520e6-9fee-4f37-ba43-d2e9190ce31d\",\"type\":\"Range1d\"},{\"attributes\":{},\"id\":\"19f42ecc-62c2-42b9-b3f3-e5a651eaae0f\",\"type\":\"BasicTicker\"},{\"attributes\":{\"callback\":null,\"column_names\":[\"line_color\",\"height\",\"x\",\"fill_alpha\",\"width\",\"label\",\"line_alpha\",\"color\",\"y\"],\"data\":{\"TagCount\":[1],\"anscount\":[\"32 - 186 Days (%)\"],\"chart_index\":[{\"TagCount\":1,\"anscount\":\"32 - 186 Days (%)\"}],\"color\":[\"Plum\"],\"fill_alpha\":[0.8],\"height\":[4.630881721822979],\"label\":[{\"TagCount\":1,\"anscount\":\"32 - 186 Days (%)\"}],\"line_alpha\":[1.0],\"line_color\":[\"white\"],\"width\":[0.2],\"x\":[\"1:0.6\"],\"y\":[2.3154408609114894]}},\"id\":\"60675763-34ef-4b9a-8c20-f435a586b607\",\"type\":\"ColumnDataSource\"},{\"attributes\":{\"callback\":null,\"column_names\":[\"line_color\",\"height\",\"x\",\"fill_alpha\",\"width\",\"label\",\"line_alpha\",\"color\",\"y\"],\"data\":{\"TagCount\":[5],\"anscount\":[\"8 - 31 Days (%)\"],\"chart_index\":[{\"TagCount\":5,\"anscount\":\"8 - 31 Days (%)\"}],\"color\":[\"DarkSalmon\"],\"fill_alpha\":[0.8],\"height\":[5.750549110367049],\"label\":[{\"TagCount\":5,\"anscount\":\"8 - 31 Days (%)\"}],\"line_alpha\":[1.0],\"line_color\":[\"white\"],\"width\":[0.2],\"x\":[\"5:0.4\"],\"y\":[2.8752745551835246]}},\"id\":\"6960084c-2612-4fc8-bb74-4f793d33f23a\",\"type\":\"ColumnDataSource\"},{\"attributes\":{\"plot\":{\"id\":\"649d21e8-b3b7-4f33-a1af-2898092ecba5\",\"subtype\":\"Chart\",\"type\":\"Plot\"}},\"id\":\"38154a64-1ccb-406d-8e7b-4414fe71d882\",\"type\":\"SaveTool\"},{\"attributes\":{\"data_source\":{\"id\":\"a03a2fe8-ba10-4350-bf8b-ff0bf3cfa751\",\"type\":\"ColumnDataSource\"},\"glyph\":{\"id\":\"2b52fe70-2738-45e0-9877-5d35fb070031\",\"type\":\"Rect\"},\"hover_glyph\":null,\"nonselection_glyph\":null,\"selection_glyph\":null},\"id\":\"81eb106c-336c-4745-bb72-ddb6cba1c866\",\"type\":\"GlyphRenderer\"},{\"attributes\":{\"callback\":null,\"column_names\":[\"line_color\",\"height\",\"x\",\"fill_alpha\",\"width\",\"label\",\"line_alpha\",\"color\",\"y\"],\"data\":{\"TagCount\":[1],\"anscount\":[\"8 - 31 Days (%)\"],\"chart_index\":[{\"TagCount\":1,\"anscount\":\"8 - 31 Days (%)\"}],\"color\":[\"DarkSalmon\"],\"fill_alpha\":[0.8],\"height\":[3.241374284395656],\"label\":[{\"TagCount\":1,\"anscount\":\"8 - 31 Days (%)\"}],\"line_alpha\":[1.0],\"line_color\":[\"white\"],\"width\":[0.2],\"x\":[\"1:0.4\"],\"y\":[1.620687142197828]}},\"id\":\"9d6c78ee-e39e-474b-a445-70b445e3f19d\",\"type\":\"ColumnDataSource\"},{\"attributes\":{\"plot\":{\"id\":\"649d21e8-b3b7-4f33-a1af-2898092ecba5\",\"subtype\":\"Chart\",\"type\":\"Plot\"}},\"id\":\"7d5035a5-c056-4c64-8918-676ed3cdd83c\",\"type\":\"ResetTool\"},{\"attributes\":{\"data_source\":{\"id\":\"bf2ca80b-afca-4898-a264-0c43be853304\",\"type\":\"ColumnDataSource\"},\"glyph\":{\"id\":\"408c48cd-a5ba-4c5c-9d5d-80f264c8e519\",\"type\":\"Rect\"},\"hover_glyph\":null,\"nonselection_glyph\":null,\"selection_glyph\":null},\"id\":\"feb94dec-f942-48d7-b7ba-84cc4fa3b152\",\"type\":\"GlyphRenderer\"},{\"attributes\":{\"callback\":null,\"column_names\":[\"line_color\",\"height\",\"x\",\"fill_alpha\",\"width\",\"label\",\"line_alpha\",\"color\",\"y\"],\"data\":{\"TagCount\":[3],\"anscount\":[\"8 - 31 Days (%)\"],\"chart_index\":[{\"TagCount\":3,\"anscount\":\"8 - 31 Days (%)\"}],\"color\":[\"DarkSalmon\"],\"fill_alpha\":[0.8],\"height\":[4.282853885827089],\"label\":[{\"TagCount\":3,\"anscount\":\"8 - 31 Days (%)\"}],\"line_alpha\":[1.0],\"line_color\":[\"white\"],\"width\":[0.2],\"x\":[\"3:0.4\"],\"y\":[2.1414269429135446]}},\"id\":\"84000fae-3828-419d-893c-d05b68f38c52\",\"type\":\"ColumnDataSource\"},{\"attributes\":{\"callback\":null,\"column_names\":[\"line_color\",\"height\",\"x\",\"fill_alpha\",\"width\",\"label\",\"line_alpha\",\"color\",\"y\"],\"data\":{\"TagCount\":[4],\"anscount\":[\"8 - 31 Days (%)\"],\"chart_index\":[{\"TagCount\":4,\"anscount\":\"8 - 31 Days (%)\"}],\"color\":[\"DarkSalmon\"],\"fill_alpha\":[0.8],\"height\":[4.826164459343768],\"label\":[{\"TagCount\":4,\"anscount\":\"8 - 31 Days (%)\"}],\"line_alpha\":[1.0],\"line_color\":[\"white\"],\"width\":[0.2],\"x\":[\"4:0.4\"],\"y\":[2.413082229671884]}},\"id\":\"e23f8ca1-82e7-4190-8de3-9a6d02d10d31\",\"type\":\"ColumnDataSource\"},{\"attributes\":{\"fill_alpha\":{\"field\":\"fill_alpha\"},\"fill_color\":{\"field\":\"color\"},\"height\":{\"field\":\"height\",\"units\":\"data\"},\"line_color\":{\"field\":\"line_color\"},\"width\":{\"field\":\"width\",\"units\":\"data\"},\"x\":{\"field\":\"x\"},\"y\":{\"field\":\"y\"}},\"id\":\"72502087-f90b-4e2a-9dbf-3c0faa1053d5\",\"type\":\"Rect\"},{\"attributes\":{\"fill_alpha\":{\"field\":\"fill_alpha\"},\"fill_color\":{\"field\":\"color\"},\"height\":{\"field\":\"height\",\"units\":\"data\"},\"line_color\":{\"field\":\"line_color\"},\"width\":{\"field\":\"width\",\"units\":\"data\"},\"x\":{\"field\":\"x\"},\"y\":{\"field\":\"y\"}},\"id\":\"e26a22eb-1d4b-42a4-a2ea-298facbbcfb1\",\"type\":\"Rect\"},{\"attributes\":{},\"id\":\"69cbba24-5d77-4d0d-8812-ab39cef207b4\",\"type\":\"CategoricalTickFormatter\"},{\"attributes\":{\"fill_alpha\":{\"field\":\"fill_alpha\"},\"fill_color\":{\"field\":\"color\"},\"height\":{\"field\":\"height\",\"units\":\"data\"},\"line_color\":{\"field\":\"line_color\"},\"width\":{\"field\":\"width\",\"units\":\"data\"},\"x\":{\"field\":\"x\"},\"y\":{\"field\":\"y\"}},\"id\":\"2b52fe70-2738-45e0-9877-5d35fb070031\",\"type\":\"Rect\"},{\"attributes\":{\"plot\":{\"id\":\"649d21e8-b3b7-4f33-a1af-2898092ecba5\",\"subtype\":\"Chart\",\"type\":\"Plot\"}},\"id\":\"6ebae2e4-23b5-4180-a5fb-720078902896\",\"type\":\"HelpTool\"},{\"attributes\":{\"fill_alpha\":{\"field\":\"fill_alpha\"},\"fill_color\":{\"field\":\"color\"},\"height\":{\"field\":\"height\",\"units\":\"data\"},\"line_color\":{\"field\":\"line_color\"},\"width\":{\"field\":\"width\",\"units\":\"data\"},\"x\":{\"field\":\"x\"},\"y\":{\"field\":\"y\"}},\"id\":\"b354ada0-7bfa-44de-bba4-8779c658cd55\",\"type\":\"Rect\"},{\"attributes\":{\"callback\":null,\"column_names\":[\"line_color\",\"height\",\"x\",\"fill_alpha\",\"width\",\"label\",\"line_alpha\",\"color\",\"y\"],\"data\":{\"TagCount\":[2],\"anscount\":[\"<= 7 Days (%)\"],\"chart_index\":[{\"TagCount\":2,\"anscount\":\"<= 7 Days (%)\"}],\"color\":[\"Turquoise\"],\"fill_alpha\":[0.8],\"height\":[93.58686752631311],\"label\":[{\"TagCount\":2,\"anscount\":\"<= 7 Days (%)\"}],\"line_alpha\":[1.0],\"line_color\":[\"white\"],\"width\":[0.2],\"x\":[\"2:0.2\"],\"y\":[46.79343376315656]}},\"id\":\"a03a2fe8-ba10-4350-bf8b-ff0bf3cfa751\",\"type\":\"ColumnDataSource\"},{\"attributes\":{\"fill_alpha\":{\"field\":\"fill_alpha\"},\"fill_color\":{\"field\":\"color\"},\"height\":{\"field\":\"height\",\"units\":\"data\"},\"line_color\":{\"field\":\"line_color\"},\"width\":{\"field\":\"width\",\"units\":\"data\"},\"x\":{\"field\":\"x\"},\"y\":{\"field\":\"y\"}},\"id\":\"cbdf6dff-8431-4bed-9aca-f41283042a74\",\"type\":\"Rect\"},{\"attributes\":{\"callback\":null,\"column_names\":[\"line_color\",\"height\",\"x\",\"fill_alpha\",\"width\",\"label\",\"line_alpha\",\"color\",\"y\"],\"data\":{\"TagCount\":[5],\"anscount\":[\"32 - 186 Days (%)\"],\"chart_index\":[{\"TagCount\":5,\"anscount\":\"32 - 186 Days (%)\"}],\"color\":[\"Plum\"],\"fill_alpha\":[0.8],\"height\":[7.038931556524218],\"label\":[{\"TagCount\":5,\"anscount\":\"32 - 186 Days (%)\"}],\"line_alpha\":[1.0],\"line_color\":[\"white\"],\"width\":[0.2],\"x\":[\"5:0.6\"],\"y\":[3.519465778262109]}},\"id\":\"bd82cb6d-3818-4967-b4e5-18a23061d0a7\",\"type\":\"ColumnDataSource\"},{\"attributes\":{\"data_source\":{\"id\":\"b06e0d48-bae6-4293-b617-a2b9356a760d\",\"type\":\"ColumnDataSource\"},\"glyph\":{\"id\":\"ea7fedc0-ef1a-431b-9e3a-7f32c4e26706\",\"type\":\"Rect\"},\"hover_glyph\":null,\"nonselection_glyph\":null,\"selection_glyph\":null},\"id\":\"4cc14107-de10-4f7a-9fd2-82b4011a8704\",\"type\":\"GlyphRenderer\"},{\"attributes\":{\"data_source\":{\"id\":\"309d3173-294a-442d-9e95-9ffb894e1566\",\"type\":\"ColumnDataSource\"},\"glyph\":{\"id\":\"7455c1e4-4ae7-42b3-83c1-f69dbebf182a\",\"type\":\"Rect\"},\"hover_glyph\":null,\"nonselection_glyph\":null,\"selection_glyph\":null},\"id\":\"300c33bd-a9f5-46ad-80c4-d53413d5c46d\",\"type\":\"GlyphRenderer\"},{\"attributes\":{\"callback\":null,\"column_names\":[\"line_color\",\"height\",\"x\",\"fill_alpha\",\"width\",\"label\",\"line_alpha\",\"color\",\"y\"],\"data\":{\"TagCount\":[2],\"anscount\":[\"32 - 186 Days (%)\"],\"chart_index\":[{\"TagCount\":2,\"anscount\":\"32 - 186 Days (%)\"}],\"color\":[\"Plum\"],\"fill_alpha\":[0.8],\"height\":[5.084758208714462],\"label\":[{\"TagCount\":2,\"anscount\":\"32 - 186 Days (%)\"}],\"line_alpha\":[1.0],\"line_color\":[\"white\"],\"width\":[0.2],\"x\":[\"2:0.6\"],\"y\":[2.542379104357231]}},\"id\":\"2a5431f3-3c81-4a11-a660-81a1badd61c6\",\"type\":\"ColumnDataSource\"},{\"attributes\":{\"callback\":null,\"column_names\":[\"line_color\",\"height\",\"x\",\"fill_alpha\",\"width\",\"label\",\"line_alpha\",\"color\",\"y\"],\"data\":{\"TagCount\":[4],\"anscount\":[\"32 - 186 Days (%)\"],\"chart_index\":[{\"TagCount\":4,\"anscount\":\"32 - 186 Days (%)\"}],\"color\":[\"Plum\"],\"fill_alpha\":[0.8],\"height\":[6.406831431774257],\"label\":[{\"TagCount\":4,\"anscount\":\"32 - 186 Days (%)\"}],\"line_alpha\":[1.0],\"line_color\":[\"white\"],\"width\":[0.2],\"x\":[\"4:0.6\"],\"y\":[3.2034157158871284]}},\"id\":\"bf2ca80b-afca-4898-a264-0c43be853304\",\"type\":\"ColumnDataSource\"},{\"attributes\":{},\"id\":\"8558e915-130b-4716-850e-112d95aa3837\",\"type\":\"BasicTickFormatter\"},{\"attributes\":{\"axis_label\":\"Percentage of Questions Answered within 1st Week/Month of Posting\",\"formatter\":{\"id\":\"8558e915-130b-4716-850e-112d95aa3837\",\"type\":\"BasicTickFormatter\"},\"plot\":{\"id\":\"649d21e8-b3b7-4f33-a1af-2898092ecba5\",\"subtype\":\"Chart\",\"type\":\"Plot\"},\"ticker\":{\"id\":\"19f42ecc-62c2-42b9-b3f3-e5a651eaae0f\",\"type\":\"BasicTicker\"}},\"id\":\"bfef2586-5098-410b-bd7a-6c76de4ee282\",\"type\":\"LinearAxis\"},{\"attributes\":{\"callback\":null,\"column_names\":[\"line_color\",\"height\",\"x\",\"fill_alpha\",\"width\",\"label\",\"line_alpha\",\"color\",\"y\"],\"data\":{\"TagCount\":[3],\"anscount\":[\"<= 7 Days (%)\"],\"chart_index\":[{\"TagCount\":3,\"anscount\":\"<= 7 Days (%)\"}],\"color\":[\"Turquoise\"],\"fill_alpha\":[0.8],\"height\":[92.73855058488502],\"label\":[{\"TagCount\":3,\"anscount\":\"<= 7 Days (%)\"}],\"line_alpha\":[1.0],\"line_color\":[\"white\"],\"width\":[0.2],\"x\":[\"3:0.2\"],\"y\":[46.36927529244251]}},\"id\":\"b06e0d48-bae6-4293-b617-a2b9356a760d\",\"type\":\"ColumnDataSource\"},{\"attributes\":{\"dimension\":1,\"plot\":{\"id\":\"649d21e8-b3b7-4f33-a1af-2898092ecba5\",\"subtype\":\"Chart\",\"type\":\"Plot\"},\"ticker\":{\"id\":\"19f42ecc-62c2-42b9-b3f3-e5a651eaae0f\",\"type\":\"BasicTicker\"}},\"id\":\"3c59b9c5-d3f4-4e24-bf30-58db21f55468\",\"type\":\"Grid\"},{\"attributes\":{\"data_source\":{\"id\":\"9d6c78ee-e39e-474b-a445-70b445e3f19d\",\"type\":\"ColumnDataSource\"},\"glyph\":{\"id\":\"7a2e3f8b-432e-44a1-b77d-b2ec9e6e1993\",\"type\":\"Rect\"},\"hover_glyph\":null,\"nonselection_glyph\":null,\"selection_glyph\":null},\"id\":\"c1b5a296-6baf-490e-822f-9b87ad4f465b\",\"type\":\"GlyphRenderer\"},{\"attributes\":{\"fill_alpha\":{\"field\":\"fill_alpha\"},\"fill_color\":{\"field\":\"color\"},\"height\":{\"field\":\"height\",\"units\":\"data\"},\"line_color\":{\"field\":\"line_color\"},\"width\":{\"field\":\"width\",\"units\":\"data\"},\"x\":{\"field\":\"x\"},\"y\":{\"field\":\"y\"}},\"id\":\"515a1cf9-53e5-4e97-80de-b38854dbbc17\",\"type\":\"Rect\"},{\"attributes\":{\"legends\":[[\"<= 7 Days (%)\",[{\"id\":\"6aad0471-6165-4e1e-a042-a795d7c771b9\",\"type\":\"GlyphRenderer\"}]],[\"8 - 31 Days (%)\",[{\"id\":\"c1b5a296-6baf-490e-822f-9b87ad4f465b\",\"type\":\"GlyphRenderer\"}]],[\"32 - 186 Days (%)\",[{\"id\":\"64c3b78c-7020-4ed0-a543-f1e520c95aa5\",\"type\":\"GlyphRenderer\"}]],[\"> 186 Days (%)\",[{\"id\":\"300c33bd-a9f5-46ad-80c4-d53413d5c46d\",\"type\":\"GlyphRenderer\"}]]],\"plot\":{\"id\":\"649d21e8-b3b7-4f33-a1af-2898092ecba5\",\"subtype\":\"Chart\",\"type\":\"Plot\"}},\"id\":\"549073cf-4218-4e50-9794-d4d9c6167ad8\",\"type\":\"Legend\"},{\"attributes\":{\"fill_alpha\":{\"field\":\"fill_alpha\"},\"fill_color\":{\"field\":\"color\"},\"height\":{\"field\":\"height\",\"units\":\"data\"},\"line_color\":{\"field\":\"line_color\"},\"width\":{\"field\":\"width\",\"units\":\"data\"},\"x\":{\"field\":\"x\"},\"y\":{\"field\":\"y\"}},\"id\":\"7a2e3f8b-432e-44a1-b77d-b2ec9e6e1993\",\"type\":\"Rect\"},{\"attributes\":{\"data_source\":{\"id\":\"bd82cb6d-3818-4967-b4e5-18a23061d0a7\",\"type\":\"ColumnDataSource\"},\"glyph\":{\"id\":\"fefaefcd-c178-4005-a4e8-fa34246d7e87\",\"type\":\"Rect\"},\"hover_glyph\":null,\"nonselection_glyph\":null,\"selection_glyph\":null},\"id\":\"2dd7c15f-c834-474c-8ab3-a74b18587f91\",\"type\":\"GlyphRenderer\"},{\"attributes\":{\"plot\":{\"id\":\"649d21e8-b3b7-4f33-a1af-2898092ecba5\",\"subtype\":\"Chart\",\"type\":\"Plot\"}},\"id\":\"df96a4b9-2b5e-41d0-86be-a17d258a6e8d\",\"type\":\"PanTool\"},{\"attributes\":{},\"id\":\"1529f2a3-3696-470c-8225-c0143ef0a2a2\",\"type\":\"ToolEvents\"},{\"attributes\":{},\"id\":\"6686680f-6a1e-444d-ba63-ab94638ef692\",\"type\":\"CategoricalTicker\"},{\"attributes\":{\"fill_alpha\":{\"field\":\"fill_alpha\"},\"fill_color\":{\"field\":\"color\"},\"height\":{\"field\":\"height\",\"units\":\"data\"},\"line_color\":{\"field\":\"line_color\"},\"width\":{\"field\":\"width\",\"units\":\"data\"},\"x\":{\"field\":\"x\"},\"y\":{\"field\":\"y\"}},\"id\":\"c3c404ab-b1a1-45bc-9cc8-0d921d09839a\",\"type\":\"Rect\"},{\"attributes\":{\"data_source\":{\"id\":\"2a5431f3-3c81-4a11-a660-81a1badd61c6\",\"type\":\"ColumnDataSource\"},\"glyph\":{\"id\":\"b354ada0-7bfa-44de-bba4-8779c658cd55\",\"type\":\"Rect\"},\"hover_glyph\":null,\"nonselection_glyph\":null,\"selection_glyph\":null},\"id\":\"2982edfc-da11-4f45-af5b-65d865ebe37a\",\"type\":\"GlyphRenderer\"},{\"attributes\":{\"callback\":null,\"column_names\":[\"line_color\",\"height\",\"x\",\"fill_alpha\",\"width\",\"label\",\"line_alpha\",\"color\",\"y\"],\"data\":{\"TagCount\":[4],\"anscount\":[\"<= 7 Days (%)\"],\"chart_index\":[{\"TagCount\":4,\"anscount\":\"<= 7 Days (%)\"}],\"color\":[\"Turquoise\"],\"fill_alpha\":[0.8],\"height\":[92.01533856873719],\"label\":[{\"TagCount\":4,\"anscount\":\"<= 7 Days (%)\"}],\"line_alpha\":[1.0],\"line_color\":[\"white\"],\"width\":[0.2],\"x\":[\"4:0.2\"],\"y\":[46.007669284368596]}},\"id\":\"bc15a880-e410-4a23-8c69-13dbf4649110\",\"type\":\"ColumnDataSource\"},{\"attributes\":{\"data_source\":{\"id\":\"a5771fbe-8e6a-4038-bc78-3580565206f4\",\"type\":\"ColumnDataSource\"},\"glyph\":{\"id\":\"c3c404ab-b1a1-45bc-9cc8-0d921d09839a\",\"type\":\"Rect\"},\"hover_glyph\":null,\"nonselection_glyph\":null,\"selection_glyph\":null},\"id\":\"729a268a-8611-4533-a0ec-2b048f177f82\",\"type\":\"GlyphRenderer\"},{\"attributes\":{\"data_source\":{\"id\":\"60675763-34ef-4b9a-8c20-f435a586b607\",\"type\":\"ColumnDataSource\"},\"glyph\":{\"id\":\"c3de8868-0fc4-4db6-97bd-9245960aff19\",\"type\":\"Rect\"},\"hover_glyph\":null,\"nonselection_glyph\":null,\"selection_glyph\":null},\"id\":\"64c3b78c-7020-4ed0-a543-f1e520c95aa5\",\"type\":\"GlyphRenderer\"},{\"attributes\":{\"callback\":null,\"column_names\":[\"line_color\",\"height\",\"x\",\"fill_alpha\",\"width\",\"label\",\"line_alpha\",\"color\",\"y\"],\"data\":{\"TagCount\":[3],\"anscount\":[\"32 - 186 Days (%)\"],\"chart_index\":[{\"TagCount\":3,\"anscount\":\"32 - 186 Days (%)\"}],\"color\":[\"Plum\"],\"fill_alpha\":[0.8],\"height\":[5.695555461193305],\"label\":[{\"TagCount\":3,\"anscount\":\"32 - 186 Days (%)\"}],\"line_alpha\":[1.0],\"line_color\":[\"white\"],\"width\":[0.2],\"x\":[\"3:0.6\"],\"y\":[2.8477777305966523]}},\"id\":\"6d2ab0b2-e2fe-4aab-8e26-f6036aaa7f28\",\"type\":\"ColumnDataSource\"},{\"attributes\":{\"callback\":null,\"plot\":{\"id\":\"649d21e8-b3b7-4f33-a1af-2898092ecba5\",\"subtype\":\"Chart\",\"type\":\"Plot\"},\"tooltips\":[[\"No. of Tags Used\",\"@TagCount\"],[\"Percentage of Questions Answered\",\"@height{1.11}%\"]]},\"id\":\"2e547762-a516-4d9f-9382-6731a7c812ef\",\"type\":\"HoverTool\"},{\"attributes\":{\"fill_alpha\":{\"field\":\"fill_alpha\"},\"fill_color\":{\"field\":\"color\"},\"height\":{\"field\":\"height\",\"units\":\"data\"},\"line_color\":{\"field\":\"line_color\"},\"width\":{\"field\":\"width\",\"units\":\"data\"},\"x\":{\"field\":\"x\"},\"y\":{\"field\":\"y\"}},\"id\":\"fefaefcd-c178-4005-a4e8-fa34246d7e87\",\"type\":\"Rect\"},{\"attributes\":{\"fill_alpha\":{\"field\":\"fill_alpha\"},\"fill_color\":{\"field\":\"color\"},\"height\":{\"field\":\"height\",\"units\":\"data\"},\"line_color\":{\"field\":\"line_color\"},\"width\":{\"field\":\"width\",\"units\":\"data\"},\"x\":{\"field\":\"x\"},\"y\":{\"field\":\"y\"}},\"id\":\"7455c1e4-4ae7-42b3-83c1-f69dbebf182a\",\"type\":\"Rect\"},{\"attributes\":{\"data_source\":{\"id\":\"6d2ab0b2-e2fe-4aab-8e26-f6036aaa7f28\",\"type\":\"ColumnDataSource\"},\"glyph\":{\"id\":\"aeb5eeb1-5c24-4fc5-ba62-17136aaee9ba\",\"type\":\"Rect\"},\"hover_glyph\":null,\"nonselection_glyph\":null,\"selection_glyph\":null},\"id\":\"40947d44-a7ee-4ec6-afea-dc62b3c6625e\",\"type\":\"GlyphRenderer\"},{\"attributes\":{\"active_drag\":\"auto\",\"active_scroll\":\"auto\",\"active_tap\":\"auto\",\"tools\":[{\"id\":\"df96a4b9-2b5e-41d0-86be-a17d258a6e8d\",\"type\":\"PanTool\"},{\"id\":\"8c751d6b-9fb6-4e5d-8829-3450703570d7\",\"type\":\"WheelZoomTool\"},{\"id\":\"24efecd2-60b5-4c9e-85f2-1f6ffdc810ea\",\"type\":\"BoxZoomTool\"},{\"id\":\"38154a64-1ccb-406d-8e7b-4414fe71d882\",\"type\":\"SaveTool\"},{\"id\":\"7d5035a5-c056-4c64-8918-676ed3cdd83c\",\"type\":\"ResetTool\"},{\"id\":\"6ebae2e4-23b5-4180-a5fb-720078902896\",\"type\":\"HelpTool\"},{\"id\":\"2e547762-a516-4d9f-9382-6731a7c812ef\",\"type\":\"HoverTool\"}]},\"id\":\"7443ff36-d687-4706-a8e8-cade39714d18\",\"type\":\"Toolbar\"},{\"attributes\":{\"data_source\":{\"id\":\"fc3b1124-8b58-42fd-b866-f6df2db812fd\",\"type\":\"ColumnDataSource\"},\"glyph\":{\"id\":\"1c13c931-c2fe-4201-8b96-3d6071db31c7\",\"type\":\"Rect\"},\"hover_glyph\":null,\"nonselection_glyph\":null,\"selection_glyph\":null},\"id\":\"6aad0471-6165-4e1e-a042-a795d7c771b9\",\"type\":\"GlyphRenderer\"},{\"attributes\":{\"data_source\":{\"id\":\"ed59ce22-f22c-4bee-b842-a78e1931eaa4\",\"type\":\"ColumnDataSource\"},\"glyph\":{\"id\":\"4aecd114-968a-4376-8566-5d7d89b2c6ad\",\"type\":\"Rect\"},\"hover_glyph\":null,\"nonselection_glyph\":null,\"selection_glyph\":null},\"id\":\"fb1dca20-1232-47ea-92ff-e59cbc3837c1\",\"type\":\"GlyphRenderer\"},{\"attributes\":{\"fill_alpha\":{\"field\":\"fill_alpha\"},\"fill_color\":{\"field\":\"color\"},\"height\":{\"field\":\"height\",\"units\":\"data\"},\"line_color\":{\"field\":\"line_color\"},\"width\":{\"field\":\"width\",\"units\":\"data\"},\"x\":{\"field\":\"x\"},\"y\":{\"field\":\"y\"}},\"id\":\"1c13c931-c2fe-4201-8b96-3d6071db31c7\",\"type\":\"Rect\"},{\"attributes\":{\"callback\":null,\"column_names\":[\"line_color\",\"height\",\"x\",\"fill_alpha\",\"width\",\"label\",\"line_alpha\",\"color\",\"y\"],\"data\":{\"TagCount\":[1],\"anscount\":[\"> 186 Days (%)\"],\"chart_index\":[{\"TagCount\":1,\"anscount\":\"> 186 Days (%)\"}],\"color\":[\"Gold\"],\"fill_alpha\":[0.8],\"height\":[8.816408495750533],\"label\":[{\"TagCount\":1,\"anscount\":\"> 186 Days (%)\"}],\"line_alpha\":[1.0],\"line_color\":[\"white\"],\"width\":[0.2],\"x\":[\"1:0.8\"],\"y\":[4.4082042478752665]}},\"id\":\"309d3173-294a-442d-9e95-9ffb894e1566\",\"type\":\"ColumnDataSource\"},{\"attributes\":{\"overlay\":{\"id\":\"aad1d586-b0b9-4474-a145-27d03f20b6e3\",\"type\":\"BoxAnnotation\"},\"plot\":{\"id\":\"649d21e8-b3b7-4f33-a1af-2898092ecba5\",\"subtype\":\"Chart\",\"type\":\"Plot\"}},\"id\":\"24efecd2-60b5-4c9e-85f2-1f6ffdc810ea\",\"type\":\"BoxZoomTool\"},{\"attributes\":{\"callback\":null,\"column_names\":[\"line_color\",\"height\",\"x\",\"fill_alpha\",\"width\",\"label\",\"line_alpha\",\"color\",\"y\"],\"data\":{\"TagCount\":[2],\"anscount\":[\"8 - 31 Days (%)\"],\"chart_index\":[{\"TagCount\":2,\"anscount\":\"8 - 31 Days (%)\"}],\"color\":[\"DarkSalmon\"],\"fill_alpha\":[0.8],\"height\":[3.550041672326423],\"label\":[{\"TagCount\":2,\"anscount\":\"8 - 31 Days (%)\"}],\"line_alpha\":[1.0],\"line_color\":[\"white\"],\"width\":[0.2],\"x\":[\"2:0.4\"],\"y\":[1.7750208361632116]}},\"id\":\"8e54fd3f-d32b-4eec-a316-5bd64926e607\",\"type\":\"ColumnDataSource\"},{\"attributes\":{\"fill_alpha\":{\"field\":\"fill_alpha\"},\"fill_color\":{\"field\":\"color\"},\"height\":{\"field\":\"height\",\"units\":\"data\"},\"line_color\":{\"field\":\"line_color\"},\"width\":{\"field\":\"width\",\"units\":\"data\"},\"x\":{\"field\":\"x\"},\"y\":{\"field\":\"y\"}},\"id\":\"91633b60-dfb7-4141-b6db-2862c2ca6424\",\"type\":\"Rect\"},{\"attributes\":{\"fill_alpha\":{\"field\":\"fill_alpha\"},\"fill_color\":{\"field\":\"color\"},\"height\":{\"field\":\"height\",\"units\":\"data\"},\"line_color\":{\"field\":\"line_color\"},\"width\":{\"field\":\"width\",\"units\":\"data\"},\"x\":{\"field\":\"x\"},\"y\":{\"field\":\"y\"}},\"id\":\"4aecd114-968a-4376-8566-5d7d89b2c6ad\",\"type\":\"Rect\"},{\"attributes\":{\"fill_alpha\":{\"field\":\"fill_alpha\"},\"fill_color\":{\"field\":\"color\"},\"height\":{\"field\":\"height\",\"units\":\"data\"},\"line_color\":{\"field\":\"line_color\"},\"width\":{\"field\":\"width\",\"units\":\"data\"},\"x\":{\"field\":\"x\"},\"y\":{\"field\":\"y\"}},\"id\":\"ea7fedc0-ef1a-431b-9e3a-7f32c4e26706\",\"type\":\"Rect\"},{\"attributes\":{\"below\":[{\"id\":\"5cd7325e-9edd-4a6b-ad74-c394a66fbc5a\",\"type\":\"CategoricalAxis\"}],\"left\":[{\"id\":\"bfef2586-5098-410b-bd7a-6c76de4ee282\",\"type\":\"LinearAxis\"}],\"renderers\":[{\"id\":\"aad1d586-b0b9-4474-a145-27d03f20b6e3\",\"type\":\"BoxAnnotation\"},{\"id\":\"6aad0471-6165-4e1e-a042-a795d7c771b9\",\"type\":\"GlyphRenderer\"},{\"id\":\"81eb106c-336c-4745-bb72-ddb6cba1c866\",\"type\":\"GlyphRenderer\"},{\"id\":\"4cc14107-de10-4f7a-9fd2-82b4011a8704\",\"type\":\"GlyphRenderer\"},{\"id\":\"c36322ab-f067-40da-bead-38102fbbb488\",\"type\":\"GlyphRenderer\"},{\"id\":\"713a0ccb-6875-46d8-b018-66fbca330747\",\"type\":\"GlyphRenderer\"},{\"id\":\"c1b5a296-6baf-490e-822f-9b87ad4f465b\",\"type\":\"GlyphRenderer\"},{\"id\":\"ee405e0b-ef1f-4347-9985-fccf9f0c7a33\",\"type\":\"GlyphRenderer\"},{\"id\":\"aeafa39f-8c2a-4e7c-b130-b67fed81c2e7\",\"type\":\"GlyphRenderer\"},{\"id\":\"14265bee-c111-4c26-9ef6-65ead461ed43\",\"type\":\"GlyphRenderer\"},{\"id\":\"d17630e8-8cd2-4f4b-a584-40649fb80464\",\"type\":\"GlyphRenderer\"},{\"id\":\"64c3b78c-7020-4ed0-a543-f1e520c95aa5\",\"type\":\"GlyphRenderer\"},{\"id\":\"2982edfc-da11-4f45-af5b-65d865ebe37a\",\"type\":\"GlyphRenderer\"},{\"id\":\"40947d44-a7ee-4ec6-afea-dc62b3c6625e\",\"type\":\"GlyphRenderer\"},{\"id\":\"feb94dec-f942-48d7-b7ba-84cc4fa3b152\",\"type\":\"GlyphRenderer\"},{\"id\":\"2dd7c15f-c834-474c-8ab3-a74b18587f91\",\"type\":\"GlyphRenderer\"},{\"id\":\"300c33bd-a9f5-46ad-80c4-d53413d5c46d\",\"type\":\"GlyphRenderer\"},{\"id\":\"fb1dca20-1232-47ea-92ff-e59cbc3837c1\",\"type\":\"GlyphRenderer\"},{\"id\":\"3a860e0a-d3f2-4719-a7b7-dfd1a75c0164\",\"type\":\"GlyphRenderer\"},{\"id\":\"729a268a-8611-4533-a0ec-2b048f177f82\",\"type\":\"GlyphRenderer\"},{\"id\":\"f7f5f7b6-3327-4c0c-8e85-00e63b48a37d\",\"type\":\"GlyphRenderer\"},{\"id\":\"549073cf-4218-4e50-9794-d4d9c6167ad8\",\"type\":\"Legend\"},{\"id\":\"5cd7325e-9edd-4a6b-ad74-c394a66fbc5a\",\"type\":\"CategoricalAxis\"},{\"id\":\"bfef2586-5098-410b-bd7a-6c76de4ee282\",\"type\":\"LinearAxis\"},{\"id\":\"3c59b9c5-d3f4-4e24-bf30-58db21f55468\",\"type\":\"Grid\"}],\"title\":{\"id\":\"af5e6fb1-4e82-4e7f-905f-39926304f96a\",\"type\":\"Title\"},\"tool_events\":{\"id\":\"1529f2a3-3696-470c-8225-c0143ef0a2a2\",\"type\":\"ToolEvents\"},\"toolbar\":{\"id\":\"7443ff36-d687-4706-a8e8-cade39714d18\",\"type\":\"Toolbar\"},\"x_mapper_type\":\"auto\",\"x_range\":{\"id\":\"5784cff5-31d6-499e-8e7f-8ee71637b1fb\",\"type\":\"FactorRange\"},\"y_mapper_type\":\"auto\",\"y_range\":{\"id\":\"cd3520e6-9fee-4f37-ba43-d2e9190ce31d\",\"type\":\"Range1d\"}},\"id\":\"649d21e8-b3b7-4f33-a1af-2898092ecba5\",\"subtype\":\"Chart\",\"type\":\"Plot\"},{\"attributes\":{\"callback\":null,\"column_names\":[\"line_color\",\"height\",\"x\",\"fill_alpha\",\"width\",\"label\",\"line_alpha\",\"color\",\"y\"],\"data\":{\"TagCount\":[1],\"anscount\":[\"<= 7 Days (%)\"],\"chart_index\":[{\"TagCount\":1,\"anscount\":\"<= 7 Days (%)\"}],\"color\":[\"Turquoise\"],\"fill_alpha\":[0.8],\"height\":[93.74478732263195],\"label\":[{\"TagCount\":1,\"anscount\":\"<= 7 Days (%)\"}],\"line_alpha\":[1.0],\"line_color\":[\"white\"],\"width\":[0.2],\"x\":[\"1:0.2\"],\"y\":[46.872393661315975]}},\"id\":\"fc3b1124-8b58-42fd-b866-f6df2db812fd\",\"type\":\"ColumnDataSource\"},{\"attributes\":{\"callback\":null,\"column_names\":[\"line_color\",\"height\",\"x\",\"fill_alpha\",\"width\",\"label\",\"line_alpha\",\"color\",\"y\"],\"data\":{\"TagCount\":[2],\"anscount\":[\"> 186 Days (%)\"],\"chart_index\":[{\"TagCount\":2,\"anscount\":\"> 186 Days (%)\"}],\"color\":[\"Gold\"],\"fill_alpha\":[0.8],\"height\":[9.25970120758093],\"label\":[{\"TagCount\":2,\"anscount\":\"> 186 Days (%)\"}],\"line_alpha\":[1.0],\"line_color\":[\"white\"],\"width\":[0.2],\"x\":[\"2:0.8\"],\"y\":[4.629850603790465]}},\"id\":\"ed59ce22-f22c-4bee-b842-a78e1931eaa4\",\"type\":\"ColumnDataSource\"}],\"root_ids\":[\"649d21e8-b3b7-4f33-a1af-2898092ecba5\"]},\"title\":\"Bokeh Application\",\"version\":\"0.12.2\"}};\n",
       "            var render_items = [{\"docid\":\"c157e055-5f4b-4f43-a2ef-91ee7573f2d1\",\"elementid\":\"a409f918-0668-4ca2-b482-af5d0f10bafd\",\"modelid\":\"649d21e8-b3b7-4f33-a1af-2898092ecba5\"}];\n",
       "            \n",
       "            Bokeh.embed.embed_items(docs_json, render_items);\n",
       "        });\n",
       "      },\n",
       "      function(Bokeh) {\n",
       "      }\n",
       "    ];\n",
       "  \n",
       "    function run_inline_js() {\n",
       "      \n",
       "      if ((window.Bokeh !== undefined) || (force === \"1\")) {\n",
       "        for (var i = 0; i < inline_js.length; i++) {\n",
       "          inline_js[i](window.Bokeh);\n",
       "        }if (force === \"1\") {\n",
       "          display_loaded();\n",
       "        }} else if (Date.now() < window._bokeh_timeout) {\n",
       "        setTimeout(run_inline_js, 100);\n",
       "      } else if (!window._bokeh_failed_load) {\n",
       "        console.log(\"Bokeh: BokehJS failed to load within specified timeout.\");\n",
       "        window._bokeh_failed_load = true;\n",
       "      } else if (!force) {\n",
       "        var cell = $(\"#a409f918-0668-4ca2-b482-af5d0f10bafd\").parents('.cell').data().cell;\n",
       "        cell.output_area.append_execute_result(NB_LOAD_WARNING)\n",
       "      }\n",
       "  \n",
       "    }\n",
       "  \n",
       "    if (window._bokeh_is_loading === 0) {\n",
       "      console.log(\"Bokeh: BokehJS loaded, going straight to plotting\");\n",
       "      run_inline_js();\n",
       "    } else {\n",
       "      load_libs(js_urls, function() {\n",
       "        console.log(\"Bokeh: BokehJS plotting callback run at\", now());\n",
       "        run_inline_js();\n",
       "      });\n",
       "    }\n",
       "  }(this));\n",
       "</script>"
      ]
     },
     "metadata": {},
     "output_type": "display_data"
    }
   ],
   "source": [
    "%matplotlib inline\n",
    "from bokeh.charts import Bar, output_notebook, show\n",
    "from bokeh.charts.attributes import cat, color\n",
    "from bokeh.charts.operations import blend\n",
    "\n",
    "ansCount = ansCount[ansCount['total'] > 0]\n",
    "ansCount = ansCount.sort_values('TagCount', ascending=True)\n",
    "\n",
    "bar9 = Bar(ansCount,\n",
    "          values=blend('<= 7 Days (%)', '8 - 31 Days (%)', '32 - 186 Days (%)', '> 186 Days (%)', name='anscounts', labels_name='anscount'),\n",
    "          label=cat(columns='TagCount', sort=False),\n",
    "          group=cat(columns='anscount', sort=False),\n",
    "          color=color(columns='anscount', palette=['Turquoise','DarkSalmon','Plum','Gold'],\n",
    "                      sort=False),\n",
    "          legend='top_right',\n",
    "          title=\"Percentage of Questions Answered vs No. of Tags Used\",\n",
    "          tooltips=[('No. of Tags Used', '@TagCount'), \n",
    "                    ('Percentage of Questions Answered', '@height{1.11}%')\n",
    "                   ])\n",
    "\n",
    "bar9.xaxis.axis_label = 'No. of Tags Used in Questions'\n",
    "bar9.yaxis.axis_label = 'Percentage of Questions Answered within 1st Week/Month of Posting'\n",
    "\n",
    "output_notebook()\n",
    "\n",
    "show(bar9)"
   ]
  },
  {
   "cell_type": "code",
   "execution_count": 177,
   "metadata": {
    "collapsed": false
   },
   "outputs": [
    {
     "data": {
      "text/html": [
       "\n",
       "    <div class=\"bk-root\">\n",
       "        <a href=\"http://bokeh.pydata.org\" target=\"_blank\" class=\"bk-logo bk-logo-small bk-logo-notebook\"></a>\n",
       "        <span id=\"3e8db716-7f21-45b1-871f-15a0db8fa28b\">Loading BokehJS ...</span>\n",
       "    </div>"
      ]
     },
     "metadata": {},
     "output_type": "display_data"
    },
    {
     "data": {
      "application/javascript": [
       "\n",
       "(function(global) {\n",
       "  function now() {\n",
       "    return new Date();\n",
       "  }\n",
       "\n",
       "  var force = \"1\";\n",
       "\n",
       "  if (typeof (window._bokeh_onload_callbacks) === \"undefined\" || force !== \"\") {\n",
       "    window._bokeh_onload_callbacks = [];\n",
       "    window._bokeh_is_loading = undefined;\n",
       "  }\n",
       "\n",
       "\n",
       "  \n",
       "  if (typeof (window._bokeh_timeout) === \"undefined\" || force !== \"\") {\n",
       "    window._bokeh_timeout = Date.now() + 5000;\n",
       "    window._bokeh_failed_load = false;\n",
       "  }\n",
       "\n",
       "  var NB_LOAD_WARNING = {'data': {'text/html':\n",
       "     \"<div style='background-color: #fdd'>\\n\"+\n",
       "     \"<p>\\n\"+\n",
       "     \"BokehJS does not appear to have successfully loaded. If loading BokehJS from CDN, this \\n\"+\n",
       "     \"may be due to a slow or bad network connection. Possible fixes:\\n\"+\n",
       "     \"</p>\\n\"+\n",
       "     \"<ul>\\n\"+\n",
       "     \"<li>re-rerun `output_notebook()` to attempt to load from CDN again, or</li>\\n\"+\n",
       "     \"<li>use INLINE resources instead, as so:</li>\\n\"+\n",
       "     \"</ul>\\n\"+\n",
       "     \"<code>\\n\"+\n",
       "     \"from bokeh.resources import INLINE\\n\"+\n",
       "     \"output_notebook(resources=INLINE)\\n\"+\n",
       "     \"</code>\\n\"+\n",
       "     \"</div>\"}};\n",
       "\n",
       "  function display_loaded() {\n",
       "    if (window.Bokeh !== undefined) {\n",
       "      Bokeh.$(\"#3e8db716-7f21-45b1-871f-15a0db8fa28b\").text(\"BokehJS successfully loaded.\");\n",
       "    } else if (Date.now() < window._bokeh_timeout) {\n",
       "      setTimeout(display_loaded, 100)\n",
       "    }\n",
       "  }\n",
       "\n",
       "  function run_callbacks() {\n",
       "    window._bokeh_onload_callbacks.forEach(function(callback) { callback() });\n",
       "    delete window._bokeh_onload_callbacks\n",
       "    console.info(\"Bokeh: all callbacks have finished\");\n",
       "  }\n",
       "\n",
       "  function load_libs(js_urls, callback) {\n",
       "    window._bokeh_onload_callbacks.push(callback);\n",
       "    if (window._bokeh_is_loading > 0) {\n",
       "      console.log(\"Bokeh: BokehJS is being loaded, scheduling callback at\", now());\n",
       "      return null;\n",
       "    }\n",
       "    if (js_urls == null || js_urls.length === 0) {\n",
       "      run_callbacks();\n",
       "      return null;\n",
       "    }\n",
       "    console.log(\"Bokeh: BokehJS not loaded, scheduling load and callback at\", now());\n",
       "    window._bokeh_is_loading = js_urls.length;\n",
       "    for (var i = 0; i < js_urls.length; i++) {\n",
       "      var url = js_urls[i];\n",
       "      var s = document.createElement('script');\n",
       "      s.src = url;\n",
       "      s.async = false;\n",
       "      s.onreadystatechange = s.onload = function() {\n",
       "        window._bokeh_is_loading--;\n",
       "        if (window._bokeh_is_loading === 0) {\n",
       "          console.log(\"Bokeh: all BokehJS libraries loaded\");\n",
       "          run_callbacks()\n",
       "        }\n",
       "      };\n",
       "      s.onerror = function() {\n",
       "        console.warn(\"failed to load library \" + url);\n",
       "      };\n",
       "      console.log(\"Bokeh: injecting script tag for BokehJS library: \", url);\n",
       "      document.getElementsByTagName(\"head\")[0].appendChild(s);\n",
       "    }\n",
       "  };var element = document.getElementById(\"3e8db716-7f21-45b1-871f-15a0db8fa28b\");\n",
       "  if (element == null) {\n",
       "    console.log(\"Bokeh: ERROR: autoload.js configured with elementid '3e8db716-7f21-45b1-871f-15a0db8fa28b' but no matching script tag was found. \")\n",
       "    return false;\n",
       "  }\n",
       "\n",
       "  var js_urls = ['https://cdn.pydata.org/bokeh/release/bokeh-0.12.2.min.js', 'https://cdn.pydata.org/bokeh/release/bokeh-widgets-0.12.2.min.js', 'https://cdn.pydata.org/bokeh/release/bokeh-compiler-0.12.2.min.js'];\n",
       "\n",
       "  var inline_js = [\n",
       "    function(Bokeh) {\n",
       "      Bokeh.set_log_level(\"info\");\n",
       "    },\n",
       "    \n",
       "    function(Bokeh) {\n",
       "      \n",
       "      Bokeh.$(\"#3e8db716-7f21-45b1-871f-15a0db8fa28b\").text(\"BokehJS is loading...\");\n",
       "    },\n",
       "    function(Bokeh) {\n",
       "      console.log(\"Bokeh: injecting CSS: https://cdn.pydata.org/bokeh/release/bokeh-0.12.2.min.css\");\n",
       "      Bokeh.embed.inject_css(\"https://cdn.pydata.org/bokeh/release/bokeh-0.12.2.min.css\");\n",
       "      console.log(\"Bokeh: injecting CSS: https://cdn.pydata.org/bokeh/release/bokeh-widgets-0.12.2.min.css\");\n",
       "      Bokeh.embed.inject_css(\"https://cdn.pydata.org/bokeh/release/bokeh-widgets-0.12.2.min.css\");\n",
       "    }\n",
       "  ];\n",
       "\n",
       "  function run_inline_js() {\n",
       "    \n",
       "    if ((window.Bokeh !== undefined) || (force === \"1\")) {\n",
       "      for (var i = 0; i < inline_js.length; i++) {\n",
       "        inline_js[i](window.Bokeh);\n",
       "      }if (force === \"1\") {\n",
       "        display_loaded();\n",
       "      }} else if (Date.now() < window._bokeh_timeout) {\n",
       "      setTimeout(run_inline_js, 100);\n",
       "    } else if (!window._bokeh_failed_load) {\n",
       "      console.log(\"Bokeh: BokehJS failed to load within specified timeout.\");\n",
       "      window._bokeh_failed_load = true;\n",
       "    } else if (!force) {\n",
       "      var cell = $(\"#3e8db716-7f21-45b1-871f-15a0db8fa28b\").parents('.cell').data().cell;\n",
       "      cell.output_area.append_execute_result(NB_LOAD_WARNING)\n",
       "    }\n",
       "\n",
       "  }\n",
       "\n",
       "  if (window._bokeh_is_loading === 0) {\n",
       "    console.log(\"Bokeh: BokehJS loaded, going straight to plotting\");\n",
       "    run_inline_js();\n",
       "  } else {\n",
       "    load_libs(js_urls, function() {\n",
       "      console.log(\"Bokeh: BokehJS plotting callback run at\", now());\n",
       "      run_inline_js();\n",
       "    });\n",
       "  }\n",
       "}(this));"
      ]
     },
     "metadata": {},
     "output_type": "display_data"
    },
    {
     "data": {
      "text/html": [
       "\n",
       "\n",
       "    <div class=\"bk-root\">\n",
       "        <div class=\"plotdiv\" id=\"545b7680-24fb-461f-bc22-5ffe49638d61\"></div>\n",
       "    </div>\n",
       "<script type=\"text/javascript\">\n",
       "  \n",
       "  (function(global) {\n",
       "    function now() {\n",
       "      return new Date();\n",
       "    }\n",
       "  \n",
       "    var force = \"\";\n",
       "  \n",
       "    if (typeof (window._bokeh_onload_callbacks) === \"undefined\" || force !== \"\") {\n",
       "      window._bokeh_onload_callbacks = [];\n",
       "      window._bokeh_is_loading = undefined;\n",
       "    }\n",
       "  \n",
       "  \n",
       "    \n",
       "    if (typeof (window._bokeh_timeout) === \"undefined\" || force !== \"\") {\n",
       "      window._bokeh_timeout = Date.now() + 0;\n",
       "      window._bokeh_failed_load = false;\n",
       "    }\n",
       "  \n",
       "    var NB_LOAD_WARNING = {'data': {'text/html':\n",
       "       \"<div style='background-color: #fdd'>\\n\"+\n",
       "       \"<p>\\n\"+\n",
       "       \"BokehJS does not appear to have successfully loaded. If loading BokehJS from CDN, this \\n\"+\n",
       "       \"may be due to a slow or bad network connection. Possible fixes:\\n\"+\n",
       "       \"</p>\\n\"+\n",
       "       \"<ul>\\n\"+\n",
       "       \"<li>re-rerun `output_notebook()` to attempt to load from CDN again, or</li>\\n\"+\n",
       "       \"<li>use INLINE resources instead, as so:</li>\\n\"+\n",
       "       \"</ul>\\n\"+\n",
       "       \"<code>\\n\"+\n",
       "       \"from bokeh.resources import INLINE\\n\"+\n",
       "       \"output_notebook(resources=INLINE)\\n\"+\n",
       "       \"</code>\\n\"+\n",
       "       \"</div>\"}};\n",
       "  \n",
       "    function display_loaded() {\n",
       "      if (window.Bokeh !== undefined) {\n",
       "        Bokeh.$(\"#545b7680-24fb-461f-bc22-5ffe49638d61\").text(\"BokehJS successfully loaded.\");\n",
       "      } else if (Date.now() < window._bokeh_timeout) {\n",
       "        setTimeout(display_loaded, 100)\n",
       "      }\n",
       "    }\n",
       "  \n",
       "    function run_callbacks() {\n",
       "      window._bokeh_onload_callbacks.forEach(function(callback) { callback() });\n",
       "      delete window._bokeh_onload_callbacks\n",
       "      console.info(\"Bokeh: all callbacks have finished\");\n",
       "    }\n",
       "  \n",
       "    function load_libs(js_urls, callback) {\n",
       "      window._bokeh_onload_callbacks.push(callback);\n",
       "      if (window._bokeh_is_loading > 0) {\n",
       "        console.log(\"Bokeh: BokehJS is being loaded, scheduling callback at\", now());\n",
       "        return null;\n",
       "      }\n",
       "      if (js_urls == null || js_urls.length === 0) {\n",
       "        run_callbacks();\n",
       "        return null;\n",
       "      }\n",
       "      console.log(\"Bokeh: BokehJS not loaded, scheduling load and callback at\", now());\n",
       "      window._bokeh_is_loading = js_urls.length;\n",
       "      for (var i = 0; i < js_urls.length; i++) {\n",
       "        var url = js_urls[i];\n",
       "        var s = document.createElement('script');\n",
       "        s.src = url;\n",
       "        s.async = false;\n",
       "        s.onreadystatechange = s.onload = function() {\n",
       "          window._bokeh_is_loading--;\n",
       "          if (window._bokeh_is_loading === 0) {\n",
       "            console.log(\"Bokeh: all BokehJS libraries loaded\");\n",
       "            run_callbacks()\n",
       "          }\n",
       "        };\n",
       "        s.onerror = function() {\n",
       "          console.warn(\"failed to load library \" + url);\n",
       "        };\n",
       "        console.log(\"Bokeh: injecting script tag for BokehJS library: \", url);\n",
       "        document.getElementsByTagName(\"head\")[0].appendChild(s);\n",
       "      }\n",
       "    };var element = document.getElementById(\"545b7680-24fb-461f-bc22-5ffe49638d61\");\n",
       "    if (element == null) {\n",
       "      console.log(\"Bokeh: ERROR: autoload.js configured with elementid '545b7680-24fb-461f-bc22-5ffe49638d61' but no matching script tag was found. \")\n",
       "      return false;\n",
       "    }\n",
       "  \n",
       "    var js_urls = [];\n",
       "  \n",
       "    var inline_js = [\n",
       "      function(Bokeh) {\n",
       "        Bokeh.$(function() {\n",
       "            var docs_json = {\"9827b5e0-6922-440c-b79e-d7a1c7b77d17\":{\"roots\":{\"references\":[{\"attributes\":{\"callback\":null,\"column_names\":[\"line_color\",\"height\",\"x\",\"fill_alpha\",\"width\",\"label\",\"line_alpha\",\"color\",\"y\"],\"data\":{\"TagCount\":[3],\"anscount\":[\"Avg_FirstWeekCount\"],\"chart_index\":[{\"TagCount\":3,\"anscount\":\"Avg_FirstWeekCount\"}],\"color\":[\"Turquoise\"],\"fill_alpha\":[0.8],\"height\":[1.5408834202727997],\"label\":[{\"TagCount\":3,\"anscount\":\"Avg_FirstWeekCount\"}],\"line_alpha\":[1.0],\"line_color\":[\"white\"],\"width\":[0.2],\"x\":[\"3:0.2\"],\"y\":[0.7704417101363998]}},\"id\":\"8953586f-8bd9-4bcd-9110-54edb0d92a6b\",\"type\":\"ColumnDataSource\"},{\"attributes\":{\"plot\":{\"id\":\"9b9fb680-d203-41e8-b842-da4f3479717e\",\"subtype\":\"Chart\",\"type\":\"Plot\"}},\"id\":\"0b0ecaaf-7dab-4168-ba74-983cddd8756b\",\"type\":\"WheelZoomTool\"},{\"attributes\":{\"data_source\":{\"id\":\"35339f1e-74ce-4dff-a404-13e4e2403780\",\"type\":\"ColumnDataSource\"},\"glyph\":{\"id\":\"90d57e4d-4716-42cd-8736-37fba34081e4\",\"type\":\"Rect\"},\"hover_glyph\":null,\"nonselection_glyph\":null,\"selection_glyph\":null},\"id\":\"28c2543c-0575-4d38-8734-6f573e874e05\",\"type\":\"GlyphRenderer\"},{\"attributes\":{\"callback\":null,\"plot\":{\"id\":\"9b9fb680-d203-41e8-b842-da4f3479717e\",\"subtype\":\"Chart\",\"type\":\"Plot\"},\"tooltips\":[[\"No. of Tags Used\",\"@TagCount\"],[\"Average No. of Answers Received\",\"@height\"]]},\"id\":\"7b7fb1c1-d1f2-46ba-a621-e1466da4c131\",\"type\":\"HoverTool\"},{\"attributes\":{\"callback\":null,\"column_names\":[\"line_color\",\"height\",\"x\",\"fill_alpha\",\"width\",\"label\",\"line_alpha\",\"color\",\"y\"],\"data\":{\"TagCount\":[1],\"anscount\":[\"Avg_MoreMonthsCount\"],\"chart_index\":[{\"TagCount\":1,\"anscount\":\"Avg_MoreMonthsCount\"}],\"color\":[\"Gold\"],\"fill_alpha\":[0.8],\"height\":[0.1352745410819863],\"label\":[{\"TagCount\":1,\"anscount\":\"Avg_MoreMonthsCount\"}],\"line_alpha\":[1.0],\"line_color\":[\"white\"],\"width\":[0.2],\"x\":[\"1:0.8\"],\"y\":[0.06763727054099315]}},\"id\":\"55451460-68ea-457c-9217-986777eed720\",\"type\":\"ColumnDataSource\"},{\"attributes\":{\"fill_alpha\":{\"field\":\"fill_alpha\"},\"fill_color\":{\"field\":\"color\"},\"height\":{\"field\":\"height\",\"units\":\"data\"},\"line_color\":{\"field\":\"line_color\"},\"width\":{\"field\":\"width\",\"units\":\"data\"},\"x\":{\"field\":\"x\"},\"y\":{\"field\":\"y\"}},\"id\":\"665432c4-2309-4f58-8a60-e490d01ccfc3\",\"type\":\"Rect\"},{\"attributes\":{\"data_source\":{\"id\":\"7a3ee113-bfea-42dd-b1b3-efd97bef2288\",\"type\":\"ColumnDataSource\"},\"glyph\":{\"id\":\"de50612c-b53a-4c36-b62f-a3788059692d\",\"type\":\"Rect\"},\"hover_glyph\":null,\"nonselection_glyph\":null,\"selection_glyph\":null},\"id\":\"8b4318f8-ff5a-444f-8e76-af36bd6f06c2\",\"type\":\"GlyphRenderer\"},{\"attributes\":{\"callback\":null,\"column_names\":[\"line_color\",\"height\",\"x\",\"fill_alpha\",\"width\",\"label\",\"line_alpha\",\"color\",\"y\"],\"data\":{\"TagCount\":[5],\"anscount\":[\"Avg_FirstWeekCount\"],\"chart_index\":[{\"TagCount\":5,\"anscount\":\"Avg_FirstWeekCount\"}],\"color\":[\"Turquoise\"],\"fill_alpha\":[0.8],\"height\":[1.4288367704922504],\"label\":[{\"TagCount\":5,\"anscount\":\"Avg_FirstWeekCount\"}],\"line_alpha\":[1.0],\"line_color\":[\"white\"],\"width\":[0.2],\"x\":[\"5:0.2\"],\"y\":[0.7144183852461252]}},\"id\":\"66ba04f5-1101-45b5-b14c-4a5e37ee6750\",\"type\":\"ColumnDataSource\"},{\"attributes\":{\"plot\":{\"id\":\"9b9fb680-d203-41e8-b842-da4f3479717e\",\"subtype\":\"Chart\",\"type\":\"Plot\"}},\"id\":\"8e7edaf2-1806-4bff-8273-a5a5c810cd14\",\"type\":\"ResetTool\"},{\"attributes\":{\"plot\":{\"id\":\"9b9fb680-d203-41e8-b842-da4f3479717e\",\"subtype\":\"Chart\",\"type\":\"Plot\"}},\"id\":\"82a45ba4-78f4-442a-a891-4b344d02ee70\",\"type\":\"HelpTool\"},{\"attributes\":{\"callback\":null,\"column_names\":[\"line_color\",\"height\",\"x\",\"fill_alpha\",\"width\",\"label\",\"line_alpha\",\"color\",\"y\"],\"data\":{\"TagCount\":[5],\"anscount\":[\"Avg_MoreMonthsCount\"],\"chart_index\":[{\"TagCount\":5,\"anscount\":\"Avg_MoreMonthsCount\"}],\"color\":[\"Gold\"],\"fill_alpha\":[0.8],\"height\":[0.15425210430887543],\"label\":[{\"TagCount\":5,\"anscount\":\"Avg_MoreMonthsCount\"}],\"line_alpha\":[1.0],\"line_color\":[\"white\"],\"width\":[0.2],\"x\":[\"5:0.8\"],\"y\":[0.07712605215443771]}},\"id\":\"e16827f9-f0d0-4c9f-b85e-54835ccbee51\",\"type\":\"ColumnDataSource\"},{\"attributes\":{\"callback\":null,\"column_names\":[\"line_color\",\"height\",\"x\",\"fill_alpha\",\"width\",\"label\",\"line_alpha\",\"color\",\"y\"],\"data\":{\"TagCount\":[3],\"anscount\":[\"Avg_FirstMonthCount\"],\"chart_index\":[{\"TagCount\":3,\"anscount\":\"Avg_FirstMonthCount\"}],\"color\":[\"DarkSalmon\"],\"fill_alpha\":[0.8],\"height\":[0.04864266326093536],\"label\":[{\"TagCount\":3,\"anscount\":\"Avg_FirstMonthCount\"}],\"line_alpha\":[1.0],\"line_color\":[\"white\"],\"width\":[0.2],\"x\":[\"3:0.4\"],\"y\":[0.02432133163046768]}},\"id\":\"2a2247b2-1281-4191-ad39-d834dd751c90\",\"type\":\"ColumnDataSource\"},{\"attributes\":{\"data_source\":{\"id\":\"165bd90b-fb3f-4eed-9ef6-3f4432ed68a6\",\"type\":\"ColumnDataSource\"},\"glyph\":{\"id\":\"ad869b25-9953-4226-9714-2649b64736b1\",\"type\":\"Rect\"},\"hover_glyph\":null,\"nonselection_glyph\":null,\"selection_glyph\":null},\"id\":\"c492bc7d-0b96-4045-9d79-46a4b0cd845a\",\"type\":\"GlyphRenderer\"},{\"attributes\":{\"data_source\":{\"id\":\"dde01f0c-1cde-4d10-a889-43464558a977\",\"type\":\"ColumnDataSource\"},\"glyph\":{\"id\":\"cba9a6a2-9287-43ed-92d3-8245da1b9e58\",\"type\":\"Rect\"},\"hover_glyph\":null,\"nonselection_glyph\":null,\"selection_glyph\":null},\"id\":\"a0fb6de9-1cbf-4b79-9386-6f5523569c51\",\"type\":\"GlyphRenderer\"},{\"attributes\":{\"bottom_units\":\"screen\",\"fill_alpha\":{\"value\":0.5},\"fill_color\":{\"value\":\"lightgrey\"},\"left_units\":\"screen\",\"level\":\"overlay\",\"line_alpha\":{\"value\":1.0},\"line_color\":{\"value\":\"black\"},\"line_dash\":[4,4],\"line_width\":{\"value\":2},\"plot\":null,\"render_mode\":\"css\",\"right_units\":\"screen\",\"top_units\":\"screen\"},\"id\":\"aa6f82b2-5b24-4926-b0b5-0b877b4f1c6a\",\"type\":\"BoxAnnotation\"},{\"attributes\":{\"callback\":null,\"column_names\":[\"line_color\",\"height\",\"x\",\"fill_alpha\",\"width\",\"label\",\"line_alpha\",\"color\",\"y\"],\"data\":{\"TagCount\":[2],\"anscount\":[\"Avg_FirstMonthCount\"],\"chart_index\":[{\"TagCount\":2,\"anscount\":\"Avg_FirstMonthCount\"}],\"color\":[\"DarkSalmon\"],\"fill_alpha\":[0.8],\"height\":[0.03967499256507374],\"label\":[{\"TagCount\":2,\"anscount\":\"Avg_FirstMonthCount\"}],\"line_alpha\":[1.0],\"line_color\":[\"white\"],\"width\":[0.2],\"x\":[\"2:0.4\"],\"y\":[0.01983749628253687]}},\"id\":\"d26c93b8-8fbf-438a-8ba1-aeb04baa99f4\",\"type\":\"ColumnDataSource\"},{\"attributes\":{\"callback\":null,\"factors\":[\"1\",\"2\",\"3\",\"4\",\"5\"]},\"id\":\"54046010-b62e-4f9b-a9ea-591fc141c097\",\"type\":\"FactorRange\"},{\"attributes\":{\"data_source\":{\"id\":\"ef56c972-0893-4385-a9fb-cab0c14727a4\",\"type\":\"ColumnDataSource\"},\"glyph\":{\"id\":\"da9e3d26-9e5a-412e-bdfd-86878883df27\",\"type\":\"Rect\"},\"hover_glyph\":null,\"nonselection_glyph\":null,\"selection_glyph\":null},\"id\":\"bc4aa712-5d82-4e9e-bacb-9a2c1cd2dab6\",\"type\":\"GlyphRenderer\"},{\"attributes\":{\"data_source\":{\"id\":\"1943162d-4509-46ea-b5b1-1c334242c259\",\"type\":\"ColumnDataSource\"},\"glyph\":{\"id\":\"06bf36a1-179d-4bda-a8c5-a68293a48e16\",\"type\":\"Rect\"},\"hover_glyph\":null,\"nonselection_glyph\":null,\"selection_glyph\":null},\"id\":\"9df05b03-3244-473d-988f-0ee242c9c56b\",\"type\":\"GlyphRenderer\"},{\"attributes\":{\"callback\":null,\"column_names\":[\"line_color\",\"height\",\"x\",\"fill_alpha\",\"width\",\"label\",\"line_alpha\",\"color\",\"y\"],\"data\":{\"TagCount\":[5],\"anscount\":[\"Avg_FirstMonthCount\"],\"chart_index\":[{\"TagCount\":5,\"anscount\":\"Avg_FirstMonthCount\"}],\"color\":[\"DarkSalmon\"],\"fill_alpha\":[0.8],\"height\":[0.06713150640506783],\"label\":[{\"TagCount\":5,\"anscount\":\"Avg_FirstMonthCount\"}],\"line_alpha\":[1.0],\"line_color\":[\"white\"],\"width\":[0.2],\"x\":[\"5:0.4\"],\"y\":[0.03356575320253392]}},\"id\":\"7a3ee113-bfea-42dd-b1b3-efd97bef2288\",\"type\":\"ColumnDataSource\"},{\"attributes\":{\"data_source\":{\"id\":\"d26c93b8-8fbf-438a-8ba1-aeb04baa99f4\",\"type\":\"ColumnDataSource\"},\"glyph\":{\"id\":\"b76f3085-3e55-43e4-a729-15151e52c141\",\"type\":\"Rect\"},\"hover_glyph\":null,\"nonselection_glyph\":null,\"selection_glyph\":null},\"id\":\"d2f8ea43-8f3e-40a6-954f-fc5cd5658817\",\"type\":\"GlyphRenderer\"},{\"attributes\":{\"callback\":null,\"column_names\":[\"line_color\",\"height\",\"x\",\"fill_alpha\",\"width\",\"label\",\"line_alpha\",\"color\",\"y\"],\"data\":{\"TagCount\":[3],\"anscount\":[\"Avg_SixMonthsCount\"],\"chart_index\":[{\"TagCount\":3,\"anscount\":\"Avg_SixMonthsCount\"}],\"color\":[\"Plum\"],\"fill_alpha\":[0.8],\"height\":[0.06501366972506359],\"label\":[{\"TagCount\":3,\"anscount\":\"Avg_SixMonthsCount\"}],\"line_alpha\":[1.0],\"line_color\":[\"white\"],\"width\":[0.2],\"x\":[\"3:0.6\"],\"y\":[0.032506834862531794]}},\"id\":\"35339f1e-74ce-4dff-a404-13e4e2403780\",\"type\":\"ColumnDataSource\"},{\"attributes\":{\"fill_alpha\":{\"field\":\"fill_alpha\"},\"fill_color\":{\"field\":\"color\"},\"height\":{\"field\":\"height\",\"units\":\"data\"},\"line_color\":{\"field\":\"line_color\"},\"width\":{\"field\":\"width\",\"units\":\"data\"},\"x\":{\"field\":\"x\"},\"y\":{\"field\":\"y\"}},\"id\":\"de50612c-b53a-4c36-b62f-a3788059692d\",\"type\":\"Rect\"},{\"attributes\":{\"callback\":null,\"column_names\":[\"line_color\",\"height\",\"x\",\"fill_alpha\",\"width\",\"label\",\"line_alpha\",\"color\",\"y\"],\"data\":{\"TagCount\":[1],\"anscount\":[\"Avg_FirstMonthCount\"],\"chart_index\":[{\"TagCount\":1,\"anscount\":\"Avg_FirstMonthCount\"}],\"color\":[\"DarkSalmon\"],\"fill_alpha\":[0.8],\"height\":[0.03630857429735126],\"label\":[{\"TagCount\":1,\"anscount\":\"Avg_FirstMonthCount\"}],\"line_alpha\":[1.0],\"line_color\":[\"white\"],\"width\":[0.2],\"x\":[\"1:0.4\"],\"y\":[0.01815428714867563]}},\"id\":\"dde01f0c-1cde-4d10-a889-43464558a977\",\"type\":\"ColumnDataSource\"},{\"attributes\":{\"plot\":{\"id\":\"9b9fb680-d203-41e8-b842-da4f3479717e\",\"subtype\":\"Chart\",\"type\":\"Plot\"}},\"id\":\"bd83a0a8-54da-4705-8aae-8812cf4848d5\",\"type\":\"SaveTool\"},{\"attributes\":{\"data_source\":{\"id\":\"ce11bf16-9039-4c12-b5a1-ac53e6004022\",\"type\":\"ColumnDataSource\"},\"glyph\":{\"id\":\"9cb3bbec-9e81-484b-974c-6e40f2517409\",\"type\":\"Rect\"},\"hover_glyph\":null,\"nonselection_glyph\":null,\"selection_glyph\":null},\"id\":\"d37e84d4-b491-41c2-b8fe-87f6d2c66ab9\",\"type\":\"GlyphRenderer\"},{\"attributes\":{\"data_source\":{\"id\":\"1c9db73b-50f0-462a-8736-03b78bebba51\",\"type\":\"ColumnDataSource\"},\"glyph\":{\"id\":\"e4e514e7-0b90-48cb-9be4-165c726fb29f\",\"type\":\"Rect\"},\"hover_glyph\":null,\"nonselection_glyph\":null,\"selection_glyph\":null},\"id\":\"34f650a9-508f-4aa9-901f-0749fad64e77\",\"type\":\"GlyphRenderer\"},{\"attributes\":{\"callback\":null,\"column_names\":[\"line_color\",\"height\",\"x\",\"fill_alpha\",\"width\",\"label\",\"line_alpha\",\"color\",\"y\"],\"data\":{\"TagCount\":[4],\"anscount\":[\"Avg_FirstMonthCount\"],\"chart_index\":[{\"TagCount\":4,\"anscount\":\"Avg_FirstMonthCount\"}],\"color\":[\"DarkSalmon\"],\"fill_alpha\":[0.8],\"height\":[0.05516967464645556],\"label\":[{\"TagCount\":4,\"anscount\":\"Avg_FirstMonthCount\"}],\"line_alpha\":[1.0],\"line_color\":[\"white\"],\"width\":[0.2],\"x\":[\"4:0.4\"],\"y\":[0.02758483732322778]}},\"id\":\"83bfa906-5d85-4221-a258-fdf714b23d97\",\"type\":\"ColumnDataSource\"},{\"attributes\":{\"data_source\":{\"id\":\"e16827f9-f0d0-4c9f-b85e-54835ccbee51\",\"type\":\"ColumnDataSource\"},\"glyph\":{\"id\":\"fc432c5b-d019-43b0-a7ff-0727be74ca15\",\"type\":\"Rect\"},\"hover_glyph\":null,\"nonselection_glyph\":null,\"selection_glyph\":null},\"id\":\"62fc5e66-e641-4b25-aa0b-ddf0fbcb468b\",\"type\":\"GlyphRenderer\"},{\"attributes\":{},\"id\":\"3eb3b4d3-c32b-46ef-b2e0-099e59737dcb\",\"type\":\"BasicTickFormatter\"},{\"attributes\":{\"data_source\":{\"id\":\"7869092d-9d54-4476-8324-23e879968e98\",\"type\":\"ColumnDataSource\"},\"glyph\":{\"id\":\"d859ee1d-c12c-4ecb-91a6-dffee1210acd\",\"type\":\"Rect\"},\"hover_glyph\":null,\"nonselection_glyph\":null,\"selection_glyph\":null},\"id\":\"671a36a5-260e-4208-9da1-0298b8d6af7a\",\"type\":\"GlyphRenderer\"},{\"attributes\":{\"data_source\":{\"id\":\"2a2247b2-1281-4191-ad39-d834dd751c90\",\"type\":\"ColumnDataSource\"},\"glyph\":{\"id\":\"dd6b0d46-cd12-4a32-be89-81f37fd46c9f\",\"type\":\"Rect\"},\"hover_glyph\":null,\"nonselection_glyph\":null,\"selection_glyph\":null},\"id\":\"e526bc82-08fc-4c24-b0d7-e339a6f7338d\",\"type\":\"GlyphRenderer\"},{\"attributes\":{\"plot\":null,\"text\":\"Average No. of Answers Received vs No. of Tags Used\"},\"id\":\"d2533236-d1bd-47cf-a249-892dcf7ff92e\",\"type\":\"Title\"},{\"attributes\":{\"fill_alpha\":{\"field\":\"fill_alpha\"},\"fill_color\":{\"field\":\"color\"},\"height\":{\"field\":\"height\",\"units\":\"data\"},\"line_color\":{\"field\":\"line_color\"},\"width\":{\"field\":\"width\",\"units\":\"data\"},\"x\":{\"field\":\"x\"},\"y\":{\"field\":\"y\"}},\"id\":\"d859ee1d-c12c-4ecb-91a6-dffee1210acd\",\"type\":\"Rect\"},{\"attributes\":{\"fill_alpha\":{\"field\":\"fill_alpha\"},\"fill_color\":{\"field\":\"color\"},\"height\":{\"field\":\"height\",\"units\":\"data\"},\"line_color\":{\"field\":\"line_color\"},\"width\":{\"field\":\"width\",\"units\":\"data\"},\"x\":{\"field\":\"x\"},\"y\":{\"field\":\"y\"}},\"id\":\"dd6b0d46-cd12-4a32-be89-81f37fd46c9f\",\"type\":\"Rect\"},{\"attributes\":{\"callback\":null,\"column_names\":[\"line_color\",\"height\",\"x\",\"fill_alpha\",\"width\",\"label\",\"line_alpha\",\"color\",\"y\"],\"data\":{\"TagCount\":[3],\"anscount\":[\"Avg_MoreMonthsCount\"],\"chart_index\":[{\"TagCount\":3,\"anscount\":\"Avg_MoreMonthsCount\"}],\"color\":[\"Gold\"],\"fill_alpha\":[0.8],\"height\":[0.1518727686664257],\"label\":[{\"TagCount\":3,\"anscount\":\"Avg_MoreMonthsCount\"}],\"line_alpha\":[1.0],\"line_color\":[\"white\"],\"width\":[0.2],\"x\":[\"3:0.8\"],\"y\":[0.07593638433321286]}},\"id\":\"ef56c972-0893-4385-a9fb-cab0c14727a4\",\"type\":\"ColumnDataSource\"},{\"attributes\":{\"legends\":[[\"Avg_FirstWeekCount\",[{\"id\":\"34f650a9-508f-4aa9-901f-0749fad64e77\",\"type\":\"GlyphRenderer\"}]],[\"Avg_FirstMonthCount\",[{\"id\":\"a0fb6de9-1cbf-4b79-9386-6f5523569c51\",\"type\":\"GlyphRenderer\"}]],[\"Avg_SixMonthsCount\",[{\"id\":\"671a36a5-260e-4208-9da1-0298b8d6af7a\",\"type\":\"GlyphRenderer\"}]],[\"Avg_MoreMonthsCount\",[{\"id\":\"56d623b8-ab3f-4193-a5df-b14473c1f0bf\",\"type\":\"GlyphRenderer\"}]]],\"plot\":{\"id\":\"9b9fb680-d203-41e8-b842-da4f3479717e\",\"subtype\":\"Chart\",\"type\":\"Plot\"}},\"id\":\"844269ab-b36f-42b3-b96b-45ebec81d771\",\"type\":\"Legend\"},{\"attributes\":{\"callback\":null,\"column_names\":[\"line_color\",\"height\",\"x\",\"fill_alpha\",\"width\",\"label\",\"line_alpha\",\"color\",\"y\"],\"data\":{\"TagCount\":[4],\"anscount\":[\"Avg_MoreMonthsCount\"],\"chart_index\":[{\"TagCount\":4,\"anscount\":\"Avg_MoreMonthsCount\"}],\"color\":[\"Gold\"],\"fill_alpha\":[0.8],\"height\":[0.15993437135041375],\"label\":[{\"TagCount\":4,\"anscount\":\"Avg_MoreMonthsCount\"}],\"line_alpha\":[1.0],\"line_color\":[\"white\"],\"width\":[0.2],\"x\":[\"4:0.8\"],\"y\":[0.07996718567520687]}},\"id\":\"eb2a3089-13e5-496b-9ac3-891c1fb5d404\",\"type\":\"ColumnDataSource\"},{\"attributes\":{\"data_source\":{\"id\":\"6932fab7-1398-4a35-97e9-dcff2f337bb5\",\"type\":\"ColumnDataSource\"},\"glyph\":{\"id\":\"665432c4-2309-4f58-8a60-e490d01ccfc3\",\"type\":\"Rect\"},\"hover_glyph\":null,\"nonselection_glyph\":null,\"selection_glyph\":null},\"id\":\"e7f4e4f6-37e7-4965-bd35-fe2f1c24cd09\",\"type\":\"GlyphRenderer\"},{\"attributes\":{\"fill_alpha\":{\"field\":\"fill_alpha\"},\"fill_color\":{\"field\":\"color\"},\"height\":{\"field\":\"height\",\"units\":\"data\"},\"line_color\":{\"field\":\"line_color\"},\"width\":{\"field\":\"width\",\"units\":\"data\"},\"x\":{\"field\":\"x\"},\"y\":{\"field\":\"y\"}},\"id\":\"41b10298-6651-414f-944a-b002cb9131cc\",\"type\":\"Rect\"},{\"attributes\":{\"active_drag\":\"auto\",\"active_scroll\":\"auto\",\"active_tap\":\"auto\",\"tools\":[{\"id\":\"c625ae11-1c96-4911-b50a-ad07f3eb1a4c\",\"type\":\"PanTool\"},{\"id\":\"0b0ecaaf-7dab-4168-ba74-983cddd8756b\",\"type\":\"WheelZoomTool\"},{\"id\":\"ec186085-a139-4f9e-ad45-6c60c104cd3d\",\"type\":\"BoxZoomTool\"},{\"id\":\"bd83a0a8-54da-4705-8aae-8812cf4848d5\",\"type\":\"SaveTool\"},{\"id\":\"8e7edaf2-1806-4bff-8273-a5a5c810cd14\",\"type\":\"ResetTool\"},{\"id\":\"82a45ba4-78f4-442a-a891-4b344d02ee70\",\"type\":\"HelpTool\"},{\"id\":\"7b7fb1c1-d1f2-46ba-a621-e1466da4c131\",\"type\":\"HoverTool\"}]},\"id\":\"1bf93dbc-65d8-4740-b50f-d317e5bcbde9\",\"type\":\"Toolbar\"},{\"attributes\":{\"data_source\":{\"id\":\"8953586f-8bd9-4bcd-9110-54edb0d92a6b\",\"type\":\"ColumnDataSource\"},\"glyph\":{\"id\":\"e174371d-6a0d-47fd-b7d0-a4e9a932a522\",\"type\":\"Rect\"},\"hover_glyph\":null,\"nonselection_glyph\":null,\"selection_glyph\":null},\"id\":\"6a31b7b4-76ce-4fc7-b714-a24dc8e9d389\",\"type\":\"GlyphRenderer\"},{\"attributes\":{},\"id\":\"41bd4657-7c51-44ee-8591-7fc1260fc4a2\",\"type\":\"BasicTicker\"},{\"attributes\":{\"data_source\":{\"id\":\"eb2a3089-13e5-496b-9ac3-891c1fb5d404\",\"type\":\"ColumnDataSource\"},\"glyph\":{\"id\":\"5b149f1c-2115-43a3-b3d6-b40f9cb42e7d\",\"type\":\"Rect\"},\"hover_glyph\":null,\"nonselection_glyph\":null,\"selection_glyph\":null},\"id\":\"3d02940f-3008-4d9c-8cdd-094290703146\",\"type\":\"GlyphRenderer\"},{\"attributes\":{\"callback\":null,\"column_names\":[\"line_color\",\"height\",\"x\",\"fill_alpha\",\"width\",\"label\",\"line_alpha\",\"color\",\"y\"],\"data\":{\"TagCount\":[1],\"anscount\":[\"Avg_SixMonthsCount\"],\"chart_index\":[{\"TagCount\":1,\"anscount\":\"Avg_SixMonthsCount\"}],\"color\":[\"Plum\"],\"fill_alpha\":[0.8],\"height\":[0.051750244945224906],\"label\":[{\"TagCount\":1,\"anscount\":\"Avg_SixMonthsCount\"}],\"line_alpha\":[1.0],\"line_color\":[\"white\"],\"width\":[0.2],\"x\":[\"1:0.6\"],\"y\":[0.025875122472612453]}},\"id\":\"7869092d-9d54-4476-8324-23e879968e98\",\"type\":\"ColumnDataSource\"},{\"attributes\":{\"fill_alpha\":{\"field\":\"fill_alpha\"},\"fill_color\":{\"field\":\"color\"},\"height\":{\"field\":\"height\",\"units\":\"data\"},\"line_color\":{\"field\":\"line_color\"},\"width\":{\"field\":\"width\",\"units\":\"data\"},\"x\":{\"field\":\"x\"},\"y\":{\"field\":\"y\"}},\"id\":\"9cb3bbec-9e81-484b-974c-6e40f2517409\",\"type\":\"Rect\"},{\"attributes\":{\"fill_alpha\":{\"field\":\"fill_alpha\"},\"fill_color\":{\"field\":\"color\"},\"height\":{\"field\":\"height\",\"units\":\"data\"},\"line_color\":{\"field\":\"line_color\"},\"width\":{\"field\":\"width\",\"units\":\"data\"},\"x\":{\"field\":\"x\"},\"y\":{\"field\":\"y\"}},\"id\":\"e174371d-6a0d-47fd-b7d0-a4e9a932a522\",\"type\":\"Rect\"},{\"attributes\":{\"fill_alpha\":{\"field\":\"fill_alpha\"},\"fill_color\":{\"field\":\"color\"},\"height\":{\"field\":\"height\",\"units\":\"data\"},\"line_color\":{\"field\":\"line_color\"},\"width\":{\"field\":\"width\",\"units\":\"data\"},\"x\":{\"field\":\"x\"},\"y\":{\"field\":\"y\"}},\"id\":\"ad869b25-9953-4226-9714-2649b64736b1\",\"type\":\"Rect\"},{\"attributes\":{\"axis_label\":\"No. of Tags Used in Questions\",\"formatter\":{\"id\":\"aa17224b-be44-49be-af64-239438185939\",\"type\":\"CategoricalTickFormatter\"},\"major_label_orientation\":0.7853981633974483,\"plot\":{\"id\":\"9b9fb680-d203-41e8-b842-da4f3479717e\",\"subtype\":\"Chart\",\"type\":\"Plot\"},\"ticker\":{\"id\":\"3458ece8-2615-4480-b7e2-bb7fc62c7cbd\",\"type\":\"CategoricalTicker\"}},\"id\":\"c269fe11-eb1e-44a0-8e4a-de21e0cb04cc\",\"type\":\"CategoricalAxis\"},{\"attributes\":{\"below\":[{\"id\":\"c269fe11-eb1e-44a0-8e4a-de21e0cb04cc\",\"type\":\"CategoricalAxis\"}],\"left\":[{\"id\":\"aa0e1e98-c461-430a-873c-d3f4a6269112\",\"type\":\"LinearAxis\"}],\"renderers\":[{\"id\":\"aa6f82b2-5b24-4926-b0b5-0b877b4f1c6a\",\"type\":\"BoxAnnotation\"},{\"id\":\"34f650a9-508f-4aa9-901f-0749fad64e77\",\"type\":\"GlyphRenderer\"},{\"id\":\"9df05b03-3244-473d-988f-0ee242c9c56b\",\"type\":\"GlyphRenderer\"},{\"id\":\"6a31b7b4-76ce-4fc7-b714-a24dc8e9d389\",\"type\":\"GlyphRenderer\"},{\"id\":\"c492bc7d-0b96-4045-9d79-46a4b0cd845a\",\"type\":\"GlyphRenderer\"},{\"id\":\"265a47ae-fa2a-4aa6-9391-d2aa5948b507\",\"type\":\"GlyphRenderer\"},{\"id\":\"a0fb6de9-1cbf-4b79-9386-6f5523569c51\",\"type\":\"GlyphRenderer\"},{\"id\":\"d2f8ea43-8f3e-40a6-954f-fc5cd5658817\",\"type\":\"GlyphRenderer\"},{\"id\":\"e526bc82-08fc-4c24-b0d7-e339a6f7338d\",\"type\":\"GlyphRenderer\"},{\"id\":\"94252b9e-5fbc-49cd-bea5-a28151b77385\",\"type\":\"GlyphRenderer\"},{\"id\":\"8b4318f8-ff5a-444f-8e76-af36bd6f06c2\",\"type\":\"GlyphRenderer\"},{\"id\":\"671a36a5-260e-4208-9da1-0298b8d6af7a\",\"type\":\"GlyphRenderer\"},{\"id\":\"a4e4af06-ab44-4fc3-a783-bab18c97c792\",\"type\":\"GlyphRenderer\"},{\"id\":\"28c2543c-0575-4d38-8734-6f573e874e05\",\"type\":\"GlyphRenderer\"},{\"id\":\"d37e84d4-b491-41c2-b8fe-87f6d2c66ab9\",\"type\":\"GlyphRenderer\"},{\"id\":\"e7f4e4f6-37e7-4965-bd35-fe2f1c24cd09\",\"type\":\"GlyphRenderer\"},{\"id\":\"56d623b8-ab3f-4193-a5df-b14473c1f0bf\",\"type\":\"GlyphRenderer\"},{\"id\":\"206842c9-21e1-4751-82a6-483178940150\",\"type\":\"GlyphRenderer\"},{\"id\":\"bc4aa712-5d82-4e9e-bacb-9a2c1cd2dab6\",\"type\":\"GlyphRenderer\"},{\"id\":\"3d02940f-3008-4d9c-8cdd-094290703146\",\"type\":\"GlyphRenderer\"},{\"id\":\"62fc5e66-e641-4b25-aa0b-ddf0fbcb468b\",\"type\":\"GlyphRenderer\"},{\"id\":\"844269ab-b36f-42b3-b96b-45ebec81d771\",\"type\":\"Legend\"},{\"id\":\"c269fe11-eb1e-44a0-8e4a-de21e0cb04cc\",\"type\":\"CategoricalAxis\"},{\"id\":\"aa0e1e98-c461-430a-873c-d3f4a6269112\",\"type\":\"LinearAxis\"},{\"id\":\"64b6b6a0-fa82-476f-8b4e-d5c1bb6aaea0\",\"type\":\"Grid\"}],\"title\":{\"id\":\"d2533236-d1bd-47cf-a249-892dcf7ff92e\",\"type\":\"Title\"},\"tool_events\":{\"id\":\"29b4f499-2670-4cc1-aeaf-6f497f46434b\",\"type\":\"ToolEvents\"},\"toolbar\":{\"id\":\"1bf93dbc-65d8-4740-b50f-d317e5bcbde9\",\"type\":\"Toolbar\"},\"x_mapper_type\":\"auto\",\"x_range\":{\"id\":\"54046010-b62e-4f9b-a9ea-591fc141c097\",\"type\":\"FactorRange\"},\"y_mapper_type\":\"auto\",\"y_range\":{\"id\":\"245df1bc-c753-4fe6-9ddd-30d6b07e8510\",\"type\":\"Range1d\"}},\"id\":\"9b9fb680-d203-41e8-b842-da4f3479717e\",\"subtype\":\"Chart\",\"type\":\"Plot\"},{\"attributes\":{\"dimension\":1,\"plot\":{\"id\":\"9b9fb680-d203-41e8-b842-da4f3479717e\",\"subtype\":\"Chart\",\"type\":\"Plot\"},\"ticker\":{\"id\":\"41bd4657-7c51-44ee-8591-7fc1260fc4a2\",\"type\":\"BasicTicker\"}},\"id\":\"64b6b6a0-fa82-476f-8b4e-d5c1bb6aaea0\",\"type\":\"Grid\"},{\"attributes\":{\"fill_alpha\":{\"field\":\"fill_alpha\"},\"fill_color\":{\"field\":\"color\"},\"height\":{\"field\":\"height\",\"units\":\"data\"},\"line_color\":{\"field\":\"line_color\"},\"width\":{\"field\":\"width\",\"units\":\"data\"},\"x\":{\"field\":\"x\"},\"y\":{\"field\":\"y\"}},\"id\":\"06bf36a1-179d-4bda-a8c5-a68293a48e16\",\"type\":\"Rect\"},{\"attributes\":{\"fill_alpha\":{\"field\":\"fill_alpha\"},\"fill_color\":{\"field\":\"color\"},\"height\":{\"field\":\"height\",\"units\":\"data\"},\"line_color\":{\"field\":\"line_color\"},\"width\":{\"field\":\"width\",\"units\":\"data\"},\"x\":{\"field\":\"x\"},\"y\":{\"field\":\"y\"}},\"id\":\"e1055593-19ca-4286-9b77-124594a2b15a\",\"type\":\"Rect\"},{\"attributes\":{\"callback\":null,\"column_names\":[\"line_color\",\"height\",\"x\",\"fill_alpha\",\"width\",\"label\",\"line_alpha\",\"color\",\"y\"],\"data\":{\"TagCount\":[4],\"anscount\":[\"Avg_SixMonthsCount\"],\"chart_index\":[{\"TagCount\":4,\"anscount\":\"Avg_SixMonthsCount\"}],\"color\":[\"Plum\"],\"fill_alpha\":[0.8],\"height\":[0.07352489207683092],\"label\":[{\"TagCount\":4,\"anscount\":\"Avg_SixMonthsCount\"}],\"line_alpha\":[1.0],\"line_color\":[\"white\"],\"width\":[0.2],\"x\":[\"4:0.6\"],\"y\":[0.03676244603841546]}},\"id\":\"ce11bf16-9039-4c12-b5a1-ac53e6004022\",\"type\":\"ColumnDataSource\"},{\"attributes\":{\"callback\":null,\"column_names\":[\"line_color\",\"height\",\"x\",\"fill_alpha\",\"width\",\"label\",\"line_alpha\",\"color\",\"y\"],\"data\":{\"TagCount\":[2],\"anscount\":[\"Avg_SixMonthsCount\"],\"chart_index\":[{\"TagCount\":2,\"anscount\":\"Avg_SixMonthsCount\"}],\"color\":[\"Plum\"],\"fill_alpha\":[0.8],\"height\":[0.057533512261227486],\"label\":[{\"TagCount\":2,\"anscount\":\"Avg_SixMonthsCount\"}],\"line_alpha\":[1.0],\"line_color\":[\"white\"],\"width\":[0.2],\"x\":[\"2:0.6\"],\"y\":[0.028766756130613743]}},\"id\":\"1bb39f3d-58dc-45ab-bd27-a0919a6ae6a5\",\"type\":\"ColumnDataSource\"},{\"attributes\":{\"data_source\":{\"id\":\"55451460-68ea-457c-9217-986777eed720\",\"type\":\"ColumnDataSource\"},\"glyph\":{\"id\":\"41b10298-6651-414f-944a-b002cb9131cc\",\"type\":\"Rect\"},\"hover_glyph\":null,\"nonselection_glyph\":null,\"selection_glyph\":null},\"id\":\"56d623b8-ab3f-4193-a5df-b14473c1f0bf\",\"type\":\"GlyphRenderer\"},{\"attributes\":{\"callback\":null,\"column_names\":[\"line_color\",\"height\",\"x\",\"fill_alpha\",\"width\",\"label\",\"line_alpha\",\"color\",\"y\"],\"data\":{\"TagCount\":[5],\"anscount\":[\"Avg_SixMonthsCount\"],\"chart_index\":[{\"TagCount\":5,\"anscount\":\"Avg_SixMonthsCount\"}],\"color\":[\"Plum\"],\"fill_alpha\":[0.8],\"height\":[0.0812167401270742],\"label\":[{\"TagCount\":5,\"anscount\":\"Avg_SixMonthsCount\"}],\"line_alpha\":[1.0],\"line_color\":[\"white\"],\"width\":[0.2],\"x\":[\"5:0.6\"],\"y\":[0.0406083700635371]}},\"id\":\"6932fab7-1398-4a35-97e9-dcff2f337bb5\",\"type\":\"ColumnDataSource\"},{\"attributes\":{\"fill_alpha\":{\"field\":\"fill_alpha\"},\"fill_color\":{\"field\":\"color\"},\"height\":{\"field\":\"height\",\"units\":\"data\"},\"line_color\":{\"field\":\"line_color\"},\"width\":{\"field\":\"width\",\"units\":\"data\"},\"x\":{\"field\":\"x\"},\"y\":{\"field\":\"y\"}},\"id\":\"5b149f1c-2115-43a3-b3d6-b40f9cb42e7d\",\"type\":\"Rect\"},{\"attributes\":{\"fill_alpha\":{\"field\":\"fill_alpha\"},\"fill_color\":{\"field\":\"color\"},\"height\":{\"field\":\"height\",\"units\":\"data\"},\"line_color\":{\"field\":\"line_color\"},\"width\":{\"field\":\"width\",\"units\":\"data\"},\"x\":{\"field\":\"x\"},\"y\":{\"field\":\"y\"}},\"id\":\"e4e514e7-0b90-48cb-9be4-165c726fb29f\",\"type\":\"Rect\"},{\"attributes\":{\"data_source\":{\"id\":\"66ba04f5-1101-45b5-b14c-4a5e37ee6750\",\"type\":\"ColumnDataSource\"},\"glyph\":{\"id\":\"3f19ba1d-cc74-4ee4-b760-835ad6957d1a\",\"type\":\"Rect\"},\"hover_glyph\":null,\"nonselection_glyph\":null,\"selection_glyph\":null},\"id\":\"265a47ae-fa2a-4aa6-9391-d2aa5948b507\",\"type\":\"GlyphRenderer\"},{\"attributes\":{\"fill_alpha\":{\"field\":\"fill_alpha\"},\"fill_color\":{\"field\":\"color\"},\"height\":{\"field\":\"height\",\"units\":\"data\"},\"line_color\":{\"field\":\"line_color\"},\"width\":{\"field\":\"width\",\"units\":\"data\"},\"x\":{\"field\":\"x\"},\"y\":{\"field\":\"y\"}},\"id\":\"da9e3d26-9e5a-412e-bdfd-86878883df27\",\"type\":\"Rect\"},{\"attributes\":{\"callback\":null,\"column_names\":[\"line_color\",\"height\",\"x\",\"fill_alpha\",\"width\",\"label\",\"line_alpha\",\"color\",\"y\"],\"data\":{\"TagCount\":[2],\"anscount\":[\"Avg_FirstWeekCount\"],\"chart_index\":[{\"TagCount\":2,\"anscount\":\"Avg_FirstWeekCount\"}],\"color\":[\"Turquoise\"],\"fill_alpha\":[0.8],\"height\":[1.6013224997517672],\"label\":[{\"TagCount\":2,\"anscount\":\"Avg_FirstWeekCount\"}],\"line_alpha\":[1.0],\"line_color\":[\"white\"],\"width\":[0.2],\"x\":[\"2:0.2\"],\"y\":[0.8006612498758836]}},\"id\":\"1943162d-4509-46ea-b5b1-1c334242c259\",\"type\":\"ColumnDataSource\"},{\"attributes\":{\"callback\":null,\"end\":1.7059981214107631},\"id\":\"245df1bc-c753-4fe6-9ddd-30d6b07e8510\",\"type\":\"Range1d\"},{\"attributes\":{\"fill_alpha\":{\"field\":\"fill_alpha\"},\"fill_color\":{\"field\":\"color\"},\"height\":{\"field\":\"height\",\"units\":\"data\"},\"line_color\":{\"field\":\"line_color\"},\"width\":{\"field\":\"width\",\"units\":\"data\"},\"x\":{\"field\":\"x\"},\"y\":{\"field\":\"y\"}},\"id\":\"fc432c5b-d019-43b0-a7ff-0727be74ca15\",\"type\":\"Rect\"},{\"attributes\":{\"callback\":null,\"column_names\":[\"line_color\",\"height\",\"x\",\"fill_alpha\",\"width\",\"label\",\"line_alpha\",\"color\",\"y\"],\"data\":{\"TagCount\":[1],\"anscount\":[\"Avg_FirstWeekCount\"],\"chart_index\":[{\"TagCount\":1,\"anscount\":\"Avg_FirstWeekCount\"}],\"color\":[\"Turquoise\"],\"fill_alpha\":[0.8],\"height\":[1.6247601156292981],\"label\":[{\"TagCount\":1,\"anscount\":\"Avg_FirstWeekCount\"}],\"line_alpha\":[1.0],\"line_color\":[\"white\"],\"width\":[0.2],\"x\":[\"1:0.2\"],\"y\":[0.8123800578146491]}},\"id\":\"1c9db73b-50f0-462a-8736-03b78bebba51\",\"type\":\"ColumnDataSource\"},{\"attributes\":{\"fill_alpha\":{\"field\":\"fill_alpha\"},\"fill_color\":{\"field\":\"color\"},\"height\":{\"field\":\"height\",\"units\":\"data\"},\"line_color\":{\"field\":\"line_color\"},\"width\":{\"field\":\"width\",\"units\":\"data\"},\"x\":{\"field\":\"x\"},\"y\":{\"field\":\"y\"}},\"id\":\"cba9a6a2-9287-43ed-92d3-8245da1b9e58\",\"type\":\"Rect\"},{\"attributes\":{\"overlay\":{\"id\":\"aa6f82b2-5b24-4926-b0b5-0b877b4f1c6a\",\"type\":\"BoxAnnotation\"},\"plot\":{\"id\":\"9b9fb680-d203-41e8-b842-da4f3479717e\",\"subtype\":\"Chart\",\"type\":\"Plot\"}},\"id\":\"ec186085-a139-4f9e-ad45-6c60c104cd3d\",\"type\":\"BoxZoomTool\"},{\"attributes\":{\"data_source\":{\"id\":\"1bb39f3d-58dc-45ab-bd27-a0919a6ae6a5\",\"type\":\"ColumnDataSource\"},\"glyph\":{\"id\":\"e1055593-19ca-4286-9b77-124594a2b15a\",\"type\":\"Rect\"},\"hover_glyph\":null,\"nonselection_glyph\":null,\"selection_glyph\":null},\"id\":\"a4e4af06-ab44-4fc3-a783-bab18c97c792\",\"type\":\"GlyphRenderer\"},{\"attributes\":{\"data_source\":{\"id\":\"83bfa906-5d85-4221-a258-fdf714b23d97\",\"type\":\"ColumnDataSource\"},\"glyph\":{\"id\":\"b200ef99-d0c2-4ced-8e28-b7acc46f5092\",\"type\":\"Rect\"},\"hover_glyph\":null,\"nonselection_glyph\":null,\"selection_glyph\":null},\"id\":\"94252b9e-5fbc-49cd-bea5-a28151b77385\",\"type\":\"GlyphRenderer\"},{\"attributes\":{\"fill_alpha\":{\"field\":\"fill_alpha\"},\"fill_color\":{\"field\":\"color\"},\"height\":{\"field\":\"height\",\"units\":\"data\"},\"line_color\":{\"field\":\"line_color\"},\"width\":{\"field\":\"width\",\"units\":\"data\"},\"x\":{\"field\":\"x\"},\"y\":{\"field\":\"y\"}},\"id\":\"3f19ba1d-cc74-4ee4-b760-835ad6957d1a\",\"type\":\"Rect\"},{\"attributes\":{\"callback\":null,\"column_names\":[\"line_color\",\"height\",\"x\",\"fill_alpha\",\"width\",\"label\",\"line_alpha\",\"color\",\"y\"],\"data\":{\"TagCount\":[4],\"anscount\":[\"Avg_FirstWeekCount\"],\"chart_index\":[{\"TagCount\":4,\"anscount\":\"Avg_FirstWeekCount\"}],\"color\":[\"Turquoise\"],\"fill_alpha\":[0.8],\"height\":[1.4979408301939796],\"label\":[{\"TagCount\":4,\"anscount\":\"Avg_FirstWeekCount\"}],\"line_alpha\":[1.0],\"line_color\":[\"white\"],\"width\":[0.2],\"x\":[\"4:0.2\"],\"y\":[0.7489704150969898]}},\"id\":\"165bd90b-fb3f-4eed-9ef6-3f4432ed68a6\",\"type\":\"ColumnDataSource\"},{\"attributes\":{},\"id\":\"aa17224b-be44-49be-af64-239438185939\",\"type\":\"CategoricalTickFormatter\"},{\"attributes\":{},\"id\":\"29b4f499-2670-4cc1-aeaf-6f497f46434b\",\"type\":\"ToolEvents\"},{\"attributes\":{\"plot\":{\"id\":\"9b9fb680-d203-41e8-b842-da4f3479717e\",\"subtype\":\"Chart\",\"type\":\"Plot\"}},\"id\":\"c625ae11-1c96-4911-b50a-ad07f3eb1a4c\",\"type\":\"PanTool\"},{\"attributes\":{\"fill_alpha\":{\"field\":\"fill_alpha\"},\"fill_color\":{\"field\":\"color\"},\"height\":{\"field\":\"height\",\"units\":\"data\"},\"line_color\":{\"field\":\"line_color\"},\"width\":{\"field\":\"width\",\"units\":\"data\"},\"x\":{\"field\":\"x\"},\"y\":{\"field\":\"y\"}},\"id\":\"b200ef99-d0c2-4ced-8e28-b7acc46f5092\",\"type\":\"Rect\"},{\"attributes\":{\"data_source\":{\"id\":\"3173a7ab-ed05-450e-8bd9-5a8c74b0a8d4\",\"type\":\"ColumnDataSource\"},\"glyph\":{\"id\":\"cc18d90d-cc39-4190-a9bc-b58f261c2726\",\"type\":\"Rect\"},\"hover_glyph\":null,\"nonselection_glyph\":null,\"selection_glyph\":null},\"id\":\"206842c9-21e1-4751-82a6-483178940150\",\"type\":\"GlyphRenderer\"},{\"attributes\":{\"fill_alpha\":{\"field\":\"fill_alpha\"},\"fill_color\":{\"field\":\"color\"},\"height\":{\"field\":\"height\",\"units\":\"data\"},\"line_color\":{\"field\":\"line_color\"},\"width\":{\"field\":\"width\",\"units\":\"data\"},\"x\":{\"field\":\"x\"},\"y\":{\"field\":\"y\"}},\"id\":\"90d57e4d-4716-42cd-8736-37fba34081e4\",\"type\":\"Rect\"},{\"attributes\":{\"callback\":null,\"column_names\":[\"line_color\",\"height\",\"x\",\"fill_alpha\",\"width\",\"label\",\"line_alpha\",\"color\",\"y\"],\"data\":{\"TagCount\":[2],\"anscount\":[\"Avg_MoreMonthsCount\"],\"chart_index\":[{\"TagCount\":2,\"anscount\":\"Avg_MoreMonthsCount\"}],\"color\":[\"Gold\"],\"fill_alpha\":[0.8],\"height\":[0.1467049489101141],\"label\":[{\"TagCount\":2,\"anscount\":\"Avg_MoreMonthsCount\"}],\"line_alpha\":[1.0],\"line_color\":[\"white\"],\"width\":[0.2],\"x\":[\"2:0.8\"],\"y\":[0.07335247445505705]}},\"id\":\"3173a7ab-ed05-450e-8bd9-5a8c74b0a8d4\",\"type\":\"ColumnDataSource\"},{\"attributes\":{},\"id\":\"3458ece8-2615-4480-b7e2-bb7fc62c7cbd\",\"type\":\"CategoricalTicker\"},{\"attributes\":{\"fill_alpha\":{\"field\":\"fill_alpha\"},\"fill_color\":{\"field\":\"color\"},\"height\":{\"field\":\"height\",\"units\":\"data\"},\"line_color\":{\"field\":\"line_color\"},\"width\":{\"field\":\"width\",\"units\":\"data\"},\"x\":{\"field\":\"x\"},\"y\":{\"field\":\"y\"}},\"id\":\"cc18d90d-cc39-4190-a9bc-b58f261c2726\",\"type\":\"Rect\"},{\"attributes\":{\"fill_alpha\":{\"field\":\"fill_alpha\"},\"fill_color\":{\"field\":\"color\"},\"height\":{\"field\":\"height\",\"units\":\"data\"},\"line_color\":{\"field\":\"line_color\"},\"width\":{\"field\":\"width\",\"units\":\"data\"},\"x\":{\"field\":\"x\"},\"y\":{\"field\":\"y\"}},\"id\":\"b76f3085-3e55-43e4-a729-15151e52c141\",\"type\":\"Rect\"},{\"attributes\":{\"axis_label\":\"Average No. of Answers Received within Time Period\",\"formatter\":{\"id\":\"3eb3b4d3-c32b-46ef-b2e0-099e59737dcb\",\"type\":\"BasicTickFormatter\"},\"plot\":{\"id\":\"9b9fb680-d203-41e8-b842-da4f3479717e\",\"subtype\":\"Chart\",\"type\":\"Plot\"},\"ticker\":{\"id\":\"41bd4657-7c51-44ee-8591-7fc1260fc4a2\",\"type\":\"BasicTicker\"}},\"id\":\"aa0e1e98-c461-430a-873c-d3f4a6269112\",\"type\":\"LinearAxis\"}],\"root_ids\":[\"9b9fb680-d203-41e8-b842-da4f3479717e\"]},\"title\":\"Bokeh Application\",\"version\":\"0.12.2\"}};\n",
       "            var render_items = [{\"docid\":\"9827b5e0-6922-440c-b79e-d7a1c7b77d17\",\"elementid\":\"545b7680-24fb-461f-bc22-5ffe49638d61\",\"modelid\":\"9b9fb680-d203-41e8-b842-da4f3479717e\"}];\n",
       "            \n",
       "            Bokeh.embed.embed_items(docs_json, render_items);\n",
       "        });\n",
       "      },\n",
       "      function(Bokeh) {\n",
       "      }\n",
       "    ];\n",
       "  \n",
       "    function run_inline_js() {\n",
       "      \n",
       "      if ((window.Bokeh !== undefined) || (force === \"1\")) {\n",
       "        for (var i = 0; i < inline_js.length; i++) {\n",
       "          inline_js[i](window.Bokeh);\n",
       "        }if (force === \"1\") {\n",
       "          display_loaded();\n",
       "        }} else if (Date.now() < window._bokeh_timeout) {\n",
       "        setTimeout(run_inline_js, 100);\n",
       "      } else if (!window._bokeh_failed_load) {\n",
       "        console.log(\"Bokeh: BokehJS failed to load within specified timeout.\");\n",
       "        window._bokeh_failed_load = true;\n",
       "      } else if (!force) {\n",
       "        var cell = $(\"#545b7680-24fb-461f-bc22-5ffe49638d61\").parents('.cell').data().cell;\n",
       "        cell.output_area.append_execute_result(NB_LOAD_WARNING)\n",
       "      }\n",
       "  \n",
       "    }\n",
       "  \n",
       "    if (window._bokeh_is_loading === 0) {\n",
       "      console.log(\"Bokeh: BokehJS loaded, going straight to plotting\");\n",
       "      run_inline_js();\n",
       "    } else {\n",
       "      load_libs(js_urls, function() {\n",
       "        console.log(\"Bokeh: BokehJS plotting callback run at\", now());\n",
       "        run_inline_js();\n",
       "      });\n",
       "    }\n",
       "  }(this));\n",
       "</script>"
      ]
     },
     "metadata": {},
     "output_type": "display_data"
    }
   ],
   "source": [
    "%matplotlib inline\n",
    "from bokeh.charts import Bar, output_notebook, show\n",
    "from bokeh.charts.attributes import cat, color\n",
    "from bokeh.charts.operations import blend\n",
    "\n",
    "ansCount = ansCount[ansCount['total'] > 0]\n",
    "ansCount = ansCount.sort_values('TagCount', ascending=True)\n",
    "\n",
    "bar10 = Bar(ansCount,\n",
    "          values=blend('Avg_FirstWeekCount', 'Avg_FirstMonthCount', 'Avg_SixMonthsCount', 'Avg_MoreMonthsCount', name='anscounts', labels_name='anscount'),\n",
    "          label=cat(columns='TagCount', sort=False),\n",
    "          group=cat(columns='anscount', sort=False),\n",
    "          color=color(columns='anscount', palette=['Turquoise','DarkSalmon','Plum','Gold'],\n",
    "                      sort=False),\n",
    "          legend='top_right',\n",
    "          title=\"Average No. of Answers Received vs No. of Tags Used\",\n",
    "          tooltips=[('No. of Tags Used', '@TagCount'), \n",
    "                    ('Average No. of Answers Received', '@height')\n",
    "                   ])\n",
    "\n",
    "bar10.xaxis.axis_label = 'No. of Tags Used in Questions'\n",
    "bar10.yaxis.axis_label = 'Average No. of Answers Received within Time Period'\n",
    "        \n",
    "output_notebook()\n",
    "\n",
    "show(bar10)"
   ]
  },
  {
   "cell_type": "code",
   "execution_count": null,
   "metadata": {
    "collapsed": true
   },
   "outputs": [],
   "source": []
  }
 ],
 "metadata": {
  "anaconda-cloud": {},
  "kernelspec": {
   "display_name": "Python [default]",
   "language": "python",
   "name": "python3"
  },
  "language_info": {
   "codemirror_mode": {
    "name": "ipython",
    "version": 3
   },
   "file_extension": ".py",
   "mimetype": "text/x-python",
   "name": "python",
   "nbconvert_exporter": "python",
   "pygments_lexer": "ipython3",
   "version": "3.5.2"
  }
 },
 "nbformat": 4,
 "nbformat_minor": 1
}
