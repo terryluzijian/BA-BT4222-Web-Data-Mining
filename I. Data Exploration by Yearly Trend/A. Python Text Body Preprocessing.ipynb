{
 "cells": [
  {
   "cell_type": "markdown",
   "metadata": {
    "deletable": true,
    "editable": true
   },
   "source": [
    "# Uploading dataset\n",
    "\n",
    "First, I upload the dataset into panda's dataframe"
   ]
  },
  {
   "cell_type": "code",
   "execution_count": 2,
   "metadata": {
    "collapsed": false,
    "deletable": true,
    "editable": true
   },
   "outputs": [],
   "source": [
    "import pandas as pd\n",
    "from bs4 import BeautifulSoup\n",
    "\n",
    "ORIGINAL_DATASET = \"../data/python_answers.csv\"\n",
    "TARGET_DATASET = \"../data/python_answers_new.csv\"\n",
    "\n",
    "data = pd.read_csv(ORIGINAL_DATASET, encoding='latin1')"
   ]
  },
  {
   "cell_type": "code",
   "execution_count": 3,
   "metadata": {
    "collapsed": false,
    "deletable": true,
    "editable": true
   },
   "outputs": [
    {
     "data": {
      "text/html": [
       "<div>\n",
       "<table border=\"1\" class=\"dataframe\">\n",
       "  <thead>\n",
       "    <tr style=\"text-align: right;\">\n",
       "      <th></th>\n",
       "      <th>Id</th>\n",
       "      <th>OwnerUserId</th>\n",
       "      <th>CreationDate</th>\n",
       "      <th>ParentId</th>\n",
       "      <th>Score</th>\n",
       "      <th>Body</th>\n",
       "    </tr>\n",
       "  </thead>\n",
       "  <tbody>\n",
       "    <tr>\n",
       "      <th>0</th>\n",
       "      <td>497</td>\n",
       "      <td>50.0</td>\n",
       "      <td>2008-08-02T16:56:53Z</td>\n",
       "      <td>469</td>\n",
       "      <td>4</td>\n",
       "      <td>&lt;p&gt;open up a terminal (Applications-&amp;gt;Utilit...</td>\n",
       "    </tr>\n",
       "    <tr>\n",
       "      <th>1</th>\n",
       "      <td>518</td>\n",
       "      <td>153.0</td>\n",
       "      <td>2008-08-02T17:42:28Z</td>\n",
       "      <td>469</td>\n",
       "      <td>2</td>\n",
       "      <td>&lt;p&gt;I haven't been able to find anything that d...</td>\n",
       "    </tr>\n",
       "    <tr>\n",
       "      <th>2</th>\n",
       "      <td>536</td>\n",
       "      <td>161.0</td>\n",
       "      <td>2008-08-02T18:49:07Z</td>\n",
       "      <td>502</td>\n",
       "      <td>9</td>\n",
       "      <td>&lt;p&gt;You can use ImageMagick's convert utility f...</td>\n",
       "    </tr>\n",
       "    <tr>\n",
       "      <th>3</th>\n",
       "      <td>538</td>\n",
       "      <td>156.0</td>\n",
       "      <td>2008-08-02T18:56:56Z</td>\n",
       "      <td>535</td>\n",
       "      <td>23</td>\n",
       "      <td>&lt;p&gt;One possibility is Hudson.  It's written in...</td>\n",
       "    </tr>\n",
       "    <tr>\n",
       "      <th>4</th>\n",
       "      <td>541</td>\n",
       "      <td>157.0</td>\n",
       "      <td>2008-08-02T19:06:40Z</td>\n",
       "      <td>535</td>\n",
       "      <td>20</td>\n",
       "      <td>&lt;p&gt;We run &lt;a href=\"http://buildbot.net/trac\"&gt;B...</td>\n",
       "    </tr>\n",
       "  </tbody>\n",
       "</table>\n",
       "</div>"
      ],
      "text/plain": [
       "    Id  OwnerUserId          CreationDate  ParentId  Score  \\\n",
       "0  497         50.0  2008-08-02T16:56:53Z       469      4   \n",
       "1  518        153.0  2008-08-02T17:42:28Z       469      2   \n",
       "2  536        161.0  2008-08-02T18:49:07Z       502      9   \n",
       "3  538        156.0  2008-08-02T18:56:56Z       535     23   \n",
       "4  541        157.0  2008-08-02T19:06:40Z       535     20   \n",
       "\n",
       "                                                Body  \n",
       "0  <p>open up a terminal (Applications-&gt;Utilit...  \n",
       "1  <p>I haven't been able to find anything that d...  \n",
       "2  <p>You can use ImageMagick's convert utility f...  \n",
       "3  <p>One possibility is Hudson.  It's written in...  \n",
       "4  <p>We run <a href=\"http://buildbot.net/trac\">B...  "
      ]
     },
     "execution_count": 3,
     "metadata": {},
     "output_type": "execute_result"
    }
   ],
   "source": [
    "data.head()"
   ]
  },
  {
   "cell_type": "markdown",
   "metadata": {
    "deletable": true,
    "editable": true
   },
   "source": [
    "# Getting the content of the body\n",
    "\n",
    "Next, I define a function, `get_string` to get the content of the HTML-based body field. I am using `BeautifulSoup` to get all the `<p>` content"
   ]
  },
  {
   "cell_type": "code",
   "execution_count": 4,
   "metadata": {
    "collapsed": true,
    "deletable": true,
    "editable": true
   },
   "outputs": [],
   "source": [
    "def get_string(text):\n",
    "    soup = BeautifulSoup(text, 'html.parser')\n",
    "    lst = []\n",
    "    for p in soup.find_all('p'):\n",
    "        lst.extend(list(map(lambda x: x.string if x.string else \"\", p.children)))\n",
    "    return \"\".join(lst)"
   ]
  },
  {
   "cell_type": "markdown",
   "metadata": {
    "deletable": true,
    "editable": true
   },
   "source": [
    "# Checking if code blocks are present\n",
    "\n",
    "After that, I define a function `is_code_present` to check if a post contains any code block. In StackOverflow, this code block is defined within `<pre>` tags"
   ]
  },
  {
   "cell_type": "code",
   "execution_count": 5,
   "metadata": {
    "collapsed": true,
    "deletable": true,
    "editable": true
   },
   "outputs": [],
   "source": [
    "def is_code_present(text):\n",
    "    soup = BeautifulSoup(text, 'html.parser')\n",
    "    return 1 if soup.pre else 0"
   ]
  },
  {
   "cell_type": "markdown",
   "metadata": {
    "deletable": true,
    "editable": true
   },
   "source": [
    "# Running the functions\n",
    "\n",
    "Next we will apply the 2 functions to the pandas dataframe and save it to a new csv file"
   ]
  },
  {
   "cell_type": "code",
   "execution_count": 6,
   "metadata": {
    "collapsed": true,
    "deletable": true,
    "editable": true
   },
   "outputs": [],
   "source": [
    "data['full_text'] = data['Body'].apply(get_string)\n",
    "\n",
    "data['is_code_present'] = data['Body'].apply(is_code_present)"
   ]
  },
  {
   "cell_type": "code",
   "execution_count": 18,
   "metadata": {
    "collapsed": true
   },
   "outputs": [],
   "source": [
    "data.to_csv(TARGET_DATASET, index=False)"
   ]
  },
  {
   "cell_type": "code",
   "execution_count": 7,
   "metadata": {
    "collapsed": false,
    "deletable": true,
    "editable": true
   },
   "outputs": [
    {
     "data": {
      "text/html": [
       "<div>\n",
       "<table border=\"1\" class=\"dataframe\">\n",
       "  <thead>\n",
       "    <tr style=\"text-align: right;\">\n",
       "      <th></th>\n",
       "      <th>Id</th>\n",
       "      <th>OwnerUserId</th>\n",
       "      <th>CreationDate</th>\n",
       "      <th>ParentId</th>\n",
       "      <th>Score</th>\n",
       "      <th>Body</th>\n",
       "      <th>full_text</th>\n",
       "      <th>is_code_present</th>\n",
       "    </tr>\n",
       "  </thead>\n",
       "  <tbody>\n",
       "    <tr>\n",
       "      <th>0</th>\n",
       "      <td>497</td>\n",
       "      <td>50.0</td>\n",
       "      <td>2008-08-02T16:56:53Z</td>\n",
       "      <td>469</td>\n",
       "      <td>4</td>\n",
       "      <td>&lt;p&gt;open up a terminal (Applications-&amp;gt;Utilit...</td>\n",
       "      <td>open up a terminal (Applications-&gt;Utilities-&gt;T...</td>\n",
       "      <td>1</td>\n",
       "    </tr>\n",
       "    <tr>\n",
       "      <th>1</th>\n",
       "      <td>518</td>\n",
       "      <td>153.0</td>\n",
       "      <td>2008-08-02T17:42:28Z</td>\n",
       "      <td>469</td>\n",
       "      <td>2</td>\n",
       "      <td>&lt;p&gt;I haven't been able to find anything that d...</td>\n",
       "      <td>I haven't been able to find anything that does...</td>\n",
       "      <td>0</td>\n",
       "    </tr>\n",
       "    <tr>\n",
       "      <th>2</th>\n",
       "      <td>536</td>\n",
       "      <td>161.0</td>\n",
       "      <td>2008-08-02T18:49:07Z</td>\n",
       "      <td>502</td>\n",
       "      <td>9</td>\n",
       "      <td>&lt;p&gt;You can use ImageMagick's convert utility f...</td>\n",
       "      <td>You can use ImageMagick's convert utility for ...</td>\n",
       "      <td>1</td>\n",
       "    </tr>\n",
       "    <tr>\n",
       "      <th>3</th>\n",
       "      <td>538</td>\n",
       "      <td>156.0</td>\n",
       "      <td>2008-08-02T18:56:56Z</td>\n",
       "      <td>535</td>\n",
       "      <td>23</td>\n",
       "      <td>&lt;p&gt;One possibility is Hudson.  It's written in...</td>\n",
       "      <td>One possibility is Hudson.  It's written in Ja...</td>\n",
       "      <td>0</td>\n",
       "    </tr>\n",
       "    <tr>\n",
       "      <th>4</th>\n",
       "      <td>541</td>\n",
       "      <td>157.0</td>\n",
       "      <td>2008-08-02T19:06:40Z</td>\n",
       "      <td>535</td>\n",
       "      <td>20</td>\n",
       "      <td>&lt;p&gt;We run &lt;a href=\"http://buildbot.net/trac\"&gt;B...</td>\n",
       "      <td>We run Buildbot - Trac at work, I haven't used...</td>\n",
       "      <td>0</td>\n",
       "    </tr>\n",
       "  </tbody>\n",
       "</table>\n",
       "</div>"
      ],
      "text/plain": [
       "    Id  OwnerUserId          CreationDate  ParentId  Score  \\\n",
       "0  497         50.0  2008-08-02T16:56:53Z       469      4   \n",
       "1  518        153.0  2008-08-02T17:42:28Z       469      2   \n",
       "2  536        161.0  2008-08-02T18:49:07Z       502      9   \n",
       "3  538        156.0  2008-08-02T18:56:56Z       535     23   \n",
       "4  541        157.0  2008-08-02T19:06:40Z       535     20   \n",
       "\n",
       "                                                Body  \\\n",
       "0  <p>open up a terminal (Applications-&gt;Utilit...   \n",
       "1  <p>I haven't been able to find anything that d...   \n",
       "2  <p>You can use ImageMagick's convert utility f...   \n",
       "3  <p>One possibility is Hudson.  It's written in...   \n",
       "4  <p>We run <a href=\"http://buildbot.net/trac\">B...   \n",
       "\n",
       "                                           full_text  is_code_present  \n",
       "0  open up a terminal (Applications->Utilities->T...                1  \n",
       "1  I haven't been able to find anything that does...                0  \n",
       "2  You can use ImageMagick's convert utility for ...                1  \n",
       "3  One possibility is Hudson.  It's written in Ja...                0  \n",
       "4  We run Buildbot - Trac at work, I haven't used...                0  "
      ]
     },
     "execution_count": 7,
     "metadata": {},
     "output_type": "execute_result"
    }
   ],
   "source": [
    "data.head()"
   ]
  },
  {
   "cell_type": "markdown",
   "metadata": {
    "deletable": true,
    "editable": true
   },
   "source": [
    "Sanity check on random row"
   ]
  },
  {
   "cell_type": "code",
   "execution_count": 8,
   "metadata": {
    "collapsed": false,
    "deletable": true,
    "editable": true
   },
   "outputs": [
    {
     "name": "stdout",
     "output_type": "stream",
     "text": [
      "<p>In addition to calling os._exit() to avoid the registered exit handler you also need to catch the unhandled exception:</p>\n",
      "\n",
      "<pre><code>import atexit\n",
      "import os\n",
      "\n",
      "def helloworld():\n",
      "    print \"Hello World!\"\n",
      "\n",
      "atexit.register(helloworld)    \n",
      "\n",
      "try:\n",
      "    raise Exception(\"Good bye cruel world!\")\n",
      "\n",
      "except Exception, e:\n",
      "    print 'caught unhandled exception', str(e)\n",
      "\n",
      "    os._exit(1)\n",
      "</code></pre>\n",
      "\n",
      "###################################\n",
      "In addition to calling os._exit() to avoid the registered exit handler you also need to catch the unhandled exception:\n"
     ]
    }
   ],
   "source": [
    "print(data.loc[1024]['Body'])\n",
    "print('###################################')\n",
    "print(data.loc[1024]['full_text'])"
   ]
  },
  {
   "cell_type": "markdown",
   "metadata": {
    "collapsed": true,
    "deletable": true,
    "editable": true
   },
   "source": [
    "# Applying the same for the question dataset\n",
    "\n",
    "Finally, we will just apply the same function to the question dataset"
   ]
  },
  {
   "cell_type": "code",
   "execution_count": 9,
   "metadata": {
    "collapsed": true,
    "deletable": true,
    "editable": true
   },
   "outputs": [],
   "source": [
    "ORIGINAL_DATASET = \"../data/python_questions.csv\"\n",
    "TARGET_DATASET = \"../data/python_questions_new.csv\"\n",
    "\n",
    "data_question = pd.read_csv(ORIGINAL_DATASET, encoding='latin1')"
   ]
  },
  {
   "cell_type": "code",
   "execution_count": 10,
   "metadata": {
    "collapsed": false,
    "deletable": true,
    "editable": true
   },
   "outputs": [
    {
     "data": {
      "text/html": [
       "<div>\n",
       "<table border=\"1\" class=\"dataframe\">\n",
       "  <thead>\n",
       "    <tr style=\"text-align: right;\">\n",
       "      <th></th>\n",
       "      <th>Unnamed: 0</th>\n",
       "      <th>Id</th>\n",
       "      <th>OwnerUserId</th>\n",
       "      <th>CreationDate</th>\n",
       "      <th>Score</th>\n",
       "      <th>Title</th>\n",
       "      <th>Body</th>\n",
       "      <th>Number of Answers</th>\n",
       "      <th>Tags</th>\n",
       "    </tr>\n",
       "  </thead>\n",
       "  <tbody>\n",
       "    <tr>\n",
       "      <th>0</th>\n",
       "      <td>0</td>\n",
       "      <td>469</td>\n",
       "      <td>147.0</td>\n",
       "      <td>2008-08-02T15:11:16Z</td>\n",
       "      <td>21</td>\n",
       "      <td>How can I find the full path to a font from it...</td>\n",
       "      <td>&lt;p&gt;I am using the Photoshop's javascript API t...</td>\n",
       "      <td>4.0</td>\n",
       "      <td>['python', 'osx', 'fonts', 'photoshop']</td>\n",
       "    </tr>\n",
       "    <tr>\n",
       "      <th>1</th>\n",
       "      <td>1</td>\n",
       "      <td>502</td>\n",
       "      <td>147.0</td>\n",
       "      <td>2008-08-02T17:01:58Z</td>\n",
       "      <td>27</td>\n",
       "      <td>Get a preview JPEG of a PDF on Windows?</td>\n",
       "      <td>&lt;p&gt;I have a cross-platform (Python) applicatio...</td>\n",
       "      <td>3.0</td>\n",
       "      <td>['python', 'windows', 'image', 'pdf']</td>\n",
       "    </tr>\n",
       "    <tr>\n",
       "      <th>2</th>\n",
       "      <td>2</td>\n",
       "      <td>535</td>\n",
       "      <td>154.0</td>\n",
       "      <td>2008-08-02T18:43:54Z</td>\n",
       "      <td>40</td>\n",
       "      <td>Continuous Integration System for a Python Cod...</td>\n",
       "      <td>&lt;p&gt;I'm starting work on a hobby project with a...</td>\n",
       "      <td>7.0</td>\n",
       "      <td>['python', 'continuous-integration', 'extreme-...</td>\n",
       "    </tr>\n",
       "    <tr>\n",
       "      <th>3</th>\n",
       "      <td>3</td>\n",
       "      <td>594</td>\n",
       "      <td>116.0</td>\n",
       "      <td>2008-08-03T01:15:08Z</td>\n",
       "      <td>25</td>\n",
       "      <td>cx_Oracle: How do I iterate over a result set?</td>\n",
       "      <td>&lt;p&gt;There are several ways to iterate over a re...</td>\n",
       "      <td>3.0</td>\n",
       "      <td>['python', 'sql', 'database', 'oracle', 'cx-or...</td>\n",
       "    </tr>\n",
       "    <tr>\n",
       "      <th>4</th>\n",
       "      <td>4</td>\n",
       "      <td>683</td>\n",
       "      <td>199.0</td>\n",
       "      <td>2008-08-03T13:19:16Z</td>\n",
       "      <td>28</td>\n",
       "      <td>Using 'in' to match an attribute of Python obj...</td>\n",
       "      <td>&lt;p&gt;I don't remember whether I was dreaming or ...</td>\n",
       "      <td>8.0</td>\n",
       "      <td>['python', 'arrays', 'iteration']</td>\n",
       "    </tr>\n",
       "  </tbody>\n",
       "</table>\n",
       "</div>"
      ],
      "text/plain": [
       "   Unnamed: 0   Id  OwnerUserId          CreationDate  Score  \\\n",
       "0           0  469        147.0  2008-08-02T15:11:16Z     21   \n",
       "1           1  502        147.0  2008-08-02T17:01:58Z     27   \n",
       "2           2  535        154.0  2008-08-02T18:43:54Z     40   \n",
       "3           3  594        116.0  2008-08-03T01:15:08Z     25   \n",
       "4           4  683        199.0  2008-08-03T13:19:16Z     28   \n",
       "\n",
       "                                               Title  \\\n",
       "0  How can I find the full path to a font from it...   \n",
       "1            Get a preview JPEG of a PDF on Windows?   \n",
       "2  Continuous Integration System for a Python Cod...   \n",
       "3     cx_Oracle: How do I iterate over a result set?   \n",
       "4  Using 'in' to match an attribute of Python obj...   \n",
       "\n",
       "                                                Body  Number of Answers  \\\n",
       "0  <p>I am using the Photoshop's javascript API t...                4.0   \n",
       "1  <p>I have a cross-platform (Python) applicatio...                3.0   \n",
       "2  <p>I'm starting work on a hobby project with a...                7.0   \n",
       "3  <p>There are several ways to iterate over a re...                3.0   \n",
       "4  <p>I don't remember whether I was dreaming or ...                8.0   \n",
       "\n",
       "                                                Tags  \n",
       "0            ['python', 'osx', 'fonts', 'photoshop']  \n",
       "1              ['python', 'windows', 'image', 'pdf']  \n",
       "2  ['python', 'continuous-integration', 'extreme-...  \n",
       "3  ['python', 'sql', 'database', 'oracle', 'cx-or...  \n",
       "4                  ['python', 'arrays', 'iteration']  "
      ]
     },
     "execution_count": 10,
     "metadata": {},
     "output_type": "execute_result"
    }
   ],
   "source": [
    "data_question.head()"
   ]
  },
  {
   "cell_type": "code",
   "execution_count": null,
   "metadata": {
    "collapsed": true,
    "deletable": true,
    "editable": true
   },
   "outputs": [],
   "source": [
    "data_question['full_text'] = data_question['Body'].apply(get_string)\n",
    "\n",
    "data_question['is_code_present'] = data_question['Body'].apply(is_code_present)"
   ]
  },
  {
   "cell_type": "code",
   "execution_count": 12,
   "metadata": {
    "collapsed": false,
    "deletable": true,
    "editable": true
   },
   "outputs": [
    {
     "data": {
      "text/html": [
       "<div>\n",
       "<table border=\"1\" class=\"dataframe\">\n",
       "  <thead>\n",
       "    <tr style=\"text-align: right;\">\n",
       "      <th></th>\n",
       "      <th>Unnamed: 0</th>\n",
       "      <th>Id</th>\n",
       "      <th>OwnerUserId</th>\n",
       "      <th>CreationDate</th>\n",
       "      <th>Score</th>\n",
       "      <th>Title</th>\n",
       "      <th>Body</th>\n",
       "      <th>Number of Answers</th>\n",
       "      <th>Tags</th>\n",
       "      <th>full_text</th>\n",
       "      <th>is_code_present</th>\n",
       "    </tr>\n",
       "  </thead>\n",
       "  <tbody>\n",
       "    <tr>\n",
       "      <th>0</th>\n",
       "      <td>0</td>\n",
       "      <td>469</td>\n",
       "      <td>147.0</td>\n",
       "      <td>2008-08-02T15:11:16Z</td>\n",
       "      <td>21</td>\n",
       "      <td>How can I find the full path to a font from it...</td>\n",
       "      <td>&lt;p&gt;I am using the Photoshop's javascript API t...</td>\n",
       "      <td>4.0</td>\n",
       "      <td>['python', 'osx', 'fonts', 'photoshop']</td>\n",
       "      <td>I am using the Photoshop's javascript API to f...</td>\n",
       "      <td>0</td>\n",
       "    </tr>\n",
       "    <tr>\n",
       "      <th>1</th>\n",
       "      <td>1</td>\n",
       "      <td>502</td>\n",
       "      <td>147.0</td>\n",
       "      <td>2008-08-02T17:01:58Z</td>\n",
       "      <td>27</td>\n",
       "      <td>Get a preview JPEG of a PDF on Windows?</td>\n",
       "      <td>&lt;p&gt;I have a cross-platform (Python) applicatio...</td>\n",
       "      <td>3.0</td>\n",
       "      <td>['python', 'windows', 'image', 'pdf']</td>\n",
       "      <td>I have a cross-platform (Python) application w...</td>\n",
       "      <td>0</td>\n",
       "    </tr>\n",
       "    <tr>\n",
       "      <th>2</th>\n",
       "      <td>2</td>\n",
       "      <td>535</td>\n",
       "      <td>154.0</td>\n",
       "      <td>2008-08-02T18:43:54Z</td>\n",
       "      <td>40</td>\n",
       "      <td>Continuous Integration System for a Python Cod...</td>\n",
       "      <td>&lt;p&gt;I'm starting work on a hobby project with a...</td>\n",
       "      <td>7.0</td>\n",
       "      <td>['python', 'continuous-integration', 'extreme-...</td>\n",
       "      <td>I'm starting work on a hobby project with a py...</td>\n",
       "      <td>0</td>\n",
       "    </tr>\n",
       "    <tr>\n",
       "      <th>3</th>\n",
       "      <td>3</td>\n",
       "      <td>594</td>\n",
       "      <td>116.0</td>\n",
       "      <td>2008-08-03T01:15:08Z</td>\n",
       "      <td>25</td>\n",
       "      <td>cx_Oracle: How do I iterate over a result set?</td>\n",
       "      <td>&lt;p&gt;There are several ways to iterate over a re...</td>\n",
       "      <td>3.0</td>\n",
       "      <td>['python', 'sql', 'database', 'oracle', 'cx-or...</td>\n",
       "      <td>There are several ways to iterate over a resul...</td>\n",
       "      <td>0</td>\n",
       "    </tr>\n",
       "    <tr>\n",
       "      <th>4</th>\n",
       "      <td>4</td>\n",
       "      <td>683</td>\n",
       "      <td>199.0</td>\n",
       "      <td>2008-08-03T13:19:16Z</td>\n",
       "      <td>28</td>\n",
       "      <td>Using 'in' to match an attribute of Python obj...</td>\n",
       "      <td>&lt;p&gt;I don't remember whether I was dreaming or ...</td>\n",
       "      <td>8.0</td>\n",
       "      <td>['python', 'arrays', 'iteration']</td>\n",
       "      <td>I don't remember whether I was dreaming or not...</td>\n",
       "      <td>1</td>\n",
       "    </tr>\n",
       "  </tbody>\n",
       "</table>\n",
       "</div>"
      ],
      "text/plain": [
       "   Unnamed: 0   Id  OwnerUserId          CreationDate  Score  \\\n",
       "0           0  469        147.0  2008-08-02T15:11:16Z     21   \n",
       "1           1  502        147.0  2008-08-02T17:01:58Z     27   \n",
       "2           2  535        154.0  2008-08-02T18:43:54Z     40   \n",
       "3           3  594        116.0  2008-08-03T01:15:08Z     25   \n",
       "4           4  683        199.0  2008-08-03T13:19:16Z     28   \n",
       "\n",
       "                                               Title  \\\n",
       "0  How can I find the full path to a font from it...   \n",
       "1            Get a preview JPEG of a PDF on Windows?   \n",
       "2  Continuous Integration System for a Python Cod...   \n",
       "3     cx_Oracle: How do I iterate over a result set?   \n",
       "4  Using 'in' to match an attribute of Python obj...   \n",
       "\n",
       "                                                Body  Number of Answers  \\\n",
       "0  <p>I am using the Photoshop's javascript API t...                4.0   \n",
       "1  <p>I have a cross-platform (Python) applicatio...                3.0   \n",
       "2  <p>I'm starting work on a hobby project with a...                7.0   \n",
       "3  <p>There are several ways to iterate over a re...                3.0   \n",
       "4  <p>I don't remember whether I was dreaming or ...                8.0   \n",
       "\n",
       "                                                Tags  \\\n",
       "0            ['python', 'osx', 'fonts', 'photoshop']   \n",
       "1              ['python', 'windows', 'image', 'pdf']   \n",
       "2  ['python', 'continuous-integration', 'extreme-...   \n",
       "3  ['python', 'sql', 'database', 'oracle', 'cx-or...   \n",
       "4                  ['python', 'arrays', 'iteration']   \n",
       "\n",
       "                                           full_text  is_code_present  \n",
       "0  I am using the Photoshop's javascript API to f...                0  \n",
       "1  I have a cross-platform (Python) application w...                0  \n",
       "2  I'm starting work on a hobby project with a py...                0  \n",
       "3  There are several ways to iterate over a resul...                0  \n",
       "4  I don't remember whether I was dreaming or not...                1  "
      ]
     },
     "execution_count": 12,
     "metadata": {},
     "output_type": "execute_result"
    }
   ],
   "source": [
    "data_question.head()"
   ]
  },
  {
   "cell_type": "code",
   "execution_count": 13,
   "metadata": {
    "collapsed": false,
    "deletable": true,
    "editable": true
   },
   "outputs": [
    {
     "name": "stdout",
     "output_type": "stream",
     "text": [
      "<p>I started off programming in Basic on the <a href=\"http://en.wikipedia.org/wiki/ZX81\" rel=\"nofollow\">ZX81</a>, then <a href=\"http://en.wikipedia.org/wiki/IBM_BASICA\" rel=\"nofollow\">BASICA</a>, <a href=\"http://en.wikipedia.org/wiki/GW-BASIC\" rel=\"nofollow\">GW-BASIC</a>, and <a href=\"http://en.wikipedia.org/wiki/QBasic\" rel=\"nofollow\">QBasic</a>.  I moved on to C (Ah, Turbo C 3.1, I hardly knew ye...)</p>\n",
      "\n",
      "<p>When I got started in microcontrollers I regressed with the <a href=\"http://en.wikipedia.org/wiki/BASIC_Stamp\" rel=\"nofollow\">BASIC Stamp</a> from Parallax.  However, BASIC is/was awesome because it was so easy to understand and so hard to make a mistake.  I moved on to assembly and C eventually because I needed the additional power (speed, capacity, resources, etc.), but I know that if the bar was much higher many people would never get into programming microcontrollers.</p>\n",
      "\n",
      "<p>I keep getting an itch to make my own on-chip BASIC interpretor, but I wonder if there's need for BASIC now that Lua and Python are easily embeddable, and just as approachable as BASIC.</p>\n",
      "\n",
      "<ul>\n",
      "<li>What, if any, are the advantages BASIC has over other languages? </li>\n",
      "<li>Why is it still around?  </li>\n",
      "<li>If I decide to make a general purpose microcontroller board with an interpreter, is there any reason to make a version of BASIC?</li>\n",
      "</ul>\n",
      "\n",
      "<p>Plenty of other languages are considered dead, but BASIC just keeps hanging on.</p>\n",
      "\n",
      "###################################\n",
      "I started off programming in Basic on the ZX81, then BASICA, GW-BASIC, and QBasic.  I moved on to C (Ah, Turbo C 3.1, I hardly knew ye...)When I got started in microcontrollers I regressed with the BASIC Stamp from Parallax.  However, BASIC is/was awesome because it was so easy to understand and so hard to make a mistake.  I moved on to assembly and C eventually because I needed the additional power (speed, capacity, resources, etc.), but I know that if the bar was much higher many people would never get into programming microcontrollers.I keep getting an itch to make my own on-chip BASIC interpretor, but I wonder if there's need for BASIC now that Lua and Python are easily embeddable, and just as approachable as BASIC.Plenty of other languages are considered dead, but BASIC just keeps hanging on.\n"
     ]
    }
   ],
   "source": [
    "print(data_question.loc[1024]['Body'])\n",
    "print('###################################')\n",
    "print(data_question.loc[1024]['full_text'])"
   ]
  },
  {
   "cell_type": "code",
   "execution_count": 14,
   "metadata": {
    "collapsed": false,
    "deletable": true,
    "editable": true
   },
   "outputs": [
    {
     "data": {
      "text/html": [
       "<div>\n",
       "<table border=\"1\" class=\"dataframe\">\n",
       "  <thead>\n",
       "    <tr style=\"text-align: right;\">\n",
       "      <th></th>\n",
       "      <th>Unnamed: 0</th>\n",
       "      <th>Id</th>\n",
       "      <th>OwnerUserId</th>\n",
       "      <th>CreationDate</th>\n",
       "      <th>Score</th>\n",
       "      <th>Title</th>\n",
       "      <th>Body</th>\n",
       "      <th>Number of Answers</th>\n",
       "      <th>Tags</th>\n",
       "      <th>full_text</th>\n",
       "      <th>is_code_present</th>\n",
       "    </tr>\n",
       "  </thead>\n",
       "  <tbody>\n",
       "    <tr>\n",
       "      <th>0</th>\n",
       "      <td>0</td>\n",
       "      <td>469</td>\n",
       "      <td>147.0</td>\n",
       "      <td>2008-08-02T15:11:16Z</td>\n",
       "      <td>21</td>\n",
       "      <td>How can I find the full path to a font from it...</td>\n",
       "      <td>&lt;p&gt;I am using the Photoshop's javascript API t...</td>\n",
       "      <td>4.0</td>\n",
       "      <td>['python', 'osx', 'fonts', 'photoshop']</td>\n",
       "      <td>I am using the Photoshop's javascript API to f...</td>\n",
       "      <td>0</td>\n",
       "    </tr>\n",
       "    <tr>\n",
       "      <th>1</th>\n",
       "      <td>1</td>\n",
       "      <td>502</td>\n",
       "      <td>147.0</td>\n",
       "      <td>2008-08-02T17:01:58Z</td>\n",
       "      <td>27</td>\n",
       "      <td>Get a preview JPEG of a PDF on Windows?</td>\n",
       "      <td>&lt;p&gt;I have a cross-platform (Python) applicatio...</td>\n",
       "      <td>3.0</td>\n",
       "      <td>['python', 'windows', 'image', 'pdf']</td>\n",
       "      <td>I have a cross-platform (Python) application w...</td>\n",
       "      <td>0</td>\n",
       "    </tr>\n",
       "    <tr>\n",
       "      <th>2</th>\n",
       "      <td>2</td>\n",
       "      <td>535</td>\n",
       "      <td>154.0</td>\n",
       "      <td>2008-08-02T18:43:54Z</td>\n",
       "      <td>40</td>\n",
       "      <td>Continuous Integration System for a Python Cod...</td>\n",
       "      <td>&lt;p&gt;I'm starting work on a hobby project with a...</td>\n",
       "      <td>7.0</td>\n",
       "      <td>['python', 'continuous-integration', 'extreme-...</td>\n",
       "      <td>I'm starting work on a hobby project with a py...</td>\n",
       "      <td>0</td>\n",
       "    </tr>\n",
       "    <tr>\n",
       "      <th>3</th>\n",
       "      <td>3</td>\n",
       "      <td>594</td>\n",
       "      <td>116.0</td>\n",
       "      <td>2008-08-03T01:15:08Z</td>\n",
       "      <td>25</td>\n",
       "      <td>cx_Oracle: How do I iterate over a result set?</td>\n",
       "      <td>&lt;p&gt;There are several ways to iterate over a re...</td>\n",
       "      <td>3.0</td>\n",
       "      <td>['python', 'sql', 'database', 'oracle', 'cx-or...</td>\n",
       "      <td>There are several ways to iterate over a resul...</td>\n",
       "      <td>0</td>\n",
       "    </tr>\n",
       "    <tr>\n",
       "      <th>4</th>\n",
       "      <td>4</td>\n",
       "      <td>683</td>\n",
       "      <td>199.0</td>\n",
       "      <td>2008-08-03T13:19:16Z</td>\n",
       "      <td>28</td>\n",
       "      <td>Using 'in' to match an attribute of Python obj...</td>\n",
       "      <td>&lt;p&gt;I don't remember whether I was dreaming or ...</td>\n",
       "      <td>8.0</td>\n",
       "      <td>['python', 'arrays', 'iteration']</td>\n",
       "      <td>I don't remember whether I was dreaming or not...</td>\n",
       "      <td>1</td>\n",
       "    </tr>\n",
       "  </tbody>\n",
       "</table>\n",
       "</div>"
      ],
      "text/plain": [
       "   Unnamed: 0   Id  OwnerUserId          CreationDate  Score  \\\n",
       "0           0  469        147.0  2008-08-02T15:11:16Z     21   \n",
       "1           1  502        147.0  2008-08-02T17:01:58Z     27   \n",
       "2           2  535        154.0  2008-08-02T18:43:54Z     40   \n",
       "3           3  594        116.0  2008-08-03T01:15:08Z     25   \n",
       "4           4  683        199.0  2008-08-03T13:19:16Z     28   \n",
       "\n",
       "                                               Title  \\\n",
       "0  How can I find the full path to a font from it...   \n",
       "1            Get a preview JPEG of a PDF on Windows?   \n",
       "2  Continuous Integration System for a Python Cod...   \n",
       "3     cx_Oracle: How do I iterate over a result set?   \n",
       "4  Using 'in' to match an attribute of Python obj...   \n",
       "\n",
       "                                                Body  Number of Answers  \\\n",
       "0  <p>I am using the Photoshop's javascript API t...                4.0   \n",
       "1  <p>I have a cross-platform (Python) applicatio...                3.0   \n",
       "2  <p>I'm starting work on a hobby project with a...                7.0   \n",
       "3  <p>There are several ways to iterate over a re...                3.0   \n",
       "4  <p>I don't remember whether I was dreaming or ...                8.0   \n",
       "\n",
       "                                                Tags  \\\n",
       "0            ['python', 'osx', 'fonts', 'photoshop']   \n",
       "1              ['python', 'windows', 'image', 'pdf']   \n",
       "2  ['python', 'continuous-integration', 'extreme-...   \n",
       "3  ['python', 'sql', 'database', 'oracle', 'cx-or...   \n",
       "4                  ['python', 'arrays', 'iteration']   \n",
       "\n",
       "                                           full_text  is_code_present  \n",
       "0  I am using the Photoshop's javascript API to f...                0  \n",
       "1  I have a cross-platform (Python) application w...                0  \n",
       "2  I'm starting work on a hobby project with a py...                0  \n",
       "3  There are several ways to iterate over a resul...                0  \n",
       "4  I don't remember whether I was dreaming or not...                1  "
      ]
     },
     "execution_count": 14,
     "metadata": {},
     "output_type": "execute_result"
    }
   ],
   "source": [
    "data_question.head()"
   ]
  },
  {
   "cell_type": "markdown",
   "metadata": {
    "deletable": true,
    "editable": true
   },
   "source": [
    "Unnecessary column (Unnamed:0). Let's delete it"
   ]
  },
  {
   "cell_type": "code",
   "execution_count": 15,
   "metadata": {
    "collapsed": true,
    "deletable": true,
    "editable": true
   },
   "outputs": [],
   "source": [
    "del data_question['Unnamed: 0']"
   ]
  },
  {
   "cell_type": "code",
   "execution_count": 16,
   "metadata": {
    "collapsed": false,
    "deletable": true,
    "editable": true
   },
   "outputs": [
    {
     "data": {
      "text/html": [
       "<div>\n",
       "<table border=\"1\" class=\"dataframe\">\n",
       "  <thead>\n",
       "    <tr style=\"text-align: right;\">\n",
       "      <th></th>\n",
       "      <th>Id</th>\n",
       "      <th>OwnerUserId</th>\n",
       "      <th>CreationDate</th>\n",
       "      <th>Score</th>\n",
       "      <th>Title</th>\n",
       "      <th>Body</th>\n",
       "      <th>Number of Answers</th>\n",
       "      <th>Tags</th>\n",
       "      <th>full_text</th>\n",
       "      <th>is_code_present</th>\n",
       "    </tr>\n",
       "  </thead>\n",
       "  <tbody>\n",
       "    <tr>\n",
       "      <th>0</th>\n",
       "      <td>469</td>\n",
       "      <td>147.0</td>\n",
       "      <td>2008-08-02T15:11:16Z</td>\n",
       "      <td>21</td>\n",
       "      <td>How can I find the full path to a font from it...</td>\n",
       "      <td>&lt;p&gt;I am using the Photoshop's javascript API t...</td>\n",
       "      <td>4.0</td>\n",
       "      <td>['python', 'osx', 'fonts', 'photoshop']</td>\n",
       "      <td>I am using the Photoshop's javascript API to f...</td>\n",
       "      <td>0</td>\n",
       "    </tr>\n",
       "    <tr>\n",
       "      <th>1</th>\n",
       "      <td>502</td>\n",
       "      <td>147.0</td>\n",
       "      <td>2008-08-02T17:01:58Z</td>\n",
       "      <td>27</td>\n",
       "      <td>Get a preview JPEG of a PDF on Windows?</td>\n",
       "      <td>&lt;p&gt;I have a cross-platform (Python) applicatio...</td>\n",
       "      <td>3.0</td>\n",
       "      <td>['python', 'windows', 'image', 'pdf']</td>\n",
       "      <td>I have a cross-platform (Python) application w...</td>\n",
       "      <td>0</td>\n",
       "    </tr>\n",
       "    <tr>\n",
       "      <th>2</th>\n",
       "      <td>535</td>\n",
       "      <td>154.0</td>\n",
       "      <td>2008-08-02T18:43:54Z</td>\n",
       "      <td>40</td>\n",
       "      <td>Continuous Integration System for a Python Cod...</td>\n",
       "      <td>&lt;p&gt;I'm starting work on a hobby project with a...</td>\n",
       "      <td>7.0</td>\n",
       "      <td>['python', 'continuous-integration', 'extreme-...</td>\n",
       "      <td>I'm starting work on a hobby project with a py...</td>\n",
       "      <td>0</td>\n",
       "    </tr>\n",
       "    <tr>\n",
       "      <th>3</th>\n",
       "      <td>594</td>\n",
       "      <td>116.0</td>\n",
       "      <td>2008-08-03T01:15:08Z</td>\n",
       "      <td>25</td>\n",
       "      <td>cx_Oracle: How do I iterate over a result set?</td>\n",
       "      <td>&lt;p&gt;There are several ways to iterate over a re...</td>\n",
       "      <td>3.0</td>\n",
       "      <td>['python', 'sql', 'database', 'oracle', 'cx-or...</td>\n",
       "      <td>There are several ways to iterate over a resul...</td>\n",
       "      <td>0</td>\n",
       "    </tr>\n",
       "    <tr>\n",
       "      <th>4</th>\n",
       "      <td>683</td>\n",
       "      <td>199.0</td>\n",
       "      <td>2008-08-03T13:19:16Z</td>\n",
       "      <td>28</td>\n",
       "      <td>Using 'in' to match an attribute of Python obj...</td>\n",
       "      <td>&lt;p&gt;I don't remember whether I was dreaming or ...</td>\n",
       "      <td>8.0</td>\n",
       "      <td>['python', 'arrays', 'iteration']</td>\n",
       "      <td>I don't remember whether I was dreaming or not...</td>\n",
       "      <td>1</td>\n",
       "    </tr>\n",
       "  </tbody>\n",
       "</table>\n",
       "</div>"
      ],
      "text/plain": [
       "    Id  OwnerUserId          CreationDate  Score  \\\n",
       "0  469        147.0  2008-08-02T15:11:16Z     21   \n",
       "1  502        147.0  2008-08-02T17:01:58Z     27   \n",
       "2  535        154.0  2008-08-02T18:43:54Z     40   \n",
       "3  594        116.0  2008-08-03T01:15:08Z     25   \n",
       "4  683        199.0  2008-08-03T13:19:16Z     28   \n",
       "\n",
       "                                               Title  \\\n",
       "0  How can I find the full path to a font from it...   \n",
       "1            Get a preview JPEG of a PDF on Windows?   \n",
       "2  Continuous Integration System for a Python Cod...   \n",
       "3     cx_Oracle: How do I iterate over a result set?   \n",
       "4  Using 'in' to match an attribute of Python obj...   \n",
       "\n",
       "                                                Body  Number of Answers  \\\n",
       "0  <p>I am using the Photoshop's javascript API t...                4.0   \n",
       "1  <p>I have a cross-platform (Python) applicatio...                3.0   \n",
       "2  <p>I'm starting work on a hobby project with a...                7.0   \n",
       "3  <p>There are several ways to iterate over a re...                3.0   \n",
       "4  <p>I don't remember whether I was dreaming or ...                8.0   \n",
       "\n",
       "                                                Tags  \\\n",
       "0            ['python', 'osx', 'fonts', 'photoshop']   \n",
       "1              ['python', 'windows', 'image', 'pdf']   \n",
       "2  ['python', 'continuous-integration', 'extreme-...   \n",
       "3  ['python', 'sql', 'database', 'oracle', 'cx-or...   \n",
       "4                  ['python', 'arrays', 'iteration']   \n",
       "\n",
       "                                           full_text  is_code_present  \n",
       "0  I am using the Photoshop's javascript API to f...                0  \n",
       "1  I have a cross-platform (Python) application w...                0  \n",
       "2  I'm starting work on a hobby project with a py...                0  \n",
       "3  There are several ways to iterate over a resul...                0  \n",
       "4  I don't remember whether I was dreaming or not...                1  "
      ]
     },
     "execution_count": 16,
     "metadata": {},
     "output_type": "execute_result"
    }
   ],
   "source": [
    "data_question.head()"
   ]
  },
  {
   "cell_type": "code",
   "execution_count": 19,
   "metadata": {
    "collapsed": true,
    "deletable": true,
    "editable": true
   },
   "outputs": [],
   "source": [
    "data_question.to_csv(TARGET_DATASET, index=False)"
   ]
  },
  {
   "cell_type": "code",
   "execution_count": null,
   "metadata": {
    "collapsed": true,
    "deletable": true,
    "editable": true
   },
   "outputs": [],
   "source": []
  }
 ],
 "metadata": {
  "kernelspec": {
   "display_name": "Python 3",
   "language": "python",
   "name": "python3"
  },
  "language_info": {
   "codemirror_mode": {
    "name": "ipython",
    "version": 3
   },
   "file_extension": ".py",
   "mimetype": "text/x-python",
   "name": "python",
   "nbconvert_exporter": "python",
   "pygments_lexer": "ipython3",
   "version": "3.5.2"
  }
 },
 "nbformat": 4,
 "nbformat_minor": 2
}
