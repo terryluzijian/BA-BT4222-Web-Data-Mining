{
 "cells": [
  {
   "cell_type": "markdown",
   "metadata": {},
   "source": [
    "# Users"
   ]
  },
  {
   "cell_type": "code",
   "execution_count": 1,
   "metadata": {
    "collapsed": false
   },
   "outputs": [],
   "source": [
    "#Specify all data paths\n",
    "stackQ_path = \"/Users/Ye/Desktop/BT4222/Project/SampleQuestions.csv\"\n",
    "stackA_path = \"/Users/Ye/Desktop/BT4222/Project/SampleAnswers.csv\"\n",
    "users_path = \"/Users/Ye/Desktop/BT4222/Project/Users.csv\"\n",
    "badges_path = \"/Users/Ye/Desktop/BT4222/Project/Badges.csv\""
   ]
  },
  {
   "cell_type": "markdown",
   "metadata": {},
   "source": [
    "## Preprocessing"
   ]
  },
  {
   "cell_type": "code",
   "execution_count": 2,
   "metadata": {
    "collapsed": true
   },
   "outputs": [],
   "source": [
    "#import all packages needed\n",
    "import pandas as pd\n",
    "import numpy as np\n",
    "import datetime as dt"
   ]
  },
  {
   "cell_type": "code",
   "execution_count": 3,
   "metadata": {
    "collapsed": false
   },
   "outputs": [],
   "source": [
    "# stack_question = pd.read_csv(stackQ_path).rename(columns={'OwnerUserId':'UserID'})\n",
    "# stack_answer = pd.read_csv(stackA_path).rename(columns={'OwnerUserId':'UserID'})"
   ]
  },
  {
   "cell_type": "code",
   "execution_count": 4,
   "metadata": {
    "collapsed": false
   },
   "outputs": [],
   "source": [
    "# %store stack_question\n",
    "# %store stack_answer"
   ]
  },
  {
   "cell_type": "code",
   "execution_count": 5,
   "metadata": {
    "collapsed": true
   },
   "outputs": [],
   "source": [
    "# %store -r stack_question\n",
    "# %store -r stack_answer"
   ]
  },
  {
   "cell_type": "code",
   "execution_count": 6,
   "metadata": {
    "collapsed": false
   },
   "outputs": [
    {
     "data": {
      "text/html": [
       "<div>\n",
       "<table border=\"1\" class=\"dataframe\">\n",
       "  <thead>\n",
       "    <tr style=\"text-align: right;\">\n",
       "      <th></th>\n",
       "      <th>Id</th>\n",
       "      <th>UserID</th>\n",
       "      <th>CreationDate</th>\n",
       "      <th>ClosedDate</th>\n",
       "      <th>Score</th>\n",
       "      <th>Title</th>\n",
       "      <th>Body</th>\n",
       "    </tr>\n",
       "  </thead>\n",
       "  <tbody>\n",
       "    <tr>\n",
       "      <th>0</th>\n",
       "      <td>80</td>\n",
       "      <td>26.0</td>\n",
       "      <td>2008-08-01T13:57:07Z</td>\n",
       "      <td>NaN</td>\n",
       "      <td>26</td>\n",
       "      <td>SQLStatement.execute() - multiple queries in o...</td>\n",
       "      <td>&lt;p&gt;I've written a database generation script i...</td>\n",
       "    </tr>\n",
       "    <tr>\n",
       "      <th>1</th>\n",
       "      <td>90</td>\n",
       "      <td>58.0</td>\n",
       "      <td>2008-08-01T14:41:24Z</td>\n",
       "      <td>2012-12-26T03:45:49Z</td>\n",
       "      <td>144</td>\n",
       "      <td>Good branching and merging tutorials for Torto...</td>\n",
       "      <td>&lt;p&gt;Are there any really good tutorials explain...</td>\n",
       "    </tr>\n",
       "    <tr>\n",
       "      <th>2</th>\n",
       "      <td>120</td>\n",
       "      <td>83.0</td>\n",
       "      <td>2008-08-01T15:50:08Z</td>\n",
       "      <td>NaN</td>\n",
       "      <td>21</td>\n",
       "      <td>ASP.NET Site Maps</td>\n",
       "      <td>&lt;p&gt;Has anyone got experience creating &lt;strong&gt;...</td>\n",
       "    </tr>\n",
       "    <tr>\n",
       "      <th>3</th>\n",
       "      <td>180</td>\n",
       "      <td>2089740.0</td>\n",
       "      <td>2008-08-01T18:42:19Z</td>\n",
       "      <td>NaN</td>\n",
       "      <td>53</td>\n",
       "      <td>Function for creating color wheels</td>\n",
       "      <td>&lt;p&gt;This is something I've pseudo-solved many t...</td>\n",
       "    </tr>\n",
       "    <tr>\n",
       "      <th>4</th>\n",
       "      <td>260</td>\n",
       "      <td>91.0</td>\n",
       "      <td>2008-08-01T23:22:08Z</td>\n",
       "      <td>NaN</td>\n",
       "      <td>49</td>\n",
       "      <td>Adding scripting functionality to .NET applica...</td>\n",
       "      <td>&lt;p&gt;I have a little game written in C#. It uses...</td>\n",
       "    </tr>\n",
       "  </tbody>\n",
       "</table>\n",
       "</div>"
      ],
      "text/plain": [
       "    Id     UserID          CreationDate            ClosedDate  Score  \\\n",
       "0   80       26.0  2008-08-01T13:57:07Z                   NaN     26   \n",
       "1   90       58.0  2008-08-01T14:41:24Z  2012-12-26T03:45:49Z    144   \n",
       "2  120       83.0  2008-08-01T15:50:08Z                   NaN     21   \n",
       "3  180  2089740.0  2008-08-01T18:42:19Z                   NaN     53   \n",
       "4  260       91.0  2008-08-01T23:22:08Z                   NaN     49   \n",
       "\n",
       "                                               Title  \\\n",
       "0  SQLStatement.execute() - multiple queries in o...   \n",
       "1  Good branching and merging tutorials for Torto...   \n",
       "2                                  ASP.NET Site Maps   \n",
       "3                 Function for creating color wheels   \n",
       "4  Adding scripting functionality to .NET applica...   \n",
       "\n",
       "                                                Body  \n",
       "0  <p>I've written a database generation script i...  \n",
       "1  <p>Are there any really good tutorials explain...  \n",
       "2  <p>Has anyone got experience creating <strong>...  \n",
       "3  <p>This is something I've pseudo-solved many t...  \n",
       "4  <p>I have a little game written in C#. It uses...  "
      ]
     },
     "execution_count": 6,
     "metadata": {},
     "output_type": "execute_result"
    }
   ],
   "source": [
    "# stack_question.head()"
   ]
  },
  {
   "cell_type": "code",
   "execution_count": 7,
   "metadata": {
    "collapsed": false
   },
   "outputs": [
    {
     "data": {
      "text/html": [
       "<div>\n",
       "<table border=\"1\" class=\"dataframe\">\n",
       "  <thead>\n",
       "    <tr style=\"text-align: right;\">\n",
       "      <th></th>\n",
       "      <th>Id</th>\n",
       "      <th>UserID</th>\n",
       "      <th>CreationDate</th>\n",
       "      <th>ParentId</th>\n",
       "      <th>Score</th>\n",
       "      <th>Body</th>\n",
       "    </tr>\n",
       "  </thead>\n",
       "  <tbody>\n",
       "    <tr>\n",
       "      <th>0</th>\n",
       "      <td>92</td>\n",
       "      <td>61.0</td>\n",
       "      <td>2008-08-01T14:45:37Z</td>\n",
       "      <td>90</td>\n",
       "      <td>13</td>\n",
       "      <td>&lt;p&gt;&lt;a href=\"http://svnbook.red-bean.com/\"&gt;Vers...</td>\n",
       "    </tr>\n",
       "    <tr>\n",
       "      <th>1</th>\n",
       "      <td>124</td>\n",
       "      <td>26.0</td>\n",
       "      <td>2008-08-01T16:09:47Z</td>\n",
       "      <td>80</td>\n",
       "      <td>12</td>\n",
       "      <td>&lt;p&gt;I wound up using this. It is a kind of a ha...</td>\n",
       "    </tr>\n",
       "    <tr>\n",
       "      <th>2</th>\n",
       "      <td>199</td>\n",
       "      <td>50.0</td>\n",
       "      <td>2008-08-01T19:36:46Z</td>\n",
       "      <td>180</td>\n",
       "      <td>1</td>\n",
       "      <td>&lt;p&gt;I've read somewhere the human eye can't dis...</td>\n",
       "    </tr>\n",
       "    <tr>\n",
       "      <th>3</th>\n",
       "      <td>269</td>\n",
       "      <td>91.0</td>\n",
       "      <td>2008-08-01T23:49:57Z</td>\n",
       "      <td>260</td>\n",
       "      <td>4</td>\n",
       "      <td>&lt;p&gt;Yes, I thought about that, but I soon figur...</td>\n",
       "    </tr>\n",
       "    <tr>\n",
       "      <th>4</th>\n",
       "      <td>307</td>\n",
       "      <td>49.0</td>\n",
       "      <td>2008-08-02T01:49:46Z</td>\n",
       "      <td>260</td>\n",
       "      <td>28</td>\n",
       "      <td>&lt;p&gt;&lt;a href=\"http://www.codeproject.com/Article...</td>\n",
       "    </tr>\n",
       "  </tbody>\n",
       "</table>\n",
       "</div>"
      ],
      "text/plain": [
       "    Id  UserID          CreationDate  ParentId  Score  \\\n",
       "0   92    61.0  2008-08-01T14:45:37Z        90     13   \n",
       "1  124    26.0  2008-08-01T16:09:47Z        80     12   \n",
       "2  199    50.0  2008-08-01T19:36:46Z       180      1   \n",
       "3  269    91.0  2008-08-01T23:49:57Z       260      4   \n",
       "4  307    49.0  2008-08-02T01:49:46Z       260     28   \n",
       "\n",
       "                                                Body  \n",
       "0  <p><a href=\"http://svnbook.red-bean.com/\">Vers...  \n",
       "1  <p>I wound up using this. It is a kind of a ha...  \n",
       "2  <p>I've read somewhere the human eye can't dis...  \n",
       "3  <p>Yes, I thought about that, but I soon figur...  \n",
       "4  <p><a href=\"http://www.codeproject.com/Article...  "
      ]
     },
     "execution_count": 7,
     "metadata": {},
     "output_type": "execute_result"
    }
   ],
   "source": [
    "# stack_answer.head()"
   ]
  },
  {
   "cell_type": "markdown",
   "metadata": {},
   "source": [
    "### Questions"
   ]
  },
  {
   "cell_type": "code",
   "execution_count": 8,
   "metadata": {
    "collapsed": false
   },
   "outputs": [],
   "source": [
    "#Get the number of questions asked by each user \n",
    "# countQ = pd.DataFrame(stack_question.groupby('UserID')['Id'].count())"
   ]
  },
  {
   "cell_type": "code",
   "execution_count": 69,
   "metadata": {
    "collapsed": false
   },
   "outputs": [
    {
     "name": "stdout",
     "output_type": "stream",
     "text": [
      "Stored 'countQ' (DataFrame)\n"
     ]
    }
   ],
   "source": [
    "#%store countQ"
   ]
  },
  {
   "cell_type": "code",
   "execution_count": null,
   "metadata": {
    "collapsed": true
   },
   "outputs": [],
   "source": [
    "%store -r countQ"
   ]
  },
  {
   "cell_type": "code",
   "execution_count": 9,
   "metadata": {
    "collapsed": false
   },
   "outputs": [
    {
     "data": {
      "text/plain": [
       "(630909, 2)"
      ]
     },
     "execution_count": 9,
     "metadata": {},
     "output_type": "execute_result"
    }
   ],
   "source": [
    "countQ['UserID'] = countQ.index\n",
    "countQ = countQ.rename(columns={'Id':'qnsCounts'})\n",
    "countQ.shape "
   ]
  },
  {
   "cell_type": "code",
   "execution_count": 10,
   "metadata": {
    "collapsed": true
   },
   "outputs": [],
   "source": [
    "#Get the total question score of each user\n",
    "scoreQ = pd.DataFrame(stack_question.groupby('UserID')['Score'].agg(sum))"
   ]
  },
  {
   "cell_type": "code",
   "execution_count": 70,
   "metadata": {
    "collapsed": false
   },
   "outputs": [
    {
     "name": "stdout",
     "output_type": "stream",
     "text": [
      "Stored 'scoreQ' (DataFrame)\n"
     ]
    }
   ],
   "source": [
    "#%store scoreQ"
   ]
  },
  {
   "cell_type": "code",
   "execution_count": 71,
   "metadata": {
    "collapsed": true
   },
   "outputs": [],
   "source": [
    "%store -r scoreQ"
   ]
  },
  {
   "cell_type": "code",
   "execution_count": 11,
   "metadata": {
    "collapsed": true
   },
   "outputs": [],
   "source": [
    "scoreQ['UserID'] = scoreQ.index"
   ]
  },
  {
   "cell_type": "code",
   "execution_count": 12,
   "metadata": {
    "collapsed": true
   },
   "outputs": [],
   "source": [
    "#Merged questions info on each user\n",
    "mergedQ = pd.merge(scoreQ, countQ, on='UserID')\n",
    "mergedQ['AvgQnsScore'] = mergedQ['Score'] / mergedQ['qnsCounts']"
   ]
  },
  {
   "cell_type": "markdown",
   "metadata": {
    "collapsed": true
   },
   "source": [
    "### Answers"
   ]
  },
  {
   "cell_type": "code",
   "execution_count": 13,
   "metadata": {
    "collapsed": false
   },
   "outputs": [],
   "source": [
    "# #Get the number of answers by each user \n",
    "# countA = pd.DataFrame(stack_answer.groupby('UserID')['Id'].count())\n",
    "# %store countA"
   ]
  },
  {
   "cell_type": "code",
   "execution_count": 14,
   "metadata": {
    "collapsed": false
   },
   "outputs": [
    {
     "data": {
      "text/plain": [
       "(468797, 2)"
      ]
     },
     "execution_count": 14,
     "metadata": {},
     "output_type": "execute_result"
    }
   ],
   "source": [
    "%store -r countA\n",
    "countA['UserID'] = countA.index\n",
    "countA = countA.rename(columns={'Id':'ansCounts'})\n",
    "countA.shape "
   ]
  },
  {
   "cell_type": "code",
   "execution_count": 15,
   "metadata": {
    "collapsed": true
   },
   "outputs": [],
   "source": [
    "# #Get the total answer score of each user\n",
    "# scoreA = pd.DataFrame(stack_answer.groupby('UserID')['Score'].agg(sum))\n",
    "# %store scoreA"
   ]
  },
  {
   "cell_type": "code",
   "execution_count": 16,
   "metadata": {
    "collapsed": false
   },
   "outputs": [],
   "source": [
    "%store -r scoreA\n",
    "scoreA['UserID'] = scoreA.index"
   ]
  },
  {
   "cell_type": "code",
   "execution_count": 17,
   "metadata": {
    "collapsed": true
   },
   "outputs": [],
   "source": [
    "#Merged answers info on each user\n",
    "mergedA = pd.merge(scoreA, countA, on='UserID')\n",
    "mergedA['AvgAnsScore'] = mergedA['Score'] / mergedA['ansCounts']"
   ]
  },
  {
   "cell_type": "code",
   "execution_count": 18,
   "metadata": {
    "collapsed": true
   },
   "outputs": [],
   "source": [
    "#Merge info from Answers and Questions\n",
    "#outer join to retain as much informations as possible\n",
    "user_QA = pd.merge(mergedA, mergedQ, on='UserID', how='outer')"
   ]
  },
  {
   "cell_type": "code",
   "execution_count": 19,
   "metadata": {
    "collapsed": false
   },
   "outputs": [
    {
     "data": {
      "text/html": [
       "<div>\n",
       "<table border=\"1\" class=\"dataframe\">\n",
       "  <thead>\n",
       "    <tr style=\"text-align: right;\">\n",
       "      <th></th>\n",
       "      <th>Score_x</th>\n",
       "      <th>UserID</th>\n",
       "      <th>ansCounts</th>\n",
       "      <th>AvgAnsScore</th>\n",
       "      <th>Score_y</th>\n",
       "      <th>qnsCounts</th>\n",
       "      <th>AvgQnsScore</th>\n",
       "    </tr>\n",
       "  </thead>\n",
       "  <tbody>\n",
       "    <tr>\n",
       "      <th>0</th>\n",
       "      <td>232.0</td>\n",
       "      <td>1.0</td>\n",
       "      <td>13.0</td>\n",
       "      <td>17.846154</td>\n",
       "      <td>58.0</td>\n",
       "      <td>3.0</td>\n",
       "      <td>19.333333</td>\n",
       "    </tr>\n",
       "    <tr>\n",
       "      <th>1</th>\n",
       "      <td>71.0</td>\n",
       "      <td>3.0</td>\n",
       "      <td>6.0</td>\n",
       "      <td>11.833333</td>\n",
       "      <td>NaN</td>\n",
       "      <td>NaN</td>\n",
       "      <td>NaN</td>\n",
       "    </tr>\n",
       "    <tr>\n",
       "      <th>2</th>\n",
       "      <td>52.0</td>\n",
       "      <td>4.0</td>\n",
       "      <td>19.0</td>\n",
       "      <td>2.736842</td>\n",
       "      <td>79.0</td>\n",
       "      <td>3.0</td>\n",
       "      <td>26.333333</td>\n",
       "    </tr>\n",
       "    <tr>\n",
       "      <th>3</th>\n",
       "      <td>207.0</td>\n",
       "      <td>5.0</td>\n",
       "      <td>26.0</td>\n",
       "      <td>7.961538</td>\n",
       "      <td>25.0</td>\n",
       "      <td>4.0</td>\n",
       "      <td>6.250000</td>\n",
       "    </tr>\n",
       "    <tr>\n",
       "      <th>4</th>\n",
       "      <td>21.0</td>\n",
       "      <td>9.0</td>\n",
       "      <td>6.0</td>\n",
       "      <td>3.500000</td>\n",
       "      <td>2.0</td>\n",
       "      <td>1.0</td>\n",
       "      <td>2.000000</td>\n",
       "    </tr>\n",
       "  </tbody>\n",
       "</table>\n",
       "</div>"
      ],
      "text/plain": [
       "   Score_x  UserID  ansCounts  AvgAnsScore  Score_y  qnsCounts  AvgQnsScore\n",
       "0    232.0     1.0       13.0    17.846154     58.0        3.0    19.333333\n",
       "1     71.0     3.0        6.0    11.833333      NaN        NaN          NaN\n",
       "2     52.0     4.0       19.0     2.736842     79.0        3.0    26.333333\n",
       "3    207.0     5.0       26.0     7.961538     25.0        4.0     6.250000\n",
       "4     21.0     9.0        6.0     3.500000      2.0        1.0     2.000000"
      ]
     },
     "execution_count": 19,
     "metadata": {},
     "output_type": "execute_result"
    }
   ],
   "source": [
    "user_QA.head()"
   ]
  },
  {
   "cell_type": "markdown",
   "metadata": {
    "collapsed": true
   },
   "source": [
    "### Badges"
   ]
  },
  {
   "cell_type": "code",
   "execution_count": 20,
   "metadata": {
    "collapsed": true
   },
   "outputs": [],
   "source": [
    "#badges = pd.read_csv(badges_path)"
   ]
  },
  {
   "cell_type": "code",
   "execution_count": 21,
   "metadata": {
    "collapsed": false
   },
   "outputs": [],
   "source": [
    "#badges.head()"
   ]
  },
  {
   "cell_type": "code",
   "execution_count": 22,
   "metadata": {
    "collapsed": false
   },
   "outputs": [],
   "source": [
    "# #To calculate the total badge score for each user\n",
    "# badges[\"Score\"] = 4 - badges[\"Class\"]\n",
    "# scoreB = pd.DataFrame(badges[[\"UserID\", \"Score\"]].groupby(\"UserID\", as_index = False).sum())\n"
   ]
  },
  {
   "cell_type": "code",
   "execution_count": 23,
   "metadata": {
    "collapsed": true
   },
   "outputs": [],
   "source": [
    "%store -r scoreB\n",
    "scoreB = scoreB.rename(columns={'Score':'BadgeScoreTotal'})"
   ]
  },
  {
   "cell_type": "code",
   "execution_count": 24,
   "metadata": {
    "collapsed": false
   },
   "outputs": [],
   "source": [
    "# #To find the list of badges that each user has\n",
    "# listB = badges[[\"UserID\", \"Badge\"]].groupby('UserID', as_index = False).agg(lambda x: x.tolist())\n",
    "# %store listB"
   ]
  },
  {
   "cell_type": "code",
   "execution_count": 25,
   "metadata": {
    "collapsed": false
   },
   "outputs": [],
   "source": [
    "%store -r listB\n",
    "listB = listB.rename(columns={'Badge':'Badges'})\n",
    "#Merge badge information for each user\n",
    "user_B = pd.merge(scoreB, listB, on = \"UserID\", how = \"inner\")"
   ]
  },
  {
   "cell_type": "code",
   "execution_count": 26,
   "metadata": {
    "collapsed": false
   },
   "outputs": [
    {
     "data": {
      "text/html": [
       "<div>\n",
       "<table border=\"1\" class=\"dataframe\">\n",
       "  <thead>\n",
       "    <tr style=\"text-align: right;\">\n",
       "      <th></th>\n",
       "      <th>UserID</th>\n",
       "      <th>BadgeScoreTotal</th>\n",
       "      <th>Badges</th>\n",
       "    </tr>\n",
       "  </thead>\n",
       "  <tbody>\n",
       "    <tr>\n",
       "      <th>0</th>\n",
       "      <td>-1</td>\n",
       "      <td>2</td>\n",
       "      <td>[Not a Robot]</td>\n",
       "    </tr>\n",
       "    <tr>\n",
       "      <th>1</th>\n",
       "      <td>1</td>\n",
       "      <td>472</td>\n",
       "      <td>[Nice Answer, Good Answer, Disciplined, Notabl...</td>\n",
       "    </tr>\n",
       "    <tr>\n",
       "      <th>2</th>\n",
       "      <td>2</td>\n",
       "      <td>103</td>\n",
       "      <td>[Popular Question, Popular Question, Good Answ...</td>\n",
       "    </tr>\n",
       "    <tr>\n",
       "      <th>3</th>\n",
       "      <td>3</td>\n",
       "      <td>180</td>\n",
       "      <td>[Civic Duty, Nice Answer, Scholar, Citizen Pat...</td>\n",
       "    </tr>\n",
       "    <tr>\n",
       "      <th>4</th>\n",
       "      <td>4</td>\n",
       "      <td>249</td>\n",
       "      <td>[Guru, Nice Answer, Nice Question, Popular Que...</td>\n",
       "    </tr>\n",
       "  </tbody>\n",
       "</table>\n",
       "</div>"
      ],
      "text/plain": [
       "   UserID  BadgeScoreTotal                                             Badges\n",
       "0      -1                2                                      [Not a Robot]\n",
       "1       1              472  [Nice Answer, Good Answer, Disciplined, Notabl...\n",
       "2       2              103  [Popular Question, Popular Question, Good Answ...\n",
       "3       3              180  [Civic Duty, Nice Answer, Scholar, Citizen Pat...\n",
       "4       4              249  [Guru, Nice Answer, Nice Question, Popular Que..."
      ]
     },
     "execution_count": 26,
     "metadata": {},
     "output_type": "execute_result"
    }
   ],
   "source": [
    "user_B.head()"
   ]
  },
  {
   "cell_type": "code",
   "execution_count": 27,
   "metadata": {
    "collapsed": false
   },
   "outputs": [],
   "source": [
    "#Merge badge information with users in the stackQuestions and Answers\n",
    "user_QAB = pd.merge(user_QA, user_B, on='UserID')"
   ]
  },
  {
   "cell_type": "code",
   "execution_count": 28,
   "metadata": {
    "collapsed": false
   },
   "outputs": [
    {
     "data": {
      "text/html": [
       "<div>\n",
       "<table border=\"1\" class=\"dataframe\">\n",
       "  <thead>\n",
       "    <tr style=\"text-align: right;\">\n",
       "      <th></th>\n",
       "      <th>Score_x</th>\n",
       "      <th>UserID</th>\n",
       "      <th>ansCounts</th>\n",
       "      <th>AvgAnsScore</th>\n",
       "      <th>Score_y</th>\n",
       "      <th>qnsCounts</th>\n",
       "      <th>AvgQnsScore</th>\n",
       "      <th>BadgeScoreTotal</th>\n",
       "      <th>Badges</th>\n",
       "    </tr>\n",
       "  </thead>\n",
       "  <tbody>\n",
       "    <tr>\n",
       "      <th>0</th>\n",
       "      <td>232.0</td>\n",
       "      <td>1.0</td>\n",
       "      <td>13.0</td>\n",
       "      <td>17.846154</td>\n",
       "      <td>58.0</td>\n",
       "      <td>3.0</td>\n",
       "      <td>19.333333</td>\n",
       "      <td>472</td>\n",
       "      <td>[Nice Answer, Good Answer, Disciplined, Notabl...</td>\n",
       "    </tr>\n",
       "    <tr>\n",
       "      <th>1</th>\n",
       "      <td>71.0</td>\n",
       "      <td>3.0</td>\n",
       "      <td>6.0</td>\n",
       "      <td>11.833333</td>\n",
       "      <td>NaN</td>\n",
       "      <td>NaN</td>\n",
       "      <td>NaN</td>\n",
       "      <td>180</td>\n",
       "      <td>[Civic Duty, Nice Answer, Scholar, Citizen Pat...</td>\n",
       "    </tr>\n",
       "    <tr>\n",
       "      <th>2</th>\n",
       "      <td>52.0</td>\n",
       "      <td>4.0</td>\n",
       "      <td>19.0</td>\n",
       "      <td>2.736842</td>\n",
       "      <td>79.0</td>\n",
       "      <td>3.0</td>\n",
       "      <td>26.333333</td>\n",
       "      <td>249</td>\n",
       "      <td>[Guru, Nice Answer, Nice Question, Popular Que...</td>\n",
       "    </tr>\n",
       "    <tr>\n",
       "      <th>3</th>\n",
       "      <td>207.0</td>\n",
       "      <td>5.0</td>\n",
       "      <td>26.0</td>\n",
       "      <td>7.961538</td>\n",
       "      <td>25.0</td>\n",
       "      <td>4.0</td>\n",
       "      <td>6.250000</td>\n",
       "      <td>412</td>\n",
       "      <td>[Good Answer, Nice Question, Guru, Nice Answer...</td>\n",
       "    </tr>\n",
       "    <tr>\n",
       "      <th>4</th>\n",
       "      <td>21.0</td>\n",
       "      <td>9.0</td>\n",
       "      <td>6.0</td>\n",
       "      <td>3.500000</td>\n",
       "      <td>2.0</td>\n",
       "      <td>1.0</td>\n",
       "      <td>2.000000</td>\n",
       "      <td>121</td>\n",
       "      <td>[Good Answer, Organizer, Good Question, Popula...</td>\n",
       "    </tr>\n",
       "  </tbody>\n",
       "</table>\n",
       "</div>"
      ],
      "text/plain": [
       "   Score_x  UserID  ansCounts  AvgAnsScore  Score_y  qnsCounts  AvgQnsScore  \\\n",
       "0    232.0     1.0       13.0    17.846154     58.0        3.0    19.333333   \n",
       "1     71.0     3.0        6.0    11.833333      NaN        NaN          NaN   \n",
       "2     52.0     4.0       19.0     2.736842     79.0        3.0    26.333333   \n",
       "3    207.0     5.0       26.0     7.961538     25.0        4.0     6.250000   \n",
       "4     21.0     9.0        6.0     3.500000      2.0        1.0     2.000000   \n",
       "\n",
       "   BadgeScoreTotal                                             Badges  \n",
       "0              472  [Nice Answer, Good Answer, Disciplined, Notabl...  \n",
       "1              180  [Civic Duty, Nice Answer, Scholar, Citizen Pat...  \n",
       "2              249  [Guru, Nice Answer, Nice Question, Popular Que...  \n",
       "3              412  [Good Answer, Nice Question, Guru, Nice Answer...  \n",
       "4              121  [Good Answer, Organizer, Good Question, Popula...  "
      ]
     },
     "execution_count": 28,
     "metadata": {},
     "output_type": "execute_result"
    }
   ],
   "source": [
    "user_QAB.head()"
   ]
  },
  {
   "cell_type": "code",
   "execution_count": 29,
   "metadata": {
    "collapsed": false
   },
   "outputs": [],
   "source": [
    "# # Get activeness-related / reputation-related badges with associated score for each user\n",
    "# user_QAB['ReputableBadge'] = 0\n",
    "# user_QAB['ActiveBadge'] = 0\n",
    "# user_QAB['ReputableBadgeScore'] = 0\n",
    "# user_QAB['ActiveBadgeScore']= 0 \n",
    "# user_QAB['BadgeCount'] = 0\n",
    "# for ind, rows in user_QAB.iterrows():\n",
    "#     badge_list = rows['Badges']\n",
    "#     assert(type(badge_list))\n",
    "#     length = len(badge_list)\n",
    "#     user_QAB.set_value(ind, 'BadgeCount', length)\n",
    "#     rep = 0\n",
    "#     act = 0 \n",
    "#     repS = 0\n",
    "#     actS = 0\n",
    "#     for badges in badge_list:\n",
    "#         if (badges == 'Great Question'):\n",
    "#             rep += 1\n",
    "#             repS += 3\n",
    "#         elif (badges == 'Inquisitive'):\n",
    "#             rep += 1\n",
    "#             act += 1\n",
    "#             repS += 2\n",
    "#             actS += 2 \n",
    "#         elif (badges == 'Socratic'):\n",
    "#             rep += 1\n",
    "#             act += 1\n",
    "#             repS += 3\n",
    "#             actS += 3 \n",
    "#         elif (badges == 'Refiner'):\n",
    "#             rep += 1\n",
    "#             act += 1\n",
    "#             repS += 2\n",
    "#             actS += 2\n",
    "#         elif (badges == 'Illuminator'):\n",
    "#             rep += 1 \n",
    "#             act += 1\n",
    "#             repS += 3\n",
    "#             actS += 3\n",
    "#         elif (badges == 'Guru'):\n",
    "#             rep += 1\n",
    "#             repS += 2\n",
    "#         elif (badges == 'Great Answer'):\n",
    "#             rep += 1\n",
    "#             repS += 3\n",
    "#         elif (badges == 'Good Answer'):\n",
    "#             rep += 1\n",
    "#             repS += 2\n",
    "#         elif (badges == 'Nice Answer'):\n",
    "#             rep += 1\n",
    "#             repS += 1\n",
    "#         elif (badges == 'Populist'):\n",
    "#             rep += 1\n",
    "#             repS += 3\n",
    "#         elif (badges == 'Mortarboard'):\n",
    "#             rep += 1 \n",
    "#             repS += 1\n",
    "#         elif (badges == 'Epic'):\n",
    "#             rep += 1\n",
    "#             repS += 2\n",
    "#         elif (badges == 'Legendary'):\n",
    "#             rep += 1\n",
    "#             repS += 3\n",
    "#         elif (badges == 'Fanatic'):\n",
    "#             act += 1\n",
    "#             actS += 3\n",
    "#         elif (badges == 'Enthusiast'):\n",
    "#             act += 1 \n",
    "#             actS += 2\n",
    "#         elif (badges == 'Yearling'):\n",
    "#             act += 1\n",
    "#             actS += 2\n",
    "#         elif (badges == 'Strunk & White'):\n",
    "#             act += 1\n",
    "#             actS += 2\n",
    "#         elif (badges == 'Copy Editor'):\n",
    "#             act += 1\n",
    "#             actS += 3\n",
    "#         elif (badges == 'Pundit'):\n",
    "#             rep += 1\n",
    "#             repS += 2 \n",
    "#         elif (badges == 'Curious'):\n",
    "#             rep += 1\n",
    "#             act += 1\n",
    "#             repS += 1\n",
    "#             actS += 1 \n",
    "#         elif (badges == 'Commentator'):\n",
    "#             act += 1\n",
    "#             actS += 1\n",
    "#     user_QAB.set_value(ind, 'ReputableBadge', rep)\n",
    "#     user_QAB.set_value(ind, 'ActiveBadge', act)\n",
    "#     user_QAB.set_value(ind, 'ReputableBadgeScore', repS)\n",
    "#     user_QAB.set_value(ind, 'ActiveBadgeScore', actS)\n",
    "    \n",
    "\n",
    "# user_QAB.head()"
   ]
  },
  {
   "cell_type": "code",
   "execution_count": 30,
   "metadata": {
    "collapsed": false
   },
   "outputs": [],
   "source": [
    "# %store user_QAB"
   ]
  },
  {
   "cell_type": "code",
   "execution_count": 31,
   "metadata": {
    "collapsed": true
   },
   "outputs": [],
   "source": [
    "%store -r user_QAB"
   ]
  },
  {
   "cell_type": "markdown",
   "metadata": {},
   "source": [
    "### Users"
   ]
  },
  {
   "cell_type": "code",
   "execution_count": 32,
   "metadata": {
    "collapsed": true
   },
   "outputs": [],
   "source": [
    "# users = pd.read_csv(users_path)\n",
    "# users = users.rename(columns = {\"Id\":\"UserID\"}).drop(\"Unnamed: 0\")"
   ]
  },
  {
   "cell_type": "code",
   "execution_count": 33,
   "metadata": {
    "collapsed": false
   },
   "outputs": [],
   "source": [
    "# #To calculate the max number of days the user has been active\n",
    "# users[\"CreationDate\"]=pd.to_datetime(users[\"CreationDate\"])\n",
    "# users[\"LastAccessDate\"] = pd.to_datetime(users[\"LastAccessDate\"])\n",
    "# users[\"DurationInDays\"] = (users[\"LastAccessDate\"] - users[\"CreationDate\"]).apply(lambda x:x.days)"
   ]
  },
  {
   "cell_type": "code",
   "execution_count": 34,
   "metadata": {
    "collapsed": false
   },
   "outputs": [],
   "source": [
    "# #To calculate average votes by dividing by number of days\n",
    "# users['AvgDV'] = users['DownVotes'] / users['DurationInDays']\n",
    "# users['AvgUV'] = users['UpVotes'] / users['DurationInDays']\n",
    "# users['AvgRep'] = users['Reputation'] / users['DurationInDays']"
   ]
  },
  {
   "cell_type": "code",
   "execution_count": 35,
   "metadata": {
    "collapsed": false
   },
   "outputs": [],
   "source": [
    "# #Merge all information available for each user\n",
    "# user_all = pd.merge(user_QAB, users, on = \"UserID\")"
   ]
  },
  {
   "cell_type": "code",
   "execution_count": 36,
   "metadata": {
    "collapsed": false
   },
   "outputs": [],
   "source": [
    "# user_all.head()"
   ]
  },
  {
   "cell_type": "code",
   "execution_count": 37,
   "metadata": {
    "collapsed": false
   },
   "outputs": [],
   "source": [
    "#%store user_all"
   ]
  },
  {
   "cell_type": "code",
   "execution_count": 38,
   "metadata": {
    "collapsed": true
   },
   "outputs": [],
   "source": [
    "%store -r user_all"
   ]
  },
  {
   "cell_type": "code",
   "execution_count": 39,
   "metadata": {
    "collapsed": false
   },
   "outputs": [],
   "source": [
    "#Calculate badge information in avergaes\n",
    "user_all['AvgBadgeC'] = user_all['BadgeCount'] / user_all['DurationInDays']\n",
    "user_all['AvgBScore'] = user_all['BadgeScoreTotal'] / user_all['DurationInDays']"
   ]
  },
  {
   "cell_type": "code",
   "execution_count": 40,
   "metadata": {
    "collapsed": false
   },
   "outputs": [
    {
     "data": {
      "text/html": [
       "<div>\n",
       "<table border=\"1\" class=\"dataframe\">\n",
       "  <thead>\n",
       "    <tr style=\"text-align: right;\">\n",
       "      <th></th>\n",
       "      <th>Score_x</th>\n",
       "      <th>UserID</th>\n",
       "      <th>ansCounts</th>\n",
       "      <th>AvgAnsScore</th>\n",
       "      <th>Score_y</th>\n",
       "      <th>qnsCounts</th>\n",
       "      <th>AvgQnsScore</th>\n",
       "      <th>BadgeScoreTotal</th>\n",
       "      <th>Badges</th>\n",
       "      <th>ReputableBadge</th>\n",
       "      <th>...</th>\n",
       "      <th>Reputation</th>\n",
       "      <th>Location</th>\n",
       "      <th>UpVotes</th>\n",
       "      <th>AboutMe</th>\n",
       "      <th>DurationInDays</th>\n",
       "      <th>AvgDV</th>\n",
       "      <th>AvgUV</th>\n",
       "      <th>AvgRep</th>\n",
       "      <th>AvgBadgeC</th>\n",
       "      <th>AvgBScore</th>\n",
       "    </tr>\n",
       "  </thead>\n",
       "  <tbody>\n",
       "    <tr>\n",
       "      <th>0</th>\n",
       "      <td>232.0</td>\n",
       "      <td>1.0</td>\n",
       "      <td>13.0</td>\n",
       "      <td>17.846154</td>\n",
       "      <td>58.0</td>\n",
       "      <td>3.0</td>\n",
       "      <td>19.333333</td>\n",
       "      <td>472</td>\n",
       "      <td>[Nice Answer, Good Answer, Disciplined, Notabl...</td>\n",
       "      <td>112</td>\n",
       "      <td>...</td>\n",
       "      <td>39716</td>\n",
       "      <td>El Cerrito, CA</td>\n",
       "      <td>3316</td>\n",
       "      <td>&amp;lt;p&amp;gt;&amp;lt;a href=&amp;quot;http://www.codinghor...</td>\n",
       "      <td>3046</td>\n",
       "      <td>0.428102</td>\n",
       "      <td>1.088641</td>\n",
       "      <td>13.038739</td>\n",
       "      <td>0.088313</td>\n",
       "      <td>0.154957</td>\n",
       "    </tr>\n",
       "    <tr>\n",
       "      <th>1</th>\n",
       "      <td>71.0</td>\n",
       "      <td>3.0</td>\n",
       "      <td>6.0</td>\n",
       "      <td>11.833333</td>\n",
       "      <td>NaN</td>\n",
       "      <td>NaN</td>\n",
       "      <td>NaN</td>\n",
       "      <td>180</td>\n",
       "      <td>[Civic Duty, Nice Answer, Scholar, Citizen Pat...</td>\n",
       "      <td>25</td>\n",
       "      <td>...</td>\n",
       "      <td>12405</td>\n",
       "      <td>Johnson City, TN, United States</td>\n",
       "      <td>6516</td>\n",
       "      <td>&amp;lt;p&amp;gt;&amp;lt;a href=&amp;quot;http://blog.stackove...</td>\n",
       "      <td>3053</td>\n",
       "      <td>0.032755</td>\n",
       "      <td>2.134294</td>\n",
       "      <td>4.063217</td>\n",
       "      <td>0.037995</td>\n",
       "      <td>0.058958</td>\n",
       "    </tr>\n",
       "    <tr>\n",
       "      <th>2</th>\n",
       "      <td>52.0</td>\n",
       "      <td>4.0</td>\n",
       "      <td>19.0</td>\n",
       "      <td>2.736842</td>\n",
       "      <td>79.0</td>\n",
       "      <td>3.0</td>\n",
       "      <td>26.333333</td>\n",
       "      <td>249</td>\n",
       "      <td>[Guru, Nice Answer, Nice Question, Popular Que...</td>\n",
       "      <td>57</td>\n",
       "      <td>...</td>\n",
       "      <td>26638</td>\n",
       "      <td>New York, NY</td>\n",
       "      <td>779</td>\n",
       "      <td>&amp;lt;p&amp;gt;I am:&amp;lt;/p&amp;gt;&amp;#xA;&amp;#xA;&amp;lt;ul&amp;gt;&amp;#...</td>\n",
       "      <td>3054</td>\n",
       "      <td>0.031434</td>\n",
       "      <td>0.255075</td>\n",
       "      <td>8.722331</td>\n",
       "      <td>0.050753</td>\n",
       "      <td>0.081532</td>\n",
       "    </tr>\n",
       "    <tr>\n",
       "      <th>3</th>\n",
       "      <td>207.0</td>\n",
       "      <td>5.0</td>\n",
       "      <td>26.0</td>\n",
       "      <td>7.961538</td>\n",
       "      <td>25.0</td>\n",
       "      <td>4.0</td>\n",
       "      <td>6.250000</td>\n",
       "      <td>412</td>\n",
       "      <td>[Good Answer, Nice Question, Guru, Nice Answer...</td>\n",
       "      <td>106</td>\n",
       "      <td>...</td>\n",
       "      <td>35033</td>\n",
       "      <td>San Diego, CA</td>\n",
       "      <td>778</td>\n",
       "      <td>&amp;lt;p&amp;gt;Technical Evangelist at Microsoft, sp...</td>\n",
       "      <td>3049</td>\n",
       "      <td>0.011151</td>\n",
       "      <td>0.255166</td>\n",
       "      <td>11.489997</td>\n",
       "      <td>0.091177</td>\n",
       "      <td>0.135126</td>\n",
       "    </tr>\n",
       "    <tr>\n",
       "      <th>4</th>\n",
       "      <td>21.0</td>\n",
       "      <td>9.0</td>\n",
       "      <td>6.0</td>\n",
       "      <td>3.500000</td>\n",
       "      <td>2.0</td>\n",
       "      <td>1.0</td>\n",
       "      <td>2.000000</td>\n",
       "      <td>121</td>\n",
       "      <td>[Good Answer, Organizer, Good Question, Popula...</td>\n",
       "      <td>18</td>\n",
       "      <td>...</td>\n",
       "      <td>11465</td>\n",
       "      <td>Oakland, CA</td>\n",
       "      <td>44</td>\n",
       "      <td>&amp;lt;p&amp;gt;Independent software engineer&amp;lt;/p&amp;g...</td>\n",
       "      <td>3051</td>\n",
       "      <td>0.001311</td>\n",
       "      <td>0.014422</td>\n",
       "      <td>3.757784</td>\n",
       "      <td>0.024582</td>\n",
       "      <td>0.039659</td>\n",
       "    </tr>\n",
       "  </tbody>\n",
       "</table>\n",
       "<p>5 rows × 32 columns</p>\n",
       "</div>"
      ],
      "text/plain": [
       "   Score_x  UserID  ansCounts  AvgAnsScore  Score_y  qnsCounts  AvgQnsScore  \\\n",
       "0    232.0     1.0       13.0    17.846154     58.0        3.0    19.333333   \n",
       "1     71.0     3.0        6.0    11.833333      NaN        NaN          NaN   \n",
       "2     52.0     4.0       19.0     2.736842     79.0        3.0    26.333333   \n",
       "3    207.0     5.0       26.0     7.961538     25.0        4.0     6.250000   \n",
       "4     21.0     9.0        6.0     3.500000      2.0        1.0     2.000000   \n",
       "\n",
       "   BadgeScoreTotal                                             Badges  \\\n",
       "0              472  [Nice Answer, Good Answer, Disciplined, Notabl...   \n",
       "1              180  [Civic Duty, Nice Answer, Scholar, Citizen Pat...   \n",
       "2              249  [Guru, Nice Answer, Nice Question, Popular Que...   \n",
       "3              412  [Good Answer, Nice Question, Guru, Nice Answer...   \n",
       "4              121  [Good Answer, Organizer, Good Question, Popula...   \n",
       "\n",
       "   ReputableBadge    ...     Reputation                         Location  \\\n",
       "0             112    ...          39716                   El Cerrito, CA   \n",
       "1              25    ...          12405  Johnson City, TN, United States   \n",
       "2              57    ...          26638                     New York, NY   \n",
       "3             106    ...          35033                    San Diego, CA   \n",
       "4              18    ...          11465                      Oakland, CA   \n",
       "\n",
       "   UpVotes                                            AboutMe  DurationInDays  \\\n",
       "0     3316  &lt;p&gt;&lt;a href=&quot;http://www.codinghor...            3046   \n",
       "1     6516  &lt;p&gt;&lt;a href=&quot;http://blog.stackove...            3053   \n",
       "2      779  &lt;p&gt;I am:&lt;/p&gt;&#xA;&#xA;&lt;ul&gt;&#...            3054   \n",
       "3      778  &lt;p&gt;Technical Evangelist at Microsoft, sp...            3049   \n",
       "4       44  &lt;p&gt;Independent software engineer&lt;/p&g...            3051   \n",
       "\n",
       "      AvgDV     AvgUV     AvgRep AvgBadgeC AvgBScore  \n",
       "0  0.428102  1.088641  13.038739  0.088313  0.154957  \n",
       "1  0.032755  2.134294   4.063217  0.037995  0.058958  \n",
       "2  0.031434  0.255075   8.722331  0.050753  0.081532  \n",
       "3  0.011151  0.255166  11.489997  0.091177  0.135126  \n",
       "4  0.001311  0.014422   3.757784  0.024582  0.039659  \n",
       "\n",
       "[5 rows x 32 columns]"
      ]
     },
     "execution_count": 40,
     "metadata": {},
     "output_type": "execute_result"
    }
   ],
   "source": [
    "user_all.head()"
   ]
  },
  {
   "cell_type": "markdown",
   "metadata": {
    "collapsed": true
   },
   "source": [
    "## Clustering For Reputable Users"
   ]
  },
  {
   "cell_type": "code",
   "execution_count": 41,
   "metadata": {
    "collapsed": true
   },
   "outputs": [],
   "source": [
    "#Import packages\n",
    "from scipy import cluster\n",
    "import matplotlib.pyplot as plt\n",
    "import matplotlib.dates as mdates\n",
    "from sklearn.cluster import KMeans\n",
    "from sklearn.decomposition import PCA\n",
    "from sklearn.metrics.pairwise import pairwise_distances_argmin\n",
    "\n",
    "\n",
    "%matplotlib inline"
   ]
  },
  {
   "cell_type": "code",
   "execution_count": 42,
   "metadata": {
    "collapsed": false
   },
   "outputs": [
    {
     "data": {
      "text/html": [
       "<div>\n",
       "<table border=\"1\" class=\"dataframe\">\n",
       "  <thead>\n",
       "    <tr style=\"text-align: right;\">\n",
       "      <th></th>\n",
       "      <th>Views</th>\n",
       "      <th>AvgQnsScore</th>\n",
       "      <th>AvgAnsScore</th>\n",
       "      <th>Reputation</th>\n",
       "      <th>BadgeScoreTotal</th>\n",
       "      <th>BadgeCount</th>\n",
       "      <th>ReputableBadge</th>\n",
       "      <th>ReputableBadgeScore</th>\n",
       "    </tr>\n",
       "    <tr>\n",
       "      <th>UserID</th>\n",
       "      <th></th>\n",
       "      <th></th>\n",
       "      <th></th>\n",
       "      <th></th>\n",
       "      <th></th>\n",
       "      <th></th>\n",
       "      <th></th>\n",
       "      <th></th>\n",
       "    </tr>\n",
       "  </thead>\n",
       "  <tbody>\n",
       "    <tr>\n",
       "      <th>1.0</th>\n",
       "      <td>236946</td>\n",
       "      <td>19.333333</td>\n",
       "      <td>17.846154</td>\n",
       "      <td>39716</td>\n",
       "      <td>472</td>\n",
       "      <td>269</td>\n",
       "      <td>112</td>\n",
       "      <td>190</td>\n",
       "    </tr>\n",
       "    <tr>\n",
       "      <th>3.0</th>\n",
       "      <td>21763</td>\n",
       "      <td>0.000000</td>\n",
       "      <td>11.833333</td>\n",
       "      <td>12405</td>\n",
       "      <td>180</td>\n",
       "      <td>116</td>\n",
       "      <td>25</td>\n",
       "      <td>39</td>\n",
       "    </tr>\n",
       "    <tr>\n",
       "      <th>4.0</th>\n",
       "      <td>66761</td>\n",
       "      <td>26.333333</td>\n",
       "      <td>2.736842</td>\n",
       "      <td>26638</td>\n",
       "      <td>249</td>\n",
       "      <td>155</td>\n",
       "      <td>57</td>\n",
       "      <td>96</td>\n",
       "    </tr>\n",
       "    <tr>\n",
       "      <th>5.0</th>\n",
       "      <td>9788</td>\n",
       "      <td>6.250000</td>\n",
       "      <td>7.961538</td>\n",
       "      <td>35033</td>\n",
       "      <td>412</td>\n",
       "      <td>278</td>\n",
       "      <td>106</td>\n",
       "      <td>158</td>\n",
       "    </tr>\n",
       "    <tr>\n",
       "      <th>9.0</th>\n",
       "      <td>3957</td>\n",
       "      <td>2.000000</td>\n",
       "      <td>3.500000</td>\n",
       "      <td>11465</td>\n",
       "      <td>121</td>\n",
       "      <td>75</td>\n",
       "      <td>18</td>\n",
       "      <td>30</td>\n",
       "    </tr>\n",
       "  </tbody>\n",
       "</table>\n",
       "</div>"
      ],
      "text/plain": [
       "         Views  AvgQnsScore  AvgAnsScore  Reputation  BadgeScoreTotal  \\\n",
       "UserID                                                                  \n",
       "1.0     236946    19.333333    17.846154       39716              472   \n",
       "3.0      21763     0.000000    11.833333       12405              180   \n",
       "4.0      66761    26.333333     2.736842       26638              249   \n",
       "5.0       9788     6.250000     7.961538       35033              412   \n",
       "9.0       3957     2.000000     3.500000       11465              121   \n",
       "\n",
       "        BadgeCount  ReputableBadge  ReputableBadgeScore  \n",
       "UserID                                                   \n",
       "1.0            269             112                  190  \n",
       "3.0            116              25                   39  \n",
       "4.0            155              57                   96  \n",
       "5.0            278             106                  158  \n",
       "9.0             75              18                   30  "
      ]
     },
     "execution_count": 42,
     "metadata": {},
     "output_type": "execute_result"
    }
   ],
   "source": [
    "# determine the number of clusters using elbow method (for reputable)\n",
    "cols_to_incl = ['UserID','Views','AvgQnsScore','AvgAnsScore','Reputation','BadgeScoreTotal','BadgeCount','ReputableBadge','ReputableBadgeScore']\n",
    "users_to_clu = user_all[cols_to_incl]\n",
    "users_to_clu = users_to_clu.set_index('UserID')\n",
    "users_to_clu = users_to_clu.fillna(0)\n",
    "users_to_clu.head()"
   ]
  },
  {
   "cell_type": "code",
   "execution_count": 43,
   "metadata": {
    "collapsed": false
   },
   "outputs": [
    {
     "name": "stderr",
     "output_type": "stream",
     "text": [
      "/Users/Ye/anaconda2/lib/python2.7/site-packages/ipykernel/__main__.py:1: FutureWarning: Assignment between structured arrays with different field names will change in numpy 1.13.\n",
      "\n",
      "Previously fields in the dst would be set to the value of the identically-named field in the src. In numpy 1.13 fields will instead be assigned 'by position': The Nth field of the dst will be set to the Nth field of the src array.\n",
      "\n",
      "See the release notes for details\n",
      "  if __name__ == '__main__':\n"
     ]
    }
   ],
   "source": [
    "temp = users_to_clu.to_records().astype([('Views',float),('AvgQnsScore', float),('AvgAnsScore', float),('Reputation',int),('BadgeScoreTotal',int),('BadgeCount',float), ('ReputableBadge', float),('ReputableBadgeScore',float)])\n",
    "hmm = temp.view(np.float64).reshape(temp.shape + (-1,))\n",
    "# initial_rep = [cluster.vq.kmeans(hmm, i) for i in range(1,6)] "
   ]
  },
  {
   "cell_type": "code",
   "execution_count": 44,
   "metadata": {
    "collapsed": false
   },
   "outputs": [],
   "source": [
    "# %store initial_rep"
   ]
  },
  {
   "cell_type": "code",
   "execution_count": 46,
   "metadata": {
    "collapsed": false
   },
   "outputs": [
    {
     "data": {
      "text/plain": [
       "[<matplotlib.lines.Line2D at 0x13b5d9710>]"
      ]
     },
     "execution_count": 46,
     "metadata": {},
     "output_type": "execute_result"
    },
    {
     "data": {
      "image/png": "[encoded data removed]",
      "text/plain": [
       "<matplotlib.figure.Figure at 0x13b4d8190>"
      ]
     },
     "metadata": {},
     "output_type": "display_data"
    }
   ],
   "source": [
    "%store -r initial_rep\n",
    "plt.plot([var for (cent,var) in initial_rep]) "
   ]
  },
  {
   "cell_type": "code",
   "execution_count": null,
   "metadata": {
    "collapsed": false
   },
   "outputs": [],
   "source": [
    "# #initialize and fit the cluster model\n",
    "# k_means_rep = KMeans(init = 'k-means++', n_clusters=4, n_init=10) \n",
    "# #fitting the model\n",
    "# basic_rep = k_means_rep.fit(users_to_clu)"
   ]
  },
  {
   "cell_type": "code",
   "execution_count": null,
   "metadata": {
    "collapsed": false
   },
   "outputs": [],
   "source": [
    "# %store basic_rep"
   ]
  },
  {
   "cell_type": "code",
   "execution_count": 47,
   "metadata": {
    "collapsed": true
   },
   "outputs": [],
   "source": [
    "%store -r basic_rep"
   ]
  },
  {
   "cell_type": "code",
   "execution_count": 48,
   "metadata": {
    "collapsed": false
   },
   "outputs": [
    {
     "data": {
      "text/plain": [
       "0    840174\n",
       "3      5178\n",
       "2       454\n",
       "1        49\n",
       "Name: RepLabel, dtype: int64"
      ]
     },
     "execution_count": 48,
     "metadata": {},
     "output_type": "execute_result"
    }
   ],
   "source": [
    "user_all[\"RepLabel\"] = pd.Series(basic_rep.labels_)\n",
    "user_all.RepLabel.value_counts()"
   ]
  },
  {
   "cell_type": "markdown",
   "metadata": {},
   "source": [
    "## Clustering For Active Users"
   ]
  },
  {
   "cell_type": "code",
   "execution_count": 49,
   "metadata": {
    "collapsed": false,
    "scrolled": true
   },
   "outputs": [
    {
     "data": {
      "text/html": [
       "<div>\n",
       "<table border=\"1\" class=\"dataframe\">\n",
       "  <thead>\n",
       "    <tr style=\"text-align: right;\">\n",
       "      <th></th>\n",
       "      <th>Reputation</th>\n",
       "      <th>BadgeScoreTotal</th>\n",
       "      <th>BadgeCount</th>\n",
       "      <th>ActiveBadge</th>\n",
       "      <th>ActiveBadgeScore</th>\n",
       "      <th>Views</th>\n",
       "      <th>DownVotes</th>\n",
       "      <th>UpVotes</th>\n",
       "      <th>DurationInDays</th>\n",
       "      <th>AvgDV</th>\n",
       "      <th>AvgUV</th>\n",
       "      <th>AvgBadgeC</th>\n",
       "      <th>AvgBScore</th>\n",
       "      <th>AvgRep</th>\n",
       "    </tr>\n",
       "    <tr>\n",
       "      <th>UserID</th>\n",
       "      <th></th>\n",
       "      <th></th>\n",
       "      <th></th>\n",
       "      <th></th>\n",
       "      <th></th>\n",
       "      <th></th>\n",
       "      <th></th>\n",
       "      <th></th>\n",
       "      <th></th>\n",
       "      <th></th>\n",
       "      <th></th>\n",
       "      <th></th>\n",
       "      <th></th>\n",
       "      <th></th>\n",
       "    </tr>\n",
       "  </thead>\n",
       "  <tbody>\n",
       "    <tr>\n",
       "      <th>1.0</th>\n",
       "      <td>39716</td>\n",
       "      <td>472</td>\n",
       "      <td>269</td>\n",
       "      <td>12</td>\n",
       "      <td>25</td>\n",
       "      <td>236946</td>\n",
       "      <td>1304</td>\n",
       "      <td>3316</td>\n",
       "      <td>3046</td>\n",
       "      <td>0.428102</td>\n",
       "      <td>1.088641</td>\n",
       "      <td>0.088313</td>\n",
       "      <td>0.154957</td>\n",
       "      <td>13.038739</td>\n",
       "    </tr>\n",
       "    <tr>\n",
       "      <th>3.0</th>\n",
       "      <td>12405</td>\n",
       "      <td>180</td>\n",
       "      <td>116</td>\n",
       "      <td>10</td>\n",
       "      <td>19</td>\n",
       "      <td>21763</td>\n",
       "      <td>100</td>\n",
       "      <td>6516</td>\n",
       "      <td>3053</td>\n",
       "      <td>0.032755</td>\n",
       "      <td>2.134294</td>\n",
       "      <td>0.037995</td>\n",
       "      <td>0.058958</td>\n",
       "      <td>4.063217</td>\n",
       "    </tr>\n",
       "    <tr>\n",
       "      <th>4.0</th>\n",
       "      <td>26638</td>\n",
       "      <td>249</td>\n",
       "      <td>155</td>\n",
       "      <td>10</td>\n",
       "      <td>19</td>\n",
       "      <td>66761</td>\n",
       "      <td>96</td>\n",
       "      <td>779</td>\n",
       "      <td>3054</td>\n",
       "      <td>0.031434</td>\n",
       "      <td>0.255075</td>\n",
       "      <td>0.050753</td>\n",
       "      <td>0.081532</td>\n",
       "      <td>8.722331</td>\n",
       "    </tr>\n",
       "    <tr>\n",
       "      <th>5.0</th>\n",
       "      <td>35033</td>\n",
       "      <td>412</td>\n",
       "      <td>278</td>\n",
       "      <td>11</td>\n",
       "      <td>21</td>\n",
       "      <td>9788</td>\n",
       "      <td>34</td>\n",
       "      <td>778</td>\n",
       "      <td>3049</td>\n",
       "      <td>0.011151</td>\n",
       "      <td>0.255166</td>\n",
       "      <td>0.091177</td>\n",
       "      <td>0.135126</td>\n",
       "      <td>11.489997</td>\n",
       "    </tr>\n",
       "    <tr>\n",
       "      <th>9.0</th>\n",
       "      <td>11465</td>\n",
       "      <td>121</td>\n",
       "      <td>75</td>\n",
       "      <td>11</td>\n",
       "      <td>20</td>\n",
       "      <td>3957</td>\n",
       "      <td>4</td>\n",
       "      <td>44</td>\n",
       "      <td>3051</td>\n",
       "      <td>0.001311</td>\n",
       "      <td>0.014422</td>\n",
       "      <td>0.024582</td>\n",
       "      <td>0.039659</td>\n",
       "      <td>3.757784</td>\n",
       "    </tr>\n",
       "  </tbody>\n",
       "</table>\n",
       "</div>"
      ],
      "text/plain": [
       "        Reputation  BadgeScoreTotal  BadgeCount  ActiveBadge  \\\n",
       "UserID                                                         \n",
       "1.0          39716              472         269           12   \n",
       "3.0          12405              180         116           10   \n",
       "4.0          26638              249         155           10   \n",
       "5.0          35033              412         278           11   \n",
       "9.0          11465              121          75           11   \n",
       "\n",
       "        ActiveBadgeScore   Views  DownVotes  UpVotes  DurationInDays  \\\n",
       "UserID                                                                 \n",
       "1.0                   25  236946       1304     3316            3046   \n",
       "3.0                   19   21763        100     6516            3053   \n",
       "4.0                   19   66761         96      779            3054   \n",
       "5.0                   21    9788         34      778            3049   \n",
       "9.0                   20    3957          4       44            3051   \n",
       "\n",
       "           AvgDV     AvgUV  AvgBadgeC  AvgBScore     AvgRep  \n",
       "UserID                                                       \n",
       "1.0     0.428102  1.088641   0.088313   0.154957  13.038739  \n",
       "3.0     0.032755  2.134294   0.037995   0.058958   4.063217  \n",
       "4.0     0.031434  0.255075   0.050753   0.081532   8.722331  \n",
       "5.0     0.011151  0.255166   0.091177   0.135126  11.489997  \n",
       "9.0     0.001311  0.014422   0.024582   0.039659   3.757784  "
      ]
     },
     "execution_count": 49,
     "metadata": {},
     "output_type": "execute_result"
    }
   ],
   "source": [
    "#Select attributes for clusering with respective to activeness of users\n",
    "cols_to_incl_active = ['UserID','Reputation','BadgeScoreTotal', 'BadgeCount','ActiveBadge','ActiveBadgeScore','Views','DownVotes','UpVotes','DurationInDays', 'AvgDV', 'AvgUV', 'AvgBadgeC', 'AvgBScore', 'AvgRep']\n",
    "users_to_clu_act = user_all[cols_to_incl_active]\n",
    "users_to_clu_act = users_to_clu_act.set_index('UserID')\n",
    "users_to_clu_act_1 = users_to_clu_act[users_to_clu_act['DurationInDays']!=0] # some of them with duration in days = 0\n",
    "users_to_clu_act.head()"
   ]
  },
  {
   "cell_type": "code",
   "execution_count": 50,
   "metadata": {
    "collapsed": false
   },
   "outputs": [
    {
     "name": "stderr",
     "output_type": "stream",
     "text": [
      "/Users/Ye/anaconda2/lib/python2.7/site-packages/ipykernel/__main__.py:2: FutureWarning: Assignment between structured arrays with different field names will change in numpy 1.13.\n",
      "\n",
      "Previously fields in the dst would be set to the value of the identically-named field in the src. In numpy 1.13 fields will instead be assigned 'by position': The Nth field of the dst will be set to the Nth field of the src array.\n",
      "\n",
      "See the release notes for details\n",
      "  from ipykernel import kernelapp as app\n"
     ]
    }
   ],
   "source": [
    "# #determine the number of clusters to use (for active)\n",
    "temp = users_to_clu_act_1.to_records().astype([('Reputation',float),('BadgeScoreTotal',float),('BadgeCount',float), ('ActiveBadge', float),('ActiveBadgeScore',float),('DownVotes', float),('UpVotes',float),('DurationInDays', float),('AvgDV',float),('AvgUV',float),('AvgBadgeC',float),('AvgBScore',float),('AvgRep',float)])\n",
    "reshape = temp.view(np.float64).reshape(temp.shape + (-1,))"
   ]
  },
  {
   "cell_type": "code",
   "execution_count": 51,
   "metadata": {
    "collapsed": false
   },
   "outputs": [],
   "source": [
    "# initial_act = [cluster.vq.kmeans(reshape, i) for i in range(1,6)] # initial stored \n",
    "# %store initial_act"
   ]
  },
  {
   "cell_type": "code",
   "execution_count": 52,
   "metadata": {
    "collapsed": false
   },
   "outputs": [
    {
     "data": {
      "text/plain": [
       "[<matplotlib.lines.Line2D at 0x13b8d9650>]"
      ]
     },
     "execution_count": 52,
     "metadata": {},
     "output_type": "execute_result"
    },
    {
     "data": {
      "image/png": "[encoded data removed]",
      "text/plain": [
       "<matplotlib.figure.Figure at 0x1116be4d0>"
      ]
     },
     "metadata": {},
     "output_type": "display_data"
    }
   ],
   "source": [
    "%store -r initial_act\n",
    "plt.plot([var for (cent,var) in initial_act]) "
   ]
  },
  {
   "cell_type": "code",
   "execution_count": 53,
   "metadata": {
    "collapsed": false
   },
   "outputs": [],
   "source": [
    "# # initialize and fit the cluster model\n",
    "# k_means_active = KMeans(init = 'k-means++', n_clusters=4, n_init=10) \n",
    "# # fitting the model\n",
    "# basic_active = k_means_active.fit(users_to_clu_act_1)"
   ]
  },
  {
   "cell_type": "code",
   "execution_count": 54,
   "metadata": {
    "collapsed": false
   },
   "outputs": [],
   "source": [
    "# %store basic_active"
   ]
  },
  {
   "cell_type": "code",
   "execution_count": 55,
   "metadata": {
    "collapsed": true
   },
   "outputs": [],
   "source": [
    "%store -r basic_active"
   ]
  },
  {
   "cell_type": "code",
   "execution_count": 56,
   "metadata": {
    "collapsed": false
   },
   "outputs": [
    {
     "data": {
      "text/plain": [
       "1.0    824623\n",
       "0.0      5217\n",
       "3.0       454\n",
       "2.0        49\n",
       "Name: ActiveLabel, dtype: int64"
      ]
     },
     "execution_count": 56,
     "metadata": {},
     "output_type": "execute_result"
    }
   ],
   "source": [
    "user_all[\"ActiveLabel\"] = pd.Series(basic_active.labels_) # attach the labels back to the original dataset \n",
    "user_all.ActiveLabel.value_counts()"
   ]
  },
  {
   "cell_type": "code",
   "execution_count": 57,
   "metadata": {
    "collapsed": true
   },
   "outputs": [],
   "source": [
    "user_all[\"ActiveLabel\"] = user_all[\"ActiveLabel\"].fillna(0)"
   ]
  },
  {
   "cell_type": "markdown",
   "metadata": {},
   "source": [
    "## GeoLocation of Active and Reputable Users"
   ]
  },
  {
   "cell_type": "code",
   "execution_count": 58,
   "metadata": {
    "collapsed": true
   },
   "outputs": [],
   "source": [
    "import geopy as gp\n",
    "from geopy.geocoders import Nominatim\n",
    "import gmplot"
   ]
  },
  {
   "cell_type": "code",
   "execution_count": 59,
   "metadata": {
    "collapsed": false
   },
   "outputs": [],
   "source": [
    "user_all[\"Label\"] = np.where(((user_all[\"RepLabel\"] != 0) | (user_all[\"ActiveLabel\"] != 0)), \"1\", \"0\")"
   ]
  },
  {
   "cell_type": "code",
   "execution_count": 60,
   "metadata": {
    "collapsed": true
   },
   "outputs": [],
   "source": [
    "user_all.set_index(\"UserID\")\n",
    "locations = user_all.where((user_all[\"Label\"] != \"0\") & (user_all[\"Location\"]!=\"0\"))[[\"UserID\", \"Location\"]].dropna()"
   ]
  },
  {
   "cell_type": "code",
   "execution_count": 61,
   "metadata": {
    "collapsed": false
   },
   "outputs": [
    {
     "data": {
      "text/html": [
       "<div>\n",
       "<table border=\"1\" class=\"dataframe\">\n",
       "  <thead>\n",
       "    <tr style=\"text-align: right;\">\n",
       "      <th></th>\n",
       "      <th>UserID</th>\n",
       "      <th>Location</th>\n",
       "    </tr>\n",
       "  </thead>\n",
       "  <tbody>\n",
       "    <tr>\n",
       "      <th>0</th>\n",
       "      <td>1.0</td>\n",
       "      <td>El Cerrito, CA</td>\n",
       "    </tr>\n",
       "    <tr>\n",
       "      <th>1</th>\n",
       "      <td>3.0</td>\n",
       "      <td>Johnson City, TN, United States</td>\n",
       "    </tr>\n",
       "    <tr>\n",
       "      <th>2</th>\n",
       "      <td>4.0</td>\n",
       "      <td>New York, NY</td>\n",
       "    </tr>\n",
       "    <tr>\n",
       "      <th>3</th>\n",
       "      <td>5.0</td>\n",
       "      <td>San Diego, CA</td>\n",
       "    </tr>\n",
       "    <tr>\n",
       "      <th>4</th>\n",
       "      <td>9.0</td>\n",
       "      <td>Oakland, CA</td>\n",
       "    </tr>\n",
       "  </tbody>\n",
       "</table>\n",
       "</div>"
      ],
      "text/plain": [
       "   UserID                         Location\n",
       "0     1.0                   El Cerrito, CA\n",
       "1     3.0  Johnson City, TN, United States\n",
       "2     4.0                     New York, NY\n",
       "3     5.0                    San Diego, CA\n",
       "4     9.0                      Oakland, CA"
      ]
     },
     "execution_count": 61,
     "metadata": {},
     "output_type": "execute_result"
    }
   ],
   "source": [
    "loc = locations[\"Location\"]\n",
    "locations.head()"
   ]
  },
  {
   "cell_type": "code",
   "execution_count": 62,
   "metadata": {
    "collapsed": false
   },
   "outputs": [],
   "source": [
    "# getting the location of the users \n",
    "# for i in locations[\"Location\"]:\n",
    "#     geoloc.append(Nominatim().geocode(i, timeout = 10))"
   ]
  },
  {
   "cell_type": "code",
   "execution_count": 63,
   "metadata": {
    "collapsed": false
   },
   "outputs": [],
   "source": [
    "# lat = []\n",
    "# lon = []\n",
    "# lat_nadrop = []\n",
    "# lon_nadrop = []\n",
    "# for i in geoloc:\n",
    "#     if i:\n",
    "#         lat.append(i.latitude)\n",
    "#         lon.append(i.longitude)\n",
    "#         lat_nadrop.append(i.latitude)\n",
    "#         lon_nadrop.append(i.longitude)\n",
    "#     else:\n",
    "#         lat.append(None)\n",
    "#         lon.append(None)"
   ]
  },
  {
   "cell_type": "code",
   "execution_count": 64,
   "metadata": {
    "collapsed": false,
    "scrolled": true
   },
   "outputs": [],
   "source": [
    "# %store lat\n",
    "# %store lon\n",
    "# %store geoloc\n",
    "# %store lat_nadrop\n",
    "# %store lon_nadrop"
   ]
  },
  {
   "cell_type": "code",
   "execution_count": 65,
   "metadata": {
    "collapsed": false
   },
   "outputs": [],
   "source": [
    "%store -r lat\n",
    "%store -r lon\n",
    "%store -r geoloc\n",
    "%store -r lat_nadrop\n",
    "%store -r lon_nadrop"
   ]
  },
  {
   "cell_type": "code",
   "execution_count": 66,
   "metadata": {
    "collapsed": false
   },
   "outputs": [],
   "source": [
    "user_all[\"GeoLocation\"] = pd.Series(geoloc, index=loc.index)\n",
    "user_all[\"GeoLocation_Lat\"] = pd.Series(lat, index=loc.index)\n",
    "user_all[\"GeoLocation_Lon\"] = pd.Series(lon, index=loc.index)"
   ]
  },
  {
   "cell_type": "code",
   "execution_count": 67,
   "metadata": {
    "collapsed": false
   },
   "outputs": [],
   "source": [
    "#Plot the geoheatmap\n",
    "gmap = gmplot.GoogleMapPlotter(37.428, -122.145, 16)\n",
    "gmap.heatmap(lat_nadrop, lon_nadrop, dissipating=False)\n",
    "gmap.draw(\"ActiveRepUsers.html\")"
   ]
  },
  {
   "cell_type": "code",
   "execution_count": 68,
   "metadata": {
    "collapsed": false,
    "scrolled": true
   },
   "outputs": [
    {
     "data": {
      "text/html": [
       "<div>\n",
       "<table border=\"1\" class=\"dataframe\">\n",
       "  <thead>\n",
       "    <tr style=\"text-align: right;\">\n",
       "      <th></th>\n",
       "      <th>Score_x</th>\n",
       "      <th>UserID</th>\n",
       "      <th>ansCounts</th>\n",
       "      <th>AvgAnsScore</th>\n",
       "      <th>Score_y</th>\n",
       "      <th>qnsCounts</th>\n",
       "      <th>AvgQnsScore</th>\n",
       "      <th>BadgeScoreTotal</th>\n",
       "      <th>Badges</th>\n",
       "      <th>ReputableBadge</th>\n",
       "      <th>...</th>\n",
       "      <th>AvgUV</th>\n",
       "      <th>AvgRep</th>\n",
       "      <th>AvgBadgeC</th>\n",
       "      <th>AvgBScore</th>\n",
       "      <th>RepLabel</th>\n",
       "      <th>ActiveLabel</th>\n",
       "      <th>Label</th>\n",
       "      <th>GeoLocation</th>\n",
       "      <th>GeoLocation_Lat</th>\n",
       "      <th>GeoLocation_Lon</th>\n",
       "    </tr>\n",
       "  </thead>\n",
       "  <tbody>\n",
       "    <tr>\n",
       "      <th>0</th>\n",
       "      <td>232.0</td>\n",
       "      <td>1.0</td>\n",
       "      <td>13.0</td>\n",
       "      <td>17.846154</td>\n",
       "      <td>58.0</td>\n",
       "      <td>3.0</td>\n",
       "      <td>19.333333</td>\n",
       "      <td>472</td>\n",
       "      <td>[Nice Answer, Good Answer, Disciplined, Notabl...</td>\n",
       "      <td>112</td>\n",
       "      <td>...</td>\n",
       "      <td>1.088641</td>\n",
       "      <td>13.038739</td>\n",
       "      <td>0.088313</td>\n",
       "      <td>0.154957</td>\n",
       "      <td>3</td>\n",
       "      <td>0.0</td>\n",
       "      <td>1</td>\n",
       "      <td>(El Cerrito, Contra Costa County, California, ...</td>\n",
       "      <td>37.915406</td>\n",
       "      <td>-122.301411</td>\n",
       "    </tr>\n",
       "    <tr>\n",
       "      <th>1</th>\n",
       "      <td>71.0</td>\n",
       "      <td>3.0</td>\n",
       "      <td>6.0</td>\n",
       "      <td>11.833333</td>\n",
       "      <td>NaN</td>\n",
       "      <td>NaN</td>\n",
       "      <td>NaN</td>\n",
       "      <td>180</td>\n",
       "      <td>[Civic Duty, Nice Answer, Scholar, Citizen Pat...</td>\n",
       "      <td>25</td>\n",
       "      <td>...</td>\n",
       "      <td>2.134294</td>\n",
       "      <td>4.063217</td>\n",
       "      <td>0.037995</td>\n",
       "      <td>0.058958</td>\n",
       "      <td>0</td>\n",
       "      <td>1.0</td>\n",
       "      <td>1</td>\n",
       "      <td>(NYC, New York, United States of America, (40....</td>\n",
       "      <td>40.730599</td>\n",
       "      <td>-73.986581</td>\n",
       "    </tr>\n",
       "    <tr>\n",
       "      <th>2</th>\n",
       "      <td>52.0</td>\n",
       "      <td>4.0</td>\n",
       "      <td>19.0</td>\n",
       "      <td>2.736842</td>\n",
       "      <td>79.0</td>\n",
       "      <td>3.0</td>\n",
       "      <td>26.333333</td>\n",
       "      <td>249</td>\n",
       "      <td>[Guru, Nice Answer, Nice Question, Popular Que...</td>\n",
       "      <td>57</td>\n",
       "      <td>...</td>\n",
       "      <td>0.255075</td>\n",
       "      <td>8.722331</td>\n",
       "      <td>0.050753</td>\n",
       "      <td>0.081532</td>\n",
       "      <td>3</td>\n",
       "      <td>0.0</td>\n",
       "      <td>1</td>\n",
       "      <td>(San Diego, San Diego County, California, Unit...</td>\n",
       "      <td>32.717421</td>\n",
       "      <td>-117.162771</td>\n",
       "    </tr>\n",
       "    <tr>\n",
       "      <th>3</th>\n",
       "      <td>207.0</td>\n",
       "      <td>5.0</td>\n",
       "      <td>26.0</td>\n",
       "      <td>7.961538</td>\n",
       "      <td>25.0</td>\n",
       "      <td>4.0</td>\n",
       "      <td>6.250000</td>\n",
       "      <td>412</td>\n",
       "      <td>[Good Answer, Nice Question, Guru, Nice Answer...</td>\n",
       "      <td>106</td>\n",
       "      <td>...</td>\n",
       "      <td>0.255166</td>\n",
       "      <td>11.489997</td>\n",
       "      <td>0.091177</td>\n",
       "      <td>0.135126</td>\n",
       "      <td>3</td>\n",
       "      <td>0.0</td>\n",
       "      <td>1</td>\n",
       "      <td>(Raleigh, Wake County, North Carolina, United ...</td>\n",
       "      <td>35.780398</td>\n",
       "      <td>-78.639099</td>\n",
       "    </tr>\n",
       "    <tr>\n",
       "      <th>4</th>\n",
       "      <td>21.0</td>\n",
       "      <td>9.0</td>\n",
       "      <td>6.0</td>\n",
       "      <td>3.500000</td>\n",
       "      <td>2.0</td>\n",
       "      <td>1.0</td>\n",
       "      <td>2.000000</td>\n",
       "      <td>121</td>\n",
       "      <td>[Good Answer, Organizer, Good Question, Popula...</td>\n",
       "      <td>18</td>\n",
       "      <td>...</td>\n",
       "      <td>0.014422</td>\n",
       "      <td>3.757784</td>\n",
       "      <td>0.024582</td>\n",
       "      <td>0.039659</td>\n",
       "      <td>0</td>\n",
       "      <td>1.0</td>\n",
       "      <td>1</td>\n",
       "      <td>(Issaquah, King County, Washington, United Sta...</td>\n",
       "      <td>47.534878</td>\n",
       "      <td>-122.043297</td>\n",
       "    </tr>\n",
       "  </tbody>\n",
       "</table>\n",
       "<p>5 rows × 38 columns</p>\n",
       "</div>"
      ],
      "text/plain": [
       "   Score_x  UserID  ansCounts  AvgAnsScore  Score_y  qnsCounts  AvgQnsScore  \\\n",
       "0    232.0     1.0       13.0    17.846154     58.0        3.0    19.333333   \n",
       "1     71.0     3.0        6.0    11.833333      NaN        NaN          NaN   \n",
       "2     52.0     4.0       19.0     2.736842     79.0        3.0    26.333333   \n",
       "3    207.0     5.0       26.0     7.961538     25.0        4.0     6.250000   \n",
       "4     21.0     9.0        6.0     3.500000      2.0        1.0     2.000000   \n",
       "\n",
       "   BadgeScoreTotal                                             Badges  \\\n",
       "0              472  [Nice Answer, Good Answer, Disciplined, Notabl...   \n",
       "1              180  [Civic Duty, Nice Answer, Scholar, Citizen Pat...   \n",
       "2              249  [Guru, Nice Answer, Nice Question, Popular Que...   \n",
       "3              412  [Good Answer, Nice Question, Guru, Nice Answer...   \n",
       "4              121  [Good Answer, Organizer, Good Question, Popula...   \n",
       "\n",
       "   ReputableBadge       ...           AvgUV     AvgRep  AvgBadgeC  AvgBScore  \\\n",
       "0             112       ...        1.088641  13.038739   0.088313   0.154957   \n",
       "1              25       ...        2.134294   4.063217   0.037995   0.058958   \n",
       "2              57       ...        0.255075   8.722331   0.050753   0.081532   \n",
       "3             106       ...        0.255166  11.489997   0.091177   0.135126   \n",
       "4              18       ...        0.014422   3.757784   0.024582   0.039659   \n",
       "\n",
       "   RepLabel  ActiveLabel  Label  \\\n",
       "0         3          0.0      1   \n",
       "1         0          1.0      1   \n",
       "2         3          0.0      1   \n",
       "3         3          0.0      1   \n",
       "4         0          1.0      1   \n",
       "\n",
       "                                         GeoLocation GeoLocation_Lat  \\\n",
       "0  (El Cerrito, Contra Costa County, California, ...       37.915406   \n",
       "1  (NYC, New York, United States of America, (40....       40.730599   \n",
       "2  (San Diego, San Diego County, California, Unit...       32.717421   \n",
       "3  (Raleigh, Wake County, North Carolina, United ...       35.780398   \n",
       "4  (Issaquah, King County, Washington, United Sta...       47.534878   \n",
       "\n",
       "  GeoLocation_Lon  \n",
       "0     -122.301411  \n",
       "1      -73.986581  \n",
       "2     -117.162771  \n",
       "3      -78.639099  \n",
       "4     -122.043297  \n",
       "\n",
       "[5 rows x 38 columns]"
      ]
     },
     "execution_count": 68,
     "metadata": {},
     "output_type": "execute_result"
    }
   ],
   "source": [
    "user_all.head()"
   ]
  },
  {
   "cell_type": "code",
   "execution_count": null,
   "metadata": {
    "collapsed": true
   },
   "outputs": [],
   "source": []
  }
 ],
 "metadata": {
  "anaconda-cloud": {},
  "kernelspec": {
   "display_name": "Python [Root]",
   "language": "python",
   "name": "Python [Root]"
  },
  "language_info": {
   "codemirror_mode": {
    "name": "ipython",
    "version": 2
   },
   "file_extension": ".py",
   "mimetype": "text/x-python",
   "name": "python",
   "nbconvert_exporter": "python",
   "pygments_lexer": "ipython2",
   "version": "2.7.12"
  }
 },
 "nbformat": 4,
 "nbformat_minor": 2
}
